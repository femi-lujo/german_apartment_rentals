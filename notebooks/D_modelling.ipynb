{
 "cells": [
  {
   "cell_type": "markdown",
   "metadata": {},
   "source": [
    "# D. Modelling<a id = 'C_Pre-processing'></a>"
   ]
  },
  {
   "cell_type": "markdown",
   "metadata": {},
   "source": [
    "# 1. Contents<a id='1._Contents'></a>\n",
    "* [D. Modelling](#C_Pre-processing)\n",
    "* [2. Objective](#2_Objective)\n",
    "    * [2.1 Tasks](#2.1_Tasks)\n",
    "* [3. Imports](#3_Imports)\n",
    "* [4. Load Data](#4._Load_Data)\n",
    "* [5. Revising and Creating New Features](#5._Revising_and_Creating_New_Features)\n",
    "    * [5.1 Revising the yearBuilt feature](#5.1_Revising_the_yearBuilt_feature)\n",
    "    * [5.2 Creating a new feature for state rent clusters](#5.2_Creating_a_new_feature_for_state_rent_clusters)\n",
    "* [6. Create a Dataframe for the features and target variable](#6._Create_a_Dataframe_for_the_features_and_target_variable)\n",
    "* [7. Develop an Imputation Strategy](#7._Develop_an_Imputation_Strategy)\n",
    "* [8. Create Train-Test Split](#8._Create_Train-Test_Split)\n",
    "* [9. Create One Hot Encoding Object](#9._Create_One_Hot_Encoding_Object)\n",
    "* [10. Create Scaling Object](#10._Create_Scaling_Object)\n",
    "* [11. Modelling](#11._Modelling)\n",
    "* [12. Assessing Models by Pre-selecting Features](#12._Assessing_Models_by_Pre-selecting_Features)\n",
    "* [13.Hyper parameter tuning on ridge learner](#13._Hyper_parameter_tuning_on_ridge_learner)\n",
    "* [14. XGBoost Model](#14._XGBoost_Model)\n",
    "* [15. Model Selection ](#15._Model_Selection)\n",
    "* [16. Save Best Model](#16._Save_best_model)"
   ]
  },
  {
   "cell_type": "markdown",
   "metadata": {},
   "source": [
    "# 2. Objective<a id = '2_Objective'></a>"
   ]
  },
  {
   "cell_type": "markdown",
   "metadata": {},
   "source": [
    "- Create a predictive model for rentals data"
   ]
  },
  {
   "cell_type": "markdown",
   "metadata": {},
   "source": [
    "# 3. Imports<a id = '3_Imports'></a>"
   ]
  },
  {
   "cell_type": "code",
   "execution_count": 274,
   "metadata": {},
   "outputs": [],
   "source": [
    "import numpy as np\n",
    "import pandas as pd\n",
    "import matplotlib.pyplot as plt\n",
    "import seaborn as sns\n",
    "import os\n",
    "from sklearn.model_selection import train_test_split\n",
    "from datetime import datetime as dt\n",
    "from sklearn.impute import SimpleImputer\n",
    "from sklearn.linear_model import LinearRegression, Ridge, Lasso\n",
    "from sklearn.model_selection import cross_val_score, GridSearchCV, RandomizedSearchCV, cross_validate\n",
    "from sklearn.pipeline import Pipeline\n",
    "from sklearn.preprocessing import OneHotEncoder, StandardScaler, LabelEncoder, OrdinalEncoder\n",
    "from sklearn.feature_selection import SelectKBest, f_regression,SelectPercentile\n",
    "import xgboost as xgb\n",
    "from sklearn.ensemble import RandomForestRegressor\n",
    "from sklearn.svm import SVR\n",
    "from sklearn_pandas import DataFrameMapper\n",
    "from sklearn.pipeline import FeatureUnion\n",
    "from xgboost import plot_importance\n",
    "from sklearn.metrics import mean_squared_error, r2_score, mean_absolute_error\n",
    "import sklearn.metrics\n",
    "import eli5\n",
    "import pickle"
   ]
  },
  {
   "cell_type": "markdown",
   "metadata": {},
   "source": [
    "# 4. Load Data<a id='4._Load_Data'></a>"
   ]
  },
  {
   "cell_type": "code",
   "execution_count": 2,
   "metadata": {},
   "outputs": [],
   "source": [
    "read = pd.read_csv('..\\data\\interim\\\\rentals_process.csv', parse_dates = ['yearConstructed', 'date'])"
   ]
  },
  {
   "cell_type": "code",
   "execution_count": 3,
   "metadata": {},
   "outputs": [],
   "source": [
    "rentals = read.copy()"
   ]
  },
  {
   "cell_type": "code",
   "execution_count": 4,
   "metadata": {
    "scrolled": true
   },
   "outputs": [
    {
     "data": {
      "text/plain": [
       "(266220, 37)"
      ]
     },
     "execution_count": 4,
     "metadata": {},
     "output_type": "execute_result"
    }
   ],
   "source": [
    "rentals.shape"
   ]
  },
  {
   "cell_type": "code",
   "execution_count": 5,
   "metadata": {
    "scrolled": true
   },
   "outputs": [
    {
     "data": {
      "text/html": [
       "<div>\n",
       "<style scoped>\n",
       "    .dataframe tbody tr th:only-of-type {\n",
       "        vertical-align: middle;\n",
       "    }\n",
       "\n",
       "    .dataframe tbody tr th {\n",
       "        vertical-align: top;\n",
       "    }\n",
       "\n",
       "    .dataframe thead th {\n",
       "        text-align: right;\n",
       "    }\n",
       "</style>\n",
       "<table border=\"1\" class=\"dataframe\">\n",
       "  <thead>\n",
       "    <tr style=\"text-align: right;\">\n",
       "      <th></th>\n",
       "      <th>state</th>\n",
       "      <th>serviceCharge</th>\n",
       "      <th>heatingType</th>\n",
       "      <th>telekomTvOffer</th>\n",
       "      <th>newlyConst</th>\n",
       "      <th>balcony</th>\n",
       "      <th>telekomUploadSpeed</th>\n",
       "      <th>yearConstructed</th>\n",
       "      <th>firingTypes</th>\n",
       "      <th>hasKitchen</th>\n",
       "      <th>...</th>\n",
       "      <th>sqm_per_room</th>\n",
       "      <th>area_km2</th>\n",
       "      <th>population_2019</th>\n",
       "      <th>population_per_km2</th>\n",
       "      <th>gdp_per_capita_2018</th>\n",
       "      <th>hdi</th>\n",
       "      <th>total_state_listings</th>\n",
       "      <th>total_state_sqm</th>\n",
       "      <th>listings_per_1000capita</th>\n",
       "      <th>listings_per_100sqm</th>\n",
       "    </tr>\n",
       "  </thead>\n",
       "  <tbody>\n",
       "    <tr>\n",
       "      <th>0</th>\n",
       "      <td>Nordrhein_Westfalen</td>\n",
       "      <td>245.0</td>\n",
       "      <td>central_heating</td>\n",
       "      <td>ONE_YEAR_FREE</td>\n",
       "      <td>False</td>\n",
       "      <td>False</td>\n",
       "      <td>10.0</td>\n",
       "      <td>1965-01-01</td>\n",
       "      <td>oil</td>\n",
       "      <td>False</td>\n",
       "      <td>...</td>\n",
       "      <td>21.50</td>\n",
       "      <td>34085</td>\n",
       "      <td>17932651</td>\n",
       "      <td>526</td>\n",
       "      <td>39678</td>\n",
       "      <td>0.936</td>\n",
       "      <td>62069</td>\n",
       "      <td>4615660.71</td>\n",
       "      <td>3.461228</td>\n",
       "      <td>1.344748</td>\n",
       "    </tr>\n",
       "    <tr>\n",
       "      <th>1</th>\n",
       "      <td>Nordrhein_Westfalen</td>\n",
       "      <td>95.0</td>\n",
       "      <td>self_contained_central_heating</td>\n",
       "      <td>ONE_YEAR_FREE</td>\n",
       "      <td>False</td>\n",
       "      <td>False</td>\n",
       "      <td>40.0</td>\n",
       "      <td>1953-01-01</td>\n",
       "      <td>gas</td>\n",
       "      <td>False</td>\n",
       "      <td>...</td>\n",
       "      <td>24.00</td>\n",
       "      <td>34085</td>\n",
       "      <td>17932651</td>\n",
       "      <td>526</td>\n",
       "      <td>39678</td>\n",
       "      <td>0.936</td>\n",
       "      <td>62069</td>\n",
       "      <td>4615660.71</td>\n",
       "      <td>3.461228</td>\n",
       "      <td>1.344748</td>\n",
       "    </tr>\n",
       "    <tr>\n",
       "      <th>2</th>\n",
       "      <td>Nordrhein_Westfalen</td>\n",
       "      <td>200.0</td>\n",
       "      <td>central_heating</td>\n",
       "      <td>ONE_YEAR_FREE</td>\n",
       "      <td>False</td>\n",
       "      <td>False</td>\n",
       "      <td>40.0</td>\n",
       "      <td>1951-01-01</td>\n",
       "      <td>oil</td>\n",
       "      <td>False</td>\n",
       "      <td>...</td>\n",
       "      <td>30.86</td>\n",
       "      <td>34085</td>\n",
       "      <td>17932651</td>\n",
       "      <td>526</td>\n",
       "      <td>39678</td>\n",
       "      <td>0.936</td>\n",
       "      <td>62069</td>\n",
       "      <td>4615660.71</td>\n",
       "      <td>3.461228</td>\n",
       "      <td>1.344748</td>\n",
       "    </tr>\n",
       "    <tr>\n",
       "      <th>3</th>\n",
       "      <td>Nordrhein_Westfalen</td>\n",
       "      <td>215.0</td>\n",
       "      <td>gas_heating</td>\n",
       "      <td>ONE_YEAR_FREE</td>\n",
       "      <td>True</td>\n",
       "      <td>True</td>\n",
       "      <td>2.4</td>\n",
       "      <td>2018-01-01</td>\n",
       "      <td>gas</td>\n",
       "      <td>False</td>\n",
       "      <td>...</td>\n",
       "      <td>29.00</td>\n",
       "      <td>34085</td>\n",
       "      <td>17932651</td>\n",
       "      <td>526</td>\n",
       "      <td>39678</td>\n",
       "      <td>0.936</td>\n",
       "      <td>62069</td>\n",
       "      <td>4615660.71</td>\n",
       "      <td>3.461228</td>\n",
       "      <td>1.344748</td>\n",
       "    </tr>\n",
       "    <tr>\n",
       "      <th>4</th>\n",
       "      <td>Nordrhein_Westfalen</td>\n",
       "      <td>121.0</td>\n",
       "      <td>central_heating</td>\n",
       "      <td>ONE_YEAR_FREE</td>\n",
       "      <td>False</td>\n",
       "      <td>True</td>\n",
       "      <td>40.0</td>\n",
       "      <td>1914-01-01</td>\n",
       "      <td>gas</td>\n",
       "      <td>False</td>\n",
       "      <td>...</td>\n",
       "      <td>26.00</td>\n",
       "      <td>34085</td>\n",
       "      <td>17932651</td>\n",
       "      <td>526</td>\n",
       "      <td>39678</td>\n",
       "      <td>0.936</td>\n",
       "      <td>62069</td>\n",
       "      <td>4615660.71</td>\n",
       "      <td>3.461228</td>\n",
       "      <td>1.344748</td>\n",
       "    </tr>\n",
       "  </tbody>\n",
       "</table>\n",
       "<p>5 rows × 37 columns</p>\n",
       "</div>"
      ],
      "text/plain": [
       "                 state  serviceCharge                     heatingType  \\\n",
       "0  Nordrhein_Westfalen          245.0                 central_heating   \n",
       "1  Nordrhein_Westfalen           95.0  self_contained_central_heating   \n",
       "2  Nordrhein_Westfalen          200.0                 central_heating   \n",
       "3  Nordrhein_Westfalen          215.0                     gas_heating   \n",
       "4  Nordrhein_Westfalen          121.0                 central_heating   \n",
       "\n",
       "  telekomTvOffer  newlyConst  balcony  telekomUploadSpeed yearConstructed  \\\n",
       "0  ONE_YEAR_FREE       False    False                10.0      1965-01-01   \n",
       "1  ONE_YEAR_FREE       False    False                40.0      1953-01-01   \n",
       "2  ONE_YEAR_FREE       False    False                40.0      1951-01-01   \n",
       "3  ONE_YEAR_FREE        True     True                 2.4      2018-01-01   \n",
       "4  ONE_YEAR_FREE       False     True                40.0      1914-01-01   \n",
       "\n",
       "  firingTypes  hasKitchen  ...  sqm_per_room  area_km2  population_2019  \\\n",
       "0         oil       False  ...         21.50     34085         17932651   \n",
       "1         gas       False  ...         24.00     34085         17932651   \n",
       "2         oil       False  ...         30.86     34085         17932651   \n",
       "3         gas       False  ...         29.00     34085         17932651   \n",
       "4         gas       False  ...         26.00     34085         17932651   \n",
       "\n",
       "  population_per_km2 gdp_per_capita_2018    hdi  total_state_listings  \\\n",
       "0                526               39678  0.936                 62069   \n",
       "1                526               39678  0.936                 62069   \n",
       "2                526               39678  0.936                 62069   \n",
       "3                526               39678  0.936                 62069   \n",
       "4                526               39678  0.936                 62069   \n",
       "\n",
       "  total_state_sqm  listings_per_1000capita  listings_per_100sqm  \n",
       "0      4615660.71                 3.461228             1.344748  \n",
       "1      4615660.71                 3.461228             1.344748  \n",
       "2      4615660.71                 3.461228             1.344748  \n",
       "3      4615660.71                 3.461228             1.344748  \n",
       "4      4615660.71                 3.461228             1.344748  \n",
       "\n",
       "[5 rows x 37 columns]"
      ]
     },
     "execution_count": 5,
     "metadata": {},
     "output_type": "execute_result"
    }
   ],
   "source": [
    "rentals.head()"
   ]
  },
  {
   "cell_type": "code",
   "execution_count": 6,
   "metadata": {
    "scrolled": false
   },
   "outputs": [
    {
     "name": "stdout",
     "output_type": "stream",
     "text": [
      "<class 'pandas.core.frame.DataFrame'>\n",
      "RangeIndex: 266220 entries, 0 to 266219\n",
      "Data columns (total 37 columns):\n",
      " #   Column                   Non-Null Count   Dtype         \n",
      "---  ------                   --------------   -----         \n",
      " 0   state                    266220 non-null  object        \n",
      " 1   serviceCharge            259490 non-null  float64       \n",
      " 2   heatingType              221782 non-null  object        \n",
      " 3   telekomTvOffer           233938 non-null  object        \n",
      " 4   newlyConst               266220 non-null  bool          \n",
      " 5   balcony                  266220 non-null  bool          \n",
      " 6   telekomUploadSpeed       233208 non-null  float64       \n",
      " 7   yearConstructed          209427 non-null  datetime64[ns]\n",
      " 8   firingTypes              209806 non-null  object        \n",
      " 9   hasKitchen               266220 non-null  bool          \n",
      " 10  cellar                   266220 non-null  bool          \n",
      " 11  rent                     266220 non-null  float64       \n",
      " 12  livingSpace              266220 non-null  float64       \n",
      " 13  condition                198023 non-null  object        \n",
      " 14  interiorQual             154634 non-null  object        \n",
      " 15  petsAllowed              152725 non-null  object        \n",
      " 16  lift                     266220 non-null  bool          \n",
      " 17  typeOfFlat               229897 non-null  object        \n",
      " 18  zip_code                 266220 non-null  int64         \n",
      " 19  noRooms                  266220 non-null  float64       \n",
      " 20  thermalChar              160870 non-null  float64       \n",
      " 21  numberOfFloors           169355 non-null  float64       \n",
      " 22  garden                   266220 non-null  bool          \n",
      " 23  district                 266220 non-null  object        \n",
      " 24  town_municipality        266220 non-null  object        \n",
      " 25  date                     266220 non-null  datetime64[ns]\n",
      " 26  rent_per_sqm             266220 non-null  float64       \n",
      " 27  sqm_per_room             266220 non-null  float64       \n",
      " 28  area_km2                 266220 non-null  int64         \n",
      " 29  population_2019          266220 non-null  int64         \n",
      " 30  population_per_km2       266220 non-null  int64         \n",
      " 31  gdp_per_capita_2018      266220 non-null  int64         \n",
      " 32  hdi                      266220 non-null  float64       \n",
      " 33  total_state_listings     266220 non-null  int64         \n",
      " 34  total_state_sqm          266220 non-null  float64       \n",
      " 35  listings_per_1000capita  266220 non-null  float64       \n",
      " 36  listings_per_100sqm      266220 non-null  float64       \n",
      "dtypes: bool(6), datetime64[ns](2), float64(13), int64(6), object(10)\n",
      "memory usage: 64.5+ MB\n"
     ]
    }
   ],
   "source": [
    "rentals.info()"
   ]
  },
  {
   "cell_type": "markdown",
   "metadata": {},
   "source": [
    "# 5. Revising and Creating New Features<a id='5._Revising_and_Creating_New_Features'></a>"
   ]
  },
  {
   "cell_type": "markdown",
   "metadata": {},
   "source": [
    "## 5.1 Revising the yearBuilt feature<a id='5.1_Revising_the_yearBuilt_features'></a>"
   ]
  },
  {
   "cell_type": "code",
   "execution_count": 7,
   "metadata": {},
   "outputs": [],
   "source": [
    "#Convert yearBuilt feature to numeric format\n",
    "rentals['yearBuilt'] = rentals.yearConstructed.dt.year"
   ]
  },
  {
   "cell_type": "markdown",
   "metadata": {},
   "source": [
    "## 5.2 Creating a new feature for state rent clusters<a id='5.2_Creating_a_new_feature_for_state_rent_clusters'></a> "
   ]
  },
  {
   "cell_type": "code",
   "execution_count": 8,
   "metadata": {},
   "outputs": [],
   "source": [
    "#Create three lists of state categories according to their median rent seen during exploratory data analysis\n",
    "high_rent = ['Berlin', 'Hamburg']\n",
    "medium_rent = ['Baden_Württemberg', 'Bayern', 'Hessen']\n",
    "low_rent = ['Schleswig_Holstein', 'Thüringen', 'Niedersachsen', 'Saarland', 'Bremen', 'Sachsen',\\\n",
    "                  'Mecklenburg_Vorpommern', 'Sachsen_Anhalt', 'Brandenburg', 'Nordrhein_Westfalen', 'Rheinland_Pfalz']"
   ]
  },
  {
   "cell_type": "code",
   "execution_count": 9,
   "metadata": {
    "scrolled": true
   },
   "outputs": [
    {
     "data": {
      "text/plain": [
       "{'Berlin': 'high_rent_state',\n",
       " 'Hamburg': 'high_rent_state',\n",
       " 'Baden_Württemberg': 'medium_rent_state',\n",
       " 'Bayern': 'medium_rent_state',\n",
       " 'Hessen': 'medium_rent_state',\n",
       " 'Schleswig_Holstein': 'low_rent_state',\n",
       " 'Thüringen': 'low_rent_state',\n",
       " 'Niedersachsen': 'low_rent_state',\n",
       " 'Saarland': 'low_rent_state',\n",
       " 'Bremen': 'low_rent_state',\n",
       " 'Sachsen': 'low_rent_state',\n",
       " 'Mecklenburg_Vorpommern': 'low_rent_state',\n",
       " 'Sachsen_Anhalt': 'low_rent_state',\n",
       " 'Brandenburg': 'low_rent_state',\n",
       " 'Nordrhein_Westfalen': 'low_rent_state',\n",
       " 'Rheinland_Pfalz': 'low_rent_state'}"
      ]
     },
     "execution_count": 9,
     "metadata": {},
     "output_type": "execute_result"
    }
   ],
   "source": [
    "#Create a dictionary for mapping state to rent cluster\n",
    "rent_mapping = {}\n",
    "for state in high_rent:\n",
    "    rent_mapping[state] = 'high_rent_state'\n",
    "    \n",
    "for state in medium_rent:\n",
    "    rent_mapping[state] = 'medium_rent_state'\n",
    "\n",
    "for state in low_rent:\n",
    "    rent_mapping[state] = 'low_rent_state'\n",
    "\n",
    "rent_mapping"
   ]
  },
  {
   "cell_type": "code",
   "execution_count": 10,
   "metadata": {},
   "outputs": [
    {
     "data": {
      "text/html": [
       "<div>\n",
       "<style scoped>\n",
       "    .dataframe tbody tr th:only-of-type {\n",
       "        vertical-align: middle;\n",
       "    }\n",
       "\n",
       "    .dataframe tbody tr th {\n",
       "        vertical-align: top;\n",
       "    }\n",
       "\n",
       "    .dataframe thead th {\n",
       "        text-align: right;\n",
       "    }\n",
       "</style>\n",
       "<table border=\"1\" class=\"dataframe\">\n",
       "  <thead>\n",
       "    <tr style=\"text-align: right;\">\n",
       "      <th></th>\n",
       "      <th>state</th>\n",
       "      <th>rent</th>\n",
       "      <th>state_rent_class</th>\n",
       "    </tr>\n",
       "  </thead>\n",
       "  <tbody>\n",
       "    <tr>\n",
       "      <th>105293</th>\n",
       "      <td>Sachsen</td>\n",
       "      <td>432.00</td>\n",
       "      <td>low_rent_state</td>\n",
       "    </tr>\n",
       "    <tr>\n",
       "      <th>239913</th>\n",
       "      <td>Sachsen_Anhalt</td>\n",
       "      <td>337.82</td>\n",
       "      <td>low_rent_state</td>\n",
       "    </tr>\n",
       "    <tr>\n",
       "      <th>222769</th>\n",
       "      <td>Sachsen_Anhalt</td>\n",
       "      <td>274.00</td>\n",
       "      <td>low_rent_state</td>\n",
       "    </tr>\n",
       "    <tr>\n",
       "      <th>240309</th>\n",
       "      <td>Sachsen_Anhalt</td>\n",
       "      <td>560.00</td>\n",
       "      <td>low_rent_state</td>\n",
       "    </tr>\n",
       "    <tr>\n",
       "      <th>33625</th>\n",
       "      <td>Nordrhein_Westfalen</td>\n",
       "      <td>440.00</td>\n",
       "      <td>low_rent_state</td>\n",
       "    </tr>\n",
       "  </tbody>\n",
       "</table>\n",
       "</div>"
      ],
      "text/plain": [
       "                      state    rent state_rent_class\n",
       "105293              Sachsen  432.00   low_rent_state\n",
       "239913       Sachsen_Anhalt  337.82   low_rent_state\n",
       "222769       Sachsen_Anhalt  274.00   low_rent_state\n",
       "240309       Sachsen_Anhalt  560.00   low_rent_state\n",
       "33625   Nordrhein_Westfalen  440.00   low_rent_state"
      ]
     },
     "execution_count": 10,
     "metadata": {},
     "output_type": "execute_result"
    }
   ],
   "source": [
    "#Create new feature - state_rent_class - for each observation\n",
    "rentals['state_rent_class'] = rentals['state'].replace(rent_mapping)\n",
    "rentals.loc[:, ['state', 'rent', 'state_rent_class']].sample(5)"
   ]
  },
  {
   "cell_type": "markdown",
   "metadata": {},
   "source": [
    "# 6. Create a Dataframe For  Features and Target Variable<a id='5.6._Create_a_Dataframe_for_the_features_and_target_variable'></a> "
   ]
  },
  {
   "cell_type": "code",
   "execution_count": 11,
   "metadata": {
    "scrolled": true
   },
   "outputs": [
    {
     "data": {
      "text/html": [
       "<div>\n",
       "<style scoped>\n",
       "    .dataframe tbody tr th:only-of-type {\n",
       "        vertical-align: middle;\n",
       "    }\n",
       "\n",
       "    .dataframe tbody tr th {\n",
       "        vertical-align: top;\n",
       "    }\n",
       "\n",
       "    .dataframe thead th {\n",
       "        text-align: right;\n",
       "    }\n",
       "</style>\n",
       "<table border=\"1\" class=\"dataframe\">\n",
       "  <thead>\n",
       "    <tr style=\"text-align: right;\">\n",
       "      <th></th>\n",
       "      <th>state</th>\n",
       "      <th>serviceCharge</th>\n",
       "      <th>heatingType</th>\n",
       "      <th>newlyConst</th>\n",
       "      <th>balcony</th>\n",
       "      <th>firingTypes</th>\n",
       "      <th>hasKitchen</th>\n",
       "      <th>cellar</th>\n",
       "      <th>livingSpace</th>\n",
       "      <th>condition</th>\n",
       "      <th>...</th>\n",
       "      <th>population_2019</th>\n",
       "      <th>population_per_km2</th>\n",
       "      <th>gdp_per_capita_2018</th>\n",
       "      <th>hdi</th>\n",
       "      <th>total_state_listings</th>\n",
       "      <th>total_state_sqm</th>\n",
       "      <th>listings_per_1000capita</th>\n",
       "      <th>listings_per_100sqm</th>\n",
       "      <th>yearBuilt</th>\n",
       "      <th>state_rent_class</th>\n",
       "    </tr>\n",
       "  </thead>\n",
       "  <tbody>\n",
       "    <tr>\n",
       "      <th>0</th>\n",
       "      <td>Nordrhein_Westfalen</td>\n",
       "      <td>245.0</td>\n",
       "      <td>central_heating</td>\n",
       "      <td>False</td>\n",
       "      <td>False</td>\n",
       "      <td>oil</td>\n",
       "      <td>False</td>\n",
       "      <td>True</td>\n",
       "      <td>86.00</td>\n",
       "      <td>well_kept</td>\n",
       "      <td>...</td>\n",
       "      <td>17932651</td>\n",
       "      <td>526</td>\n",
       "      <td>39678</td>\n",
       "      <td>0.936</td>\n",
       "      <td>62069</td>\n",
       "      <td>4615660.71</td>\n",
       "      <td>3.461228</td>\n",
       "      <td>1.344748</td>\n",
       "      <td>1965.0</td>\n",
       "      <td>low_rent_state</td>\n",
       "    </tr>\n",
       "    <tr>\n",
       "      <th>1</th>\n",
       "      <td>Nordrhein_Westfalen</td>\n",
       "      <td>95.0</td>\n",
       "      <td>self_contained_central_heating</td>\n",
       "      <td>False</td>\n",
       "      <td>False</td>\n",
       "      <td>gas</td>\n",
       "      <td>False</td>\n",
       "      <td>True</td>\n",
       "      <td>60.00</td>\n",
       "      <td>well_kept</td>\n",
       "      <td>...</td>\n",
       "      <td>17932651</td>\n",
       "      <td>526</td>\n",
       "      <td>39678</td>\n",
       "      <td>0.936</td>\n",
       "      <td>62069</td>\n",
       "      <td>4615660.71</td>\n",
       "      <td>3.461228</td>\n",
       "      <td>1.344748</td>\n",
       "      <td>1953.0</td>\n",
       "      <td>low_rent_state</td>\n",
       "    </tr>\n",
       "    <tr>\n",
       "      <th>2</th>\n",
       "      <td>Nordrhein_Westfalen</td>\n",
       "      <td>200.0</td>\n",
       "      <td>central_heating</td>\n",
       "      <td>False</td>\n",
       "      <td>False</td>\n",
       "      <td>oil</td>\n",
       "      <td>False</td>\n",
       "      <td>False</td>\n",
       "      <td>123.44</td>\n",
       "      <td>first_time_use_after_refurbishment</td>\n",
       "      <td>...</td>\n",
       "      <td>17932651</td>\n",
       "      <td>526</td>\n",
       "      <td>39678</td>\n",
       "      <td>0.936</td>\n",
       "      <td>62069</td>\n",
       "      <td>4615660.71</td>\n",
       "      <td>3.461228</td>\n",
       "      <td>1.344748</td>\n",
       "      <td>1951.0</td>\n",
       "      <td>low_rent_state</td>\n",
       "    </tr>\n",
       "    <tr>\n",
       "      <th>3</th>\n",
       "      <td>Nordrhein_Westfalen</td>\n",
       "      <td>215.0</td>\n",
       "      <td>gas_heating</td>\n",
       "      <td>True</td>\n",
       "      <td>True</td>\n",
       "      <td>gas</td>\n",
       "      <td>False</td>\n",
       "      <td>True</td>\n",
       "      <td>87.00</td>\n",
       "      <td>first_time_use</td>\n",
       "      <td>...</td>\n",
       "      <td>17932651</td>\n",
       "      <td>526</td>\n",
       "      <td>39678</td>\n",
       "      <td>0.936</td>\n",
       "      <td>62069</td>\n",
       "      <td>4615660.71</td>\n",
       "      <td>3.461228</td>\n",
       "      <td>1.344748</td>\n",
       "      <td>2018.0</td>\n",
       "      <td>low_rent_state</td>\n",
       "    </tr>\n",
       "    <tr>\n",
       "      <th>4</th>\n",
       "      <td>Nordrhein_Westfalen</td>\n",
       "      <td>121.0</td>\n",
       "      <td>central_heating</td>\n",
       "      <td>False</td>\n",
       "      <td>True</td>\n",
       "      <td>gas</td>\n",
       "      <td>False</td>\n",
       "      <td>True</td>\n",
       "      <td>65.00</td>\n",
       "      <td>well_kept</td>\n",
       "      <td>...</td>\n",
       "      <td>17932651</td>\n",
       "      <td>526</td>\n",
       "      <td>39678</td>\n",
       "      <td>0.936</td>\n",
       "      <td>62069</td>\n",
       "      <td>4615660.71</td>\n",
       "      <td>3.461228</td>\n",
       "      <td>1.344748</td>\n",
       "      <td>1914.0</td>\n",
       "      <td>low_rent_state</td>\n",
       "    </tr>\n",
       "  </tbody>\n",
       "</table>\n",
       "<p>5 rows × 33 columns</p>\n",
       "</div>"
      ],
      "text/plain": [
       "                 state  serviceCharge                     heatingType  \\\n",
       "0  Nordrhein_Westfalen          245.0                 central_heating   \n",
       "1  Nordrhein_Westfalen           95.0  self_contained_central_heating   \n",
       "2  Nordrhein_Westfalen          200.0                 central_heating   \n",
       "3  Nordrhein_Westfalen          215.0                     gas_heating   \n",
       "4  Nordrhein_Westfalen          121.0                 central_heating   \n",
       "\n",
       "   newlyConst  balcony firingTypes  hasKitchen  cellar  livingSpace  \\\n",
       "0       False    False         oil       False    True        86.00   \n",
       "1       False    False         gas       False    True        60.00   \n",
       "2       False    False         oil       False   False       123.44   \n",
       "3        True     True         gas       False    True        87.00   \n",
       "4       False     True         gas       False    True        65.00   \n",
       "\n",
       "                            condition  ... population_2019 population_per_km2  \\\n",
       "0                           well_kept  ...        17932651                526   \n",
       "1                           well_kept  ...        17932651                526   \n",
       "2  first_time_use_after_refurbishment  ...        17932651                526   \n",
       "3                      first_time_use  ...        17932651                526   \n",
       "4                           well_kept  ...        17932651                526   \n",
       "\n",
       "   gdp_per_capita_2018    hdi  total_state_listings  total_state_sqm  \\\n",
       "0                39678  0.936                 62069       4615660.71   \n",
       "1                39678  0.936                 62069       4615660.71   \n",
       "2                39678  0.936                 62069       4615660.71   \n",
       "3                39678  0.936                 62069       4615660.71   \n",
       "4                39678  0.936                 62069       4615660.71   \n",
       "\n",
       "   listings_per_1000capita  listings_per_100sqm yearBuilt state_rent_class  \n",
       "0                 3.461228             1.344748    1965.0   low_rent_state  \n",
       "1                 3.461228             1.344748    1953.0   low_rent_state  \n",
       "2                 3.461228             1.344748    1951.0   low_rent_state  \n",
       "3                 3.461228             1.344748    2018.0   low_rent_state  \n",
       "4                 3.461228             1.344748    1914.0   low_rent_state  \n",
       "\n",
       "[5 rows x 33 columns]"
      ]
     },
     "execution_count": 11,
     "metadata": {},
     "output_type": "execute_result"
    }
   ],
   "source": [
    "'''Create a features datafram and drop high cardinality (zip_code), low variance (telekomTvOffer & 'telekomUploadSpeed') \n",
    ", and redundant (yearConstructed) features. Also drop the target variable'''\n",
    "X = rentals.drop(columns = ['rent', 'yearConstructed', 'telekomUploadSpeed', 'rent_per_sqm', 'telekomTvOffer', 'zip_code'])\n",
    "X.head()"
   ]
  },
  {
   "cell_type": "code",
   "execution_count": 12,
   "metadata": {
    "scrolled": true
   },
   "outputs": [
    {
     "data": {
      "text/html": [
       "<div>\n",
       "<style scoped>\n",
       "    .dataframe tbody tr th:only-of-type {\n",
       "        vertical-align: middle;\n",
       "    }\n",
       "\n",
       "    .dataframe tbody tr th {\n",
       "        vertical-align: top;\n",
       "    }\n",
       "\n",
       "    .dataframe thead th {\n",
       "        text-align: right;\n",
       "    }\n",
       "</style>\n",
       "<table border=\"1\" class=\"dataframe\">\n",
       "  <thead>\n",
       "    <tr style=\"text-align: right;\">\n",
       "      <th></th>\n",
       "      <th>rent</th>\n",
       "    </tr>\n",
       "  </thead>\n",
       "  <tbody>\n",
       "    <tr>\n",
       "      <th>0</th>\n",
       "      <td>595.0</td>\n",
       "    </tr>\n",
       "    <tr>\n",
       "      <th>1</th>\n",
       "      <td>300.0</td>\n",
       "    </tr>\n",
       "    <tr>\n",
       "      <th>2</th>\n",
       "      <td>950.0</td>\n",
       "    </tr>\n",
       "    <tr>\n",
       "      <th>3</th>\n",
       "      <td>972.6</td>\n",
       "    </tr>\n",
       "    <tr>\n",
       "      <th>4</th>\n",
       "      <td>329.0</td>\n",
       "    </tr>\n",
       "  </tbody>\n",
       "</table>\n",
       "</div>"
      ],
      "text/plain": [
       "    rent\n",
       "0  595.0\n",
       "1  300.0\n",
       "2  950.0\n",
       "3  972.6\n",
       "4  329.0"
      ]
     },
     "execution_count": 12,
     "metadata": {},
     "output_type": "execute_result"
    }
   ],
   "source": [
    "#Create a dataframe with the target variable\n",
    "y = rentals[['rent']]\n",
    "y.head()"
   ]
  },
  {
   "cell_type": "markdown",
   "metadata": {},
   "source": [
    "# 7. Develop an Imputation Strategy<a id='7._Develop_an_Imputation_Strategy'></a>"
   ]
  },
  {
   "cell_type": "code",
   "execution_count": 13,
   "metadata": {
    "scrolled": false
   },
   "outputs": [
    {
     "data": {
      "text/plain": [
       "state                              object\n",
       "serviceCharge                     float64\n",
       "heatingType                        object\n",
       "newlyConst                           bool\n",
       "balcony                              bool\n",
       "firingTypes                        object\n",
       "hasKitchen                           bool\n",
       "cellar                               bool\n",
       "livingSpace                       float64\n",
       "condition                          object\n",
       "interiorQual                       object\n",
       "petsAllowed                        object\n",
       "lift                                 bool\n",
       "typeOfFlat                         object\n",
       "noRooms                           float64\n",
       "thermalChar                       float64\n",
       "numberOfFloors                    float64\n",
       "garden                               bool\n",
       "district                           object\n",
       "town_municipality                  object\n",
       "date                       datetime64[ns]\n",
       "sqm_per_room                      float64\n",
       "area_km2                            int64\n",
       "population_2019                     int64\n",
       "population_per_km2                  int64\n",
       "gdp_per_capita_2018                 int64\n",
       "hdi                               float64\n",
       "total_state_listings                int64\n",
       "total_state_sqm                   float64\n",
       "listings_per_1000capita           float64\n",
       "listings_per_100sqm               float64\n",
       "yearBuilt                         float64\n",
       "state_rent_class                   object\n",
       "dtype: object"
      ]
     },
     "execution_count": 13,
     "metadata": {},
     "output_type": "execute_result"
    }
   ],
   "source": [
    "# Review datatypes\n",
    "X.dtypes"
   ]
  },
  {
   "cell_type": "code",
   "execution_count": 14,
   "metadata": {},
   "outputs": [
    {
     "data": {
      "text/plain": [
       "['state',\n",
       " 'heatingType',\n",
       " 'firingTypes',\n",
       " 'condition',\n",
       " 'interiorQual',\n",
       " 'petsAllowed',\n",
       " 'typeOfFlat',\n",
       " 'district',\n",
       " 'town_municipality',\n",
       " 'state_rent_class']"
      ]
     },
     "execution_count": 14,
     "metadata": {},
     "output_type": "execute_result"
    }
   ],
   "source": [
    "#Create a list of names for categorical features\n",
    "cat_cols = X.select_dtypes('object').columns.to_list()\n",
    "cat_cols"
   ]
  },
  {
   "cell_type": "code",
   "execution_count": 15,
   "metadata": {},
   "outputs": [
    {
     "data": {
      "text/plain": [
       "['serviceCharge',\n",
       " 'livingSpace',\n",
       " 'noRooms',\n",
       " 'thermalChar',\n",
       " 'numberOfFloors',\n",
       " 'sqm_per_room',\n",
       " 'area_km2',\n",
       " 'population_2019',\n",
       " 'population_per_km2',\n",
       " 'gdp_per_capita_2018',\n",
       " 'hdi',\n",
       " 'total_state_listings',\n",
       " 'total_state_sqm',\n",
       " 'listings_per_1000capita',\n",
       " 'listings_per_100sqm',\n",
       " 'yearBuilt']"
      ]
     },
     "execution_count": 15,
     "metadata": {},
     "output_type": "execute_result"
    }
   ],
   "source": [
    "#Create a list of names for numerical features\n",
    "num_cols = X.select_dtypes(['float64', 'int64']).columns.to_list()\n",
    "num_cols"
   ]
  },
  {
   "cell_type": "code",
   "execution_count": 16,
   "metadata": {},
   "outputs": [
    {
     "data": {
      "text/plain": [
       "[(['serviceCharge'], SimpleImputer(strategy='median')),\n",
       " (['livingSpace'], SimpleImputer(strategy='median')),\n",
       " (['noRooms'], SimpleImputer(strategy='median')),\n",
       " (['thermalChar'], SimpleImputer(strategy='median')),\n",
       " (['numberOfFloors'], SimpleImputer(strategy='median')),\n",
       " (['sqm_per_room'], SimpleImputer(strategy='median')),\n",
       " (['area_km2'], SimpleImputer(strategy='median')),\n",
       " (['population_2019'], SimpleImputer(strategy='median')),\n",
       " (['population_per_km2'], SimpleImputer(strategy='median')),\n",
       " (['gdp_per_capita_2018'], SimpleImputer(strategy='median')),\n",
       " (['hdi'], SimpleImputer(strategy='median')),\n",
       " (['total_state_listings'], SimpleImputer(strategy='median')),\n",
       " (['total_state_sqm'], SimpleImputer(strategy='median')),\n",
       " (['listings_per_1000capita'], SimpleImputer(strategy='median')),\n",
       " (['listings_per_100sqm'], SimpleImputer(strategy='median')),\n",
       " (['yearBuilt'], SimpleImputer(strategy='median')),\n",
       " (['state'], SimpleImputer(strategy='most_frequent')),\n",
       " (['heatingType'], SimpleImputer(strategy='most_frequent')),\n",
       " (['firingTypes'], SimpleImputer(strategy='most_frequent')),\n",
       " (['condition'], SimpleImputer(strategy='most_frequent')),\n",
       " (['interiorQual'], SimpleImputer(strategy='most_frequent')),\n",
       " (['petsAllowed'], SimpleImputer(strategy='most_frequent')),\n",
       " (['typeOfFlat'], SimpleImputer(strategy='most_frequent')),\n",
       " (['district'], SimpleImputer(strategy='most_frequent')),\n",
       " (['town_municipality'], SimpleImputer(strategy='most_frequent')),\n",
       " (['state_rent_class'], SimpleImputer(strategy='most_frequent'))]"
      ]
     },
     "execution_count": 16,
     "metadata": {},
     "output_type": "execute_result"
    }
   ],
   "source": [
    "#Use median imputation for numerical features\n",
    "imputations = []\n",
    "imputations.extend([([numeric_col], SimpleImputer(missing_values = np.nan, strategy = 'median')) \\\n",
    "                                for numeric_col in num_cols])\n",
    "#Use 'most_frequent' imputation for categorical features\n",
    "imputations.extend([([cat_col], SimpleImputer(strategy = 'most_frequent')) for cat_col in cat_cols])\n",
    "imputations"
   ]
  },
  {
   "cell_type": "code",
   "execution_count": 17,
   "metadata": {
    "scrolled": true
   },
   "outputs": [
    {
     "data": {
      "text/plain": [
       "DataFrameMapper(df_out=True, drop_cols=[],\n",
       "                features=[(['serviceCharge'], SimpleImputer(strategy='median')),\n",
       "                          (['livingSpace'], SimpleImputer(strategy='median')),\n",
       "                          (['noRooms'], SimpleImputer(strategy='median')),\n",
       "                          (['thermalChar'], SimpleImputer(strategy='median')),\n",
       "                          (['numberOfFloors'],\n",
       "                           SimpleImputer(strategy='median')),\n",
       "                          (['sqm_per_room'], SimpleImputer(strategy='m...\n",
       "                           SimpleImputer(strategy='most_frequent')),\n",
       "                          (['petsAllowed'],\n",
       "                           SimpleImputer(strategy='most_frequent')),\n",
       "                          (['typeOfFlat'],\n",
       "                           SimpleImputer(strategy='most_frequent')),\n",
       "                          (['district'],\n",
       "                           SimpleImputer(strategy='most_frequent')),\n",
       "                          (['town_municipality'],\n",
       "                           SimpleImputer(strategy='most_frequent')),\n",
       "                          (['state_rent_class'],\n",
       "                           SimpleImputer(strategy='most_frequent'))],\n",
       "                input_df=True)"
      ]
     },
     "execution_count": 17,
     "metadata": {},
     "output_type": "execute_result"
    }
   ],
   "source": [
    "#Create pipeline element that enables imputation of missing values\n",
    "df_imputation = DataFrameMapper(imputations, input_df = True, df_out = True)\n",
    "df_imputation"
   ]
  },
  {
   "cell_type": "markdown",
   "metadata": {},
   "source": [
    "# 8. Create Train-Test Split<a id='8._Create_Train-Test_Split'></a>"
   ]
  },
  {
   "cell_type": "code",
   "execution_count": 18,
   "metadata": {},
   "outputs": [],
   "source": [
    "#Split X and y to test and training set\n",
    "X_train, X_test, y_train, y_test = train_test_split(X, y, test_size = 0.3, random_state = 77)"
   ]
  },
  {
   "cell_type": "markdown",
   "metadata": {},
   "source": [
    "# 9. Create One Hot Encoding Object<a id='9._Create_One_Hot_Encoding_Object'></a>"
   ]
  },
  {
   "cell_type": "code",
   "execution_count": 19,
   "metadata": {},
   "outputs": [],
   "source": [
    "onehot = OneHotEncoder(handle_unknown = 'ignore')"
   ]
  },
  {
   "cell_type": "markdown",
   "metadata": {},
   "source": [
    "# 10. Create Scaling Object<a id='10._Create_Scaling_Object'></a>"
   ]
  },
  {
   "cell_type": "code",
   "execution_count": 20,
   "metadata": {},
   "outputs": [],
   "source": [
    "scaler = StandardScaler(with_mean = False)"
   ]
  },
  {
   "cell_type": "markdown",
   "metadata": {},
   "source": [
    "# 11. Modelling<a id = '11._Modelling'></a>"
   ]
  },
  {
   "cell_type": "markdown",
   "metadata": {},
   "source": [
    "## 11.1 Linear Regression Model"
   ]
  },
  {
   "cell_type": "code",
   "execution_count": 21,
   "metadata": {},
   "outputs": [],
   "source": [
    "#Instantiate linear regression model\n",
    "lm = LinearRegression(normalize = False, random_state = 77)"
   ]
  },
  {
   "cell_type": "code",
   "execution_count": 23,
   "metadata": {},
   "outputs": [],
   "source": [
    "#Create pipeline of pre-processing steps and model creation\n",
    "steps_lm = [('imputation', df_imputation), ('encoding', onehot), ('scaling', scaler), ('lm', lm)]\n",
    "pipeline_lm = Pipeline(steps_lm)"
   ]
  },
  {
   "cell_type": "code",
   "execution_count": 24,
   "metadata": {},
   "outputs": [
    {
     "data": {
      "text/plain": [
       "Pipeline(steps=[('imputation',\n",
       "                 DataFrameMapper(df_out=True, drop_cols=[],\n",
       "                                 features=[(['serviceCharge'],\n",
       "                                            SimpleImputer(strategy='median')),\n",
       "                                           (['livingSpace'],\n",
       "                                            SimpleImputer(strategy='median')),\n",
       "                                           (['noRooms'],\n",
       "                                            SimpleImputer(strategy='median')),\n",
       "                                           (['thermalChar'],\n",
       "                                            SimpleImputer(strategy='median')),\n",
       "                                           (['numberOfFloors'],\n",
       "                                            SimpleImputer(strategy='median')),\n",
       "                                           (['sqm_per_ro...\n",
       "                                            SimpleImputer(strategy='most_frequent')),\n",
       "                                           (['district'],\n",
       "                                            SimpleImputer(strategy='most_frequent')),\n",
       "                                           (['town_municipality'],\n",
       "                                            SimpleImputer(strategy='most_frequent')),\n",
       "                                           (['state_rent_class'],\n",
       "                                            SimpleImputer(strategy='most_frequent'))],\n",
       "                                 input_df=True)),\n",
       "                ('encoding', OneHotEncoder(handle_unknown='ignore')),\n",
       "                ('scaling', StandardScaler(with_mean=False)),\n",
       "                ('lm', LinearRegression())])"
      ]
     },
     "execution_count": 24,
     "metadata": {},
     "output_type": "execute_result"
    }
   ],
   "source": [
    "#Fit the linear regression model to the data\n",
    "pipeline_lm.fit(X_train, y_train)"
   ]
  },
  {
   "cell_type": "code",
   "execution_count": 25,
   "metadata": {},
   "outputs": [],
   "source": [
    "#Determine predictions for train and the test set\n",
    "y_train_pred_lm = pipeline_lm.predict(X_train)\n",
    "y_test_pred_lm = pipeline_lm.predict(X_test)"
   ]
  },
  {
   "cell_type": "code",
   "execution_count": 26,
   "metadata": {},
   "outputs": [],
   "source": [
    "#Define function to assess model performance based on R-squared, root mean squared error and mean absolute error\n",
    "def train_test_performance(y_train, y_train_pred, y_test, y_test_pred):\n",
    "    r2 = [r2_score(y_train, y_train_pred), r2_score(y_test, y_test_pred)]\n",
    "    rmse = [mean_squared_error(y_train, y_train_pred, squared = False), \\\n",
    "            mean_squared_error(y_test, y_test_pred, squared = False)]\n",
    "    mae = [mean_absolute_error(y_train, y_train_pred), mean_absolute_error(y_test, y_test_pred)]\n",
    "    df = pd.DataFrame({'r2_score': r2, 'rmse (€)': rmse, 'mae (€)': mae}, index = ['train', 'test'])\n",
    "    df = df.append(df.iloc[[0, -1]].pct_change().iloc[-1].mul(100).rename('perf_change (%)'))\n",
    "    return df\n",
    "\n",
    "#Define function to assess cross-validated performance of learner\n",
    "def cv_performance(model, X_train, y_train, n_folds = 4):\n",
    "    cv_scores = cross_validate(model, X_train, y_train.values.ravel(), cv = n_folds, \\\n",
    "                              scoring = ['r2', 'neg_mean_squared_error','neg_mean_absolute_error'])\n",
    "    r2_mean = np.mean(cv_scores['test_r2'])\n",
    "    r2_std = np.std(cv_scores['test_r2'])\n",
    "    rmse_mean = np.sqrt(np.mean(cv_scores['test_neg_mean_squared_error']) * -1)\n",
    "    rmse_std = np.sqrt(np.std(cv_scores['test_neg_mean_squared_error']))\n",
    "    mae_mean = np.mean(cv_scores['test_neg_mean_absolute_error']) * -1\n",
    "    mae_std = np.std(cv_scores['test_neg_mean_absolute_error'])\n",
    "    df = pd.DataFrame({'cv_r2':[r2_mean, r2_std], 'cv_rmse (€)': [rmse_mean, rmse_std], 'cv_mae (€)': [mae_mean, mae_std]},\\\n",
    "                     index = ['mean', 'std'])                                           \n",
    "    return df"
   ]
  },
  {
   "cell_type": "code",
   "execution_count": 27,
   "metadata": {
    "scrolled": true
   },
   "outputs": [
    {
     "data": {
      "text/html": [
       "<div>\n",
       "<style scoped>\n",
       "    .dataframe tbody tr th:only-of-type {\n",
       "        vertical-align: middle;\n",
       "    }\n",
       "\n",
       "    .dataframe tbody tr th {\n",
       "        vertical-align: top;\n",
       "    }\n",
       "\n",
       "    .dataframe thead th {\n",
       "        text-align: right;\n",
       "    }\n",
       "</style>\n",
       "<table border=\"1\" class=\"dataframe\">\n",
       "  <thead>\n",
       "    <tr style=\"text-align: right;\">\n",
       "      <th></th>\n",
       "      <th>r2_score</th>\n",
       "      <th>rmse (€)</th>\n",
       "      <th>mae (€)</th>\n",
       "    </tr>\n",
       "  </thead>\n",
       "  <tbody>\n",
       "    <tr>\n",
       "      <th>train</th>\n",
       "      <td>0.921025</td>\n",
       "      <td>143.344614</td>\n",
       "      <td>75.381070</td>\n",
       "    </tr>\n",
       "    <tr>\n",
       "      <th>test</th>\n",
       "      <td>0.716940</td>\n",
       "      <td>283.213579</td>\n",
       "      <td>115.175225</td>\n",
       "    </tr>\n",
       "    <tr>\n",
       "      <th>perf_change (%)</th>\n",
       "      <td>-22.158536</td>\n",
       "      <td>97.575320</td>\n",
       "      <td>52.790648</td>\n",
       "    </tr>\n",
       "  </tbody>\n",
       "</table>\n",
       "</div>"
      ],
      "text/plain": [
       "                  r2_score    rmse (€)     mae (€)\n",
       "train             0.921025  143.344614   75.381070\n",
       "test              0.716940  283.213579  115.175225\n",
       "perf_change (%) -22.158536   97.575320   52.790648"
      ]
     },
     "execution_count": 27,
     "metadata": {},
     "output_type": "execute_result"
    }
   ],
   "source": [
    "#Check performance for linear model\n",
    "perf_lm = train_test_performance(y_train, y_train_pred_lm, y_test, y_test_pred_lm)\n",
    "perf_lm"
   ]
  },
  {
   "cell_type": "markdown",
   "metadata": {},
   "source": [
    "- We note a substantial r2 performance gap between our train and test set. This suggests overfitting."
   ]
  },
  {
   "cell_type": "code",
   "execution_count": 28,
   "metadata": {
    "scrolled": true
   },
   "outputs": [
    {
     "data": {
      "text/html": [
       "<div>\n",
       "<style scoped>\n",
       "    .dataframe tbody tr th:only-of-type {\n",
       "        vertical-align: middle;\n",
       "    }\n",
       "\n",
       "    .dataframe tbody tr th {\n",
       "        vertical-align: top;\n",
       "    }\n",
       "\n",
       "    .dataframe thead th {\n",
       "        text-align: right;\n",
       "    }\n",
       "</style>\n",
       "<table border=\"1\" class=\"dataframe\">\n",
       "  <thead>\n",
       "    <tr style=\"text-align: right;\">\n",
       "      <th></th>\n",
       "      <th>cv_r2</th>\n",
       "      <th>cv_rmse (€)</th>\n",
       "      <th>cv_mae (€)</th>\n",
       "    </tr>\n",
       "  </thead>\n",
       "  <tbody>\n",
       "    <tr>\n",
       "      <th>mean</th>\n",
       "      <td>0.763833</td>\n",
       "      <td>248.076350</td>\n",
       "      <td>119.985722</td>\n",
       "    </tr>\n",
       "    <tr>\n",
       "      <th>std</th>\n",
       "      <td>0.014840</td>\n",
       "      <td>74.101128</td>\n",
       "      <td>0.675675</td>\n",
       "    </tr>\n",
       "  </tbody>\n",
       "</table>\n",
       "</div>"
      ],
      "text/plain": [
       "         cv_r2  cv_rmse (€)  cv_mae (€)\n",
       "mean  0.763833   248.076350  119.985722\n",
       "std   0.014840    74.101128    0.675675"
      ]
     },
     "execution_count": 28,
     "metadata": {},
     "output_type": "execute_result"
    }
   ],
   "source": [
    "#Check cross-validated performance for linear model to include the mean error and standard deviation around the mean error\n",
    "cv_lm = cv_performance(pipeline_lm, X_train, y_train, 4)\n",
    "cv_lm"
   ]
  },
  {
   "cell_type": "code",
   "execution_count": 44,
   "metadata": {},
   "outputs": [
    {
     "data": {
      "text/plain": [
       "(119.31, 120.66)"
      ]
     },
     "execution_count": 44,
     "metadata": {},
     "output_type": "execute_result"
    }
   ],
   "source": [
    "#Error we should expect in our prediction\n",
    "np.round((cv_lm.loc['mean','cv_mae (€)'] - cv_lm.loc['std','cv_mae (€)']),2), \\\n",
    "np.round((cv_lm.loc['mean','cv_mae (€)'] + cv_lm.loc['std','cv_mae (€)']), 2) "
   ]
  },
  {
   "cell_type": "markdown",
   "metadata": {},
   "source": [
    "- We note that the cross-validated performance is better than the single test performance.\n",
    "- We expect that for this model the mae is the appropriate metric. This implies that The linear model has a low bias but high variance."
   ]
  },
  {
   "cell_type": "markdown",
   "metadata": {},
   "source": [
    "## 11.2 Random Forest Model"
   ]
  },
  {
   "cell_type": "code",
   "execution_count": 29,
   "metadata": {},
   "outputs": [],
   "source": [
    "#Instantiate random forest model\n",
    "rf = RandomForestRegressor(n_estimators = 10, max_depth = 15, random_state = 77)"
   ]
  },
  {
   "cell_type": "code",
   "execution_count": 31,
   "metadata": {},
   "outputs": [],
   "source": [
    "#Create pipeline of pre-processing steps and model creation\n",
    "steps_rf = [('imputation', df_imputation), ('encoding', onehot), ('scaling', scaler), ('rf', rf)]\n",
    "pipeline_rf = Pipeline(steps_rf)"
   ]
  },
  {
   "cell_type": "code",
   "execution_count": 32,
   "metadata": {
    "scrolled": true
   },
   "outputs": [
    {
     "data": {
      "text/plain": [
       "Pipeline(steps=[('imputation',\n",
       "                 DataFrameMapper(df_out=True, drop_cols=[],\n",
       "                                 features=[(['serviceCharge'],\n",
       "                                            SimpleImputer(strategy='median')),\n",
       "                                           (['livingSpace'],\n",
       "                                            SimpleImputer(strategy='median')),\n",
       "                                           (['noRooms'],\n",
       "                                            SimpleImputer(strategy='median')),\n",
       "                                           (['thermalChar'],\n",
       "                                            SimpleImputer(strategy='median')),\n",
       "                                           (['numberOfFloors'],\n",
       "                                            SimpleImputer(strategy='median')),\n",
       "                                           (['sqm_per_ro...\n",
       "                                           (['district'],\n",
       "                                            SimpleImputer(strategy='most_frequent')),\n",
       "                                           (['town_municipality'],\n",
       "                                            SimpleImputer(strategy='most_frequent')),\n",
       "                                           (['state_rent_class'],\n",
       "                                            SimpleImputer(strategy='most_frequent'))],\n",
       "                                 input_df=True)),\n",
       "                ('encoding', OneHotEncoder(handle_unknown='ignore')),\n",
       "                ('scaling', StandardScaler(with_mean=False)),\n",
       "                ('rf', RandomForestRegressor(max_depth=15, n_estimators=10))])"
      ]
     },
     "execution_count": 32,
     "metadata": {},
     "output_type": "execute_result"
    }
   ],
   "source": [
    "#Fit random forest model to data\n",
    "pipeline_rf.fit(X_train, y_train.values.ravel())"
   ]
  },
  {
   "cell_type": "code",
   "execution_count": 33,
   "metadata": {},
   "outputs": [],
   "source": [
    "#Get predictions of rent on the train and test set with the random forest learner\n",
    "y_train_pred_rf = pipeline_rf.predict(X_train)\n",
    "y_test_pred_rf = pipeline_rf.predict(X_test)"
   ]
  },
  {
   "cell_type": "code",
   "execution_count": 34,
   "metadata": {
    "scrolled": false
   },
   "outputs": [
    {
     "data": {
      "text/html": [
       "<div>\n",
       "<style scoped>\n",
       "    .dataframe tbody tr th:only-of-type {\n",
       "        vertical-align: middle;\n",
       "    }\n",
       "\n",
       "    .dataframe tbody tr th {\n",
       "        vertical-align: top;\n",
       "    }\n",
       "\n",
       "    .dataframe thead th {\n",
       "        text-align: right;\n",
       "    }\n",
       "</style>\n",
       "<table border=\"1\" class=\"dataframe\">\n",
       "  <thead>\n",
       "    <tr style=\"text-align: right;\">\n",
       "      <th></th>\n",
       "      <th>r2_score</th>\n",
       "      <th>rmse (€)</th>\n",
       "      <th>mae (€)</th>\n",
       "    </tr>\n",
       "  </thead>\n",
       "  <tbody>\n",
       "    <tr>\n",
       "      <th>train</th>\n",
       "      <td>0.773552</td>\n",
       "      <td>242.728954</td>\n",
       "      <td>153.377393</td>\n",
       "    </tr>\n",
       "    <tr>\n",
       "      <th>test</th>\n",
       "      <td>0.605676</td>\n",
       "      <td>334.273059</td>\n",
       "      <td>162.416797</td>\n",
       "    </tr>\n",
       "    <tr>\n",
       "      <th>perf_change (%)</th>\n",
       "      <td>-21.702035</td>\n",
       "      <td>37.714539</td>\n",
       "      <td>5.893570</td>\n",
       "    </tr>\n",
       "  </tbody>\n",
       "</table>\n",
       "</div>"
      ],
      "text/plain": [
       "                  r2_score    rmse (€)     mae (€)\n",
       "train             0.773552  242.728954  153.377393\n",
       "test              0.605676  334.273059  162.416797\n",
       "perf_change (%) -21.702035   37.714539    5.893570"
      ]
     },
     "execution_count": 34,
     "metadata": {},
     "output_type": "execute_result"
    }
   ],
   "source": [
    "#Check single pass performance of random forest model on train and test set\n",
    "perf_rf = train_test_performance(y_train, y_train_pred_rf, y_test, y_test_pred_rf)\n",
    "perf_rf"
   ]
  },
  {
   "cell_type": "markdown",
   "metadata": {},
   "source": [
    "- Based on the r2 score, we note that the ridge learner shows a lower bias when compared to random forest"
   ]
  },
  {
   "cell_type": "code",
   "execution_count": 36,
   "metadata": {},
   "outputs": [
    {
     "data": {
      "text/html": [
       "<div>\n",
       "<style scoped>\n",
       "    .dataframe tbody tr th:only-of-type {\n",
       "        vertical-align: middle;\n",
       "    }\n",
       "\n",
       "    .dataframe tbody tr th {\n",
       "        vertical-align: top;\n",
       "    }\n",
       "\n",
       "    .dataframe thead th {\n",
       "        text-align: right;\n",
       "    }\n",
       "</style>\n",
       "<table border=\"1\" class=\"dataframe\">\n",
       "  <thead>\n",
       "    <tr style=\"text-align: right;\">\n",
       "      <th></th>\n",
       "      <th>cv_r2</th>\n",
       "      <th>cv_rmse (€)</th>\n",
       "      <th>cv_mae (€)</th>\n",
       "    </tr>\n",
       "  </thead>\n",
       "  <tbody>\n",
       "    <tr>\n",
       "      <th>mean</th>\n",
       "      <td>0.657239</td>\n",
       "      <td>298.607428</td>\n",
       "      <td>163.084584</td>\n",
       "    </tr>\n",
       "    <tr>\n",
       "      <th>std</th>\n",
       "      <td>0.009092</td>\n",
       "      <td>59.891835</td>\n",
       "      <td>1.017414</td>\n",
       "    </tr>\n",
       "  </tbody>\n",
       "</table>\n",
       "</div>"
      ],
      "text/plain": [
       "         cv_r2  cv_rmse (€)  cv_mae (€)\n",
       "mean  0.657239   298.607428  163.084584\n",
       "std   0.009092    59.891835    1.017414"
      ]
     },
     "execution_count": 36,
     "metadata": {},
     "output_type": "execute_result"
    }
   ],
   "source": [
    "#Check cross-validation performance of random forest model\n",
    "cv_rf = cv_performance(pipeline_rf, X_train, y_train, 4)\n",
    "cv_rf"
   ]
  },
  {
   "cell_type": "markdown",
   "metadata": {},
   "source": [
    "- We also note that based on the r2 score, the random forest model has a lower cross-validation score than the ridge model."
   ]
  },
  {
   "cell_type": "markdown",
   "metadata": {},
   "source": [
    "## 11.3 Ridge Regression Model "
   ]
  },
  {
   "cell_type": "code",
   "execution_count": 45,
   "metadata": {},
   "outputs": [],
   "source": [
    "#Instantiate lasso model\n",
    "ridge = Ridge(random_state = 77)"
   ]
  },
  {
   "cell_type": "code",
   "execution_count": 49,
   "metadata": {},
   "outputs": [],
   "source": [
    "#Create pipeline of pre-processing steps and model creation\n",
    "steps_ridge = [('imputation', df_imputation), ('encoding', onehot), ('scaling', scaler), ('ridge', ridge)]\n",
    "pipeline_ridge = Pipeline(steps_ridge)"
   ]
  },
  {
   "cell_type": "code",
   "execution_count": 50,
   "metadata": {},
   "outputs": [
    {
     "data": {
      "text/plain": [
       "Pipeline(steps=[('imputation',\n",
       "                 DataFrameMapper(df_out=True, drop_cols=[],\n",
       "                                 features=[(['serviceCharge'],\n",
       "                                            SimpleImputer(strategy='median')),\n",
       "                                           (['livingSpace'],\n",
       "                                            SimpleImputer(strategy='median')),\n",
       "                                           (['noRooms'],\n",
       "                                            SimpleImputer(strategy='median')),\n",
       "                                           (['thermalChar'],\n",
       "                                            SimpleImputer(strategy='median')),\n",
       "                                           (['numberOfFloors'],\n",
       "                                            SimpleImputer(strategy='median')),\n",
       "                                           (['sqm_per_ro...\n",
       "                                            SimpleImputer(strategy='most_frequent')),\n",
       "                                           (['district'],\n",
       "                                            SimpleImputer(strategy='most_frequent')),\n",
       "                                           (['town_municipality'],\n",
       "                                            SimpleImputer(strategy='most_frequent')),\n",
       "                                           (['state_rent_class'],\n",
       "                                            SimpleImputer(strategy='most_frequent'))],\n",
       "                                 input_df=True)),\n",
       "                ('encoding', OneHotEncoder(handle_unknown='ignore')),\n",
       "                ('scaling', StandardScaler(with_mean=False)),\n",
       "                ('ridge', Ridge())])"
      ]
     },
     "execution_count": 50,
     "metadata": {},
     "output_type": "execute_result"
    }
   ],
   "source": [
    "pipeline_ridge.fit(X_train, y_train.values.ravel())"
   ]
  },
  {
   "cell_type": "code",
   "execution_count": 51,
   "metadata": {},
   "outputs": [],
   "source": [
    "#Get predictions of rent from X_train and X_test\n",
    "y_train_pred_ridge = pipeline_ridge.predict(X_train)\n",
    "y_test_pred_ridge = pipeline_ridge.predict(X_test)"
   ]
  },
  {
   "cell_type": "code",
   "execution_count": 52,
   "metadata": {
    "scrolled": false
   },
   "outputs": [
    {
     "data": {
      "text/html": [
       "<div>\n",
       "<style scoped>\n",
       "    .dataframe tbody tr th:only-of-type {\n",
       "        vertical-align: middle;\n",
       "    }\n",
       "\n",
       "    .dataframe tbody tr th {\n",
       "        vertical-align: top;\n",
       "    }\n",
       "\n",
       "    .dataframe thead th {\n",
       "        text-align: right;\n",
       "    }\n",
       "</style>\n",
       "<table border=\"1\" class=\"dataframe\">\n",
       "  <thead>\n",
       "    <tr style=\"text-align: right;\">\n",
       "      <th></th>\n",
       "      <th>r2_score</th>\n",
       "      <th>rmse (€)</th>\n",
       "      <th>mae (€)</th>\n",
       "    </tr>\n",
       "  </thead>\n",
       "  <tbody>\n",
       "    <tr>\n",
       "      <th>train</th>\n",
       "      <td>0.920948</td>\n",
       "      <td>143.415194</td>\n",
       "      <td>75.643419</td>\n",
       "    </tr>\n",
       "    <tr>\n",
       "      <th>test</th>\n",
       "      <td>0.717885</td>\n",
       "      <td>282.740391</td>\n",
       "      <td>114.910647</td>\n",
       "    </tr>\n",
       "    <tr>\n",
       "      <th>perf_change (%)</th>\n",
       "      <td>-22.049341</td>\n",
       "      <td>97.148143</td>\n",
       "      <td>51.910964</td>\n",
       "    </tr>\n",
       "  </tbody>\n",
       "</table>\n",
       "</div>"
      ],
      "text/plain": [
       "                  r2_score    rmse (€)     mae (€)\n",
       "train             0.920948  143.415194   75.643419\n",
       "test              0.717885  282.740391  114.910647\n",
       "perf_change (%) -22.049341   97.148143   51.910964"
      ]
     },
     "execution_count": 52,
     "metadata": {},
     "output_type": "execute_result"
    }
   ],
   "source": [
    "#Check single pass performance on train and test sets for ridge regression model\n",
    "perf_ridge = train_test_performance(y_train, y_train_pred_ridge, y_test, y_test_pred_ridge)\n",
    "perf_ridge"
   ]
  },
  {
   "cell_type": "code",
   "execution_count": 53,
   "metadata": {},
   "outputs": [
    {
     "data": {
      "text/html": [
       "<div>\n",
       "<style scoped>\n",
       "    .dataframe tbody tr th:only-of-type {\n",
       "        vertical-align: middle;\n",
       "    }\n",
       "\n",
       "    .dataframe tbody tr th {\n",
       "        vertical-align: top;\n",
       "    }\n",
       "\n",
       "    .dataframe thead th {\n",
       "        text-align: right;\n",
       "    }\n",
       "</style>\n",
       "<table border=\"1\" class=\"dataframe\">\n",
       "  <thead>\n",
       "    <tr style=\"text-align: right;\">\n",
       "      <th></th>\n",
       "      <th>cv_r2</th>\n",
       "      <th>cv_rmse (€)</th>\n",
       "      <th>cv_mae (€)</th>\n",
       "    </tr>\n",
       "  </thead>\n",
       "  <tbody>\n",
       "    <tr>\n",
       "      <th>mean</th>\n",
       "      <td>0.765298</td>\n",
       "      <td>247.302564</td>\n",
       "      <td>119.528148</td>\n",
       "    </tr>\n",
       "    <tr>\n",
       "      <th>std</th>\n",
       "      <td>0.014509</td>\n",
       "      <td>73.455340</td>\n",
       "      <td>0.652628</td>\n",
       "    </tr>\n",
       "  </tbody>\n",
       "</table>\n",
       "</div>"
      ],
      "text/plain": [
       "         cv_r2  cv_rmse (€)  cv_mae (€)\n",
       "mean  0.765298   247.302564  119.528148\n",
       "std   0.014509    73.455340    0.652628"
      ]
     },
     "execution_count": 53,
     "metadata": {},
     "output_type": "execute_result"
    }
   ],
   "source": [
    "#Check 4-fold cross-validation performance of ridge regression model\n",
    "cv_ridge = cv_performance(pipeline_ridge, X_train, y_train, 4)\n",
    "cv_ridge"
   ]
  },
  {
   "cell_type": "markdown",
   "metadata": {},
   "source": [
    "# 12. Assessing Models by Pre-selecting Features<a id = '12._Assessing_Models_by_Pre-selecting_Features'></a>"
   ]
  },
  {
   "cell_type": "markdown",
   "metadata": {},
   "source": [
    "## 12.1 Pre-selecting Features for Ridge Regression "
   ]
  },
  {
   "cell_type": "markdown",
   "metadata": {},
   "source": [
    "### 12.1.1 Pre-selecting a percentage of top features"
   ]
  },
  {
   "cell_type": "code",
   "execution_count": 54,
   "metadata": {},
   "outputs": [],
   "source": [
    "#Instantiate object to select the top 5% of features using the f_regression test\n",
    "selectP = SelectPercentile(score_func = f_regression, percentile = 5)"
   ]
  },
  {
   "cell_type": "code",
   "execution_count": 55,
   "metadata": {},
   "outputs": [],
   "source": [
    "#Build pipeline to pre-select features for our ridge regression learner\n",
    "selectP_steps_ridge = [('imputation', df_imputation), ('encoding', onehot), ('scaling', scaler), ('selectP', selectP),\\\n",
    "                   ('ridge', ridge)]\n",
    "pipeline_selectP_ridge = Pipeline(selectP_steps_ridge)"
   ]
  },
  {
   "cell_type": "code",
   "execution_count": 56,
   "metadata": {
    "scrolled": false
   },
   "outputs": [
    {
     "data": {
      "text/plain": [
       "Pipeline(steps=[('imputation',\n",
       "                 DataFrameMapper(df_out=True, drop_cols=[],\n",
       "                                 features=[(['serviceCharge'],\n",
       "                                            SimpleImputer(strategy='median')),\n",
       "                                           (['livingSpace'],\n",
       "                                            SimpleImputer(strategy='median')),\n",
       "                                           (['noRooms'],\n",
       "                                            SimpleImputer(strategy='median')),\n",
       "                                           (['thermalChar'],\n",
       "                                            SimpleImputer(strategy='median')),\n",
       "                                           (['numberOfFloors'],\n",
       "                                            SimpleImputer(strategy='median')),\n",
       "                                           (['sqm_per_ro...\n",
       "                                           (['town_municipality'],\n",
       "                                            SimpleImputer(strategy='most_frequent')),\n",
       "                                           (['state_rent_class'],\n",
       "                                            SimpleImputer(strategy='most_frequent'))],\n",
       "                                 input_df=True)),\n",
       "                ('encoding', OneHotEncoder(handle_unknown='ignore')),\n",
       "                ('scaling', StandardScaler(with_mean=False)),\n",
       "                ('selectP',\n",
       "                 SelectPercentile(percentile=5,\n",
       "                                  score_func=<function f_regression at 0x0000025142EC9CA0>)),\n",
       "                ('ridge', Ridge())])"
      ]
     },
     "execution_count": 56,
     "metadata": {},
     "output_type": "execute_result"
    }
   ],
   "source": [
    "#Fit pipeline to data\n",
    "pipeline_selectP_ridge.fit(X_train, y_train.values.ravel())"
   ]
  },
  {
   "cell_type": "code",
   "execution_count": 57,
   "metadata": {},
   "outputs": [],
   "source": [
    "#Get performance of ridge learner with the top 5% of pre-selected features\n",
    "y_train_pred_selectP_ridge = pipeline_selectP_ridge.predict(X_train)\n",
    "y_test_pred_selectP_ridge = pipeline_selectP_ridge.predict(X_test)"
   ]
  },
  {
   "cell_type": "code",
   "execution_count": 58,
   "metadata": {
    "scrolled": false
   },
   "outputs": [
    {
     "data": {
      "text/html": [
       "<div>\n",
       "<style scoped>\n",
       "    .dataframe tbody tr th:only-of-type {\n",
       "        vertical-align: middle;\n",
       "    }\n",
       "\n",
       "    .dataframe tbody tr th {\n",
       "        vertical-align: top;\n",
       "    }\n",
       "\n",
       "    .dataframe thead th {\n",
       "        text-align: right;\n",
       "    }\n",
       "</style>\n",
       "<table border=\"1\" class=\"dataframe\">\n",
       "  <thead>\n",
       "    <tr style=\"text-align: right;\">\n",
       "      <th></th>\n",
       "      <th>r2_score</th>\n",
       "      <th>rmse (€)</th>\n",
       "      <th>mae (€)</th>\n",
       "    </tr>\n",
       "  </thead>\n",
       "  <tbody>\n",
       "    <tr>\n",
       "      <th>train</th>\n",
       "      <td>0.859542</td>\n",
       "      <td>191.165957</td>\n",
       "      <td>118.870612</td>\n",
       "    </tr>\n",
       "    <tr>\n",
       "      <th>test</th>\n",
       "      <td>0.711453</td>\n",
       "      <td>285.945031</td>\n",
       "      <td>126.180776</td>\n",
       "    </tr>\n",
       "    <tr>\n",
       "      <th>perf_change (%)</th>\n",
       "      <td>-17.228796</td>\n",
       "      <td>49.579473</td>\n",
       "      <td>6.149681</td>\n",
       "    </tr>\n",
       "  </tbody>\n",
       "</table>\n",
       "</div>"
      ],
      "text/plain": [
       "                  r2_score    rmse (€)     mae (€)\n",
       "train             0.859542  191.165957  118.870612\n",
       "test              0.711453  285.945031  126.180776\n",
       "perf_change (%) -17.228796   49.579473    6.149681"
      ]
     },
     "execution_count": 58,
     "metadata": {},
     "output_type": "execute_result"
    }
   ],
   "source": [
    "#Check single pass performance for the ridge regression learner of pre-selected features\n",
    "perf_ridge_selectP = train_test_performance(y_train, y_train_pred_selectP_ridge, y_test, y_test_pred_selectP_ridge)\n",
    "perf_ridge_selectP"
   ]
  },
  {
   "cell_type": "markdown",
   "metadata": {},
   "source": [
    "- We observe less variance in r2 score when we pre-select features versus when features are not pre-selected"
   ]
  },
  {
   "cell_type": "code",
   "execution_count": 59,
   "metadata": {
    "scrolled": false
   },
   "outputs": [
    {
     "data": {
      "text/html": [
       "<div>\n",
       "<style scoped>\n",
       "    .dataframe tbody tr th:only-of-type {\n",
       "        vertical-align: middle;\n",
       "    }\n",
       "\n",
       "    .dataframe tbody tr th {\n",
       "        vertical-align: top;\n",
       "    }\n",
       "\n",
       "    .dataframe thead th {\n",
       "        text-align: right;\n",
       "    }\n",
       "</style>\n",
       "<table border=\"1\" class=\"dataframe\">\n",
       "  <thead>\n",
       "    <tr style=\"text-align: right;\">\n",
       "      <th></th>\n",
       "      <th>cv_r2</th>\n",
       "      <th>cv_rmse (€)</th>\n",
       "      <th>cv_mae (€)</th>\n",
       "    </tr>\n",
       "  </thead>\n",
       "  <tbody>\n",
       "    <tr>\n",
       "      <th>mean</th>\n",
       "      <td>0.760466</td>\n",
       "      <td>249.850983</td>\n",
       "      <td>128.372755</td>\n",
       "    </tr>\n",
       "    <tr>\n",
       "      <th>std</th>\n",
       "      <td>0.015606</td>\n",
       "      <td>75.700998</td>\n",
       "      <td>0.440314</td>\n",
       "    </tr>\n",
       "  </tbody>\n",
       "</table>\n",
       "</div>"
      ],
      "text/plain": [
       "         cv_r2  cv_rmse (€)  cv_mae (€)\n",
       "mean  0.760466   249.850983  128.372755\n",
       "std   0.015606    75.700998    0.440314"
      ]
     },
     "execution_count": 59,
     "metadata": {},
     "output_type": "execute_result"
    }
   ],
   "source": [
    "#Check 4-fold cross-validation performance of ridge regression learner with pre-selected features\n",
    "cv_ridge_selectP = cv_performance(pipeline_selectP_ridge, X_train, y_train, 4)\n",
    "cv_ridge_selectP"
   ]
  },
  {
   "cell_type": "markdown",
   "metadata": {},
   "source": [
    "- We note that the learner's performance appears to improve with cross-validation, further reducing the initial variance observed with the single pass performance assessment"
   ]
  },
  {
   "cell_type": "markdown",
   "metadata": {},
   "source": [
    "### 12.1.2 Pre-selecting a certain number of top features"
   ]
  },
  {
   "cell_type": "code",
   "execution_count": 60,
   "metadata": {},
   "outputs": [],
   "source": [
    "#Instantiate a selection object based on f_regression that selects the top 40 features\n",
    "selectK = SelectKBest(score_func = f_regression, k = 40)"
   ]
  },
  {
   "cell_type": "code",
   "execution_count": 61,
   "metadata": {},
   "outputs": [],
   "source": [
    "#Build pipeline with selected features\n",
    "selectK_steps_ridge = [('imputation', df_imputation), ('encoding', onehot), ('scaling', scaler), ('selectK', selectK),\\\n",
    "                   ('ridge', ridge)]\n",
    "pipeline_selectK_ridge = Pipeline(selectK_steps_ridge)"
   ]
  },
  {
   "cell_type": "code",
   "execution_count": 62,
   "metadata": {},
   "outputs": [
    {
     "data": {
      "text/plain": [
       "Pipeline(steps=[('imputation',\n",
       "                 DataFrameMapper(df_out=True, drop_cols=[],\n",
       "                                 features=[(['serviceCharge'],\n",
       "                                            SimpleImputer(strategy='median')),\n",
       "                                           (['livingSpace'],\n",
       "                                            SimpleImputer(strategy='median')),\n",
       "                                           (['noRooms'],\n",
       "                                            SimpleImputer(strategy='median')),\n",
       "                                           (['thermalChar'],\n",
       "                                            SimpleImputer(strategy='median')),\n",
       "                                           (['numberOfFloors'],\n",
       "                                            SimpleImputer(strategy='median')),\n",
       "                                           (['sqm_per_ro...\n",
       "                                            SimpleImputer(strategy='most_frequent')),\n",
       "                                           (['town_municipality'],\n",
       "                                            SimpleImputer(strategy='most_frequent')),\n",
       "                                           (['state_rent_class'],\n",
       "                                            SimpleImputer(strategy='most_frequent'))],\n",
       "                                 input_df=True)),\n",
       "                ('encoding', OneHotEncoder(handle_unknown='ignore')),\n",
       "                ('scaling', StandardScaler(with_mean=False)),\n",
       "                ('selectK',\n",
       "                 SelectKBest(k=40,\n",
       "                             score_func=<function f_regression at 0x0000025142EC9CA0>)),\n",
       "                ('ridge', Ridge())])"
      ]
     },
     "execution_count": 62,
     "metadata": {},
     "output_type": "execute_result"
    }
   ],
   "source": [
    "#Fit pipeline to date\n",
    "pipeline_selectK_ridge.fit(X_train, y_train.values.ravel())"
   ]
  },
  {
   "cell_type": "code",
   "execution_count": 63,
   "metadata": {},
   "outputs": [],
   "source": [
    "#Get model predictions of rent based on pre-selecting the top 40 features\n",
    "y_train_pred_selectK_ridge = pipeline_selectK_ridge.predict(X_train)\n",
    "y_test_pred_selectK_ridge = pipeline_selectK_ridge.predict(X_test)"
   ]
  },
  {
   "cell_type": "code",
   "execution_count": 64,
   "metadata": {
    "scrolled": true
   },
   "outputs": [
    {
     "data": {
      "text/html": [
       "<div>\n",
       "<style scoped>\n",
       "    .dataframe tbody tr th:only-of-type {\n",
       "        vertical-align: middle;\n",
       "    }\n",
       "\n",
       "    .dataframe tbody tr th {\n",
       "        vertical-align: top;\n",
       "    }\n",
       "\n",
       "    .dataframe thead th {\n",
       "        text-align: right;\n",
       "    }\n",
       "</style>\n",
       "<table border=\"1\" class=\"dataframe\">\n",
       "  <thead>\n",
       "    <tr style=\"text-align: right;\">\n",
       "      <th></th>\n",
       "      <th>r2_score</th>\n",
       "      <th>rmse (€)</th>\n",
       "      <th>mae (€)</th>\n",
       "    </tr>\n",
       "  </thead>\n",
       "  <tbody>\n",
       "    <tr>\n",
       "      <th>train</th>\n",
       "      <td>0.467719</td>\n",
       "      <td>372.141279</td>\n",
       "      <td>216.110391</td>\n",
       "    </tr>\n",
       "    <tr>\n",
       "      <th>test</th>\n",
       "      <td>0.424834</td>\n",
       "      <td>403.711315</td>\n",
       "      <td>215.991609</td>\n",
       "    </tr>\n",
       "    <tr>\n",
       "      <th>perf_change (%)</th>\n",
       "      <td>-9.168872</td>\n",
       "      <td>8.483347</td>\n",
       "      <td>-0.054964</td>\n",
       "    </tr>\n",
       "  </tbody>\n",
       "</table>\n",
       "</div>"
      ],
      "text/plain": [
       "                 r2_score    rmse (€)     mae (€)\n",
       "train            0.467719  372.141279  216.110391\n",
       "test             0.424834  403.711315  215.991609\n",
       "perf_change (%) -9.168872    8.483347   -0.054964"
      ]
     },
     "execution_count": 64,
     "metadata": {},
     "output_type": "execute_result"
    }
   ],
   "source": [
    "#Check single pass performance on the train and test sets for our ridge learner with 40 pre-selected features\n",
    "perf_ridge_selectK = train_test_performance(y_train, y_train_pred_selectK_ridge, y_test, y_test_pred_selectK_ridge)\n",
    "perf_ridge_selectK"
   ]
  },
  {
   "cell_type": "markdown",
   "metadata": {},
   "source": [
    "- We note that our ridge learner performance (r2-score) worse when we pre-select 40 features on both the train and test sets\n",
    "- We observe that our ridge learner explains less than 50% of the variation seen in our data"
   ]
  },
  {
   "cell_type": "code",
   "execution_count": 65,
   "metadata": {
    "scrolled": true
   },
   "outputs": [
    {
     "data": {
      "text/html": [
       "<div>\n",
       "<style scoped>\n",
       "    .dataframe tbody tr th:only-of-type {\n",
       "        vertical-align: middle;\n",
       "    }\n",
       "\n",
       "    .dataframe tbody tr th {\n",
       "        vertical-align: top;\n",
       "    }\n",
       "\n",
       "    .dataframe thead th {\n",
       "        text-align: right;\n",
       "    }\n",
       "</style>\n",
       "<table border=\"1\" class=\"dataframe\">\n",
       "  <thead>\n",
       "    <tr style=\"text-align: right;\">\n",
       "      <th></th>\n",
       "      <th>cv_r2</th>\n",
       "      <th>cv_rmse (€)</th>\n",
       "      <th>cv_mae (€)</th>\n",
       "    </tr>\n",
       "  </thead>\n",
       "  <tbody>\n",
       "    <tr>\n",
       "      <th>mean</th>\n",
       "      <td>0.464078</td>\n",
       "      <td>373.463911</td>\n",
       "      <td>216.755243</td>\n",
       "    </tr>\n",
       "    <tr>\n",
       "      <th>std</th>\n",
       "      <td>0.009670</td>\n",
       "      <td>79.252679</td>\n",
       "      <td>1.766775</td>\n",
       "    </tr>\n",
       "  </tbody>\n",
       "</table>\n",
       "</div>"
      ],
      "text/plain": [
       "         cv_r2  cv_rmse (€)  cv_mae (€)\n",
       "mean  0.464078   373.463911  216.755243\n",
       "std   0.009670    79.252679    1.766775"
      ]
     },
     "execution_count": 65,
     "metadata": {},
     "output_type": "execute_result"
    }
   ],
   "source": [
    "#Check 4-fold cross-validation performance of ridge learner with 40 pre-selected features\n",
    "cv_ridge_selectK = cv_performance(pipeline_selectK_ridge, X_train, y_train, 4)\n",
    "cv_ridge_selectK"
   ]
  },
  {
   "cell_type": "markdown",
   "metadata": {},
   "source": [
    "- Our cross-validation performance by pre-selecting 40 features is comparatively less than observed when we pre-selected 5% of features."
   ]
  },
  {
   "cell_type": "markdown",
   "metadata": {},
   "source": [
    "## 12.2 Pre-selecting Features for Random Forest Model "
   ]
  },
  {
   "cell_type": "code",
   "execution_count": 185,
   "metadata": {},
   "outputs": [],
   "source": [
    "#Instantiate a selection object based on f_regression that selects the top 40 features\n",
    "selectK = SelectKBest(score_func = f_regression, k = 40)"
   ]
  },
  {
   "cell_type": "code",
   "execution_count": 186,
   "metadata": {},
   "outputs": [],
   "source": [
    "#Instantiate new random forest model\n",
    "rf_selectK = RandomForestRegressor(random_state = 77)"
   ]
  },
  {
   "cell_type": "code",
   "execution_count": 187,
   "metadata": {},
   "outputs": [],
   "source": [
    "#Set up pipeline for random forest learner and pre-selecting the top 40 features\n",
    "selectK_steps_rf = [('imputation', df_imputation), ('encoding', onehot), ('scaling', scaler), ('selectK', selectK),\\\n",
    "                   ('rf_selectK', rf_selectK)]\n",
    "pipeline_selectK_rf = Pipeline(selectK_steps_rf)"
   ]
  },
  {
   "cell_type": "code",
   "execution_count": 188,
   "metadata": {},
   "outputs": [
    {
     "data": {
      "text/plain": [
       "Pipeline(steps=[('imputation',\n",
       "                 DataFrameMapper(df_out=True, drop_cols=[],\n",
       "                                 features=[(['serviceCharge'],\n",
       "                                            SimpleImputer(strategy='median')),\n",
       "                                           (['livingSpace'],\n",
       "                                            SimpleImputer(strategy='median')),\n",
       "                                           (['noRooms'],\n",
       "                                            SimpleImputer(strategy='median')),\n",
       "                                           (['thermalChar'],\n",
       "                                            SimpleImputer(strategy='median')),\n",
       "                                           (['numberOfFloors'],\n",
       "                                            SimpleImputer(strategy='median')),\n",
       "                                           (['sqm_per_ro...\n",
       "                                            SimpleImputer(strategy='most_frequent')),\n",
       "                                           (['state_rent_class'],\n",
       "                                            SimpleImputer(strategy='most_frequent'))],\n",
       "                                 input_df=True)),\n",
       "                ('encoding', OneHotEncoder(handle_unknown='ignore')),\n",
       "                ('scaling', StandardScaler(with_mean=False)),\n",
       "                ('selectK',\n",
       "                 SelectKBest(k=40,\n",
       "                             score_func=<function f_regression at 0x0000025142EC9CA0>)),\n",
       "                ('rf_selectK', RandomForestRegressor(random_state=77))])"
      ]
     },
     "execution_count": 188,
     "metadata": {},
     "output_type": "execute_result"
    }
   ],
   "source": [
    "#Fit pipeline to data\n",
    "pipeline_selectK_rf.fit(X_train, y_train.values.ravel())"
   ]
  },
  {
   "cell_type": "code",
   "execution_count": 189,
   "metadata": {},
   "outputs": [],
   "source": [
    "#Get rent predictions for random forest learner with top 40 features pre-selected\n",
    "y_train_pred_selectK_rf = pipeline_selectK_rf.predict(X_train)\n",
    "y_test_pred_selectK_rf = pipeline_selectK_rf.predict(X_test)"
   ]
  },
  {
   "cell_type": "code",
   "execution_count": 190,
   "metadata": {},
   "outputs": [
    {
     "data": {
      "text/html": [
       "<div>\n",
       "<style scoped>\n",
       "    .dataframe tbody tr th:only-of-type {\n",
       "        vertical-align: middle;\n",
       "    }\n",
       "\n",
       "    .dataframe tbody tr th {\n",
       "        vertical-align: top;\n",
       "    }\n",
       "\n",
       "    .dataframe thead th {\n",
       "        text-align: right;\n",
       "    }\n",
       "</style>\n",
       "<table border=\"1\" class=\"dataframe\">\n",
       "  <thead>\n",
       "    <tr style=\"text-align: right;\">\n",
       "      <th></th>\n",
       "      <th>r2_score</th>\n",
       "      <th>rmse (€)</th>\n",
       "      <th>mae (€)</th>\n",
       "    </tr>\n",
       "  </thead>\n",
       "  <tbody>\n",
       "    <tr>\n",
       "      <th>train</th>\n",
       "      <td>0.510153</td>\n",
       "      <td>356.999615</td>\n",
       "      <td>206.733366</td>\n",
       "    </tr>\n",
       "    <tr>\n",
       "      <th>test</th>\n",
       "      <td>0.451697</td>\n",
       "      <td>394.171243</td>\n",
       "      <td>208.281970</td>\n",
       "    </tr>\n",
       "    <tr>\n",
       "      <th>perf_change (%)</th>\n",
       "      <td>-11.458530</td>\n",
       "      <td>10.412232</td>\n",
       "      <td>0.749083</td>\n",
       "    </tr>\n",
       "  </tbody>\n",
       "</table>\n",
       "</div>"
      ],
      "text/plain": [
       "                  r2_score    rmse (€)     mae (€)\n",
       "train             0.510153  356.999615  206.733366\n",
       "test              0.451697  394.171243  208.281970\n",
       "perf_change (%) -11.458530   10.412232    0.749083"
      ]
     },
     "execution_count": 190,
     "metadata": {},
     "output_type": "execute_result"
    }
   ],
   "source": [
    "#Check single pass train / test performance for random forest model with top 40 features pre-selected\n",
    "perf_rf_selectK = train_test_performance(y_train, y_train_pred_selectK_rf, y_test, y_test_pred_selectK_rf)\n",
    "perf_rf_selectK"
   ]
  },
  {
   "cell_type": "code",
   "execution_count": 193,
   "metadata": {},
   "outputs": [
    {
     "data": {
      "text/html": [
       "<div>\n",
       "<style scoped>\n",
       "    .dataframe tbody tr th:only-of-type {\n",
       "        vertical-align: middle;\n",
       "    }\n",
       "\n",
       "    .dataframe tbody tr th {\n",
       "        vertical-align: top;\n",
       "    }\n",
       "\n",
       "    .dataframe thead th {\n",
       "        text-align: right;\n",
       "    }\n",
       "</style>\n",
       "<table border=\"1\" class=\"dataframe\">\n",
       "  <thead>\n",
       "    <tr style=\"text-align: right;\">\n",
       "      <th></th>\n",
       "      <th>cv_r2</th>\n",
       "      <th>cv_rmse (€)</th>\n",
       "      <th>cv_mae (€)</th>\n",
       "    </tr>\n",
       "  </thead>\n",
       "  <tbody>\n",
       "    <tr>\n",
       "      <th>mean</th>\n",
       "      <td>0.490873</td>\n",
       "      <td>363.967723</td>\n",
       "      <td>208.985597</td>\n",
       "    </tr>\n",
       "    <tr>\n",
       "      <th>std</th>\n",
       "      <td>0.010245</td>\n",
       "      <td>73.875372</td>\n",
       "      <td>1.631288</td>\n",
       "    </tr>\n",
       "  </tbody>\n",
       "</table>\n",
       "</div>"
      ],
      "text/plain": [
       "         cv_r2  cv_rmse (€)  cv_mae (€)\n",
       "mean  0.490873   363.967723  208.985597\n",
       "std   0.010245    73.875372    1.631288"
      ]
     },
     "execution_count": 193,
     "metadata": {},
     "output_type": "execute_result"
    }
   ],
   "source": [
    "#Check 4-fold cross-validation performance of random forest learner with 40 pre-selected features\n",
    "cv_rf_selectK = cv_performance(pipeline_selectK_rf, X_train, y_train, 4)\n",
    "cv_rf_selectK"
   ]
  },
  {
   "cell_type": "markdown",
   "metadata": {},
   "source": [
    "# 13 Hyper parameter tuning on ridge learner<a id = '13._Hyper_parameter_tuning_on_ridge_learner'></a> "
   ]
  },
  {
   "cell_type": "code",
   "execution_count": 195,
   "metadata": {},
   "outputs": [],
   "source": [
    "#Instantiate the selection of a percentage of features\n",
    "selectP_search = SelectPercentile(score_func = f_regression)"
   ]
  },
  {
   "cell_type": "code",
   "execution_count": 196,
   "metadata": {},
   "outputs": [],
   "source": [
    "#Create pipeline for our ridge learner\n",
    "selectP2_steps_ridge = [('imputation', df_imputation), ('encoding', onehot), ('scaling', scaler), \\\n",
    "                        ('selectP_search', selectP_search), ('ridge_P', ridge)]\n",
    "pipeline_selectP2_ridge = Pipeline(selectP2_steps_ridge)"
   ]
  },
  {
   "cell_type": "code",
   "execution_count": 197,
   "metadata": {},
   "outputs": [],
   "source": [
    "#Specify parameters to assess in optimizing our ridge learner's performance\n",
    "cv_ridge_params = {'selectP_search__percentile':np.arange(1, 10, 11), 'ridge_P__alpha': np.linspace(0, 1, 11)}"
   ]
  },
  {
   "cell_type": "code",
   "execution_count": 198,
   "metadata": {},
   "outputs": [],
   "source": [
    "#Create object to search for optimum parameters\n",
    "cv_ridge = GridSearchCV(estimator = pipeline_selectP2_ridge, param_grid = cv_ridge_params,\n",
    "                        scoring = ['r2', 'neg_mean_squared_error','neg_mean_absolute_error'], refit = 'r2', cv = 4)"
   ]
  },
  {
   "cell_type": "code",
   "execution_count": 199,
   "metadata": {
    "scrolled": true
   },
   "outputs": [
    {
     "data": {
      "text/plain": [
       "GridSearchCV(cv=4,\n",
       "             estimator=Pipeline(steps=[('imputation',\n",
       "                                        DataFrameMapper(df_out=True,\n",
       "                                                        drop_cols=[],\n",
       "                                                        features=[(['serviceCharge'],\n",
       "                                                                   SimpleImputer(strategy='median')),\n",
       "                                                                  (['livingSpace'],\n",
       "                                                                   SimpleImputer(strategy='median')),\n",
       "                                                                  (['noRooms'],\n",
       "                                                                   SimpleImputer(strategy='median')),\n",
       "                                                                  (['thermalChar'],\n",
       "                                                                   SimpleImputer(strategy='median')),\n",
       "                                                                  (['numberOfFloors'],\n",
       "                                                                   SimpleImputer(strat...\n",
       "                                       ('scaling',\n",
       "                                        StandardScaler(with_mean=False)),\n",
       "                                       ('selectP_search',\n",
       "                                        SelectPercentile(score_func=<function f_regression at 0x0000025142EC9CA0>)),\n",
       "                                       ('ridge_P', Ridge())]),\n",
       "             param_grid={'ridge_P__alpha': array([0. , 0.1, 0.2, 0.3, 0.4, 0.5, 0.6, 0.7, 0.8, 0.9, 1. ]),\n",
       "                         'selectP_search__percentile': array([1])},\n",
       "             refit='r2',\n",
       "             scoring=['r2', 'neg_mean_squared_error',\n",
       "                      'neg_mean_absolute_error'])"
      ]
     },
     "execution_count": 199,
     "metadata": {},
     "output_type": "execute_result"
    }
   ],
   "source": [
    "#Fit parameter search object to data\n",
    "cv_ridge.fit(X_train, y_train.values.ravel())"
   ]
  },
  {
   "cell_type": "code",
   "execution_count": 200,
   "metadata": {},
   "outputs": [
    {
     "data": {
      "text/plain": [
       "{'ridge_P__alpha': 0.30000000000000004, 'selectP_search__percentile': 1}"
      ]
     },
     "execution_count": 200,
     "metadata": {},
     "output_type": "execute_result"
    }
   ],
   "source": [
    "#Get the best parameters\n",
    "cv_ridge.best_params_"
   ]
  },
  {
   "cell_type": "code",
   "execution_count": 201,
   "metadata": {},
   "outputs": [],
   "source": [
    "#Get the predictions on our train and test sets for our ridge learner with optimal parameters\n",
    "y_train_pred_cv_ridge = cv_ridge.predict(X_train)\n",
    "y_test_pred_cv_ridge = cv_ridge.predict(X_test)"
   ]
  },
  {
   "cell_type": "code",
   "execution_count": 202,
   "metadata": {
    "scrolled": false
   },
   "outputs": [
    {
     "data": {
      "text/html": [
       "<div>\n",
       "<style scoped>\n",
       "    .dataframe tbody tr th:only-of-type {\n",
       "        vertical-align: middle;\n",
       "    }\n",
       "\n",
       "    .dataframe tbody tr th {\n",
       "        vertical-align: top;\n",
       "    }\n",
       "\n",
       "    .dataframe thead th {\n",
       "        text-align: right;\n",
       "    }\n",
       "</style>\n",
       "<table border=\"1\" class=\"dataframe\">\n",
       "  <thead>\n",
       "    <tr style=\"text-align: right;\">\n",
       "      <th></th>\n",
       "      <th>r2_score</th>\n",
       "      <th>rmse (€)</th>\n",
       "      <th>mae (€)</th>\n",
       "    </tr>\n",
       "  </thead>\n",
       "  <tbody>\n",
       "    <tr>\n",
       "      <th>train</th>\n",
       "      <td>0.777329</td>\n",
       "      <td>240.696228</td>\n",
       "      <td>145.257782</td>\n",
       "    </tr>\n",
       "    <tr>\n",
       "      <th>test</th>\n",
       "      <td>0.664015</td>\n",
       "      <td>308.556244</td>\n",
       "      <td>147.676454</td>\n",
       "    </tr>\n",
       "    <tr>\n",
       "      <th>perf_change (%)</th>\n",
       "      <td>-14.577325</td>\n",
       "      <td>28.193219</td>\n",
       "      <td>1.665090</td>\n",
       "    </tr>\n",
       "  </tbody>\n",
       "</table>\n",
       "</div>"
      ],
      "text/plain": [
       "                  r2_score    rmse (€)     mae (€)\n",
       "train             0.777329  240.696228  145.257782\n",
       "test              0.664015  308.556244  147.676454\n",
       "perf_change (%) -14.577325   28.193219    1.665090"
      ]
     },
     "execution_count": 202,
     "metadata": {},
     "output_type": "execute_result"
    }
   ],
   "source": [
    "#Check single pass performance of ridge learner on train and test sets\n",
    "perf_cv_ridge = train_test_performance(y_train, y_train_pred_cv_ridge, y_test, y_test_pred_cv_ridge)\n",
    "perf_cv_ridge"
   ]
  },
  {
   "cell_type": "markdown",
   "metadata": {},
   "source": [
    "- On a single pass our ridge regression with optimized parameters performs worse than without optimized parameters. However, we observe less variance in results, suggesting less fitting of the model. "
   ]
  },
  {
   "cell_type": "markdown",
   "metadata": {},
   "source": [
    "## 13.1 Obtaining cross-validation scores from grid search"
   ]
  },
  {
   "cell_type": "code",
   "execution_count": 132,
   "metadata": {},
   "outputs": [],
   "source": [
    "def search_performance(cv_object):\n",
    "    metrics = ['mean_test_r2', 'std_test_r2', \\\n",
    "           'mean_test_neg_mean_squared_error', 'std_test_neg_mean_squared_error', \\\n",
    "          'mean_test_neg_mean_absolute_error', 'std_test_neg_mean_absolute_error']\n",
    "    metrics_df = pd.DataFrame(cv_object.cv_results_).sort_values(by = 'rank_test_r2').reset_index().loc[[0], metrics]\n",
    "    metrics_df['mean_test_neg_mean_squared_error'] = (metrics_df['mean_test_neg_mean_squared_error'] * -1).apply(np.sqrt)\n",
    "    metrics_df['std_test_neg_mean_squared_error'] = (metrics_df['std_test_neg_mean_squared_error']).apply(np.sqrt)\n",
    "    metrics_df['mean_test_neg_mean_absolute_error'] = metrics_df['mean_test_neg_mean_absolute_error'] * -1\n",
    "    metrics_df_T = metrics_df.T\n",
    "    metrics_df_T['measure'] = ['mean', 'std', 'mean', 'std', 'mean', 'std']\n",
    "    metrics_df_T['metric'] = ['cv_r2', 'cv_r2', 'cv_rmse(€)', 'cv_rmse(€)', 'cv_mae(€)', 'cv_mae(€)']\n",
    "    cv_search = pd.DataFrame((metrics_df_T.pivot(index = 'measure', columns = 'metric', values = 0)))\n",
    "    cv_search = cv_search.loc[:, ['cv_r2','cv_rmse(€)','cv_mae(€)']]\n",
    "    return cv_search"
   ]
  },
  {
   "cell_type": "code",
   "execution_count": 133,
   "metadata": {
    "scrolled": true
   },
   "outputs": [
    {
     "data": {
      "text/html": [
       "<div>\n",
       "<style scoped>\n",
       "    .dataframe tbody tr th:only-of-type {\n",
       "        vertical-align: middle;\n",
       "    }\n",
       "\n",
       "    .dataframe tbody tr th {\n",
       "        vertical-align: top;\n",
       "    }\n",
       "\n",
       "    .dataframe thead th {\n",
       "        text-align: right;\n",
       "    }\n",
       "</style>\n",
       "<table border=\"1\" class=\"dataframe\">\n",
       "  <thead>\n",
       "    <tr style=\"text-align: right;\">\n",
       "      <th>metric</th>\n",
       "      <th>cv_r2</th>\n",
       "      <th>cv_rmse(€)</th>\n",
       "      <th>cv_mae(€)</th>\n",
       "    </tr>\n",
       "    <tr>\n",
       "      <th>measure</th>\n",
       "      <th></th>\n",
       "      <th></th>\n",
       "      <th></th>\n",
       "    </tr>\n",
       "  </thead>\n",
       "  <tbody>\n",
       "    <tr>\n",
       "      <th>mean</th>\n",
       "      <td>0.708505</td>\n",
       "      <td>275.562473</td>\n",
       "      <td>150.496598</td>\n",
       "    </tr>\n",
       "    <tr>\n",
       "      <th>std</th>\n",
       "      <td>0.015652</td>\n",
       "      <td>77.774885</td>\n",
       "      <td>0.749103</td>\n",
       "    </tr>\n",
       "  </tbody>\n",
       "</table>\n",
       "</div>"
      ],
      "text/plain": [
       "metric      cv_r2  cv_rmse(€)   cv_mae(€)\n",
       "measure                                  \n",
       "mean     0.708505  275.562473  150.496598\n",
       "std      0.015652   77.774885    0.749103"
      ]
     },
     "execution_count": 133,
     "metadata": {},
     "output_type": "execute_result"
    }
   ],
   "source": [
    "cv_ridge_search = search_performance(cv_ridge)\n",
    "cv_ridge_search"
   ]
  },
  {
   "cell_type": "markdown",
   "metadata": {},
   "source": [
    "- Our cross-validation scores show less variance compared to the single pass performance"
   ]
  },
  {
   "cell_type": "markdown",
   "metadata": {},
   "source": [
    "# 14. XGBoost Model<a id = '14._XGBoost_Model'></a>"
   ]
  },
  {
   "cell_type": "code",
   "execution_count": 152,
   "metadata": {},
   "outputs": [],
   "source": [
    "#Instantiate XGBoost learner\n",
    "xg = xgb.XGBRegressor(objective = 'reg:squarederror', seed = 77)"
   ]
  },
  {
   "cell_type": "code",
   "execution_count": 153,
   "metadata": {},
   "outputs": [],
   "source": [
    "#Create pipeline for xg boost learner\n",
    "steps_xg = [('imputation', df_imputation), ('encoding', onehot), ('scaling', scaler), ('xg', xg)]\n",
    "pipeline_xg = Pipeline(steps_xg)"
   ]
  },
  {
   "cell_type": "code",
   "execution_count": 154,
   "metadata": {
    "scrolled": true
   },
   "outputs": [
    {
     "data": {
      "text/plain": [
       "Pipeline(steps=[('imputation',\n",
       "                 DataFrameMapper(df_out=True, drop_cols=[],\n",
       "                                 features=[(['serviceCharge'],\n",
       "                                            SimpleImputer(strategy='median')),\n",
       "                                           (['livingSpace'],\n",
       "                                            SimpleImputer(strategy='median')),\n",
       "                                           (['noRooms'],\n",
       "                                            SimpleImputer(strategy='median')),\n",
       "                                           (['thermalChar'],\n",
       "                                            SimpleImputer(strategy='median')),\n",
       "                                           (['numberOfFloors'],\n",
       "                                            SimpleImputer(strategy='median')),\n",
       "                                           (['sqm_per_ro...\n",
       "                              colsample_bytree=1, gamma=0, gpu_id=-1,\n",
       "                              importance_type='gain',\n",
       "                              interaction_constraints='',\n",
       "                              learning_rate=0.300000012, max_delta_step=0,\n",
       "                              max_depth=6, min_child_weight=1, missing=nan,\n",
       "                              monotone_constraints='()', n_estimators=100,\n",
       "                              n_jobs=8, num_parallel_tree=1, random_state=77,\n",
       "                              reg_alpha=0, reg_lambda=1, scale_pos_weight=1,\n",
       "                              seed=77, subsample=1, tree_method='exact',\n",
       "                              validate_parameters=1, verbosity=None))])"
      ]
     },
     "execution_count": 154,
     "metadata": {},
     "output_type": "execute_result"
    }
   ],
   "source": [
    "#Fit pipeline to data\n",
    "pipeline_xg.fit(X_train, y_train.values.ravel())"
   ]
  },
  {
   "cell_type": "code",
   "execution_count": 155,
   "metadata": {},
   "outputs": [],
   "source": [
    "#Get single pass rent predictions for train and test sets with the xg boost learner\n",
    "y_train_pred_xg = pipeline_xg.predict(X_train)\n",
    "y_test_pred_xg = pipeline_xg.predict(X_test)"
   ]
  },
  {
   "cell_type": "code",
   "execution_count": 156,
   "metadata": {
    "scrolled": true
   },
   "outputs": [
    {
     "data": {
      "text/html": [
       "<div>\n",
       "<style scoped>\n",
       "    .dataframe tbody tr th:only-of-type {\n",
       "        vertical-align: middle;\n",
       "    }\n",
       "\n",
       "    .dataframe tbody tr th {\n",
       "        vertical-align: top;\n",
       "    }\n",
       "\n",
       "    .dataframe thead th {\n",
       "        text-align: right;\n",
       "    }\n",
       "</style>\n",
       "<table border=\"1\" class=\"dataframe\">\n",
       "  <thead>\n",
       "    <tr style=\"text-align: right;\">\n",
       "      <th></th>\n",
       "      <th>r2_score</th>\n",
       "      <th>rmse (€)</th>\n",
       "      <th>mae (€)</th>\n",
       "    </tr>\n",
       "  </thead>\n",
       "  <tbody>\n",
       "    <tr>\n",
       "      <th>train</th>\n",
       "      <td>0.838030</td>\n",
       "      <td>205.283534</td>\n",
       "      <td>130.743382</td>\n",
       "    </tr>\n",
       "    <tr>\n",
       "      <th>test</th>\n",
       "      <td>0.690263</td>\n",
       "      <td>296.258624</td>\n",
       "      <td>137.060332</td>\n",
       "    </tr>\n",
       "    <tr>\n",
       "      <th>perf_change (%)</th>\n",
       "      <td>-17.632696</td>\n",
       "      <td>44.316798</td>\n",
       "      <td>4.831564</td>\n",
       "    </tr>\n",
       "  </tbody>\n",
       "</table>\n",
       "</div>"
      ],
      "text/plain": [
       "                  r2_score    rmse (€)     mae (€)\n",
       "train             0.838030  205.283534  130.743382\n",
       "test              0.690263  296.258624  137.060332\n",
       "perf_change (%) -17.632696   44.316798    4.831564"
      ]
     },
     "execution_count": 156,
     "metadata": {},
     "output_type": "execute_result"
    }
   ],
   "source": [
    "#Check single pass performance of xg boost learner\n",
    "perf_xg = train_test_performance(y_train, y_train_pred_xg, y_test, y_test_pred_xg)\n",
    "perf_xg"
   ]
  },
  {
   "cell_type": "code",
   "execution_count": 169,
   "metadata": {},
   "outputs": [
    {
     "data": {
      "text/html": [
       "<div>\n",
       "<style scoped>\n",
       "    .dataframe tbody tr th:only-of-type {\n",
       "        vertical-align: middle;\n",
       "    }\n",
       "\n",
       "    .dataframe tbody tr th {\n",
       "        vertical-align: top;\n",
       "    }\n",
       "\n",
       "    .dataframe thead th {\n",
       "        text-align: right;\n",
       "    }\n",
       "</style>\n",
       "<table border=\"1\" class=\"dataframe\">\n",
       "  <thead>\n",
       "    <tr style=\"text-align: right;\">\n",
       "      <th></th>\n",
       "      <th>cv_r2</th>\n",
       "      <th>cv_rmse (€)</th>\n",
       "      <th>cv_mae (€)</th>\n",
       "    </tr>\n",
       "  </thead>\n",
       "  <tbody>\n",
       "    <tr>\n",
       "      <th>mean</th>\n",
       "      <td>0.749839</td>\n",
       "      <td>255.294341</td>\n",
       "      <td>137.400584</td>\n",
       "    </tr>\n",
       "    <tr>\n",
       "      <th>std</th>\n",
       "      <td>0.014260</td>\n",
       "      <td>73.735988</td>\n",
       "      <td>0.873913</td>\n",
       "    </tr>\n",
       "  </tbody>\n",
       "</table>\n",
       "</div>"
      ],
      "text/plain": [
       "         cv_r2  cv_rmse (€)  cv_mae (€)\n",
       "mean  0.749839   255.294341  137.400584\n",
       "std   0.014260    73.735988    0.873913"
      ]
     },
     "execution_count": 169,
     "metadata": {},
     "output_type": "execute_result"
    }
   ],
   "source": [
    "#Check 4-fold cross-validation performance of xg boost learner\n",
    "cv_xg = cv_performance(pipeline_xg, X_train, y_train, 4)\n",
    "cv_xg"
   ]
  },
  {
   "cell_type": "markdown",
   "metadata": {},
   "source": [
    "## 14.1 Hyperparameter tuning on XGBoost learner "
   ]
  },
  {
   "cell_type": "code",
   "execution_count": 176,
   "metadata": {},
   "outputs": [],
   "source": [
    "#Set up search grid for XGBoost parameters\n",
    "xg_params = {'xg__subsample': np.arange(0.1, 1, 0.1), \n",
    "                 'xg__max_depth':np.arange(3, 5, 1),\n",
    "                 'xg__colsample_bytree': np.arange(0.1, 1, 0.1)}"
   ]
  },
  {
   "cell_type": "code",
   "execution_count": 177,
   "metadata": {},
   "outputs": [],
   "source": [
    "#Set up randomized search with the xg boost learner over the search grid\n",
    "search_xg = RandomizedSearchCV(estimator = pipeline_xg, param_distributions = xg_params, n_iter = 5, \\\n",
    "                            scoring = ['r2', 'neg_mean_squared_error','neg_mean_absolute_error'], refit = 'r2', cv = 4)"
   ]
  },
  {
   "cell_type": "code",
   "execution_count": 178,
   "metadata": {
    "scrolled": false
   },
   "outputs": [
    {
     "data": {
      "text/plain": [
       "RandomizedSearchCV(cv=4,\n",
       "                   estimator=Pipeline(steps=[('imputation',\n",
       "                                              DataFrameMapper(df_out=True,\n",
       "                                                              drop_cols=[],\n",
       "                                                              features=[(['serviceCharge'],\n",
       "                                                                         SimpleImputer(strategy='median')),\n",
       "                                                                        (['livingSpace'],\n",
       "                                                                         SimpleImputer(strategy='median')),\n",
       "                                                                        (['noRooms'],\n",
       "                                                                         SimpleImputer(strategy='median')),\n",
       "                                                                        (['thermalChar'],\n",
       "                                                                         SimpleImputer(strategy='median')),\n",
       "                                                                        (['numberOfFloors'],\n",
       "                                                                         SimpleImputer...\n",
       "                                                           scale_pos_weight=1,\n",
       "                                                           seed=77, subsample=1,\n",
       "                                                           tree_method='exact',\n",
       "                                                           validate_parameters=1,\n",
       "                                                           verbosity=None))]),\n",
       "                   n_iter=5,\n",
       "                   param_distributions={'xg__colsample_bytree': array([0.1, 0.2, 0.3, 0.4, 0.5, 0.6, 0.7, 0.8, 0.9]),\n",
       "                                        'xg__max_depth': array([3, 4]),\n",
       "                                        'xg__subsample': array([0.1, 0.2, 0.3, 0.4, 0.5, 0.6, 0.7, 0.8, 0.9])},\n",
       "                   refit='r2',\n",
       "                   scoring=['r2', 'neg_mean_squared_error',\n",
       "                            'neg_mean_absolute_error'])"
      ]
     },
     "execution_count": 178,
     "metadata": {},
     "output_type": "execute_result"
    }
   ],
   "source": [
    "#Fit xg boost learner with search grid to data\n",
    "search_xg.fit(X_train, y_train.values.ravel())"
   ]
  },
  {
   "cell_type": "code",
   "execution_count": 179,
   "metadata": {},
   "outputs": [
    {
     "data": {
      "text/plain": [
       "{'xg__subsample': 0.4,\n",
       " 'xg__max_depth': 4,\n",
       " 'xg__colsample_bytree': 0.7000000000000001}"
      ]
     },
     "execution_count": 179,
     "metadata": {},
     "output_type": "execute_result"
    }
   ],
   "source": [
    "#Check xg boost learner's best parameters\n",
    "search_xg.best_params_"
   ]
  },
  {
   "cell_type": "code",
   "execution_count": 181,
   "metadata": {
    "scrolled": true
   },
   "outputs": [],
   "source": [
    "y_train_pred_search_xg = search_xg.predict(X_train)\n",
    "y_test_pred_search_xg = search_xg.predict(X_test)"
   ]
  },
  {
   "cell_type": "code",
   "execution_count": 182,
   "metadata": {},
   "outputs": [
    {
     "data": {
      "text/html": [
       "<div>\n",
       "<style scoped>\n",
       "    .dataframe tbody tr th:only-of-type {\n",
       "        vertical-align: middle;\n",
       "    }\n",
       "\n",
       "    .dataframe tbody tr th {\n",
       "        vertical-align: top;\n",
       "    }\n",
       "\n",
       "    .dataframe thead th {\n",
       "        text-align: right;\n",
       "    }\n",
       "</style>\n",
       "<table border=\"1\" class=\"dataframe\">\n",
       "  <thead>\n",
       "    <tr style=\"text-align: right;\">\n",
       "      <th></th>\n",
       "      <th>r2_score</th>\n",
       "      <th>rmse (€)</th>\n",
       "      <th>mae (€)</th>\n",
       "    </tr>\n",
       "  </thead>\n",
       "  <tbody>\n",
       "    <tr>\n",
       "      <th>train</th>\n",
       "      <td>0.777118</td>\n",
       "      <td>240.810366</td>\n",
       "      <td>150.647774</td>\n",
       "    </tr>\n",
       "    <tr>\n",
       "      <th>test</th>\n",
       "      <td>0.656519</td>\n",
       "      <td>311.979563</td>\n",
       "      <td>152.862170</td>\n",
       "    </tr>\n",
       "    <tr>\n",
       "      <th>perf_change (%)</th>\n",
       "      <td>-15.518775</td>\n",
       "      <td>29.554042</td>\n",
       "      <td>1.469916</td>\n",
       "    </tr>\n",
       "  </tbody>\n",
       "</table>\n",
       "</div>"
      ],
      "text/plain": [
       "                  r2_score    rmse (€)     mae (€)\n",
       "train             0.777118  240.810366  150.647774\n",
       "test              0.656519  311.979563  152.862170\n",
       "perf_change (%) -15.518775   29.554042    1.469916"
      ]
     },
     "execution_count": 182,
     "metadata": {},
     "output_type": "execute_result"
    }
   ],
   "source": [
    "perf_xg_search = train_test_performance(y_train, y_train_pred_search_xg, y_test, y_test_pred_search_xg)\n",
    "perf_xg_search"
   ]
  },
  {
   "cell_type": "code",
   "execution_count": 184,
   "metadata": {
    "scrolled": false
   },
   "outputs": [
    {
     "data": {
      "text/html": [
       "<div>\n",
       "<style scoped>\n",
       "    .dataframe tbody tr th:only-of-type {\n",
       "        vertical-align: middle;\n",
       "    }\n",
       "\n",
       "    .dataframe tbody tr th {\n",
       "        vertical-align: top;\n",
       "    }\n",
       "\n",
       "    .dataframe thead th {\n",
       "        text-align: right;\n",
       "    }\n",
       "</style>\n",
       "<table border=\"1\" class=\"dataframe\">\n",
       "  <thead>\n",
       "    <tr style=\"text-align: right;\">\n",
       "      <th>metric</th>\n",
       "      <th>cv_r2</th>\n",
       "      <th>cv_rmse(€)</th>\n",
       "      <th>cv_mae(€)</th>\n",
       "    </tr>\n",
       "    <tr>\n",
       "      <th>measure</th>\n",
       "      <th></th>\n",
       "      <th></th>\n",
       "      <th></th>\n",
       "    </tr>\n",
       "  </thead>\n",
       "  <tbody>\n",
       "    <tr>\n",
       "      <th>mean</th>\n",
       "      <td>0.70728</td>\n",
       "      <td>276.095890</td>\n",
       "      <td>153.618408</td>\n",
       "    </tr>\n",
       "    <tr>\n",
       "      <th>std</th>\n",
       "      <td>0.01212</td>\n",
       "      <td>71.873054</td>\n",
       "      <td>0.951187</td>\n",
       "    </tr>\n",
       "  </tbody>\n",
       "</table>\n",
       "</div>"
      ],
      "text/plain": [
       "metric     cv_r2  cv_rmse(€)   cv_mae(€)\n",
       "measure                                 \n",
       "mean     0.70728  276.095890  153.618408\n",
       "std      0.01212   71.873054    0.951187"
      ]
     },
     "execution_count": 184,
     "metadata": {},
     "output_type": "execute_result"
    }
   ],
   "source": [
    "#Check performance of xg boost learner with search grid\n",
    "cv_xg_search = search_performance(search_xg)\n",
    "cv_xg_search"
   ]
  },
  {
   "cell_type": "markdown",
   "metadata": {},
   "source": [
    "# 15. Model Selection<a id = '15._Model_Selection'></a>"
   ]
  },
  {
   "cell_type": "markdown",
   "metadata": {},
   "source": [
    "- We select the ridge regression model with gridsearch because it has a similar r-squared value as XGBoost (0.7), but with less variance in the mean absolute error - (153 +/- 0.95 for XGBoost) and (150 +/- 0.75 for ridge). "
   ]
  },
  {
   "cell_type": "markdown",
   "metadata": {},
   "source": [
    "# 16. Save Best Model<a id = '16._Save_best_model'></a> "
   ]
  },
  {
   "cell_type": "code",
   "execution_count": 276,
   "metadata": {},
   "outputs": [],
   "source": [
    "best_model = cv_ridge.best_estimator_\n",
    "best_model.version = '1.0'\n",
    "best_model.pandas_version = pd.__version__\n",
    "best_model.numpy_version = np.__version__\n",
    "best_model.sklearn_version = str(sklearn.__version__)\n",
    "best_model.X_columns = [col for col in X_train.columns]\n",
    "best_model.build_datetime = dt.now()\n",
    "    \n",
    "modelpath = '..\\models'\n",
    "if not os.path.exists(modelpath):\n",
    "    os.mkdir(modelpath)\n",
    "rentalsmodel_path = os.path.join(modelpath, 'rentals_pricing_model.pkl')\n",
    "if not os.path.exists(rentalsmodel_path):\n",
    "    with open(rentalsmodel_path, 'wb') as f:\n",
    "        pickle.dump(best_model, f)"
   ]
  }
 ],
 "metadata": {
  "kernelspec": {
   "display_name": "Python 3",
   "language": "python",
   "name": "python3"
  },
  "language_info": {
   "codemirror_mode": {
    "name": "ipython",
    "version": 3
   },
   "file_extension": ".py",
   "mimetype": "text/x-python",
   "name": "python",
   "nbconvert_exporter": "python",
   "pygments_lexer": "ipython3",
   "version": "3.8.10"
  }
 },
 "nbformat": 4,
 "nbformat_minor": 4
}
