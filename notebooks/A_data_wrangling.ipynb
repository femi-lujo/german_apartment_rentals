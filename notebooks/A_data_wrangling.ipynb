{
 "cells": [
  {
   "cell_type": "markdown",
   "metadata": {},
   "source": [
    "# A. Data Wrangling"
   ]
  },
  {
   "cell_type": "markdown",
   "metadata": {},
   "source": [
    "# 1. Purpose of This Data Science Project"
   ]
  },
  {
   "cell_type": "markdown",
   "metadata": {},
   "source": [
    "The purpose of this data science project is to develop a pricing model for rents listed on rental postings. Property owners would benefit from listing their property at an appropriate price and in line with their position in the market. Owners would also benefit from insights to high-value versus low-value features."
   ]
  },
  {
   "cell_type": "markdown",
   "metadata": {},
   "source": [
    "# 2. Import Packages"
   ]
  },
  {
   "cell_type": "code",
   "execution_count": 1,
   "metadata": {},
   "outputs": [
    {
     "name": "stdout",
     "output_type": "stream",
     "text": [
      "Requirement already up-to-date: seaborn in c:\\users\\zebin\\anaconda3\\lib\\site-packages (0.11.1)\n",
      "Requirement already satisfied, skipping upgrade: numpy>=1.15 in c:\\users\\zebin\\anaconda3\\lib\\site-packages (from seaborn) (1.18.5)\n",
      "Requirement already satisfied, skipping upgrade: pandas>=0.23 in c:\\users\\zebin\\anaconda3\\lib\\site-packages (from seaborn) (1.0.5)\n",
      "Requirement already satisfied, skipping upgrade: matplotlib>=2.2 in c:\\users\\zebin\\anaconda3\\lib\\site-packages (from seaborn) (3.2.2)\n",
      "Requirement already satisfied, skipping upgrade: scipy>=1.0 in c:\\users\\zebin\\anaconda3\\lib\\site-packages (from seaborn) (1.5.0)\n",
      "Requirement already satisfied, skipping upgrade: python-dateutil>=2.6.1 in c:\\users\\zebin\\anaconda3\\lib\\site-packages (from pandas>=0.23->seaborn) (2.8.1)\n",
      "Requirement already satisfied, skipping upgrade: pytz>=2017.2 in c:\\users\\zebin\\anaconda3\\lib\\site-packages (from pandas>=0.23->seaborn) (2020.1)\n",
      "Requirement already satisfied, skipping upgrade: kiwisolver>=1.0.1 in c:\\users\\zebin\\anaconda3\\lib\\site-packages (from matplotlib>=2.2->seaborn) (1.2.0)\n",
      "Requirement already satisfied, skipping upgrade: pyparsing!=2.0.4,!=2.1.2,!=2.1.6,>=2.0.1 in c:\\users\\zebin\\anaconda3\\lib\\site-packages (from matplotlib>=2.2->seaborn) (2.4.7)\n",
      "Requirement already satisfied, skipping upgrade: cycler>=0.10 in c:\\users\\zebin\\anaconda3\\lib\\site-packages (from matplotlib>=2.2->seaborn) (0.10.0)\n",
      "Requirement already satisfied, skipping upgrade: six>=1.5 in c:\\users\\zebin\\anaconda3\\lib\\site-packages (from python-dateutil>=2.6.1->pandas>=0.23->seaborn) (1.15.0)\n",
      "Note: you may need to restart the kernel to use updated packages.\n"
     ]
    }
   ],
   "source": [
    "pip install -U seaborn"
   ]
  },
  {
   "cell_type": "code",
   "execution_count": 2,
   "metadata": {},
   "outputs": [
    {
     "name": "stderr",
     "output_type": "stream",
     "text": [
      "C:\\Users\\zebin\\anaconda3\\lib\\site-packages\\fuzzywuzzy\\fuzz.py:11: UserWarning: Using slow pure-python SequenceMatcher. Install python-Levenshtein to remove this warning\n",
      "  warnings.warn('Using slow pure-python SequenceMatcher. Install python-Levenshtein to remove this warning')\n"
     ]
    }
   ],
   "source": [
    "import numpy as np\n",
    "import pandas as pd\n",
    "import matplotlib.pyplot as plt\n",
    "import seaborn as sns\n",
    "import os\n",
    "pd.options.display.max_columns = None\n",
    "import missingno as msno\n",
    "import pandas_profiling\n",
    "from pandas_profiling.utils.cache import cache_file\n",
    "from collections import defaultdict\n",
    "from datetime import datetime\n",
    "from fuzzywuzzy import process, fuzz\n",
    "import itertools"
   ]
  },
  {
   "cell_type": "markdown",
   "metadata": {},
   "source": [
    "# 3. Objectives of This Notebook"
   ]
  },
  {
   "cell_type": "markdown",
   "metadata": {},
   "source": [
    "- To determine if the data we have could be use to develop a pricing model\n",
    "    - Verify that there is an appropriate target feature\n",
    "    - Verify that there are potentially useful features\n",
    "- Verify that there are not fundamental issues with the data"
   ]
  },
  {
   "cell_type": "markdown",
   "metadata": {},
   "source": [
    "# 4. Loading Data"
   ]
  },
  {
   "cell_type": "code",
   "execution_count": 3,
   "metadata": {
    "scrolled": true
   },
   "outputs": [],
   "source": [
    "immo_data= pd.read_csv('../data/raw/immo_data.csv')"
   ]
  },
  {
   "cell_type": "code",
   "execution_count": 4,
   "metadata": {},
   "outputs": [],
   "source": [
    "rentals = immo_data.copy()"
   ]
  },
  {
   "cell_type": "code",
   "execution_count": 5,
   "metadata": {},
   "outputs": [
    {
     "name": "stdout",
     "output_type": "stream",
     "text": [
      "<class 'pandas.core.frame.DataFrame'>\n",
      "RangeIndex: 268850 entries, 0 to 268849\n",
      "Data columns (total 49 columns):\n",
      " #   Column                    Non-Null Count   Dtype  \n",
      "---  ------                    --------------   -----  \n",
      " 0   regio1                    268850 non-null  object \n",
      " 1   serviceCharge             261941 non-null  float64\n",
      " 2   heatingType               223994 non-null  object \n",
      " 3   telekomTvOffer            236231 non-null  object \n",
      " 4   telekomHybridUploadSpeed  45020 non-null   float64\n",
      " 5   newlyConst                268850 non-null  bool   \n",
      " 6   balcony                   268850 non-null  bool   \n",
      " 7   picturecount              268850 non-null  int64  \n",
      " 8   pricetrend                267018 non-null  float64\n",
      " 9   telekomUploadSpeed        235492 non-null  float64\n",
      " 10  totalRent                 228333 non-null  float64\n",
      " 11  yearConstructed           211805 non-null  float64\n",
      " 12  scoutId                   268850 non-null  int64  \n",
      " 13  noParkSpaces              93052 non-null   float64\n",
      " 14  firingTypes               211886 non-null  object \n",
      " 15  hasKitchen                268850 non-null  bool   \n",
      " 16  geo_bln                   268850 non-null  object \n",
      " 17  cellar                    268850 non-null  bool   \n",
      " 18  yearConstructedRange      211805 non-null  float64\n",
      " 19  baseRent                  268850 non-null  float64\n",
      " 20  houseNumber               197832 non-null  object \n",
      " 21  livingSpace               268850 non-null  float64\n",
      " 22  geo_krs                   268850 non-null  object \n",
      " 23  condition                 200361 non-null  object \n",
      " 24  interiorQual              156185 non-null  object \n",
      " 25  petsAllowed               154277 non-null  object \n",
      " 26  street                    268850 non-null  object \n",
      " 27  streetPlain               197837 non-null  object \n",
      " 28  lift                      268850 non-null  bool   \n",
      " 29  baseRentRange             268850 non-null  int64  \n",
      " 30  typeOfFlat                232236 non-null  object \n",
      " 31  geo_plz                   268850 non-null  int64  \n",
      " 32  noRooms                   268850 non-null  float64\n",
      " 33  thermalChar               162344 non-null  float64\n",
      " 34  floor                     217541 non-null  float64\n",
      " 35  numberOfFloors            171118 non-null  float64\n",
      " 36  noRoomsRange              268850 non-null  int64  \n",
      " 37  garden                    268850 non-null  bool   \n",
      " 38  livingSpaceRange          268850 non-null  int64  \n",
      " 39  regio2                    268850 non-null  object \n",
      " 40  regio3                    268850 non-null  object \n",
      " 41  description               249103 non-null  object \n",
      " 42  facilities                215926 non-null  object \n",
      " 43  heatingCosts              85518 non-null   float64\n",
      " 44  energyEfficiencyClass     77787 non-null   object \n",
      " 45  lastRefurbish             80711 non-null   float64\n",
      " 46  electricityBasePrice      46846 non-null   float64\n",
      " 47  electricityKwhPrice       46846 non-null   float64\n",
      " 48  date                      268850 non-null  object \n",
      "dtypes: bool(6), float64(18), int64(6), object(19)\n",
      "memory usage: 89.7+ MB\n"
     ]
    }
   ],
   "source": [
    "rentals.info()"
   ]
  },
  {
   "cell_type": "code",
   "execution_count": 6,
   "metadata": {},
   "outputs": [
    {
     "data": {
      "text/html": [
       "<div>\n",
       "<style scoped>\n",
       "    .dataframe tbody tr th:only-of-type {\n",
       "        vertical-align: middle;\n",
       "    }\n",
       "\n",
       "    .dataframe tbody tr th {\n",
       "        vertical-align: top;\n",
       "    }\n",
       "\n",
       "    .dataframe thead th {\n",
       "        text-align: right;\n",
       "    }\n",
       "</style>\n",
       "<table border=\"1\" class=\"dataframe\">\n",
       "  <thead>\n",
       "    <tr style=\"text-align: right;\">\n",
       "      <th></th>\n",
       "      <th>regio1</th>\n",
       "      <th>serviceCharge</th>\n",
       "      <th>heatingType</th>\n",
       "      <th>telekomTvOffer</th>\n",
       "      <th>telekomHybridUploadSpeed</th>\n",
       "      <th>newlyConst</th>\n",
       "      <th>balcony</th>\n",
       "      <th>picturecount</th>\n",
       "      <th>pricetrend</th>\n",
       "      <th>telekomUploadSpeed</th>\n",
       "      <th>totalRent</th>\n",
       "      <th>yearConstructed</th>\n",
       "      <th>scoutId</th>\n",
       "      <th>noParkSpaces</th>\n",
       "      <th>firingTypes</th>\n",
       "      <th>hasKitchen</th>\n",
       "      <th>geo_bln</th>\n",
       "      <th>cellar</th>\n",
       "      <th>yearConstructedRange</th>\n",
       "      <th>baseRent</th>\n",
       "      <th>houseNumber</th>\n",
       "      <th>livingSpace</th>\n",
       "      <th>geo_krs</th>\n",
       "      <th>condition</th>\n",
       "      <th>interiorQual</th>\n",
       "      <th>petsAllowed</th>\n",
       "      <th>street</th>\n",
       "      <th>streetPlain</th>\n",
       "      <th>lift</th>\n",
       "      <th>baseRentRange</th>\n",
       "      <th>typeOfFlat</th>\n",
       "      <th>geo_plz</th>\n",
       "      <th>noRooms</th>\n",
       "      <th>thermalChar</th>\n",
       "      <th>floor</th>\n",
       "      <th>numberOfFloors</th>\n",
       "      <th>noRoomsRange</th>\n",
       "      <th>garden</th>\n",
       "      <th>livingSpaceRange</th>\n",
       "      <th>regio2</th>\n",
       "      <th>regio3</th>\n",
       "      <th>description</th>\n",
       "      <th>facilities</th>\n",
       "      <th>heatingCosts</th>\n",
       "      <th>energyEfficiencyClass</th>\n",
       "      <th>lastRefurbish</th>\n",
       "      <th>electricityBasePrice</th>\n",
       "      <th>electricityKwhPrice</th>\n",
       "      <th>date</th>\n",
       "    </tr>\n",
       "  </thead>\n",
       "  <tbody>\n",
       "    <tr>\n",
       "      <th>0</th>\n",
       "      <td>Nordrhein_Westfalen</td>\n",
       "      <td>245.00</td>\n",
       "      <td>central_heating</td>\n",
       "      <td>ONE_YEAR_FREE</td>\n",
       "      <td>NaN</td>\n",
       "      <td>False</td>\n",
       "      <td>False</td>\n",
       "      <td>6</td>\n",
       "      <td>4.62</td>\n",
       "      <td>10.0</td>\n",
       "      <td>840.0</td>\n",
       "      <td>1965.0</td>\n",
       "      <td>96107057</td>\n",
       "      <td>1.0</td>\n",
       "      <td>oil</td>\n",
       "      <td>False</td>\n",
       "      <td>Nordrhein_Westfalen</td>\n",
       "      <td>True</td>\n",
       "      <td>2.0</td>\n",
       "      <td>595.0</td>\n",
       "      <td>244</td>\n",
       "      <td>86.00</td>\n",
       "      <td>Dortmund</td>\n",
       "      <td>well_kept</td>\n",
       "      <td>normal</td>\n",
       "      <td>NaN</td>\n",
       "      <td>Sch&amp;uuml;ruferstra&amp;szlig;e</td>\n",
       "      <td>Schüruferstraße</td>\n",
       "      <td>False</td>\n",
       "      <td>4</td>\n",
       "      <td>ground_floor</td>\n",
       "      <td>44269</td>\n",
       "      <td>4.0</td>\n",
       "      <td>181.4</td>\n",
       "      <td>1.0</td>\n",
       "      <td>3.0</td>\n",
       "      <td>4</td>\n",
       "      <td>True</td>\n",
       "      <td>4</td>\n",
       "      <td>Dortmund</td>\n",
       "      <td>Schüren</td>\n",
       "      <td>Die ebenerdig zu erreichende Erdgeschosswohnun...</td>\n",
       "      <td>Die Wohnung ist mit Laminat ausgelegt. Das Bad...</td>\n",
       "      <td>NaN</td>\n",
       "      <td>NaN</td>\n",
       "      <td>NaN</td>\n",
       "      <td>NaN</td>\n",
       "      <td>NaN</td>\n",
       "      <td>May19</td>\n",
       "    </tr>\n",
       "    <tr>\n",
       "      <th>1</th>\n",
       "      <td>Rheinland_Pfalz</td>\n",
       "      <td>134.00</td>\n",
       "      <td>self_contained_central_heating</td>\n",
       "      <td>ONE_YEAR_FREE</td>\n",
       "      <td>NaN</td>\n",
       "      <td>False</td>\n",
       "      <td>True</td>\n",
       "      <td>8</td>\n",
       "      <td>3.47</td>\n",
       "      <td>10.0</td>\n",
       "      <td>NaN</td>\n",
       "      <td>1871.0</td>\n",
       "      <td>111378734</td>\n",
       "      <td>2.0</td>\n",
       "      <td>gas</td>\n",
       "      <td>False</td>\n",
       "      <td>Rheinland_Pfalz</td>\n",
       "      <td>False</td>\n",
       "      <td>1.0</td>\n",
       "      <td>800.0</td>\n",
       "      <td>NaN</td>\n",
       "      <td>89.00</td>\n",
       "      <td>Rhein_Pfalz_Kreis</td>\n",
       "      <td>refurbished</td>\n",
       "      <td>normal</td>\n",
       "      <td>no</td>\n",
       "      <td>no_information</td>\n",
       "      <td>NaN</td>\n",
       "      <td>False</td>\n",
       "      <td>5</td>\n",
       "      <td>ground_floor</td>\n",
       "      <td>67459</td>\n",
       "      <td>3.0</td>\n",
       "      <td>NaN</td>\n",
       "      <td>NaN</td>\n",
       "      <td>NaN</td>\n",
       "      <td>3</td>\n",
       "      <td>False</td>\n",
       "      <td>4</td>\n",
       "      <td>Rhein_Pfalz_Kreis</td>\n",
       "      <td>Böhl_Iggelheim</td>\n",
       "      <td>Alles neu macht der Mai – so kann es auch für ...</td>\n",
       "      <td>NaN</td>\n",
       "      <td>NaN</td>\n",
       "      <td>NaN</td>\n",
       "      <td>2019.0</td>\n",
       "      <td>NaN</td>\n",
       "      <td>NaN</td>\n",
       "      <td>May19</td>\n",
       "    </tr>\n",
       "    <tr>\n",
       "      <th>2</th>\n",
       "      <td>Sachsen</td>\n",
       "      <td>255.00</td>\n",
       "      <td>floor_heating</td>\n",
       "      <td>ONE_YEAR_FREE</td>\n",
       "      <td>10.0</td>\n",
       "      <td>True</td>\n",
       "      <td>True</td>\n",
       "      <td>8</td>\n",
       "      <td>2.72</td>\n",
       "      <td>2.4</td>\n",
       "      <td>1300.0</td>\n",
       "      <td>2019.0</td>\n",
       "      <td>113147523</td>\n",
       "      <td>1.0</td>\n",
       "      <td>NaN</td>\n",
       "      <td>False</td>\n",
       "      <td>Sachsen</td>\n",
       "      <td>True</td>\n",
       "      <td>9.0</td>\n",
       "      <td>965.0</td>\n",
       "      <td>4</td>\n",
       "      <td>83.80</td>\n",
       "      <td>Dresden</td>\n",
       "      <td>first_time_use</td>\n",
       "      <td>sophisticated</td>\n",
       "      <td>NaN</td>\n",
       "      <td>Turnerweg</td>\n",
       "      <td>Turnerweg</td>\n",
       "      <td>True</td>\n",
       "      <td>6</td>\n",
       "      <td>apartment</td>\n",
       "      <td>1097</td>\n",
       "      <td>3.0</td>\n",
       "      <td>NaN</td>\n",
       "      <td>3.0</td>\n",
       "      <td>4.0</td>\n",
       "      <td>3</td>\n",
       "      <td>False</td>\n",
       "      <td>4</td>\n",
       "      <td>Dresden</td>\n",
       "      <td>Äußere_Neustadt_Antonstadt</td>\n",
       "      <td>Der Neubau entsteht im Herzen der Dresdner Neu...</td>\n",
       "      <td>* 9 m² Balkon\\n* Bad mit bodengleicher Dusche,...</td>\n",
       "      <td>NaN</td>\n",
       "      <td>NaN</td>\n",
       "      <td>NaN</td>\n",
       "      <td>NaN</td>\n",
       "      <td>NaN</td>\n",
       "      <td>Oct19</td>\n",
       "    </tr>\n",
       "    <tr>\n",
       "      <th>3</th>\n",
       "      <td>Sachsen</td>\n",
       "      <td>58.15</td>\n",
       "      <td>district_heating</td>\n",
       "      <td>ONE_YEAR_FREE</td>\n",
       "      <td>NaN</td>\n",
       "      <td>False</td>\n",
       "      <td>True</td>\n",
       "      <td>9</td>\n",
       "      <td>1.53</td>\n",
       "      <td>40.0</td>\n",
       "      <td>NaN</td>\n",
       "      <td>1964.0</td>\n",
       "      <td>108890903</td>\n",
       "      <td>NaN</td>\n",
       "      <td>district_heating</td>\n",
       "      <td>False</td>\n",
       "      <td>Sachsen</td>\n",
       "      <td>False</td>\n",
       "      <td>2.0</td>\n",
       "      <td>343.0</td>\n",
       "      <td>35</td>\n",
       "      <td>58.15</td>\n",
       "      <td>Mittelsachsen_Kreis</td>\n",
       "      <td>NaN</td>\n",
       "      <td>NaN</td>\n",
       "      <td>NaN</td>\n",
       "      <td>Gl&amp;uuml;ck-Auf-Stra&amp;szlig;e</td>\n",
       "      <td>Glück-Auf-Straße</td>\n",
       "      <td>False</td>\n",
       "      <td>2</td>\n",
       "      <td>other</td>\n",
       "      <td>9599</td>\n",
       "      <td>3.0</td>\n",
       "      <td>86.0</td>\n",
       "      <td>3.0</td>\n",
       "      <td>NaN</td>\n",
       "      <td>3</td>\n",
       "      <td>False</td>\n",
       "      <td>2</td>\n",
       "      <td>Mittelsachsen_Kreis</td>\n",
       "      <td>Freiberg</td>\n",
       "      <td>Abseits von Lärm und Abgasen in Ihre neue Wohn...</td>\n",
       "      <td>NaN</td>\n",
       "      <td>87.23</td>\n",
       "      <td>NaN</td>\n",
       "      <td>NaN</td>\n",
       "      <td>NaN</td>\n",
       "      <td>NaN</td>\n",
       "      <td>May19</td>\n",
       "    </tr>\n",
       "    <tr>\n",
       "      <th>4</th>\n",
       "      <td>Bremen</td>\n",
       "      <td>138.00</td>\n",
       "      <td>self_contained_central_heating</td>\n",
       "      <td>NaN</td>\n",
       "      <td>NaN</td>\n",
       "      <td>False</td>\n",
       "      <td>True</td>\n",
       "      <td>19</td>\n",
       "      <td>2.46</td>\n",
       "      <td>NaN</td>\n",
       "      <td>903.0</td>\n",
       "      <td>1950.0</td>\n",
       "      <td>114751222</td>\n",
       "      <td>NaN</td>\n",
       "      <td>gas</td>\n",
       "      <td>False</td>\n",
       "      <td>Bremen</td>\n",
       "      <td>False</td>\n",
       "      <td>1.0</td>\n",
       "      <td>765.0</td>\n",
       "      <td>10</td>\n",
       "      <td>84.97</td>\n",
       "      <td>Bremen</td>\n",
       "      <td>refurbished</td>\n",
       "      <td>NaN</td>\n",
       "      <td>NaN</td>\n",
       "      <td>Hermann-Henrich-Meier-Allee</td>\n",
       "      <td>Hermann-Henrich-Meier-Allee</td>\n",
       "      <td>False</td>\n",
       "      <td>5</td>\n",
       "      <td>apartment</td>\n",
       "      <td>28213</td>\n",
       "      <td>3.0</td>\n",
       "      <td>188.9</td>\n",
       "      <td>1.0</td>\n",
       "      <td>NaN</td>\n",
       "      <td>3</td>\n",
       "      <td>False</td>\n",
       "      <td>4</td>\n",
       "      <td>Bremen</td>\n",
       "      <td>Neu_Schwachhausen</td>\n",
       "      <td>Es handelt sich hier um ein saniertes Mehrfami...</td>\n",
       "      <td>Diese Wohnung wurde neu saniert und ist wie fo...</td>\n",
       "      <td>NaN</td>\n",
       "      <td>NaN</td>\n",
       "      <td>NaN</td>\n",
       "      <td>NaN</td>\n",
       "      <td>NaN</td>\n",
       "      <td>Feb20</td>\n",
       "    </tr>\n",
       "  </tbody>\n",
       "</table>\n",
       "</div>"
      ],
      "text/plain": [
       "                regio1  serviceCharge                     heatingType  \\\n",
       "0  Nordrhein_Westfalen         245.00                 central_heating   \n",
       "1      Rheinland_Pfalz         134.00  self_contained_central_heating   \n",
       "2              Sachsen         255.00                   floor_heating   \n",
       "3              Sachsen          58.15                district_heating   \n",
       "4               Bremen         138.00  self_contained_central_heating   \n",
       "\n",
       "  telekomTvOffer  telekomHybridUploadSpeed  newlyConst  balcony  picturecount  \\\n",
       "0  ONE_YEAR_FREE                       NaN       False    False             6   \n",
       "1  ONE_YEAR_FREE                       NaN       False     True             8   \n",
       "2  ONE_YEAR_FREE                      10.0        True     True             8   \n",
       "3  ONE_YEAR_FREE                       NaN       False     True             9   \n",
       "4            NaN                       NaN       False     True            19   \n",
       "\n",
       "   pricetrend  telekomUploadSpeed  totalRent  yearConstructed    scoutId  \\\n",
       "0        4.62                10.0      840.0           1965.0   96107057   \n",
       "1        3.47                10.0        NaN           1871.0  111378734   \n",
       "2        2.72                 2.4     1300.0           2019.0  113147523   \n",
       "3        1.53                40.0        NaN           1964.0  108890903   \n",
       "4        2.46                 NaN      903.0           1950.0  114751222   \n",
       "\n",
       "   noParkSpaces       firingTypes  hasKitchen              geo_bln  cellar  \\\n",
       "0           1.0               oil       False  Nordrhein_Westfalen    True   \n",
       "1           2.0               gas       False      Rheinland_Pfalz   False   \n",
       "2           1.0               NaN       False              Sachsen    True   \n",
       "3           NaN  district_heating       False              Sachsen   False   \n",
       "4           NaN               gas       False               Bremen   False   \n",
       "\n",
       "   yearConstructedRange  baseRent houseNumber  livingSpace  \\\n",
       "0                   2.0     595.0         244        86.00   \n",
       "1                   1.0     800.0         NaN        89.00   \n",
       "2                   9.0     965.0           4        83.80   \n",
       "3                   2.0     343.0          35        58.15   \n",
       "4                   1.0     765.0          10        84.97   \n",
       "\n",
       "               geo_krs       condition   interiorQual petsAllowed  \\\n",
       "0             Dortmund       well_kept         normal         NaN   \n",
       "1    Rhein_Pfalz_Kreis     refurbished         normal          no   \n",
       "2              Dresden  first_time_use  sophisticated         NaN   \n",
       "3  Mittelsachsen_Kreis             NaN            NaN         NaN   \n",
       "4               Bremen     refurbished            NaN         NaN   \n",
       "\n",
       "                        street                  streetPlain   lift  \\\n",
       "0   Sch&uuml;ruferstra&szlig;e              Schüruferstraße  False   \n",
       "1               no_information                          NaN  False   \n",
       "2                    Turnerweg                    Turnerweg   True   \n",
       "3  Gl&uuml;ck-Auf-Stra&szlig;e             Glück-Auf-Straße  False   \n",
       "4  Hermann-Henrich-Meier-Allee  Hermann-Henrich-Meier-Allee  False   \n",
       "\n",
       "   baseRentRange    typeOfFlat  geo_plz  noRooms  thermalChar  floor  \\\n",
       "0              4  ground_floor    44269      4.0        181.4    1.0   \n",
       "1              5  ground_floor    67459      3.0          NaN    NaN   \n",
       "2              6     apartment     1097      3.0          NaN    3.0   \n",
       "3              2         other     9599      3.0         86.0    3.0   \n",
       "4              5     apartment    28213      3.0        188.9    1.0   \n",
       "\n",
       "   numberOfFloors  noRoomsRange  garden  livingSpaceRange  \\\n",
       "0             3.0             4    True                 4   \n",
       "1             NaN             3   False                 4   \n",
       "2             4.0             3   False                 4   \n",
       "3             NaN             3   False                 2   \n",
       "4             NaN             3   False                 4   \n",
       "\n",
       "                regio2                      regio3  \\\n",
       "0             Dortmund                     Schüren   \n",
       "1    Rhein_Pfalz_Kreis              Böhl_Iggelheim   \n",
       "2              Dresden  Äußere_Neustadt_Antonstadt   \n",
       "3  Mittelsachsen_Kreis                    Freiberg   \n",
       "4               Bremen           Neu_Schwachhausen   \n",
       "\n",
       "                                         description  \\\n",
       "0  Die ebenerdig zu erreichende Erdgeschosswohnun...   \n",
       "1  Alles neu macht der Mai – so kann es auch für ...   \n",
       "2  Der Neubau entsteht im Herzen der Dresdner Neu...   \n",
       "3  Abseits von Lärm und Abgasen in Ihre neue Wohn...   \n",
       "4  Es handelt sich hier um ein saniertes Mehrfami...   \n",
       "\n",
       "                                          facilities  heatingCosts  \\\n",
       "0  Die Wohnung ist mit Laminat ausgelegt. Das Bad...           NaN   \n",
       "1                                                NaN           NaN   \n",
       "2  * 9 m² Balkon\\n* Bad mit bodengleicher Dusche,...           NaN   \n",
       "3                                                NaN         87.23   \n",
       "4  Diese Wohnung wurde neu saniert und ist wie fo...           NaN   \n",
       "\n",
       "  energyEfficiencyClass  lastRefurbish  electricityBasePrice  \\\n",
       "0                   NaN            NaN                   NaN   \n",
       "1                   NaN         2019.0                   NaN   \n",
       "2                   NaN            NaN                   NaN   \n",
       "3                   NaN            NaN                   NaN   \n",
       "4                   NaN            NaN                   NaN   \n",
       "\n",
       "   electricityKwhPrice   date  \n",
       "0                  NaN  May19  \n",
       "1                  NaN  May19  \n",
       "2                  NaN  Oct19  \n",
       "3                  NaN  May19  \n",
       "4                  NaN  Feb20  "
      ]
     },
     "execution_count": 6,
     "metadata": {},
     "output_type": "execute_result"
    }
   ],
   "source": [
    "rentals.head()"
   ]
  },
  {
   "cell_type": "markdown",
   "metadata": {},
   "source": [
    "# 5. Explore Data"
   ]
  },
  {
   "cell_type": "markdown",
   "metadata": {},
   "source": [
    "## 5.1 Datetime Features"
   ]
  },
  {
   "cell_type": "markdown",
   "metadata": {},
   "source": [
    "- We observed that certain features were dates. We will convert these features to a datetime format"
   ]
  },
  {
   "cell_type": "code",
   "execution_count": 7,
   "metadata": {},
   "outputs": [],
   "source": [
    "#Convert yearConstructed, lastRefurbish and date to datetime\n",
    "rentals.yearConstructed = pd.to_datetime(rentals.yearConstructed, format = '%Y', errors = 'coerce')\n",
    "rentals.lastRefurbish = pd.to_datetime(rentals.lastRefurbish, format = '%Y', errors = 'coerce')\n",
    "rentals.date = pd.to_datetime(rentals.date, format = '%b%y')"
   ]
  },
  {
   "cell_type": "code",
   "execution_count": 8,
   "metadata": {
    "scrolled": false
   },
   "outputs": [
    {
     "data": {
      "text/html": [
       "<div>\n",
       "<style scoped>\n",
       "    .dataframe tbody tr th:only-of-type {\n",
       "        vertical-align: middle;\n",
       "    }\n",
       "\n",
       "    .dataframe tbody tr th {\n",
       "        vertical-align: top;\n",
       "    }\n",
       "\n",
       "    .dataframe thead th {\n",
       "        text-align: right;\n",
       "    }\n",
       "</style>\n",
       "<table border=\"1\" class=\"dataframe\">\n",
       "  <thead>\n",
       "    <tr style=\"text-align: right;\">\n",
       "      <th></th>\n",
       "      <th>yearConstructed</th>\n",
       "      <th>lastRefurbish</th>\n",
       "      <th>date</th>\n",
       "    </tr>\n",
       "  </thead>\n",
       "  <tbody>\n",
       "    <tr>\n",
       "      <th>0</th>\n",
       "      <td>1965-01-01</td>\n",
       "      <td>NaT</td>\n",
       "      <td>2019-05-01</td>\n",
       "    </tr>\n",
       "    <tr>\n",
       "      <th>1</th>\n",
       "      <td>1871-01-01</td>\n",
       "      <td>2019-01-01</td>\n",
       "      <td>2019-05-01</td>\n",
       "    </tr>\n",
       "    <tr>\n",
       "      <th>2</th>\n",
       "      <td>2019-01-01</td>\n",
       "      <td>NaT</td>\n",
       "      <td>2019-10-01</td>\n",
       "    </tr>\n",
       "  </tbody>\n",
       "</table>\n",
       "</div>"
      ],
      "text/plain": [
       "  yearConstructed lastRefurbish       date\n",
       "0      1965-01-01           NaT 2019-05-01\n",
       "1      1871-01-01    2019-01-01 2019-05-01\n",
       "2      2019-01-01           NaT 2019-10-01"
      ]
     },
     "execution_count": 8,
     "metadata": {},
     "output_type": "execute_result"
    }
   ],
   "source": [
    "#Verify datetime features\n",
    "rentals.select_dtypes(include=[np.datetime64]).head(3)"
   ]
  },
  {
   "cell_type": "markdown",
   "metadata": {},
   "source": [
    "## 5.2 Crossfield Validation of Price-related Features "
   ]
  },
  {
   "cell_type": "markdown",
   "metadata": {},
   "source": [
    "- Data owner noted that totalRent was the sum of baseRent, serviceCharge and heatingCosts. Let us review these features to determine which rows adhere to this formula"
   ]
  },
  {
   "cell_type": "code",
   "execution_count": 9,
   "metadata": {},
   "outputs": [
    {
     "data": {
      "text/html": [
       "<div>\n",
       "<style scoped>\n",
       "    .dataframe tbody tr th:only-of-type {\n",
       "        vertical-align: middle;\n",
       "    }\n",
       "\n",
       "    .dataframe tbody tr th {\n",
       "        vertical-align: top;\n",
       "    }\n",
       "\n",
       "    .dataframe thead th {\n",
       "        text-align: right;\n",
       "    }\n",
       "</style>\n",
       "<table border=\"1\" class=\"dataframe\">\n",
       "  <thead>\n",
       "    <tr style=\"text-align: right;\">\n",
       "      <th></th>\n",
       "      <th>baseRent</th>\n",
       "      <th>serviceCharge</th>\n",
       "      <th>heatingCosts</th>\n",
       "      <th>totalRent</th>\n",
       "    </tr>\n",
       "  </thead>\n",
       "  <tbody>\n",
       "    <tr>\n",
       "      <th>7</th>\n",
       "      <td>452.25</td>\n",
       "      <td>88.0</td>\n",
       "      <td>44.00</td>\n",
       "      <td>584.25</td>\n",
       "    </tr>\n",
       "    <tr>\n",
       "      <th>13</th>\n",
       "      <td>950.00</td>\n",
       "      <td>200.0</td>\n",
       "      <td>100.00</td>\n",
       "      <td>1150.00</td>\n",
       "    </tr>\n",
       "    <tr>\n",
       "      <th>14</th>\n",
       "      <td>972.60</td>\n",
       "      <td>215.0</td>\n",
       "      <td>43.05</td>\n",
       "      <td>1320.65</td>\n",
       "    </tr>\n",
       "    <tr>\n",
       "      <th>17</th>\n",
       "      <td>200.00</td>\n",
       "      <td>50.0</td>\n",
       "      <td>75.00</td>\n",
       "      <td>325.00</td>\n",
       "    </tr>\n",
       "    <tr>\n",
       "      <th>19</th>\n",
       "      <td>1343.48</td>\n",
       "      <td>290.0</td>\n",
       "      <td>160.00</td>\n",
       "      <td>1878.48</td>\n",
       "    </tr>\n",
       "  </tbody>\n",
       "</table>\n",
       "</div>"
      ],
      "text/plain": [
       "    baseRent  serviceCharge  heatingCosts  totalRent\n",
       "7     452.25           88.0         44.00     584.25\n",
       "13    950.00          200.0        100.00    1150.00\n",
       "14    972.60          215.0         43.05    1320.65\n",
       "17    200.00           50.0         75.00     325.00\n",
       "19   1343.48          290.0        160.00    1878.48"
      ]
     },
     "execution_count": 9,
     "metadata": {},
     "output_type": "execute_result"
    }
   ],
   "source": [
    "#Create dataframe with baseRent, serviceCharge, heatingCosts and totalRent features that have complete values\n",
    "crossfield_cols = ['baseRent', 'serviceCharge', 'heatingCosts', 'totalRent']\n",
    "crossfield = rentals.loc[:, crossfield_cols].dropna(axis =0)\n",
    "crossfield.head()"
   ]
  },
  {
   "cell_type": "code",
   "execution_count": 10,
   "metadata": {},
   "outputs": [
    {
     "data": {
      "text/plain": [
       "7      584.25\n",
       "13    1250.00\n",
       "14    1230.65\n",
       "17     325.00\n",
       "19    1793.48\n",
       "dtype: float64"
      ]
     },
     "execution_count": 10,
     "metadata": {},
     "output_type": "execute_result"
    }
   ],
   "source": [
    "#Create series that sums baseRent, serviceCharge and heatingCosts\n",
    "price_sum = crossfield[['baseRent', 'serviceCharge', 'heatingCosts']].sum(axis = 1)\n",
    "price_sum.head()"
   ]
  },
  {
   "cell_type": "code",
   "execution_count": 11,
   "metadata": {},
   "outputs": [
    {
     "name": "stdout",
     "output_type": "stream",
     "text": [
      "49886\n"
     ]
    },
    {
     "data": {
      "text/html": [
       "<div>\n",
       "<style scoped>\n",
       "    .dataframe tbody tr th:only-of-type {\n",
       "        vertical-align: middle;\n",
       "    }\n",
       "\n",
       "    .dataframe tbody tr th {\n",
       "        vertical-align: top;\n",
       "    }\n",
       "\n",
       "    .dataframe thead th {\n",
       "        text-align: right;\n",
       "    }\n",
       "</style>\n",
       "<table border=\"1\" class=\"dataframe\">\n",
       "  <thead>\n",
       "    <tr style=\"text-align: right;\">\n",
       "      <th></th>\n",
       "      <th>baseRent</th>\n",
       "      <th>serviceCharge</th>\n",
       "      <th>heatingCosts</th>\n",
       "      <th>totalRent</th>\n",
       "    </tr>\n",
       "  </thead>\n",
       "  <tbody>\n",
       "    <tr>\n",
       "      <th>7</th>\n",
       "      <td>452.25</td>\n",
       "      <td>88.0</td>\n",
       "      <td>44.0</td>\n",
       "      <td>584.25</td>\n",
       "    </tr>\n",
       "    <tr>\n",
       "      <th>17</th>\n",
       "      <td>200.00</td>\n",
       "      <td>50.0</td>\n",
       "      <td>75.0</td>\n",
       "      <td>325.00</td>\n",
       "    </tr>\n",
       "    <tr>\n",
       "      <th>20</th>\n",
       "      <td>1150.00</td>\n",
       "      <td>140.0</td>\n",
       "      <td>160.0</td>\n",
       "      <td>1450.00</td>\n",
       "    </tr>\n",
       "    <tr>\n",
       "      <th>48</th>\n",
       "      <td>870.00</td>\n",
       "      <td>121.5</td>\n",
       "      <td>121.5</td>\n",
       "      <td>1113.00</td>\n",
       "    </tr>\n",
       "    <tr>\n",
       "      <th>50</th>\n",
       "      <td>285.00</td>\n",
       "      <td>50.0</td>\n",
       "      <td>42.0</td>\n",
       "      <td>377.00</td>\n",
       "    </tr>\n",
       "  </tbody>\n",
       "</table>\n",
       "</div>"
      ],
      "text/plain": [
       "    baseRent  serviceCharge  heatingCosts  totalRent\n",
       "7     452.25           88.0          44.0     584.25\n",
       "17    200.00           50.0          75.0     325.00\n",
       "20   1150.00          140.0         160.0    1450.00\n",
       "48    870.00          121.5         121.5    1113.00\n",
       "50    285.00           50.0          42.0     377.00"
      ]
     },
     "execution_count": 11,
     "metadata": {},
     "output_type": "execute_result"
    }
   ],
   "source": [
    "#Create filter that compares the price_sum to totalRent\n",
    "validated_sum = price_sum == crossfield['totalRent']\n",
    "print(validated_sum.sum())\n",
    "#Create crossfield dataframe with valid rows\n",
    "validated_crossfield = crossfield.loc[validated_sum]\n",
    "validated_crossfield.head()"
   ]
  },
  {
   "cell_type": "code",
   "execution_count": 12,
   "metadata": {},
   "outputs": [
    {
     "data": {
      "text/html": [
       "<div>\n",
       "<style scoped>\n",
       "    .dataframe tbody tr th:only-of-type {\n",
       "        vertical-align: middle;\n",
       "    }\n",
       "\n",
       "    .dataframe tbody tr th {\n",
       "        vertical-align: top;\n",
       "    }\n",
       "\n",
       "    .dataframe thead th {\n",
       "        text-align: right;\n",
       "    }\n",
       "</style>\n",
       "<table border=\"1\" class=\"dataframe\">\n",
       "  <thead>\n",
       "    <tr style=\"text-align: right;\">\n",
       "      <th></th>\n",
       "      <th>regio1</th>\n",
       "      <th>serviceCharge</th>\n",
       "      <th>heatingType</th>\n",
       "      <th>telekomTvOffer</th>\n",
       "      <th>telekomHybridUploadSpeed</th>\n",
       "      <th>newlyConst</th>\n",
       "      <th>balcony</th>\n",
       "      <th>picturecount</th>\n",
       "      <th>pricetrend</th>\n",
       "      <th>telekomUploadSpeed</th>\n",
       "      <th>totalRent</th>\n",
       "      <th>yearConstructed</th>\n",
       "      <th>scoutId</th>\n",
       "      <th>noParkSpaces</th>\n",
       "      <th>firingTypes</th>\n",
       "      <th>hasKitchen</th>\n",
       "      <th>geo_bln</th>\n",
       "      <th>cellar</th>\n",
       "      <th>yearConstructedRange</th>\n",
       "      <th>baseRent</th>\n",
       "      <th>houseNumber</th>\n",
       "      <th>livingSpace</th>\n",
       "      <th>geo_krs</th>\n",
       "      <th>condition</th>\n",
       "      <th>interiorQual</th>\n",
       "      <th>petsAllowed</th>\n",
       "      <th>street</th>\n",
       "      <th>streetPlain</th>\n",
       "      <th>lift</th>\n",
       "      <th>baseRentRange</th>\n",
       "      <th>typeOfFlat</th>\n",
       "      <th>geo_plz</th>\n",
       "      <th>noRooms</th>\n",
       "      <th>thermalChar</th>\n",
       "      <th>floor</th>\n",
       "      <th>numberOfFloors</th>\n",
       "      <th>noRoomsRange</th>\n",
       "      <th>garden</th>\n",
       "      <th>livingSpaceRange</th>\n",
       "      <th>regio2</th>\n",
       "      <th>regio3</th>\n",
       "      <th>description</th>\n",
       "      <th>facilities</th>\n",
       "      <th>heatingCosts</th>\n",
       "      <th>energyEfficiencyClass</th>\n",
       "      <th>lastRefurbish</th>\n",
       "      <th>electricityBasePrice</th>\n",
       "      <th>electricityKwhPrice</th>\n",
       "      <th>date</th>\n",
       "    </tr>\n",
       "  </thead>\n",
       "  <tbody>\n",
       "    <tr>\n",
       "      <th>7</th>\n",
       "      <td>Bremen</td>\n",
       "      <td>88.0</td>\n",
       "      <td>central_heating</td>\n",
       "      <td>ONE_YEAR_FREE</td>\n",
       "      <td>10.0</td>\n",
       "      <td>False</td>\n",
       "      <td>True</td>\n",
       "      <td>5</td>\n",
       "      <td>1.89</td>\n",
       "      <td>2.4</td>\n",
       "      <td>584.25</td>\n",
       "      <td>1959-01-01</td>\n",
       "      <td>115270775</td>\n",
       "      <td>NaN</td>\n",
       "      <td>gas:electricity</td>\n",
       "      <td>False</td>\n",
       "      <td>Bremen</td>\n",
       "      <td>True</td>\n",
       "      <td>2.0</td>\n",
       "      <td>452.25</td>\n",
       "      <td>35</td>\n",
       "      <td>60.30</td>\n",
       "      <td>Bremen</td>\n",
       "      <td>NaN</td>\n",
       "      <td>NaN</td>\n",
       "      <td>NaN</td>\n",
       "      <td>Lesumer Heerstr.</td>\n",
       "      <td>Lesumer_Heerstr.</td>\n",
       "      <td>False</td>\n",
       "      <td>3</td>\n",
       "      <td>ground_floor</td>\n",
       "      <td>28717</td>\n",
       "      <td>3.0</td>\n",
       "      <td>63.0</td>\n",
       "      <td>NaN</td>\n",
       "      <td>NaN</td>\n",
       "      <td>3</td>\n",
       "      <td>False</td>\n",
       "      <td>2</td>\n",
       "      <td>Bremen</td>\n",
       "      <td>St._Magnus</td>\n",
       "      <td>+ Komfortabler Bodenbelag: Die Wohnung ist zus...</td>\n",
       "      <td>Rollläden; Warmwasserbereiter; Kellerraum; Gas...</td>\n",
       "      <td>44.0</td>\n",
       "      <td>B</td>\n",
       "      <td>NaT</td>\n",
       "      <td>NaN</td>\n",
       "      <td>NaN</td>\n",
       "      <td>2020-02-01</td>\n",
       "    </tr>\n",
       "    <tr>\n",
       "      <th>17</th>\n",
       "      <td>Sachsen</td>\n",
       "      <td>50.0</td>\n",
       "      <td>central_heating</td>\n",
       "      <td>ONE_YEAR_FREE</td>\n",
       "      <td>NaN</td>\n",
       "      <td>False</td>\n",
       "      <td>False</td>\n",
       "      <td>12</td>\n",
       "      <td>1.96</td>\n",
       "      <td>40.0</td>\n",
       "      <td>325.00</td>\n",
       "      <td>1897-01-01</td>\n",
       "      <td>107018003</td>\n",
       "      <td>NaN</td>\n",
       "      <td>gas</td>\n",
       "      <td>False</td>\n",
       "      <td>Sachsen</td>\n",
       "      <td>False</td>\n",
       "      <td>1.0</td>\n",
       "      <td>200.00</td>\n",
       "      <td>NaN</td>\n",
       "      <td>50.00</td>\n",
       "      <td>Mittelsachsen_Kreis</td>\n",
       "      <td>refurbished</td>\n",
       "      <td>normal</td>\n",
       "      <td>NaN</td>\n",
       "      <td>no_information</td>\n",
       "      <td>NaN</td>\n",
       "      <td>False</td>\n",
       "      <td>1</td>\n",
       "      <td>roof_storey</td>\n",
       "      <td>4720</td>\n",
       "      <td>2.0</td>\n",
       "      <td>257.5</td>\n",
       "      <td>3.0</td>\n",
       "      <td>NaN</td>\n",
       "      <td>2</td>\n",
       "      <td>True</td>\n",
       "      <td>2</td>\n",
       "      <td>Mittelsachsen_Kreis</td>\n",
       "      <td>Döbeln</td>\n",
       "      <td>Vermietet wird eine gemütliche Wohnung mit zwe...</td>\n",
       "      <td>NaN</td>\n",
       "      <td>75.0</td>\n",
       "      <td>NaN</td>\n",
       "      <td>1996-01-01</td>\n",
       "      <td>90.76</td>\n",
       "      <td>0.2055</td>\n",
       "      <td>2018-09-01</td>\n",
       "    </tr>\n",
       "    <tr>\n",
       "      <th>20</th>\n",
       "      <td>Schleswig_Holstein</td>\n",
       "      <td>140.0</td>\n",
       "      <td>central_heating</td>\n",
       "      <td>ONE_YEAR_FREE</td>\n",
       "      <td>NaN</td>\n",
       "      <td>False</td>\n",
       "      <td>True</td>\n",
       "      <td>15</td>\n",
       "      <td>5.00</td>\n",
       "      <td>10.0</td>\n",
       "      <td>1450.00</td>\n",
       "      <td>1978-01-01</td>\n",
       "      <td>110416311</td>\n",
       "      <td>2.0</td>\n",
       "      <td>gas</td>\n",
       "      <td>False</td>\n",
       "      <td>Schleswig_Holstein</td>\n",
       "      <td>True</td>\n",
       "      <td>3.0</td>\n",
       "      <td>1150.00</td>\n",
       "      <td>NaN</td>\n",
       "      <td>160.00</td>\n",
       "      <td>Neumünster</td>\n",
       "      <td>well_kept</td>\n",
       "      <td>sophisticated</td>\n",
       "      <td>negotiable</td>\n",
       "      <td>no_information</td>\n",
       "      <td>NaN</td>\n",
       "      <td>False</td>\n",
       "      <td>7</td>\n",
       "      <td>ground_floor</td>\n",
       "      <td>24539</td>\n",
       "      <td>4.0</td>\n",
       "      <td>187.0</td>\n",
       "      <td>0.0</td>\n",
       "      <td>2.0</td>\n",
       "      <td>4</td>\n",
       "      <td>True</td>\n",
       "      <td>7</td>\n",
       "      <td>Neumünster</td>\n",
       "      <td>Wittorf</td>\n",
       "      <td>Ihre repräsentative, großzügige und helle Wohn...</td>\n",
       "      <td>Das große Wohnzimmer wurde mit hochwertigem La...</td>\n",
       "      <td>160.0</td>\n",
       "      <td>NaN</td>\n",
       "      <td>NaT</td>\n",
       "      <td>NaN</td>\n",
       "      <td>NaN</td>\n",
       "      <td>2019-10-01</td>\n",
       "    </tr>\n",
       "    <tr>\n",
       "      <th>48</th>\n",
       "      <td>Schleswig_Holstein</td>\n",
       "      <td>121.5</td>\n",
       "      <td>NaN</td>\n",
       "      <td>NaN</td>\n",
       "      <td>NaN</td>\n",
       "      <td>True</td>\n",
       "      <td>True</td>\n",
       "      <td>2</td>\n",
       "      <td>3.90</td>\n",
       "      <td>NaN</td>\n",
       "      <td>1113.00</td>\n",
       "      <td>2019-01-01</td>\n",
       "      <td>113054252</td>\n",
       "      <td>NaN</td>\n",
       "      <td>pellet_heating</td>\n",
       "      <td>True</td>\n",
       "      <td>Schleswig_Holstein</td>\n",
       "      <td>False</td>\n",
       "      <td>9.0</td>\n",
       "      <td>870.00</td>\n",
       "      <td>21a</td>\n",
       "      <td>81.00</td>\n",
       "      <td>Steinburg_Kreis</td>\n",
       "      <td>NaN</td>\n",
       "      <td>NaN</td>\n",
       "      <td>NaN</td>\n",
       "      <td>Hinterstra&amp;szlig;e</td>\n",
       "      <td>Hinterstraße</td>\n",
       "      <td>False</td>\n",
       "      <td>6</td>\n",
       "      <td>NaN</td>\n",
       "      <td>25379</td>\n",
       "      <td>3.0</td>\n",
       "      <td>65.0</td>\n",
       "      <td>2.0</td>\n",
       "      <td>2.0</td>\n",
       "      <td>3</td>\n",
       "      <td>False</td>\n",
       "      <td>4</td>\n",
       "      <td>Steinburg_Kreis</td>\n",
       "      <td>Herzhorn</td>\n",
       "      <td>Das moderne Mehrfamilienhaus im Herzen von  He...</td>\n",
       "      <td>Aufzug• Ebenerdiges Dusche im Vollbad  • Hochw...</td>\n",
       "      <td>121.5</td>\n",
       "      <td>B</td>\n",
       "      <td>NaT</td>\n",
       "      <td>NaN</td>\n",
       "      <td>NaN</td>\n",
       "      <td>2019-10-01</td>\n",
       "    </tr>\n",
       "    <tr>\n",
       "      <th>50</th>\n",
       "      <td>Brandenburg</td>\n",
       "      <td>50.0</td>\n",
       "      <td>central_heating</td>\n",
       "      <td>ONE_YEAR_FREE</td>\n",
       "      <td>NaN</td>\n",
       "      <td>False</td>\n",
       "      <td>True</td>\n",
       "      <td>7</td>\n",
       "      <td>4.20</td>\n",
       "      <td>40.0</td>\n",
       "      <td>377.00</td>\n",
       "      <td>1980-01-01</td>\n",
       "      <td>115654986</td>\n",
       "      <td>NaN</td>\n",
       "      <td>gas</td>\n",
       "      <td>False</td>\n",
       "      <td>Brandenburg</td>\n",
       "      <td>True</td>\n",
       "      <td>3.0</td>\n",
       "      <td>285.00</td>\n",
       "      <td>19</td>\n",
       "      <td>36.29</td>\n",
       "      <td>Oder_Spree_Kreis</td>\n",
       "      <td>fully_renovated</td>\n",
       "      <td>normal</td>\n",
       "      <td>negotiable</td>\n",
       "      <td>Gottfried-Keller Str.</td>\n",
       "      <td>Gottfried-Keller_Str.</td>\n",
       "      <td>True</td>\n",
       "      <td>1</td>\n",
       "      <td>apartment</td>\n",
       "      <td>15517</td>\n",
       "      <td>1.0</td>\n",
       "      <td>147.0</td>\n",
       "      <td>1.0</td>\n",
       "      <td>7.0</td>\n",
       "      <td>1</td>\n",
       "      <td>False</td>\n",
       "      <td>1</td>\n",
       "      <td>Oder_Spree_Kreis</td>\n",
       "      <td>Fürstenwalde/Spree</td>\n",
       "      <td>NaN</td>\n",
       "      <td>Bad mit Badewanne, Balkon und neue Bodenbeläge...</td>\n",
       "      <td>42.0</td>\n",
       "      <td>NaN</td>\n",
       "      <td>2019-01-01</td>\n",
       "      <td>NaN</td>\n",
       "      <td>NaN</td>\n",
       "      <td>2020-02-01</td>\n",
       "    </tr>\n",
       "  </tbody>\n",
       "</table>\n",
       "</div>"
      ],
      "text/plain": [
       "                regio1  serviceCharge      heatingType telekomTvOffer  \\\n",
       "7               Bremen           88.0  central_heating  ONE_YEAR_FREE   \n",
       "17             Sachsen           50.0  central_heating  ONE_YEAR_FREE   \n",
       "20  Schleswig_Holstein          140.0  central_heating  ONE_YEAR_FREE   \n",
       "48  Schleswig_Holstein          121.5              NaN            NaN   \n",
       "50         Brandenburg           50.0  central_heating  ONE_YEAR_FREE   \n",
       "\n",
       "    telekomHybridUploadSpeed  newlyConst  balcony  picturecount  pricetrend  \\\n",
       "7                       10.0       False     True             5        1.89   \n",
       "17                       NaN       False    False            12        1.96   \n",
       "20                       NaN       False     True            15        5.00   \n",
       "48                       NaN        True     True             2        3.90   \n",
       "50                       NaN       False     True             7        4.20   \n",
       "\n",
       "    telekomUploadSpeed  totalRent yearConstructed    scoutId  noParkSpaces  \\\n",
       "7                  2.4     584.25      1959-01-01  115270775           NaN   \n",
       "17                40.0     325.00      1897-01-01  107018003           NaN   \n",
       "20                10.0    1450.00      1978-01-01  110416311           2.0   \n",
       "48                 NaN    1113.00      2019-01-01  113054252           NaN   \n",
       "50                40.0     377.00      1980-01-01  115654986           NaN   \n",
       "\n",
       "        firingTypes  hasKitchen             geo_bln  cellar  \\\n",
       "7   gas:electricity       False              Bremen    True   \n",
       "17              gas       False             Sachsen   False   \n",
       "20              gas       False  Schleswig_Holstein    True   \n",
       "48   pellet_heating        True  Schleswig_Holstein   False   \n",
       "50              gas       False         Brandenburg    True   \n",
       "\n",
       "    yearConstructedRange  baseRent houseNumber  livingSpace  \\\n",
       "7                    2.0    452.25          35        60.30   \n",
       "17                   1.0    200.00         NaN        50.00   \n",
       "20                   3.0   1150.00         NaN       160.00   \n",
       "48                   9.0    870.00         21a        81.00   \n",
       "50                   3.0    285.00          19        36.29   \n",
       "\n",
       "                geo_krs        condition   interiorQual petsAllowed  \\\n",
       "7                Bremen              NaN            NaN         NaN   \n",
       "17  Mittelsachsen_Kreis      refurbished         normal         NaN   \n",
       "20           Neumünster        well_kept  sophisticated  negotiable   \n",
       "48      Steinburg_Kreis              NaN            NaN         NaN   \n",
       "50     Oder_Spree_Kreis  fully_renovated         normal  negotiable   \n",
       "\n",
       "                   street            streetPlain   lift  baseRentRange  \\\n",
       "7        Lesumer Heerstr.       Lesumer_Heerstr.  False              3   \n",
       "17         no_information                    NaN  False              1   \n",
       "20         no_information                    NaN  False              7   \n",
       "48     Hinterstra&szlig;e           Hinterstraße  False              6   \n",
       "50  Gottfried-Keller Str.  Gottfried-Keller_Str.   True              1   \n",
       "\n",
       "      typeOfFlat  geo_plz  noRooms  thermalChar  floor  numberOfFloors  \\\n",
       "7   ground_floor    28717      3.0         63.0    NaN             NaN   \n",
       "17   roof_storey     4720      2.0        257.5    3.0             NaN   \n",
       "20  ground_floor    24539      4.0        187.0    0.0             2.0   \n",
       "48           NaN    25379      3.0         65.0    2.0             2.0   \n",
       "50     apartment    15517      1.0        147.0    1.0             7.0   \n",
       "\n",
       "    noRoomsRange  garden  livingSpaceRange               regio2  \\\n",
       "7              3   False                 2               Bremen   \n",
       "17             2    True                 2  Mittelsachsen_Kreis   \n",
       "20             4    True                 7           Neumünster   \n",
       "48             3   False                 4      Steinburg_Kreis   \n",
       "50             1   False                 1     Oder_Spree_Kreis   \n",
       "\n",
       "                regio3                                        description  \\\n",
       "7           St._Magnus  + Komfortabler Bodenbelag: Die Wohnung ist zus...   \n",
       "17              Döbeln  Vermietet wird eine gemütliche Wohnung mit zwe...   \n",
       "20             Wittorf  Ihre repräsentative, großzügige und helle Wohn...   \n",
       "48            Herzhorn  Das moderne Mehrfamilienhaus im Herzen von  He...   \n",
       "50  Fürstenwalde/Spree                                                NaN   \n",
       "\n",
       "                                           facilities  heatingCosts  \\\n",
       "7   Rollläden; Warmwasserbereiter; Kellerraum; Gas...          44.0   \n",
       "17                                                NaN          75.0   \n",
       "20  Das große Wohnzimmer wurde mit hochwertigem La...         160.0   \n",
       "48  Aufzug• Ebenerdiges Dusche im Vollbad  • Hochw...         121.5   \n",
       "50  Bad mit Badewanne, Balkon und neue Bodenbeläge...          42.0   \n",
       "\n",
       "   energyEfficiencyClass lastRefurbish  electricityBasePrice  \\\n",
       "7                      B           NaT                   NaN   \n",
       "17                   NaN    1996-01-01                 90.76   \n",
       "20                   NaN           NaT                   NaN   \n",
       "48                     B           NaT                   NaN   \n",
       "50                   NaN    2019-01-01                   NaN   \n",
       "\n",
       "    electricityKwhPrice       date  \n",
       "7                   NaN 2020-02-01  \n",
       "17               0.2055 2018-09-01  \n",
       "20                  NaN 2019-10-01  \n",
       "48                  NaN 2019-10-01  \n",
       "50                  NaN 2020-02-01  "
      ]
     },
     "execution_count": 12,
     "metadata": {},
     "output_type": "execute_result"
    }
   ],
   "source": [
    "#Create dataframe with complete price information\n",
    "rentals_allPrice = rentals.loc[list(validated_crossfield.index),:]\n",
    "rentals_allPrice.head()"
   ]
  },
  {
   "cell_type": "code",
   "execution_count": 13,
   "metadata": {},
   "outputs": [
    {
     "name": "stdout",
     "output_type": "stream",
     "text": [
      "We lose  81.44% of our data if we only use rows that have full price information\n"
     ]
    }
   ],
   "source": [
    "pct_info_loss = (1 - rentals_allPrice.shape[0]/ rentals.shape[0]) * 100\n",
    "print('We lose % .2f%% of our data if we only use rows that have full price information'%(pct_info_loss))"
   ]
  },
  {
   "cell_type": "markdown",
   "metadata": {},
   "source": [
    "- If there were more rows with totalRent, we would not need the other price-related features for our modelling because the baseRent and utility costs would be captured in the totalRent. It is most likely the case that utility costs like heatingCosts and serviceCharge had missing values because they are typically variable costs that depend on consumption."
   ]
  },
  {
   "cell_type": "markdown",
   "metadata": {},
   "source": [
    "## 5.3 Reviewing Data Completeness"
   ]
  },
  {
   "cell_type": "code",
   "execution_count": 14,
   "metadata": {
    "scrolled": false
   },
   "outputs": [
    {
     "data": {
      "text/html": [
       "<div>\n",
       "<style scoped>\n",
       "    .dataframe tbody tr th:only-of-type {\n",
       "        vertical-align: middle;\n",
       "    }\n",
       "\n",
       "    .dataframe tbody tr th {\n",
       "        vertical-align: top;\n",
       "    }\n",
       "\n",
       "    .dataframe thead th {\n",
       "        text-align: right;\n",
       "    }\n",
       "</style>\n",
       "<table border=\"1\" class=\"dataframe\">\n",
       "  <thead>\n",
       "    <tr style=\"text-align: right;\">\n",
       "      <th></th>\n",
       "      <th>num_mssg</th>\n",
       "      <th>pct_mssg</th>\n",
       "    </tr>\n",
       "  </thead>\n",
       "  <tbody>\n",
       "    <tr>\n",
       "      <th>telekomHybridUploadSpeed</th>\n",
       "      <td>223830</td>\n",
       "      <td>83.254603</td>\n",
       "    </tr>\n",
       "    <tr>\n",
       "      <th>electricityKwhPrice</th>\n",
       "      <td>222004</td>\n",
       "      <td>82.575414</td>\n",
       "    </tr>\n",
       "    <tr>\n",
       "      <th>electricityBasePrice</th>\n",
       "      <td>222004</td>\n",
       "      <td>82.575414</td>\n",
       "    </tr>\n",
       "    <tr>\n",
       "      <th>energyEfficiencyClass</th>\n",
       "      <td>191063</td>\n",
       "      <td>71.066766</td>\n",
       "    </tr>\n",
       "    <tr>\n",
       "      <th>lastRefurbish</th>\n",
       "      <td>188145</td>\n",
       "      <td>69.981402</td>\n",
       "    </tr>\n",
       "    <tr>\n",
       "      <th>heatingCosts</th>\n",
       "      <td>183332</td>\n",
       "      <td>68.191185</td>\n",
       "    </tr>\n",
       "    <tr>\n",
       "      <th>noParkSpaces</th>\n",
       "      <td>175798</td>\n",
       "      <td>65.388879</td>\n",
       "    </tr>\n",
       "    <tr>\n",
       "      <th>petsAllowed</th>\n",
       "      <td>114573</td>\n",
       "      <td>42.615957</td>\n",
       "    </tr>\n",
       "    <tr>\n",
       "      <th>interiorQual</th>\n",
       "      <td>112665</td>\n",
       "      <td>41.906267</td>\n",
       "    </tr>\n",
       "    <tr>\n",
       "      <th>thermalChar</th>\n",
       "      <td>106506</td>\n",
       "      <td>39.615399</td>\n",
       "    </tr>\n",
       "    <tr>\n",
       "      <th>numberOfFloors</th>\n",
       "      <td>97732</td>\n",
       "      <td>36.351869</td>\n",
       "    </tr>\n",
       "    <tr>\n",
       "      <th>houseNumber</th>\n",
       "      <td>71018</td>\n",
       "      <td>26.415473</td>\n",
       "    </tr>\n",
       "    <tr>\n",
       "      <th>streetPlain</th>\n",
       "      <td>71013</td>\n",
       "      <td>26.413614</td>\n",
       "    </tr>\n",
       "    <tr>\n",
       "      <th>condition</th>\n",
       "      <td>68489</td>\n",
       "      <td>25.474800</td>\n",
       "    </tr>\n",
       "    <tr>\n",
       "      <th>yearConstructed</th>\n",
       "      <td>57436</td>\n",
       "      <td>21.363586</td>\n",
       "    </tr>\n",
       "    <tr>\n",
       "      <th>yearConstructedRange</th>\n",
       "      <td>57045</td>\n",
       "      <td>21.218151</td>\n",
       "    </tr>\n",
       "    <tr>\n",
       "      <th>firingTypes</th>\n",
       "      <td>56964</td>\n",
       "      <td>21.188023</td>\n",
       "    </tr>\n",
       "    <tr>\n",
       "      <th>facilities</th>\n",
       "      <td>52924</td>\n",
       "      <td>19.685326</td>\n",
       "    </tr>\n",
       "    <tr>\n",
       "      <th>floor</th>\n",
       "      <td>51309</td>\n",
       "      <td>19.084620</td>\n",
       "    </tr>\n",
       "    <tr>\n",
       "      <th>heatingType</th>\n",
       "      <td>44856</td>\n",
       "      <td>16.684397</td>\n",
       "    </tr>\n",
       "    <tr>\n",
       "      <th>totalRent</th>\n",
       "      <td>40517</td>\n",
       "      <td>15.070485</td>\n",
       "    </tr>\n",
       "    <tr>\n",
       "      <th>typeOfFlat</th>\n",
       "      <td>36614</td>\n",
       "      <td>13.618747</td>\n",
       "    </tr>\n",
       "    <tr>\n",
       "      <th>telekomUploadSpeed</th>\n",
       "      <td>33358</td>\n",
       "      <td>12.407662</td>\n",
       "    </tr>\n",
       "    <tr>\n",
       "      <th>telekomTvOffer</th>\n",
       "      <td>32619</td>\n",
       "      <td>12.132788</td>\n",
       "    </tr>\n",
       "    <tr>\n",
       "      <th>description</th>\n",
       "      <td>19747</td>\n",
       "      <td>7.344988</td>\n",
       "    </tr>\n",
       "    <tr>\n",
       "      <th>serviceCharge</th>\n",
       "      <td>6909</td>\n",
       "      <td>2.569834</td>\n",
       "    </tr>\n",
       "    <tr>\n",
       "      <th>pricetrend</th>\n",
       "      <td>1832</td>\n",
       "      <td>0.681421</td>\n",
       "    </tr>\n",
       "    <tr>\n",
       "      <th>regio3</th>\n",
       "      <td>0</td>\n",
       "      <td>0.000000</td>\n",
       "    </tr>\n",
       "    <tr>\n",
       "      <th>regio2</th>\n",
       "      <td>0</td>\n",
       "      <td>0.000000</td>\n",
       "    </tr>\n",
       "    <tr>\n",
       "      <th>livingSpaceRange</th>\n",
       "      <td>0</td>\n",
       "      <td>0.000000</td>\n",
       "    </tr>\n",
       "    <tr>\n",
       "      <th>garden</th>\n",
       "      <td>0</td>\n",
       "      <td>0.000000</td>\n",
       "    </tr>\n",
       "    <tr>\n",
       "      <th>noRoomsRange</th>\n",
       "      <td>0</td>\n",
       "      <td>0.000000</td>\n",
       "    </tr>\n",
       "    <tr>\n",
       "      <th>regio1</th>\n",
       "      <td>0</td>\n",
       "      <td>0.000000</td>\n",
       "    </tr>\n",
       "    <tr>\n",
       "      <th>noRooms</th>\n",
       "      <td>0</td>\n",
       "      <td>0.000000</td>\n",
       "    </tr>\n",
       "    <tr>\n",
       "      <th>geo_plz</th>\n",
       "      <td>0</td>\n",
       "      <td>0.000000</td>\n",
       "    </tr>\n",
       "    <tr>\n",
       "      <th>baseRentRange</th>\n",
       "      <td>0</td>\n",
       "      <td>0.000000</td>\n",
       "    </tr>\n",
       "    <tr>\n",
       "      <th>lift</th>\n",
       "      <td>0</td>\n",
       "      <td>0.000000</td>\n",
       "    </tr>\n",
       "    <tr>\n",
       "      <th>street</th>\n",
       "      <td>0</td>\n",
       "      <td>0.000000</td>\n",
       "    </tr>\n",
       "    <tr>\n",
       "      <th>geo_krs</th>\n",
       "      <td>0</td>\n",
       "      <td>0.000000</td>\n",
       "    </tr>\n",
       "    <tr>\n",
       "      <th>livingSpace</th>\n",
       "      <td>0</td>\n",
       "      <td>0.000000</td>\n",
       "    </tr>\n",
       "    <tr>\n",
       "      <th>baseRent</th>\n",
       "      <td>0</td>\n",
       "      <td>0.000000</td>\n",
       "    </tr>\n",
       "    <tr>\n",
       "      <th>cellar</th>\n",
       "      <td>0</td>\n",
       "      <td>0.000000</td>\n",
       "    </tr>\n",
       "    <tr>\n",
       "      <th>geo_bln</th>\n",
       "      <td>0</td>\n",
       "      <td>0.000000</td>\n",
       "    </tr>\n",
       "    <tr>\n",
       "      <th>hasKitchen</th>\n",
       "      <td>0</td>\n",
       "      <td>0.000000</td>\n",
       "    </tr>\n",
       "    <tr>\n",
       "      <th>scoutId</th>\n",
       "      <td>0</td>\n",
       "      <td>0.000000</td>\n",
       "    </tr>\n",
       "    <tr>\n",
       "      <th>picturecount</th>\n",
       "      <td>0</td>\n",
       "      <td>0.000000</td>\n",
       "    </tr>\n",
       "    <tr>\n",
       "      <th>balcony</th>\n",
       "      <td>0</td>\n",
       "      <td>0.000000</td>\n",
       "    </tr>\n",
       "    <tr>\n",
       "      <th>newlyConst</th>\n",
       "      <td>0</td>\n",
       "      <td>0.000000</td>\n",
       "    </tr>\n",
       "    <tr>\n",
       "      <th>date</th>\n",
       "      <td>0</td>\n",
       "      <td>0.000000</td>\n",
       "    </tr>\n",
       "  </tbody>\n",
       "</table>\n",
       "</div>"
      ],
      "text/plain": [
       "                          num_mssg   pct_mssg\n",
       "telekomHybridUploadSpeed    223830  83.254603\n",
       "electricityKwhPrice         222004  82.575414\n",
       "electricityBasePrice        222004  82.575414\n",
       "energyEfficiencyClass       191063  71.066766\n",
       "lastRefurbish               188145  69.981402\n",
       "heatingCosts                183332  68.191185\n",
       "noParkSpaces                175798  65.388879\n",
       "petsAllowed                 114573  42.615957\n",
       "interiorQual                112665  41.906267\n",
       "thermalChar                 106506  39.615399\n",
       "numberOfFloors               97732  36.351869\n",
       "houseNumber                  71018  26.415473\n",
       "streetPlain                  71013  26.413614\n",
       "condition                    68489  25.474800\n",
       "yearConstructed              57436  21.363586\n",
       "yearConstructedRange         57045  21.218151\n",
       "firingTypes                  56964  21.188023\n",
       "facilities                   52924  19.685326\n",
       "floor                        51309  19.084620\n",
       "heatingType                  44856  16.684397\n",
       "totalRent                    40517  15.070485\n",
       "typeOfFlat                   36614  13.618747\n",
       "telekomUploadSpeed           33358  12.407662\n",
       "telekomTvOffer               32619  12.132788\n",
       "description                  19747   7.344988\n",
       "serviceCharge                 6909   2.569834\n",
       "pricetrend                    1832   0.681421\n",
       "regio3                           0   0.000000\n",
       "regio2                           0   0.000000\n",
       "livingSpaceRange                 0   0.000000\n",
       "garden                           0   0.000000\n",
       "noRoomsRange                     0   0.000000\n",
       "regio1                           0   0.000000\n",
       "noRooms                          0   0.000000\n",
       "geo_plz                          0   0.000000\n",
       "baseRentRange                    0   0.000000\n",
       "lift                             0   0.000000\n",
       "street                           0   0.000000\n",
       "geo_krs                          0   0.000000\n",
       "livingSpace                      0   0.000000\n",
       "baseRent                         0   0.000000\n",
       "cellar                           0   0.000000\n",
       "geo_bln                          0   0.000000\n",
       "hasKitchen                       0   0.000000\n",
       "scoutId                          0   0.000000\n",
       "picturecount                     0   0.000000\n",
       "balcony                          0   0.000000\n",
       "newlyConst                       0   0.000000\n",
       "date                             0   0.000000"
      ]
     },
     "execution_count": 14,
     "metadata": {},
     "output_type": "execute_result"
    }
   ],
   "source": [
    "#To determine counts and percentage of valid entries\n",
    "missing = pd.concat([rentals.isnull().sum(), rentals.isnull().mean() * 100], axis = 1)\n",
    "missing.columns = ['num_mssg', 'pct_mssg']\n",
    "missing.sort_values(by = 'num_mssg', ascending = False)"
   ]
  },
  {
   "cell_type": "markdown",
   "metadata": {},
   "source": [
    "- Let's view the completeness count and fraction of bottom twenty features"
   ]
  },
  {
   "cell_type": "code",
   "execution_count": 15,
   "metadata": {
    "scrolled": false
   },
   "outputs": [
    {
     "data": {
      "image/png": "[encoded data removed]",
      "text/plain": [
       "<Figure size 1728x720 with 3 Axes>"
      ]
     },
     "metadata": {
      "needs_background": "light"
     },
     "output_type": "display_data"
    }
   ],
   "source": [
    "_= msno.bar(rentals,filter = 'bottom', n = 20, sort = 'ascending')\n",
    "_= plt.axhline(y=0.4, color='r', linestyle='-')\n",
    "_= plt.title('Bottom 20 Incomplete Features with Completeness Fraction and Count', fontsize = 25, color = 'blue')"
   ]
  },
  {
   "cell_type": "markdown",
   "metadata": {},
   "source": [
    "- There are seven features that are less than 40% complete, including heatingCosts and electricityKwhPrice. We will filter-out these features from the dataframe."
   ]
  },
  {
   "cell_type": "code",
   "execution_count": 16,
   "metadata": {},
   "outputs": [
    {
     "data": {
      "text/plain": [
       "(268850, 42)"
      ]
     },
     "execution_count": 16,
     "metadata": {},
     "output_type": "execute_result"
    }
   ],
   "source": [
    "#Filter-out features with over 40% missing values\n",
    "rentals = msno.nullity_filter(rentals,filter = 'top', p =0.4)\n",
    "rentals.shape"
   ]
  },
  {
   "cell_type": "markdown",
   "metadata": {},
   "source": [
    "## 5.4 Checking for Duplicated Rental Units "
   ]
  },
  {
   "cell_type": "code",
   "execution_count": 17,
   "metadata": {},
   "outputs": [
    {
     "data": {
      "text/plain": [
       "900"
      ]
     },
     "execution_count": 17,
     "metadata": {},
     "output_type": "execute_result"
    }
   ],
   "source": [
    "#Check for duplicates across all columns except scoutId which is the unique identifier for each listing\n",
    "rentals_noScoutId = rentals.loc[:, rentals.columns != 'scoutId']\n",
    "duplicates = rentals_noScoutId.duplicated()\n",
    "duplicates.sum()"
   ]
  },
  {
   "cell_type": "markdown",
   "metadata": {},
   "source": [
    "-There are potentially 900 duplicated rows. We will review the nature of the duplicated rows"
   ]
  },
  {
   "cell_type": "code",
   "execution_count": 18,
   "metadata": {},
   "outputs": [
    {
     "data": {
      "text/html": [
       "<div>\n",
       "<style scoped>\n",
       "    .dataframe tbody tr th:only-of-type {\n",
       "        vertical-align: middle;\n",
       "    }\n",
       "\n",
       "    .dataframe tbody tr th {\n",
       "        vertical-align: top;\n",
       "    }\n",
       "\n",
       "    .dataframe thead th {\n",
       "        text-align: right;\n",
       "    }\n",
       "</style>\n",
       "<table border=\"1\" class=\"dataframe\">\n",
       "  <thead>\n",
       "    <tr style=\"text-align: right;\">\n",
       "      <th></th>\n",
       "      <th>houseNumber</th>\n",
       "      <th>streetPlain</th>\n",
       "      <th>regio3</th>\n",
       "      <th>regio2</th>\n",
       "      <th>regio1</th>\n",
       "      <th>geo_plz</th>\n",
       "      <th>baseRent</th>\n",
       "      <th>totalRent</th>\n",
       "      <th>noRooms</th>\n",
       "    </tr>\n",
       "  </thead>\n",
       "  <tbody>\n",
       "    <tr>\n",
       "      <th>122607</th>\n",
       "      <td>NaN</td>\n",
       "      <td>NaN</td>\n",
       "      <td>Aachen_Eilendorf</td>\n",
       "      <td>Aachen</td>\n",
       "      <td>Nordrhein_Westfalen</td>\n",
       "      <td>52080</td>\n",
       "      <td>650.00</td>\n",
       "      <td>NaN</td>\n",
       "      <td>3.0</td>\n",
       "    </tr>\n",
       "    <tr>\n",
       "      <th>135689</th>\n",
       "      <td>NaN</td>\n",
       "      <td>NaN</td>\n",
       "      <td>Aachen_Eilendorf</td>\n",
       "      <td>Aachen</td>\n",
       "      <td>Nordrhein_Westfalen</td>\n",
       "      <td>52080</td>\n",
       "      <td>650.00</td>\n",
       "      <td>NaN</td>\n",
       "      <td>3.0</td>\n",
       "    </tr>\n",
       "    <tr>\n",
       "      <th>54879</th>\n",
       "      <td>NaN</td>\n",
       "      <td>NaN</td>\n",
       "      <td>Abensberg</td>\n",
       "      <td>Kelheim_Kreis</td>\n",
       "      <td>Bayern</td>\n",
       "      <td>93326</td>\n",
       "      <td>600.00</td>\n",
       "      <td>750.00</td>\n",
       "      <td>2.0</td>\n",
       "    </tr>\n",
       "    <tr>\n",
       "      <th>226122</th>\n",
       "      <td>NaN</td>\n",
       "      <td>NaN</td>\n",
       "      <td>Abensberg</td>\n",
       "      <td>Kelheim_Kreis</td>\n",
       "      <td>Bayern</td>\n",
       "      <td>93326</td>\n",
       "      <td>600.00</td>\n",
       "      <td>750.00</td>\n",
       "      <td>2.0</td>\n",
       "    </tr>\n",
       "    <tr>\n",
       "      <th>25677</th>\n",
       "      <td>27</td>\n",
       "      <td>Dörpfeldstraße</td>\n",
       "      <td>Adlershof_Treptow</td>\n",
       "      <td>Berlin</td>\n",
       "      <td>Berlin</td>\n",
       "      <td>12489</td>\n",
       "      <td>1330.00</td>\n",
       "      <td>1710.00</td>\n",
       "      <td>5.0</td>\n",
       "    </tr>\n",
       "    <tr>\n",
       "      <th>86827</th>\n",
       "      <td>5</td>\n",
       "      <td>Dörpfeldstraße</td>\n",
       "      <td>Adlershof_Treptow</td>\n",
       "      <td>Berlin</td>\n",
       "      <td>Berlin</td>\n",
       "      <td>12489</td>\n",
       "      <td>621.35</td>\n",
       "      <td>763.05</td>\n",
       "      <td>1.0</td>\n",
       "    </tr>\n",
       "    <tr>\n",
       "      <th>207406</th>\n",
       "      <td>5</td>\n",
       "      <td>Dörpfeldstraße</td>\n",
       "      <td>Adlershof_Treptow</td>\n",
       "      <td>Berlin</td>\n",
       "      <td>Berlin</td>\n",
       "      <td>12489</td>\n",
       "      <td>621.35</td>\n",
       "      <td>763.05</td>\n",
       "      <td>1.0</td>\n",
       "    </tr>\n",
       "    <tr>\n",
       "      <th>235965</th>\n",
       "      <td>27</td>\n",
       "      <td>Dörpfeldstraße</td>\n",
       "      <td>Adlershof_Treptow</td>\n",
       "      <td>Berlin</td>\n",
       "      <td>Berlin</td>\n",
       "      <td>12489</td>\n",
       "      <td>1330.00</td>\n",
       "      <td>1710.00</td>\n",
       "      <td>5.0</td>\n",
       "    </tr>\n",
       "    <tr>\n",
       "      <th>267457</th>\n",
       "      <td>27</td>\n",
       "      <td>Dörpfeldstraße</td>\n",
       "      <td>Adlershof_Treptow</td>\n",
       "      <td>Berlin</td>\n",
       "      <td>Berlin</td>\n",
       "      <td>12489</td>\n",
       "      <td>1330.00</td>\n",
       "      <td>1710.00</td>\n",
       "      <td>5.0</td>\n",
       "    </tr>\n",
       "    <tr>\n",
       "      <th>26652</th>\n",
       "      <td>NaN</td>\n",
       "      <td>NaN</td>\n",
       "      <td>Adlershof_Treptow</td>\n",
       "      <td>Berlin</td>\n",
       "      <td>Berlin</td>\n",
       "      <td>12489</td>\n",
       "      <td>600.00</td>\n",
       "      <td>700.00</td>\n",
       "      <td>2.0</td>\n",
       "    </tr>\n",
       "    <tr>\n",
       "      <th>179287</th>\n",
       "      <td>NaN</td>\n",
       "      <td>NaN</td>\n",
       "      <td>Adlershof_Treptow</td>\n",
       "      <td>Berlin</td>\n",
       "      <td>Berlin</td>\n",
       "      <td>12489</td>\n",
       "      <td>600.00</td>\n",
       "      <td>700.00</td>\n",
       "      <td>2.0</td>\n",
       "    </tr>\n",
       "    <tr>\n",
       "      <th>81959</th>\n",
       "      <td>NaN</td>\n",
       "      <td>NaN</td>\n",
       "      <td>Alt_Hohenschönhausen_Hohenschönhausen</td>\n",
       "      <td>Berlin</td>\n",
       "      <td>Berlin</td>\n",
       "      <td>13055</td>\n",
       "      <td>760.00</td>\n",
       "      <td>980.00</td>\n",
       "      <td>3.0</td>\n",
       "    </tr>\n",
       "    <tr>\n",
       "      <th>256892</th>\n",
       "      <td>NaN</td>\n",
       "      <td>NaN</td>\n",
       "      <td>Alt_Hohenschönhausen_Hohenschönhausen</td>\n",
       "      <td>Berlin</td>\n",
       "      <td>Berlin</td>\n",
       "      <td>13055</td>\n",
       "      <td>760.00</td>\n",
       "      <td>980.00</td>\n",
       "      <td>3.0</td>\n",
       "    </tr>\n",
       "    <tr>\n",
       "      <th>106996</th>\n",
       "      <td>72</td>\n",
       "      <td>Altchemnitzer_Straße</td>\n",
       "      <td>Altchemnitz</td>\n",
       "      <td>Chemnitz</td>\n",
       "      <td>Sachsen</td>\n",
       "      <td>9120</td>\n",
       "      <td>299.00</td>\n",
       "      <td>420.00</td>\n",
       "      <td>2.0</td>\n",
       "    </tr>\n",
       "    <tr>\n",
       "      <th>229185</th>\n",
       "      <td>72</td>\n",
       "      <td>Altchemnitzer_Straße</td>\n",
       "      <td>Altchemnitz</td>\n",
       "      <td>Chemnitz</td>\n",
       "      <td>Sachsen</td>\n",
       "      <td>9120</td>\n",
       "      <td>299.00</td>\n",
       "      <td>420.00</td>\n",
       "      <td>2.0</td>\n",
       "    </tr>\n",
       "    <tr>\n",
       "      <th>23252</th>\n",
       "      <td>19</td>\n",
       "      <td>Lothringer_Straße</td>\n",
       "      <td>Altchemnitz</td>\n",
       "      <td>Chemnitz</td>\n",
       "      <td>Sachsen</td>\n",
       "      <td>9120</td>\n",
       "      <td>165.00</td>\n",
       "      <td>260.58</td>\n",
       "      <td>1.0</td>\n",
       "    </tr>\n",
       "    <tr>\n",
       "      <th>214060</th>\n",
       "      <td>19</td>\n",
       "      <td>Lothringer_Straße</td>\n",
       "      <td>Altchemnitz</td>\n",
       "      <td>Chemnitz</td>\n",
       "      <td>Sachsen</td>\n",
       "      <td>9120</td>\n",
       "      <td>165.00</td>\n",
       "      <td>260.58</td>\n",
       "      <td>1.0</td>\n",
       "    </tr>\n",
       "    <tr>\n",
       "      <th>9740</th>\n",
       "      <td>NaN</td>\n",
       "      <td>NaN</td>\n",
       "      <td>Alte_Neustadt</td>\n",
       "      <td>Magdeburg</td>\n",
       "      <td>Sachsen_Anhalt</td>\n",
       "      <td>39106</td>\n",
       "      <td>410.00</td>\n",
       "      <td>520.00</td>\n",
       "      <td>2.0</td>\n",
       "    </tr>\n",
       "    <tr>\n",
       "      <th>124139</th>\n",
       "      <td>NaN</td>\n",
       "      <td>NaN</td>\n",
       "      <td>Alte_Neustadt</td>\n",
       "      <td>Magdeburg</td>\n",
       "      <td>Sachsen_Anhalt</td>\n",
       "      <td>39106</td>\n",
       "      <td>410.00</td>\n",
       "      <td>520.00</td>\n",
       "      <td>2.0</td>\n",
       "    </tr>\n",
       "    <tr>\n",
       "      <th>160138</th>\n",
       "      <td>NaN</td>\n",
       "      <td>NaN</td>\n",
       "      <td>Alte_Neustadt</td>\n",
       "      <td>Magdeburg</td>\n",
       "      <td>Sachsen_Anhalt</td>\n",
       "      <td>39106</td>\n",
       "      <td>400.00</td>\n",
       "      <td>500.00</td>\n",
       "      <td>2.0</td>\n",
       "    </tr>\n",
       "  </tbody>\n",
       "</table>\n",
       "</div>"
      ],
      "text/plain": [
       "       houseNumber           streetPlain  \\\n",
       "122607         NaN                   NaN   \n",
       "135689         NaN                   NaN   \n",
       "54879          NaN                   NaN   \n",
       "226122         NaN                   NaN   \n",
       "25677           27        Dörpfeldstraße   \n",
       "86827            5        Dörpfeldstraße   \n",
       "207406           5        Dörpfeldstraße   \n",
       "235965          27        Dörpfeldstraße   \n",
       "267457          27        Dörpfeldstraße   \n",
       "26652          NaN                   NaN   \n",
       "179287         NaN                   NaN   \n",
       "81959          NaN                   NaN   \n",
       "256892         NaN                   NaN   \n",
       "106996          72  Altchemnitzer_Straße   \n",
       "229185          72  Altchemnitzer_Straße   \n",
       "23252           19     Lothringer_Straße   \n",
       "214060          19     Lothringer_Straße   \n",
       "9740           NaN                   NaN   \n",
       "124139         NaN                   NaN   \n",
       "160138         NaN                   NaN   \n",
       "\n",
       "                                       regio3         regio2  \\\n",
       "122607                       Aachen_Eilendorf         Aachen   \n",
       "135689                       Aachen_Eilendorf         Aachen   \n",
       "54879                               Abensberg  Kelheim_Kreis   \n",
       "226122                              Abensberg  Kelheim_Kreis   \n",
       "25677                       Adlershof_Treptow         Berlin   \n",
       "86827                       Adlershof_Treptow         Berlin   \n",
       "207406                      Adlershof_Treptow         Berlin   \n",
       "235965                      Adlershof_Treptow         Berlin   \n",
       "267457                      Adlershof_Treptow         Berlin   \n",
       "26652                       Adlershof_Treptow         Berlin   \n",
       "179287                      Adlershof_Treptow         Berlin   \n",
       "81959   Alt_Hohenschönhausen_Hohenschönhausen         Berlin   \n",
       "256892  Alt_Hohenschönhausen_Hohenschönhausen         Berlin   \n",
       "106996                            Altchemnitz       Chemnitz   \n",
       "229185                            Altchemnitz       Chemnitz   \n",
       "23252                             Altchemnitz       Chemnitz   \n",
       "214060                            Altchemnitz       Chemnitz   \n",
       "9740                            Alte_Neustadt      Magdeburg   \n",
       "124139                          Alte_Neustadt      Magdeburg   \n",
       "160138                          Alte_Neustadt      Magdeburg   \n",
       "\n",
       "                     regio1  geo_plz  baseRent  totalRent  noRooms  \n",
       "122607  Nordrhein_Westfalen    52080    650.00        NaN      3.0  \n",
       "135689  Nordrhein_Westfalen    52080    650.00        NaN      3.0  \n",
       "54879                Bayern    93326    600.00     750.00      2.0  \n",
       "226122               Bayern    93326    600.00     750.00      2.0  \n",
       "25677                Berlin    12489   1330.00    1710.00      5.0  \n",
       "86827                Berlin    12489    621.35     763.05      1.0  \n",
       "207406               Berlin    12489    621.35     763.05      1.0  \n",
       "235965               Berlin    12489   1330.00    1710.00      5.0  \n",
       "267457               Berlin    12489   1330.00    1710.00      5.0  \n",
       "26652                Berlin    12489    600.00     700.00      2.0  \n",
       "179287               Berlin    12489    600.00     700.00      2.0  \n",
       "81959                Berlin    13055    760.00     980.00      3.0  \n",
       "256892               Berlin    13055    760.00     980.00      3.0  \n",
       "106996              Sachsen     9120    299.00     420.00      2.0  \n",
       "229185              Sachsen     9120    299.00     420.00      2.0  \n",
       "23252               Sachsen     9120    165.00     260.58      1.0  \n",
       "214060              Sachsen     9120    165.00     260.58      1.0  \n",
       "9740         Sachsen_Anhalt    39106    410.00     520.00      2.0  \n",
       "124139       Sachsen_Anhalt    39106    410.00     520.00      2.0  \n",
       "160138       Sachsen_Anhalt    39106    400.00     500.00      2.0  "
      ]
     },
     "execution_count": 18,
     "metadata": {},
     "output_type": "execute_result"
    }
   ],
   "source": [
    "subset = ['houseNumber', 'streetPlain','regio3', 'regio2','regio1','geo_plz', 'baseRent', 'totalRent', 'noRooms']\n",
    "full_duplicates = rentals_noScoutId.duplicated(keep = False)\n",
    "rentals.loc[full_duplicates, subset].sort_values(by = ['regio3', 'streetPlain']).head(20)"
   ]
  },
  {
   "cell_type": "markdown",
   "metadata": {},
   "source": [
    "- We will drop duplicated rows"
   ]
  },
  {
   "cell_type": "code",
   "execution_count": 19,
   "metadata": {},
   "outputs": [],
   "source": [
    "column_names = rentals.loc[:, rentals.columns != 'scoutId'].columns"
   ]
  },
  {
   "cell_type": "code",
   "execution_count": 20,
   "metadata": {},
   "outputs": [
    {
     "data": {
      "text/plain": [
       "(268850, 42)"
      ]
     },
     "execution_count": 20,
     "metadata": {},
     "output_type": "execute_result"
    }
   ],
   "source": [
    "rentals.shape"
   ]
  },
  {
   "cell_type": "code",
   "execution_count": 21,
   "metadata": {},
   "outputs": [
    {
     "data": {
      "text/plain": [
       "(267950, 42)"
      ]
     },
     "execution_count": 21,
     "metadata": {},
     "output_type": "execute_result"
    }
   ],
   "source": [
    "rentals.drop_duplicates(subset = column_names, inplace = True)\n",
    "rentals.shape"
   ]
  },
  {
   "cell_type": "markdown",
   "metadata": {},
   "source": [
    "## 5.5 Reviewing Categorical Features\n",
    "    \n",
    "### 5.5.1 Address Information <br>(houseNumber, geo_bln, geo_krs, street, geo_plz, regio1, regio2,    regio3, streetPlain)</br>"
   ]
  },
  {
   "cell_type": "code",
   "execution_count": 22,
   "metadata": {},
   "outputs": [
    {
     "data": {
      "text/html": [
       "<div>\n",
       "<style scoped>\n",
       "    .dataframe tbody tr th:only-of-type {\n",
       "        vertical-align: middle;\n",
       "    }\n",
       "\n",
       "    .dataframe tbody tr th {\n",
       "        vertical-align: top;\n",
       "    }\n",
       "\n",
       "    .dataframe thead th {\n",
       "        text-align: right;\n",
       "    }\n",
       "</style>\n",
       "<table border=\"1\" class=\"dataframe\">\n",
       "  <thead>\n",
       "    <tr style=\"text-align: right;\">\n",
       "      <th></th>\n",
       "      <th>houseNumber</th>\n",
       "      <th>street</th>\n",
       "      <th>streetPlain</th>\n",
       "      <th>regio3</th>\n",
       "      <th>regio2</th>\n",
       "      <th>geo_krs</th>\n",
       "      <th>regio1</th>\n",
       "      <th>geo_bln</th>\n",
       "      <th>geo_plz</th>\n",
       "    </tr>\n",
       "  </thead>\n",
       "  <tbody>\n",
       "    <tr>\n",
       "      <th>0</th>\n",
       "      <td>244</td>\n",
       "      <td>Sch&amp;uuml;ruferstra&amp;szlig;e</td>\n",
       "      <td>Schüruferstraße</td>\n",
       "      <td>Schüren</td>\n",
       "      <td>Dortmund</td>\n",
       "      <td>Dortmund</td>\n",
       "      <td>Nordrhein_Westfalen</td>\n",
       "      <td>Nordrhein_Westfalen</td>\n",
       "      <td>44269</td>\n",
       "    </tr>\n",
       "    <tr>\n",
       "      <th>1</th>\n",
       "      <td>NaN</td>\n",
       "      <td>no_information</td>\n",
       "      <td>NaN</td>\n",
       "      <td>Böhl_Iggelheim</td>\n",
       "      <td>Rhein_Pfalz_Kreis</td>\n",
       "      <td>Rhein_Pfalz_Kreis</td>\n",
       "      <td>Rheinland_Pfalz</td>\n",
       "      <td>Rheinland_Pfalz</td>\n",
       "      <td>67459</td>\n",
       "    </tr>\n",
       "    <tr>\n",
       "      <th>2</th>\n",
       "      <td>4</td>\n",
       "      <td>Turnerweg</td>\n",
       "      <td>Turnerweg</td>\n",
       "      <td>Äußere_Neustadt_Antonstadt</td>\n",
       "      <td>Dresden</td>\n",
       "      <td>Dresden</td>\n",
       "      <td>Sachsen</td>\n",
       "      <td>Sachsen</td>\n",
       "      <td>1097</td>\n",
       "    </tr>\n",
       "    <tr>\n",
       "      <th>3</th>\n",
       "      <td>35</td>\n",
       "      <td>Gl&amp;uuml;ck-Auf-Stra&amp;szlig;e</td>\n",
       "      <td>Glück-Auf-Straße</td>\n",
       "      <td>Freiberg</td>\n",
       "      <td>Mittelsachsen_Kreis</td>\n",
       "      <td>Mittelsachsen_Kreis</td>\n",
       "      <td>Sachsen</td>\n",
       "      <td>Sachsen</td>\n",
       "      <td>9599</td>\n",
       "    </tr>\n",
       "    <tr>\n",
       "      <th>4</th>\n",
       "      <td>10</td>\n",
       "      <td>Hermann-Henrich-Meier-Allee</td>\n",
       "      <td>Hermann-Henrich-Meier-Allee</td>\n",
       "      <td>Neu_Schwachhausen</td>\n",
       "      <td>Bremen</td>\n",
       "      <td>Bremen</td>\n",
       "      <td>Bremen</td>\n",
       "      <td>Bremen</td>\n",
       "      <td>28213</td>\n",
       "    </tr>\n",
       "  </tbody>\n",
       "</table>\n",
       "</div>"
      ],
      "text/plain": [
       "  houseNumber                       street                  streetPlain  \\\n",
       "0         244   Sch&uuml;ruferstra&szlig;e              Schüruferstraße   \n",
       "1         NaN               no_information                          NaN   \n",
       "2           4                    Turnerweg                    Turnerweg   \n",
       "3          35  Gl&uuml;ck-Auf-Stra&szlig;e             Glück-Auf-Straße   \n",
       "4          10  Hermann-Henrich-Meier-Allee  Hermann-Henrich-Meier-Allee   \n",
       "\n",
       "                       regio3               regio2              geo_krs  \\\n",
       "0                     Schüren             Dortmund             Dortmund   \n",
       "1              Böhl_Iggelheim    Rhein_Pfalz_Kreis    Rhein_Pfalz_Kreis   \n",
       "2  Äußere_Neustadt_Antonstadt              Dresden              Dresden   \n",
       "3                    Freiberg  Mittelsachsen_Kreis  Mittelsachsen_Kreis   \n",
       "4           Neu_Schwachhausen               Bremen               Bremen   \n",
       "\n",
       "                regio1              geo_bln  geo_plz  \n",
       "0  Nordrhein_Westfalen  Nordrhein_Westfalen    44269  \n",
       "1      Rheinland_Pfalz      Rheinland_Pfalz    67459  \n",
       "2              Sachsen              Sachsen     1097  \n",
       "3              Sachsen              Sachsen     9599  \n",
       "4               Bremen               Bremen    28213  "
      ]
     },
     "execution_count": 22,
     "metadata": {},
     "output_type": "execute_result"
    }
   ],
   "source": [
    "address = ['houseNumber','street', 'streetPlain', 'regio3', 'regio2','geo_krs','regio1', 'geo_bln', 'geo_plz']\n",
    "rentals[address].head()"
   ]
  },
  {
   "cell_type": "markdown",
   "metadata": {},
   "source": [
    "- We notice that street seems identical to streetPlain, regio2 seems identical to geo_krs and regio1 seems identical to geo_bln\n",
    "- We will review these relationships"
   ]
  },
  {
   "cell_type": "code",
   "execution_count": 23,
   "metadata": {},
   "outputs": [
    {
     "data": {
      "text/plain": [
       "0"
      ]
     },
     "execution_count": 23,
     "metadata": {},
     "output_type": "execute_result"
    }
   ],
   "source": [
    "#Check if there are records where regio1 is not identical to geo_bln \n",
    "(rentals[\"regio1\"] != rentals['geo_bln']).sum() "
   ]
  },
  {
   "cell_type": "markdown",
   "metadata": {},
   "source": [
    "- regio1 is the state and it is always equal to geo_bln. We will drop geo_bln"
   ]
  },
  {
   "cell_type": "code",
   "execution_count": 24,
   "metadata": {},
   "outputs": [
    {
     "data": {
      "text/plain": [
       "16"
      ]
     },
     "execution_count": 24,
     "metadata": {},
     "output_type": "execute_result"
    }
   ],
   "source": [
    "#Number of categories\n",
    "rentals.regio1.nunique()"
   ]
  },
  {
   "cell_type": "code",
   "execution_count": 25,
   "metadata": {},
   "outputs": [
    {
     "data": {
      "text/plain": [
       "Nordrhein_Westfalen       62744\n",
       "Sachsen                   57848\n",
       "Bayern                    21566\n",
       "Sachsen_Anhalt            20049\n",
       "Hessen                    17744\n",
       "Niedersachsen             16564\n",
       "Baden_Württemberg         16058\n",
       "Berlin                    10353\n",
       "Thüringen                  8363\n",
       "Rheinland_Pfalz            8350\n",
       "Brandenburg                6921\n",
       "Schleswig_Holstein         6640\n",
       "Mecklenburg_Vorpommern     6624\n",
       "Hamburg                    3741\n",
       "Bremen                     2960\n",
       "Saarland                   1425\n",
       "Name: regio1, dtype: int64"
      ]
     },
     "execution_count": 25,
     "metadata": {},
     "output_type": "execute_result"
    }
   ],
   "source": [
    "#Review category names and how many records in which they appear\n",
    "rentals.regio1.value_counts()"
   ]
  },
  {
   "cell_type": "code",
   "execution_count": 26,
   "metadata": {},
   "outputs": [
    {
     "data": {
      "text/plain": [
       "0"
      ]
     },
     "execution_count": 26,
     "metadata": {},
     "output_type": "execute_result"
    }
   ],
   "source": [
    "#Check if there are records where regio1 is not identical to geo_bln \n",
    "(rentals[\"regio2\"] != rentals['geo_krs']).sum() "
   ]
  },
  {
   "cell_type": "markdown",
   "metadata": {},
   "source": [
    "- regio2 is the district and it is always equal to geo_krs. We will drop geo_krs"
   ]
  },
  {
   "cell_type": "code",
   "execution_count": 27,
   "metadata": {
    "scrolled": false
   },
   "outputs": [
    {
     "data": {
      "text/plain": [
       "419"
      ]
     },
     "execution_count": 27,
     "metadata": {},
     "output_type": "execute_result"
    }
   ],
   "source": [
    "#Number of categories\n",
    "rentals.regio2.nunique()"
   ]
  },
  {
   "cell_type": "code",
   "execution_count": 28,
   "metadata": {},
   "outputs": [
    {
     "data": {
      "text/plain": [
       "array(['Dortmund', 'Rhein_Pfalz_Kreis', 'Dresden', 'Mittelsachsen_Kreis',\n",
       "       'Bremen', 'Schleswig_Flensburg_Kreis', 'Emmendingen_Kreis',\n",
       "       'Gelsenkirchen', 'Chemnitz', 'Südliche_Weinstraße_Kreis', 'Hamm',\n",
       "       'Weimar', 'Main_Kinzig_Kreis', 'Duisburg', 'Göttingen_Kreis',\n",
       "       'Neumünster', 'Stuttgart', 'Leipzig', 'München', 'Hamburg',\n",
       "       'Braunschweig', 'Esslingen_Kreis', 'Magdeburg', 'Schwerin',\n",
       "       'Passau', 'Mettmann_Kreis', 'Vogtlandkreis', 'Groß_Gerau_Kreis',\n",
       "       'Sächsische_Schweiz_Osterzgebirge_Kreis', 'Görlitz_Kreis',\n",
       "       'Rheinisch_Bergischer_Kreis', 'Essen', 'Meißen_Kreis', 'Mannheim',\n",
       "       'Wesermarsch_Kreis', 'Hochsauerlandkreis', 'Unna_Kreis',\n",
       "       'Bautzen_Kreis', 'Berlin', 'Frankfurt_am_Main', 'Halle_Saale',\n",
       "       'Steinburg_Kreis', 'Aschaffenburg', 'Oder_Spree_Kreis',\n",
       "       'Bremerhaven', 'Zwickau_Kreis', 'Nordsachsen_Kreis',\n",
       "       'Mansfeld_Südharz_Kreis', 'Alzey_Worms_Kreis', 'Gießen_Kreis',\n",
       "       'Main_Taunus_Kreis', 'Zwickau', 'Wuppertal', 'Viersen_Kreis',\n",
       "       'Düsseldorf', 'Gera', 'Böblingen_Kreis', 'Würzburg',\n",
       "       'Kitzingen_Kreis', 'Stendal_Kreis', 'Nordvorpommern_Kreis',\n",
       "       'Rhein_Erft_Kreis', 'Mülheim_an_der_Ruhr', 'Heilbronn',\n",
       "       'Hersfeld_Rotenburg_Kreis', 'Aachen_Kreis', 'Erzgebirgskreis',\n",
       "       'Baden_Baden', 'Tuttlingen_Kreis', 'Nürnberg', 'Heinsberg_Kreis',\n",
       "       'Remscheid', 'Märkisch_Oderland_Kreis', 'Wiesbaden',\n",
       "       'Wetteraukreis', 'Kassel', 'Bielefeld', 'Salzlandkreis', 'Aachen',\n",
       "       'Harburg_Kreis', 'Höxter_Kreis', 'Germersheim_Kreis',\n",
       "       'Brandenburg_an_der_Havel', 'Leipzig_Kreis', 'Aurich_Kreis',\n",
       "       'Herzogtum_Lauenburg_Kreis', 'Karlsruhe', 'Frankenthal_Pfalz',\n",
       "       'Rheingau_Taunus_Kreis', 'Nordwestmecklenburg_Kreis',\n",
       "       'Ostvorpommern_Kreis', 'Emden', 'Rems_Murr_Kreis',\n",
       "       'Altmarkkreis_Salzwedel', 'Straubing', 'Peine_Kreis',\n",
       "       'Paderborn_Kreis', 'Düren_Kreis', 'Fürstenfeldbruck_Kreis', 'Kiel',\n",
       "       'Unstrut_Hainich_Kreis', 'Ludwigslust_Kreis', 'Flensburg',\n",
       "       'Borken_Kreis', 'Krefeld', 'Lörrach_Kreis', 'Saalekreis',\n",
       "       'Wesel_Kreis', 'Recklinghausen_Kreis', 'Hagen',\n",
       "       'Grafschaft_Bentheim_Kreis', 'Goslar_Kreis', 'Bergstraße_Kreis',\n",
       "       'Börde_Kreis', 'Potsdam', 'Kusel_Kreis', 'Burgenlandkreis',\n",
       "       'Holzminden_Kreis', 'Bad_Doberan_Kreis', 'Biberach_Kreis',\n",
       "       'Coburg', 'Köln', 'Aschaffenburg_Kreis', 'Görlitz',\n",
       "       'Dessau_Roßlau', 'Harz_Kreis', 'Ludwigsburg_Kreis', 'Herne',\n",
       "       'Bad_Dürkheim_Kreis', 'Wittenberg_Kreis', 'Fürth',\n",
       "       'Eichstätt_Kreis', 'Bochum', 'Pfaffenhofen_an_der_Ilm_Kreis',\n",
       "       'Märkischer_Kreis', 'Trier', 'Rhein_Sieg_Kreis', 'Hannover',\n",
       "       'Limburg_Weilburg_Kreis', 'Mönchengladbach', 'Bonn',\n",
       "       'Anhalt_Bitterfeld_Kreis', 'Herford_Kreis', 'Neuss_Rhein_Kreis',\n",
       "       'Plauen', 'Soest_Kreis', 'Erding_Kreis', 'Dahme_Spreewald_Kreis',\n",
       "       'Mainz', 'Kleve_Kreis', 'Reutlingen_Kreis', 'Offenbach_Kreis',\n",
       "       'Segeberg_Kreis', 'Emsland_Kreis', 'Hochtaunuskreis',\n",
       "       'Schwarzwald_Baar_Kreis', 'Oberbergischer_Kreis',\n",
       "       'Wunsiedel_im_Fichtelgebirge_Kreis', 'Hildburghausen_Kreis',\n",
       "       'Wismar', 'Heilbronn_Kreis', 'Hannover_Kreis', 'Pirmasens',\n",
       "       'Schmalkalden_Meiningen_Kreis', 'Ostalbkreis',\n",
       "       'Oldenburg_Oldenburg', 'Mayen_Koblenz_Kreis', 'Ennepe_Ruhr_Kreis',\n",
       "       'Uckermark_Kreis', 'Mainz_Bingen_Kreis', 'Erfurt',\n",
       "       'Helmstedt_Kreis', 'Pinneberg_Kreis', 'Gütersloh_Kreis',\n",
       "       'Starnberg_Kreis', 'Siegen_Wittgenstein_Kreis', 'Fulda_Kreis',\n",
       "       'Würzburg_Kreis', 'Oberspreewald_Lausitz_Kreis', 'Göppingen_Kreis',\n",
       "       'Werra_Meißner_Kreis', 'Lüneburg_Kreis', 'Wilhelmshaven',\n",
       "       'Wolfsburg', 'Northeim_Kreis', 'Rhein_Lahn_Kreis',\n",
       "       'Karlsruhe_Kreis', 'Freising_Kreis', 'Lübeck',\n",
       "       'Minden_Lübbecke_Kreis', 'Rastatt_Kreis', 'Unterallgäu_Kreis',\n",
       "       'Eisenach', 'Spree_Neiße_Kreis', 'Bad_Tölz_Wolfratshausen_Kreis',\n",
       "       'Rendsburg_Eckernförde_Kreis', 'Augsburg',\n",
       "       'Neustadt_a.d._Aisch_Bad_Windsheim_Kreis', 'Oberhavel_Kreis',\n",
       "       'Schwalm_Eder_Kreis', 'Stralsund', 'Prignitz_Kreis', 'Hoyerswerda',\n",
       "       'Straubing_Bogen_Kreis', 'Darmstadt_Dieburg_Kreis', 'Landshut',\n",
       "       'Cochem_Zell_Kreis', 'Bad_Kreuznach_Kreis', 'Solingen',\n",
       "       'Heidelberg', 'Hof', 'Neubrandenburg', 'Osnabrück_Kreis',\n",
       "       'Landshut_Kreis', 'Donau_Ries_Kreis', 'Güstrow_Kreis',\n",
       "       'Plön_Kreis', 'Koblenz', 'Alb_Donau_Kreis', 'Heidenheim_Kreis',\n",
       "       'Bodenseekreis', 'Teltow_Fläming_Kreis', 'Westerwaldkreis',\n",
       "       'Celle_Kreis', 'Potsdam_Mittelmark_Kreis', 'Hildesheim_Kreis',\n",
       "       'Verden_Kreis', 'Rhein_Neckar_Kreis', 'Havelland_Kreis',\n",
       "       'Dachau_Kreis', 'Rotenburg_Wümme_Kreis', 'Ostholstein_Kreis',\n",
       "       'Pforzheim', 'Suhl', 'Stormarn_Kreis', 'Eichsfeld_Kreis',\n",
       "       'Darmstadt', 'Regensburg', 'Nordhausen_Kreis', 'Sonneberg_Kreis',\n",
       "       'Cottbus', 'Forchheim_Kreis', 'Erlangen', 'Nienburg_Weser_Kreis',\n",
       "       'Waldeck_Frankenberg_Kreis', 'Dithmarschen_Kreis',\n",
       "       'Diepholz_Kreis', 'Augsburg_Kreis', 'Deggendorf_Kreis',\n",
       "       'Oberhausen', 'Neustadt_an_der_Weinstraße', 'Münster',\n",
       "       'Osterode_am_Harz_Kreis', 'Freudenstadt_Kreis',\n",
       "       'Marburg_Biedenkopf_Kreis', 'Stade_Kreis', 'Birkenfeld_Kreis',\n",
       "       'Cuxhaven_Kreis', 'Rottal_Inn_Kreis', 'Rügen_Kreis',\n",
       "       'München_Kreis', 'Osnabrück', 'Gotha_Kreis', 'Offenbach_am_Main',\n",
       "       'Stadtverband_Saarbrücken_Kreis', 'Hof_Kreis', 'Kyffhäuserkreis',\n",
       "       'Freiburg_im_Breisgau', 'Ravensburg_Kreis', 'Hameln_Pyrmont_Kreis',\n",
       "       'Saalfeld_Rudolstadt_Kreis', 'Rostock', 'Saarlouis_Kreis',\n",
       "       'Parchim_Kreis', 'Schwäbisch_Hall_Kreis', 'Bamberg_Kreis',\n",
       "       'Weilheim_Schongau_Kreis', 'Lippe_Kreis', 'Müritz_Kreis',\n",
       "       'Steinfurt_Kreis', 'Traunstein_Kreis', 'Ebersberg_Kreis',\n",
       "       'Neuwied_Kreis', 'Kelheim_Kreis', 'Weimarer_Land_Kreis',\n",
       "       'Saarpfalz_Kreis', 'Vechta_Kreis', 'Bitburg_Prüm_Kreis',\n",
       "       'Ahrweiler_Kreis', 'Greifswald', 'Calw_Kreis', 'Gifhorn_Kreis',\n",
       "       'Uelzen_Kreis', 'Altenburger_Land_Kreis', 'Ilm_Kreis',\n",
       "       'Trier_Saarburg_Kreis', 'Lahn_Dill_Kreis', 'Worms',\n",
       "       'Berchtesgadener_Land_Kreis', 'Breisgau_Hochschwarzwald_Kreis',\n",
       "       'Oldenburg_Kreis', 'Barnim_Kreis', 'Erlangen_Höchstadt_Kreis',\n",
       "       'Main_Spessart_Kreis', 'Rosenheim_Kreis', 'Bottrop',\n",
       "       'Ludwigshafen_am_Rhein', 'Elbe_Elster_Kreis', 'Warendorf_Kreis',\n",
       "       'Kassel_Kreis', 'Mecklenburg_Strelitz_Kreis',\n",
       "       'Jerichower_Land_Kreis', 'Lüchow_Dannenberg_Kreis', 'Greiz_Kreis',\n",
       "       'Euskirchen_Kreis', 'Regensburg_Kreis', 'Kaiserslautern_Kreis',\n",
       "       'Salzgitter', 'Weißenburg_Gunzenhausen_Kreis', 'Ulm',\n",
       "       'Altötting_Kreis', 'Landsberg_am_Lech_Kreis', 'Günzburg_Kreis',\n",
       "       'Amberg_Sulzbach_Kreis', 'Wartburgkreis', 'Neu_Ulm_Kreis',\n",
       "       'Lichtenfels_Kreis', 'Friesland_Kreis', 'Tübingen_Kreis',\n",
       "       'Zollernalbkreis', 'Enzkreis', 'Miltenberg_Kreis',\n",
       "       'Kaiserslautern', 'Schaumburg_Kreis', 'Waldshut_Kreis',\n",
       "       'Delmenhorst', 'Bayreuth', 'Jena', 'Sömmerda_Kreis',\n",
       "       'Nordfriesland_Kreis', 'Leer_Kreis',\n",
       "       'Dillingen_an_der_Donau_Kreis', 'Nürnberger_Land_Kreis',\n",
       "       'Ostprignitz_Ruppin_Kreis', 'Ingolstadt', 'Bad_Kissingen_Kreis',\n",
       "       'Saale_Holzland_Kreis', 'Kaufbeuren', 'Speyer', 'Ansbach_Kreis',\n",
       "       'Ammerland_Kreis', 'Rottweil_Kreis', 'Mühldorf_am_Inn_Kreis',\n",
       "       'Weiden_in_der_Oberpfalz', 'Frankfurt_Oder',\n",
       "       'Garmisch_Partenkirchen_Kreis', 'Main_Tauber_Kreis',\n",
       "       'Ostallgäu_Kreis', 'Leverkusen', 'Rosenheim', 'Coburg_Kreis',\n",
       "       'Neumarkt_in_der_Oberpfalz_Kreis', 'Aichach_Friedberg_Kreis',\n",
       "       'Neunkirchen_Kreis', 'Coesfeld_Kreis', 'Lindau_Bodensee_Kreis',\n",
       "       'Ortenaukreis', 'Rhein_Hunsrück_Kreis', 'Osterholz_Kreis',\n",
       "       'Merzig_Wadern_Kreis', 'Heidekreis', 'Wolfenbüttel_Kreis',\n",
       "       'Dingolfing_Landau_Kreis', 'Südwestpfalz_Kreis',\n",
       "       'Bernkastel_Wittlich_Kreis', 'Bayreuth_Kreis', 'Schweinfurt_Kreis',\n",
       "       'Demmin_Kreis', 'Passau_Kreis', 'Miesbach_Kreis', 'Ansbach',\n",
       "       'Konstanz_Kreis', 'Fürth_Kreis', 'Tirschenreuth_Kreis',\n",
       "       'Neckar_Odenwald_Kreis', 'Altenkirchen_Westerwald_Kreis',\n",
       "       'Soltau_Fallingbostel_Kreis', 'Landau_in_der_Pfalz',\n",
       "       'Uecker_Randow_Kreis', 'Zweibrücken',\n",
       "       'Neuburg_Schrobenhausen_Kreis', 'Amberg', 'Donnersbergkreis',\n",
       "       'Cloppenburg_Kreis', 'Hohenlohekreis', 'Roth_Kreis', 'Bamberg',\n",
       "       'Schweinfurt', 'Vulkaneifel_Kreis', 'Vogelsbergkreis',\n",
       "       'Schwandorf_Kreis', 'Cham_Kreis', 'Sigmaringen_Kreis',\n",
       "       'Oberallgäu_Kreis', 'Regen_Kreis', 'Memmingen', 'Kempten_Allgäu',\n",
       "       'Freyung_Grafenau_Kreis', 'Odenwaldkreis', 'Olpe_Kreis',\n",
       "       'Saale_Orla_Kreis', 'Sankt_Wendel_Kreis', 'Kulmbach_Kreis',\n",
       "       'Schwabach', 'Wittmund_Kreis', 'Haßberge_Kreis',\n",
       "       'Rhön_Grabfeld_Kreis', 'Kronach_Kreis',\n",
       "       'Neustadt_a.d._Waldnaab_Kreis'], dtype=object)"
      ]
     },
     "execution_count": 28,
     "metadata": {},
     "output_type": "execute_result"
    }
   ],
   "source": [
    "rentals.regio2.unique()"
   ]
  },
  {
   "cell_type": "markdown",
   "metadata": {},
   "source": [
    "- We notice that many of the districts have Kreis at the end of its name. We will remove these."
   ]
  },
  {
   "cell_type": "code",
   "execution_count": 29,
   "metadata": {
    "scrolled": true
   },
   "outputs": [
    {
     "data": {
      "text/plain": [
       "394"
      ]
     },
     "execution_count": 29,
     "metadata": {},
     "output_type": "execute_result"
    }
   ],
   "source": [
    "rentals.regio2 = rentals.regio2.str.replace('_Kreis', '')\n",
    "rentals.regio2.nunique()"
   ]
  },
  {
   "cell_type": "code",
   "execution_count": 30,
   "metadata": {
    "scrolled": true
   },
   "outputs": [
    {
     "data": {
      "text/html": [
       "<div>\n",
       "<style scoped>\n",
       "    .dataframe tbody tr th:only-of-type {\n",
       "        vertical-align: middle;\n",
       "    }\n",
       "\n",
       "    .dataframe tbody tr th {\n",
       "        vertical-align: top;\n",
       "    }\n",
       "\n",
       "    .dataframe thead th {\n",
       "        text-align: right;\n",
       "    }\n",
       "</style>\n",
       "<table border=\"1\" class=\"dataframe\">\n",
       "  <thead>\n",
       "    <tr style=\"text-align: right;\">\n",
       "      <th></th>\n",
       "      <th>street</th>\n",
       "      <th>streetPlain</th>\n",
       "    </tr>\n",
       "  </thead>\n",
       "  <tbody>\n",
       "    <tr>\n",
       "      <th>174104</th>\n",
       "      <td>Kirchplatz</td>\n",
       "      <td>Kirchplatz</td>\n",
       "    </tr>\n",
       "    <tr>\n",
       "      <th>42215</th>\n",
       "      <td>no_information</td>\n",
       "      <td>NaN</td>\n",
       "    </tr>\n",
       "    <tr>\n",
       "      <th>19956</th>\n",
       "      <td>no_information</td>\n",
       "      <td>NaN</td>\n",
       "    </tr>\n",
       "    <tr>\n",
       "      <th>84150</th>\n",
       "      <td>Alte Hofstra&amp;szlig;e</td>\n",
       "      <td>Alte_Hofstraße</td>\n",
       "    </tr>\n",
       "    <tr>\n",
       "      <th>159440</th>\n",
       "      <td>Zur Neuen Br&amp;uuml;cke</td>\n",
       "      <td>Zur_Neuen_Brücke</td>\n",
       "    </tr>\n",
       "    <tr>\n",
       "      <th>213538</th>\n",
       "      <td>Wallstra&amp;szlig;e</td>\n",
       "      <td>Wallstraße</td>\n",
       "    </tr>\n",
       "    <tr>\n",
       "      <th>238445</th>\n",
       "      <td>Hillstra&amp;szlig;e</td>\n",
       "      <td>Hillstraße</td>\n",
       "    </tr>\n",
       "    <tr>\n",
       "      <th>20297</th>\n",
       "      <td>no_information</td>\n",
       "      <td>NaN</td>\n",
       "    </tr>\n",
       "    <tr>\n",
       "      <th>179937</th>\n",
       "      <td>no_information</td>\n",
       "      <td>NaN</td>\n",
       "    </tr>\n",
       "    <tr>\n",
       "      <th>59738</th>\n",
       "      <td>Wennigser Stra&amp;szlig;e</td>\n",
       "      <td>Wennigser_Straße</td>\n",
       "    </tr>\n",
       "  </tbody>\n",
       "</table>\n",
       "</div>"
      ],
      "text/plain": [
       "                        street       streetPlain\n",
       "174104              Kirchplatz        Kirchplatz\n",
       "42215           no_information               NaN\n",
       "19956           no_information               NaN\n",
       "84150     Alte Hofstra&szlig;e    Alte_Hofstraße\n",
       "159440   Zur Neuen Br&uuml;cke  Zur_Neuen_Brücke\n",
       "213538        Wallstra&szlig;e        Wallstraße\n",
       "238445        Hillstra&szlig;e        Hillstraße\n",
       "20297           no_information               NaN\n",
       "179937          no_information               NaN\n",
       "59738   Wennigser Stra&szlig;e  Wennigser_Straße"
      ]
     },
     "execution_count": 30,
     "metadata": {},
     "output_type": "execute_result"
    }
   ],
   "source": [
    "#We can take a sample of street and streetPlain data to verify that they are identical\n",
    "rentals[['street', 'streetPlain']].sample(10)"
   ]
  },
  {
   "cell_type": "markdown",
   "metadata": {},
   "source": [
    "- street and streetPlain are always identical. We will drop street"
   ]
  },
  {
   "cell_type": "code",
   "execution_count": 31,
   "metadata": {},
   "outputs": [
    {
     "data": {
      "text/plain": [
       "54490"
      ]
     },
     "execution_count": 31,
     "metadata": {},
     "output_type": "execute_result"
    }
   ],
   "source": [
    "#Number of categories\n",
    "rentals.streetPlain.nunique()"
   ]
  },
  {
   "cell_type": "code",
   "execution_count": 32,
   "metadata": {},
   "outputs": [
    {
     "data": {
      "text/plain": [
       "Hauptstraße         911\n",
       "Bahnhofstraße       834\n",
       "Leipziger_Straße    425\n",
       "Goethestraße        406\n",
       "Bahnhofstr.         401\n",
       "Name: streetPlain, dtype: int64"
      ]
     },
     "execution_count": 32,
     "metadata": {},
     "output_type": "execute_result"
    }
   ],
   "source": [
    "#Review category names and how many records in which they appear\n",
    "rentals.streetPlain.value_counts().head()"
   ]
  },
  {
   "cell_type": "markdown",
   "metadata": {},
   "source": [
    "- We note that streetPlain has a high cardinatliy"
   ]
  },
  {
   "cell_type": "markdown",
   "metadata": {},
   "source": [
    "- regio3 is the town or municipality"
   ]
  },
  {
   "cell_type": "code",
   "execution_count": 33,
   "metadata": {},
   "outputs": [
    {
     "data": {
      "text/plain": [
       "8684"
      ]
     },
     "execution_count": 33,
     "metadata": {},
     "output_type": "execute_result"
    }
   ],
   "source": [
    "#Review category names and how many records in which they appear\n",
    "rentals.regio3.nunique()"
   ]
  },
  {
   "cell_type": "code",
   "execution_count": 34,
   "metadata": {},
   "outputs": [
    {
     "data": {
      "text/plain": [
       "array(['Schüren', 'Böhl_Iggelheim', 'Äußere_Neustadt_Antonstadt',\n",
       "       'Freiberg', 'Neu_Schwachhausen', 'Struxdorf', 'St._Magnus',\n",
       "       'Denzlingen', 'Bulmke_Hüllen', 'Sonnenberg'], dtype=object)"
      ]
     },
     "execution_count": 34,
     "metadata": {},
     "output_type": "execute_result"
    }
   ],
   "source": [
    "rentals.regio3.unique()[:10]"
   ]
  },
  {
   "cell_type": "code",
   "execution_count": 35,
   "metadata": {
    "scrolled": true
   },
   "outputs": [],
   "source": [
    "#Drop redundant columns\n",
    "rentals.drop(columns = ['street', 'geo_bln', 'geo_krs'], axis = 1, inplace = True)"
   ]
  },
  {
   "cell_type": "code",
   "execution_count": 36,
   "metadata": {},
   "outputs": [],
   "source": [
    "#Rename regio1, regio2 and regio3\n",
    "rentals = rentals.rename(columns={'regio1': 'state', 'regio2': 'district', 'regio3': 'town_municipality'})"
   ]
  },
  {
   "cell_type": "markdown",
   "metadata": {},
   "source": [
    "- Laslty we note that streetPlain and houseNumber have a high cardinality and missing values. In addition, our analysis will not extend to the particular address. We will use the zip code as a rough approximations for address information. We will therefore drop streetPlain and houseNumber"
   ]
  },
  {
   "cell_type": "code",
   "execution_count": 37,
   "metadata": {},
   "outputs": [],
   "source": [
    "#Drop streetPlain and houseNumber\n",
    "rentals.drop(columns =['streetPlain', 'houseNumber'], inplace = True)"
   ]
  },
  {
   "cell_type": "markdown",
   "metadata": {},
   "source": [
    "### 5.5.3 Reviewing Remaining Categorical Features"
   ]
  },
  {
   "cell_type": "code",
   "execution_count": 38,
   "metadata": {
    "scrolled": true
   },
   "outputs": [
    {
     "data": {
      "text/html": [
       "<div>\n",
       "<style scoped>\n",
       "    .dataframe tbody tr th:only-of-type {\n",
       "        vertical-align: middle;\n",
       "    }\n",
       "\n",
       "    .dataframe tbody tr th {\n",
       "        vertical-align: top;\n",
       "    }\n",
       "\n",
       "    .dataframe thead th {\n",
       "        text-align: right;\n",
       "    }\n",
       "</style>\n",
       "<table border=\"1\" class=\"dataframe\">\n",
       "  <thead>\n",
       "    <tr style=\"text-align: right;\">\n",
       "      <th></th>\n",
       "      <th>state</th>\n",
       "      <th>heatingType</th>\n",
       "      <th>telekomTvOffer</th>\n",
       "      <th>firingTypes</th>\n",
       "      <th>condition</th>\n",
       "      <th>interiorQual</th>\n",
       "      <th>petsAllowed</th>\n",
       "      <th>typeOfFlat</th>\n",
       "      <th>district</th>\n",
       "      <th>town_municipality</th>\n",
       "      <th>description</th>\n",
       "      <th>facilities</th>\n",
       "    </tr>\n",
       "  </thead>\n",
       "  <tbody>\n",
       "    <tr>\n",
       "      <th>count</th>\n",
       "      <td>267950</td>\n",
       "      <td>223241</td>\n",
       "      <td>235526</td>\n",
       "      <td>211198</td>\n",
       "      <td>199627</td>\n",
       "      <td>155651</td>\n",
       "      <td>153795</td>\n",
       "      <td>231453</td>\n",
       "      <td>267950</td>\n",
       "      <td>267950</td>\n",
       "      <td>248263</td>\n",
       "      <td>215186</td>\n",
       "    </tr>\n",
       "    <tr>\n",
       "      <th>unique</th>\n",
       "      <td>16</td>\n",
       "      <td>13</td>\n",
       "      <td>3</td>\n",
       "      <td>132</td>\n",
       "      <td>10</td>\n",
       "      <td>4</td>\n",
       "      <td>3</td>\n",
       "      <td>10</td>\n",
       "      <td>394</td>\n",
       "      <td>8684</td>\n",
       "      <td>212621</td>\n",
       "      <td>189526</td>\n",
       "    </tr>\n",
       "    <tr>\n",
       "      <th>top</th>\n",
       "      <td>Nordrhein_Westfalen</td>\n",
       "      <td>central_heating</td>\n",
       "      <td>ONE_YEAR_FREE</td>\n",
       "      <td>gas</td>\n",
       "      <td>well_kept</td>\n",
       "      <td>normal</td>\n",
       "      <td>negotiable</td>\n",
       "      <td>apartment</td>\n",
       "      <td>Leipzig</td>\n",
       "      <td>Innenstadt</td>\n",
       "      <td>+ MEIN GUENTZ - Quartier der Generationen\\r\\n+...</td>\n",
       "      <td>Laminat</td>\n",
       "    </tr>\n",
       "    <tr>\n",
       "      <th>freq</th>\n",
       "      <td>62744</td>\n",
       "      <td>128562</td>\n",
       "      <td>226939</td>\n",
       "      <td>110518</td>\n",
       "      <td>66392</td>\n",
       "      <td>81648</td>\n",
       "      <td>91683</td>\n",
       "      <td>131051</td>\n",
       "      <td>15963</td>\n",
       "      <td>4732</td>\n",
       "      <td>213</td>\n",
       "      <td>207</td>\n",
       "    </tr>\n",
       "  </tbody>\n",
       "</table>\n",
       "</div>"
      ],
      "text/plain": [
       "                      state      heatingType telekomTvOffer firingTypes  \\\n",
       "count                267950           223241         235526      211198   \n",
       "unique                   16               13              3         132   \n",
       "top     Nordrhein_Westfalen  central_heating  ONE_YEAR_FREE         gas   \n",
       "freq                  62744           128562         226939      110518   \n",
       "\n",
       "        condition interiorQual petsAllowed typeOfFlat district  \\\n",
       "count      199627       155651      153795     231453   267950   \n",
       "unique         10            4           3         10      394   \n",
       "top     well_kept       normal  negotiable  apartment  Leipzig   \n",
       "freq        66392        81648       91683     131051    15963   \n",
       "\n",
       "       town_municipality                                        description  \\\n",
       "count             267950                                             248263   \n",
       "unique              8684                                             212621   \n",
       "top           Innenstadt  + MEIN GUENTZ - Quartier der Generationen\\r\\n+...   \n",
       "freq                4732                                                213   \n",
       "\n",
       "       facilities  \n",
       "count      215186  \n",
       "unique     189526  \n",
       "top       Laminat  \n",
       "freq          207  "
      ]
     },
     "execution_count": 38,
     "metadata": {},
     "output_type": "execute_result"
    }
   ],
   "source": [
    "rentals.select_dtypes('object').describe()"
   ]
  },
  {
   "cell_type": "markdown",
   "metadata": {},
   "source": [
    "#### 5.5.3.1 firingTypes "
   ]
  },
  {
   "cell_type": "markdown",
   "metadata": {},
   "source": [
    "- firingTypes gives us a sense of the kind of fuel used in the apartment. heatingType gives us a similar indication of how the apartment is powered. We will drop this feature as well. "
   ]
  },
  {
   "cell_type": "code",
   "execution_count": 39,
   "metadata": {},
   "outputs": [
    {
     "data": {
      "text/plain": [
       "132"
      ]
     },
     "execution_count": 39,
     "metadata": {},
     "output_type": "execute_result"
    }
   ],
   "source": [
    "rentals.firingTypes.nunique()"
   ]
  },
  {
   "cell_type": "code",
   "execution_count": 40,
   "metadata": {},
   "outputs": [
    {
     "data": {
      "text/plain": [
       "gas                                     110518\n",
       "district_heating                         49189\n",
       "oil                                      18115\n",
       "natural_gas_light                        10059\n",
       "electricity                               4829\n",
       "natural_gas_heavy                         4535\n",
       "pellet_heating                            2474\n",
       "geothermal                                2429\n",
       "gas:electricity                           1353\n",
       "local_heating                              924\n",
       "environmental_thermal_energy               896\n",
       "combined_heat_and_power_fossil_fuels       860\n",
       "steam_district_heating                     785\n",
       "liquid_gas                                 451\n",
       "solar_heating                              443\n",
       "district_heating:electricity               439\n",
       "heat_supply                                389\n",
       "solar_heating:gas                          385\n",
       "gas:district_heating                       258\n",
       "wood_chips                                 191\n",
       "Name: firingTypes, dtype: int64"
      ]
     },
     "execution_count": 40,
     "metadata": {},
     "output_type": "execute_result"
    }
   ],
   "source": [
    "rentals.firingTypes.value_counts(ascending = False)[:20]"
   ]
  },
  {
   "cell_type": "markdown",
   "metadata": {},
   "source": [
    "- Most units are fueled by gas. We observe a format of gas:electricity indicating the use of multiple fuels. We can determine if there are others like this"
   ]
  },
  {
   "cell_type": "code",
   "execution_count": 41,
   "metadata": {},
   "outputs": [
    {
     "data": {
      "text/plain": [
       "7                     gas:electricity\n",
       "105                   gas:electricity\n",
       "150    district_heating:local_heating\n",
       "296              gas:district_heating\n",
       "334                 solar_heating:gas\n",
       "355                   gas:electricity\n",
       "467             gas:natural_gas_light\n",
       "517                 solar_heating:gas\n",
       "692                 solar_heating:gas\n",
       "719                   gas:electricity\n",
       "Name: firingTypes, dtype: object"
      ]
     },
     "execution_count": 41,
     "metadata": {},
     "output_type": "execute_result"
    }
   ],
   "source": [
    "rentals.loc[rentals.firingTypes.str.contains(':', na = False), 'firingTypes'].head(10)"
   ]
  },
  {
   "cell_type": "code",
   "execution_count": 42,
   "metadata": {
    "scrolled": true
   },
   "outputs": [
    {
     "data": {
      "text/plain": [
       "0     211198\n",
       "1       3402\n",
       "2         69\n",
       "3         17\n",
       "4          4\n",
       "5          4\n",
       "6          2\n",
       "7          2\n",
       "8          2\n",
       "9          2\n",
       "10         2\n",
       "11         2\n",
       "12         1\n",
       "dtype: int64"
      ]
     },
     "execution_count": 42,
     "metadata": {},
     "output_type": "execute_result"
    }
   ],
   "source": [
    "# Split the data on ':' to get a sense for the extent of the values\n",
    "rentals[\"firingTypes\"].str.split(\":\", expand = True).notnull().sum()"
   ]
  },
  {
   "cell_type": "markdown",
   "metadata": {},
   "source": [
    "- We note that the first column has most of the data. We will take the values of this first column as values for firingTypes"
   ]
  },
  {
   "cell_type": "code",
   "execution_count": 43,
   "metadata": {},
   "outputs": [],
   "source": [
    "rentals.firingTypes = rentals.firingTypes.str.split(':', expand = True)[0]"
   ]
  },
  {
   "cell_type": "code",
   "execution_count": 44,
   "metadata": {},
   "outputs": [
    {
     "data": {
      "text/plain": [
       "0"
      ]
     },
     "execution_count": 44,
     "metadata": {},
     "output_type": "execute_result"
    }
   ],
   "source": [
    "#Verify no values have ':'\n",
    "rentals.firingTypes.str.contains(':', na = False).sum()"
   ]
  },
  {
   "cell_type": "markdown",
   "metadata": {},
   "source": [
    "#### 5.5.3.2 telekomTvOffer "
   ]
  },
  {
   "cell_type": "markdown",
   "metadata": {},
   "source": [
    "- We notice that telekomTvOffer has ONE_YEAR_FREE in 96% of the cases. We can probably use this for our missing values. But we should take a closer look at the categories of these features. "
   ]
  },
  {
   "cell_type": "markdown",
   "metadata": {},
   "source": [
    "- 'telekomTvOffer': Tells us if tv is included with rent. Previously determined that top category is ONE_YEAR_FREE at 96% and that 25% of its values missing. May consider replacing nan values with ONE_YEAR_FREE."
   ]
  },
  {
   "cell_type": "code",
   "execution_count": 45,
   "metadata": {
    "scrolled": true
   },
   "outputs": [
    {
     "data": {
      "text/plain": [
       "ONE_YEAR_FREE    226939\n",
       "NaN               32424\n",
       "NONE               4951\n",
       "ON_DEMAND          3636\n",
       "Name: telekomTvOffer, dtype: int64"
      ]
     },
     "execution_count": 45,
     "metadata": {},
     "output_type": "execute_result"
    }
   ],
   "source": [
    "#Determine counts of telekomTvOffer categories\n",
    "rentals.telekomTvOffer.value_counts(dropna = False)"
   ]
  },
  {
   "cell_type": "markdown",
   "metadata": {},
   "source": [
    "- Even though telekomTvOffer has ONE_YEAR_FREE as its prominent category at over 96%, we recognize that this is an incentive. Incentives are typically advertized, so it is very likely that if a tv offer is not provided it is not available. We cannot input this feature. We also note that this feature has low variability, so is likely to add limited value to analysis. We will leave feature for now as-is."
   ]
  },
  {
   "cell_type": "markdown",
   "metadata": {},
   "source": [
    "#### 5.5.3.3 condition "
   ]
  },
  {
   "cell_type": "markdown",
   "metadata": {},
   "source": [
    "- 'condition': Indicates appearance of apartment. Previously determined top category as 'well_kept' at 33% and over 25% of its values are missing."
   ]
  },
  {
   "cell_type": "code",
   "execution_count": 46,
   "metadata": {
    "scrolled": true
   },
   "outputs": [
    {
     "data": {
      "text/plain": [
       "NaN                                   68323\n",
       "well_kept                             66392\n",
       "refurbished                           26886\n",
       "fully_renovated                       26296\n",
       "mint_condition                        21866\n",
       "first_time_use                        21793\n",
       "modernized                            17184\n",
       "first_time_use_after_refurbishment    15604\n",
       "negotiable                             2232\n",
       "need_of_renovation                     1370\n",
       "ripe_for_demolition                       4\n",
       "Name: condition, dtype: int64"
      ]
     },
     "execution_count": 46,
     "metadata": {},
     "output_type": "execute_result"
    }
   ],
   "source": [
    "#Review counts of condition categories\n",
    "rentals.condition.value_counts(dropna = False)"
   ]
  },
  {
   "cell_type": "markdown",
   "metadata": {},
   "source": [
    "- It is unlikely that we can fill missing values for 'condition' because it could be any of the 10 categories, however, we can delete those records with values corresponding to 'need_of_renovation' and 'ripe_for_demolition' because we are only interested in liveable apartments."
   ]
  },
  {
   "cell_type": "code",
   "execution_count": 47,
   "metadata": {},
   "outputs": [],
   "source": [
    "#Select rows with a condition of need_of_renovation and ripe_for_demolition\n",
    "bad_units = (rentals.condition == 'need_of_renovation') | (rentals.condition == 'ripe_for_demolition')"
   ]
  },
  {
   "cell_type": "code",
   "execution_count": 48,
   "metadata": {},
   "outputs": [],
   "source": [
    "#Select only rows of dataframe with livable units\n",
    "rentals = rentals[~bad_units]"
   ]
  },
  {
   "cell_type": "code",
   "execution_count": 49,
   "metadata": {
    "scrolled": false
   },
   "outputs": [
    {
     "data": {
      "text/plain": [
       "NaN                                   68323\n",
       "well_kept                             66392\n",
       "refurbished                           26886\n",
       "fully_renovated                       26296\n",
       "mint_condition                        21866\n",
       "first_time_use                        21793\n",
       "modernized                            17184\n",
       "first_time_use_after_refurbishment    15604\n",
       "negotiable                             2232\n",
       "Name: condition, dtype: int64"
      ]
     },
     "execution_count": 49,
     "metadata": {},
     "output_type": "execute_result"
    }
   ],
   "source": [
    "#Verify there are no records with unlivable units\n",
    "rentals.condition.value_counts(dropna = False)"
   ]
  },
  {
   "cell_type": "markdown",
   "metadata": {},
   "source": [
    "#### 5.5.3.4 interiorQual  "
   ]
  },
  {
   "cell_type": "code",
   "execution_count": 50,
   "metadata": {},
   "outputs": [
    {
     "data": {
      "text/plain": [
       "NaN              111785\n",
       "normal            81062\n",
       "sophisticated     64432\n",
       "luxury             7606\n",
       "simple             1691\n",
       "Name: interiorQual, dtype: int64"
      ]
     },
     "execution_count": 50,
     "metadata": {},
     "output_type": "execute_result"
    }
   ],
   "source": [
    "rentals.interiorQual.value_counts(dropna = False)"
   ]
  },
  {
   "cell_type": "markdown",
   "metadata": {},
   "source": [
    "- It is unlikely that we can fill missing values for interiorQual."
   ]
  },
  {
   "cell_type": "markdown",
   "metadata": {},
   "source": [
    "#### 5.5.3.5 petsAllowed "
   ]
  },
  {
   "cell_type": "code",
   "execution_count": 51,
   "metadata": {
    "scrolled": true
   },
   "outputs": [
    {
     "data": {
      "text/plain": [
       "NaN           113663\n",
       "negotiable     91059\n",
       "no             51673\n",
       "yes            10181\n",
       "Name: petsAllowed, dtype: int64"
      ]
     },
     "execution_count": 51,
     "metadata": {},
     "output_type": "execute_result"
    }
   ],
   "source": [
    "rentals.petsAllowed.value_counts(dropna = False)"
   ]
  },
  {
   "cell_type": "markdown",
   "metadata": {},
   "source": [
    "- It is unlikely that we can fill missing values for petsAllowed."
   ]
  },
  {
   "cell_type": "markdown",
   "metadata": {},
   "source": [
    "#### 5.5.3.6 heatingType "
   ]
  },
  {
   "cell_type": "markdown",
   "metadata": {},
   "source": [
    "- 'heatingType': Indicates how the apartment is heated. Previously determined top category as 'central_heating' at 58% and 17% of its values are missing. "
   ]
  },
  {
   "cell_type": "code",
   "execution_count": 52,
   "metadata": {},
   "outputs": [
    {
     "data": {
      "text/plain": [
       "central_heating                   127918\n",
       "NaN                                44549\n",
       "district_heating                   24548\n",
       "gas_heating                        19739\n",
       "self_contained_central_heating     18873\n",
       "floor_heating                      17610\n",
       "oil_heating                         4992\n",
       "heat_pump                           2734\n",
       "combined_heat_and_power_plant       1971\n",
       "night_storage_heater                1303\n",
       "wood_pellet_heating                  958\n",
       "electric_heating                     892\n",
       "stove_heating                        323\n",
       "solar_heating                        166\n",
       "Name: heatingType, dtype: int64"
      ]
     },
     "execution_count": 52,
     "metadata": {},
     "output_type": "execute_result"
    }
   ],
   "source": [
    "#Review count of heatingType categories\n",
    "rentals.heatingType.value_counts(dropna = False)"
   ]
  },
  {
   "cell_type": "markdown",
   "metadata": {},
   "source": [
    "- Unlikely to fill missing values right now because they could fall under any of the 13 categories. Will leave as-is."
   ]
  },
  {
   "cell_type": "markdown",
   "metadata": {},
   "source": [
    "#### 5.5.3.7 typeOfFlat "
   ]
  },
  {
   "cell_type": "markdown",
   "metadata": {},
   "source": [
    "- 'typeOfFlat': Indicates the style of apartment. Previously determined top category as 'apartment' at 57% and about 13% of its values are missing."
   ]
  },
  {
   "cell_type": "code",
   "execution_count": 53,
   "metadata": {},
   "outputs": [
    {
     "data": {
      "text/plain": [
       "apartment              130225\n",
       "NaN                     36395\n",
       "roof_storey             34499\n",
       "ground_floor            31267\n",
       "other                    9455\n",
       "maisonette               9276\n",
       "raised_ground_floor      5592\n",
       "penthouse                3546\n",
       "terraced_flat            3366\n",
       "half_basement            2003\n",
       "loft                      952\n",
       "Name: typeOfFlat, dtype: int64"
      ]
     },
     "execution_count": 53,
     "metadata": {},
     "output_type": "execute_result"
    }
   ],
   "source": [
    "#Review counts of typeOfFlat categories\n",
    "rentals.typeOfFlat.value_counts(dropna = False)"
   ]
  },
  {
   "cell_type": "markdown",
   "metadata": {},
   "source": [
    "-  There is no discernable trend associated with these categories. We will leave this features as-is for now."
   ]
  },
  {
   "cell_type": "markdown",
   "metadata": {},
   "source": [
    "#### 5.5.3.8 facilities & description "
   ]
  },
  {
   "cell_type": "markdown",
   "metadata": {},
   "source": [
    "- facilities indicate the types of ammenities the unit has. description provides more details on the unit. These two features are text strings, whose analysis is outside the scope of the project"
   ]
  },
  {
   "cell_type": "code",
   "execution_count": 54,
   "metadata": {
    "scrolled": false
   },
   "outputs": [
    {
     "data": {
      "text/html": [
       "<div>\n",
       "<style scoped>\n",
       "    .dataframe tbody tr th:only-of-type {\n",
       "        vertical-align: middle;\n",
       "    }\n",
       "\n",
       "    .dataframe tbody tr th {\n",
       "        vertical-align: top;\n",
       "    }\n",
       "\n",
       "    .dataframe thead th {\n",
       "        text-align: right;\n",
       "    }\n",
       "</style>\n",
       "<table border=\"1\" class=\"dataframe\">\n",
       "  <thead>\n",
       "    <tr style=\"text-align: right;\">\n",
       "      <th></th>\n",
       "      <th>facilities</th>\n",
       "      <th>description</th>\n",
       "    </tr>\n",
       "  </thead>\n",
       "  <tbody>\n",
       "    <tr>\n",
       "      <th>0</th>\n",
       "      <td>Die Wohnung ist mit Laminat ausgelegt. Das Bad...</td>\n",
       "      <td>Die ebenerdig zu erreichende Erdgeschosswohnun...</td>\n",
       "    </tr>\n",
       "    <tr>\n",
       "      <th>1</th>\n",
       "      <td>NaN</td>\n",
       "      <td>Alles neu macht der Mai – so kann es auch für ...</td>\n",
       "    </tr>\n",
       "    <tr>\n",
       "      <th>2</th>\n",
       "      <td>* 9 m² Balkon\\n* Bad mit bodengleicher Dusche,...</td>\n",
       "      <td>Der Neubau entsteht im Herzen der Dresdner Neu...</td>\n",
       "    </tr>\n",
       "    <tr>\n",
       "      <th>3</th>\n",
       "      <td>NaN</td>\n",
       "      <td>Abseits von Lärm und Abgasen in Ihre neue Wohn...</td>\n",
       "    </tr>\n",
       "    <tr>\n",
       "      <th>4</th>\n",
       "      <td>Diese Wohnung wurde neu saniert und ist wie fo...</td>\n",
       "      <td>Es handelt sich hier um ein saniertes Mehrfami...</td>\n",
       "    </tr>\n",
       "  </tbody>\n",
       "</table>\n",
       "</div>"
      ],
      "text/plain": [
       "                                          facilities  \\\n",
       "0  Die Wohnung ist mit Laminat ausgelegt. Das Bad...   \n",
       "1                                                NaN   \n",
       "2  * 9 m² Balkon\\n* Bad mit bodengleicher Dusche,...   \n",
       "3                                                NaN   \n",
       "4  Diese Wohnung wurde neu saniert und ist wie fo...   \n",
       "\n",
       "                                         description  \n",
       "0  Die ebenerdig zu erreichende Erdgeschosswohnun...  \n",
       "1  Alles neu macht der Mai – so kann es auch für ...  \n",
       "2  Der Neubau entsteht im Herzen der Dresdner Neu...  \n",
       "3  Abseits von Lärm und Abgasen in Ihre neue Wohn...  \n",
       "4  Es handelt sich hier um ein saniertes Mehrfami...  "
      ]
     },
     "execution_count": 54,
     "metadata": {},
     "output_type": "execute_result"
    }
   ],
   "source": [
    "rentals[['facilities', 'description']].head()"
   ]
  },
  {
   "cell_type": "code",
   "execution_count": 55,
   "metadata": {},
   "outputs": [],
   "source": [
    "rentals.drop(columns = ['facilities', 'description'], inplace = True)"
   ]
  },
  {
   "cell_type": "markdown",
   "metadata": {},
   "source": [
    "## 5.6 Reviewing Numerical Features"
   ]
  },
  {
   "cell_type": "code",
   "execution_count": 56,
   "metadata": {
    "scrolled": false
   },
   "outputs": [
    {
     "data": {
      "text/html": [
       "<div>\n",
       "<style scoped>\n",
       "    .dataframe tbody tr th:only-of-type {\n",
       "        vertical-align: middle;\n",
       "    }\n",
       "\n",
       "    .dataframe tbody tr th {\n",
       "        vertical-align: top;\n",
       "    }\n",
       "\n",
       "    .dataframe thead th {\n",
       "        text-align: right;\n",
       "    }\n",
       "</style>\n",
       "<table border=\"1\" class=\"dataframe\">\n",
       "  <thead>\n",
       "    <tr style=\"text-align: right;\">\n",
       "      <th></th>\n",
       "      <th>serviceCharge</th>\n",
       "      <th>picturecount</th>\n",
       "      <th>pricetrend</th>\n",
       "      <th>telekomUploadSpeed</th>\n",
       "      <th>totalRent</th>\n",
       "      <th>scoutId</th>\n",
       "      <th>yearConstructedRange</th>\n",
       "      <th>baseRent</th>\n",
       "      <th>livingSpace</th>\n",
       "      <th>baseRentRange</th>\n",
       "      <th>geo_plz</th>\n",
       "      <th>noRooms</th>\n",
       "      <th>thermalChar</th>\n",
       "      <th>floor</th>\n",
       "      <th>numberOfFloors</th>\n",
       "      <th>noRoomsRange</th>\n",
       "      <th>livingSpaceRange</th>\n",
       "    </tr>\n",
       "  </thead>\n",
       "  <tbody>\n",
       "    <tr>\n",
       "      <th>0</th>\n",
       "      <td>245.00</td>\n",
       "      <td>6</td>\n",
       "      <td>4.62</td>\n",
       "      <td>10.0</td>\n",
       "      <td>840.0</td>\n",
       "      <td>96107057</td>\n",
       "      <td>2.0</td>\n",
       "      <td>595.0</td>\n",
       "      <td>86.00</td>\n",
       "      <td>4</td>\n",
       "      <td>44269</td>\n",
       "      <td>4.0</td>\n",
       "      <td>181.4</td>\n",
       "      <td>1.0</td>\n",
       "      <td>3.0</td>\n",
       "      <td>4</td>\n",
       "      <td>4</td>\n",
       "    </tr>\n",
       "    <tr>\n",
       "      <th>1</th>\n",
       "      <td>134.00</td>\n",
       "      <td>8</td>\n",
       "      <td>3.47</td>\n",
       "      <td>10.0</td>\n",
       "      <td>NaN</td>\n",
       "      <td>111378734</td>\n",
       "      <td>1.0</td>\n",
       "      <td>800.0</td>\n",
       "      <td>89.00</td>\n",
       "      <td>5</td>\n",
       "      <td>67459</td>\n",
       "      <td>3.0</td>\n",
       "      <td>NaN</td>\n",
       "      <td>NaN</td>\n",
       "      <td>NaN</td>\n",
       "      <td>3</td>\n",
       "      <td>4</td>\n",
       "    </tr>\n",
       "    <tr>\n",
       "      <th>2</th>\n",
       "      <td>255.00</td>\n",
       "      <td>8</td>\n",
       "      <td>2.72</td>\n",
       "      <td>2.4</td>\n",
       "      <td>1300.0</td>\n",
       "      <td>113147523</td>\n",
       "      <td>9.0</td>\n",
       "      <td>965.0</td>\n",
       "      <td>83.80</td>\n",
       "      <td>6</td>\n",
       "      <td>1097</td>\n",
       "      <td>3.0</td>\n",
       "      <td>NaN</td>\n",
       "      <td>3.0</td>\n",
       "      <td>4.0</td>\n",
       "      <td>3</td>\n",
       "      <td>4</td>\n",
       "    </tr>\n",
       "    <tr>\n",
       "      <th>3</th>\n",
       "      <td>58.15</td>\n",
       "      <td>9</td>\n",
       "      <td>1.53</td>\n",
       "      <td>40.0</td>\n",
       "      <td>NaN</td>\n",
       "      <td>108890903</td>\n",
       "      <td>2.0</td>\n",
       "      <td>343.0</td>\n",
       "      <td>58.15</td>\n",
       "      <td>2</td>\n",
       "      <td>9599</td>\n",
       "      <td>3.0</td>\n",
       "      <td>86.0</td>\n",
       "      <td>3.0</td>\n",
       "      <td>NaN</td>\n",
       "      <td>3</td>\n",
       "      <td>2</td>\n",
       "    </tr>\n",
       "    <tr>\n",
       "      <th>4</th>\n",
       "      <td>138.00</td>\n",
       "      <td>19</td>\n",
       "      <td>2.46</td>\n",
       "      <td>NaN</td>\n",
       "      <td>903.0</td>\n",
       "      <td>114751222</td>\n",
       "      <td>1.0</td>\n",
       "      <td>765.0</td>\n",
       "      <td>84.97</td>\n",
       "      <td>5</td>\n",
       "      <td>28213</td>\n",
       "      <td>3.0</td>\n",
       "      <td>188.9</td>\n",
       "      <td>1.0</td>\n",
       "      <td>NaN</td>\n",
       "      <td>3</td>\n",
       "      <td>4</td>\n",
       "    </tr>\n",
       "  </tbody>\n",
       "</table>\n",
       "</div>"
      ],
      "text/plain": [
       "   serviceCharge  picturecount  pricetrend  telekomUploadSpeed  totalRent  \\\n",
       "0         245.00             6        4.62                10.0      840.0   \n",
       "1         134.00             8        3.47                10.0        NaN   \n",
       "2         255.00             8        2.72                 2.4     1300.0   \n",
       "3          58.15             9        1.53                40.0        NaN   \n",
       "4         138.00            19        2.46                 NaN      903.0   \n",
       "\n",
       "     scoutId  yearConstructedRange  baseRent  livingSpace  baseRentRange  \\\n",
       "0   96107057                   2.0     595.0        86.00              4   \n",
       "1  111378734                   1.0     800.0        89.00              5   \n",
       "2  113147523                   9.0     965.0        83.80              6   \n",
       "3  108890903                   2.0     343.0        58.15              2   \n",
       "4  114751222                   1.0     765.0        84.97              5   \n",
       "\n",
       "   geo_plz  noRooms  thermalChar  floor  numberOfFloors  noRoomsRange  \\\n",
       "0    44269      4.0        181.4    1.0             3.0             4   \n",
       "1    67459      3.0          NaN    NaN             NaN             3   \n",
       "2     1097      3.0          NaN    3.0             4.0             3   \n",
       "3     9599      3.0         86.0    3.0             NaN             3   \n",
       "4    28213      3.0        188.9    1.0             NaN             3   \n",
       "\n",
       "   livingSpaceRange  \n",
       "0                 4  \n",
       "1                 4  \n",
       "2                 4  \n",
       "3                 2  \n",
       "4                 4  "
      ]
     },
     "execution_count": 56,
     "metadata": {},
     "output_type": "execute_result"
    }
   ],
   "source": [
    "numeric = ['int64', 'float64']\n",
    "rentals.select_dtypes(numeric).head()"
   ]
  },
  {
   "cell_type": "code",
   "execution_count": 57,
   "metadata": {},
   "outputs": [],
   "source": [
    "pd.set_option('display.float_format', lambda x: '%.2f' % x)"
   ]
  },
  {
   "cell_type": "code",
   "execution_count": 58,
   "metadata": {
    "scrolled": true
   },
   "outputs": [
    {
     "data": {
      "text/html": [
       "<div>\n",
       "<style scoped>\n",
       "    .dataframe tbody tr th:only-of-type {\n",
       "        vertical-align: middle;\n",
       "    }\n",
       "\n",
       "    .dataframe tbody tr th {\n",
       "        vertical-align: top;\n",
       "    }\n",
       "\n",
       "    .dataframe thead th {\n",
       "        text-align: right;\n",
       "    }\n",
       "</style>\n",
       "<table border=\"1\" class=\"dataframe\">\n",
       "  <thead>\n",
       "    <tr style=\"text-align: right;\">\n",
       "      <th></th>\n",
       "      <th>count</th>\n",
       "      <th>mean</th>\n",
       "      <th>std</th>\n",
       "      <th>min</th>\n",
       "      <th>25%</th>\n",
       "      <th>50%</th>\n",
       "      <th>75%</th>\n",
       "      <th>max</th>\n",
       "    </tr>\n",
       "  </thead>\n",
       "  <tbody>\n",
       "    <tr>\n",
       "      <th>serviceCharge</th>\n",
       "      <td>259722.00</td>\n",
       "      <td>151.30</td>\n",
       "      <td>309.51</td>\n",
       "      <td>0.00</td>\n",
       "      <td>95.00</td>\n",
       "      <td>135.00</td>\n",
       "      <td>190.00</td>\n",
       "      <td>146118.00</td>\n",
       "    </tr>\n",
       "    <tr>\n",
       "      <th>picturecount</th>\n",
       "      <td>266576.00</td>\n",
       "      <td>9.79</td>\n",
       "      <td>6.40</td>\n",
       "      <td>0.00</td>\n",
       "      <td>6.00</td>\n",
       "      <td>9.00</td>\n",
       "      <td>13.00</td>\n",
       "      <td>121.00</td>\n",
       "    </tr>\n",
       "    <tr>\n",
       "      <th>pricetrend</th>\n",
       "      <td>264752.00</td>\n",
       "      <td>3.39</td>\n",
       "      <td>1.96</td>\n",
       "      <td>-12.33</td>\n",
       "      <td>2.00</td>\n",
       "      <td>3.39</td>\n",
       "      <td>4.58</td>\n",
       "      <td>14.92</td>\n",
       "    </tr>\n",
       "    <tr>\n",
       "      <th>telekomUploadSpeed</th>\n",
       "      <td>233509.00</td>\n",
       "      <td>28.80</td>\n",
       "      <td>16.34</td>\n",
       "      <td>1.00</td>\n",
       "      <td>10.00</td>\n",
       "      <td>40.00</td>\n",
       "      <td>40.00</td>\n",
       "      <td>100.00</td>\n",
       "    </tr>\n",
       "    <tr>\n",
       "      <th>totalRent</th>\n",
       "      <td>226424.00</td>\n",
       "      <td>903.02</td>\n",
       "      <td>33378.13</td>\n",
       "      <td>0.00</td>\n",
       "      <td>470.00</td>\n",
       "      <td>650.00</td>\n",
       "      <td>985.00</td>\n",
       "      <td>15751535.00</td>\n",
       "    </tr>\n",
       "    <tr>\n",
       "      <th>scoutId</th>\n",
       "      <td>266576.00</td>\n",
       "      <td>106946772.70</td>\n",
       "      <td>12529066.13</td>\n",
       "      <td>28871743.00</td>\n",
       "      <td>106679020.00</td>\n",
       "      <td>111153815.50</td>\n",
       "      <td>113768042.00</td>\n",
       "      <td>115711743.00</td>\n",
       "    </tr>\n",
       "    <tr>\n",
       "      <th>yearConstructedRange</th>\n",
       "      <td>210024.00</td>\n",
       "      <td>3.72</td>\n",
       "      <td>2.74</td>\n",
       "      <td>1.00</td>\n",
       "      <td>1.00</td>\n",
       "      <td>3.00</td>\n",
       "      <td>5.00</td>\n",
       "      <td>9.00</td>\n",
       "    </tr>\n",
       "    <tr>\n",
       "      <th>baseRent</th>\n",
       "      <td>266576.00</td>\n",
       "      <td>694.99</td>\n",
       "      <td>19617.76</td>\n",
       "      <td>0.00</td>\n",
       "      <td>338.50</td>\n",
       "      <td>490.00</td>\n",
       "      <td>800.00</td>\n",
       "      <td>9999999.00</td>\n",
       "    </tr>\n",
       "    <tr>\n",
       "      <th>livingSpace</th>\n",
       "      <td>266576.00</td>\n",
       "      <td>74.39</td>\n",
       "      <td>255.83</td>\n",
       "      <td>0.00</td>\n",
       "      <td>54.00</td>\n",
       "      <td>67.35</td>\n",
       "      <td>87.00</td>\n",
       "      <td>111111.00</td>\n",
       "    </tr>\n",
       "    <tr>\n",
       "      <th>baseRentRange</th>\n",
       "      <td>266576.00</td>\n",
       "      <td>3.77</td>\n",
       "      <td>2.22</td>\n",
       "      <td>1.00</td>\n",
       "      <td>2.00</td>\n",
       "      <td>3.00</td>\n",
       "      <td>5.00</td>\n",
       "      <td>9.00</td>\n",
       "    </tr>\n",
       "    <tr>\n",
       "      <th>geo_plz</th>\n",
       "      <td>266576.00</td>\n",
       "      <td>37312.65</td>\n",
       "      <td>27824.74</td>\n",
       "      <td>852.00</td>\n",
       "      <td>9127.00</td>\n",
       "      <td>38667.00</td>\n",
       "      <td>57078.00</td>\n",
       "      <td>99998.00</td>\n",
       "    </tr>\n",
       "    <tr>\n",
       "      <th>noRooms</th>\n",
       "      <td>266576.00</td>\n",
       "      <td>2.64</td>\n",
       "      <td>2.64</td>\n",
       "      <td>1.00</td>\n",
       "      <td>2.00</td>\n",
       "      <td>3.00</td>\n",
       "      <td>3.00</td>\n",
       "      <td>999.99</td>\n",
       "    </tr>\n",
       "    <tr>\n",
       "      <th>thermalChar</th>\n",
       "      <td>161020.00</td>\n",
       "      <td>114.63</td>\n",
       "      <td>61.42</td>\n",
       "      <td>0.10</td>\n",
       "      <td>79.00</td>\n",
       "      <td>107.00</td>\n",
       "      <td>140.00</td>\n",
       "      <td>1996.00</td>\n",
       "    </tr>\n",
       "    <tr>\n",
       "      <th>floor</th>\n",
       "      <td>215706.00</td>\n",
       "      <td>2.12</td>\n",
       "      <td>3.65</td>\n",
       "      <td>-1.00</td>\n",
       "      <td>1.00</td>\n",
       "      <td>2.00</td>\n",
       "      <td>3.00</td>\n",
       "      <td>999.00</td>\n",
       "    </tr>\n",
       "    <tr>\n",
       "      <th>numberOfFloors</th>\n",
       "      <td>169529.00</td>\n",
       "      <td>3.57</td>\n",
       "      <td>6.40</td>\n",
       "      <td>0.00</td>\n",
       "      <td>2.00</td>\n",
       "      <td>3.00</td>\n",
       "      <td>4.00</td>\n",
       "      <td>999.00</td>\n",
       "    </tr>\n",
       "    <tr>\n",
       "      <th>noRoomsRange</th>\n",
       "      <td>266576.00</td>\n",
       "      <td>2.57</td>\n",
       "      <td>0.94</td>\n",
       "      <td>1.00</td>\n",
       "      <td>2.00</td>\n",
       "      <td>3.00</td>\n",
       "      <td>3.00</td>\n",
       "      <td>5.00</td>\n",
       "    </tr>\n",
       "    <tr>\n",
       "      <th>livingSpaceRange</th>\n",
       "      <td>266576.00</td>\n",
       "      <td>3.07</td>\n",
       "      <td>1.41</td>\n",
       "      <td>1.00</td>\n",
       "      <td>2.00</td>\n",
       "      <td>3.00</td>\n",
       "      <td>4.00</td>\n",
       "      <td>7.00</td>\n",
       "    </tr>\n",
       "  </tbody>\n",
       "</table>\n",
       "</div>"
      ],
      "text/plain": [
       "                         count         mean         std         min  \\\n",
       "serviceCharge        259722.00       151.30      309.51        0.00   \n",
       "picturecount         266576.00         9.79        6.40        0.00   \n",
       "pricetrend           264752.00         3.39        1.96      -12.33   \n",
       "telekomUploadSpeed   233509.00        28.80       16.34        1.00   \n",
       "totalRent            226424.00       903.02    33378.13        0.00   \n",
       "scoutId              266576.00 106946772.70 12529066.13 28871743.00   \n",
       "yearConstructedRange 210024.00         3.72        2.74        1.00   \n",
       "baseRent             266576.00       694.99    19617.76        0.00   \n",
       "livingSpace          266576.00        74.39      255.83        0.00   \n",
       "baseRentRange        266576.00         3.77        2.22        1.00   \n",
       "geo_plz              266576.00     37312.65    27824.74      852.00   \n",
       "noRooms              266576.00         2.64        2.64        1.00   \n",
       "thermalChar          161020.00       114.63       61.42        0.10   \n",
       "floor                215706.00         2.12        3.65       -1.00   \n",
       "numberOfFloors       169529.00         3.57        6.40        0.00   \n",
       "noRoomsRange         266576.00         2.57        0.94        1.00   \n",
       "livingSpaceRange     266576.00         3.07        1.41        1.00   \n",
       "\n",
       "                              25%          50%          75%          max  \n",
       "serviceCharge               95.00       135.00       190.00    146118.00  \n",
       "picturecount                 6.00         9.00        13.00       121.00  \n",
       "pricetrend                   2.00         3.39         4.58        14.92  \n",
       "telekomUploadSpeed          10.00        40.00        40.00       100.00  \n",
       "totalRent                  470.00       650.00       985.00  15751535.00  \n",
       "scoutId              106679020.00 111153815.50 113768042.00 115711743.00  \n",
       "yearConstructedRange         1.00         3.00         5.00         9.00  \n",
       "baseRent                   338.50       490.00       800.00   9999999.00  \n",
       "livingSpace                 54.00        67.35        87.00    111111.00  \n",
       "baseRentRange                2.00         3.00         5.00         9.00  \n",
       "geo_plz                   9127.00     38667.00     57078.00     99998.00  \n",
       "noRooms                      2.00         3.00         3.00       999.99  \n",
       "thermalChar                 79.00       107.00       140.00      1996.00  \n",
       "floor                        1.00         2.00         3.00       999.00  \n",
       "numberOfFloors               2.00         3.00         4.00       999.00  \n",
       "noRoomsRange                 2.00         3.00         3.00         5.00  \n",
       "livingSpaceRange             2.00         3.00         4.00         7.00  "
      ]
     },
     "execution_count": 58,
     "metadata": {},
     "output_type": "execute_result"
    }
   ],
   "source": [
    "rentals.select_dtypes(numeric).describe().T"
   ]
  },
  {
   "cell_type": "code",
   "execution_count": 59,
   "metadata": {},
   "outputs": [
    {
     "data": {
      "image/png": "[encoded data removed]",
      "text/plain": [
       "<Figure size 1080x720 with 20 Axes>"
      ]
     },
     "metadata": {
      "needs_background": "light"
     },
     "output_type": "display_data"
    }
   ],
   "source": [
    "#Plot histograms of numeric features\n",
    "_ = rentals.select_dtypes(numeric).hist(figsize = (15, 10))\n",
    "plt.subplots_adjust(hspace= 0.5);"
   ]
  },
  {
   "cell_type": "markdown",
   "metadata": {},
   "source": [
    "- The distributions of baseRent, floor, livingSpace, noRooms, numberOfFloors, serviceCharge, thermalChar and totalRent are highly skewed to the right."
   ]
  },
  {
   "cell_type": "markdown",
   "metadata": {},
   "source": [
    "### 5.6.1 scoutId and geo_plz "
   ]
  },
  {
   "cell_type": "markdown",
   "metadata": {},
   "source": [
    "- We first note that scoutId and geo_plz should be objects even though they have numerical representation\n",
    "- scoutId is the identification number for the property\n",
    "- geo_plz is the zip code for the property"
   ]
  },
  {
   "cell_type": "code",
   "execution_count": 60,
   "metadata": {},
   "outputs": [
    {
     "data": {
      "text/plain": [
       "(dtype('O'), dtype('O'))"
      ]
     },
     "execution_count": 60,
     "metadata": {},
     "output_type": "execute_result"
    }
   ],
   "source": [
    "#Convert scoutId and geo_plz to objects\n",
    "rentals.scoutId = rentals.scoutId.astype('object')\n",
    "rentals.geo_plz = rentals.geo_plz.astype('object')\n",
    "rentals.dtypes['scoutId'], rentals.dtypes['geo_plz']"
   ]
  },
  {
   "cell_type": "code",
   "execution_count": 61,
   "metadata": {},
   "outputs": [],
   "source": [
    "#Change geo_plz to zip_code\n",
    "rentals = rentals.rename(columns = {'geo_plz': 'zip_code'})"
   ]
  },
  {
   "cell_type": "markdown",
   "metadata": {},
   "source": [
    "### 5.6.2 Reviewing Range Information <br>(yearConstructedRange, baseRentRange, noRoomsRange, livingSpaceRange)</br>"
   ]
  },
  {
   "cell_type": "markdown",
   "metadata": {},
   "source": [
    "- yearConstructedRange indicates binned construction years from 1 to 9. Determined that 21% of its values are missing, corresponding to the number of missing values for 'yearConstructed'. These are correlated features. Will drop this feature because it likely includes outliers."
   ]
  },
  {
   "cell_type": "markdown",
   "metadata": {},
   "source": [
    "- baseRentRange indicates binned base rent. Correlates directly with baseRent. Will drop this feature because it likely includes outliers."
   ]
  },
  {
   "cell_type": "markdown",
   "metadata": {},
   "source": [
    "- noRoomsRange indicates binned number of rooms 1 to 5. Redundant feature. Will drop this feature because it likely includes outliers."
   ]
  },
  {
   "cell_type": "markdown",
   "metadata": {},
   "source": [
    "- livingSpaceRange is the size of apartment sorted into 7 categories. Redundant feature. Will drop this feature because it likely includes outliers."
   ]
  },
  {
   "cell_type": "code",
   "execution_count": 62,
   "metadata": {
    "scrolled": false
   },
   "outputs": [
    {
     "data": {
      "text/plain": [
       "Index(['serviceCharge', 'picturecount', 'pricetrend', 'telekomUploadSpeed',\n",
       "       'totalRent', 'baseRent', 'livingSpace', 'noRooms', 'thermalChar',\n",
       "       'floor', 'numberOfFloors'],\n",
       "      dtype='object')"
      ]
     },
     "execution_count": 62,
     "metadata": {},
     "output_type": "execute_result"
    }
   ],
   "source": [
    "#Drop redundant features that may inlcude outliers\n",
    "rentals.drop(columns = ['yearConstructedRange', 'baseRentRange', 'noRoomsRange', 'livingSpaceRange'], inplace = True)\n",
    "rentals.select_dtypes(numeric).columns"
   ]
  },
  {
   "cell_type": "code",
   "execution_count": 63,
   "metadata": {
    "scrolled": true
   },
   "outputs": [
    {
     "data": {
      "image/png": "[encoded data removed]",
      "text/plain": [
       "<Figure size 1080x720 with 12 Axes>"
      ]
     },
     "metadata": {
      "needs_background": "light"
     },
     "output_type": "display_data"
    }
   ],
   "source": [
    "_ = rentals.select_dtypes(numeric).hist(figsize = (15, 10))\n",
    "plt.subplots_adjust(hspace= 0.5);"
   ]
  },
  {
   "cell_type": "markdown",
   "metadata": {},
   "source": [
    "### 5.6.3 Reviewing price-related information <br>(baseRent, totalRent, serviceCharge)</br>"
   ]
  },
  {
   "cell_type": "code",
   "execution_count": 64,
   "metadata": {
    "scrolled": true
   },
   "outputs": [
    {
     "data": {
      "image/png": "[encoded data removed]",
      "text/plain": [
       "<Figure size 1440x360 with 3 Axes>"
      ]
     },
     "metadata": {
      "needs_background": "light"
     },
     "output_type": "display_data"
    }
   ],
   "source": [
    "prices = ['baseRent', 'totalRent', 'serviceCharge']\n",
    "\n",
    "fig, axes = plt.subplots(1, 3, figsize = [20,5])\n",
    "for idx, price in enumerate(prices):\n",
    "    _= sns.boxplot(x = price, data = rentals, ax= axes[idx])"
   ]
  },
  {
   "cell_type": "code",
   "execution_count": 65,
   "metadata": {
    "scrolled": true
   },
   "outputs": [
    {
     "data": {
      "text/plain": [
       "count    266576.00\n",
       "mean        694.99\n",
       "std       19617.76\n",
       "min           0.00\n",
       "25%         338.50\n",
       "50%         490.00\n",
       "75%         800.00\n",
       "max     9999999.00\n",
       "Name: baseRent, dtype: float64"
      ]
     },
     "execution_count": 65,
     "metadata": {},
     "output_type": "execute_result"
    }
   ],
   "source": [
    "#Review summary statistics for baseRent, totalRent and serviceCharge\n",
    "rentals.baseRent.describe()"
   ]
  },
  {
   "cell_type": "code",
   "execution_count": 66,
   "metadata": {},
   "outputs": [
    {
     "data": {
      "text/plain": [
       "count     226424.00\n",
       "mean         903.02\n",
       "std        33378.13\n",
       "min            0.00\n",
       "25%          470.00\n",
       "50%          650.00\n",
       "75%          985.00\n",
       "max     15751535.00\n",
       "Name: totalRent, dtype: float64"
      ]
     },
     "execution_count": 66,
     "metadata": {},
     "output_type": "execute_result"
    }
   ],
   "source": [
    "rentals.totalRent.describe()"
   ]
  },
  {
   "cell_type": "code",
   "execution_count": 67,
   "metadata": {},
   "outputs": [
    {
     "data": {
      "text/plain": [
       "count   259722.00\n",
       "mean       151.30\n",
       "std        309.51\n",
       "min          0.00\n",
       "25%         95.00\n",
       "50%        135.00\n",
       "75%        190.00\n",
       "max     146118.00\n",
       "Name: serviceCharge, dtype: float64"
      ]
     },
     "execution_count": 67,
     "metadata": {},
     "output_type": "execute_result"
    }
   ],
   "source": [
    "rentals.serviceCharge.describe()"
   ]
  },
  {
   "cell_type": "markdown",
   "metadata": {},
   "source": [
    "- baseRent indicates the rent without electricity or heating. Has a min value of 0 and max value of 9M euros, likely outliers."
   ]
  },
  {
   "cell_type": "markdown",
   "metadata": {},
   "source": [
    "- totalRent includes baseRent, serviceCharge and heatingCosts. Determined ~ 15% of its values to be missing. Has min value of 0 euros and max value of 15,751,540 euros. Min and max values are extreme for rents.\n"
   ]
  },
  {
   "cell_type": "markdown",
   "metadata": {},
   "source": [
    "- serviceCharge indicates ancillary costs such as electricity or internet. Previously determined that 2.6% of its values are missing. Has a min value of 0 euros and max value of 146,118.0 euros. These may be wrong data."
   ]
  },
  {
   "cell_type": "markdown",
   "metadata": {},
   "source": [
    "- We will capture values within three standard deviations from the mean and deem other values to be outliers"
   ]
  },
  {
   "cell_type": "code",
   "execution_count": 68,
   "metadata": {},
   "outputs": [],
   "source": [
    "#Create function to create a mask that filters outliers\n",
    "def outlier_remover(df, col_name):\n",
    "    mean = df[col_name].mean()\n",
    "    std = df[col_name].std()\n",
    "    cut_off = 3 * std\n",
    "    lower_limit, upper_limit = mean - cut_off, mean + cut_off\n",
    "    mask = (df[col_name] > lower_limit) & (df[col_name] < upper_limit)\n",
    "    return mask\n",
    "    "
   ]
  },
  {
   "cell_type": "code",
   "execution_count": 69,
   "metadata": {},
   "outputs": [],
   "source": [
    "#Filter-out outliers for price-related features\n",
    "for price in prices:\n",
    "    rentals[price] = rentals[price][outlier_remover(rentals, price)]"
   ]
  },
  {
   "cell_type": "code",
   "execution_count": 70,
   "metadata": {
    "scrolled": false
   },
   "outputs": [
    {
     "data": {
      "image/png": "[encoded data removed]",
      "text/plain": [
       "<Figure size 1440x360 with 3 Axes>"
      ]
     },
     "metadata": {
      "needs_background": "light"
     },
     "output_type": "display_data"
    }
   ],
   "source": [
    "#Review distributions\n",
    "fig, axes = plt.subplots(1, 3, figsize = [20,5])\n",
    "for idx, price in enumerate(prices):\n",
    "    _= sns.histplot(x = price, data = rentals, ax= axes[idx])"
   ]
  },
  {
   "cell_type": "code",
   "execution_count": 71,
   "metadata": {},
   "outputs": [
    {
     "data": {
      "text/plain": [
       "count   266572.00\n",
       "mean       648.65\n",
       "std        516.87\n",
       "min          0.00\n",
       "25%        338.50\n",
       "50%        490.00\n",
       "75%        800.00\n",
       "max      39200.00\n",
       "Name: baseRent, dtype: float64"
      ]
     },
     "execution_count": 71,
     "metadata": {},
     "output_type": "execute_result"
    }
   ],
   "source": [
    "rentals.baseRent.describe()"
   ]
  },
  {
   "cell_type": "code",
   "execution_count": 72,
   "metadata": {},
   "outputs": [
    {
     "data": {
      "text/plain": [
       "count   226418.00\n",
       "mean       815.90\n",
       "std        612.03\n",
       "min          0.00\n",
       "25%        470.00\n",
       "50%        650.00\n",
       "75%        985.00\n",
       "max      64651.00\n",
       "Name: totalRent, dtype: float64"
      ]
     },
     "execution_count": 72,
     "metadata": {},
     "output_type": "execute_result"
    }
   ],
   "source": [
    "rentals.totalRent.describe()"
   ]
  },
  {
   "cell_type": "code",
   "execution_count": 73,
   "metadata": {},
   "outputs": [
    {
     "data": {
      "text/plain": [
       "count   259627.00\n",
       "mean       149.91\n",
       "std         84.09\n",
       "min          0.00\n",
       "25%         95.00\n",
       "50%        135.00\n",
       "75%        190.00\n",
       "max       1070.00\n",
       "Name: serviceCharge, dtype: float64"
      ]
     },
     "execution_count": 73,
     "metadata": {},
     "output_type": "execute_result"
    }
   ],
   "source": [
    "rentals.serviceCharge.describe()"
   ]
  },
  {
   "cell_type": "markdown",
   "metadata": {},
   "source": [
    "- Distributions are still right skewed, but there is a bit more spread than the original histograms. "
   ]
  },
  {
   "cell_type": "markdown",
   "metadata": {},
   "source": [
    "### Review Other Numeric Features\n",
    "#### 5.6.4 picturecount "
   ]
  },
  {
   "cell_type": "markdown",
   "metadata": {},
   "source": [
    "- picturecount indicates how many pictures were loaded to the listing. Min of 0 and max of 121 makes sense. \n"
   ]
  },
  {
   "cell_type": "code",
   "execution_count": 74,
   "metadata": {},
   "outputs": [
    {
     "data": {
      "image/png": "[encoded data removed]",
      "text/plain": [
       "<Figure size 432x288 with 1 Axes>"
      ]
     },
     "metadata": {
      "needs_background": "light"
     },
     "output_type": "display_data"
    }
   ],
   "source": [
    "_= sns.boxplot(x = 'picturecount', data = rentals)\n",
    "_= plt.xlabel('Number of Pictures')"
   ]
  },
  {
   "cell_type": "markdown",
   "metadata": {},
   "source": [
    "#### 5.6.5 pricetrend "
   ]
  },
  {
   "cell_type": "markdown",
   "metadata": {},
   "source": [
    "- pricetrend is a parameter calculated by immoscout. Calculation or metric was not provided, however, it likely indicates the percentage change in price for that apartment or similar apartments in the area. Observed that ~ 0.7% of its values are missing. Has a min value of -12 and max value of 14.9. Range seems reasonable at first glance.\n"
   ]
  },
  {
   "cell_type": "code",
   "execution_count": 75,
   "metadata": {},
   "outputs": [
    {
     "data": {
      "image/png": "[encoded data removed]",
      "text/plain": [
       "<Figure size 432x288 with 1 Axes>"
      ]
     },
     "metadata": {
      "needs_background": "light"
     },
     "output_type": "display_data"
    }
   ],
   "source": [
    "_= sns.boxplot(x = 'pricetrend', data = rentals)\n",
    "_= plt.xlabel('pricetrend')"
   ]
  },
  {
   "cell_type": "markdown",
   "metadata": {},
   "source": [
    "#### 5.6.6 telekomUploadSpeed "
   ]
  },
  {
   "cell_type": "markdown",
   "metadata": {},
   "source": [
    "- telekomUploadSpeed indicates internet upload speed. Determined that 12.4% of its values are missing. Unit not provided, but is typically measured in Mbps. Has seven values, with min speed of 1 and max speed of 100. Range seems reasonable at first glance. \n"
   ]
  },
  {
   "cell_type": "code",
   "execution_count": 76,
   "metadata": {},
   "outputs": [
    {
     "data": {
      "image/png": "[encoded data removed]",
      "text/plain": [
       "<Figure size 432x288 with 1 Axes>"
      ]
     },
     "metadata": {
      "needs_background": "light"
     },
     "output_type": "display_data"
    }
   ],
   "source": [
    "_= sns.boxplot(x = 'telekomUploadSpeed', data = rentals)\n",
    "_= plt.xlabel('Mbps')"
   ]
  },
  {
   "cell_type": "markdown",
   "metadata": {},
   "source": [
    "#### 5.6.7 livingSpace "
   ]
  },
  {
   "cell_type": "markdown",
   "metadata": {},
   "source": [
    "- livingSpace indicates living space in sqm. Min value of 0 and max value of 110,000 sqm, likely outliers.\n"
   ]
  },
  {
   "cell_type": "code",
   "execution_count": 77,
   "metadata": {},
   "outputs": [
    {
     "data": {
      "image/png": "[encoded data removed]",
      "text/plain": [
       "<Figure size 432x288 with 1 Axes>"
      ]
     },
     "metadata": {
      "needs_background": "light"
     },
     "output_type": "display_data"
    }
   ],
   "source": [
    "_= sns.boxplot(x = 'livingSpace', data = rentals)\n",
    "_= plt.xlabel('meters-squared')"
   ]
  },
  {
   "cell_type": "code",
   "execution_count": 78,
   "metadata": {},
   "outputs": [
    {
     "data": {
      "text/plain": [
       "count   266576.00\n",
       "mean        74.39\n",
       "std        255.83\n",
       "min          0.00\n",
       "25%         54.00\n",
       "50%         67.35\n",
       "75%         87.00\n",
       "max     111111.00\n",
       "Name: livingSpace, dtype: float64"
      ]
     },
     "execution_count": 78,
     "metadata": {},
     "output_type": "execute_result"
    }
   ],
   "source": [
    "#Determine ideal upper and lower bounds for livingSpace if livingSpace was normally distributed\n",
    "rentals.livingSpace.describe()"
   ]
  },
  {
   "cell_type": "code",
   "execution_count": 79,
   "metadata": {},
   "outputs": [],
   "source": [
    "#Remove outliers\n",
    "rentals.livingSpace = rentals.livingSpace[outlier_remover(rentals, 'livingSpace')]"
   ]
  },
  {
   "cell_type": "code",
   "execution_count": 80,
   "metadata": {
    "scrolled": true
   },
   "outputs": [
    {
     "data": {
      "image/png": "[encoded data removed]",
      "text/plain": [
       "<Figure size 432x288 with 1 Axes>"
      ]
     },
     "metadata": {
      "needs_background": "light"
     },
     "output_type": "display_data"
    }
   ],
   "source": [
    "#Review distribution\n",
    "rentals.livingSpace.hist()\n",
    "_= plt.xlabel('livingSpace (sqm)')\n",
    "_= plt.ylabel('Count')"
   ]
  },
  {
   "cell_type": "code",
   "execution_count": 81,
   "metadata": {},
   "outputs": [
    {
     "data": {
      "text/plain": [
       "count   266563.00\n",
       "mean        73.50\n",
       "std         32.13\n",
       "min          0.00\n",
       "25%         54.00\n",
       "50%         67.35\n",
       "75%         87.00\n",
       "max        649.00\n",
       "Name: livingSpace, dtype: float64"
      ]
     },
     "execution_count": 81,
     "metadata": {},
     "output_type": "execute_result"
    }
   ],
   "source": [
    "rentals.livingSpace.describe()"
   ]
  },
  {
   "cell_type": "markdown",
   "metadata": {},
   "source": [
    "#### 5.6.8 noRooms "
   ]
  },
  {
   "cell_type": "markdown",
   "metadata": {},
   "source": [
    "- noRooms indicates number of rooms in apartment. Min value of 1. Max value of 999, likely an outlier. "
   ]
  },
  {
   "cell_type": "code",
   "execution_count": 82,
   "metadata": {},
   "outputs": [
    {
     "data": {
      "image/png": "[encoded data removed]",
      "text/plain": [
       "<Figure size 432x288 with 1 Axes>"
      ]
     },
     "metadata": {
      "needs_background": "light"
     },
     "output_type": "display_data"
    }
   ],
   "source": [
    "_= sns.boxplot(x = 'noRooms', data = rentals)\n",
    "_= plt.xlabel('Number of Rooms')"
   ]
  },
  {
   "cell_type": "markdown",
   "metadata": {},
   "source": [
    "- We notice units having more than 100 rooms."
   ]
  },
  {
   "cell_type": "code",
   "execution_count": 83,
   "metadata": {},
   "outputs": [],
   "source": [
    "#Remove outliers\n",
    "rentals.noRooms = rentals.noRooms[outlier_remover(rentals, 'noRooms')]"
   ]
  },
  {
   "cell_type": "code",
   "execution_count": 84,
   "metadata": {
    "scrolled": true
   },
   "outputs": [
    {
     "data": {
      "image/png": "[encoded data removed]",
      "text/plain": [
       "<Figure size 432x288 with 1 Axes>"
      ]
     },
     "metadata": {
      "needs_background": "light"
     },
     "output_type": "display_data"
    }
   ],
   "source": [
    "#Review distribution\n",
    "_= rentals.noRooms.hist()\n",
    "_= plt.xlabel('Number of Rooms')\n",
    "_= plt.ylabel('Count')"
   ]
  },
  {
   "cell_type": "code",
   "execution_count": 85,
   "metadata": {},
   "outputs": [
    {
     "data": {
      "text/plain": [
       "count   266520.00\n",
       "mean         2.63\n",
       "std          0.98\n",
       "min          1.00\n",
       "25%          2.00\n",
       "50%          3.00\n",
       "75%          3.00\n",
       "max         10.00\n",
       "Name: noRooms, dtype: float64"
      ]
     },
     "execution_count": 85,
     "metadata": {},
     "output_type": "execute_result"
    }
   ],
   "source": [
    "rentals.noRooms.describe()"
   ]
  },
  {
   "cell_type": "markdown",
   "metadata": {},
   "source": [
    "#### 5.6.9 thermalChar "
   ]
  },
  {
   "cell_type": "markdown",
   "metadata": {},
   "source": [
    "- thermalChar indicates energy demand of apartment. Data owner noted that it is used to determine energyEfficiencyClass. Has unit - kWh/(m^2a) [Kilowatt per square meter per annum] Determined that ~ 40% of its values are missing. Has a min value of 0.1 and max value of 1996. Values seem extreme. \n"
   ]
  },
  {
   "cell_type": "code",
   "execution_count": 86,
   "metadata": {},
   "outputs": [
    {
     "data": {
      "image/png": "[encoded data removed]",
      "text/plain": [
       "<Figure size 432x288 with 1 Axes>"
      ]
     },
     "metadata": {
      "needs_background": "light"
     },
     "output_type": "display_data"
    }
   ],
   "source": [
    "_= sns.boxplot(x = 'thermalChar', data = rentals)\n",
    "_= plt.xlabel('thermalChar - kWh/(m^2a)')"
   ]
  },
  {
   "cell_type": "code",
   "execution_count": 87,
   "metadata": {},
   "outputs": [],
   "source": [
    "#Remove outliers\n",
    "rentals.thermalChar = rentals.thermalChar[outlier_remover(rentals, 'thermalChar')]"
   ]
  },
  {
   "cell_type": "code",
   "execution_count": 88,
   "metadata": {
    "scrolled": true
   },
   "outputs": [
    {
     "data": {
      "image/png": "[encoded data removed]",
      "text/plain": [
       "<Figure size 432x288 with 1 Axes>"
      ]
     },
     "metadata": {
      "needs_background": "light"
     },
     "output_type": "display_data"
    }
   ],
   "source": [
    "#Review distribution\n",
    "_= rentals.thermalChar.hist()\n",
    "_= plt.xlabel('thermalChar (kWh/m2a)')\n",
    "_= plt.ylabel('Count')"
   ]
  },
  {
   "cell_type": "markdown",
   "metadata": {},
   "source": [
    "#### 5.6.10 floor and numberOfFloors"
   ]
  },
  {
   "cell_type": "markdown",
   "metadata": {},
   "source": [
    "- floor indicates floor number of apartment. Determined that 19% of its values are missing. Has 53 unique values, with min of -1 and max of 999. Min of -1 likely indicates a basement apartment, but a max of 999 is an extreme value. Floor number is an identifier for the apartment specific to the building.\n",
    "- numberOfFloors indicates the number of floors in the building. Has 57 unique values, with min of 0 and max of 999, similar to 'floor'. 999 is an extreme values."
   ]
  },
  {
   "cell_type": "code",
   "execution_count": 89,
   "metadata": {},
   "outputs": [
    {
     "data": {
      "image/png": "[encoded data removed]",
      "text/plain": [
       "<Figure size 1080x360 with 2 Axes>"
      ]
     },
     "metadata": {
      "needs_background": "light"
     },
     "output_type": "display_data"
    }
   ],
   "source": [
    "fig, ax = plt.subplots(nrows = 1,ncols = 2, figsize=(15, 5))\n",
    "_= sns.boxplot(x = 'floor', data = rentals, ax = ax[0])\n",
    "_= sns.boxplot(x = 'numberOfFloors', data = rentals, ax = ax[1])\n",
    "plt.subplots_adjust(wspace= 0.5)\n",
    "plt.show()"
   ]
  },
  {
   "cell_type": "markdown",
   "metadata": {},
   "source": [
    "- Tallest German building has 56 floors. We will filter with this limit. Also we note that the numberOfFloors provides a relates better to price than the number of the floor. We will drop floor."
   ]
  },
  {
   "cell_type": "code",
   "execution_count": 90,
   "metadata": {},
   "outputs": [],
   "source": [
    "#Drop floor\n",
    "rentals.drop('floor', axis =1, inplace = True)"
   ]
  },
  {
   "cell_type": "code",
   "execution_count": 91,
   "metadata": {},
   "outputs": [],
   "source": [
    "#Remove outliers in numberOfFloors\n",
    "rentals.numberOfFloors = rentals.numberOfFloors[outlier_remover(rentals, 'numberOfFloors')]"
   ]
  },
  {
   "cell_type": "code",
   "execution_count": 92,
   "metadata": {},
   "outputs": [
    {
     "data": {
      "image/png": "[encoded data removed]",
      "text/plain": [
       "<Figure size 432x288 with 1 Axes>"
      ]
     },
     "metadata": {
      "needs_background": "light"
     },
     "output_type": "display_data"
    }
   ],
   "source": [
    "#Review distribution\n",
    "_= rentals.numberOfFloors.hist()\n",
    "_= plt.xlabel('Number of Floors')\n",
    "_= plt.ylabel('Count')"
   ]
  },
  {
   "cell_type": "markdown",
   "metadata": {},
   "source": [
    "## 5.7 Review of Boolean Features"
   ]
  },
  {
   "cell_type": "code",
   "execution_count": 93,
   "metadata": {
    "scrolled": true
   },
   "outputs": [
    {
     "data": {
      "text/html": [
       "<div>\n",
       "<style scoped>\n",
       "    .dataframe tbody tr th:only-of-type {\n",
       "        vertical-align: middle;\n",
       "    }\n",
       "\n",
       "    .dataframe tbody tr th {\n",
       "        vertical-align: top;\n",
       "    }\n",
       "\n",
       "    .dataframe thead th {\n",
       "        text-align: right;\n",
       "    }\n",
       "</style>\n",
       "<table border=\"1\" class=\"dataframe\">\n",
       "  <thead>\n",
       "    <tr style=\"text-align: right;\">\n",
       "      <th></th>\n",
       "      <th>newlyConst</th>\n",
       "      <th>balcony</th>\n",
       "      <th>hasKitchen</th>\n",
       "      <th>cellar</th>\n",
       "      <th>lift</th>\n",
       "      <th>garden</th>\n",
       "    </tr>\n",
       "  </thead>\n",
       "  <tbody>\n",
       "    <tr>\n",
       "      <th>0</th>\n",
       "      <td>False</td>\n",
       "      <td>False</td>\n",
       "      <td>False</td>\n",
       "      <td>True</td>\n",
       "      <td>False</td>\n",
       "      <td>True</td>\n",
       "    </tr>\n",
       "    <tr>\n",
       "      <th>1</th>\n",
       "      <td>False</td>\n",
       "      <td>True</td>\n",
       "      <td>False</td>\n",
       "      <td>False</td>\n",
       "      <td>False</td>\n",
       "      <td>False</td>\n",
       "    </tr>\n",
       "    <tr>\n",
       "      <th>2</th>\n",
       "      <td>True</td>\n",
       "      <td>True</td>\n",
       "      <td>False</td>\n",
       "      <td>True</td>\n",
       "      <td>True</td>\n",
       "      <td>False</td>\n",
       "    </tr>\n",
       "    <tr>\n",
       "      <th>3</th>\n",
       "      <td>False</td>\n",
       "      <td>True</td>\n",
       "      <td>False</td>\n",
       "      <td>False</td>\n",
       "      <td>False</td>\n",
       "      <td>False</td>\n",
       "    </tr>\n",
       "    <tr>\n",
       "      <th>4</th>\n",
       "      <td>False</td>\n",
       "      <td>True</td>\n",
       "      <td>False</td>\n",
       "      <td>False</td>\n",
       "      <td>False</td>\n",
       "      <td>False</td>\n",
       "    </tr>\n",
       "  </tbody>\n",
       "</table>\n",
       "</div>"
      ],
      "text/plain": [
       "   newlyConst  balcony  hasKitchen  cellar   lift  garden\n",
       "0       False    False       False    True  False    True\n",
       "1       False     True       False   False  False   False\n",
       "2        True     True       False    True   True   False\n",
       "3       False     True       False   False  False   False\n",
       "4       False     True       False   False  False   False"
      ]
     },
     "execution_count": 93,
     "metadata": {},
     "output_type": "execute_result"
    }
   ],
   "source": [
    "rentals.select_dtypes('boolean').head()"
   ]
  },
  {
   "cell_type": "code",
   "execution_count": 94,
   "metadata": {},
   "outputs": [
    {
     "data": {
      "text/plain": [
       "newlyConst    0\n",
       "balcony       0\n",
       "hasKitchen    0\n",
       "cellar        0\n",
       "lift          0\n",
       "garden        0\n",
       "dtype: int64"
      ]
     },
     "execution_count": 94,
     "metadata": {},
     "output_type": "execute_result"
    }
   ],
   "source": [
    "#Review missing values\n",
    "rentals.select_dtypes('boolean').isna().sum()"
   ]
  },
  {
   "cell_type": "markdown",
   "metadata": {},
   "source": [
    "## 5.8 Review Datatime Features "
   ]
  },
  {
   "cell_type": "code",
   "execution_count": 95,
   "metadata": {
    "scrolled": true
   },
   "outputs": [
    {
     "data": {
      "text/html": [
       "<div>\n",
       "<style scoped>\n",
       "    .dataframe tbody tr th:only-of-type {\n",
       "        vertical-align: middle;\n",
       "    }\n",
       "\n",
       "    .dataframe tbody tr th {\n",
       "        vertical-align: top;\n",
       "    }\n",
       "\n",
       "    .dataframe thead th {\n",
       "        text-align: right;\n",
       "    }\n",
       "</style>\n",
       "<table border=\"1\" class=\"dataframe\">\n",
       "  <thead>\n",
       "    <tr style=\"text-align: right;\">\n",
       "      <th></th>\n",
       "      <th>yearConstructed</th>\n",
       "      <th>date</th>\n",
       "    </tr>\n",
       "  </thead>\n",
       "  <tbody>\n",
       "    <tr>\n",
       "      <th>0</th>\n",
       "      <td>1965-01-01</td>\n",
       "      <td>2019-05-01</td>\n",
       "    </tr>\n",
       "    <tr>\n",
       "      <th>1</th>\n",
       "      <td>1871-01-01</td>\n",
       "      <td>2019-05-01</td>\n",
       "    </tr>\n",
       "    <tr>\n",
       "      <th>2</th>\n",
       "      <td>2019-01-01</td>\n",
       "      <td>2019-10-01</td>\n",
       "    </tr>\n",
       "    <tr>\n",
       "      <th>3</th>\n",
       "      <td>1964-01-01</td>\n",
       "      <td>2019-05-01</td>\n",
       "    </tr>\n",
       "    <tr>\n",
       "      <th>4</th>\n",
       "      <td>1950-01-01</td>\n",
       "      <td>2020-02-01</td>\n",
       "    </tr>\n",
       "  </tbody>\n",
       "</table>\n",
       "</div>"
      ],
      "text/plain": [
       "  yearConstructed       date\n",
       "0      1965-01-01 2019-05-01\n",
       "1      1871-01-01 2019-05-01\n",
       "2      2019-01-01 2019-10-01\n",
       "3      1964-01-01 2019-05-01\n",
       "4      1950-01-01 2020-02-01"
      ]
     },
     "execution_count": 95,
     "metadata": {},
     "output_type": "execute_result"
    }
   ],
   "source": [
    "rentals.select_dtypes('datetime').head()"
   ]
  },
  {
   "cell_type": "markdown",
   "metadata": {},
   "source": [
    "### 5.8.1 yearConstructed"
   ]
  },
  {
   "cell_type": "code",
   "execution_count": 96,
   "metadata": {},
   "outputs": [
    {
     "data": {
      "image/png": "[encoded data removed]",
      "text/plain": [
       "<Figure size 432x288 with 1 Axes>"
      ]
     },
     "metadata": {
      "needs_background": "light"
     },
     "output_type": "display_data"
    }
   ],
   "source": [
    "#Plot distribution\n",
    "_ = rentals.yearConstructed.dt.year.hist()\n",
    "_= plt.xlabel('yearConstructed')\n",
    "_= plt.ylabel('Count')"
   ]
  },
  {
   "cell_type": "markdown",
   "metadata": {},
   "source": [
    "- There are dates past 2020"
   ]
  },
  {
   "cell_type": "code",
   "execution_count": 97,
   "metadata": {},
   "outputs": [
    {
     "data": {
      "text/html": [
       "<div>\n",
       "<style scoped>\n",
       "    .dataframe tbody tr th:only-of-type {\n",
       "        vertical-align: middle;\n",
       "    }\n",
       "\n",
       "    .dataframe tbody tr th {\n",
       "        vertical-align: top;\n",
       "    }\n",
       "\n",
       "    .dataframe thead th {\n",
       "        text-align: right;\n",
       "    }\n",
       "</style>\n",
       "<table border=\"1\" class=\"dataframe\">\n",
       "  <thead>\n",
       "    <tr style=\"text-align: right;\">\n",
       "      <th></th>\n",
       "      <th>state</th>\n",
       "      <th>serviceCharge</th>\n",
       "      <th>heatingType</th>\n",
       "      <th>telekomTvOffer</th>\n",
       "      <th>newlyConst</th>\n",
       "      <th>balcony</th>\n",
       "      <th>picturecount</th>\n",
       "      <th>pricetrend</th>\n",
       "      <th>telekomUploadSpeed</th>\n",
       "      <th>totalRent</th>\n",
       "      <th>yearConstructed</th>\n",
       "      <th>scoutId</th>\n",
       "      <th>firingTypes</th>\n",
       "      <th>hasKitchen</th>\n",
       "      <th>cellar</th>\n",
       "      <th>baseRent</th>\n",
       "      <th>livingSpace</th>\n",
       "      <th>condition</th>\n",
       "      <th>interiorQual</th>\n",
       "      <th>petsAllowed</th>\n",
       "      <th>lift</th>\n",
       "      <th>typeOfFlat</th>\n",
       "      <th>zip_code</th>\n",
       "      <th>noRooms</th>\n",
       "      <th>thermalChar</th>\n",
       "      <th>numberOfFloors</th>\n",
       "      <th>garden</th>\n",
       "      <th>district</th>\n",
       "      <th>town_municipality</th>\n",
       "      <th>date</th>\n",
       "    </tr>\n",
       "  </thead>\n",
       "  <tbody>\n",
       "    <tr>\n",
       "      <th>34708</th>\n",
       "      <td>Hessen</td>\n",
       "      <td>570.00</td>\n",
       "      <td>central_heating</td>\n",
       "      <td>NaN</td>\n",
       "      <td>True</td>\n",
       "      <td>True</td>\n",
       "      <td>4</td>\n",
       "      <td>3.82</td>\n",
       "      <td>nan</td>\n",
       "      <td>3780.00</td>\n",
       "      <td>2021-01-01</td>\n",
       "      <td>115366492</td>\n",
       "      <td>NaN</td>\n",
       "      <td>False</td>\n",
       "      <td>False</td>\n",
       "      <td>3210.00</td>\n",
       "      <td>225.00</td>\n",
       "      <td>first_time_use</td>\n",
       "      <td>NaN</td>\n",
       "      <td>NaN</td>\n",
       "      <td>False</td>\n",
       "      <td>NaN</td>\n",
       "      <td>61462</td>\n",
       "      <td>5.00</td>\n",
       "      <td>nan</td>\n",
       "      <td>nan</td>\n",
       "      <td>False</td>\n",
       "      <td>Hochtaunuskreis</td>\n",
       "      <td>Königstein_im_Taunus</td>\n",
       "      <td>2020-02-01</td>\n",
       "    </tr>\n",
       "    <tr>\n",
       "      <th>40265</th>\n",
       "      <td>Berlin</td>\n",
       "      <td>120.00</td>\n",
       "      <td>district_heating</td>\n",
       "      <td>NaN</td>\n",
       "      <td>True</td>\n",
       "      <td>False</td>\n",
       "      <td>9</td>\n",
       "      <td>6.29</td>\n",
       "      <td>nan</td>\n",
       "      <td>590.00</td>\n",
       "      <td>2029-01-01</td>\n",
       "      <td>114977577</td>\n",
       "      <td>NaN</td>\n",
       "      <td>True</td>\n",
       "      <td>True</td>\n",
       "      <td>470.00</td>\n",
       "      <td>31.00</td>\n",
       "      <td>first_time_use</td>\n",
       "      <td>sophisticated</td>\n",
       "      <td>no</td>\n",
       "      <td>True</td>\n",
       "      <td>apartment</td>\n",
       "      <td>12487</td>\n",
       "      <td>1.00</td>\n",
       "      <td>nan</td>\n",
       "      <td>5.00</td>\n",
       "      <td>False</td>\n",
       "      <td>Berlin</td>\n",
       "      <td>Johannisthal_Treptow</td>\n",
       "      <td>2020-02-01</td>\n",
       "    </tr>\n",
       "    <tr>\n",
       "      <th>46273</th>\n",
       "      <td>Mecklenburg_Vorpommern</td>\n",
       "      <td>209.35</td>\n",
       "      <td>district_heating</td>\n",
       "      <td>NaN</td>\n",
       "      <td>True</td>\n",
       "      <td>True</td>\n",
       "      <td>12</td>\n",
       "      <td>1.13</td>\n",
       "      <td>nan</td>\n",
       "      <td>1096.27</td>\n",
       "      <td>2021-01-01</td>\n",
       "      <td>114078269</td>\n",
       "      <td>district_heating</td>\n",
       "      <td>False</td>\n",
       "      <td>False</td>\n",
       "      <td>886.92</td>\n",
       "      <td>84.00</td>\n",
       "      <td>first_time_use</td>\n",
       "      <td>NaN</td>\n",
       "      <td>NaN</td>\n",
       "      <td>False</td>\n",
       "      <td>NaN</td>\n",
       "      <td>17489</td>\n",
       "      <td>3.00</td>\n",
       "      <td>nan</td>\n",
       "      <td>nan</td>\n",
       "      <td>False</td>\n",
       "      <td>Greifswald</td>\n",
       "      <td>Innenstadt</td>\n",
       "      <td>2020-02-01</td>\n",
       "    </tr>\n",
       "    <tr>\n",
       "      <th>54595</th>\n",
       "      <td>Hessen</td>\n",
       "      <td>440.00</td>\n",
       "      <td>floor_heating</td>\n",
       "      <td>ONE_YEAR_FREE</td>\n",
       "      <td>True</td>\n",
       "      <td>False</td>\n",
       "      <td>14</td>\n",
       "      <td>4.48</td>\n",
       "      <td>40.00</td>\n",
       "      <td>3385.00</td>\n",
       "      <td>2026-01-01</td>\n",
       "      <td>113807419</td>\n",
       "      <td>NaN</td>\n",
       "      <td>True</td>\n",
       "      <td>False</td>\n",
       "      <td>2945.00</td>\n",
       "      <td>156.13</td>\n",
       "      <td>mint_condition</td>\n",
       "      <td>NaN</td>\n",
       "      <td>negotiable</td>\n",
       "      <td>True</td>\n",
       "      <td>apartment</td>\n",
       "      <td>60594</td>\n",
       "      <td>4.00</td>\n",
       "      <td>59.00</td>\n",
       "      <td>6.00</td>\n",
       "      <td>False</td>\n",
       "      <td>Frankfurt_am_Main</td>\n",
       "      <td>Sachsenhausen_Nord</td>\n",
       "      <td>2019-10-01</td>\n",
       "    </tr>\n",
       "    <tr>\n",
       "      <th>71178</th>\n",
       "      <td>Brandenburg</td>\n",
       "      <td>130.00</td>\n",
       "      <td>solar_heating</td>\n",
       "      <td>NaN</td>\n",
       "      <td>True</td>\n",
       "      <td>True</td>\n",
       "      <td>0</td>\n",
       "      <td>4.27</td>\n",
       "      <td>nan</td>\n",
       "      <td>617.00</td>\n",
       "      <td>2022-01-01</td>\n",
       "      <td>114344635</td>\n",
       "      <td>solar_heating</td>\n",
       "      <td>False</td>\n",
       "      <td>False</td>\n",
       "      <td>487.00</td>\n",
       "      <td>65.00</td>\n",
       "      <td>first_time_use</td>\n",
       "      <td>sophisticated</td>\n",
       "      <td>NaN</td>\n",
       "      <td>False</td>\n",
       "      <td>other</td>\n",
       "      <td>16359</td>\n",
       "      <td>3.00</td>\n",
       "      <td>nan</td>\n",
       "      <td>2.00</td>\n",
       "      <td>True</td>\n",
       "      <td>Barnim</td>\n",
       "      <td>Biesenthal</td>\n",
       "      <td>2020-02-01</td>\n",
       "    </tr>\n",
       "    <tr>\n",
       "      <th>79691</th>\n",
       "      <td>Mecklenburg_Vorpommern</td>\n",
       "      <td>201.68</td>\n",
       "      <td>district_heating</td>\n",
       "      <td>NaN</td>\n",
       "      <td>True</td>\n",
       "      <td>True</td>\n",
       "      <td>12</td>\n",
       "      <td>1.13</td>\n",
       "      <td>nan</td>\n",
       "      <td>1032.01</td>\n",
       "      <td>2021-01-01</td>\n",
       "      <td>114461937</td>\n",
       "      <td>district_heating</td>\n",
       "      <td>False</td>\n",
       "      <td>False</td>\n",
       "      <td>830.33</td>\n",
       "      <td>81.00</td>\n",
       "      <td>first_time_use</td>\n",
       "      <td>NaN</td>\n",
       "      <td>NaN</td>\n",
       "      <td>False</td>\n",
       "      <td>NaN</td>\n",
       "      <td>17489</td>\n",
       "      <td>3.00</td>\n",
       "      <td>nan</td>\n",
       "      <td>nan</td>\n",
       "      <td>False</td>\n",
       "      <td>Greifswald</td>\n",
       "      <td>Innenstadt</td>\n",
       "      <td>2020-02-01</td>\n",
       "    </tr>\n",
       "    <tr>\n",
       "      <th>87221</th>\n",
       "      <td>Baden_Württemberg</td>\n",
       "      <td>250.00</td>\n",
       "      <td>district_heating</td>\n",
       "      <td>ONE_YEAR_FREE</td>\n",
       "      <td>True</td>\n",
       "      <td>True</td>\n",
       "      <td>10</td>\n",
       "      <td>3.96</td>\n",
       "      <td>40.00</td>\n",
       "      <td>1475.00</td>\n",
       "      <td>2090-01-01</td>\n",
       "      <td>110659704</td>\n",
       "      <td>district_heating</td>\n",
       "      <td>False</td>\n",
       "      <td>True</td>\n",
       "      <td>1175.00</td>\n",
       "      <td>130.64</td>\n",
       "      <td>mint_condition</td>\n",
       "      <td>NaN</td>\n",
       "      <td>no</td>\n",
       "      <td>True</td>\n",
       "      <td>ground_floor</td>\n",
       "      <td>76437</td>\n",
       "      <td>4.00</td>\n",
       "      <td>53.00</td>\n",
       "      <td>nan</td>\n",
       "      <td>False</td>\n",
       "      <td>Rastatt</td>\n",
       "      <td>Rastatt</td>\n",
       "      <td>2019-05-01</td>\n",
       "    </tr>\n",
       "    <tr>\n",
       "      <th>96883</th>\n",
       "      <td>Schleswig_Holstein</td>\n",
       "      <td>nan</td>\n",
       "      <td>NaN</td>\n",
       "      <td>ONE_YEAR_FREE</td>\n",
       "      <td>True</td>\n",
       "      <td>False</td>\n",
       "      <td>6</td>\n",
       "      <td>3.30</td>\n",
       "      <td>40.00</td>\n",
       "      <td>nan</td>\n",
       "      <td>2021-01-01</td>\n",
       "      <td>115522305</td>\n",
       "      <td>NaN</td>\n",
       "      <td>True</td>\n",
       "      <td>False</td>\n",
       "      <td>630.00</td>\n",
       "      <td>60.00</td>\n",
       "      <td>NaN</td>\n",
       "      <td>sophisticated</td>\n",
       "      <td>NaN</td>\n",
       "      <td>True</td>\n",
       "      <td>NaN</td>\n",
       "      <td>24972</td>\n",
       "      <td>2.00</td>\n",
       "      <td>nan</td>\n",
       "      <td>nan</td>\n",
       "      <td>True</td>\n",
       "      <td>Schleswig_Flensburg</td>\n",
       "      <td>Steinbergkirche</td>\n",
       "      <td>2020-02-01</td>\n",
       "    </tr>\n",
       "    <tr>\n",
       "      <th>101493</th>\n",
       "      <td>Hessen</td>\n",
       "      <td>420.00</td>\n",
       "      <td>central_heating</td>\n",
       "      <td>NaN</td>\n",
       "      <td>True</td>\n",
       "      <td>True</td>\n",
       "      <td>4</td>\n",
       "      <td>3.82</td>\n",
       "      <td>nan</td>\n",
       "      <td>2730.00</td>\n",
       "      <td>2021-01-01</td>\n",
       "      <td>115366568</td>\n",
       "      <td>NaN</td>\n",
       "      <td>False</td>\n",
       "      <td>False</td>\n",
       "      <td>2310.00</td>\n",
       "      <td>165.00</td>\n",
       "      <td>first_time_use</td>\n",
       "      <td>NaN</td>\n",
       "      <td>NaN</td>\n",
       "      <td>False</td>\n",
       "      <td>NaN</td>\n",
       "      <td>61462</td>\n",
       "      <td>4.00</td>\n",
       "      <td>nan</td>\n",
       "      <td>nan</td>\n",
       "      <td>False</td>\n",
       "      <td>Hochtaunuskreis</td>\n",
       "      <td>Königstein_im_Taunus</td>\n",
       "      <td>2020-02-01</td>\n",
       "    </tr>\n",
       "    <tr>\n",
       "      <th>118686</th>\n",
       "      <td>Schleswig_Holstein</td>\n",
       "      <td>nan</td>\n",
       "      <td>central_heating</td>\n",
       "      <td>NaN</td>\n",
       "      <td>True</td>\n",
       "      <td>True</td>\n",
       "      <td>5</td>\n",
       "      <td>2.67</td>\n",
       "      <td>nan</td>\n",
       "      <td>nan</td>\n",
       "      <td>2021-01-01</td>\n",
       "      <td>115420487</td>\n",
       "      <td>gas</td>\n",
       "      <td>True</td>\n",
       "      <td>False</td>\n",
       "      <td>495.00</td>\n",
       "      <td>49.00</td>\n",
       "      <td>first_time_use</td>\n",
       "      <td>sophisticated</td>\n",
       "      <td>negotiable</td>\n",
       "      <td>True</td>\n",
       "      <td>apartment</td>\n",
       "      <td>25715</td>\n",
       "      <td>2.00</td>\n",
       "      <td>26.70</td>\n",
       "      <td>2.00</td>\n",
       "      <td>False</td>\n",
       "      <td>Dithmarschen</td>\n",
       "      <td>Brunsbüttel</td>\n",
       "      <td>2020-02-01</td>\n",
       "    </tr>\n",
       "    <tr>\n",
       "      <th>125474</th>\n",
       "      <td>Mecklenburg_Vorpommern</td>\n",
       "      <td>183.65</td>\n",
       "      <td>district_heating</td>\n",
       "      <td>NaN</td>\n",
       "      <td>True</td>\n",
       "      <td>True</td>\n",
       "      <td>12</td>\n",
       "      <td>1.13</td>\n",
       "      <td>nan</td>\n",
       "      <td>947.61</td>\n",
       "      <td>2021-01-01</td>\n",
       "      <td>114481897</td>\n",
       "      <td>district_heating</td>\n",
       "      <td>False</td>\n",
       "      <td>False</td>\n",
       "      <td>763.96</td>\n",
       "      <td>73.00</td>\n",
       "      <td>first_time_use</td>\n",
       "      <td>NaN</td>\n",
       "      <td>NaN</td>\n",
       "      <td>False</td>\n",
       "      <td>NaN</td>\n",
       "      <td>17489</td>\n",
       "      <td>2.00</td>\n",
       "      <td>nan</td>\n",
       "      <td>nan</td>\n",
       "      <td>False</td>\n",
       "      <td>Greifswald</td>\n",
       "      <td>Innenstadt</td>\n",
       "      <td>2020-02-01</td>\n",
       "    </tr>\n",
       "    <tr>\n",
       "      <th>127977</th>\n",
       "      <td>Bayern</td>\n",
       "      <td>173.00</td>\n",
       "      <td>NaN</td>\n",
       "      <td>NaN</td>\n",
       "      <td>True</td>\n",
       "      <td>True</td>\n",
       "      <td>2</td>\n",
       "      <td>5.10</td>\n",
       "      <td>nan</td>\n",
       "      <td>nan</td>\n",
       "      <td>2022-01-01</td>\n",
       "      <td>115273252</td>\n",
       "      <td>district_heating</td>\n",
       "      <td>False</td>\n",
       "      <td>True</td>\n",
       "      <td>836.00</td>\n",
       "      <td>75.00</td>\n",
       "      <td>first_time_use</td>\n",
       "      <td>NaN</td>\n",
       "      <td>NaN</td>\n",
       "      <td>True</td>\n",
       "      <td>apartment</td>\n",
       "      <td>81249</td>\n",
       "      <td>3.00</td>\n",
       "      <td>nan</td>\n",
       "      <td>3.00</td>\n",
       "      <td>False</td>\n",
       "      <td>München</td>\n",
       "      <td>Aubing</td>\n",
       "      <td>2020-02-01</td>\n",
       "    </tr>\n",
       "    <tr>\n",
       "      <th>133703</th>\n",
       "      <td>Mecklenburg_Vorpommern</td>\n",
       "      <td>212.93</td>\n",
       "      <td>district_heating</td>\n",
       "      <td>NaN</td>\n",
       "      <td>True</td>\n",
       "      <td>True</td>\n",
       "      <td>12</td>\n",
       "      <td>1.13</td>\n",
       "      <td>nan</td>\n",
       "      <td>1051.30</td>\n",
       "      <td>2021-01-01</td>\n",
       "      <td>114481906</td>\n",
       "      <td>district_heating</td>\n",
       "      <td>False</td>\n",
       "      <td>False</td>\n",
       "      <td>838.38</td>\n",
       "      <td>84.00</td>\n",
       "      <td>first_time_use</td>\n",
       "      <td>NaN</td>\n",
       "      <td>NaN</td>\n",
       "      <td>False</td>\n",
       "      <td>NaN</td>\n",
       "      <td>17489</td>\n",
       "      <td>3.00</td>\n",
       "      <td>nan</td>\n",
       "      <td>nan</td>\n",
       "      <td>False</td>\n",
       "      <td>Greifswald</td>\n",
       "      <td>Innenstadt</td>\n",
       "      <td>2020-02-01</td>\n",
       "    </tr>\n",
       "    <tr>\n",
       "      <th>151753</th>\n",
       "      <td>Mecklenburg_Vorpommern</td>\n",
       "      <td>209.35</td>\n",
       "      <td>district_heating</td>\n",
       "      <td>NaN</td>\n",
       "      <td>True</td>\n",
       "      <td>True</td>\n",
       "      <td>12</td>\n",
       "      <td>1.13</td>\n",
       "      <td>nan</td>\n",
       "      <td>1070.43</td>\n",
       "      <td>2021-01-01</td>\n",
       "      <td>114481899</td>\n",
       "      <td>district_heating</td>\n",
       "      <td>False</td>\n",
       "      <td>False</td>\n",
       "      <td>861.08</td>\n",
       "      <td>84.00</td>\n",
       "      <td>first_time_use</td>\n",
       "      <td>NaN</td>\n",
       "      <td>NaN</td>\n",
       "      <td>False</td>\n",
       "      <td>NaN</td>\n",
       "      <td>17489</td>\n",
       "      <td>3.00</td>\n",
       "      <td>nan</td>\n",
       "      <td>nan</td>\n",
       "      <td>False</td>\n",
       "      <td>Greifswald</td>\n",
       "      <td>Innenstadt</td>\n",
       "      <td>2020-02-01</td>\n",
       "    </tr>\n",
       "    <tr>\n",
       "      <th>178689</th>\n",
       "      <td>Nordrhein_Westfalen</td>\n",
       "      <td>230.00</td>\n",
       "      <td>heat_pump</td>\n",
       "      <td>NaN</td>\n",
       "      <td>True</td>\n",
       "      <td>True</td>\n",
       "      <td>7</td>\n",
       "      <td>2.32</td>\n",
       "      <td>nan</td>\n",
       "      <td>767.95</td>\n",
       "      <td>2021-01-01</td>\n",
       "      <td>113328739</td>\n",
       "      <td>geothermal</td>\n",
       "      <td>False</td>\n",
       "      <td>True</td>\n",
       "      <td>482.79</td>\n",
       "      <td>91.99</td>\n",
       "      <td>first_time_use</td>\n",
       "      <td>sophisticated</td>\n",
       "      <td>negotiable</td>\n",
       "      <td>True</td>\n",
       "      <td>apartment</td>\n",
       "      <td>59379</td>\n",
       "      <td>4.50</td>\n",
       "      <td>17.24</td>\n",
       "      <td>3.00</td>\n",
       "      <td>False</td>\n",
       "      <td>Unna</td>\n",
       "      <td>Selm</td>\n",
       "      <td>2019-10-01</td>\n",
       "    </tr>\n",
       "    <tr>\n",
       "      <th>182121</th>\n",
       "      <td>Hessen</td>\n",
       "      <td>290.00</td>\n",
       "      <td>floor_heating</td>\n",
       "      <td>ONE_YEAR_FREE</td>\n",
       "      <td>True</td>\n",
       "      <td>False</td>\n",
       "      <td>17</td>\n",
       "      <td>4.48</td>\n",
       "      <td>40.00</td>\n",
       "      <td>1910.00</td>\n",
       "      <td>2026-01-01</td>\n",
       "      <td>113807326</td>\n",
       "      <td>NaN</td>\n",
       "      <td>True</td>\n",
       "      <td>False</td>\n",
       "      <td>1620.00</td>\n",
       "      <td>102.44</td>\n",
       "      <td>mint_condition</td>\n",
       "      <td>NaN</td>\n",
       "      <td>negotiable</td>\n",
       "      <td>True</td>\n",
       "      <td>apartment</td>\n",
       "      <td>60594</td>\n",
       "      <td>3.00</td>\n",
       "      <td>59.00</td>\n",
       "      <td>6.00</td>\n",
       "      <td>False</td>\n",
       "      <td>Frankfurt_am_Main</td>\n",
       "      <td>Sachsenhausen_Nord</td>\n",
       "      <td>2019-10-01</td>\n",
       "    </tr>\n",
       "    <tr>\n",
       "      <th>197804</th>\n",
       "      <td>Mecklenburg_Vorpommern</td>\n",
       "      <td>218.77</td>\n",
       "      <td>district_heating</td>\n",
       "      <td>NaN</td>\n",
       "      <td>True</td>\n",
       "      <td>True</td>\n",
       "      <td>12</td>\n",
       "      <td>1.13</td>\n",
       "      <td>nan</td>\n",
       "      <td>1139.84</td>\n",
       "      <td>2021-01-01</td>\n",
       "      <td>114481901</td>\n",
       "      <td>district_heating</td>\n",
       "      <td>False</td>\n",
       "      <td>False</td>\n",
       "      <td>921.06</td>\n",
       "      <td>86.00</td>\n",
       "      <td>first_time_use</td>\n",
       "      <td>NaN</td>\n",
       "      <td>NaN</td>\n",
       "      <td>False</td>\n",
       "      <td>NaN</td>\n",
       "      <td>17489</td>\n",
       "      <td>3.00</td>\n",
       "      <td>nan</td>\n",
       "      <td>nan</td>\n",
       "      <td>False</td>\n",
       "      <td>Greifswald</td>\n",
       "      <td>Innenstadt</td>\n",
       "      <td>2020-02-01</td>\n",
       "    </tr>\n",
       "    <tr>\n",
       "      <th>199929</th>\n",
       "      <td>Mecklenburg_Vorpommern</td>\n",
       "      <td>182.82</td>\n",
       "      <td>district_heating</td>\n",
       "      <td>NaN</td>\n",
       "      <td>True</td>\n",
       "      <td>True</td>\n",
       "      <td>12</td>\n",
       "      <td>1.13</td>\n",
       "      <td>nan</td>\n",
       "      <td>991.01</td>\n",
       "      <td>2021-01-01</td>\n",
       "      <td>114481895</td>\n",
       "      <td>district_heating</td>\n",
       "      <td>False</td>\n",
       "      <td>False</td>\n",
       "      <td>808.19</td>\n",
       "      <td>73.00</td>\n",
       "      <td>first_time_use</td>\n",
       "      <td>NaN</td>\n",
       "      <td>NaN</td>\n",
       "      <td>False</td>\n",
       "      <td>NaN</td>\n",
       "      <td>17489</td>\n",
       "      <td>3.00</td>\n",
       "      <td>nan</td>\n",
       "      <td>nan</td>\n",
       "      <td>False</td>\n",
       "      <td>Greifswald</td>\n",
       "      <td>Innenstadt</td>\n",
       "      <td>2020-02-01</td>\n",
       "    </tr>\n",
       "    <tr>\n",
       "      <th>210217</th>\n",
       "      <td>Bayern</td>\n",
       "      <td>180.00</td>\n",
       "      <td>floor_heating</td>\n",
       "      <td>ONE_YEAR_FREE</td>\n",
       "      <td>True</td>\n",
       "      <td>True</td>\n",
       "      <td>4</td>\n",
       "      <td>5.23</td>\n",
       "      <td>10.00</td>\n",
       "      <td>nan</td>\n",
       "      <td>2021-01-01</td>\n",
       "      <td>112007368</td>\n",
       "      <td>steam_district_heating</td>\n",
       "      <td>False</td>\n",
       "      <td>True</td>\n",
       "      <td>1048.50</td>\n",
       "      <td>90.00</td>\n",
       "      <td>first_time_use</td>\n",
       "      <td>NaN</td>\n",
       "      <td>NaN</td>\n",
       "      <td>True</td>\n",
       "      <td>NaN</td>\n",
       "      <td>81249</td>\n",
       "      <td>4.00</td>\n",
       "      <td>nan</td>\n",
       "      <td>nan</td>\n",
       "      <td>True</td>\n",
       "      <td>München</td>\n",
       "      <td>Aubing</td>\n",
       "      <td>2019-10-01</td>\n",
       "    </tr>\n",
       "    <tr>\n",
       "      <th>234336</th>\n",
       "      <td>Mecklenburg_Vorpommern</td>\n",
       "      <td>176.52</td>\n",
       "      <td>district_heating</td>\n",
       "      <td>NaN</td>\n",
       "      <td>True</td>\n",
       "      <td>True</td>\n",
       "      <td>12</td>\n",
       "      <td>1.13</td>\n",
       "      <td>nan</td>\n",
       "      <td>919.55</td>\n",
       "      <td>2021-01-01</td>\n",
       "      <td>114461933</td>\n",
       "      <td>district_heating</td>\n",
       "      <td>False</td>\n",
       "      <td>False</td>\n",
       "      <td>743.03</td>\n",
       "      <td>71.00</td>\n",
       "      <td>first_time_use</td>\n",
       "      <td>NaN</td>\n",
       "      <td>NaN</td>\n",
       "      <td>False</td>\n",
       "      <td>NaN</td>\n",
       "      <td>17489</td>\n",
       "      <td>2.00</td>\n",
       "      <td>nan</td>\n",
       "      <td>nan</td>\n",
       "      <td>False</td>\n",
       "      <td>Greifswald</td>\n",
       "      <td>Innenstadt</td>\n",
       "      <td>2020-02-01</td>\n",
       "    </tr>\n",
       "    <tr>\n",
       "      <th>240346</th>\n",
       "      <td>Hessen</td>\n",
       "      <td>255.00</td>\n",
       "      <td>floor_heating</td>\n",
       "      <td>ONE_YEAR_FREE</td>\n",
       "      <td>True</td>\n",
       "      <td>False</td>\n",
       "      <td>10</td>\n",
       "      <td>4.48</td>\n",
       "      <td>40.00</td>\n",
       "      <td>1690.00</td>\n",
       "      <td>2026-01-01</td>\n",
       "      <td>113807369</td>\n",
       "      <td>NaN</td>\n",
       "      <td>True</td>\n",
       "      <td>False</td>\n",
       "      <td>1435.00</td>\n",
       "      <td>91.07</td>\n",
       "      <td>mint_condition</td>\n",
       "      <td>NaN</td>\n",
       "      <td>negotiable</td>\n",
       "      <td>True</td>\n",
       "      <td>apartment</td>\n",
       "      <td>60594</td>\n",
       "      <td>3.00</td>\n",
       "      <td>59.00</td>\n",
       "      <td>6.00</td>\n",
       "      <td>False</td>\n",
       "      <td>Frankfurt_am_Main</td>\n",
       "      <td>Sachsenhausen_Nord</td>\n",
       "      <td>2019-10-01</td>\n",
       "    </tr>\n",
       "    <tr>\n",
       "      <th>267754</th>\n",
       "      <td>Mecklenburg_Vorpommern</td>\n",
       "      <td>212.93</td>\n",
       "      <td>district_heating</td>\n",
       "      <td>NaN</td>\n",
       "      <td>True</td>\n",
       "      <td>True</td>\n",
       "      <td>12</td>\n",
       "      <td>1.13</td>\n",
       "      <td>nan</td>\n",
       "      <td>1026.89</td>\n",
       "      <td>2021-01-01</td>\n",
       "      <td>114042045</td>\n",
       "      <td>district_heating</td>\n",
       "      <td>False</td>\n",
       "      <td>False</td>\n",
       "      <td>813.96</td>\n",
       "      <td>84.00</td>\n",
       "      <td>first_time_use</td>\n",
       "      <td>NaN</td>\n",
       "      <td>NaN</td>\n",
       "      <td>False</td>\n",
       "      <td>NaN</td>\n",
       "      <td>17489</td>\n",
       "      <td>3.00</td>\n",
       "      <td>nan</td>\n",
       "      <td>nan</td>\n",
       "      <td>False</td>\n",
       "      <td>Greifswald</td>\n",
       "      <td>Innenstadt</td>\n",
       "      <td>2020-02-01</td>\n",
       "    </tr>\n",
       "  </tbody>\n",
       "</table>\n",
       "</div>"
      ],
      "text/plain": [
       "                         state  serviceCharge       heatingType  \\\n",
       "34708                   Hessen         570.00   central_heating   \n",
       "40265                   Berlin         120.00  district_heating   \n",
       "46273   Mecklenburg_Vorpommern         209.35  district_heating   \n",
       "54595                   Hessen         440.00     floor_heating   \n",
       "71178              Brandenburg         130.00     solar_heating   \n",
       "79691   Mecklenburg_Vorpommern         201.68  district_heating   \n",
       "87221        Baden_Württemberg         250.00  district_heating   \n",
       "96883       Schleswig_Holstein            nan               NaN   \n",
       "101493                  Hessen         420.00   central_heating   \n",
       "118686      Schleswig_Holstein            nan   central_heating   \n",
       "125474  Mecklenburg_Vorpommern         183.65  district_heating   \n",
       "127977                  Bayern         173.00               NaN   \n",
       "133703  Mecklenburg_Vorpommern         212.93  district_heating   \n",
       "151753  Mecklenburg_Vorpommern         209.35  district_heating   \n",
       "178689     Nordrhein_Westfalen         230.00         heat_pump   \n",
       "182121                  Hessen         290.00     floor_heating   \n",
       "197804  Mecklenburg_Vorpommern         218.77  district_heating   \n",
       "199929  Mecklenburg_Vorpommern         182.82  district_heating   \n",
       "210217                  Bayern         180.00     floor_heating   \n",
       "234336  Mecklenburg_Vorpommern         176.52  district_heating   \n",
       "240346                  Hessen         255.00     floor_heating   \n",
       "267754  Mecklenburg_Vorpommern         212.93  district_heating   \n",
       "\n",
       "       telekomTvOffer  newlyConst  balcony  picturecount  pricetrend  \\\n",
       "34708             NaN        True     True             4        3.82   \n",
       "40265             NaN        True    False             9        6.29   \n",
       "46273             NaN        True     True            12        1.13   \n",
       "54595   ONE_YEAR_FREE        True    False            14        4.48   \n",
       "71178             NaN        True     True             0        4.27   \n",
       "79691             NaN        True     True            12        1.13   \n",
       "87221   ONE_YEAR_FREE        True     True            10        3.96   \n",
       "96883   ONE_YEAR_FREE        True    False             6        3.30   \n",
       "101493            NaN        True     True             4        3.82   \n",
       "118686            NaN        True     True             5        2.67   \n",
       "125474            NaN        True     True            12        1.13   \n",
       "127977            NaN        True     True             2        5.10   \n",
       "133703            NaN        True     True            12        1.13   \n",
       "151753            NaN        True     True            12        1.13   \n",
       "178689            NaN        True     True             7        2.32   \n",
       "182121  ONE_YEAR_FREE        True    False            17        4.48   \n",
       "197804            NaN        True     True            12        1.13   \n",
       "199929            NaN        True     True            12        1.13   \n",
       "210217  ONE_YEAR_FREE        True     True             4        5.23   \n",
       "234336            NaN        True     True            12        1.13   \n",
       "240346  ONE_YEAR_FREE        True    False            10        4.48   \n",
       "267754            NaN        True     True            12        1.13   \n",
       "\n",
       "        telekomUploadSpeed  totalRent yearConstructed    scoutId  \\\n",
       "34708                  nan    3780.00      2021-01-01  115366492   \n",
       "40265                  nan     590.00      2029-01-01  114977577   \n",
       "46273                  nan    1096.27      2021-01-01  114078269   \n",
       "54595                40.00    3385.00      2026-01-01  113807419   \n",
       "71178                  nan     617.00      2022-01-01  114344635   \n",
       "79691                  nan    1032.01      2021-01-01  114461937   \n",
       "87221                40.00    1475.00      2090-01-01  110659704   \n",
       "96883                40.00        nan      2021-01-01  115522305   \n",
       "101493                 nan    2730.00      2021-01-01  115366568   \n",
       "118686                 nan        nan      2021-01-01  115420487   \n",
       "125474                 nan     947.61      2021-01-01  114481897   \n",
       "127977                 nan        nan      2022-01-01  115273252   \n",
       "133703                 nan    1051.30      2021-01-01  114481906   \n",
       "151753                 nan    1070.43      2021-01-01  114481899   \n",
       "178689                 nan     767.95      2021-01-01  113328739   \n",
       "182121               40.00    1910.00      2026-01-01  113807326   \n",
       "197804                 nan    1139.84      2021-01-01  114481901   \n",
       "199929                 nan     991.01      2021-01-01  114481895   \n",
       "210217               10.00        nan      2021-01-01  112007368   \n",
       "234336                 nan     919.55      2021-01-01  114461933   \n",
       "240346               40.00    1690.00      2026-01-01  113807369   \n",
       "267754                 nan    1026.89      2021-01-01  114042045   \n",
       "\n",
       "                   firingTypes  hasKitchen  cellar  baseRent  livingSpace  \\\n",
       "34708                      NaN       False   False   3210.00       225.00   \n",
       "40265                      NaN        True    True    470.00        31.00   \n",
       "46273         district_heating       False   False    886.92        84.00   \n",
       "54595                      NaN        True   False   2945.00       156.13   \n",
       "71178            solar_heating       False   False    487.00        65.00   \n",
       "79691         district_heating       False   False    830.33        81.00   \n",
       "87221         district_heating       False    True   1175.00       130.64   \n",
       "96883                      NaN        True   False    630.00        60.00   \n",
       "101493                     NaN       False   False   2310.00       165.00   \n",
       "118686                     gas        True   False    495.00        49.00   \n",
       "125474        district_heating       False   False    763.96        73.00   \n",
       "127977        district_heating       False    True    836.00        75.00   \n",
       "133703        district_heating       False   False    838.38        84.00   \n",
       "151753        district_heating       False   False    861.08        84.00   \n",
       "178689              geothermal       False    True    482.79        91.99   \n",
       "182121                     NaN        True   False   1620.00       102.44   \n",
       "197804        district_heating       False   False    921.06        86.00   \n",
       "199929        district_heating       False   False    808.19        73.00   \n",
       "210217  steam_district_heating       False    True   1048.50        90.00   \n",
       "234336        district_heating       False   False    743.03        71.00   \n",
       "240346                     NaN        True   False   1435.00        91.07   \n",
       "267754        district_heating       False   False    813.96        84.00   \n",
       "\n",
       "             condition   interiorQual petsAllowed   lift    typeOfFlat  \\\n",
       "34708   first_time_use            NaN         NaN  False           NaN   \n",
       "40265   first_time_use  sophisticated          no   True     apartment   \n",
       "46273   first_time_use            NaN         NaN  False           NaN   \n",
       "54595   mint_condition            NaN  negotiable   True     apartment   \n",
       "71178   first_time_use  sophisticated         NaN  False         other   \n",
       "79691   first_time_use            NaN         NaN  False           NaN   \n",
       "87221   mint_condition            NaN          no   True  ground_floor   \n",
       "96883              NaN  sophisticated         NaN   True           NaN   \n",
       "101493  first_time_use            NaN         NaN  False           NaN   \n",
       "118686  first_time_use  sophisticated  negotiable   True     apartment   \n",
       "125474  first_time_use            NaN         NaN  False           NaN   \n",
       "127977  first_time_use            NaN         NaN   True     apartment   \n",
       "133703  first_time_use            NaN         NaN  False           NaN   \n",
       "151753  first_time_use            NaN         NaN  False           NaN   \n",
       "178689  first_time_use  sophisticated  negotiable   True     apartment   \n",
       "182121  mint_condition            NaN  negotiable   True     apartment   \n",
       "197804  first_time_use            NaN         NaN  False           NaN   \n",
       "199929  first_time_use            NaN         NaN  False           NaN   \n",
       "210217  first_time_use            NaN         NaN   True           NaN   \n",
       "234336  first_time_use            NaN         NaN  False           NaN   \n",
       "240346  mint_condition            NaN  negotiable   True     apartment   \n",
       "267754  first_time_use            NaN         NaN  False           NaN   \n",
       "\n",
       "       zip_code  noRooms  thermalChar  numberOfFloors  garden  \\\n",
       "34708     61462     5.00          nan             nan   False   \n",
       "40265     12487     1.00          nan            5.00   False   \n",
       "46273     17489     3.00          nan             nan   False   \n",
       "54595     60594     4.00        59.00            6.00   False   \n",
       "71178     16359     3.00          nan            2.00    True   \n",
       "79691     17489     3.00          nan             nan   False   \n",
       "87221     76437     4.00        53.00             nan   False   \n",
       "96883     24972     2.00          nan             nan    True   \n",
       "101493    61462     4.00          nan             nan   False   \n",
       "118686    25715     2.00        26.70            2.00   False   \n",
       "125474    17489     2.00          nan             nan   False   \n",
       "127977    81249     3.00          nan            3.00   False   \n",
       "133703    17489     3.00          nan             nan   False   \n",
       "151753    17489     3.00          nan             nan   False   \n",
       "178689    59379     4.50        17.24            3.00   False   \n",
       "182121    60594     3.00        59.00            6.00   False   \n",
       "197804    17489     3.00          nan             nan   False   \n",
       "199929    17489     3.00          nan             nan   False   \n",
       "210217    81249     4.00          nan             nan    True   \n",
       "234336    17489     2.00          nan             nan   False   \n",
       "240346    60594     3.00        59.00            6.00   False   \n",
       "267754    17489     3.00          nan             nan   False   \n",
       "\n",
       "                   district     town_municipality       date  \n",
       "34708       Hochtaunuskreis  Königstein_im_Taunus 2020-02-01  \n",
       "40265                Berlin  Johannisthal_Treptow 2020-02-01  \n",
       "46273            Greifswald            Innenstadt 2020-02-01  \n",
       "54595     Frankfurt_am_Main    Sachsenhausen_Nord 2019-10-01  \n",
       "71178                Barnim            Biesenthal 2020-02-01  \n",
       "79691            Greifswald            Innenstadt 2020-02-01  \n",
       "87221               Rastatt               Rastatt 2019-05-01  \n",
       "96883   Schleswig_Flensburg       Steinbergkirche 2020-02-01  \n",
       "101493      Hochtaunuskreis  Königstein_im_Taunus 2020-02-01  \n",
       "118686         Dithmarschen           Brunsbüttel 2020-02-01  \n",
       "125474           Greifswald            Innenstadt 2020-02-01  \n",
       "127977              München                Aubing 2020-02-01  \n",
       "133703           Greifswald            Innenstadt 2020-02-01  \n",
       "151753           Greifswald            Innenstadt 2020-02-01  \n",
       "178689                 Unna                  Selm 2019-10-01  \n",
       "182121    Frankfurt_am_Main    Sachsenhausen_Nord 2019-10-01  \n",
       "197804           Greifswald            Innenstadt 2020-02-01  \n",
       "199929           Greifswald            Innenstadt 2020-02-01  \n",
       "210217              München                Aubing 2019-10-01  \n",
       "234336           Greifswald            Innenstadt 2020-02-01  \n",
       "240346    Frankfurt_am_Main    Sachsenhausen_Nord 2019-10-01  \n",
       "267754           Greifswald            Innenstadt 2020-02-01  "
      ]
     },
     "execution_count": 97,
     "metadata": {},
     "output_type": "execute_result"
    }
   ],
   "source": [
    "rentals[rentals.yearConstructed.dt.year > 2020]"
   ]
  },
  {
   "cell_type": "markdown",
   "metadata": {},
   "source": [
    "- We observe than many of the units are first-time use. However, we also notice that those units with mint condition have yearConstructed dates that are further out. We will remove these rows."
   ]
  },
  {
   "cell_type": "code",
   "execution_count": 98,
   "metadata": {},
   "outputs": [],
   "source": [
    "#Filter-out outliers\n",
    "rentals = rentals[~((rentals.yearConstructed.dt.year > 2020) & (rentals.condition == 'mint_condition'))]"
   ]
  },
  {
   "cell_type": "markdown",
   "metadata": {},
   "source": [
    "## 5.9 State-wide Features"
   ]
  },
  {
   "cell_type": "markdown",
   "metadata": {},
   "source": [
    "### 5.9.2 State Profile"
   ]
  },
  {
   "cell_type": "code",
   "execution_count": 99,
   "metadata": {},
   "outputs": [],
   "source": [
    "#Load German states information\n",
    "states_url = 'https://en.wikipedia.org/wiki/States_of_Germany'\n",
    "german_states = pd.read_html(states_url)"
   ]
  },
  {
   "cell_type": "code",
   "execution_count": 100,
   "metadata": {
    "scrolled": true
   },
   "outputs": [
    {
     "data": {
      "text/html": [
       "<div>\n",
       "<style scoped>\n",
       "    .dataframe tbody tr th:only-of-type {\n",
       "        vertical-align: middle;\n",
       "    }\n",
       "\n",
       "    .dataframe tbody tr th {\n",
       "        vertical-align: top;\n",
       "    }\n",
       "\n",
       "    .dataframe thead th {\n",
       "        text-align: right;\n",
       "    }\n",
       "</style>\n",
       "<table border=\"1\" class=\"dataframe\">\n",
       "  <thead>\n",
       "    <tr style=\"text-align: right;\">\n",
       "      <th></th>\n",
       "      <th>Coat of arms</th>\n",
       "      <th>Flag</th>\n",
       "      <th>State</th>\n",
       "      <th>Since</th>\n",
       "      <th>Capital</th>\n",
       "      <th>Legislature</th>\n",
       "      <th>Head of government</th>\n",
       "      <th>Governmentcoalition</th>\n",
       "      <th>Bundesrat votes</th>\n",
       "      <th>Area(km2)</th>\n",
       "      <th>Population(Dec. 2019)[7]</th>\n",
       "      <th>Pop.per km2</th>\n",
       "      <th>HDI(2018)[8]</th>\n",
       "      <th>ISO3166-2code</th>\n",
       "      <th>GDP per capita in Euro (2018)[9]</th>\n",
       "    </tr>\n",
       "  </thead>\n",
       "  <tbody>\n",
       "    <tr>\n",
       "      <th>0</th>\n",
       "      <td>nan</td>\n",
       "      <td>nan</td>\n",
       "      <td>Baden-Württemberg</td>\n",
       "      <td>1952[10]</td>\n",
       "      <td>Stuttgart</td>\n",
       "      <td>Landtag of Baden-Württemberg</td>\n",
       "      <td>Winfried Kretschmann (Greens)</td>\n",
       "      <td>Greens, CDU</td>\n",
       "      <td>6</td>\n",
       "      <td>35752</td>\n",
       "      <td>11100394</td>\n",
       "      <td>310</td>\n",
       "      <td>0.95</td>\n",
       "      <td>BW</td>\n",
       "      <td>47290</td>\n",
       "    </tr>\n",
       "    <tr>\n",
       "      <th>1</th>\n",
       "      <td>nan</td>\n",
       "      <td>nan</td>\n",
       "      <td>Bavaria(Bayern)</td>\n",
       "      <td>1949</td>\n",
       "      <td>Munich(München)</td>\n",
       "      <td>Landtag of Bavaria</td>\n",
       "      <td>Markus Söder (CSU)</td>\n",
       "      <td>CSU, FW</td>\n",
       "      <td>6</td>\n",
       "      <td>70552</td>\n",
       "      <td>13124737</td>\n",
       "      <td>185</td>\n",
       "      <td>0.95</td>\n",
       "      <td>BY</td>\n",
       "      <td>48323</td>\n",
       "    </tr>\n",
       "    <tr>\n",
       "      <th>2</th>\n",
       "      <td>nan</td>\n",
       "      <td>nan</td>\n",
       "      <td>Berlin</td>\n",
       "      <td>1990[11]</td>\n",
       "      <td>–</td>\n",
       "      <td>Abgeordnetenhaus</td>\n",
       "      <td>Michael Müller (SPD)</td>\n",
       "      <td>SPD, The Left, Greens</td>\n",
       "      <td>4</td>\n",
       "      <td>892</td>\n",
       "      <td>3669491</td>\n",
       "      <td>4086</td>\n",
       "      <td>0.95</td>\n",
       "      <td>BE</td>\n",
       "      <td>41967</td>\n",
       "    </tr>\n",
       "    <tr>\n",
       "      <th>3</th>\n",
       "      <td>nan</td>\n",
       "      <td>nan</td>\n",
       "      <td>Brandenburg</td>\n",
       "      <td>1990</td>\n",
       "      <td>Potsdam</td>\n",
       "      <td>Landtag of Brandenburg</td>\n",
       "      <td>Dietmar Woidke (SPD)</td>\n",
       "      <td>SPD, CDU, Greens</td>\n",
       "      <td>4</td>\n",
       "      <td>29479</td>\n",
       "      <td>2521893</td>\n",
       "      <td>85</td>\n",
       "      <td>0.91</td>\n",
       "      <td>BB</td>\n",
       "      <td>29541</td>\n",
       "    </tr>\n",
       "    <tr>\n",
       "      <th>4</th>\n",
       "      <td>nan</td>\n",
       "      <td>nan</td>\n",
       "      <td>Bremen</td>\n",
       "      <td>1949</td>\n",
       "      <td>Bremen</td>\n",
       "      <td>Bürgerschaft of Bremen</td>\n",
       "      <td>Andreas Bovenschulte (SPD)</td>\n",
       "      <td>SPD, Greens, The Left</td>\n",
       "      <td>3</td>\n",
       "      <td>419</td>\n",
       "      <td>681202</td>\n",
       "      <td>1630</td>\n",
       "      <td>0.95</td>\n",
       "      <td>HB</td>\n",
       "      <td>49215</td>\n",
       "    </tr>\n",
       "    <tr>\n",
       "      <th>5</th>\n",
       "      <td>nan</td>\n",
       "      <td>nan</td>\n",
       "      <td>Hamburg</td>\n",
       "      <td>1949</td>\n",
       "      <td>–</td>\n",
       "      <td>Bürgerschaft of Hamburg</td>\n",
       "      <td>Peter Tschentscher (SPD)</td>\n",
       "      <td>SPD, Greens</td>\n",
       "      <td>3</td>\n",
       "      <td>755</td>\n",
       "      <td>1847253</td>\n",
       "      <td>2439</td>\n",
       "      <td>0.97</td>\n",
       "      <td>HH</td>\n",
       "      <td>66879</td>\n",
       "    </tr>\n",
       "    <tr>\n",
       "      <th>6</th>\n",
       "      <td>nan</td>\n",
       "      <td>nan</td>\n",
       "      <td>Hesse(Hessen)</td>\n",
       "      <td>1949</td>\n",
       "      <td>Wiesbaden</td>\n",
       "      <td>Landtag of Hesse</td>\n",
       "      <td>Volker Bouffier (CDU)</td>\n",
       "      <td>CDU, Greens</td>\n",
       "      <td>5</td>\n",
       "      <td>21115</td>\n",
       "      <td>6288080</td>\n",
       "      <td>297</td>\n",
       "      <td>0.95</td>\n",
       "      <td>HE</td>\n",
       "      <td>46923</td>\n",
       "    </tr>\n",
       "    <tr>\n",
       "      <th>7</th>\n",
       "      <td>nan</td>\n",
       "      <td>nan</td>\n",
       "      <td>Lower Saxony(Niedersachsen)</td>\n",
       "      <td>1949</td>\n",
       "      <td>Hanover(Hannover)</td>\n",
       "      <td>Landtag of Lower Saxony</td>\n",
       "      <td>Stephan Weil (SPD)</td>\n",
       "      <td>SPD, CDU</td>\n",
       "      <td>6</td>\n",
       "      <td>47609</td>\n",
       "      <td>7993448</td>\n",
       "      <td>168</td>\n",
       "      <td>0.92</td>\n",
       "      <td>NI</td>\n",
       "      <td>38423</td>\n",
       "    </tr>\n",
       "    <tr>\n",
       "      <th>8</th>\n",
       "      <td>nan</td>\n",
       "      <td>nan</td>\n",
       "      <td>Mecklenburg-Vorpommern</td>\n",
       "      <td>1990</td>\n",
       "      <td>Schwerin</td>\n",
       "      <td>Landtag of Mecklenburg-Vorpommern</td>\n",
       "      <td>Manuela Schwesig (SPD)</td>\n",
       "      <td>SPD, CDU</td>\n",
       "      <td>3</td>\n",
       "      <td>23180</td>\n",
       "      <td>1609675</td>\n",
       "      <td>69</td>\n",
       "      <td>0.91</td>\n",
       "      <td>MV</td>\n",
       "      <td>28940</td>\n",
       "    </tr>\n",
       "    <tr>\n",
       "      <th>9</th>\n",
       "      <td>nan</td>\n",
       "      <td>nan</td>\n",
       "      <td>North Rhine-Westphalia(Nordrhein-Westfalen)</td>\n",
       "      <td>1949</td>\n",
       "      <td>Düsseldorf</td>\n",
       "      <td>Landtag of North Rhine-Westphalia</td>\n",
       "      <td>Armin Laschet (CDU)</td>\n",
       "      <td>CDU, FDP</td>\n",
       "      <td>6</td>\n",
       "      <td>34085</td>\n",
       "      <td>17932651</td>\n",
       "      <td>526</td>\n",
       "      <td>0.94</td>\n",
       "      <td>NW</td>\n",
       "      <td>39678</td>\n",
       "    </tr>\n",
       "    <tr>\n",
       "      <th>10</th>\n",
       "      <td>nan</td>\n",
       "      <td>nan</td>\n",
       "      <td>Rhineland-Palatinate(Rheinland-Pfalz)</td>\n",
       "      <td>1949</td>\n",
       "      <td>Mainz</td>\n",
       "      <td>Landtag of Rhineland-Palatinate</td>\n",
       "      <td>Malu Dreyer (SPD)</td>\n",
       "      <td>SPD, FDP, Greens</td>\n",
       "      <td>4</td>\n",
       "      <td>19853</td>\n",
       "      <td>4084844</td>\n",
       "      <td>206</td>\n",
       "      <td>0.93</td>\n",
       "      <td>RP</td>\n",
       "      <td>35457</td>\n",
       "    </tr>\n",
       "    <tr>\n",
       "      <th>11</th>\n",
       "      <td>nan</td>\n",
       "      <td>nan</td>\n",
       "      <td>Saarland</td>\n",
       "      <td>1957</td>\n",
       "      <td>Saarbrücken</td>\n",
       "      <td>Landtag of Saarland</td>\n",
       "      <td>Tobias Hans (CDU)</td>\n",
       "      <td>CDU, SPD</td>\n",
       "      <td>3</td>\n",
       "      <td>2569</td>\n",
       "      <td>990509</td>\n",
       "      <td>386</td>\n",
       "      <td>0.93</td>\n",
       "      <td>SL</td>\n",
       "      <td>36684</td>\n",
       "    </tr>\n",
       "    <tr>\n",
       "      <th>12</th>\n",
       "      <td>nan</td>\n",
       "      <td>nan</td>\n",
       "      <td>Saxony(Sachsen)</td>\n",
       "      <td>1990</td>\n",
       "      <td>Dresden</td>\n",
       "      <td>Landtag of Saxony</td>\n",
       "      <td>Michael Kretschmer (CDU)</td>\n",
       "      <td>CDU, Greens, SPD</td>\n",
       "      <td>4</td>\n",
       "      <td>18416</td>\n",
       "      <td>4077937</td>\n",
       "      <td>221</td>\n",
       "      <td>0.93</td>\n",
       "      <td>SN</td>\n",
       "      <td>31453</td>\n",
       "    </tr>\n",
       "    <tr>\n",
       "      <th>13</th>\n",
       "      <td>nan</td>\n",
       "      <td>nan</td>\n",
       "      <td>Saxony-Anhalt(Sachsen-Anhalt)</td>\n",
       "      <td>1990</td>\n",
       "      <td>Magdeburg</td>\n",
       "      <td>Landtag of Saxony-Anhalt</td>\n",
       "      <td>Reiner Haseloff (CDU)</td>\n",
       "      <td>CDU, SPD, Greens</td>\n",
       "      <td>4</td>\n",
       "      <td>20446</td>\n",
       "      <td>2208321</td>\n",
       "      <td>108</td>\n",
       "      <td>0.91</td>\n",
       "      <td>ST</td>\n",
       "      <td>28800</td>\n",
       "    </tr>\n",
       "    <tr>\n",
       "      <th>14</th>\n",
       "      <td>nan</td>\n",
       "      <td>nan</td>\n",
       "      <td>Schleswig-Holstein</td>\n",
       "      <td>1949</td>\n",
       "      <td>Kiel</td>\n",
       "      <td>Landtag of Schleswig-Holstein</td>\n",
       "      <td>Daniel Günther (CDU)</td>\n",
       "      <td>CDU, Greens, FDP</td>\n",
       "      <td>4</td>\n",
       "      <td>15799</td>\n",
       "      <td>2896712</td>\n",
       "      <td>183</td>\n",
       "      <td>0.92</td>\n",
       "      <td>SH</td>\n",
       "      <td>33712</td>\n",
       "    </tr>\n",
       "    <tr>\n",
       "      <th>15</th>\n",
       "      <td>nan</td>\n",
       "      <td>nan</td>\n",
       "      <td>Thuringia(Thüringen)</td>\n",
       "      <td>1990</td>\n",
       "      <td>Erfurt</td>\n",
       "      <td>Landtag of Thuringia</td>\n",
       "      <td>Bodo Ramelow (The Left)</td>\n",
       "      <td>The Left, SPD, Greens</td>\n",
       "      <td>4</td>\n",
       "      <td>16172</td>\n",
       "      <td>2143145</td>\n",
       "      <td>133</td>\n",
       "      <td>0.92</td>\n",
       "      <td>TH</td>\n",
       "      <td>29883</td>\n",
       "    </tr>\n",
       "  </tbody>\n",
       "</table>\n",
       "</div>"
      ],
      "text/plain": [
       "    Coat of arms  Flag                                        State     Since  \\\n",
       "0            nan   nan                            Baden-Württemberg  1952[10]   \n",
       "1            nan   nan                              Bavaria(Bayern)      1949   \n",
       "2            nan   nan                                       Berlin  1990[11]   \n",
       "3            nan   nan                                  Brandenburg      1990   \n",
       "4            nan   nan                                       Bremen      1949   \n",
       "5            nan   nan                                      Hamburg      1949   \n",
       "6            nan   nan                                Hesse(Hessen)      1949   \n",
       "7            nan   nan                  Lower Saxony(Niedersachsen)      1949   \n",
       "8            nan   nan                       Mecklenburg-Vorpommern      1990   \n",
       "9            nan   nan  North Rhine-Westphalia(Nordrhein-Westfalen)      1949   \n",
       "10           nan   nan        Rhineland-Palatinate(Rheinland-Pfalz)      1949   \n",
       "11           nan   nan                                     Saarland      1957   \n",
       "12           nan   nan                              Saxony(Sachsen)      1990   \n",
       "13           nan   nan                Saxony-Anhalt(Sachsen-Anhalt)      1990   \n",
       "14           nan   nan                           Schleswig-Holstein      1949   \n",
       "15           nan   nan                         Thuringia(Thüringen)      1990   \n",
       "\n",
       "              Capital                        Legislature  \\\n",
       "0           Stuttgart       Landtag of Baden-Württemberg   \n",
       "1     Munich(München)                 Landtag of Bavaria   \n",
       "2                   –                   Abgeordnetenhaus   \n",
       "3             Potsdam             Landtag of Brandenburg   \n",
       "4              Bremen             Bürgerschaft of Bremen   \n",
       "5                   –            Bürgerschaft of Hamburg   \n",
       "6           Wiesbaden                   Landtag of Hesse   \n",
       "7   Hanover(Hannover)            Landtag of Lower Saxony   \n",
       "8            Schwerin  Landtag of Mecklenburg-Vorpommern   \n",
       "9          Düsseldorf  Landtag of North Rhine-Westphalia   \n",
       "10              Mainz    Landtag of Rhineland-Palatinate   \n",
       "11        Saarbrücken                Landtag of Saarland   \n",
       "12            Dresden                  Landtag of Saxony   \n",
       "13          Magdeburg           Landtag of Saxony-Anhalt   \n",
       "14               Kiel      Landtag of Schleswig-Holstein   \n",
       "15             Erfurt               Landtag of Thuringia   \n",
       "\n",
       "               Head of government    Governmentcoalition  Bundesrat votes  \\\n",
       "0   Winfried Kretschmann (Greens)            Greens, CDU                6   \n",
       "1              Markus Söder (CSU)                CSU, FW                6   \n",
       "2            Michael Müller (SPD)  SPD, The Left, Greens                4   \n",
       "3            Dietmar Woidke (SPD)       SPD, CDU, Greens                4   \n",
       "4      Andreas Bovenschulte (SPD)  SPD, Greens, The Left                3   \n",
       "5        Peter Tschentscher (SPD)            SPD, Greens                3   \n",
       "6           Volker Bouffier (CDU)            CDU, Greens                5   \n",
       "7              Stephan Weil (SPD)               SPD, CDU                6   \n",
       "8          Manuela Schwesig (SPD)               SPD, CDU                3   \n",
       "9             Armin Laschet (CDU)               CDU, FDP                6   \n",
       "10              Malu Dreyer (SPD)       SPD, FDP, Greens                4   \n",
       "11              Tobias Hans (CDU)               CDU, SPD                3   \n",
       "12       Michael Kretschmer (CDU)       CDU, Greens, SPD                4   \n",
       "13          Reiner Haseloff (CDU)       CDU, SPD, Greens                4   \n",
       "14           Daniel Günther (CDU)       CDU, Greens, FDP                4   \n",
       "15        Bodo Ramelow (The Left)  The Left, SPD, Greens                4   \n",
       "\n",
       "    Area(km2)  Population(Dec. 2019)[7]  Pop.per km2  HDI(2018)[8]  \\\n",
       "0       35752                  11100394          310          0.95   \n",
       "1       70552                  13124737          185          0.95   \n",
       "2         892                   3669491         4086          0.95   \n",
       "3       29479                   2521893           85          0.91   \n",
       "4         419                    681202         1630          0.95   \n",
       "5         755                   1847253         2439          0.97   \n",
       "6       21115                   6288080          297          0.95   \n",
       "7       47609                   7993448          168          0.92   \n",
       "8       23180                   1609675           69          0.91   \n",
       "9       34085                  17932651          526          0.94   \n",
       "10      19853                   4084844          206          0.93   \n",
       "11       2569                    990509          386          0.93   \n",
       "12      18416                   4077937          221          0.93   \n",
       "13      20446                   2208321          108          0.91   \n",
       "14      15799                   2896712          183          0.92   \n",
       "15      16172                   2143145          133          0.92   \n",
       "\n",
       "   ISO3166-2code  GDP per capita in Euro (2018)[9]  \n",
       "0             BW                             47290  \n",
       "1             BY                             48323  \n",
       "2             BE                             41967  \n",
       "3             BB                             29541  \n",
       "4             HB                             49215  \n",
       "5             HH                             66879  \n",
       "6             HE                             46923  \n",
       "7             NI                             38423  \n",
       "8             MV                             28940  \n",
       "9             NW                             39678  \n",
       "10            RP                             35457  \n",
       "11            SL                             36684  \n",
       "12            SN                             31453  \n",
       "13            ST                             28800  \n",
       "14            SH                             33712  \n",
       "15            TH                             29883  "
      ]
     },
     "execution_count": 100,
     "metadata": {},
     "output_type": "execute_result"
    }
   ],
   "source": [
    "states = german_states[5]\n",
    "states"
   ]
  },
  {
   "cell_type": "code",
   "execution_count": 101,
   "metadata": {},
   "outputs": [
    {
     "data": {
      "text/html": [
       "<div>\n",
       "<style scoped>\n",
       "    .dataframe tbody tr th:only-of-type {\n",
       "        vertical-align: middle;\n",
       "    }\n",
       "\n",
       "    .dataframe tbody tr th {\n",
       "        vertical-align: top;\n",
       "    }\n",
       "\n",
       "    .dataframe thead th {\n",
       "        text-align: right;\n",
       "    }\n",
       "</style>\n",
       "<table border=\"1\" class=\"dataframe\">\n",
       "  <thead>\n",
       "    <tr style=\"text-align: right;\">\n",
       "      <th></th>\n",
       "      <th>State</th>\n",
       "      <th>Area(km2)</th>\n",
       "      <th>Population(Dec. 2019)[7]</th>\n",
       "      <th>Pop.per km2</th>\n",
       "      <th>GDP per capita in Euro (2018)[9]</th>\n",
       "      <th>HDI(2018)[8]</th>\n",
       "    </tr>\n",
       "  </thead>\n",
       "  <tbody>\n",
       "    <tr>\n",
       "      <th>0</th>\n",
       "      <td>Baden-Württemberg</td>\n",
       "      <td>35752</td>\n",
       "      <td>11100394</td>\n",
       "      <td>310</td>\n",
       "      <td>47290</td>\n",
       "      <td>0.95</td>\n",
       "    </tr>\n",
       "    <tr>\n",
       "      <th>1</th>\n",
       "      <td>Bavaria(Bayern)</td>\n",
       "      <td>70552</td>\n",
       "      <td>13124737</td>\n",
       "      <td>185</td>\n",
       "      <td>48323</td>\n",
       "      <td>0.95</td>\n",
       "    </tr>\n",
       "    <tr>\n",
       "      <th>2</th>\n",
       "      <td>Berlin</td>\n",
       "      <td>892</td>\n",
       "      <td>3669491</td>\n",
       "      <td>4086</td>\n",
       "      <td>41967</td>\n",
       "      <td>0.95</td>\n",
       "    </tr>\n",
       "    <tr>\n",
       "      <th>3</th>\n",
       "      <td>Brandenburg</td>\n",
       "      <td>29479</td>\n",
       "      <td>2521893</td>\n",
       "      <td>85</td>\n",
       "      <td>29541</td>\n",
       "      <td>0.91</td>\n",
       "    </tr>\n",
       "    <tr>\n",
       "      <th>4</th>\n",
       "      <td>Bremen</td>\n",
       "      <td>419</td>\n",
       "      <td>681202</td>\n",
       "      <td>1630</td>\n",
       "      <td>49215</td>\n",
       "      <td>0.95</td>\n",
       "    </tr>\n",
       "  </tbody>\n",
       "</table>\n",
       "</div>"
      ],
      "text/plain": [
       "               State  Area(km2)  Population(Dec. 2019)[7]  Pop.per km2  \\\n",
       "0  Baden-Württemberg      35752                  11100394          310   \n",
       "1    Bavaria(Bayern)      70552                  13124737          185   \n",
       "2             Berlin        892                   3669491         4086   \n",
       "3        Brandenburg      29479                   2521893           85   \n",
       "4             Bremen        419                    681202         1630   \n",
       "\n",
       "   GDP per capita in Euro (2018)[9]  HDI(2018)[8]  \n",
       "0                             47290          0.95  \n",
       "1                             48323          0.95  \n",
       "2                             41967          0.95  \n",
       "3                             29541          0.91  \n",
       "4                             49215          0.95  "
      ]
     },
     "execution_count": 101,
     "metadata": {},
     "output_type": "execute_result"
    }
   ],
   "source": [
    "state_features = states[['State', 'Area(km2)', 'Population(Dec. 2019)[7]', 'Pop.per km2', 'GDP per capita in Euro (2018)[9]', 'HDI(2018)[8]']]\n",
    "state_features.head()"
   ]
  },
  {
   "cell_type": "code",
   "execution_count": 102,
   "metadata": {
    "scrolled": true
   },
   "outputs": [
    {
     "data": {
      "text/html": [
       "<div>\n",
       "<style scoped>\n",
       "    .dataframe tbody tr th:only-of-type {\n",
       "        vertical-align: middle;\n",
       "    }\n",
       "\n",
       "    .dataframe tbody tr th {\n",
       "        vertical-align: top;\n",
       "    }\n",
       "\n",
       "    .dataframe thead th {\n",
       "        text-align: right;\n",
       "    }\n",
       "</style>\n",
       "<table border=\"1\" class=\"dataframe\">\n",
       "  <thead>\n",
       "    <tr style=\"text-align: right;\">\n",
       "      <th></th>\n",
       "      <th>State</th>\n",
       "      <th>area_km2</th>\n",
       "      <th>population_2019</th>\n",
       "      <th>population_per_km2</th>\n",
       "      <th>gdp_per_capita_2018</th>\n",
       "      <th>hdi</th>\n",
       "    </tr>\n",
       "  </thead>\n",
       "  <tbody>\n",
       "    <tr>\n",
       "      <th>0</th>\n",
       "      <td>Baden-Württemberg</td>\n",
       "      <td>35752</td>\n",
       "      <td>11100394</td>\n",
       "      <td>310</td>\n",
       "      <td>47290</td>\n",
       "      <td>0.95</td>\n",
       "    </tr>\n",
       "    <tr>\n",
       "      <th>1</th>\n",
       "      <td>Bavaria(Bayern)</td>\n",
       "      <td>70552</td>\n",
       "      <td>13124737</td>\n",
       "      <td>185</td>\n",
       "      <td>48323</td>\n",
       "      <td>0.95</td>\n",
       "    </tr>\n",
       "    <tr>\n",
       "      <th>2</th>\n",
       "      <td>Berlin</td>\n",
       "      <td>892</td>\n",
       "      <td>3669491</td>\n",
       "      <td>4086</td>\n",
       "      <td>41967</td>\n",
       "      <td>0.95</td>\n",
       "    </tr>\n",
       "    <tr>\n",
       "      <th>3</th>\n",
       "      <td>Brandenburg</td>\n",
       "      <td>29479</td>\n",
       "      <td>2521893</td>\n",
       "      <td>85</td>\n",
       "      <td>29541</td>\n",
       "      <td>0.91</td>\n",
       "    </tr>\n",
       "    <tr>\n",
       "      <th>4</th>\n",
       "      <td>Bremen</td>\n",
       "      <td>419</td>\n",
       "      <td>681202</td>\n",
       "      <td>1630</td>\n",
       "      <td>49215</td>\n",
       "      <td>0.95</td>\n",
       "    </tr>\n",
       "  </tbody>\n",
       "</table>\n",
       "</div>"
      ],
      "text/plain": [
       "               State  area_km2  population_2019  population_per_km2  \\\n",
       "0  Baden-Württemberg     35752         11100394                 310   \n",
       "1    Bavaria(Bayern)     70552         13124737                 185   \n",
       "2             Berlin       892          3669491                4086   \n",
       "3        Brandenburg     29479          2521893                  85   \n",
       "4             Bremen       419           681202                1630   \n",
       "\n",
       "   gdp_per_capita_2018  hdi  \n",
       "0                47290 0.95  \n",
       "1                48323 0.95  \n",
       "2                41967 0.95  \n",
       "3                29541 0.91  \n",
       "4                49215 0.95  "
      ]
     },
     "execution_count": 102,
     "metadata": {},
     "output_type": "execute_result"
    }
   ],
   "source": [
    "state_features.columns = ['State', 'area_km2', 'population_2019', 'population_per_km2', 'gdp_per_capita_2018', 'hdi']\n",
    "state_features.head()"
   ]
  },
  {
   "cell_type": "code",
   "execution_count": 103,
   "metadata": {},
   "outputs": [],
   "source": [
    "#Load German states information\n",
    "path_economic = 'https://en.wikipedia.org/wiki/List_of_German_states_by_GRP'\n",
    "state_economic = pd.read_html(path_economic)"
   ]
  },
  {
   "cell_type": "code",
   "execution_count": 104,
   "metadata": {
    "scrolled": false
   },
   "outputs": [
    {
     "data": {
      "text/html": [
       "<div>\n",
       "<style scoped>\n",
       "    .dataframe tbody tr th:only-of-type {\n",
       "        vertical-align: middle;\n",
       "    }\n",
       "\n",
       "    .dataframe tbody tr th {\n",
       "        vertical-align: top;\n",
       "    }\n",
       "\n",
       "    .dataframe thead th {\n",
       "        text-align: right;\n",
       "    }\n",
       "</style>\n",
       "<table border=\"1\" class=\"dataframe\">\n",
       "  <thead>\n",
       "    <tr style=\"text-align: right;\">\n",
       "      <th></th>\n",
       "      <th>States</th>\n",
       "      <th>Rank</th>\n",
       "      <th>GRP (in billions EUR€)</th>\n",
       "      <th>Share of GDP (%)</th>\n",
       "      <th>Comparable economy</th>\n",
       "    </tr>\n",
       "  </thead>\n",
       "  <tbody>\n",
       "    <tr>\n",
       "      <th>0</th>\n",
       "      <td>Germany</td>\n",
       "      <td>—</td>\n",
       "      <td>3332.23</td>\n",
       "      <td>100.00</td>\n",
       "      <td>-</td>\n",
       "    </tr>\n",
       "    <tr>\n",
       "      <th>1</th>\n",
       "      <td>North Rhine-Westphalia</td>\n",
       "      <td>1</td>\n",
       "      <td>697.13</td>\n",
       "      <td>20.90</td>\n",
       "      <td>Switzerland</td>\n",
       "    </tr>\n",
       "    <tr>\n",
       "      <th>2</th>\n",
       "      <td>Bavaria</td>\n",
       "      <td>2</td>\n",
       "      <td>610.22</td>\n",
       "      <td>18.30</td>\n",
       "      <td>Switzerland</td>\n",
       "    </tr>\n",
       "    <tr>\n",
       "      <th>3</th>\n",
       "      <td>Baden-Württemberg</td>\n",
       "      <td>3</td>\n",
       "      <td>500.79</td>\n",
       "      <td>15.00</td>\n",
       "      <td>Sweden</td>\n",
       "    </tr>\n",
       "    <tr>\n",
       "      <th>4</th>\n",
       "      <td>Lower Saxony</td>\n",
       "      <td>4</td>\n",
       "      <td>295.90</td>\n",
       "      <td>8.90</td>\n",
       "      <td>Denmark</td>\n",
       "    </tr>\n",
       "  </tbody>\n",
       "</table>\n",
       "</div>"
      ],
      "text/plain": [
       "                   States Rank  GRP (in billions EUR€)  Share of GDP (%)  \\\n",
       "0                 Germany    —                 3332.23            100.00   \n",
       "1  North Rhine-Westphalia    1                  697.13             20.90   \n",
       "2                 Bavaria    2                  610.22             18.30   \n",
       "3       Baden-Württemberg    3                  500.79             15.00   \n",
       "4            Lower Saxony    4                  295.90              8.90   \n",
       "\n",
       "  Comparable economy  \n",
       "0                  -  \n",
       "1        Switzerland  \n",
       "2        Switzerland  \n",
       "3             Sweden  \n",
       "4            Denmark  "
      ]
     },
     "execution_count": 104,
     "metadata": {},
     "output_type": "execute_result"
    }
   ],
   "source": [
    "economy_2020 = state_economic[0]\n",
    "economy_2020.head()"
   ]
  },
  {
   "cell_type": "code",
   "execution_count": 105,
   "metadata": {
    "scrolled": true
   },
   "outputs": [
    {
     "data": {
      "text/html": [
       "<div>\n",
       "<style scoped>\n",
       "    .dataframe tbody tr th:only-of-type {\n",
       "        vertical-align: middle;\n",
       "    }\n",
       "\n",
       "    .dataframe tbody tr th {\n",
       "        vertical-align: top;\n",
       "    }\n",
       "\n",
       "    .dataframe thead th {\n",
       "        text-align: right;\n",
       "    }\n",
       "</style>\n",
       "<table border=\"1\" class=\"dataframe\">\n",
       "  <thead>\n",
       "    <tr style=\"text-align: right;\">\n",
       "      <th></th>\n",
       "      <th>States</th>\n",
       "      <th>Rank</th>\n",
       "      <th>GRP (in billions EUR€)</th>\n",
       "      <th>Share of GDP (%)</th>\n",
       "      <th>Comparable economy</th>\n",
       "    </tr>\n",
       "  </thead>\n",
       "  <tbody>\n",
       "    <tr>\n",
       "      <th>0</th>\n",
       "      <td>Germany</td>\n",
       "      <td>—</td>\n",
       "      <td>3435.76</td>\n",
       "      <td>100.00</td>\n",
       "      <td>-</td>\n",
       "    </tr>\n",
       "    <tr>\n",
       "      <th>1</th>\n",
       "      <td>North Rhine-Westphalia</td>\n",
       "      <td>1</td>\n",
       "      <td>711.42</td>\n",
       "      <td>21.20</td>\n",
       "      <td>Netherlands</td>\n",
       "    </tr>\n",
       "    <tr>\n",
       "      <th>2</th>\n",
       "      <td>Bavaria</td>\n",
       "      <td>2</td>\n",
       "      <td>632.90</td>\n",
       "      <td>18.20</td>\n",
       "      <td>Switzerland</td>\n",
       "    </tr>\n",
       "    <tr>\n",
       "      <th>3</th>\n",
       "      <td>Baden-Württemberg</td>\n",
       "      <td>3</td>\n",
       "      <td>524.33</td>\n",
       "      <td>15.10</td>\n",
       "      <td>Poland</td>\n",
       "    </tr>\n",
       "    <tr>\n",
       "      <th>4</th>\n",
       "      <td>Lower Saxony</td>\n",
       "      <td>4</td>\n",
       "      <td>307.04</td>\n",
       "      <td>8.80</td>\n",
       "      <td>Denmark</td>\n",
       "    </tr>\n",
       "  </tbody>\n",
       "</table>\n",
       "</div>"
      ],
      "text/plain": [
       "                   States Rank  GRP (in billions EUR€)  Share of GDP (%)  \\\n",
       "0                 Germany    —                 3435.76            100.00   \n",
       "1  North Rhine-Westphalia    1                  711.42             21.20   \n",
       "2                 Bavaria    2                  632.90             18.20   \n",
       "3       Baden-Württemberg    3                  524.33             15.10   \n",
       "4            Lower Saxony    4                  307.04              8.80   \n",
       "\n",
       "  Comparable economy  \n",
       "0                  -  \n",
       "1        Netherlands  \n",
       "2        Switzerland  \n",
       "3             Poland  \n",
       "4            Denmark  "
      ]
     },
     "execution_count": 105,
     "metadata": {},
     "output_type": "execute_result"
    }
   ],
   "source": [
    "economy_2019 = state_economic[1]\n",
    "economy_2019.head()"
   ]
  },
  {
   "cell_type": "code",
   "execution_count": 106,
   "metadata": {},
   "outputs": [
    {
     "data": {
      "text/plain": [
       "(266572, 30)"
      ]
     },
     "execution_count": 106,
     "metadata": {},
     "output_type": "execute_result"
    }
   ],
   "source": [
    "rentals.shape"
   ]
  },
  {
   "cell_type": "markdown",
   "metadata": {},
   "source": [
    "## 5.10 Target feature "
   ]
  },
  {
   "cell_type": "code",
   "execution_count": 107,
   "metadata": {
    "scrolled": true
   },
   "outputs": [
    {
     "data": {
      "image/png": "[encoded data removed]",
      "text/plain": [
       "<Figure size 432x288 with 1 Axes>"
      ]
     },
     "metadata": {
      "needs_background": "light"
     },
     "output_type": "display_data"
    }
   ],
   "source": [
    "_= sns.scatterplot(x = 'totalRent', y = 'baseRent', data = rentals)\n",
    "_= plt.xlabel('Total Rent (euros)')\n",
    "_= plt.ylabel('Base Rent (euros)')"
   ]
  },
  {
   "cell_type": "code",
   "execution_count": 108,
   "metadata": {
    "scrolled": false
   },
   "outputs": [
    {
     "data": {
      "text/html": [
       "<div>\n",
       "<style scoped>\n",
       "    .dataframe tbody tr th:only-of-type {\n",
       "        vertical-align: middle;\n",
       "    }\n",
       "\n",
       "    .dataframe tbody tr th {\n",
       "        vertical-align: top;\n",
       "    }\n",
       "\n",
       "    .dataframe thead th {\n",
       "        text-align: right;\n",
       "    }\n",
       "</style>\n",
       "<table border=\"1\" class=\"dataframe\">\n",
       "  <thead>\n",
       "    <tr style=\"text-align: right;\">\n",
       "      <th></th>\n",
       "      <th>baseRent</th>\n",
       "      <th>baseRent_per_sqm</th>\n",
       "      <th>totalRent</th>\n",
       "      <th>totalRent_per_sqm</th>\n",
       "      <th>livingSpace</th>\n",
       "    </tr>\n",
       "  </thead>\n",
       "  <tbody>\n",
       "    <tr>\n",
       "      <th>0</th>\n",
       "      <td>595.00</td>\n",
       "      <td>6.92</td>\n",
       "      <td>840.00</td>\n",
       "      <td>9.77</td>\n",
       "      <td>86.00</td>\n",
       "    </tr>\n",
       "    <tr>\n",
       "      <th>1</th>\n",
       "      <td>800.00</td>\n",
       "      <td>8.99</td>\n",
       "      <td>nan</td>\n",
       "      <td>nan</td>\n",
       "      <td>89.00</td>\n",
       "    </tr>\n",
       "    <tr>\n",
       "      <th>2</th>\n",
       "      <td>965.00</td>\n",
       "      <td>11.52</td>\n",
       "      <td>1300.00</td>\n",
       "      <td>15.51</td>\n",
       "      <td>83.80</td>\n",
       "    </tr>\n",
       "    <tr>\n",
       "      <th>3</th>\n",
       "      <td>343.00</td>\n",
       "      <td>5.90</td>\n",
       "      <td>nan</td>\n",
       "      <td>nan</td>\n",
       "      <td>58.15</td>\n",
       "    </tr>\n",
       "    <tr>\n",
       "      <th>4</th>\n",
       "      <td>765.00</td>\n",
       "      <td>9.00</td>\n",
       "      <td>903.00</td>\n",
       "      <td>10.63</td>\n",
       "      <td>84.97</td>\n",
       "    </tr>\n",
       "  </tbody>\n",
       "</table>\n",
       "</div>"
      ],
      "text/plain": [
       "   baseRent  baseRent_per_sqm  totalRent  totalRent_per_sqm  livingSpace\n",
       "0    595.00              6.92     840.00               9.77        86.00\n",
       "1    800.00              8.99        nan                nan        89.00\n",
       "2    965.00             11.52    1300.00              15.51        83.80\n",
       "3    343.00              5.90        nan                nan        58.15\n",
       "4    765.00              9.00     903.00              10.63        84.97"
      ]
     },
     "execution_count": 108,
     "metadata": {},
     "output_type": "execute_result"
    }
   ],
   "source": [
    "rentals['baseRent_per_sqm'] = rentals['baseRent'] / rentals['livingSpace']\n",
    "rentals['totalRent_per_sqm'] = rentals['totalRent'] / rentals['livingSpace']\n",
    "rentals[['baseRent', 'baseRent_per_sqm', 'totalRent', 'totalRent_per_sqm', 'livingSpace']].head()"
   ]
  },
  {
   "cell_type": "code",
   "execution_count": 109,
   "metadata": {
    "scrolled": false
   },
   "outputs": [
    {
     "data": {
      "image/png": "[encoded data removed]",
      "text/plain": [
       "<Figure size 720x720 with 4 Axes>"
      ]
     },
     "metadata": {
      "needs_background": "light"
     },
     "output_type": "display_data"
    }
   ],
   "source": [
    "fig, ax = plt.subplots(figsize = (10, 10))\n",
    "\n",
    "plt.subplot(2,2, 1)\n",
    "_= sns.scatterplot(x = 'livingSpace', y = 'totalRent', data = rentals)\n",
    "_= plt.xlabel('sqm')\n",
    "_= plt.ylabel('euros')\n",
    "_= plt.title('totalRent versus livingSpace')\n",
    "\n",
    "plt.subplot(2,2, 2)\n",
    "_= sns.scatterplot(x = 'livingSpace', y = 'baseRent', data = rentals)\n",
    "_= plt.xlabel('sqm')\n",
    "_= plt.ylabel('euros')\n",
    "_= plt.title('baseRent versus livingSpace')\n",
    "\n",
    "plt.subplot(2,2, 3)\n",
    "_= sns.scatterplot(x = 'livingSpace', y = 'totalRent_per_sqm', data = rentals)\n",
    "_= plt.xlabel('sqm')\n",
    "_= plt.ylabel('euros / sqm')\n",
    "_= plt.title('totalRent per sqm versus livingSpace')\n",
    "\n",
    "plt.subplot(2,2, 4)\n",
    "_= sns.scatterplot(x = 'livingSpace', y = 'baseRent_per_sqm', data = rentals)\n",
    "_= plt.xlabel('sqm')\n",
    "_= plt.ylabel('euros / sqm')\n",
    "_= plt.title('baseRent versus livingSpace')\n",
    "\n",
    "fig.tight_layout()\n",
    "plt.show()"
   ]
  },
  {
   "cell_type": "code",
   "execution_count": 111,
   "metadata": {},
   "outputs": [
    {
     "data": {
      "text/plain": [
       "count   266545.00\n",
       "mean          inf\n",
       "std           nan\n",
       "min          0.00\n",
       "25%          5.62\n",
       "50%          7.38\n",
       "75%         10.18\n",
       "max           inf\n",
       "Name: baseRent_per_sqm, dtype: float64"
      ]
     },
     "execution_count": 111,
     "metadata": {},
     "output_type": "execute_result"
    }
   ],
   "source": [
    "rentals.baseRent_per_sqm.describe()"
   ]
  },
  {
   "cell_type": "code",
   "execution_count": null,
   "metadata": {},
   "outputs": [],
   "source": [
    "_= sns.scatterplot(x = 'livingSpace', y = 'baseRent_per_sqm', data = rentals)\n",
    "_= plt.xlabel('sqm')\n",
    "_= plt.ylabel('euros / sqm')\n",
    "_= plt.title('baseRent versus livingSpace')"
   ]
  },
  {
   "cell_type": "markdown",
   "metadata": {},
   "source": [
    "# 6. Saving New Dataframe"
   ]
  },
  {
   "cell_type": "code",
   "execution_count": null,
   "metadata": {},
   "outputs": [],
   "source": [
    "datapath = '..\\data\\processed'\n",
    "# renaming the output data directory and re-running this notebook, for example,\n",
    "# will recreate this (empty) directory and resave the data files.\n",
    "# NB this is not a substitute for a modern data pipeline, for which there are\n",
    "# various tools. However, for our purposes here, and often in a \"one off\" analysis,\n",
    "# this is useful because we have to deliberately move/delete our data in order\n",
    "# to overwrite it.\n",
    "if not os.path.exists(datapath):\n",
    "    os.mkdir(datapath)"
   ]
  },
  {
   "cell_type": "code",
   "execution_count": null,
   "metadata": {},
   "outputs": [],
   "source": [
    "datapath_rentals = os.path.join(datapath, 'rentals_cleaned4.csv')\n",
    "if not os.path.exists(datapath_rentals):\n",
    "    rentals.to_csv(datapath_rentals, index=False)"
   ]
  },
  {
   "cell_type": "code",
   "execution_count": null,
   "metadata": {},
   "outputs": [],
   "source": [
    "datapath_state_features = os.path.join(datapath, 'state_features.csv')\n",
    "if not os.path.exists(datapath_state_features):\n",
    "    state_features.to_csv(datapath_state_features, index=False)"
   ]
  }
 ],
 "metadata": {
  "kernelspec": {
   "display_name": "Python 3",
   "language": "python",
   "name": "python3"
  },
  "language_info": {
   "codemirror_mode": {
    "name": "ipython",
    "version": 3
   },
   "file_extension": ".py",
   "mimetype": "text/x-python",
   "name": "python",
   "nbconvert_exporter": "python",
   "pygments_lexer": "ipython3",
   "version": "3.8.3"
  }
 },
 "nbformat": 4,
 "nbformat_minor": 4
}
