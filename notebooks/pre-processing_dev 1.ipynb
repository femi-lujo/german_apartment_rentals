{
 "cells": [
  {
   "cell_type": "code",
   "execution_count": 44,
   "metadata": {
    "scrolled": true
   },
   "outputs": [],
   "source": [
    "import numpy as np\n",
    "import pandas as pd\n",
    "import matplotlib.pyplot as plt\n",
    "import seaborn as sns\n",
    "import os\n",
    "import statsmodels\n",
    "import statsmodels.api as sm\n",
    "from statsmodels.formula.api import ols\n",
    "import missingno as msno\n",
    "from sklearn.impute import KNNImputer\n",
    "from sklearn.preprocessing import OrdinalEncoder\n",
    "from sklearn.model_selection import train_test_split\n",
    "from datetime import datetime\n",
    "from sklearn.neighbors import NearestNeighbors\n",
    "from sklearn.impute import SimpleImputer\n",
    "from sklearn.linear_model import LinearRegression, Ridge, Lasso\n",
    "from sklearn.model_selection import cross_val_score, GridSearchCV\n",
    "from sklearn.pipeline import Pipeline\n",
    "from sklearn.preprocessing import OneHotEncoder, StandardScaler"
   ]
  },
  {
   "cell_type": "code",
   "execution_count": 45,
   "metadata": {},
   "outputs": [],
   "source": [
    "read = pd.read_csv('..\\data\\interim\\\\rentals_processing.csv', parse_dates = ['yearConstructed', 'date'])"
   ]
  },
  {
   "cell_type": "code",
   "execution_count": 46,
   "metadata": {},
   "outputs": [],
   "source": [
    "rentals = read.copy()"
   ]
  },
  {
   "cell_type": "code",
   "execution_count": 47,
   "metadata": {},
   "outputs": [
    {
     "data": {
      "text/plain": [
       "(266220, 33)"
      ]
     },
     "execution_count": 47,
     "metadata": {},
     "output_type": "execute_result"
    }
   ],
   "source": [
    "rentals.shape"
   ]
  },
  {
   "cell_type": "code",
   "execution_count": 48,
   "metadata": {
    "scrolled": false
   },
   "outputs": [
    {
     "data": {
      "text/html": [
       "<div>\n",
       "<style scoped>\n",
       "    .dataframe tbody tr th:only-of-type {\n",
       "        vertical-align: middle;\n",
       "    }\n",
       "\n",
       "    .dataframe tbody tr th {\n",
       "        vertical-align: top;\n",
       "    }\n",
       "\n",
       "    .dataframe thead th {\n",
       "        text-align: right;\n",
       "    }\n",
       "</style>\n",
       "<table border=\"1\" class=\"dataframe\">\n",
       "  <thead>\n",
       "    <tr style=\"text-align: right;\">\n",
       "      <th></th>\n",
       "      <th>state</th>\n",
       "      <th>serviceCharge</th>\n",
       "      <th>heatingType</th>\n",
       "      <th>telekomTvOffer</th>\n",
       "      <th>newlyConst</th>\n",
       "      <th>balcony</th>\n",
       "      <th>telekomUploadSpeed</th>\n",
       "      <th>yearConstructed</th>\n",
       "      <th>firingTypes</th>\n",
       "      <th>hasKitchen</th>\n",
       "      <th>...</th>\n",
       "      <th>rent_per_sqm</th>\n",
       "      <th>area_km2</th>\n",
       "      <th>population_2019</th>\n",
       "      <th>population_per_km2</th>\n",
       "      <th>gdp_per_capita_2018</th>\n",
       "      <th>hdi</th>\n",
       "      <th>total_state_listings</th>\n",
       "      <th>total_state_sqm</th>\n",
       "      <th>listings_per_1000capita</th>\n",
       "      <th>listings_per_100sqm</th>\n",
       "    </tr>\n",
       "  </thead>\n",
       "  <tbody>\n",
       "    <tr>\n",
       "      <th>0</th>\n",
       "      <td>Nordrhein_Westfalen</td>\n",
       "      <td>245.0</td>\n",
       "      <td>central_heating</td>\n",
       "      <td>ONE_YEAR_FREE</td>\n",
       "      <td>False</td>\n",
       "      <td>False</td>\n",
       "      <td>10.0</td>\n",
       "      <td>1965-01-01</td>\n",
       "      <td>oil</td>\n",
       "      <td>False</td>\n",
       "      <td>...</td>\n",
       "      <td>6.918605</td>\n",
       "      <td>34085</td>\n",
       "      <td>17932651</td>\n",
       "      <td>526</td>\n",
       "      <td>39678</td>\n",
       "      <td>0.936</td>\n",
       "      <td>62069</td>\n",
       "      <td>4615660.71</td>\n",
       "      <td>3.461228</td>\n",
       "      <td>1.344748</td>\n",
       "    </tr>\n",
       "    <tr>\n",
       "      <th>1</th>\n",
       "      <td>Nordrhein_Westfalen</td>\n",
       "      <td>95.0</td>\n",
       "      <td>self_contained_central_heating</td>\n",
       "      <td>ONE_YEAR_FREE</td>\n",
       "      <td>False</td>\n",
       "      <td>False</td>\n",
       "      <td>40.0</td>\n",
       "      <td>1953-01-01</td>\n",
       "      <td>gas</td>\n",
       "      <td>False</td>\n",
       "      <td>...</td>\n",
       "      <td>5.000000</td>\n",
       "      <td>34085</td>\n",
       "      <td>17932651</td>\n",
       "      <td>526</td>\n",
       "      <td>39678</td>\n",
       "      <td>0.936</td>\n",
       "      <td>62069</td>\n",
       "      <td>4615660.71</td>\n",
       "      <td>3.461228</td>\n",
       "      <td>1.344748</td>\n",
       "    </tr>\n",
       "    <tr>\n",
       "      <th>2</th>\n",
       "      <td>Nordrhein_Westfalen</td>\n",
       "      <td>200.0</td>\n",
       "      <td>central_heating</td>\n",
       "      <td>ONE_YEAR_FREE</td>\n",
       "      <td>False</td>\n",
       "      <td>False</td>\n",
       "      <td>40.0</td>\n",
       "      <td>1951-01-01</td>\n",
       "      <td>oil</td>\n",
       "      <td>False</td>\n",
       "      <td>...</td>\n",
       "      <td>7.696047</td>\n",
       "      <td>34085</td>\n",
       "      <td>17932651</td>\n",
       "      <td>526</td>\n",
       "      <td>39678</td>\n",
       "      <td>0.936</td>\n",
       "      <td>62069</td>\n",
       "      <td>4615660.71</td>\n",
       "      <td>3.461228</td>\n",
       "      <td>1.344748</td>\n",
       "    </tr>\n",
       "    <tr>\n",
       "      <th>3</th>\n",
       "      <td>Nordrhein_Westfalen</td>\n",
       "      <td>215.0</td>\n",
       "      <td>gas_heating</td>\n",
       "      <td>ONE_YEAR_FREE</td>\n",
       "      <td>True</td>\n",
       "      <td>True</td>\n",
       "      <td>2.4</td>\n",
       "      <td>2018-01-01</td>\n",
       "      <td>gas</td>\n",
       "      <td>False</td>\n",
       "      <td>...</td>\n",
       "      <td>11.179310</td>\n",
       "      <td>34085</td>\n",
       "      <td>17932651</td>\n",
       "      <td>526</td>\n",
       "      <td>39678</td>\n",
       "      <td>0.936</td>\n",
       "      <td>62069</td>\n",
       "      <td>4615660.71</td>\n",
       "      <td>3.461228</td>\n",
       "      <td>1.344748</td>\n",
       "    </tr>\n",
       "    <tr>\n",
       "      <th>4</th>\n",
       "      <td>Nordrhein_Westfalen</td>\n",
       "      <td>121.0</td>\n",
       "      <td>central_heating</td>\n",
       "      <td>ONE_YEAR_FREE</td>\n",
       "      <td>False</td>\n",
       "      <td>True</td>\n",
       "      <td>40.0</td>\n",
       "      <td>1914-01-01</td>\n",
       "      <td>gas</td>\n",
       "      <td>False</td>\n",
       "      <td>...</td>\n",
       "      <td>5.061538</td>\n",
       "      <td>34085</td>\n",
       "      <td>17932651</td>\n",
       "      <td>526</td>\n",
       "      <td>39678</td>\n",
       "      <td>0.936</td>\n",
       "      <td>62069</td>\n",
       "      <td>4615660.71</td>\n",
       "      <td>3.461228</td>\n",
       "      <td>1.344748</td>\n",
       "    </tr>\n",
       "  </tbody>\n",
       "</table>\n",
       "<p>5 rows × 33 columns</p>\n",
       "</div>"
      ],
      "text/plain": [
       "                 state  serviceCharge                     heatingType  \\\n",
       "0  Nordrhein_Westfalen          245.0                 central_heating   \n",
       "1  Nordrhein_Westfalen           95.0  self_contained_central_heating   \n",
       "2  Nordrhein_Westfalen          200.0                 central_heating   \n",
       "3  Nordrhein_Westfalen          215.0                     gas_heating   \n",
       "4  Nordrhein_Westfalen          121.0                 central_heating   \n",
       "\n",
       "  telekomTvOffer  newlyConst  balcony  telekomUploadSpeed yearConstructed  \\\n",
       "0  ONE_YEAR_FREE       False    False                10.0      1965-01-01   \n",
       "1  ONE_YEAR_FREE       False    False                40.0      1953-01-01   \n",
       "2  ONE_YEAR_FREE       False    False                40.0      1951-01-01   \n",
       "3  ONE_YEAR_FREE        True     True                 2.4      2018-01-01   \n",
       "4  ONE_YEAR_FREE       False     True                40.0      1914-01-01   \n",
       "\n",
       "  firingTypes  hasKitchen  ...  rent_per_sqm  area_km2  population_2019  \\\n",
       "0         oil       False  ...      6.918605     34085         17932651   \n",
       "1         gas       False  ...      5.000000     34085         17932651   \n",
       "2         oil       False  ...      7.696047     34085         17932651   \n",
       "3         gas       False  ...     11.179310     34085         17932651   \n",
       "4         gas       False  ...      5.061538     34085         17932651   \n",
       "\n",
       "  population_per_km2 gdp_per_capita_2018    hdi  total_state_listings  \\\n",
       "0                526               39678  0.936                 62069   \n",
       "1                526               39678  0.936                 62069   \n",
       "2                526               39678  0.936                 62069   \n",
       "3                526               39678  0.936                 62069   \n",
       "4                526               39678  0.936                 62069   \n",
       "\n",
       "  total_state_sqm  listings_per_1000capita  listings_per_100sqm  \n",
       "0      4615660.71                 3.461228             1.344748  \n",
       "1      4615660.71                 3.461228             1.344748  \n",
       "2      4615660.71                 3.461228             1.344748  \n",
       "3      4615660.71                 3.461228             1.344748  \n",
       "4      4615660.71                 3.461228             1.344748  \n",
       "\n",
       "[5 rows x 33 columns]"
      ]
     },
     "execution_count": 48,
     "metadata": {},
     "output_type": "execute_result"
    }
   ],
   "source": [
    "rentals.head()"
   ]
  },
  {
   "cell_type": "code",
   "execution_count": 49,
   "metadata": {
    "scrolled": true
   },
   "outputs": [
    {
     "name": "stdout",
     "output_type": "stream",
     "text": [
      "<class 'pandas.core.frame.DataFrame'>\n",
      "RangeIndex: 266220 entries, 0 to 266219\n",
      "Data columns (total 33 columns):\n",
      " #   Column                   Non-Null Count   Dtype         \n",
      "---  ------                   --------------   -----         \n",
      " 0   state                    266220 non-null  object        \n",
      " 1   serviceCharge            259490 non-null  float64       \n",
      " 2   heatingType              221782 non-null  object        \n",
      " 3   telekomTvOffer           233938 non-null  object        \n",
      " 4   newlyConst               266220 non-null  bool          \n",
      " 5   balcony                  266220 non-null  bool          \n",
      " 6   telekomUploadSpeed       233208 non-null  float64       \n",
      " 7   yearConstructed          209427 non-null  datetime64[ns]\n",
      " 8   firingTypes              209806 non-null  object        \n",
      " 9   hasKitchen               266220 non-null  bool          \n",
      " 10  cellar                   266220 non-null  bool          \n",
      " 11  rent                     266220 non-null  float64       \n",
      " 12  livingSpace              266220 non-null  float64       \n",
      " 13  condition                198023 non-null  object        \n",
      " 14  interiorQual             154634 non-null  object        \n",
      " 15  petsAllowed              152725 non-null  object        \n",
      " 16  lift                     266220 non-null  bool          \n",
      " 17  typeOfFlat               229897 non-null  object        \n",
      " 18  noRooms                  266220 non-null  float64       \n",
      " 19  thermalChar              160870 non-null  float64       \n",
      " 20  numberOfFloors           169355 non-null  float64       \n",
      " 21  garden                   266220 non-null  bool          \n",
      " 22  date                     266220 non-null  datetime64[ns]\n",
      " 23  rent_per_sqm             266220 non-null  float64       \n",
      " 24  area_km2                 266220 non-null  int64         \n",
      " 25  population_2019          266220 non-null  int64         \n",
      " 26  population_per_km2       266220 non-null  int64         \n",
      " 27  gdp_per_capita_2018      266220 non-null  int64         \n",
      " 28  hdi                      266220 non-null  float64       \n",
      " 29  total_state_listings     266220 non-null  int64         \n",
      " 30  total_state_sqm          266220 non-null  float64       \n",
      " 31  listings_per_1000capita  266220 non-null  float64       \n",
      " 32  listings_per_100sqm      266220 non-null  float64       \n",
      "dtypes: bool(6), datetime64[ns](2), float64(12), int64(5), object(8)\n",
      "memory usage: 56.4+ MB\n"
     ]
    }
   ],
   "source": [
    "rentals.info()"
   ]
  },
  {
   "cell_type": "markdown",
   "metadata": {},
   "source": [
    "- Goal: Prepare the data for modelling\n",
    "- No missing values, all numbers, all scaled\n",
    "    1. Find features with missing values\n",
    "    2. Determine relevance of feature for modelling. Drop features you feel are not important\n",
    "    3. Impute numerical missing values\n",
    "    4. Convert categorical variables and datetime variables to numerical variables\n",
    "    5. Impute categorical missing values\n",
    "    6. Scale all data"
   ]
  },
  {
   "cell_type": "code",
   "execution_count": 50,
   "metadata": {},
   "outputs": [],
   "source": [
    "rentals['yearBuilt'] = rentals.yearConstructed.dt.year"
   ]
  },
  {
   "cell_type": "code",
   "execution_count": 51,
   "metadata": {},
   "outputs": [],
   "source": [
    "X = rentals.drop(columns = ['rent_per_sqm', 'date', 'yearConstructed'])\n",
    "y = rentals[['rent_per_sqm']]"
   ]
  },
  {
   "cell_type": "code",
   "execution_count": 52,
   "metadata": {},
   "outputs": [],
   "source": [
    "encoder = OneHotEncoder(handle_unknown = 'ignore')"
   ]
  },
  {
   "cell_type": "code",
   "execution_count": 53,
   "metadata": {},
   "outputs": [],
   "source": [
    "imp = SimpleImputer(missing_values = np.nan, strategy = 'median')"
   ]
  },
  {
   "cell_type": "code",
   "execution_count": 54,
   "metadata": {},
   "outputs": [],
   "source": [
    "scaler = StandardScaler(with_mean = False)"
   ]
  },
  {
   "cell_type": "code",
   "execution_count": 55,
   "metadata": {},
   "outputs": [],
   "source": [
    "lr = LinearRegression(normalize = False)"
   ]
  },
  {
   "cell_type": "code",
   "execution_count": 56,
   "metadata": {},
   "outputs": [],
   "source": [
    "ridge = Ridge(normalize = False)"
   ]
  },
  {
   "cell_type": "code",
   "execution_count": 57,
   "metadata": {},
   "outputs": [],
   "source": [
    "lasso = Lasso(normalize = False)"
   ]
  },
  {
   "cell_type": "code",
   "execution_count": 58,
   "metadata": {},
   "outputs": [],
   "source": [
    "steps = [('encoding', encoder), ('imputation', imp), ('scaling', scaler), ('ridge_regress', ridge)]"
   ]
  },
  {
   "cell_type": "code",
   "execution_count": 59,
   "metadata": {},
   "outputs": [],
   "source": [
    "pipeline = Pipeline(steps)"
   ]
  },
  {
   "cell_type": "code",
   "execution_count": 60,
   "metadata": {},
   "outputs": [],
   "source": [
    "parameters = {'ridge_regress__alpha': np.linspace(0, 1, num = 10, endpoint = True)}"
   ]
  },
  {
   "cell_type": "code",
   "execution_count": 61,
   "metadata": {},
   "outputs": [],
   "source": [
    "cv = GridSearchCV(pipeline, param_grid = parameters)"
   ]
  },
  {
   "cell_type": "code",
   "execution_count": 62,
   "metadata": {},
   "outputs": [],
   "source": [
    "X_train, X_test, y_train, y_test = train_test_split(X, y, test_size = 0.3, random_state = 77)"
   ]
  },
  {
   "cell_type": "code",
   "execution_count": 66,
   "metadata": {},
   "outputs": [
    {
     "data": {
      "text/html": [
       "<div>\n",
       "<style scoped>\n",
       "    .dataframe tbody tr th:only-of-type {\n",
       "        vertical-align: middle;\n",
       "    }\n",
       "\n",
       "    .dataframe tbody tr th {\n",
       "        vertical-align: top;\n",
       "    }\n",
       "\n",
       "    .dataframe thead th {\n",
       "        text-align: right;\n",
       "    }\n",
       "</style>\n",
       "<table border=\"1\" class=\"dataframe\">\n",
       "  <thead>\n",
       "    <tr style=\"text-align: right;\">\n",
       "      <th></th>\n",
       "      <th>state</th>\n",
       "      <th>serviceCharge</th>\n",
       "      <th>heatingType</th>\n",
       "      <th>telekomTvOffer</th>\n",
       "      <th>newlyConst</th>\n",
       "      <th>balcony</th>\n",
       "      <th>telekomUploadSpeed</th>\n",
       "      <th>firingTypes</th>\n",
       "      <th>hasKitchen</th>\n",
       "      <th>cellar</th>\n",
       "      <th>...</th>\n",
       "      <th>area_km2</th>\n",
       "      <th>population_2019</th>\n",
       "      <th>population_per_km2</th>\n",
       "      <th>gdp_per_capita_2018</th>\n",
       "      <th>hdi</th>\n",
       "      <th>total_state_listings</th>\n",
       "      <th>total_state_sqm</th>\n",
       "      <th>listings_per_1000capita</th>\n",
       "      <th>listings_per_100sqm</th>\n",
       "      <th>yearBuilt</th>\n",
       "    </tr>\n",
       "  </thead>\n",
       "  <tbody>\n",
       "    <tr>\n",
       "      <th>144538</th>\n",
       "      <td>Baden_Württemberg</td>\n",
       "      <td>250.00</td>\n",
       "      <td>central_heating</td>\n",
       "      <td>ONE_YEAR_FREE</td>\n",
       "      <td>False</td>\n",
       "      <td>False</td>\n",
       "      <td>40.0</td>\n",
       "      <td>gas</td>\n",
       "      <td>False</td>\n",
       "      <td>False</td>\n",
       "      <td>...</td>\n",
       "      <td>35752</td>\n",
       "      <td>11100394</td>\n",
       "      <td>310</td>\n",
       "      <td>47290</td>\n",
       "      <td>0.953</td>\n",
       "      <td>15961</td>\n",
       "      <td>1342806.70</td>\n",
       "      <td>1.437877</td>\n",
       "      <td>1.188630</td>\n",
       "      <td>2006.0</td>\n",
       "    </tr>\n",
       "    <tr>\n",
       "      <th>91127</th>\n",
       "      <td>Sachsen</td>\n",
       "      <td>150.00</td>\n",
       "      <td>central_heating</td>\n",
       "      <td>ONE_YEAR_FREE</td>\n",
       "      <td>False</td>\n",
       "      <td>False</td>\n",
       "      <td>40.0</td>\n",
       "      <td>gas</td>\n",
       "      <td>False</td>\n",
       "      <td>True</td>\n",
       "      <td>...</td>\n",
       "      <td>18416</td>\n",
       "      <td>4077937</td>\n",
       "      <td>221</td>\n",
       "      <td>31453</td>\n",
       "      <td>0.930</td>\n",
       "      <td>57673</td>\n",
       "      <td>3837202.43</td>\n",
       "      <td>14.142690</td>\n",
       "      <td>1.502996</td>\n",
       "      <td>1995.0</td>\n",
       "    </tr>\n",
       "    <tr>\n",
       "      <th>236448</th>\n",
       "      <td>Sachsen_Anhalt</td>\n",
       "      <td>187.11</td>\n",
       "      <td>gas_heating</td>\n",
       "      <td>NaN</td>\n",
       "      <td>False</td>\n",
       "      <td>True</td>\n",
       "      <td>NaN</td>\n",
       "      <td>gas</td>\n",
       "      <td>False</td>\n",
       "      <td>True</td>\n",
       "      <td>...</td>\n",
       "      <td>20446</td>\n",
       "      <td>2208321</td>\n",
       "      <td>108</td>\n",
       "      <td>28800</td>\n",
       "      <td>0.908</td>\n",
       "      <td>19909</td>\n",
       "      <td>1254374.60</td>\n",
       "      <td>9.015447</td>\n",
       "      <td>1.587165</td>\n",
       "      <td>1955.0</td>\n",
       "    </tr>\n",
       "    <tr>\n",
       "      <th>209597</th>\n",
       "      <td>Bayern</td>\n",
       "      <td>70.00</td>\n",
       "      <td>central_heating</td>\n",
       "      <td>ONE_YEAR_FREE</td>\n",
       "      <td>False</td>\n",
       "      <td>True</td>\n",
       "      <td>40.0</td>\n",
       "      <td>gas</td>\n",
       "      <td>True</td>\n",
       "      <td>False</td>\n",
       "      <td>...</td>\n",
       "      <td>70552</td>\n",
       "      <td>13124737</td>\n",
       "      <td>185</td>\n",
       "      <td>48323</td>\n",
       "      <td>0.947</td>\n",
       "      <td>21490</td>\n",
       "      <td>1718920.03</td>\n",
       "      <td>1.637366</td>\n",
       "      <td>1.250204</td>\n",
       "      <td>1966.0</td>\n",
       "    </tr>\n",
       "    <tr>\n",
       "      <th>59635</th>\n",
       "      <td>Nordrhein_Westfalen</td>\n",
       "      <td>95.00</td>\n",
       "      <td>central_heating</td>\n",
       "      <td>ONE_YEAR_FREE</td>\n",
       "      <td>False</td>\n",
       "      <td>True</td>\n",
       "      <td>40.0</td>\n",
       "      <td>gas</td>\n",
       "      <td>False</td>\n",
       "      <td>True</td>\n",
       "      <td>...</td>\n",
       "      <td>34085</td>\n",
       "      <td>17932651</td>\n",
       "      <td>526</td>\n",
       "      <td>39678</td>\n",
       "      <td>0.936</td>\n",
       "      <td>62069</td>\n",
       "      <td>4615660.71</td>\n",
       "      <td>3.461228</td>\n",
       "      <td>1.344748</td>\n",
       "      <td>1968.0</td>\n",
       "    </tr>\n",
       "  </tbody>\n",
       "</table>\n",
       "<p>5 rows × 31 columns</p>\n",
       "</div>"
      ],
      "text/plain": [
       "                      state  serviceCharge      heatingType telekomTvOffer  \\\n",
       "144538    Baden_Württemberg         250.00  central_heating  ONE_YEAR_FREE   \n",
       "91127               Sachsen         150.00  central_heating  ONE_YEAR_FREE   \n",
       "236448       Sachsen_Anhalt         187.11      gas_heating            NaN   \n",
       "209597               Bayern          70.00  central_heating  ONE_YEAR_FREE   \n",
       "59635   Nordrhein_Westfalen          95.00  central_heating  ONE_YEAR_FREE   \n",
       "\n",
       "        newlyConst  balcony  telekomUploadSpeed firingTypes  hasKitchen  \\\n",
       "144538       False    False                40.0         gas       False   \n",
       "91127        False    False                40.0         gas       False   \n",
       "236448       False     True                 NaN         gas       False   \n",
       "209597       False     True                40.0         gas        True   \n",
       "59635        False     True                40.0         gas       False   \n",
       "\n",
       "        cellar  ...  area_km2  population_2019 population_per_km2  \\\n",
       "144538   False  ...     35752         11100394                310   \n",
       "91127     True  ...     18416          4077937                221   \n",
       "236448    True  ...     20446          2208321                108   \n",
       "209597   False  ...     70552         13124737                185   \n",
       "59635     True  ...     34085         17932651                526   \n",
       "\n",
       "       gdp_per_capita_2018    hdi  total_state_listings total_state_sqm  \\\n",
       "144538               47290  0.953                 15961      1342806.70   \n",
       "91127                31453  0.930                 57673      3837202.43   \n",
       "236448               28800  0.908                 19909      1254374.60   \n",
       "209597               48323  0.947                 21490      1718920.03   \n",
       "59635                39678  0.936                 62069      4615660.71   \n",
       "\n",
       "        listings_per_1000capita  listings_per_100sqm  yearBuilt  \n",
       "144538                 1.437877             1.188630     2006.0  \n",
       "91127                 14.142690             1.502996     1995.0  \n",
       "236448                 9.015447             1.587165     1955.0  \n",
       "209597                 1.637366             1.250204     1966.0  \n",
       "59635                  3.461228             1.344748     1968.0  \n",
       "\n",
       "[5 rows x 31 columns]"
      ]
     },
     "execution_count": 66,
     "metadata": {},
     "output_type": "execute_result"
    }
   ],
   "source": [
    "X_train.head()"
   ]
  },
  {
   "cell_type": "code",
   "execution_count": 63,
   "metadata": {
    "scrolled": true
   },
   "outputs": [
    {
     "data": {
      "text/plain": [
       "GridSearchCV(estimator=Pipeline(steps=[('encoding',\n",
       "                                        OneHotEncoder(handle_unknown='ignore')),\n",
       "                                       ('imputation',\n",
       "                                        SimpleImputer(strategy='median')),\n",
       "                                       ('scaling',\n",
       "                                        StandardScaler(with_mean=False)),\n",
       "                                       ('ridge_regress', Ridge())]),\n",
       "             param_grid={'ridge_regress__alpha': array([0.        , 0.11111111, 0.22222222, 0.33333333, 0.44444444,\n",
       "       0.55555556, 0.66666667, 0.77777778, 0.88888889, 1.        ])})"
      ]
     },
     "execution_count": 63,
     "metadata": {},
     "output_type": "execute_result"
    }
   ],
   "source": [
    "cv.fit(X_train, y_train)"
   ]
  },
  {
   "cell_type": "code",
   "execution_count": 64,
   "metadata": {
    "scrolled": true
   },
   "outputs": [
    {
     "data": {
      "text/plain": [
       "0.45419000183060576"
      ]
     },
     "execution_count": 64,
     "metadata": {},
     "output_type": "execute_result"
    }
   ],
   "source": [
    "cv.score(X_test, y_test)"
   ]
  },
  {
   "cell_type": "code",
   "execution_count": 65,
   "metadata": {},
   "outputs": [
    {
     "data": {
      "text/plain": [
       "{'ridge_regress__alpha': 0.7777777777777777}"
      ]
     },
     "execution_count": 65,
     "metadata": {},
     "output_type": "execute_result"
    }
   ],
   "source": [
    "cv.best_params_"
   ]
  },
  {
   "cell_type": "code",
   "execution_count": null,
   "metadata": {},
   "outputs": [],
   "source": []
  },
  {
   "cell_type": "code",
   "execution_count": null,
   "metadata": {},
   "outputs": [],
   "source": []
  },
  {
   "cell_type": "code",
   "execution_count": 10,
   "metadata": {},
   "outputs": [
    {
     "data": {
      "text/plain": [
       "(186354, 105)"
      ]
     },
     "execution_count": 10,
     "metadata": {},
     "output_type": "execute_result"
    }
   ],
   "source": [
    "dummy = pd.get_dummies(X_train)\n",
    "dummy.shape"
   ]
  },
  {
   "cell_type": "code",
   "execution_count": 11,
   "metadata": {
    "scrolled": true
   },
   "outputs": [],
   "source": [
    "imputer = SimpleImputer(strategy = 'median')"
   ]
  },
  {
   "cell_type": "code",
   "execution_count": 12,
   "metadata": {},
   "outputs": [
    {
     "data": {
      "text/plain": [
       "SimpleImputer(strategy='median')"
      ]
     },
     "execution_count": 12,
     "metadata": {},
     "output_type": "execute_result"
    }
   ],
   "source": [
    "imputer.fit(dummy)"
   ]
  },
  {
   "cell_type": "code",
   "execution_count": 13,
   "metadata": {},
   "outputs": [],
   "source": [
    "dummyt = imputer.transform(dummy)"
   ]
  },
  {
   "cell_type": "code",
   "execution_count": 14,
   "metadata": {},
   "outputs": [],
   "source": [
    "model = LinearRegression()"
   ]
  },
  {
   "cell_type": "code",
   "execution_count": 15,
   "metadata": {
    "scrolled": true
   },
   "outputs": [
    {
     "data": {
      "text/plain": [
       "LinearRegression()"
      ]
     },
     "execution_count": 15,
     "metadata": {},
     "output_type": "execute_result"
    }
   ],
   "source": [
    "model.fit(dummyt, y_train)"
   ]
  },
  {
   "cell_type": "code",
   "execution_count": 16,
   "metadata": {},
   "outputs": [],
   "source": [
    "dummy2 = pd.get_dummies(X_test)"
   ]
  },
  {
   "cell_type": "code",
   "execution_count": 17,
   "metadata": {},
   "outputs": [],
   "source": [
    "dummy2t = imputer.transform(dummy2)"
   ]
  },
  {
   "cell_type": "code",
   "execution_count": 18,
   "metadata": {},
   "outputs": [],
   "source": [
    "y_pred = model.predict(dummy2t)"
   ]
  },
  {
   "cell_type": "code",
   "execution_count": 19,
   "metadata": {},
   "outputs": [
    {
     "data": {
      "text/plain": [
       "0.7115011875980928"
      ]
     },
     "execution_count": 19,
     "metadata": {},
     "output_type": "execute_result"
    }
   ],
   "source": [
    "model.score(dummy2t, y_test)"
   ]
  },
  {
   "cell_type": "code",
   "execution_count": 20,
   "metadata": {
    "scrolled": true
   },
   "outputs": [
    {
     "data": {
      "text/plain": [
       "0.8516594752770796"
      ]
     },
     "execution_count": 20,
     "metadata": {},
     "output_type": "execute_result"
    }
   ],
   "source": [
    "model.score(dummyt, y_train)"
   ]
  },
  {
   "cell_type": "code",
   "execution_count": 21,
   "metadata": {},
   "outputs": [],
   "source": [
    "cv = cross_val_score(model, dummyt, y_train, cv = 5)"
   ]
  },
  {
   "cell_type": "code",
   "execution_count": 22,
   "metadata": {
    "scrolled": true
   },
   "outputs": [
    {
     "name": "stdout",
     "output_type": "stream",
     "text": [
      "[0.86649227 0.84040335 0.85932501 0.83467726 0.84550675]\n"
     ]
    }
   ],
   "source": [
    "print(cv)"
   ]
  },
  {
   "cell_type": "code",
   "execution_count": 23,
   "metadata": {},
   "outputs": [
    {
     "name": "stdout",
     "output_type": "stream",
     "text": [
      "0.8492809277907609\n"
     ]
    }
   ],
   "source": [
    "print(cv.mean())"
   ]
  },
  {
   "cell_type": "code",
   "execution_count": 24,
   "metadata": {},
   "outputs": [],
   "source": [
    "cv2 = cross_val_score(model, dummy2t, y_test, cv = 5)"
   ]
  },
  {
   "cell_type": "code",
   "execution_count": 25,
   "metadata": {},
   "outputs": [
    {
     "name": "stdout",
     "output_type": "stream",
     "text": [
      "[0.45462894 0.91169377 0.85705471 0.86415    0.83736547]\n"
     ]
    }
   ],
   "source": [
    "print(cv2)"
   ]
  },
  {
   "cell_type": "code",
   "execution_count": 26,
   "metadata": {},
   "outputs": [
    {
     "data": {
      "text/plain": [
       "0.7849785781740504"
      ]
     },
     "execution_count": 26,
     "metadata": {},
     "output_type": "execute_result"
    }
   ],
   "source": [
    "cv2.mean()"
   ]
  }
 ],
 "metadata": {
  "kernelspec": {
   "display_name": "Python 3",
   "language": "python",
   "name": "python3"
  },
  "language_info": {
   "codemirror_mode": {
    "name": "ipython",
    "version": 3
   },
   "file_extension": ".py",
   "mimetype": "text/x-python",
   "name": "python",
   "nbconvert_exporter": "python",
   "pygments_lexer": "ipython3",
   "version": "3.8.10"
  }
 },
 "nbformat": 4,
 "nbformat_minor": 4
}
