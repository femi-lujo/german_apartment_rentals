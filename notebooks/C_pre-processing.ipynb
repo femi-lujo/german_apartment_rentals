{
 "cells": [
  {
   "cell_type": "markdown",
   "metadata": {},
   "source": [
    "# C. Pre-processing<a id = 'C_Pre-processing'></a>"
   ]
  },
  {
   "cell_type": "markdown",
   "metadata": {},
   "source": [
    "# 1. Contents<a id='1._Contents'></a>\n",
    "* [C. Pre-processing](#C_Pre-processing)\n",
    "* [2. Objective](#2_Objective)\n",
    "    * [2.1 Tasks](#2.1_Tasks)\n",
    "* [3. Imports](#3_Imports)\n",
    "* [4. Load Data](#4._Load_Data)\n",
    "* [5. Revising and Creating New Features](#5._Revising_and_Creating_New_Features)\n",
    "    * [5.1 Revising the yearBuilt feature](#5.1_Revising_the_yearBuilt_feature)\n",
    "    * [5.2 Creating a new feature for state rent clusters](#5.2_Creating_a_new_feature_for_state_rent_clusters)\n",
    "* [6. Create a Dataframe for the features and target variable](#6._Create_a_Dataframe_for_the_features_and_target_variable)\n",
    "* [7. Develop an Imputation Strategy](#7._Develop_an_Imputation_Strategy)\n",
    "* [8. Create Train-Test Split](#8._Create_Train-Test_Split)\n",
    "* [9. Create One Hot Encoding Object](#9._Create_One_Hot_Encoding_Object)\n",
    "* [10. Create Scaling Object](#10._Create_Scaling_Object)"
   ]
  },
  {
   "cell_type": "markdown",
   "metadata": {},
   "source": [
    "# 2. Objective<a id = '2_Objective'></a>"
   ]
  },
  {
   "cell_type": "markdown",
   "metadata": {},
   "source": [
    "- Prepare data for modelling"
   ]
  },
  {
   "cell_type": "markdown",
   "metadata": {},
   "source": [
    "## 2.1 Tasks<a id = '2.1_Tasks'></a>"
   ]
  },
  {
   "cell_type": "markdown",
   "metadata": {},
   "source": [
    "1. Find features with missing values\n",
    "2. Determine relevance of feature for modelling. Drop features you feel are not important\n",
    "3. Impute numerical missing values\n",
    "4. Convert categorical variables and datetime variables to numerical variables\n",
    "5. Impute categorical missing values\n",
    "6. Scale all data"
   ]
  },
  {
   "cell_type": "markdown",
   "metadata": {},
   "source": [
    "# 3. Imports<a id = '3_Imports'></a>"
   ]
  },
  {
   "cell_type": "code",
   "execution_count": 1,
   "metadata": {},
   "outputs": [],
   "source": [
    "import numpy as np\n",
    "import pandas as pd\n",
    "import matplotlib.pyplot as plt\n",
    "import seaborn as sns\n",
    "import os\n",
    "from sklearn.model_selection import train_test_split\n",
    "from datetime import datetime\n",
    "from sklearn.impute import SimpleImputer\n",
    "from sklearn.preprocessing import OneHotEncoder, StandardScaler, LabelEncoder, OrdinalEncoder\n",
    "from sklearn_pandas import DataFrameMapper\n",
    "from sklearn.pipeline import FeatureUnion\n",
    "from collections import defaultdict"
   ]
  },
  {
   "cell_type": "markdown",
   "metadata": {},
   "source": [
    "# 4. Load Data<a id='4._Load_Data'></a>"
   ]
  },
  {
   "cell_type": "code",
   "execution_count": 2,
   "metadata": {},
   "outputs": [],
   "source": [
    "read = pd.read_csv('..\\data\\interim\\\\rentals_process.csv', parse_dates = ['yearConstructed', 'date'])"
   ]
  },
  {
   "cell_type": "code",
   "execution_count": 3,
   "metadata": {},
   "outputs": [],
   "source": [
    "rentals = read.copy()"
   ]
  },
  {
   "cell_type": "code",
   "execution_count": 4,
   "metadata": {
    "scrolled": true
   },
   "outputs": [
    {
     "data": {
      "text/plain": [
       "(266220, 37)"
      ]
     },
     "execution_count": 4,
     "metadata": {},
     "output_type": "execute_result"
    }
   ],
   "source": [
    "rentals.shape"
   ]
  },
  {
   "cell_type": "code",
   "execution_count": 5,
   "metadata": {
    "scrolled": true
   },
   "outputs": [
    {
     "data": {
      "text/html": [
       "<div>\n",
       "<style scoped>\n",
       "    .dataframe tbody tr th:only-of-type {\n",
       "        vertical-align: middle;\n",
       "    }\n",
       "\n",
       "    .dataframe tbody tr th {\n",
       "        vertical-align: top;\n",
       "    }\n",
       "\n",
       "    .dataframe thead th {\n",
       "        text-align: right;\n",
       "    }\n",
       "</style>\n",
       "<table border=\"1\" class=\"dataframe\">\n",
       "  <thead>\n",
       "    <tr style=\"text-align: right;\">\n",
       "      <th></th>\n",
       "      <th>state</th>\n",
       "      <th>serviceCharge</th>\n",
       "      <th>heatingType</th>\n",
       "      <th>telekomTvOffer</th>\n",
       "      <th>newlyConst</th>\n",
       "      <th>balcony</th>\n",
       "      <th>telekomUploadSpeed</th>\n",
       "      <th>yearConstructed</th>\n",
       "      <th>firingTypes</th>\n",
       "      <th>hasKitchen</th>\n",
       "      <th>...</th>\n",
       "      <th>sqm_per_room</th>\n",
       "      <th>area_km2</th>\n",
       "      <th>population_2019</th>\n",
       "      <th>population_per_km2</th>\n",
       "      <th>gdp_per_capita_2018</th>\n",
       "      <th>hdi</th>\n",
       "      <th>total_state_listings</th>\n",
       "      <th>total_state_sqm</th>\n",
       "      <th>listings_per_1000capita</th>\n",
       "      <th>listings_per_100sqm</th>\n",
       "    </tr>\n",
       "  </thead>\n",
       "  <tbody>\n",
       "    <tr>\n",
       "      <th>0</th>\n",
       "      <td>Nordrhein_Westfalen</td>\n",
       "      <td>245.0</td>\n",
       "      <td>central_heating</td>\n",
       "      <td>ONE_YEAR_FREE</td>\n",
       "      <td>False</td>\n",
       "      <td>False</td>\n",
       "      <td>10.0</td>\n",
       "      <td>1965-01-01</td>\n",
       "      <td>oil</td>\n",
       "      <td>False</td>\n",
       "      <td>...</td>\n",
       "      <td>21.50</td>\n",
       "      <td>34085</td>\n",
       "      <td>17932651</td>\n",
       "      <td>526</td>\n",
       "      <td>39678</td>\n",
       "      <td>0.936</td>\n",
       "      <td>62069</td>\n",
       "      <td>4615660.71</td>\n",
       "      <td>3.461228</td>\n",
       "      <td>1.344748</td>\n",
       "    </tr>\n",
       "    <tr>\n",
       "      <th>1</th>\n",
       "      <td>Nordrhein_Westfalen</td>\n",
       "      <td>95.0</td>\n",
       "      <td>self_contained_central_heating</td>\n",
       "      <td>ONE_YEAR_FREE</td>\n",
       "      <td>False</td>\n",
       "      <td>False</td>\n",
       "      <td>40.0</td>\n",
       "      <td>1953-01-01</td>\n",
       "      <td>gas</td>\n",
       "      <td>False</td>\n",
       "      <td>...</td>\n",
       "      <td>24.00</td>\n",
       "      <td>34085</td>\n",
       "      <td>17932651</td>\n",
       "      <td>526</td>\n",
       "      <td>39678</td>\n",
       "      <td>0.936</td>\n",
       "      <td>62069</td>\n",
       "      <td>4615660.71</td>\n",
       "      <td>3.461228</td>\n",
       "      <td>1.344748</td>\n",
       "    </tr>\n",
       "    <tr>\n",
       "      <th>2</th>\n",
       "      <td>Nordrhein_Westfalen</td>\n",
       "      <td>200.0</td>\n",
       "      <td>central_heating</td>\n",
       "      <td>ONE_YEAR_FREE</td>\n",
       "      <td>False</td>\n",
       "      <td>False</td>\n",
       "      <td>40.0</td>\n",
       "      <td>1951-01-01</td>\n",
       "      <td>oil</td>\n",
       "      <td>False</td>\n",
       "      <td>...</td>\n",
       "      <td>30.86</td>\n",
       "      <td>34085</td>\n",
       "      <td>17932651</td>\n",
       "      <td>526</td>\n",
       "      <td>39678</td>\n",
       "      <td>0.936</td>\n",
       "      <td>62069</td>\n",
       "      <td>4615660.71</td>\n",
       "      <td>3.461228</td>\n",
       "      <td>1.344748</td>\n",
       "    </tr>\n",
       "    <tr>\n",
       "      <th>3</th>\n",
       "      <td>Nordrhein_Westfalen</td>\n",
       "      <td>215.0</td>\n",
       "      <td>gas_heating</td>\n",
       "      <td>ONE_YEAR_FREE</td>\n",
       "      <td>True</td>\n",
       "      <td>True</td>\n",
       "      <td>2.4</td>\n",
       "      <td>2018-01-01</td>\n",
       "      <td>gas</td>\n",
       "      <td>False</td>\n",
       "      <td>...</td>\n",
       "      <td>29.00</td>\n",
       "      <td>34085</td>\n",
       "      <td>17932651</td>\n",
       "      <td>526</td>\n",
       "      <td>39678</td>\n",
       "      <td>0.936</td>\n",
       "      <td>62069</td>\n",
       "      <td>4615660.71</td>\n",
       "      <td>3.461228</td>\n",
       "      <td>1.344748</td>\n",
       "    </tr>\n",
       "    <tr>\n",
       "      <th>4</th>\n",
       "      <td>Nordrhein_Westfalen</td>\n",
       "      <td>121.0</td>\n",
       "      <td>central_heating</td>\n",
       "      <td>ONE_YEAR_FREE</td>\n",
       "      <td>False</td>\n",
       "      <td>True</td>\n",
       "      <td>40.0</td>\n",
       "      <td>1914-01-01</td>\n",
       "      <td>gas</td>\n",
       "      <td>False</td>\n",
       "      <td>...</td>\n",
       "      <td>26.00</td>\n",
       "      <td>34085</td>\n",
       "      <td>17932651</td>\n",
       "      <td>526</td>\n",
       "      <td>39678</td>\n",
       "      <td>0.936</td>\n",
       "      <td>62069</td>\n",
       "      <td>4615660.71</td>\n",
       "      <td>3.461228</td>\n",
       "      <td>1.344748</td>\n",
       "    </tr>\n",
       "  </tbody>\n",
       "</table>\n",
       "<p>5 rows × 37 columns</p>\n",
       "</div>"
      ],
      "text/plain": [
       "                 state  serviceCharge                     heatingType  \\\n",
       "0  Nordrhein_Westfalen          245.0                 central_heating   \n",
       "1  Nordrhein_Westfalen           95.0  self_contained_central_heating   \n",
       "2  Nordrhein_Westfalen          200.0                 central_heating   \n",
       "3  Nordrhein_Westfalen          215.0                     gas_heating   \n",
       "4  Nordrhein_Westfalen          121.0                 central_heating   \n",
       "\n",
       "  telekomTvOffer  newlyConst  balcony  telekomUploadSpeed yearConstructed  \\\n",
       "0  ONE_YEAR_FREE       False    False                10.0      1965-01-01   \n",
       "1  ONE_YEAR_FREE       False    False                40.0      1953-01-01   \n",
       "2  ONE_YEAR_FREE       False    False                40.0      1951-01-01   \n",
       "3  ONE_YEAR_FREE        True     True                 2.4      2018-01-01   \n",
       "4  ONE_YEAR_FREE       False     True                40.0      1914-01-01   \n",
       "\n",
       "  firingTypes  hasKitchen  ...  sqm_per_room  area_km2  population_2019  \\\n",
       "0         oil       False  ...         21.50     34085         17932651   \n",
       "1         gas       False  ...         24.00     34085         17932651   \n",
       "2         oil       False  ...         30.86     34085         17932651   \n",
       "3         gas       False  ...         29.00     34085         17932651   \n",
       "4         gas       False  ...         26.00     34085         17932651   \n",
       "\n",
       "  population_per_km2 gdp_per_capita_2018    hdi  total_state_listings  \\\n",
       "0                526               39678  0.936                 62069   \n",
       "1                526               39678  0.936                 62069   \n",
       "2                526               39678  0.936                 62069   \n",
       "3                526               39678  0.936                 62069   \n",
       "4                526               39678  0.936                 62069   \n",
       "\n",
       "  total_state_sqm  listings_per_1000capita  listings_per_100sqm  \n",
       "0      4615660.71                 3.461228             1.344748  \n",
       "1      4615660.71                 3.461228             1.344748  \n",
       "2      4615660.71                 3.461228             1.344748  \n",
       "3      4615660.71                 3.461228             1.344748  \n",
       "4      4615660.71                 3.461228             1.344748  \n",
       "\n",
       "[5 rows x 37 columns]"
      ]
     },
     "execution_count": 5,
     "metadata": {},
     "output_type": "execute_result"
    }
   ],
   "source": [
    "rentals.head()"
   ]
  },
  {
   "cell_type": "code",
   "execution_count": 6,
   "metadata": {
    "scrolled": false
   },
   "outputs": [
    {
     "name": "stdout",
     "output_type": "stream",
     "text": [
      "<class 'pandas.core.frame.DataFrame'>\n",
      "RangeIndex: 266220 entries, 0 to 266219\n",
      "Data columns (total 37 columns):\n",
      " #   Column                   Non-Null Count   Dtype         \n",
      "---  ------                   --------------   -----         \n",
      " 0   state                    266220 non-null  object        \n",
      " 1   serviceCharge            259490 non-null  float64       \n",
      " 2   heatingType              221782 non-null  object        \n",
      " 3   telekomTvOffer           233938 non-null  object        \n",
      " 4   newlyConst               266220 non-null  bool          \n",
      " 5   balcony                  266220 non-null  bool          \n",
      " 6   telekomUploadSpeed       233208 non-null  float64       \n",
      " 7   yearConstructed          209427 non-null  datetime64[ns]\n",
      " 8   firingTypes              209806 non-null  object        \n",
      " 9   hasKitchen               266220 non-null  bool          \n",
      " 10  cellar                   266220 non-null  bool          \n",
      " 11  rent                     266220 non-null  float64       \n",
      " 12  livingSpace              266220 non-null  float64       \n",
      " 13  condition                198023 non-null  object        \n",
      " 14  interiorQual             154634 non-null  object        \n",
      " 15  petsAllowed              152725 non-null  object        \n",
      " 16  lift                     266220 non-null  bool          \n",
      " 17  typeOfFlat               229897 non-null  object        \n",
      " 18  zip_code                 266220 non-null  int64         \n",
      " 19  noRooms                  266220 non-null  float64       \n",
      " 20  thermalChar              160870 non-null  float64       \n",
      " 21  numberOfFloors           169355 non-null  float64       \n",
      " 22  garden                   266220 non-null  bool          \n",
      " 23  district                 266220 non-null  object        \n",
      " 24  town_municipality        266220 non-null  object        \n",
      " 25  date                     266220 non-null  datetime64[ns]\n",
      " 26  rent_per_sqm             266220 non-null  float64       \n",
      " 27  sqm_per_room             266220 non-null  float64       \n",
      " 28  area_km2                 266220 non-null  int64         \n",
      " 29  population_2019          266220 non-null  int64         \n",
      " 30  population_per_km2       266220 non-null  int64         \n",
      " 31  gdp_per_capita_2018      266220 non-null  int64         \n",
      " 32  hdi                      266220 non-null  float64       \n",
      " 33  total_state_listings     266220 non-null  int64         \n",
      " 34  total_state_sqm          266220 non-null  float64       \n",
      " 35  listings_per_1000capita  266220 non-null  float64       \n",
      " 36  listings_per_100sqm      266220 non-null  float64       \n",
      "dtypes: bool(6), datetime64[ns](2), float64(13), int64(6), object(10)\n",
      "memory usage: 64.5+ MB\n"
     ]
    }
   ],
   "source": [
    "rentals.info()"
   ]
  },
  {
   "cell_type": "markdown",
   "metadata": {},
   "source": [
    "# 5. Revising and Creating New Features<a id='5._Revising_and_Creating_New_Features'></a>"
   ]
  },
  {
   "cell_type": "markdown",
   "metadata": {},
   "source": [
    "## 5.1 Revising the yearBuilt feature<a id='5.1_Revising_the_yearBuilt_features'></a>"
   ]
  },
  {
   "cell_type": "code",
   "execution_count": 7,
   "metadata": {},
   "outputs": [],
   "source": [
    "#Convert yearBuilt feature to numeric format\n",
    "rentals['yearBuilt'] = rentals.yearConstructed.dt.year"
   ]
  },
  {
   "cell_type": "markdown",
   "metadata": {},
   "source": [
    "## 5.2 Creating a new feature for state rent clusters<a id='5.2_Creating_a_new_feature_for_state_rent_clusters'></a> "
   ]
  },
  {
   "cell_type": "code",
   "execution_count": 8,
   "metadata": {},
   "outputs": [],
   "source": [
    "#Create three lists of states according to their median rent seen during exploratory data analysis\n",
    "high_rent = ['Berlin', 'Hamburg']\n",
    "medium_rent = ['Baden_Württemberg', 'Bayern', 'Hessen']\n",
    "low_rent = ['Schleswig_Holstein', 'Thüringen', 'Niedersachsen', 'Saarland', 'Bremen', 'Sachsen',\\\n",
    "                  'Mecklenburg_Vorpommern', 'Sachsen_Anhalt', 'Brandenburg', 'Nordrhein_Westfalen', 'Rheinland_Pfalz']"
   ]
  },
  {
   "cell_type": "code",
   "execution_count": 9,
   "metadata": {
    "scrolled": true
   },
   "outputs": [
    {
     "data": {
      "text/plain": [
       "{'Berlin': 'high_rent_state',\n",
       " 'Hamburg': 'high_rent_state',\n",
       " 'Baden_Württemberg': 'medium_rent_state',\n",
       " 'Bayern': 'medium_rent_state',\n",
       " 'Hessen': 'medium_rent_state',\n",
       " 'Schleswig_Holstein': 'low_rent_state',\n",
       " 'Thüringen': 'low_rent_state',\n",
       " 'Niedersachsen': 'low_rent_state',\n",
       " 'Saarland': 'low_rent_state',\n",
       " 'Bremen': 'low_rent_state',\n",
       " 'Sachsen': 'low_rent_state',\n",
       " 'Mecklenburg_Vorpommern': 'low_rent_state',\n",
       " 'Sachsen_Anhalt': 'low_rent_state',\n",
       " 'Brandenburg': 'low_rent_state',\n",
       " 'Nordrhein_Westfalen': 'low_rent_state',\n",
       " 'Rheinland_Pfalz': 'low_rent_state'}"
      ]
     },
     "execution_count": 9,
     "metadata": {},
     "output_type": "execute_result"
    }
   ],
   "source": [
    "#Create a dictionary for mapping state to rent cluster\n",
    "rent_mapping = {}\n",
    "for state in high_rent:\n",
    "    rent_mapping[state] = 'high_rent_state'\n",
    "    \n",
    "for state in medium_rent:\n",
    "    rent_mapping[state] = 'medium_rent_state'\n",
    "\n",
    "for state in low_rent:\n",
    "    rent_mapping[state] = 'low_rent_state'\n",
    "\n",
    "rent_mapping"
   ]
  },
  {
   "cell_type": "code",
   "execution_count": 10,
   "metadata": {},
   "outputs": [
    {
     "data": {
      "text/html": [
       "<div>\n",
       "<style scoped>\n",
       "    .dataframe tbody tr th:only-of-type {\n",
       "        vertical-align: middle;\n",
       "    }\n",
       "\n",
       "    .dataframe tbody tr th {\n",
       "        vertical-align: top;\n",
       "    }\n",
       "\n",
       "    .dataframe thead th {\n",
       "        text-align: right;\n",
       "    }\n",
       "</style>\n",
       "<table border=\"1\" class=\"dataframe\">\n",
       "  <thead>\n",
       "    <tr style=\"text-align: right;\">\n",
       "      <th></th>\n",
       "      <th>state</th>\n",
       "      <th>rent</th>\n",
       "      <th>state_rent_class</th>\n",
       "    </tr>\n",
       "  </thead>\n",
       "  <tbody>\n",
       "    <tr>\n",
       "      <th>44410</th>\n",
       "      <td>Nordrhein_Westfalen</td>\n",
       "      <td>795.0</td>\n",
       "      <td>low_rent_state</td>\n",
       "    </tr>\n",
       "    <tr>\n",
       "      <th>13704</th>\n",
       "      <td>Nordrhein_Westfalen</td>\n",
       "      <td>499.0</td>\n",
       "      <td>low_rent_state</td>\n",
       "    </tr>\n",
       "    <tr>\n",
       "      <th>208738</th>\n",
       "      <td>Bayern</td>\n",
       "      <td>1040.0</td>\n",
       "      <td>medium_rent_state</td>\n",
       "    </tr>\n",
       "    <tr>\n",
       "      <th>248529</th>\n",
       "      <td>Berlin</td>\n",
       "      <td>1100.0</td>\n",
       "      <td>high_rent_state</td>\n",
       "    </tr>\n",
       "    <tr>\n",
       "      <th>41907</th>\n",
       "      <td>Nordrhein_Westfalen</td>\n",
       "      <td>1500.0</td>\n",
       "      <td>low_rent_state</td>\n",
       "    </tr>\n",
       "  </tbody>\n",
       "</table>\n",
       "</div>"
      ],
      "text/plain": [
       "                      state    rent   state_rent_class\n",
       "44410   Nordrhein_Westfalen   795.0     low_rent_state\n",
       "13704   Nordrhein_Westfalen   499.0     low_rent_state\n",
       "208738               Bayern  1040.0  medium_rent_state\n",
       "248529               Berlin  1100.0    high_rent_state\n",
       "41907   Nordrhein_Westfalen  1500.0     low_rent_state"
      ]
     },
     "execution_count": 10,
     "metadata": {},
     "output_type": "execute_result"
    }
   ],
   "source": [
    "#Create new feature - state_rent_class - for each observation\n",
    "rentals['state_rent_class'] = rentals['state'].replace(rent_mapping)\n",
    "rentals.loc[:, ['state', 'rent', 'state_rent_class']].sample(5)"
   ]
  },
  {
   "cell_type": "markdown",
   "metadata": {},
   "source": [
    "# 6. Create a Dataframe for the features and target variable<a id='5.6._Create_a_Dataframe_for_the_features_and_target_variable'></a> "
   ]
  },
  {
   "cell_type": "code",
   "execution_count": 11,
   "metadata": {},
   "outputs": [
    {
     "data": {
      "text/html": [
       "<div>\n",
       "<style scoped>\n",
       "    .dataframe tbody tr th:only-of-type {\n",
       "        vertical-align: middle;\n",
       "    }\n",
       "\n",
       "    .dataframe tbody tr th {\n",
       "        vertical-align: top;\n",
       "    }\n",
       "\n",
       "    .dataframe thead th {\n",
       "        text-align: right;\n",
       "    }\n",
       "</style>\n",
       "<table border=\"1\" class=\"dataframe\">\n",
       "  <thead>\n",
       "    <tr style=\"text-align: right;\">\n",
       "      <th></th>\n",
       "      <th>state</th>\n",
       "      <th>serviceCharge</th>\n",
       "      <th>heatingType</th>\n",
       "      <th>newlyConst</th>\n",
       "      <th>balcony</th>\n",
       "      <th>firingTypes</th>\n",
       "      <th>hasKitchen</th>\n",
       "      <th>cellar</th>\n",
       "      <th>livingSpace</th>\n",
       "      <th>condition</th>\n",
       "      <th>...</th>\n",
       "      <th>population_2019</th>\n",
       "      <th>population_per_km2</th>\n",
       "      <th>gdp_per_capita_2018</th>\n",
       "      <th>hdi</th>\n",
       "      <th>total_state_listings</th>\n",
       "      <th>total_state_sqm</th>\n",
       "      <th>listings_per_1000capita</th>\n",
       "      <th>listings_per_100sqm</th>\n",
       "      <th>yearBuilt</th>\n",
       "      <th>state_rent_class</th>\n",
       "    </tr>\n",
       "  </thead>\n",
       "  <tbody>\n",
       "    <tr>\n",
       "      <th>0</th>\n",
       "      <td>Nordrhein_Westfalen</td>\n",
       "      <td>245.0</td>\n",
       "      <td>central_heating</td>\n",
       "      <td>False</td>\n",
       "      <td>False</td>\n",
       "      <td>oil</td>\n",
       "      <td>False</td>\n",
       "      <td>True</td>\n",
       "      <td>86.00</td>\n",
       "      <td>well_kept</td>\n",
       "      <td>...</td>\n",
       "      <td>17932651</td>\n",
       "      <td>526</td>\n",
       "      <td>39678</td>\n",
       "      <td>0.936</td>\n",
       "      <td>62069</td>\n",
       "      <td>4615660.71</td>\n",
       "      <td>3.461228</td>\n",
       "      <td>1.344748</td>\n",
       "      <td>1965.0</td>\n",
       "      <td>low_rent_state</td>\n",
       "    </tr>\n",
       "    <tr>\n",
       "      <th>1</th>\n",
       "      <td>Nordrhein_Westfalen</td>\n",
       "      <td>95.0</td>\n",
       "      <td>self_contained_central_heating</td>\n",
       "      <td>False</td>\n",
       "      <td>False</td>\n",
       "      <td>gas</td>\n",
       "      <td>False</td>\n",
       "      <td>True</td>\n",
       "      <td>60.00</td>\n",
       "      <td>well_kept</td>\n",
       "      <td>...</td>\n",
       "      <td>17932651</td>\n",
       "      <td>526</td>\n",
       "      <td>39678</td>\n",
       "      <td>0.936</td>\n",
       "      <td>62069</td>\n",
       "      <td>4615660.71</td>\n",
       "      <td>3.461228</td>\n",
       "      <td>1.344748</td>\n",
       "      <td>1953.0</td>\n",
       "      <td>low_rent_state</td>\n",
       "    </tr>\n",
       "    <tr>\n",
       "      <th>2</th>\n",
       "      <td>Nordrhein_Westfalen</td>\n",
       "      <td>200.0</td>\n",
       "      <td>central_heating</td>\n",
       "      <td>False</td>\n",
       "      <td>False</td>\n",
       "      <td>oil</td>\n",
       "      <td>False</td>\n",
       "      <td>False</td>\n",
       "      <td>123.44</td>\n",
       "      <td>first_time_use_after_refurbishment</td>\n",
       "      <td>...</td>\n",
       "      <td>17932651</td>\n",
       "      <td>526</td>\n",
       "      <td>39678</td>\n",
       "      <td>0.936</td>\n",
       "      <td>62069</td>\n",
       "      <td>4615660.71</td>\n",
       "      <td>3.461228</td>\n",
       "      <td>1.344748</td>\n",
       "      <td>1951.0</td>\n",
       "      <td>low_rent_state</td>\n",
       "    </tr>\n",
       "    <tr>\n",
       "      <th>3</th>\n",
       "      <td>Nordrhein_Westfalen</td>\n",
       "      <td>215.0</td>\n",
       "      <td>gas_heating</td>\n",
       "      <td>True</td>\n",
       "      <td>True</td>\n",
       "      <td>gas</td>\n",
       "      <td>False</td>\n",
       "      <td>True</td>\n",
       "      <td>87.00</td>\n",
       "      <td>first_time_use</td>\n",
       "      <td>...</td>\n",
       "      <td>17932651</td>\n",
       "      <td>526</td>\n",
       "      <td>39678</td>\n",
       "      <td>0.936</td>\n",
       "      <td>62069</td>\n",
       "      <td>4615660.71</td>\n",
       "      <td>3.461228</td>\n",
       "      <td>1.344748</td>\n",
       "      <td>2018.0</td>\n",
       "      <td>low_rent_state</td>\n",
       "    </tr>\n",
       "    <tr>\n",
       "      <th>4</th>\n",
       "      <td>Nordrhein_Westfalen</td>\n",
       "      <td>121.0</td>\n",
       "      <td>central_heating</td>\n",
       "      <td>False</td>\n",
       "      <td>True</td>\n",
       "      <td>gas</td>\n",
       "      <td>False</td>\n",
       "      <td>True</td>\n",
       "      <td>65.00</td>\n",
       "      <td>well_kept</td>\n",
       "      <td>...</td>\n",
       "      <td>17932651</td>\n",
       "      <td>526</td>\n",
       "      <td>39678</td>\n",
       "      <td>0.936</td>\n",
       "      <td>62069</td>\n",
       "      <td>4615660.71</td>\n",
       "      <td>3.461228</td>\n",
       "      <td>1.344748</td>\n",
       "      <td>1914.0</td>\n",
       "      <td>low_rent_state</td>\n",
       "    </tr>\n",
       "  </tbody>\n",
       "</table>\n",
       "<p>5 rows × 34 columns</p>\n",
       "</div>"
      ],
      "text/plain": [
       "                 state  serviceCharge                     heatingType  \\\n",
       "0  Nordrhein_Westfalen          245.0                 central_heating   \n",
       "1  Nordrhein_Westfalen           95.0  self_contained_central_heating   \n",
       "2  Nordrhein_Westfalen          200.0                 central_heating   \n",
       "3  Nordrhein_Westfalen          215.0                     gas_heating   \n",
       "4  Nordrhein_Westfalen          121.0                 central_heating   \n",
       "\n",
       "   newlyConst  balcony firingTypes  hasKitchen  cellar  livingSpace  \\\n",
       "0       False    False         oil       False    True        86.00   \n",
       "1       False    False         gas       False    True        60.00   \n",
       "2       False    False         oil       False   False       123.44   \n",
       "3        True     True         gas       False    True        87.00   \n",
       "4       False     True         gas       False    True        65.00   \n",
       "\n",
       "                            condition  ... population_2019 population_per_km2  \\\n",
       "0                           well_kept  ...        17932651                526   \n",
       "1                           well_kept  ...        17932651                526   \n",
       "2  first_time_use_after_refurbishment  ...        17932651                526   \n",
       "3                      first_time_use  ...        17932651                526   \n",
       "4                           well_kept  ...        17932651                526   \n",
       "\n",
       "   gdp_per_capita_2018    hdi  total_state_listings  total_state_sqm  \\\n",
       "0                39678  0.936                 62069       4615660.71   \n",
       "1                39678  0.936                 62069       4615660.71   \n",
       "2                39678  0.936                 62069       4615660.71   \n",
       "3                39678  0.936                 62069       4615660.71   \n",
       "4                39678  0.936                 62069       4615660.71   \n",
       "\n",
       "   listings_per_1000capita  listings_per_100sqm yearBuilt state_rent_class  \n",
       "0                 3.461228             1.344748    1965.0   low_rent_state  \n",
       "1                 3.461228             1.344748    1953.0   low_rent_state  \n",
       "2                 3.461228             1.344748    1951.0   low_rent_state  \n",
       "3                 3.461228             1.344748    2018.0   low_rent_state  \n",
       "4                 3.461228             1.344748    1914.0   low_rent_state  \n",
       "\n",
       "[5 rows x 34 columns]"
      ]
     },
     "execution_count": 11,
     "metadata": {},
     "output_type": "execute_result"
    }
   ],
   "source": [
    "'''Create a features datafram and drop high cardinality (zip_code), low variance (telekomTvOffer & 'telekomUploadSpeed') \n",
    ", and redundant (yearConstructed) features. Also drop the target variable'''\n",
    "X = rentals.drop(columns = ['rent', 'yearConstructed', 'telekomUploadSpeed', 'telekomTvOffer', 'zip_code'])\n",
    "X.head()"
   ]
  },
  {
   "cell_type": "code",
   "execution_count": 12,
   "metadata": {
    "scrolled": true
   },
   "outputs": [
    {
     "data": {
      "text/html": [
       "<div>\n",
       "<style scoped>\n",
       "    .dataframe tbody tr th:only-of-type {\n",
       "        vertical-align: middle;\n",
       "    }\n",
       "\n",
       "    .dataframe tbody tr th {\n",
       "        vertical-align: top;\n",
       "    }\n",
       "\n",
       "    .dataframe thead th {\n",
       "        text-align: right;\n",
       "    }\n",
       "</style>\n",
       "<table border=\"1\" class=\"dataframe\">\n",
       "  <thead>\n",
       "    <tr style=\"text-align: right;\">\n",
       "      <th></th>\n",
       "      <th>rent</th>\n",
       "    </tr>\n",
       "  </thead>\n",
       "  <tbody>\n",
       "    <tr>\n",
       "      <th>0</th>\n",
       "      <td>595.0</td>\n",
       "    </tr>\n",
       "    <tr>\n",
       "      <th>1</th>\n",
       "      <td>300.0</td>\n",
       "    </tr>\n",
       "    <tr>\n",
       "      <th>2</th>\n",
       "      <td>950.0</td>\n",
       "    </tr>\n",
       "    <tr>\n",
       "      <th>3</th>\n",
       "      <td>972.6</td>\n",
       "    </tr>\n",
       "    <tr>\n",
       "      <th>4</th>\n",
       "      <td>329.0</td>\n",
       "    </tr>\n",
       "  </tbody>\n",
       "</table>\n",
       "</div>"
      ],
      "text/plain": [
       "    rent\n",
       "0  595.0\n",
       "1  300.0\n",
       "2  950.0\n",
       "3  972.6\n",
       "4  329.0"
      ]
     },
     "execution_count": 12,
     "metadata": {},
     "output_type": "execute_result"
    }
   ],
   "source": [
    "#Create a dataframe with the target variable\n",
    "y = rentals[['rent']]\n",
    "y.head()"
   ]
  },
  {
   "cell_type": "markdown",
   "metadata": {},
   "source": [
    "# 7. Develop an Imputation Strategy<a id='7._Develop_an_Imputation_Strategy'></a>"
   ]
  },
  {
   "cell_type": "code",
   "execution_count": 13,
   "metadata": {
    "scrolled": false
   },
   "outputs": [
    {
     "data": {
      "text/plain": [
       "state                              object\n",
       "serviceCharge                     float64\n",
       "heatingType                        object\n",
       "newlyConst                           bool\n",
       "balcony                              bool\n",
       "firingTypes                        object\n",
       "hasKitchen                           bool\n",
       "cellar                               bool\n",
       "livingSpace                       float64\n",
       "condition                          object\n",
       "interiorQual                       object\n",
       "petsAllowed                        object\n",
       "lift                                 bool\n",
       "typeOfFlat                         object\n",
       "noRooms                           float64\n",
       "thermalChar                       float64\n",
       "numberOfFloors                    float64\n",
       "garden                               bool\n",
       "district                           object\n",
       "town_municipality                  object\n",
       "date                       datetime64[ns]\n",
       "rent_per_sqm                      float64\n",
       "sqm_per_room                      float64\n",
       "area_km2                            int64\n",
       "population_2019                     int64\n",
       "population_per_km2                  int64\n",
       "gdp_per_capita_2018                 int64\n",
       "hdi                               float64\n",
       "total_state_listings                int64\n",
       "total_state_sqm                   float64\n",
       "listings_per_1000capita           float64\n",
       "listings_per_100sqm               float64\n",
       "yearBuilt                         float64\n",
       "state_rent_class                   object\n",
       "dtype: object"
      ]
     },
     "execution_count": 13,
     "metadata": {},
     "output_type": "execute_result"
    }
   ],
   "source": [
    "# Review datatypes\n",
    "X.dtypes"
   ]
  },
  {
   "cell_type": "code",
   "execution_count": 14,
   "metadata": {},
   "outputs": [
    {
     "data": {
      "text/plain": [
       "['state',\n",
       " 'heatingType',\n",
       " 'firingTypes',\n",
       " 'condition',\n",
       " 'interiorQual',\n",
       " 'petsAllowed',\n",
       " 'typeOfFlat',\n",
       " 'district',\n",
       " 'town_municipality',\n",
       " 'state_rent_class']"
      ]
     },
     "execution_count": 14,
     "metadata": {},
     "output_type": "execute_result"
    }
   ],
   "source": [
    "#Create a list of names for categorical features\n",
    "cat_cols = X.select_dtypes('object').columns.to_list()\n",
    "cat_cols"
   ]
  },
  {
   "cell_type": "code",
   "execution_count": 15,
   "metadata": {},
   "outputs": [
    {
     "data": {
      "text/plain": [
       "['serviceCharge',\n",
       " 'livingSpace',\n",
       " 'noRooms',\n",
       " 'thermalChar',\n",
       " 'numberOfFloors',\n",
       " 'rent_per_sqm',\n",
       " 'sqm_per_room',\n",
       " 'area_km2',\n",
       " 'population_2019',\n",
       " 'population_per_km2',\n",
       " 'gdp_per_capita_2018',\n",
       " 'hdi',\n",
       " 'total_state_listings',\n",
       " 'total_state_sqm',\n",
       " 'listings_per_1000capita',\n",
       " 'listings_per_100sqm',\n",
       " 'yearBuilt']"
      ]
     },
     "execution_count": 15,
     "metadata": {},
     "output_type": "execute_result"
    }
   ],
   "source": [
    "#Create a list of names for numerical features\n",
    "num_cols = X.select_dtypes(['float64', 'int64']).columns.to_list()\n",
    "num_cols"
   ]
  },
  {
   "cell_type": "code",
   "execution_count": 16,
   "metadata": {},
   "outputs": [
    {
     "data": {
      "text/plain": [
       "[(['serviceCharge'], SimpleImputer(strategy='median')),\n",
       " (['livingSpace'], SimpleImputer(strategy='median')),\n",
       " (['noRooms'], SimpleImputer(strategy='median')),\n",
       " (['thermalChar'], SimpleImputer(strategy='median')),\n",
       " (['numberOfFloors'], SimpleImputer(strategy='median')),\n",
       " (['rent_per_sqm'], SimpleImputer(strategy='median')),\n",
       " (['sqm_per_room'], SimpleImputer(strategy='median')),\n",
       " (['area_km2'], SimpleImputer(strategy='median')),\n",
       " (['population_2019'], SimpleImputer(strategy='median')),\n",
       " (['population_per_km2'], SimpleImputer(strategy='median')),\n",
       " (['gdp_per_capita_2018'], SimpleImputer(strategy='median')),\n",
       " (['hdi'], SimpleImputer(strategy='median')),\n",
       " (['total_state_listings'], SimpleImputer(strategy='median')),\n",
       " (['total_state_sqm'], SimpleImputer(strategy='median')),\n",
       " (['listings_per_1000capita'], SimpleImputer(strategy='median')),\n",
       " (['listings_per_100sqm'], SimpleImputer(strategy='median')),\n",
       " (['yearBuilt'], SimpleImputer(strategy='median')),\n",
       " (['state'], SimpleImputer(strategy='most_frequent')),\n",
       " (['heatingType'], SimpleImputer(strategy='most_frequent')),\n",
       " (['firingTypes'], SimpleImputer(strategy='most_frequent')),\n",
       " (['condition'], SimpleImputer(strategy='most_frequent')),\n",
       " (['interiorQual'], SimpleImputer(strategy='most_frequent')),\n",
       " (['petsAllowed'], SimpleImputer(strategy='most_frequent')),\n",
       " (['typeOfFlat'], SimpleImputer(strategy='most_frequent')),\n",
       " (['district'], SimpleImputer(strategy='most_frequent')),\n",
       " (['town_municipality'], SimpleImputer(strategy='most_frequent')),\n",
       " (['state_rent_class'], SimpleImputer(strategy='most_frequent'))]"
      ]
     },
     "execution_count": 16,
     "metadata": {},
     "output_type": "execute_result"
    }
   ],
   "source": [
    "#Use median imputation for numerical features\n",
    "imputations = []\n",
    "imputations.extend([([numeric_col], SimpleImputer(missing_values = np.nan, strategy = 'median')) \\\n",
    "                                for numeric_col in num_cols])\n",
    "#Use 'most_frequent' imputation for categorical features\n",
    "imputations.extend([([cat_col], SimpleImputer(strategy = 'most_frequent')) for cat_col in cat_cols])\n",
    "imputations"
   ]
  },
  {
   "cell_type": "code",
   "execution_count": 17,
   "metadata": {
    "scrolled": true
   },
   "outputs": [
    {
     "data": {
      "text/plain": [
       "DataFrameMapper(df_out=True, drop_cols=[],\n",
       "                features=[(['serviceCharge'], SimpleImputer(strategy='median')),\n",
       "                          (['livingSpace'], SimpleImputer(strategy='median')),\n",
       "                          (['noRooms'], SimpleImputer(strategy='median')),\n",
       "                          (['thermalChar'], SimpleImputer(strategy='median')),\n",
       "                          (['numberOfFloors'],\n",
       "                           SimpleImputer(strategy='median')),\n",
       "                          (['rent_per_sqm'], SimpleImputer(strategy='m...\n",
       "                           SimpleImputer(strategy='most_frequent')),\n",
       "                          (['petsAllowed'],\n",
       "                           SimpleImputer(strategy='most_frequent')),\n",
       "                          (['typeOfFlat'],\n",
       "                           SimpleImputer(strategy='most_frequent')),\n",
       "                          (['district'],\n",
       "                           SimpleImputer(strategy='most_frequent')),\n",
       "                          (['town_municipality'],\n",
       "                           SimpleImputer(strategy='most_frequent')),\n",
       "                          (['state_rent_class'],\n",
       "                           SimpleImputer(strategy='most_frequent'))],\n",
       "                input_df=True)"
      ]
     },
     "execution_count": 17,
     "metadata": {},
     "output_type": "execute_result"
    }
   ],
   "source": [
    "#Create pipeline element that enables imputation of missing values\n",
    "df_imputation = DataFrameMapper(imputations, input_df = True, df_out = True)\n",
    "df_imputation"
   ]
  },
  {
   "cell_type": "markdown",
   "metadata": {},
   "source": [
    "# 8. Create Train-Test Split<a id='8._Create_Train-Test_Split'></a>"
   ]
  },
  {
   "cell_type": "code",
   "execution_count": 18,
   "metadata": {},
   "outputs": [],
   "source": [
    "#Split X and y to test and training set\n",
    "X_train, X_test, y_train, y_test = train_test_split(X, y, test_size = 0.3, random_state = 77)"
   ]
  },
  {
   "cell_type": "markdown",
   "metadata": {},
   "source": [
    "# 9. Create One Hot Encoding Object<a id='9._Create_One_Hot_Encoding_Object'></a>"
   ]
  },
  {
   "cell_type": "code",
   "execution_count": 19,
   "metadata": {},
   "outputs": [],
   "source": [
    "onehot = OneHotEncoder(handle_unknown = 'ignore')"
   ]
  },
  {
   "cell_type": "markdown",
   "metadata": {},
   "source": [
    "# 10. Create Scaling Object<a id='10._Create_Scaling_Object'></a>"
   ]
  },
  {
   "cell_type": "code",
   "execution_count": 20,
   "metadata": {},
   "outputs": [],
   "source": [
    "scaler = StandardScaler(with_mean = False)"
   ]
  }
 ],
 "metadata": {
  "kernelspec": {
   "display_name": "Python 3",
   "language": "python",
   "name": "python3"
  },
  "language_info": {
   "codemirror_mode": {
    "name": "ipython",
    "version": 3
   },
   "file_extension": ".py",
   "mimetype": "text/x-python",
   "name": "python",
   "nbconvert_exporter": "python",
   "pygments_lexer": "ipython3",
   "version": "3.8.10"
  }
 },
 "nbformat": 4,
 "nbformat_minor": 4
}
