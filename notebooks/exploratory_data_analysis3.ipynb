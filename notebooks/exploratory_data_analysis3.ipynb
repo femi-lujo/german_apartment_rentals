{
 "cells": [
  {
   "cell_type": "markdown",
   "metadata": {},
   "source": [
    "# B. Exploratory Data Analysis"
   ]
  },
  {
   "cell_type": "markdown",
   "metadata": {},
   "source": [
    "# 1. Content"
   ]
  },
  {
   "cell_type": "markdown",
   "metadata": {},
   "source": [
    "# 2. Introduction "
   ]
  },
  {
   "cell_type": "markdown",
   "metadata": {},
   "source": [
    "## 2.1 Questions to answer "
   ]
  },
  {
   "cell_type": "markdown",
   "metadata": {},
   "source": [
    "- Is location a key consideration for rent?\n",
    "- Does quantity supplied affect the price of rent?\n",
    "- Does the size of the state affect rent?\n",
    "- Do macro economic factors such as population and regional GDP affect rent?\n",
    "- Did rent increase over the three years that the data set was collected?\n",
    "- Is rent stable in certain states versus others?\n",
    "- Which of the marketed features in the data set affect rent?"
   ]
  },
  {
   "cell_type": "markdown",
   "metadata": {},
   "source": [
    "# 3. Imports "
   ]
  },
  {
   "cell_type": "code",
   "execution_count": 1,
   "metadata": {},
   "outputs": [
    {
     "name": "stderr",
     "output_type": "stream",
     "text": [
      "C:\\Users\\zebin\\anaconda3\\lib\\site-packages\\fuzzywuzzy\\fuzz.py:11: UserWarning: Using slow pure-python SequenceMatcher. Install python-Levenshtein to remove this warning\n",
      "  warnings.warn('Using slow pure-python SequenceMatcher. Install python-Levenshtein to remove this warning')\n"
     ]
    }
   ],
   "source": [
    "import pandas as pd\n",
    "from datetime import datetime\n",
    "import numpy as np\n",
    "import seaborn as sns\n",
    "import matplotlib.pyplot as plt\n",
    "import statsmodels\n",
    "import statsmodels.api as sm\n",
    "from statsmodels.formula.api import ols\n",
    "from fuzzywuzzy import fuzz"
   ]
  },
  {
   "cell_type": "markdown",
   "metadata": {},
   "source": [
    "# 4. Load Data "
   ]
  },
  {
   "cell_type": "markdown",
   "metadata": {},
   "source": [
    "## 4.1 Rentals data "
   ]
  },
  {
   "cell_type": "code",
   "execution_count": 2,
   "metadata": {},
   "outputs": [],
   "source": [
    "#Load rentals and view data\n",
    "rentals = pd.read_csv('..\\data\\processed\\\\rentals_cleaned4.csv')"
   ]
  },
  {
   "cell_type": "code",
   "execution_count": 3,
   "metadata": {},
   "outputs": [],
   "source": [
    "rentals_eda = rentals.copy()"
   ]
  },
  {
   "cell_type": "code",
   "execution_count": 4,
   "metadata": {},
   "outputs": [
    {
     "name": "stdout",
     "output_type": "stream",
     "text": [
      "<class 'pandas.core.frame.DataFrame'>\n",
      "RangeIndex: 266572 entries, 0 to 266571\n",
      "Data columns (total 30 columns):\n",
      " #   Column              Non-Null Count   Dtype  \n",
      "---  ------              --------------   -----  \n",
      " 0   state               266572 non-null  object \n",
      " 1   serviceCharge       259623 non-null  float64\n",
      " 2   heatingType         222023 non-null  object \n",
      " 3   telekomTvOffer      234237 non-null  object \n",
      " 4   newlyConst          266572 non-null  bool   \n",
      " 5   balcony             266572 non-null  bool   \n",
      " 6   picturecount        266572 non-null  int64  \n",
      " 7   pricetrend          264748 non-null  float64\n",
      " 8   telekomUploadSpeed  233505 non-null  float64\n",
      " 9   totalRent           226414 non-null  float64\n",
      " 10  yearConstructed     209629 non-null  object \n",
      " 11  scoutId             266572 non-null  int64  \n",
      " 12  firingTypes         210028 non-null  object \n",
      " 13  hasKitchen          266572 non-null  bool   \n",
      " 14  cellar              266572 non-null  bool   \n",
      " 15  baseRent            266568 non-null  float64\n",
      " 16  livingSpace         266559 non-null  float64\n",
      " 17  condition           198249 non-null  object \n",
      " 18  interiorQual        154791 non-null  object \n",
      " 19  petsAllowed         152909 non-null  object \n",
      " 20  lift                266572 non-null  bool   \n",
      " 21  typeOfFlat          230177 non-null  object \n",
      " 22  zip_code            266572 non-null  int64  \n",
      " 23  noRooms             266516 non-null  float64\n",
      " 24  thermalChar         159879 non-null  float64\n",
      " 25  numberOfFloors      169413 non-null  float64\n",
      " 26  garden              266572 non-null  bool   \n",
      " 27  district            266572 non-null  object \n",
      " 28  town_municipality   266572 non-null  object \n",
      " 29  date                266572 non-null  object \n",
      "dtypes: bool(6), float64(9), int64(3), object(12)\n",
      "memory usage: 50.3+ MB\n"
     ]
    }
   ],
   "source": [
    "rentals_eda.info()"
   ]
  },
  {
   "cell_type": "code",
   "execution_count": 5,
   "metadata": {
    "scrolled": false
   },
   "outputs": [
    {
     "data": {
      "text/html": [
       "<div>\n",
       "<style scoped>\n",
       "    .dataframe tbody tr th:only-of-type {\n",
       "        vertical-align: middle;\n",
       "    }\n",
       "\n",
       "    .dataframe tbody tr th {\n",
       "        vertical-align: top;\n",
       "    }\n",
       "\n",
       "    .dataframe thead th {\n",
       "        text-align: right;\n",
       "    }\n",
       "</style>\n",
       "<table border=\"1\" class=\"dataframe\">\n",
       "  <thead>\n",
       "    <tr style=\"text-align: right;\">\n",
       "      <th></th>\n",
       "      <th>state</th>\n",
       "      <th>serviceCharge</th>\n",
       "      <th>heatingType</th>\n",
       "      <th>telekomTvOffer</th>\n",
       "      <th>newlyConst</th>\n",
       "      <th>balcony</th>\n",
       "      <th>picturecount</th>\n",
       "      <th>pricetrend</th>\n",
       "      <th>telekomUploadSpeed</th>\n",
       "      <th>totalRent</th>\n",
       "      <th>...</th>\n",
       "      <th>lift</th>\n",
       "      <th>typeOfFlat</th>\n",
       "      <th>zip_code</th>\n",
       "      <th>noRooms</th>\n",
       "      <th>thermalChar</th>\n",
       "      <th>numberOfFloors</th>\n",
       "      <th>garden</th>\n",
       "      <th>district</th>\n",
       "      <th>town_municipality</th>\n",
       "      <th>date</th>\n",
       "    </tr>\n",
       "  </thead>\n",
       "  <tbody>\n",
       "    <tr>\n",
       "      <th>0</th>\n",
       "      <td>Nordrhein_Westfalen</td>\n",
       "      <td>245.00</td>\n",
       "      <td>central_heating</td>\n",
       "      <td>ONE_YEAR_FREE</td>\n",
       "      <td>False</td>\n",
       "      <td>False</td>\n",
       "      <td>6</td>\n",
       "      <td>4.62</td>\n",
       "      <td>10.0</td>\n",
       "      <td>840.0</td>\n",
       "      <td>...</td>\n",
       "      <td>False</td>\n",
       "      <td>ground_floor</td>\n",
       "      <td>44269</td>\n",
       "      <td>4.0</td>\n",
       "      <td>181.4</td>\n",
       "      <td>3.0</td>\n",
       "      <td>True</td>\n",
       "      <td>Dortmund</td>\n",
       "      <td>Schüren</td>\n",
       "      <td>2019-05-01</td>\n",
       "    </tr>\n",
       "    <tr>\n",
       "      <th>1</th>\n",
       "      <td>Rheinland_Pfalz</td>\n",
       "      <td>134.00</td>\n",
       "      <td>self_contained_central_heating</td>\n",
       "      <td>ONE_YEAR_FREE</td>\n",
       "      <td>False</td>\n",
       "      <td>True</td>\n",
       "      <td>8</td>\n",
       "      <td>3.47</td>\n",
       "      <td>10.0</td>\n",
       "      <td>NaN</td>\n",
       "      <td>...</td>\n",
       "      <td>False</td>\n",
       "      <td>ground_floor</td>\n",
       "      <td>67459</td>\n",
       "      <td>3.0</td>\n",
       "      <td>NaN</td>\n",
       "      <td>NaN</td>\n",
       "      <td>False</td>\n",
       "      <td>Rhein_Pfalz</td>\n",
       "      <td>Böhl_Iggelheim</td>\n",
       "      <td>2019-05-01</td>\n",
       "    </tr>\n",
       "    <tr>\n",
       "      <th>2</th>\n",
       "      <td>Sachsen</td>\n",
       "      <td>255.00</td>\n",
       "      <td>floor_heating</td>\n",
       "      <td>ONE_YEAR_FREE</td>\n",
       "      <td>True</td>\n",
       "      <td>True</td>\n",
       "      <td>8</td>\n",
       "      <td>2.72</td>\n",
       "      <td>2.4</td>\n",
       "      <td>1300.0</td>\n",
       "      <td>...</td>\n",
       "      <td>True</td>\n",
       "      <td>apartment</td>\n",
       "      <td>1097</td>\n",
       "      <td>3.0</td>\n",
       "      <td>NaN</td>\n",
       "      <td>4.0</td>\n",
       "      <td>False</td>\n",
       "      <td>Dresden</td>\n",
       "      <td>Äußere_Neustadt_Antonstadt</td>\n",
       "      <td>2019-10-01</td>\n",
       "    </tr>\n",
       "    <tr>\n",
       "      <th>3</th>\n",
       "      <td>Sachsen</td>\n",
       "      <td>58.15</td>\n",
       "      <td>district_heating</td>\n",
       "      <td>ONE_YEAR_FREE</td>\n",
       "      <td>False</td>\n",
       "      <td>True</td>\n",
       "      <td>9</td>\n",
       "      <td>1.53</td>\n",
       "      <td>40.0</td>\n",
       "      <td>NaN</td>\n",
       "      <td>...</td>\n",
       "      <td>False</td>\n",
       "      <td>other</td>\n",
       "      <td>9599</td>\n",
       "      <td>3.0</td>\n",
       "      <td>86.0</td>\n",
       "      <td>NaN</td>\n",
       "      <td>False</td>\n",
       "      <td>Mittelsachsen</td>\n",
       "      <td>Freiberg</td>\n",
       "      <td>2019-05-01</td>\n",
       "    </tr>\n",
       "    <tr>\n",
       "      <th>4</th>\n",
       "      <td>Bremen</td>\n",
       "      <td>138.00</td>\n",
       "      <td>self_contained_central_heating</td>\n",
       "      <td>NaN</td>\n",
       "      <td>False</td>\n",
       "      <td>True</td>\n",
       "      <td>19</td>\n",
       "      <td>2.46</td>\n",
       "      <td>NaN</td>\n",
       "      <td>903.0</td>\n",
       "      <td>...</td>\n",
       "      <td>False</td>\n",
       "      <td>apartment</td>\n",
       "      <td>28213</td>\n",
       "      <td>3.0</td>\n",
       "      <td>188.9</td>\n",
       "      <td>NaN</td>\n",
       "      <td>False</td>\n",
       "      <td>Bremen</td>\n",
       "      <td>Neu_Schwachhausen</td>\n",
       "      <td>2020-02-01</td>\n",
       "    </tr>\n",
       "  </tbody>\n",
       "</table>\n",
       "<p>5 rows × 30 columns</p>\n",
       "</div>"
      ],
      "text/plain": [
       "                 state  serviceCharge                     heatingType  \\\n",
       "0  Nordrhein_Westfalen         245.00                 central_heating   \n",
       "1      Rheinland_Pfalz         134.00  self_contained_central_heating   \n",
       "2              Sachsen         255.00                   floor_heating   \n",
       "3              Sachsen          58.15                district_heating   \n",
       "4               Bremen         138.00  self_contained_central_heating   \n",
       "\n",
       "  telekomTvOffer  newlyConst  balcony  picturecount  pricetrend  \\\n",
       "0  ONE_YEAR_FREE       False    False             6        4.62   \n",
       "1  ONE_YEAR_FREE       False     True             8        3.47   \n",
       "2  ONE_YEAR_FREE        True     True             8        2.72   \n",
       "3  ONE_YEAR_FREE       False     True             9        1.53   \n",
       "4            NaN       False     True            19        2.46   \n",
       "\n",
       "   telekomUploadSpeed  totalRent  ...   lift    typeOfFlat zip_code  noRooms  \\\n",
       "0                10.0      840.0  ...  False  ground_floor    44269      4.0   \n",
       "1                10.0        NaN  ...  False  ground_floor    67459      3.0   \n",
       "2                 2.4     1300.0  ...   True     apartment     1097      3.0   \n",
       "3                40.0        NaN  ...  False         other     9599      3.0   \n",
       "4                 NaN      903.0  ...  False     apartment    28213      3.0   \n",
       "\n",
       "   thermalChar  numberOfFloors  garden       district  \\\n",
       "0        181.4             3.0    True       Dortmund   \n",
       "1          NaN             NaN   False    Rhein_Pfalz   \n",
       "2          NaN             4.0   False        Dresden   \n",
       "3         86.0             NaN   False  Mittelsachsen   \n",
       "4        188.9             NaN   False         Bremen   \n",
       "\n",
       "            town_municipality        date  \n",
       "0                     Schüren  2019-05-01  \n",
       "1              Böhl_Iggelheim  2019-05-01  \n",
       "2  Äußere_Neustadt_Antonstadt  2019-10-01  \n",
       "3                    Freiberg  2019-05-01  \n",
       "4           Neu_Schwachhausen  2020-02-01  \n",
       "\n",
       "[5 rows x 30 columns]"
      ]
     },
     "execution_count": 5,
     "metadata": {},
     "output_type": "execute_result"
    }
   ],
   "source": [
    "rentals_eda.head()"
   ]
  },
  {
   "cell_type": "markdown",
   "metadata": {},
   "source": [
    "## 4.2 State-wide geo-economic data "
   ]
  },
  {
   "cell_type": "code",
   "execution_count": 6,
   "metadata": {},
   "outputs": [],
   "source": [
    "# Load and view geo-economic data\n",
    "geo_economy = pd.read_csv('..\\data\\processed\\\\state_features.csv')"
   ]
  },
  {
   "cell_type": "code",
   "execution_count": 7,
   "metadata": {},
   "outputs": [
    {
     "name": "stdout",
     "output_type": "stream",
     "text": [
      "<class 'pandas.core.frame.DataFrame'>\n",
      "RangeIndex: 16 entries, 0 to 15\n",
      "Data columns (total 6 columns):\n",
      " #   Column               Non-Null Count  Dtype  \n",
      "---  ------               --------------  -----  \n",
      " 0   state                16 non-null     object \n",
      " 1   area_km2             16 non-null     int64  \n",
      " 2   population_2019      16 non-null     int64  \n",
      " 3   population_per_km2   16 non-null     int64  \n",
      " 4   gdp_per_capita_2018  16 non-null     int64  \n",
      " 5   hdi                  16 non-null     float64\n",
      "dtypes: float64(1), int64(4), object(1)\n",
      "memory usage: 896.0+ bytes\n"
     ]
    }
   ],
   "source": [
    "geo_economy.info()"
   ]
  },
  {
   "cell_type": "code",
   "execution_count": 8,
   "metadata": {},
   "outputs": [
    {
     "data": {
      "text/html": [
       "<div>\n",
       "<style scoped>\n",
       "    .dataframe tbody tr th:only-of-type {\n",
       "        vertical-align: middle;\n",
       "    }\n",
       "\n",
       "    .dataframe tbody tr th {\n",
       "        vertical-align: top;\n",
       "    }\n",
       "\n",
       "    .dataframe thead th {\n",
       "        text-align: right;\n",
       "    }\n",
       "</style>\n",
       "<table border=\"1\" class=\"dataframe\">\n",
       "  <thead>\n",
       "    <tr style=\"text-align: right;\">\n",
       "      <th></th>\n",
       "      <th>state</th>\n",
       "      <th>area_km2</th>\n",
       "      <th>population_2019</th>\n",
       "      <th>population_per_km2</th>\n",
       "      <th>gdp_per_capita_2018</th>\n",
       "      <th>hdi</th>\n",
       "    </tr>\n",
       "  </thead>\n",
       "  <tbody>\n",
       "    <tr>\n",
       "      <th>0</th>\n",
       "      <td>Baden-Württemberg</td>\n",
       "      <td>35752</td>\n",
       "      <td>11100394</td>\n",
       "      <td>310</td>\n",
       "      <td>47290</td>\n",
       "      <td>0.953</td>\n",
       "    </tr>\n",
       "    <tr>\n",
       "      <th>1</th>\n",
       "      <td>Bavaria(Bayern)</td>\n",
       "      <td>70552</td>\n",
       "      <td>13124737</td>\n",
       "      <td>185</td>\n",
       "      <td>48323</td>\n",
       "      <td>0.947</td>\n",
       "    </tr>\n",
       "    <tr>\n",
       "      <th>2</th>\n",
       "      <td>Berlin</td>\n",
       "      <td>892</td>\n",
       "      <td>3669491</td>\n",
       "      <td>4086</td>\n",
       "      <td>41967</td>\n",
       "      <td>0.950</td>\n",
       "    </tr>\n",
       "    <tr>\n",
       "      <th>3</th>\n",
       "      <td>Brandenburg</td>\n",
       "      <td>29479</td>\n",
       "      <td>2521893</td>\n",
       "      <td>85</td>\n",
       "      <td>29541</td>\n",
       "      <td>0.914</td>\n",
       "    </tr>\n",
       "    <tr>\n",
       "      <th>4</th>\n",
       "      <td>Bremen</td>\n",
       "      <td>419</td>\n",
       "      <td>681202</td>\n",
       "      <td>1630</td>\n",
       "      <td>49215</td>\n",
       "      <td>0.951</td>\n",
       "    </tr>\n",
       "  </tbody>\n",
       "</table>\n",
       "</div>"
      ],
      "text/plain": [
       "               state  area_km2  population_2019  population_per_km2  \\\n",
       "0  Baden-Württemberg     35752         11100394                 310   \n",
       "1    Bavaria(Bayern)     70552         13124737                 185   \n",
       "2             Berlin       892          3669491                4086   \n",
       "3        Brandenburg     29479          2521893                  85   \n",
       "4             Bremen       419           681202                1630   \n",
       "\n",
       "   gdp_per_capita_2018    hdi  \n",
       "0                47290  0.953  \n",
       "1                48323  0.947  \n",
       "2                41967  0.950  \n",
       "3                29541  0.914  \n",
       "4                49215  0.951  "
      ]
     },
     "execution_count": 8,
     "metadata": {},
     "output_type": "execute_result"
    }
   ],
   "source": [
    "geo_economy.head()"
   ]
  },
  {
   "cell_type": "markdown",
   "metadata": {},
   "source": [
    "# 5. Explore Data "
   ]
  },
  {
   "cell_type": "markdown",
   "metadata": {},
   "source": [
    "## 5.1 Relationship between rent and location"
   ]
  },
  {
   "cell_type": "markdown",
   "metadata": {},
   "source": [
    "### 5.1.1 State-wise review of rent"
   ]
  },
  {
   "cell_type": "code",
   "execution_count": 9,
   "metadata": {},
   "outputs": [
    {
     "data": {
      "text/plain": [
       "Index(['state', 'serviceCharge', 'heatingType', 'telekomTvOffer', 'newlyConst',\n",
       "       'balcony', 'picturecount', 'pricetrend', 'telekomUploadSpeed',\n",
       "       'totalRent', 'yearConstructed', 'scoutId', 'firingTypes', 'hasKitchen',\n",
       "       'cellar', 'rent', 'livingSpace', 'condition', 'interiorQual',\n",
       "       'petsAllowed', 'lift', 'typeOfFlat', 'zip_code', 'noRooms',\n",
       "       'thermalChar', 'numberOfFloors', 'garden', 'district',\n",
       "       'town_municipality', 'date'],\n",
       "      dtype='object')"
      ]
     },
     "execution_count": 9,
     "metadata": {},
     "output_type": "execute_result"
    }
   ],
   "source": [
    "#Rename name baseRent column of rentals_eda dataframe to rent\n",
    "rentals_eda = rentals_eda.rename(columns = {'baseRent': 'rent'})\n",
    "rentals_eda.columns"
   ]
  },
  {
   "cell_type": "code",
   "execution_count": 10,
   "metadata": {
    "scrolled": false
   },
   "outputs": [
    {
     "data": {
      "text/html": [
       "<div>\n",
       "<style scoped>\n",
       "    .dataframe tbody tr th:only-of-type {\n",
       "        vertical-align: middle;\n",
       "    }\n",
       "\n",
       "    .dataframe tbody tr th {\n",
       "        vertical-align: top;\n",
       "    }\n",
       "\n",
       "    .dataframe thead th {\n",
       "        text-align: right;\n",
       "    }\n",
       "</style>\n",
       "<table border=\"1\" class=\"dataframe\">\n",
       "  <thead>\n",
       "    <tr style=\"text-align: right;\">\n",
       "      <th></th>\n",
       "      <th>median_rent</th>\n",
       "      <th>mean_rent</th>\n",
       "    </tr>\n",
       "    <tr>\n",
       "      <th>state</th>\n",
       "      <th></th>\n",
       "      <th></th>\n",
       "    </tr>\n",
       "  </thead>\n",
       "  <tbody>\n",
       "    <tr>\n",
       "      <th>Baden_Württemberg</th>\n",
       "      <td>850.000</td>\n",
       "      <td>953.155464</td>\n",
       "    </tr>\n",
       "    <tr>\n",
       "      <th>Bayern</th>\n",
       "      <td>850.000</td>\n",
       "      <td>1017.062728</td>\n",
       "    </tr>\n",
       "    <tr>\n",
       "      <th>Berlin</th>\n",
       "      <td>949.000</td>\n",
       "      <td>1168.231671</td>\n",
       "    </tr>\n",
       "    <tr>\n",
       "      <th>Brandenburg</th>\n",
       "      <td>394.995</td>\n",
       "      <td>511.034536</td>\n",
       "    </tr>\n",
       "    <tr>\n",
       "      <th>Bremen</th>\n",
       "      <td>501.415</td>\n",
       "      <td>623.775258</td>\n",
       "    </tr>\n",
       "  </tbody>\n",
       "</table>\n",
       "</div>"
      ],
      "text/plain": [
       "                   median_rent    mean_rent\n",
       "state                                      \n",
       "Baden_Württemberg      850.000   953.155464\n",
       "Bayern                 850.000  1017.062728\n",
       "Berlin                 949.000  1168.231671\n",
       "Brandenburg            394.995   511.034536\n",
       "Bremen                 501.415   623.775258"
      ]
     },
     "execution_count": 10,
     "metadata": {},
     "output_type": "execute_result"
    }
   ],
   "source": [
    "#Create a dataframe with state as index and mean / median rent\n",
    "avg_state_rent = rentals_eda.groupby('state').agg(median_rent = pd.NamedAgg(column = 'rent', aggfunc = 'median'), \\\n",
    "                                mean_rent = pd.NamedAgg(column = 'rent', aggfunc = 'mean'))\n",
    "avg_state_rent.head()"
   ]
  },
  {
   "cell_type": "code",
   "execution_count": 11,
   "metadata": {
    "scrolled": false
   },
   "outputs": [
    {
     "data": {
      "image/png": "[encoded data removed]",
      "text/plain": [
       "<Figure size 720x720 with 1 Axes>"
      ]
     },
     "metadata": {
      "needs_background": "light"
     },
     "output_type": "display_data"
    }
   ],
   "source": [
    "# Create bar plot showing mean and median rent for each state\n",
    "avg_state_rent.reindex(index= avg_state_rent.mean(axis= 1).sort_values(ascending= False).index).plot(kind= 'barh', figsize= (10, 10))\n",
    "plt.title('Mean and median rent per state')\n",
    "plt.xlabel('Price (euros)');"
   ]
  },
  {
   "cell_type": "markdown",
   "metadata": {},
   "source": [
    "- We note that location appears to have an impact on the mean and median prices of rent. Sachsen_Anhalt offers the lowest rent, while Hamburg offers the hightest rent. "
   ]
  },
  {
   "cell_type": "code",
   "execution_count": 12,
   "metadata": {},
   "outputs": [
    {
     "data": {
      "text/html": [
       "<div>\n",
       "<style scoped>\n",
       "    .dataframe tbody tr th:only-of-type {\n",
       "        vertical-align: middle;\n",
       "    }\n",
       "\n",
       "    .dataframe tbody tr th {\n",
       "        vertical-align: top;\n",
       "    }\n",
       "\n",
       "    .dataframe thead th {\n",
       "        text-align: right;\n",
       "    }\n",
       "</style>\n",
       "<table border=\"1\" class=\"dataframe\">\n",
       "  <thead>\n",
       "    <tr style=\"text-align: right;\">\n",
       "      <th></th>\n",
       "      <th>state</th>\n",
       "      <th>rent</th>\n",
       "    </tr>\n",
       "  </thead>\n",
       "  <tbody>\n",
       "    <tr>\n",
       "      <th>0</th>\n",
       "      <td>Nordrhein_Westfalen</td>\n",
       "      <td>595.0</td>\n",
       "    </tr>\n",
       "    <tr>\n",
       "      <th>1</th>\n",
       "      <td>Rheinland_Pfalz</td>\n",
       "      <td>800.0</td>\n",
       "    </tr>\n",
       "    <tr>\n",
       "      <th>2</th>\n",
       "      <td>Sachsen</td>\n",
       "      <td>965.0</td>\n",
       "    </tr>\n",
       "    <tr>\n",
       "      <th>3</th>\n",
       "      <td>Sachsen</td>\n",
       "      <td>343.0</td>\n",
       "    </tr>\n",
       "    <tr>\n",
       "      <th>4</th>\n",
       "      <td>Bremen</td>\n",
       "      <td>765.0</td>\n",
       "    </tr>\n",
       "  </tbody>\n",
       "</table>\n",
       "</div>"
      ],
      "text/plain": [
       "                 state   rent\n",
       "0  Nordrhein_Westfalen  595.0\n",
       "1      Rheinland_Pfalz  800.0\n",
       "2              Sachsen  965.0\n",
       "3              Sachsen  343.0\n",
       "4               Bremen  765.0"
      ]
     },
     "execution_count": 12,
     "metadata": {},
     "output_type": "execute_result"
    }
   ],
   "source": [
    "#Create dataframe with state and rent\n",
    "state_rent = rentals_eda[['state', 'rent']]\n",
    "state_rent.head()"
   ]
  },
  {
   "cell_type": "code",
   "execution_count": 13,
   "metadata": {},
   "outputs": [
    {
     "data": {
      "image/png": "[encoded data removed]",
      "text/plain": [
       "<Figure size 864x576 with 1 Axes>"
      ]
     },
     "metadata": {
      "needs_background": "light"
     },
     "output_type": "display_data"
    }
   ],
   "source": [
    "#Create violinplot that shows the range and distribution of rent per state\n",
    "plt.subplots(figsize=(12, 8))\n",
    "sns.violinplot(x= 'state', y= 'rent', data= state_rent)\n",
    "plt.xticks(rotation='vertical')\n",
    "plt.ylabel('Rent (euros)')\n",
    "plt.xlabel('State')\n",
    "plt.title('Violin plot of rent per state');"
   ]
  },
  {
   "cell_type": "markdown",
   "metadata": {},
   "source": [
    "- We note that Sachsen appears to have the widest price range. \n",
    "- We also note prices are generally clustered around the median price for most of the states, except Berlin, Hamburg, Bayern, Hessen and Baden Wurttemberg that have a bit more variation in prices. \n",
    "- Lastly, we note that Sachsen Anhalt seems to have most of its prices located around its median, with less variation than other states. "
   ]
  },
  {
   "cell_type": "markdown",
   "metadata": {},
   "source": [
    "## 5.1.2 One-way ANOVA on state means "
   ]
  },
  {
   "cell_type": "markdown",
   "metadata": {},
   "source": [
    "- We will determine if the change in means from one state to another is as a result of natural variation.\n",
    "- $H_{0}$: $μ_{1}$ = $μ_{2}$ = ... = $μ_{r}$\n",
    "- $H_{1}$: two or more means are different from the others\n",
    "- We will test the hypothesis at the p = 0.05 significant level"
   ]
  },
  {
   "cell_type": "code",
   "execution_count": 14,
   "metadata": {},
   "outputs": [
    {
     "data": {
      "text/html": [
       "<div>\n",
       "<style scoped>\n",
       "    .dataframe tbody tr th:only-of-type {\n",
       "        vertical-align: middle;\n",
       "    }\n",
       "\n",
       "    .dataframe tbody tr th {\n",
       "        vertical-align: top;\n",
       "    }\n",
       "\n",
       "    .dataframe thead th {\n",
       "        text-align: right;\n",
       "    }\n",
       "</style>\n",
       "<table border=\"1\" class=\"dataframe\">\n",
       "  <thead>\n",
       "    <tr style=\"text-align: right;\">\n",
       "      <th></th>\n",
       "      <th>df</th>\n",
       "      <th>sum_sq</th>\n",
       "      <th>mean_sq</th>\n",
       "      <th>F</th>\n",
       "      <th>PR(&gt;F)</th>\n",
       "    </tr>\n",
       "  </thead>\n",
       "  <tbody>\n",
       "    <tr>\n",
       "      <th>state</th>\n",
       "      <td>15.0</td>\n",
       "      <td>1.549905e+10</td>\n",
       "      <td>1.033270e+09</td>\n",
       "      <td>4943.914383</td>\n",
       "      <td>0.0</td>\n",
       "    </tr>\n",
       "    <tr>\n",
       "      <th>Residual</th>\n",
       "      <td>266552.0</td>\n",
       "      <td>5.570894e+10</td>\n",
       "      <td>2.089984e+05</td>\n",
       "      <td>NaN</td>\n",
       "      <td>NaN</td>\n",
       "    </tr>\n",
       "  </tbody>\n",
       "</table>\n",
       "</div>"
      ],
      "text/plain": [
       "                df        sum_sq       mean_sq            F  PR(>F)\n",
       "state         15.0  1.549905e+10  1.033270e+09  4943.914383     0.0\n",
       "Residual  266552.0  5.570894e+10  2.089984e+05          NaN     NaN"
      ]
     },
     "execution_count": 14,
     "metadata": {},
     "output_type": "execute_result"
    }
   ],
   "source": [
    "#Fit a linear regression model that explores the relationship between state and rent\n",
    "model = ols('rent ~ state', data = state_rent).fit()\n",
    "anova_table = sm.stats.anova_lm(model,  type = 2)\n",
    "anova_table"
   ]
  },
  {
   "cell_type": "markdown",
   "metadata": {},
   "source": [
    "- Our F-statistic of 4944 suggests that the ratio of our mean square error between states and within states is quite large. We also note that that this leads to p value of practically zero."
   ]
  },
  {
   "cell_type": "markdown",
   "metadata": {},
   "source": [
    "- We therefore establish that location on a state-wide level strongly influences rent."
   ]
  },
  {
   "cell_type": "markdown",
   "metadata": {},
   "source": [
    "# 5.2 Relationship between quantity supplied and rent "
   ]
  },
  {
   "cell_type": "code",
   "execution_count": 15,
   "metadata": {
    "scrolled": true
   },
   "outputs": [
    {
     "data": {
      "text/html": [
       "<div>\n",
       "<style scoped>\n",
       "    .dataframe tbody tr th:only-of-type {\n",
       "        vertical-align: middle;\n",
       "    }\n",
       "\n",
       "    .dataframe tbody tr th {\n",
       "        vertical-align: top;\n",
       "    }\n",
       "\n",
       "    .dataframe thead th {\n",
       "        text-align: right;\n",
       "    }\n",
       "</style>\n",
       "<table border=\"1\" class=\"dataframe\">\n",
       "  <thead>\n",
       "    <tr style=\"text-align: right;\">\n",
       "      <th></th>\n",
       "      <th>total_state_listings</th>\n",
       "      <th>total_state_sqm</th>\n",
       "      <th>mean_rent</th>\n",
       "      <th>median_rent</th>\n",
       "    </tr>\n",
       "    <tr>\n",
       "      <th>state</th>\n",
       "      <th></th>\n",
       "      <th></th>\n",
       "      <th></th>\n",
       "      <th></th>\n",
       "    </tr>\n",
       "  </thead>\n",
       "  <tbody>\n",
       "    <tr>\n",
       "      <th>Baden_Württemberg</th>\n",
       "      <td>16010</td>\n",
       "      <td>1344106.73</td>\n",
       "      <td>953.155464</td>\n",
       "      <td>850.000</td>\n",
       "    </tr>\n",
       "    <tr>\n",
       "      <th>Bayern</th>\n",
       "      <td>21541</td>\n",
       "      <td>1720648.67</td>\n",
       "      <td>1017.062728</td>\n",
       "      <td>850.000</td>\n",
       "    </tr>\n",
       "    <tr>\n",
       "      <th>Berlin</th>\n",
       "      <td>10281</td>\n",
       "      <td>842218.62</td>\n",
       "      <td>1168.231671</td>\n",
       "      <td>949.000</td>\n",
       "    </tr>\n",
       "    <tr>\n",
       "      <th>Brandenburg</th>\n",
       "      <td>6882</td>\n",
       "      <td>475000.09</td>\n",
       "      <td>511.034536</td>\n",
       "      <td>394.995</td>\n",
       "    </tr>\n",
       "    <tr>\n",
       "      <th>Bremen</th>\n",
       "      <td>2944</td>\n",
       "      <td>214511.47</td>\n",
       "      <td>623.775258</td>\n",
       "      <td>501.415</td>\n",
       "    </tr>\n",
       "    <tr>\n",
       "      <th>Hamburg</th>\n",
       "      <td>3732</td>\n",
       "      <td>312274.45</td>\n",
       "      <td>1186.915180</td>\n",
       "      <td>1015.500</td>\n",
       "    </tr>\n",
       "    <tr>\n",
       "      <th>Hessen</th>\n",
       "      <td>17698</td>\n",
       "      <td>1466867.13</td>\n",
       "      <td>976.305499</td>\n",
       "      <td>820.500</td>\n",
       "    </tr>\n",
       "    <tr>\n",
       "      <th>Mecklenburg_Vorpommern</th>\n",
       "      <td>6583</td>\n",
       "      <td>416641.77</td>\n",
       "      <td>420.453020</td>\n",
       "      <td>345.000</td>\n",
       "    </tr>\n",
       "    <tr>\n",
       "      <th>Niedersachsen</th>\n",
       "      <td>16460</td>\n",
       "      <td>1265306.89</td>\n",
       "      <td>600.107866</td>\n",
       "      <td>525.000</td>\n",
       "    </tr>\n",
       "    <tr>\n",
       "      <th>Nordrhein_Westfalen</th>\n",
       "      <td>62125</td>\n",
       "      <td>4617656.57</td>\n",
       "      <td>601.139561</td>\n",
       "      <td>490.000</td>\n",
       "    </tr>\n",
       "    <tr>\n",
       "      <th>Rheinland_Pfalz</th>\n",
       "      <td>8333</td>\n",
       "      <td>679769.32</td>\n",
       "      <td>682.603537</td>\n",
       "      <td>620.000</td>\n",
       "    </tr>\n",
       "    <tr>\n",
       "      <th>Saarland</th>\n",
       "      <td>1421</td>\n",
       "      <td>114702.84</td>\n",
       "      <td>580.933486</td>\n",
       "      <td>530.000</td>\n",
       "    </tr>\n",
       "    <tr>\n",
       "      <th>Sachsen</th>\n",
       "      <td>57707</td>\n",
       "      <td>3838277.91</td>\n",
       "      <td>438.347298</td>\n",
       "      <td>344.350</td>\n",
       "    </tr>\n",
       "    <tr>\n",
       "      <th>Sachsen_Anhalt</th>\n",
       "      <td>19931</td>\n",
       "      <td>1255203.75</td>\n",
       "      <td>369.709134</td>\n",
       "      <td>325.000</td>\n",
       "    </tr>\n",
       "    <tr>\n",
       "      <th>Schleswig_Holstein</th>\n",
       "      <td>6617</td>\n",
       "      <td>490128.27</td>\n",
       "      <td>645.068564</td>\n",
       "      <td>580.000</td>\n",
       "    </tr>\n",
       "    <tr>\n",
       "      <th>Thüringen</th>\n",
       "      <td>8307</td>\n",
       "      <td>539741.49</td>\n",
       "      <td>388.775309</td>\n",
       "      <td>335.000</td>\n",
       "    </tr>\n",
       "  </tbody>\n",
       "</table>\n",
       "</div>"
      ],
      "text/plain": [
       "                        total_state_listings  total_state_sqm    mean_rent  \\\n",
       "state                                                                        \n",
       "Baden_Württemberg                      16010       1344106.73   953.155464   \n",
       "Bayern                                 21541       1720648.67  1017.062728   \n",
       "Berlin                                 10281        842218.62  1168.231671   \n",
       "Brandenburg                             6882        475000.09   511.034536   \n",
       "Bremen                                  2944        214511.47   623.775258   \n",
       "Hamburg                                 3732        312274.45  1186.915180   \n",
       "Hessen                                 17698       1466867.13   976.305499   \n",
       "Mecklenburg_Vorpommern                  6583        416641.77   420.453020   \n",
       "Niedersachsen                          16460       1265306.89   600.107866   \n",
       "Nordrhein_Westfalen                    62125       4617656.57   601.139561   \n",
       "Rheinland_Pfalz                         8333        679769.32   682.603537   \n",
       "Saarland                                1421        114702.84   580.933486   \n",
       "Sachsen                                57707       3838277.91   438.347298   \n",
       "Sachsen_Anhalt                         19931       1255203.75   369.709134   \n",
       "Schleswig_Holstein                      6617        490128.27   645.068564   \n",
       "Thüringen                               8307        539741.49   388.775309   \n",
       "\n",
       "                        median_rent  \n",
       "state                                \n",
       "Baden_Württemberg           850.000  \n",
       "Bayern                      850.000  \n",
       "Berlin                      949.000  \n",
       "Brandenburg                 394.995  \n",
       "Bremen                      501.415  \n",
       "Hamburg                    1015.500  \n",
       "Hessen                      820.500  \n",
       "Mecklenburg_Vorpommern      345.000  \n",
       "Niedersachsen               525.000  \n",
       "Nordrhein_Westfalen         490.000  \n",
       "Rheinland_Pfalz             620.000  \n",
       "Saarland                    530.000  \n",
       "Sachsen                     344.350  \n",
       "Sachsen_Anhalt              325.000  \n",
       "Schleswig_Holstein          580.000  \n",
       "Thüringen                   335.000  "
      ]
     },
     "execution_count": 15,
     "metadata": {},
     "output_type": "execute_result"
    }
   ],
   "source": [
    "'''Create a dataframe that show the total number of listings, the total square meters of available space \n",
    "and mean and median rent for each state'''\n",
    "state_supply = rentals_eda.groupby(['state']).agg(total_state_listings = pd.NamedAgg(column = 'rent', aggfunc = 'size'), \\\n",
    "                                               total_state_sqm = pd.NamedAgg(column = 'livingSpace', aggfunc = 'sum'), \\\n",
    "                                                 mean_rent = pd.NamedAgg(column = 'rent', aggfunc = 'mean'), \\\n",
    "                                                 median_rent = pd.NamedAgg(column = 'rent', aggfunc = 'median'))\n",
    "state_supply"
   ]
  },
  {
   "cell_type": "code",
   "execution_count": 16,
   "metadata": {
    "scrolled": false
   },
   "outputs": [
    {
     "data": {
      "image/png": "[encoded data removed]",
      "text/plain": [
       "<Figure size 720x720 with 1 Axes>"
      ]
     },
     "metadata": {
      "needs_background": "light"
     },
     "output_type": "display_data"
    }
   ],
   "source": [
    "#Plat mean rent against the total number of listings and total square meters of space for each state\n",
    "x = state_supply.total_state_sqm\n",
    "y = state_supply.mean_rent\n",
    "state = state_supply.index\n",
    "fig, ax = plt.subplots(figsize=(10,10))\n",
    "sns.scatterplot(x = 'total_state_sqm', y = 'mean_rent', data= state_supply, \\\n",
    "                size = 'total_state_listings', sizes=(40, 400), alpha = 0.5)\n",
    "for s, x, y in zip(state, x, y):\n",
    "    plt.annotate(s, (x, y))\n",
    "plt.title('Mean rent versus total state space (sqm) and number of units')\n",
    "ax.plot([1, 0], [0, 1], transform=ax.transAxes);"
   ]
  },
  {
   "cell_type": "markdown",
   "metadata": {},
   "source": [
    "- We note a pattern emerging for three state clusters, where rent increases with limited supply in both the number of listings and space available. These clusters in order of higher rent and lower supply include:\n",
    "    - Hamburg and Berlin (High rent, low supply)\n",
    "    - Bayern, Hessen and Baden Wurttemberg (Moderate rent, moderate supply)\n",
    "    - Sachsen and Nordhein Westfalen (Low rent, low supply)\n",
    "- The remaining states form a cluster with no clear pattern in terms of the influence of supply on rent"
   ]
  },
  {
   "cell_type": "markdown",
   "metadata": {},
   "source": [
    "# 5.3 Relationship between rent and other state-wise features"
   ]
  },
  {
   "cell_type": "markdown",
   "metadata": {},
   "source": [
    "## 5.3.1 Creating dataframe for geo-economic data"
   ]
  },
  {
   "cell_type": "code",
   "execution_count": 17,
   "metadata": {},
   "outputs": [
    {
     "data": {
      "text/html": [
       "<div>\n",
       "<style scoped>\n",
       "    .dataframe tbody tr th:only-of-type {\n",
       "        vertical-align: middle;\n",
       "    }\n",
       "\n",
       "    .dataframe tbody tr th {\n",
       "        vertical-align: top;\n",
       "    }\n",
       "\n",
       "    .dataframe thead th {\n",
       "        text-align: right;\n",
       "    }\n",
       "</style>\n",
       "<table border=\"1\" class=\"dataframe\">\n",
       "  <thead>\n",
       "    <tr style=\"text-align: right;\">\n",
       "      <th></th>\n",
       "      <th>state</th>\n",
       "      <th>area_km2</th>\n",
       "      <th>population_2019</th>\n",
       "      <th>population_per_km2</th>\n",
       "      <th>gdp_per_capita_2018</th>\n",
       "      <th>hdi</th>\n",
       "    </tr>\n",
       "  </thead>\n",
       "  <tbody>\n",
       "    <tr>\n",
       "      <th>0</th>\n",
       "      <td>Baden-Württemberg</td>\n",
       "      <td>35752</td>\n",
       "      <td>11100394</td>\n",
       "      <td>310</td>\n",
       "      <td>47290</td>\n",
       "      <td>0.953</td>\n",
       "    </tr>\n",
       "    <tr>\n",
       "      <th>1</th>\n",
       "      <td>Bavaria(Bayern)</td>\n",
       "      <td>70552</td>\n",
       "      <td>13124737</td>\n",
       "      <td>185</td>\n",
       "      <td>48323</td>\n",
       "      <td>0.947</td>\n",
       "    </tr>\n",
       "    <tr>\n",
       "      <th>2</th>\n",
       "      <td>Berlin</td>\n",
       "      <td>892</td>\n",
       "      <td>3669491</td>\n",
       "      <td>4086</td>\n",
       "      <td>41967</td>\n",
       "      <td>0.950</td>\n",
       "    </tr>\n",
       "    <tr>\n",
       "      <th>3</th>\n",
       "      <td>Brandenburg</td>\n",
       "      <td>29479</td>\n",
       "      <td>2521893</td>\n",
       "      <td>85</td>\n",
       "      <td>29541</td>\n",
       "      <td>0.914</td>\n",
       "    </tr>\n",
       "    <tr>\n",
       "      <th>4</th>\n",
       "      <td>Bremen</td>\n",
       "      <td>419</td>\n",
       "      <td>681202</td>\n",
       "      <td>1630</td>\n",
       "      <td>49215</td>\n",
       "      <td>0.951</td>\n",
       "    </tr>\n",
       "  </tbody>\n",
       "</table>\n",
       "</div>"
      ],
      "text/plain": [
       "               state  area_km2  population_2019  population_per_km2  \\\n",
       "0  Baden-Württemberg     35752         11100394                 310   \n",
       "1    Bavaria(Bayern)     70552         13124737                 185   \n",
       "2             Berlin       892          3669491                4086   \n",
       "3        Brandenburg     29479          2521893                  85   \n",
       "4             Bremen       419           681202                1630   \n",
       "\n",
       "   gdp_per_capita_2018    hdi  \n",
       "0                47290  0.953  \n",
       "1                48323  0.947  \n",
       "2                41967  0.950  \n",
       "3                29541  0.914  \n",
       "4                49215  0.951  "
      ]
     },
     "execution_count": 17,
     "metadata": {},
     "output_type": "execute_result"
    }
   ],
   "source": [
    "geo_economy.head()"
   ]
  },
  {
   "cell_type": "markdown",
   "metadata": {},
   "source": [
    "- We note that the geo_economy dataframe and rentals_eda dataframe have different, but similar names for states."
   ]
  },
  {
   "cell_type": "code",
   "execution_count": 18,
   "metadata": {},
   "outputs": [
    {
     "data": {
      "text/plain": [
       "0                               Baden-Württemberg\n",
       "1                                 Bavaria(Bayern)\n",
       "2                                          Berlin\n",
       "3                                     Brandenburg\n",
       "4                                          Bremen\n",
       "5                                         Hamburg\n",
       "6                                   Hesse(Hessen)\n",
       "7                     Lower Saxony(Niedersachsen)\n",
       "8                          Mecklenburg-Vorpommern\n",
       "9     North Rhine-Westphalia(Nordrhein-Westfalen)\n",
       "10          Rhineland-Palatinate(Rheinland-Pfalz)\n",
       "11                                       Saarland\n",
       "12                                Saxony(Sachsen)\n",
       "13                  Saxony-Anhalt(Sachsen-Anhalt)\n",
       "14                             Schleswig-Holstein\n",
       "15                           Thuringia(Thüringen)\n",
       "Name: state, dtype: object"
      ]
     },
     "execution_count": 18,
     "metadata": {},
     "output_type": "execute_result"
    }
   ],
   "source": [
    "#View the names of states from our geo_economy dataframe\n",
    "stateNames_geo_economy = geo_economy.state\n",
    "stateNames_geo_economy"
   ]
  },
  {
   "cell_type": "code",
   "execution_count": 19,
   "metadata": {},
   "outputs": [
    {
     "data": {
      "text/plain": [
       "['Hessen',\n",
       " 'Saarland',\n",
       " 'Baden_Württemberg',\n",
       " 'Bremen',\n",
       " 'Rheinland_Pfalz',\n",
       " 'Berlin',\n",
       " 'Nordrhein_Westfalen',\n",
       " 'Schleswig_Holstein',\n",
       " 'Bayern',\n",
       " 'Sachsen_Anhalt',\n",
       " 'Niedersachsen',\n",
       " 'Mecklenburg_Vorpommern',\n",
       " 'Thüringen',\n",
       " 'Sachsen',\n",
       " 'Brandenburg',\n",
       " 'Hamburg']"
      ]
     },
     "execution_count": 19,
     "metadata": {},
     "output_type": "execute_result"
    }
   ],
   "source": [
    "#View the names of states from our rentals_eda dataframe\n",
    "stateNames_rentals_eda = list(set(rentals_eda.state))\n",
    "stateNames_rentals_eda"
   ]
  },
  {
   "cell_type": "code",
   "execution_count": 20,
   "metadata": {},
   "outputs": [
    {
     "data": {
      "text/plain": [
       "0          Baden_Württemberg\n",
       "1                     Bayern\n",
       "2                     Berlin\n",
       "3                Brandenburg\n",
       "4                     Bremen\n",
       "5                    Hamburg\n",
       "6                     Hessen\n",
       "7              Niedersachsen\n",
       "8     Mecklenburg_Vorpommern\n",
       "9        Nordrhein_Westfalen\n",
       "10           Rheinland_Pfalz\n",
       "11                  Saarland\n",
       "12                   Sachsen\n",
       "13            Sachsen_Anhalt\n",
       "14        Schleswig_Holstein\n",
       "15                 Thüringen\n",
       "Name: state, dtype: object"
      ]
     },
     "execution_count": 20,
     "metadata": {},
     "output_type": "execute_result"
    }
   ],
   "source": [
    "#Change state names from geo_economy dataframe to state names from rentals_eda\n",
    "for geo_name in stateNames_geo_economy:\n",
    "    for rentals_name in stateNames_rentals_eda:\n",
    "        if fuzz.WRatio(geo_name, rentals_name) > 80:\n",
    "            geo_economy.state = geo_economy.state.replace(geo_name, rentals_name)\n",
    "            \n",
    "geo_economy.state    "
   ]
  },
  {
   "cell_type": "code",
   "execution_count": 21,
   "metadata": {
    "scrolled": true
   },
   "outputs": [
    {
     "data": {
      "text/html": [
       "<div>\n",
       "<style scoped>\n",
       "    .dataframe tbody tr th:only-of-type {\n",
       "        vertical-align: middle;\n",
       "    }\n",
       "\n",
       "    .dataframe tbody tr th {\n",
       "        vertical-align: top;\n",
       "    }\n",
       "\n",
       "    .dataframe thead th {\n",
       "        text-align: right;\n",
       "    }\n",
       "</style>\n",
       "<table border=\"1\" class=\"dataframe\">\n",
       "  <thead>\n",
       "    <tr style=\"text-align: right;\">\n",
       "      <th></th>\n",
       "      <th>state</th>\n",
       "      <th>area_km2</th>\n",
       "      <th>population_2019</th>\n",
       "      <th>population_per_km2</th>\n",
       "      <th>gdp_per_capita_2018</th>\n",
       "      <th>hdi</th>\n",
       "      <th>median_rent</th>\n",
       "      <th>mean_rent</th>\n",
       "    </tr>\n",
       "  </thead>\n",
       "  <tbody>\n",
       "    <tr>\n",
       "      <th>0</th>\n",
       "      <td>Baden_Württemberg</td>\n",
       "      <td>35752</td>\n",
       "      <td>11100394</td>\n",
       "      <td>310</td>\n",
       "      <td>47290</td>\n",
       "      <td>0.953</td>\n",
       "      <td>850.000</td>\n",
       "      <td>953.155464</td>\n",
       "    </tr>\n",
       "    <tr>\n",
       "      <th>1</th>\n",
       "      <td>Bayern</td>\n",
       "      <td>70552</td>\n",
       "      <td>13124737</td>\n",
       "      <td>185</td>\n",
       "      <td>48323</td>\n",
       "      <td>0.947</td>\n",
       "      <td>850.000</td>\n",
       "      <td>1017.062728</td>\n",
       "    </tr>\n",
       "    <tr>\n",
       "      <th>2</th>\n",
       "      <td>Berlin</td>\n",
       "      <td>892</td>\n",
       "      <td>3669491</td>\n",
       "      <td>4086</td>\n",
       "      <td>41967</td>\n",
       "      <td>0.950</td>\n",
       "      <td>949.000</td>\n",
       "      <td>1168.231671</td>\n",
       "    </tr>\n",
       "    <tr>\n",
       "      <th>3</th>\n",
       "      <td>Brandenburg</td>\n",
       "      <td>29479</td>\n",
       "      <td>2521893</td>\n",
       "      <td>85</td>\n",
       "      <td>29541</td>\n",
       "      <td>0.914</td>\n",
       "      <td>394.995</td>\n",
       "      <td>511.034536</td>\n",
       "    </tr>\n",
       "    <tr>\n",
       "      <th>4</th>\n",
       "      <td>Bremen</td>\n",
       "      <td>419</td>\n",
       "      <td>681202</td>\n",
       "      <td>1630</td>\n",
       "      <td>49215</td>\n",
       "      <td>0.951</td>\n",
       "      <td>501.415</td>\n",
       "      <td>623.775258</td>\n",
       "    </tr>\n",
       "    <tr>\n",
       "      <th>5</th>\n",
       "      <td>Hamburg</td>\n",
       "      <td>755</td>\n",
       "      <td>1847253</td>\n",
       "      <td>2439</td>\n",
       "      <td>66879</td>\n",
       "      <td>0.975</td>\n",
       "      <td>1015.500</td>\n",
       "      <td>1186.915180</td>\n",
       "    </tr>\n",
       "    <tr>\n",
       "      <th>6</th>\n",
       "      <td>Hessen</td>\n",
       "      <td>21115</td>\n",
       "      <td>6288080</td>\n",
       "      <td>297</td>\n",
       "      <td>46923</td>\n",
       "      <td>0.949</td>\n",
       "      <td>820.500</td>\n",
       "      <td>976.305499</td>\n",
       "    </tr>\n",
       "    <tr>\n",
       "      <th>7</th>\n",
       "      <td>Niedersachsen</td>\n",
       "      <td>47609</td>\n",
       "      <td>7993448</td>\n",
       "      <td>168</td>\n",
       "      <td>38423</td>\n",
       "      <td>0.922</td>\n",
       "      <td>525.000</td>\n",
       "      <td>600.107866</td>\n",
       "    </tr>\n",
       "    <tr>\n",
       "      <th>8</th>\n",
       "      <td>Mecklenburg_Vorpommern</td>\n",
       "      <td>23180</td>\n",
       "      <td>1609675</td>\n",
       "      <td>69</td>\n",
       "      <td>28940</td>\n",
       "      <td>0.910</td>\n",
       "      <td>345.000</td>\n",
       "      <td>420.453020</td>\n",
       "    </tr>\n",
       "    <tr>\n",
       "      <th>9</th>\n",
       "      <td>Nordrhein_Westfalen</td>\n",
       "      <td>34085</td>\n",
       "      <td>17932651</td>\n",
       "      <td>526</td>\n",
       "      <td>39678</td>\n",
       "      <td>0.936</td>\n",
       "      <td>490.000</td>\n",
       "      <td>601.139561</td>\n",
       "    </tr>\n",
       "    <tr>\n",
       "      <th>10</th>\n",
       "      <td>Rheinland_Pfalz</td>\n",
       "      <td>19853</td>\n",
       "      <td>4084844</td>\n",
       "      <td>206</td>\n",
       "      <td>35457</td>\n",
       "      <td>0.928</td>\n",
       "      <td>620.000</td>\n",
       "      <td>682.603537</td>\n",
       "    </tr>\n",
       "    <tr>\n",
       "      <th>11</th>\n",
       "      <td>Saarland</td>\n",
       "      <td>2569</td>\n",
       "      <td>990509</td>\n",
       "      <td>386</td>\n",
       "      <td>36684</td>\n",
       "      <td>0.931</td>\n",
       "      <td>530.000</td>\n",
       "      <td>580.933486</td>\n",
       "    </tr>\n",
       "    <tr>\n",
       "      <th>12</th>\n",
       "      <td>Sachsen</td>\n",
       "      <td>18416</td>\n",
       "      <td>4077937</td>\n",
       "      <td>221</td>\n",
       "      <td>31453</td>\n",
       "      <td>0.930</td>\n",
       "      <td>344.350</td>\n",
       "      <td>438.347298</td>\n",
       "    </tr>\n",
       "    <tr>\n",
       "      <th>13</th>\n",
       "      <td>Sachsen_Anhalt</td>\n",
       "      <td>20446</td>\n",
       "      <td>2208321</td>\n",
       "      <td>108</td>\n",
       "      <td>28800</td>\n",
       "      <td>0.908</td>\n",
       "      <td>325.000</td>\n",
       "      <td>369.709134</td>\n",
       "    </tr>\n",
       "    <tr>\n",
       "      <th>14</th>\n",
       "      <td>Schleswig_Holstein</td>\n",
       "      <td>15799</td>\n",
       "      <td>2896712</td>\n",
       "      <td>183</td>\n",
       "      <td>33712</td>\n",
       "      <td>0.920</td>\n",
       "      <td>580.000</td>\n",
       "      <td>645.068564</td>\n",
       "    </tr>\n",
       "    <tr>\n",
       "      <th>15</th>\n",
       "      <td>Thüringen</td>\n",
       "      <td>16172</td>\n",
       "      <td>2143145</td>\n",
       "      <td>133</td>\n",
       "      <td>29883</td>\n",
       "      <td>0.921</td>\n",
       "      <td>335.000</td>\n",
       "      <td>388.775309</td>\n",
       "    </tr>\n",
       "  </tbody>\n",
       "</table>\n",
       "</div>"
      ],
      "text/plain": [
       "                     state  area_km2  population_2019  population_per_km2  \\\n",
       "0        Baden_Württemberg     35752         11100394                 310   \n",
       "1                   Bayern     70552         13124737                 185   \n",
       "2                   Berlin       892          3669491                4086   \n",
       "3              Brandenburg     29479          2521893                  85   \n",
       "4                   Bremen       419           681202                1630   \n",
       "5                  Hamburg       755          1847253                2439   \n",
       "6                   Hessen     21115          6288080                 297   \n",
       "7            Niedersachsen     47609          7993448                 168   \n",
       "8   Mecklenburg_Vorpommern     23180          1609675                  69   \n",
       "9      Nordrhein_Westfalen     34085         17932651                 526   \n",
       "10         Rheinland_Pfalz     19853          4084844                 206   \n",
       "11                Saarland      2569           990509                 386   \n",
       "12                 Sachsen     18416          4077937                 221   \n",
       "13          Sachsen_Anhalt     20446          2208321                 108   \n",
       "14      Schleswig_Holstein     15799          2896712                 183   \n",
       "15               Thüringen     16172          2143145                 133   \n",
       "\n",
       "    gdp_per_capita_2018    hdi  median_rent    mean_rent  \n",
       "0                 47290  0.953      850.000   953.155464  \n",
       "1                 48323  0.947      850.000  1017.062728  \n",
       "2                 41967  0.950      949.000  1168.231671  \n",
       "3                 29541  0.914      394.995   511.034536  \n",
       "4                 49215  0.951      501.415   623.775258  \n",
       "5                 66879  0.975     1015.500  1186.915180  \n",
       "6                 46923  0.949      820.500   976.305499  \n",
       "7                 38423  0.922      525.000   600.107866  \n",
       "8                 28940  0.910      345.000   420.453020  \n",
       "9                 39678  0.936      490.000   601.139561  \n",
       "10                35457  0.928      620.000   682.603537  \n",
       "11                36684  0.931      530.000   580.933486  \n",
       "12                31453  0.930      344.350   438.347298  \n",
       "13                28800  0.908      325.000   369.709134  \n",
       "14                33712  0.920      580.000   645.068564  \n",
       "15                29883  0.921      335.000   388.775309  "
      ]
     },
     "execution_count": 21,
     "metadata": {},
     "output_type": "execute_result"
    }
   ],
   "source": [
    "#Create dataframe that includes geo economic data and mean and median rents for each state\n",
    "geo_economic = geo_economy.join(avg_state_rent, on= 'state', how = 'inner')\n",
    "geo_economic"
   ]
  },
  {
   "cell_type": "markdown",
   "metadata": {},
   "source": [
    "## 5.3.2 Relationship between rent and total land mass, as well as other geo-economic information "
   ]
  },
  {
   "cell_type": "code",
   "execution_count": 22,
   "metadata": {},
   "outputs": [],
   "source": [
    "#Create function that takes generates a plot showing the influence of geo-economic information on rent\n",
    "def geo_economic_plot(df, state_col, geo_economic_col, average_col):\n",
    "    geo_econ = df[geo_economic_col]\n",
    "    average = df[average_col]\n",
    "    state = df[state_col]\n",
    "    fig, ax = plt.subplots(figsize = (10,10))\n",
    "    sns.scatterplot(x = geo_econ, y = average, data = df, legend = False, hue = state, alpha = 0.5)\n",
    "    for s, x, y in zip(state, geo_econ, average):\n",
    "        plt.annotate(s, (x, y))\n",
    "    plt.title(f'{average_col} versus {geo_economic_col}')"
   ]
  },
  {
   "cell_type": "markdown",
   "metadata": {},
   "source": [
    "### 5.3.2.1 Rent versus land mass"
   ]
  },
  {
   "cell_type": "code",
   "execution_count": 23,
   "metadata": {},
   "outputs": [
    {
     "data": {
      "image/png": "[encoded data removed]",
      "text/plain": [
       "<Figure size 720x720 with 1 Axes>"
      ]
     },
     "metadata": {
      "needs_background": "light"
     },
     "output_type": "display_data"
    }
   ],
   "source": [
    "geo_economic_plot(geo_economic, 'state', 'area_km2', 'mean_rent')"
   ]
  },
  {
   "cell_type": "markdown",
   "metadata": {},
   "source": [
    "- We note that Hamburg and Berlin form a unique cluster with low land mass and high rents. \n",
    "- Hess, Baden_Wurttenberg and Bayern also form a cluster with moderately high rent, although Bayern has a high rent in spite of a large land mass.\n",
    "- The other states form a cluster where it is not clear that rent correlates with area. "
   ]
  },
  {
   "cell_type": "markdown",
   "metadata": {},
   "source": [
    "### 5.3.2.2 Rent versus population"
   ]
  },
  {
   "cell_type": "code",
   "execution_count": 24,
   "metadata": {},
   "outputs": [
    {
     "data": {
      "image/png": "[encoded data removed]",
      "text/plain": [
       "<Figure size 720x720 with 1 Axes>"
      ]
     },
     "metadata": {
      "needs_background": "light"
     },
     "output_type": "display_data"
    }
   ],
   "source": [
    "geo_economic_plot(geo_economic, 'state', 'population_2019', 'mean_rent')"
   ]
  },
  {
   "cell_type": "markdown",
   "metadata": {},
   "source": [
    "- We note the same clusters for rent versus population as we did rent versus land mass and we note that Nordhein Westfalen has the highest population in germany."
   ]
  },
  {
   "cell_type": "markdown",
   "metadata": {},
   "source": [
    "### 5.3.2.2 Rent Versus gdp per capita"
   ]
  },
  {
   "cell_type": "code",
   "execution_count": 25,
   "metadata": {},
   "outputs": [
    {
     "data": {
      "image/png": "[encoded data removed]",
      "text/plain": [
       "<Figure size 720x720 with 1 Axes>"
      ]
     },
     "metadata": {
      "needs_background": "light"
     },
     "output_type": "display_data"
    }
   ],
   "source": [
    "geo_economic_plot(geo_economic, 'state', 'gdp_per_capita_2018', 'mean_rent')\n",
    "m, b = np.polyfit(geo_economic.gdp_per_capita_2018, geo_economic.mean_rent, 1)\n",
    "plt.plot(geo_economic.gdp_per_capita_2018, m * geo_economic.gdp_per_capita_2018 + b);"
   ]
  },
  {
   "cell_type": "markdown",
   "metadata": {},
   "source": [
    "- There seems to be a positive association of rent with gdp per capita. We also observe that Berlin has a comparable mean rent to Hamburg even though Hamburg has a higher gdp per capita. "
   ]
  },
  {
   "cell_type": "markdown",
   "metadata": {},
   "source": [
    "### 5.3.2.3 Rent versus hdi"
   ]
  },
  {
   "cell_type": "code",
   "execution_count": 26,
   "metadata": {},
   "outputs": [
    {
     "data": {
      "image/png": "[encoded data removed]",
      "text/plain": [
       "<Figure size 720x720 with 1 Axes>"
      ]
     },
     "metadata": {
      "needs_background": "light"
     },
     "output_type": "display_data"
    }
   ],
   "source": [
    "geo_economic_plot(geo_economic, 'state', 'hdi', 'mean_rent')\n",
    "m, b = np.polyfit(geo_economic.hdi, geo_economic.mean_rent, 1)\n",
    "plt.plot(geo_economic.hdi, m * geo_economic.hdi + b);"
   ]
  },
  {
   "cell_type": "markdown",
   "metadata": {},
   "source": [
    "- We see the same trend of rent being positively correlated with hdi as gdp_per_capita."
   ]
  },
  {
   "cell_type": "markdown",
   "metadata": {},
   "source": [
    "## 5.4 Variation of rent with time"
   ]
  },
  {
   "cell_type": "code",
   "execution_count": 27,
   "metadata": {},
   "outputs": [
    {
     "data": {
      "text/plain": [
       "dtype('<M8[ns]')"
      ]
     },
     "execution_count": 27,
     "metadata": {},
     "output_type": "execute_result"
    }
   ],
   "source": [
    "#Convert date column to datetime\n",
    "rentals_eda.date = pd.to_datetime(rentals.date)\n",
    "rentals_eda.date.dtype"
   ]
  },
  {
   "cell_type": "code",
   "execution_count": 28,
   "metadata": {},
   "outputs": [
    {
     "data": {
      "text/plain": [
       "DatetimeIndex(['2019-05-01', '2019-05-01', '2019-10-01', '2019-05-01',\n",
       "               '2020-02-01', '2020-02-01', '2020-02-01', '2020-02-01',\n",
       "               '2020-02-01', '2019-10-01',\n",
       "               ...\n",
       "               '2018-09-01', '2019-05-01', '2019-10-01', '2018-09-01',\n",
       "               '2020-02-01', '2020-02-01', '2019-05-01', '2020-02-01',\n",
       "               '2019-05-01', '2020-02-01'],\n",
       "              dtype='datetime64[ns]', name='date', length=266572, freq=None)"
      ]
     },
     "execution_count": 28,
     "metadata": {},
     "output_type": "execute_result"
    }
   ],
   "source": [
    "#Create dataframe with a datetime index\n",
    "rentals_date = rentals_eda.set_index('date')\n",
    "rentals_date.index"
   ]
  },
  {
   "cell_type": "code",
   "execution_count": 29,
   "metadata": {},
   "outputs": [
    {
     "data": {
      "text/html": [
       "<div>\n",
       "<style scoped>\n",
       "    .dataframe tbody tr th:only-of-type {\n",
       "        vertical-align: middle;\n",
       "    }\n",
       "\n",
       "    .dataframe tbody tr th {\n",
       "        vertical-align: top;\n",
       "    }\n",
       "\n",
       "    .dataframe thead th {\n",
       "        text-align: right;\n",
       "    }\n",
       "</style>\n",
       "<table border=\"1\" class=\"dataframe\">\n",
       "  <thead>\n",
       "    <tr style=\"text-align: right;\">\n",
       "      <th></th>\n",
       "      <th></th>\n",
       "      <th>rent</th>\n",
       "    </tr>\n",
       "    <tr>\n",
       "      <th>state</th>\n",
       "      <th>date</th>\n",
       "      <th></th>\n",
       "    </tr>\n",
       "  </thead>\n",
       "  <tbody>\n",
       "    <tr>\n",
       "      <th rowspan=\"3\" valign=\"top\">Baden_Württemberg</th>\n",
       "      <th>2018-12-31</th>\n",
       "      <td>985.494495</td>\n",
       "    </tr>\n",
       "    <tr>\n",
       "      <th>2019-12-31</th>\n",
       "      <td>938.669842</td>\n",
       "    </tr>\n",
       "    <tr>\n",
       "      <th>2020-12-31</th>\n",
       "      <td>962.000339</td>\n",
       "    </tr>\n",
       "    <tr>\n",
       "      <th rowspan=\"2\" valign=\"top\">Bayern</th>\n",
       "      <th>2018-12-31</th>\n",
       "      <td>1049.904901</td>\n",
       "    </tr>\n",
       "    <tr>\n",
       "      <th>2019-12-31</th>\n",
       "      <td>1006.151652</td>\n",
       "    </tr>\n",
       "  </tbody>\n",
       "</table>\n",
       "</div>"
      ],
      "text/plain": [
       "                                     rent\n",
       "state             date                   \n",
       "Baden_Württemberg 2018-12-31   985.494495\n",
       "                  2019-12-31   938.669842\n",
       "                  2020-12-31   962.000339\n",
       "Bayern            2018-12-31  1049.904901\n",
       "                  2019-12-31  1006.151652"
      ]
     },
     "execution_count": 29,
     "metadata": {},
     "output_type": "execute_result"
    }
   ],
   "source": [
    "#Create dateframe of rent per state that is resampled by the year\n",
    "resampled_df = rentals_date.groupby('state')[['rent']].resample('Y').mean()\n",
    "resampled_df.head()"
   ]
  },
  {
   "cell_type": "code",
   "execution_count": 30,
   "metadata": {},
   "outputs": [
    {
     "data": {
      "text/html": [
       "<div>\n",
       "<style scoped>\n",
       "    .dataframe tbody tr th:only-of-type {\n",
       "        vertical-align: middle;\n",
       "    }\n",
       "\n",
       "    .dataframe tbody tr th {\n",
       "        vertical-align: top;\n",
       "    }\n",
       "\n",
       "    .dataframe thead th {\n",
       "        text-align: right;\n",
       "    }\n",
       "</style>\n",
       "<table border=\"1\" class=\"dataframe\">\n",
       "  <thead>\n",
       "    <tr style=\"text-align: right;\">\n",
       "      <th></th>\n",
       "      <th>state</th>\n",
       "      <th>date</th>\n",
       "      <th>rent</th>\n",
       "    </tr>\n",
       "  </thead>\n",
       "  <tbody>\n",
       "    <tr>\n",
       "      <th>0</th>\n",
       "      <td>Baden_Württemberg</td>\n",
       "      <td>2018-12-31</td>\n",
       "      <td>985.494495</td>\n",
       "    </tr>\n",
       "    <tr>\n",
       "      <th>1</th>\n",
       "      <td>Baden_Württemberg</td>\n",
       "      <td>2019-12-31</td>\n",
       "      <td>938.669842</td>\n",
       "    </tr>\n",
       "    <tr>\n",
       "      <th>2</th>\n",
       "      <td>Baden_Württemberg</td>\n",
       "      <td>2020-12-31</td>\n",
       "      <td>962.000339</td>\n",
       "    </tr>\n",
       "    <tr>\n",
       "      <th>3</th>\n",
       "      <td>Bayern</td>\n",
       "      <td>2018-12-31</td>\n",
       "      <td>1049.904901</td>\n",
       "    </tr>\n",
       "    <tr>\n",
       "      <th>4</th>\n",
       "      <td>Bayern</td>\n",
       "      <td>2019-12-31</td>\n",
       "      <td>1006.151652</td>\n",
       "    </tr>\n",
       "  </tbody>\n",
       "</table>\n",
       "</div>"
      ],
      "text/plain": [
       "               state       date         rent\n",
       "0  Baden_Württemberg 2018-12-31   985.494495\n",
       "1  Baden_Württemberg 2019-12-31   938.669842\n",
       "2  Baden_Württemberg 2020-12-31   962.000339\n",
       "3             Bayern 2018-12-31  1049.904901\n",
       "4             Bayern 2019-12-31  1006.151652"
      ]
     },
     "execution_count": 30,
     "metadata": {},
     "output_type": "execute_result"
    }
   ],
   "source": [
    "#Create dataframe with no index to enable plotting\n",
    "resampled_plot = resampled_df.reset_index(level = [0, 1])\n",
    "resampled_plot.head()"
   ]
  },
  {
   "cell_type": "code",
   "execution_count": 31,
   "metadata": {},
   "outputs": [
    {
     "data": {
      "image/png": "[encoded data removed]",
      "text/plain": [
       "<Figure size 576x720 with 1 Axes>"
      ]
     },
     "metadata": {
      "needs_background": "light"
     },
     "output_type": "display_data"
    }
   ],
   "source": [
    "#Create plot of state mean rents for dates in 2018, 2019 and 2020\n",
    "states = resampled_plot.state.unique()\n",
    "dates = resampled_plot.date.unique()\n",
    "fig, ax = plt.subplots(figsize = [8, 10])\n",
    "for state in states:\n",
    "    plt.plot(resampled_plot.loc[resampled_plot['state'] == state, ['date']], \\\n",
    "             resampled_plot.loc[resampled_plot['state'] == state, ['rent']])\n",
    "plt.xticks(dates, rotation = 45)\n",
    "plt.legend(states, loc=\"upper center\", bbox_to_anchor=(1.2, 1))\n",
    "plt.xlabel('Dates in 2018, 2019 and 2020')\n",
    "plt.ylabel('Rent (euros)')\n",
    "plt.title('Rent on three dates in 2018, 2019 and 2020')\n",
    "plt.show()"
   ]
  },
  {
   "cell_type": "markdown",
   "metadata": {},
   "source": [
    "- There is no general trend with rents increaseing or decreasing with time.\n",
    "- For some states, rent actually decreases between 2018 and 2019 before rising again in 2020 (pre-covid)"
   ]
  },
  {
   "cell_type": "markdown",
   "metadata": {},
   "source": [
    "## 5.5 Relationship between rent and marketed features "
   ]
  },
  {
   "cell_type": "code",
   "execution_count": 32,
   "metadata": {
    "scrolled": true
   },
   "outputs": [
    {
     "data": {
      "text/plain": [
       "Index(['state', 'serviceCharge', 'heatingType', 'telekomTvOffer', 'newlyConst',\n",
       "       'balcony', 'picturecount', 'pricetrend', 'telekomUploadSpeed',\n",
       "       'totalRent', 'yearConstructed', 'scoutId', 'firingTypes', 'hasKitchen',\n",
       "       'cellar', 'rent', 'livingSpace', 'condition', 'interiorQual',\n",
       "       'petsAllowed', 'lift', 'typeOfFlat', 'zip_code', 'noRooms',\n",
       "       'thermalChar', 'numberOfFloors', 'garden', 'district',\n",
       "       'town_municipality', 'date'],\n",
       "      dtype='object')"
      ]
     },
     "execution_count": 32,
     "metadata": {},
     "output_type": "execute_result"
    }
   ],
   "source": [
    "#View columns\n",
    "rentals_eda.columns"
   ]
  },
  {
   "cell_type": "code",
   "execution_count": 33,
   "metadata": {},
   "outputs": [
    {
     "data": {
      "text/plain": [
       "heatingType\n",
       "floor_heating                     1099.081702\n",
       "heat_pump                         1006.301331\n",
       "solar_heating                      940.485482\n",
       "combined_heat_and_power_plant      921.924176\n",
       "wood_pellet_heating                869.830814\n",
       "gas_heating                        659.073608\n",
       "oil_heating                        658.304804\n",
       "self_contained_central_heating     604.403661\n",
       "district_heating                   598.502995\n",
       "central_heating                    588.598409\n",
       "electric_heating                   546.924574\n",
       "stove_heating                      495.298700\n",
       "night_storage_heater               460.241650\n",
       "Name: rent, dtype: float64"
      ]
     },
     "execution_count": 33,
     "metadata": {},
     "output_type": "execute_result"
    }
   ],
   "source": [
    "#Review the relationship between heating type and mean rent\n",
    "rentals_eda.groupby('heatingType')['rent'].mean().sort_values(ascending = False)"
   ]
  },
  {
   "cell_type": "markdown",
   "metadata": {},
   "source": [
    "- floor_heating appears to yield highest rent\n",
    "- Oil and gas heating have similar values for mean rent of 660 euros"
   ]
  },
  {
   "cell_type": "code",
   "execution_count": 34,
   "metadata": {},
   "outputs": [
    {
     "data": {
      "text/plain": [
       "telekomTvOffer\n",
       "NONE             555.319399\n",
       "ONE_YEAR_FREE    631.549718\n",
       "ON_DEMAND        583.621414\n",
       "Name: rent, dtype: float64"
      ]
     },
     "execution_count": 34,
     "metadata": {},
     "output_type": "execute_result"
    }
   ],
   "source": [
    "##Review the relationship between telekomTvofer and mean rent\n",
    "rentals_eda.groupby('telekomTvOffer')['rent'].mean()"
   ]
  },
  {
   "cell_type": "markdown",
   "metadata": {},
   "source": [
    "- Rent seems to be higher for units that include one year free tv"
   ]
  },
  {
   "cell_type": "code",
   "execution_count": 35,
   "metadata": {},
   "outputs": [
    {
     "data": {
      "text/plain": [
       "newlyConst\n",
       "False     610.283653\n",
       "True     1097.095026\n",
       "Name: rent, dtype: float64"
      ]
     },
     "execution_count": 35,
     "metadata": {},
     "output_type": "execute_result"
    }
   ],
   "source": [
    "##Review the relationship between construction status and mean rent\n",
    "rentals_eda.groupby('newlyConst')['rent'].mean()"
   ]
  },
  {
   "cell_type": "markdown",
   "metadata": {},
   "source": [
    "- Rents seem to be higher for units in newly constructed buildings"
   ]
  },
  {
   "cell_type": "code",
   "execution_count": 36,
   "metadata": {},
   "outputs": [
    {
     "data": {
      "text/plain": [
       "balcony\n",
       "False    493.947197\n",
       "True     744.643942\n",
       "Name: rent, dtype: float64"
      ]
     },
     "execution_count": 36,
     "metadata": {},
     "output_type": "execute_result"
    }
   ],
   "source": [
    "#Review the relationship between the availability of a balcony and mean rent\n",
    "rentals_eda.groupby('balcony')['rent'].mean()"
   ]
  },
  {
   "cell_type": "markdown",
   "metadata": {},
   "source": [
    "- Rent seems to be higher for those units with a balcony"
   ]
  },
  {
   "cell_type": "code",
   "execution_count": 37,
   "metadata": {
    "scrolled": true
   },
   "outputs": [
    {
     "data": {
      "image/png": "[encoded data removed]",
      "text/plain": [
       "<Figure size 432x288 with 1 Axes>"
      ]
     },
     "metadata": {
      "needs_background": "light"
     },
     "output_type": "display_data"
    }
   ],
   "source": [
    "#Review the relationship between picturecount and mean rent\n",
    "sns.scatterplot(x = 'picturecount', y = 'rent', data = rentals_eda.groupby('picturecount')[['rent']].mean());"
   ]
  },
  {
   "cell_type": "markdown",
   "metadata": {},
   "source": [
    "- Rent seems to rise steadily with the number of pictures to about 25 pictures, afterwhich there is no clear association between the nuber of pictures and rent. It could be the case that more expensive units incite more pictures, but only up to a point."
   ]
  },
  {
   "cell_type": "code",
   "execution_count": 38,
   "metadata": {},
   "outputs": [
    {
     "data": {
      "image/png": "[encoded data removed]",
      "text/plain": [
       "<Figure size 432x288 with 1 Axes>"
      ]
     },
     "metadata": {
      "needs_background": "light"
     },
     "output_type": "display_data"
    }
   ],
   "source": [
    "#Review the relationship between year constructed and mean rent\n",
    "fig, axes = plt.subplots(figsize = (6,4))\n",
    "sns.scatterplot(x = 'yearConstructed', y = 'rent', data = rentals_eda.groupby('yearConstructed')[['rent']].mean())\n",
    "axes.set(xticks=[]);"
   ]
  },
  {
   "cell_type": "markdown",
   "metadata": {},
   "source": [
    "- There is no clear association between year constructed an rent. This is counter intuitive because one would expect new units to fetch higher rent. "
   ]
  },
  {
   "cell_type": "code",
   "execution_count": 39,
   "metadata": {
    "scrolled": false
   },
   "outputs": [
    {
     "data": {
      "text/html": [
       "<div>\n",
       "<style scoped>\n",
       "    .dataframe tbody tr th:only-of-type {\n",
       "        vertical-align: middle;\n",
       "    }\n",
       "\n",
       "    .dataframe tbody tr th {\n",
       "        vertical-align: top;\n",
       "    }\n",
       "\n",
       "    .dataframe thead th {\n",
       "        text-align: right;\n",
       "    }\n",
       "</style>\n",
       "<table border=\"1\" class=\"dataframe\">\n",
       "  <thead>\n",
       "    <tr style=\"text-align: right;\">\n",
       "      <th></th>\n",
       "      <th>rent</th>\n",
       "    </tr>\n",
       "    <tr>\n",
       "      <th>firingTypes</th>\n",
       "      <th></th>\n",
       "    </tr>\n",
       "  </thead>\n",
       "  <tbody>\n",
       "    <tr>\n",
       "      <th>hydro_energy</th>\n",
       "      <td>1306.326923</td>\n",
       "    </tr>\n",
       "    <tr>\n",
       "      <th>combined_heat_and_power_renewable_energy</th>\n",
       "      <td>1154.591061</td>\n",
       "    </tr>\n",
       "    <tr>\n",
       "      <th>bio_energy</th>\n",
       "      <td>1126.397407</td>\n",
       "    </tr>\n",
       "    <tr>\n",
       "      <th>combined_heat_and_power_regenerative_energy</th>\n",
       "      <td>1092.786979</td>\n",
       "    </tr>\n",
       "    <tr>\n",
       "      <th>environmental_thermal_energy</th>\n",
       "      <td>1035.924492</td>\n",
       "    </tr>\n",
       "    <tr>\n",
       "      <th>geothermal</th>\n",
       "      <td>1027.109219</td>\n",
       "    </tr>\n",
       "    <tr>\n",
       "      <th>combined_heat_and_power_fossil_fuels</th>\n",
       "      <td>988.426394</td>\n",
       "    </tr>\n",
       "    <tr>\n",
       "      <th>solar_heating</th>\n",
       "      <td>979.510510</td>\n",
       "    </tr>\n",
       "    <tr>\n",
       "      <th>wind_energy</th>\n",
       "      <td>975.000000</td>\n",
       "    </tr>\n",
       "    <tr>\n",
       "      <th>pellet_heating</th>\n",
       "      <td>924.402373</td>\n",
       "    </tr>\n",
       "    <tr>\n",
       "      <th>wood_chips</th>\n",
       "      <td>857.333037</td>\n",
       "    </tr>\n",
       "    <tr>\n",
       "      <th>heat_supply</th>\n",
       "      <td>840.352306</td>\n",
       "    </tr>\n",
       "    <tr>\n",
       "      <th>combined_heat_and_power_bio_energy</th>\n",
       "      <td>786.461538</td>\n",
       "    </tr>\n",
       "    <tr>\n",
       "      <th>local_heating</th>\n",
       "      <td>728.752270</td>\n",
       "    </tr>\n",
       "    <tr>\n",
       "      <th>coal_coke</th>\n",
       "      <td>705.400000</td>\n",
       "    </tr>\n",
       "    <tr>\n",
       "      <th>wood</th>\n",
       "      <td>701.005063</td>\n",
       "    </tr>\n",
       "    <tr>\n",
       "      <th>oil</th>\n",
       "      <td>650.698730</td>\n",
       "    </tr>\n",
       "    <tr>\n",
       "      <th>electricity</th>\n",
       "      <td>649.791219</td>\n",
       "    </tr>\n",
       "    <tr>\n",
       "      <th>district_heating</th>\n",
       "      <td>631.447617</td>\n",
       "    </tr>\n",
       "    <tr>\n",
       "      <th>gas</th>\n",
       "      <td>623.087859</td>\n",
       "    </tr>\n",
       "    <tr>\n",
       "      <th>natural_gas_light</th>\n",
       "      <td>603.304890</td>\n",
       "    </tr>\n",
       "    <tr>\n",
       "      <th>steam_district_heating</th>\n",
       "      <td>596.701877</td>\n",
       "    </tr>\n",
       "    <tr>\n",
       "      <th>liquid_gas</th>\n",
       "      <td>549.966421</td>\n",
       "    </tr>\n",
       "    <tr>\n",
       "      <th>coal</th>\n",
       "      <td>544.687692</td>\n",
       "    </tr>\n",
       "    <tr>\n",
       "      <th>natural_gas_heavy</th>\n",
       "      <td>504.653961</td>\n",
       "    </tr>\n",
       "  </tbody>\n",
       "</table>\n",
       "</div>"
      ],
      "text/plain": [
       "                                                    rent\n",
       "firingTypes                                             \n",
       "hydro_energy                                 1306.326923\n",
       "combined_heat_and_power_renewable_energy     1154.591061\n",
       "bio_energy                                   1126.397407\n",
       "combined_heat_and_power_regenerative_energy  1092.786979\n",
       "environmental_thermal_energy                 1035.924492\n",
       "geothermal                                   1027.109219\n",
       "combined_heat_and_power_fossil_fuels          988.426394\n",
       "solar_heating                                 979.510510\n",
       "wind_energy                                   975.000000\n",
       "pellet_heating                                924.402373\n",
       "wood_chips                                    857.333037\n",
       "heat_supply                                   840.352306\n",
       "combined_heat_and_power_bio_energy            786.461538\n",
       "local_heating                                 728.752270\n",
       "coal_coke                                     705.400000\n",
       "wood                                          701.005063\n",
       "oil                                           650.698730\n",
       "electricity                                   649.791219\n",
       "district_heating                              631.447617\n",
       "gas                                           623.087859\n",
       "natural_gas_light                             603.304890\n",
       "steam_district_heating                        596.701877\n",
       "liquid_gas                                    549.966421\n",
       "coal                                          544.687692\n",
       "natural_gas_heavy                             504.653961"
      ]
     },
     "execution_count": 39,
     "metadata": {},
     "output_type": "execute_result"
    }
   ],
   "source": [
    "#Review the relationship between firing types and mean rent\n",
    "rentals_eda.groupby('firingTypes')[['rent']].mean().sort_values(by = 'rent', ascending = False)"
   ]
  },
  {
   "cell_type": "markdown",
   "metadata": {},
   "source": [
    "- We note that heavy natural gas and coal fired units have lower rents compared to units that use renewable energy sources (i.e. hydro_energy, combined_heat_and_power_renewable_energy, bio_energy, etc.)"
   ]
  },
  {
   "cell_type": "code",
   "execution_count": 40,
   "metadata": {},
   "outputs": [
    {
     "data": {
      "text/html": [
       "<div>\n",
       "<style scoped>\n",
       "    .dataframe tbody tr th:only-of-type {\n",
       "        vertical-align: middle;\n",
       "    }\n",
       "\n",
       "    .dataframe tbody tr th {\n",
       "        vertical-align: top;\n",
       "    }\n",
       "\n",
       "    .dataframe thead th {\n",
       "        text-align: right;\n",
       "    }\n",
       "</style>\n",
       "<table border=\"1\" class=\"dataframe\">\n",
       "  <thead>\n",
       "    <tr style=\"text-align: right;\">\n",
       "      <th></th>\n",
       "      <th>rent</th>\n",
       "    </tr>\n",
       "    <tr>\n",
       "      <th>hasKitchen</th>\n",
       "      <th></th>\n",
       "    </tr>\n",
       "  </thead>\n",
       "  <tbody>\n",
       "    <tr>\n",
       "      <th>False</th>\n",
       "      <td>551.653499</td>\n",
       "    </tr>\n",
       "    <tr>\n",
       "      <th>True</th>\n",
       "      <td>834.172306</td>\n",
       "    </tr>\n",
       "  </tbody>\n",
       "</table>\n",
       "</div>"
      ],
      "text/plain": [
       "                  rent\n",
       "hasKitchen            \n",
       "False       551.653499\n",
       "True        834.172306"
      ]
     },
     "execution_count": 40,
     "metadata": {},
     "output_type": "execute_result"
    }
   ],
   "source": [
    "#Review the relationship between the availability of a kitchen and mean rent\n",
    "rentals_eda.groupby('hasKitchen')[['rent']].mean()"
   ]
  },
  {
   "cell_type": "markdown",
   "metadata": {},
   "source": [
    "- Units with a kitchen seem to fetch higher rents."
   ]
  },
  {
   "cell_type": "code",
   "execution_count": 41,
   "metadata": {},
   "outputs": [
    {
     "data": {
      "text/html": [
       "<div>\n",
       "<style scoped>\n",
       "    .dataframe tbody tr th:only-of-type {\n",
       "        vertical-align: middle;\n",
       "    }\n",
       "\n",
       "    .dataframe tbody tr th {\n",
       "        vertical-align: top;\n",
       "    }\n",
       "\n",
       "    .dataframe thead th {\n",
       "        text-align: right;\n",
       "    }\n",
       "</style>\n",
       "<table border=\"1\" class=\"dataframe\">\n",
       "  <thead>\n",
       "    <tr style=\"text-align: right;\">\n",
       "      <th></th>\n",
       "      <th>rent</th>\n",
       "    </tr>\n",
       "    <tr>\n",
       "      <th>cellar</th>\n",
       "      <th></th>\n",
       "    </tr>\n",
       "  </thead>\n",
       "  <tbody>\n",
       "    <tr>\n",
       "      <th>False</th>\n",
       "      <td>636.458251</td>\n",
       "    </tr>\n",
       "    <tr>\n",
       "      <th>True</th>\n",
       "      <td>655.454854</td>\n",
       "    </tr>\n",
       "  </tbody>\n",
       "</table>\n",
       "</div>"
      ],
      "text/plain": [
       "              rent\n",
       "cellar            \n",
       "False   636.458251\n",
       "True    655.454854"
      ]
     },
     "execution_count": 41,
     "metadata": {},
     "output_type": "execute_result"
    }
   ],
   "source": [
    "rentals_eda.groupby('cellar')[['rent']].mean()"
   ]
  },
  {
   "cell_type": "markdown",
   "metadata": {},
   "source": [
    "- There is no clear advantage to having a cellar in terms on its effect on rent."
   ]
  },
  {
   "cell_type": "code",
   "execution_count": 42,
   "metadata": {},
   "outputs": [
    {
     "data": {
      "text/html": [
       "<div>\n",
       "<style scoped>\n",
       "    .dataframe tbody tr th:only-of-type {\n",
       "        vertical-align: middle;\n",
       "    }\n",
       "\n",
       "    .dataframe tbody tr th {\n",
       "        vertical-align: top;\n",
       "    }\n",
       "\n",
       "    .dataframe thead th {\n",
       "        text-align: right;\n",
       "    }\n",
       "</style>\n",
       "<table border=\"1\" class=\"dataframe\">\n",
       "  <thead>\n",
       "    <tr style=\"text-align: right;\">\n",
       "      <th></th>\n",
       "      <th>rent</th>\n",
       "    </tr>\n",
       "    <tr>\n",
       "      <th>condition</th>\n",
       "      <th></th>\n",
       "    </tr>\n",
       "  </thead>\n",
       "  <tbody>\n",
       "    <tr>\n",
       "      <th>first_time_use</th>\n",
       "      <td>1090.501416</td>\n",
       "    </tr>\n",
       "    <tr>\n",
       "      <th>mint_condition</th>\n",
       "      <td>974.578202</td>\n",
       "    </tr>\n",
       "    <tr>\n",
       "      <th>first_time_use_after_refurbishment</th>\n",
       "      <td>780.803332</td>\n",
       "    </tr>\n",
       "    <tr>\n",
       "      <th>fully_renovated</th>\n",
       "      <td>584.153071</td>\n",
       "    </tr>\n",
       "    <tr>\n",
       "      <th>modernized</th>\n",
       "      <td>575.439567</td>\n",
       "    </tr>\n",
       "    <tr>\n",
       "      <th>well_kept</th>\n",
       "      <td>547.061781</td>\n",
       "    </tr>\n",
       "    <tr>\n",
       "      <th>refurbished</th>\n",
       "      <td>494.913952</td>\n",
       "    </tr>\n",
       "    <tr>\n",
       "      <th>negotiable</th>\n",
       "      <td>484.453280</td>\n",
       "    </tr>\n",
       "  </tbody>\n",
       "</table>\n",
       "</div>"
      ],
      "text/plain": [
       "                                           rent\n",
       "condition                                      \n",
       "first_time_use                      1090.501416\n",
       "mint_condition                       974.578202\n",
       "first_time_use_after_refurbishment   780.803332\n",
       "fully_renovated                      584.153071\n",
       "modernized                           575.439567\n",
       "well_kept                            547.061781\n",
       "refurbished                          494.913952\n",
       "negotiable                           484.453280"
      ]
     },
     "execution_count": 42,
     "metadata": {},
     "output_type": "execute_result"
    }
   ],
   "source": [
    "#Review the relationship between the condition of the unit and mean rent\n",
    "rentals_eda.groupby('condition')[['rent']].mean().sort_values(by = 'rent', ascending = False)"
   ]
  },
  {
   "cell_type": "markdown",
   "metadata": {},
   "source": [
    "- First time use rental units appear to fetch the highest rents"
   ]
  },
  {
   "cell_type": "code",
   "execution_count": 43,
   "metadata": {},
   "outputs": [
    {
     "data": {
      "text/html": [
       "<div>\n",
       "<style scoped>\n",
       "    .dataframe tbody tr th:only-of-type {\n",
       "        vertical-align: middle;\n",
       "    }\n",
       "\n",
       "    .dataframe tbody tr th {\n",
       "        vertical-align: top;\n",
       "    }\n",
       "\n",
       "    .dataframe thead th {\n",
       "        text-align: right;\n",
       "    }\n",
       "</style>\n",
       "<table border=\"1\" class=\"dataframe\">\n",
       "  <thead>\n",
       "    <tr style=\"text-align: right;\">\n",
       "      <th></th>\n",
       "      <th>rent</th>\n",
       "    </tr>\n",
       "    <tr>\n",
       "      <th>interiorQual</th>\n",
       "      <th></th>\n",
       "    </tr>\n",
       "  </thead>\n",
       "  <tbody>\n",
       "    <tr>\n",
       "      <th>luxury</th>\n",
       "      <td>1591.707512</td>\n",
       "    </tr>\n",
       "    <tr>\n",
       "      <th>sophisticated</th>\n",
       "      <td>884.834406</td>\n",
       "    </tr>\n",
       "    <tr>\n",
       "      <th>normal</th>\n",
       "      <td>466.456260</td>\n",
       "    </tr>\n",
       "    <tr>\n",
       "      <th>simple</th>\n",
       "      <td>421.374234</td>\n",
       "    </tr>\n",
       "  </tbody>\n",
       "</table>\n",
       "</div>"
      ],
      "text/plain": [
       "                      rent\n",
       "interiorQual              \n",
       "luxury         1591.707512\n",
       "sophisticated   884.834406\n",
       "normal          466.456260\n",
       "simple          421.374234"
      ]
     },
     "execution_count": 43,
     "metadata": {},
     "output_type": "execute_result"
    }
   ],
   "source": [
    "#Review the relationship between interior quality of the apartment and mean rent\n",
    "rentals_eda.groupby('interiorQual')[['rent']].mean().sort_values(by = 'rent', ascending = False)"
   ]
  },
  {
   "cell_type": "markdown",
   "metadata": {},
   "source": [
    "- Luxury and sophisticated units appear to fetch higher rents"
   ]
  },
  {
   "cell_type": "code",
   "execution_count": 44,
   "metadata": {},
   "outputs": [
    {
     "data": {
      "text/html": [
       "<div>\n",
       "<style scoped>\n",
       "    .dataframe tbody tr th:only-of-type {\n",
       "        vertical-align: middle;\n",
       "    }\n",
       "\n",
       "    .dataframe tbody tr th {\n",
       "        vertical-align: top;\n",
       "    }\n",
       "\n",
       "    .dataframe thead th {\n",
       "        text-align: right;\n",
       "    }\n",
       "</style>\n",
       "<table border=\"1\" class=\"dataframe\">\n",
       "  <thead>\n",
       "    <tr style=\"text-align: right;\">\n",
       "      <th></th>\n",
       "      <th>rent</th>\n",
       "    </tr>\n",
       "    <tr>\n",
       "      <th>petsAllowed</th>\n",
       "      <th></th>\n",
       "    </tr>\n",
       "  </thead>\n",
       "  <tbody>\n",
       "    <tr>\n",
       "      <th>no</th>\n",
       "      <td>741.876075</td>\n",
       "    </tr>\n",
       "    <tr>\n",
       "      <th>yes</th>\n",
       "      <td>620.879140</td>\n",
       "    </tr>\n",
       "    <tr>\n",
       "      <th>negotiable</th>\n",
       "      <td>607.611719</td>\n",
       "    </tr>\n",
       "  </tbody>\n",
       "</table>\n",
       "</div>"
      ],
      "text/plain": [
       "                   rent\n",
       "petsAllowed            \n",
       "no           741.876075\n",
       "yes          620.879140\n",
       "negotiable   607.611719"
      ]
     },
     "execution_count": 44,
     "metadata": {},
     "output_type": "execute_result"
    }
   ],
   "source": [
    "#Review the relationship between whether pets are allowed and mean rent\n",
    "rentals_eda.groupby('petsAllowed')[['rent']].mean().sort_values(by = 'rent', ascending = False)"
   ]
  },
  {
   "cell_type": "markdown",
   "metadata": {},
   "source": [
    "- Units that don't allow pets seem to be more expensive than those who allow pets"
   ]
  },
  {
   "cell_type": "code",
   "execution_count": 45,
   "metadata": {},
   "outputs": [
    {
     "data": {
      "text/html": [
       "<div>\n",
       "<style scoped>\n",
       "    .dataframe tbody tr th:only-of-type {\n",
       "        vertical-align: middle;\n",
       "    }\n",
       "\n",
       "    .dataframe tbody tr th {\n",
       "        vertical-align: top;\n",
       "    }\n",
       "\n",
       "    .dataframe thead th {\n",
       "        text-align: right;\n",
       "    }\n",
       "</style>\n",
       "<table border=\"1\" class=\"dataframe\">\n",
       "  <thead>\n",
       "    <tr style=\"text-align: right;\">\n",
       "      <th></th>\n",
       "      <th>rent</th>\n",
       "    </tr>\n",
       "    <tr>\n",
       "      <th>lift</th>\n",
       "      <th></th>\n",
       "    </tr>\n",
       "  </thead>\n",
       "  <tbody>\n",
       "    <tr>\n",
       "      <th>True</th>\n",
       "      <td>921.565405</td>\n",
       "    </tr>\n",
       "    <tr>\n",
       "      <th>False</th>\n",
       "      <td>564.443866</td>\n",
       "    </tr>\n",
       "  </tbody>\n",
       "</table>\n",
       "</div>"
      ],
      "text/plain": [
       "             rent\n",
       "lift             \n",
       "True   921.565405\n",
       "False  564.443866"
      ]
     },
     "execution_count": 45,
     "metadata": {},
     "output_type": "execute_result"
    }
   ],
   "source": [
    "#Review the relationship between whether the apartment has a lift and mean rent\n",
    "rentals_eda.groupby('lift')[['rent']].mean().sort_values(by = 'rent', ascending = False)"
   ]
  },
  {
   "cell_type": "markdown",
   "metadata": {},
   "source": [
    "- Units that have a lift seem to be more expensive than those without"
   ]
  },
  {
   "cell_type": "code",
   "execution_count": 46,
   "metadata": {},
   "outputs": [
    {
     "data": {
      "text/html": [
       "<div>\n",
       "<style scoped>\n",
       "    .dataframe tbody tr th:only-of-type {\n",
       "        vertical-align: middle;\n",
       "    }\n",
       "\n",
       "    .dataframe tbody tr th {\n",
       "        vertical-align: top;\n",
       "    }\n",
       "\n",
       "    .dataframe thead th {\n",
       "        text-align: right;\n",
       "    }\n",
       "</style>\n",
       "<table border=\"1\" class=\"dataframe\">\n",
       "  <thead>\n",
       "    <tr style=\"text-align: right;\">\n",
       "      <th></th>\n",
       "      <th>rent</th>\n",
       "    </tr>\n",
       "    <tr>\n",
       "      <th>typeOfFlat</th>\n",
       "      <th></th>\n",
       "    </tr>\n",
       "  </thead>\n",
       "  <tbody>\n",
       "    <tr>\n",
       "      <th>penthouse</th>\n",
       "      <td>1557.827817</td>\n",
       "    </tr>\n",
       "    <tr>\n",
       "      <th>loft</th>\n",
       "      <td>1214.778183</td>\n",
       "    </tr>\n",
       "    <tr>\n",
       "      <th>maisonette</th>\n",
       "      <td>1057.470618</td>\n",
       "    </tr>\n",
       "    <tr>\n",
       "      <th>terraced_flat</th>\n",
       "      <td>963.055989</td>\n",
       "    </tr>\n",
       "    <tr>\n",
       "      <th>apartment</th>\n",
       "      <td>625.873343</td>\n",
       "    </tr>\n",
       "    <tr>\n",
       "      <th>ground_floor</th>\n",
       "      <td>618.787640</td>\n",
       "    </tr>\n",
       "    <tr>\n",
       "      <th>other</th>\n",
       "      <td>617.429205</td>\n",
       "    </tr>\n",
       "    <tr>\n",
       "      <th>roof_storey</th>\n",
       "      <td>607.154940</td>\n",
       "    </tr>\n",
       "    <tr>\n",
       "      <th>raised_ground_floor</th>\n",
       "      <td>604.089383</td>\n",
       "    </tr>\n",
       "    <tr>\n",
       "      <th>half_basement</th>\n",
       "      <td>536.764683</td>\n",
       "    </tr>\n",
       "  </tbody>\n",
       "</table>\n",
       "</div>"
      ],
      "text/plain": [
       "                            rent\n",
       "typeOfFlat                      \n",
       "penthouse            1557.827817\n",
       "loft                 1214.778183\n",
       "maisonette           1057.470618\n",
       "terraced_flat         963.055989\n",
       "apartment             625.873343\n",
       "ground_floor          618.787640\n",
       "other                 617.429205\n",
       "roof_storey           607.154940\n",
       "raised_ground_floor   604.089383\n",
       "half_basement         536.764683"
      ]
     },
     "execution_count": 46,
     "metadata": {},
     "output_type": "execute_result"
    }
   ],
   "source": [
    "#Review the relationship between the type of flat and mean rent\n",
    "rentals_eda.groupby('typeOfFlat')[['rent']].mean().sort_values(by = 'rent', ascending = False)"
   ]
  },
  {
   "cell_type": "markdown",
   "metadata": {},
   "source": [
    "- penthouse's, loft's and maisonette's seem to fetch higher rents than other rental unit styles"
   ]
  },
  {
   "cell_type": "code",
   "execution_count": 47,
   "metadata": {
    "scrolled": true
   },
   "outputs": [
    {
     "data": {
      "text/html": [
       "<div>\n",
       "<style scoped>\n",
       "    .dataframe tbody tr th:only-of-type {\n",
       "        vertical-align: middle;\n",
       "    }\n",
       "\n",
       "    .dataframe tbody tr th {\n",
       "        vertical-align: top;\n",
       "    }\n",
       "\n",
       "    .dataframe thead th {\n",
       "        text-align: right;\n",
       "    }\n",
       "</style>\n",
       "<table border=\"1\" class=\"dataframe\">\n",
       "  <thead>\n",
       "    <tr style=\"text-align: right;\">\n",
       "      <th></th>\n",
       "      <th>rent</th>\n",
       "      <th>state</th>\n",
       "      <th>district</th>\n",
       "      <th>town_municipality</th>\n",
       "    </tr>\n",
       "    <tr>\n",
       "      <th>zip_code</th>\n",
       "      <th></th>\n",
       "      <th></th>\n",
       "      <th></th>\n",
       "      <th></th>\n",
       "    </tr>\n",
       "  </thead>\n",
       "  <tbody>\n",
       "    <tr>\n",
       "      <th>80539</th>\n",
       "      <td>4752.773846</td>\n",
       "      <td>Bayern</td>\n",
       "      <td>München</td>\n",
       "      <td>Schwabing</td>\n",
       "    </tr>\n",
       "    <tr>\n",
       "      <th>89538</th>\n",
       "      <td>4240.000000</td>\n",
       "      <td>Bayern</td>\n",
       "      <td>München</td>\n",
       "      <td>Lehel</td>\n",
       "    </tr>\n",
       "    <tr>\n",
       "      <th>10577</th>\n",
       "      <td>3950.000000</td>\n",
       "      <td>Berlin</td>\n",
       "      <td>Berlin</td>\n",
       "      <td>Tiergarten_Tiergarten</td>\n",
       "    </tr>\n",
       "    <tr>\n",
       "      <th>8382</th>\n",
       "      <td>3900.000000</td>\n",
       "      <td>Baden_Württemberg</td>\n",
       "      <td>Bodenseekreis</td>\n",
       "      <td>Kressbronn_am_Bodensee</td>\n",
       "    </tr>\n",
       "    <tr>\n",
       "      <th>14053</th>\n",
       "      <td>3200.000000</td>\n",
       "      <td>Berlin</td>\n",
       "      <td>Berlin</td>\n",
       "      <td>Charlottenburg_Charlottenburg</td>\n",
       "    </tr>\n",
       "    <tr>\n",
       "      <th>80538</th>\n",
       "      <td>3113.080000</td>\n",
       "      <td>Bayern</td>\n",
       "      <td>München</td>\n",
       "      <td>Maxvorstadt</td>\n",
       "    </tr>\n",
       "    <tr>\n",
       "      <th>81679</th>\n",
       "      <td>3031.366000</td>\n",
       "      <td>Bayern</td>\n",
       "      <td>München</td>\n",
       "      <td>Haidhausen</td>\n",
       "    </tr>\n",
       "    <tr>\n",
       "      <th>91747</th>\n",
       "      <td>3000.000000</td>\n",
       "      <td>Bayern</td>\n",
       "      <td>Weißenburg_Gunzenhausen</td>\n",
       "      <td>Westheim</td>\n",
       "    </tr>\n",
       "    <tr>\n",
       "      <th>22148</th>\n",
       "      <td>2900.000000</td>\n",
       "      <td>Hamburg</td>\n",
       "      <td>Hamburg</td>\n",
       "      <td>Rotherbaum</td>\n",
       "    </tr>\n",
       "    <tr>\n",
       "      <th>85561</th>\n",
       "      <td>2900.000000</td>\n",
       "      <td>Bayern</td>\n",
       "      <td>Ebersberg</td>\n",
       "      <td>Forstinning</td>\n",
       "    </tr>\n",
       "  </tbody>\n",
       "</table>\n",
       "</div>"
      ],
      "text/plain": [
       "                 rent              state                 district  \\\n",
       "zip_code                                                            \n",
       "80539     4752.773846             Bayern                  München   \n",
       "89538     4240.000000             Bayern                  München   \n",
       "10577     3950.000000             Berlin                   Berlin   \n",
       "8382      3900.000000  Baden_Württemberg            Bodenseekreis   \n",
       "14053     3200.000000             Berlin                   Berlin   \n",
       "80538     3113.080000             Bayern                  München   \n",
       "81679     3031.366000             Bayern                  München   \n",
       "91747     3000.000000             Bayern  Weißenburg_Gunzenhausen   \n",
       "22148     2900.000000            Hamburg                  Hamburg   \n",
       "85561     2900.000000             Bayern                Ebersberg   \n",
       "\n",
       "                      town_municipality  \n",
       "zip_code                                 \n",
       "80539                         Schwabing  \n",
       "89538                             Lehel  \n",
       "10577             Tiergarten_Tiergarten  \n",
       "8382             Kressbronn_am_Bodensee  \n",
       "14053     Charlottenburg_Charlottenburg  \n",
       "80538                       Maxvorstadt  \n",
       "81679                        Haidhausen  \n",
       "91747                          Westheim  \n",
       "22148                        Rotherbaum  \n",
       "85561                       Forstinning  "
      ]
     },
     "execution_count": 47,
     "metadata": {},
     "output_type": "execute_result"
    }
   ],
   "source": [
    "#Top zip codes for mean rent\n",
    "rentals_eda.groupby('zip_code')[['rent', 'state', 'district', 'town_municipality']]. \\\n",
    "                    agg({'rent': 'mean', 'state': 'max', 'district' : 'max', 'town_municipality': 'max'}).sort_values(by = 'rent', ascending = False).head(10)"
   ]
  },
  {
   "cell_type": "markdown",
   "metadata": {},
   "source": [
    "- We note that the zip codes with the highest rent seem to be in Bayern in spite of observing the highest mean rents in Hamburg and Berlin"
   ]
  },
  {
   "cell_type": "code",
   "execution_count": 48,
   "metadata": {
    "scrolled": true
   },
   "outputs": [
    {
     "data": {
      "image/png": "[encoded data removed]",
      "text/plain": [
       "<Figure size 432x288 with 1 Axes>"
      ]
     },
     "metadata": {
      "needs_background": "light"
     },
     "output_type": "display_data"
    }
   ],
   "source": [
    "#Review the relationship between the number of rooms and mean rent\n",
    "sns.scatterplot(x = 'noRooms', y = 'rent', data = rentals_eda.groupby('noRooms')[['rent']].mean());"
   ]
  },
  {
   "cell_type": "markdown",
   "metadata": {},
   "source": [
    " - As the number of rooms increase the rent seems to increase"
   ]
  },
  {
   "cell_type": "markdown",
   "metadata": {},
   "source": [
    "## 3.6 Summary "
   ]
  },
  {
   "cell_type": "markdown",
   "metadata": {},
   "source": [
    "- There are appears to be three groups of states that have similar their rent behavior. These include the high-rent states of Berlin and Hamburg, the moderate-rent states of Hessen, Bayern and Baden Wurttenberg, and the low-rent states consisting of the remaining 10 states. \n",
    "- Location is a considerable determinant of rent\n",
    "- We examined features on a state-wide level and established that rent is affected by macro-economic conditions such as the total supply of rental units, population, regional gdp and the human development index.\n",
    "- There was no clear trend associated to price movements of rent over the three dates when data was accumulated.\n",
    "- The presence of certain features seemed to correlate with higher rent."
   ]
  }
 ],
 "metadata": {
  "kernelspec": {
   "display_name": "Python 3",
   "language": "python",
   "name": "python3"
  },
  "language_info": {
   "codemirror_mode": {
    "name": "ipython",
    "version": 3
   },
   "file_extension": ".py",
   "mimetype": "text/x-python",
   "name": "python",
   "nbconvert_exporter": "python",
   "pygments_lexer": "ipython3",
   "version": "3.8.3"
  }
 },
 "nbformat": 4,
 "nbformat_minor": 4
}
