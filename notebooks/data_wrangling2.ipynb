{
 "cells": [
  {
   "cell_type": "markdown",
   "metadata": {},
   "source": [
    "# A. Data Wrangling"
   ]
  },
  {
   "cell_type": "markdown",
   "metadata": {},
   "source": [
    "# 1. Purpose of This Data Science Project"
   ]
  },
  {
   "cell_type": "markdown",
   "metadata": {},
   "source": [
    "The purpose of this data science project is to develop a pricing model for rents listed on rental postings. Property owners would benefit from listing their property at an appropriate price and in line with their position in the market. Owners would also benefit from insights to high-value versus low-value features."
   ]
  },
  {
   "cell_type": "markdown",
   "metadata": {},
   "source": [
    "# 2. Import Packages"
   ]
  },
  {
   "cell_type": "code",
   "execution_count": 513,
   "metadata": {},
   "outputs": [],
   "source": [
    "import numpy as np\n",
    "import pandas as pd\n",
    "import matplotlib.pyplot as plt\n",
    "import seaborn as sns\n",
    "import os\n",
    "pd.options.display.max_columns = None\n",
    "import missingno as msno\n",
    "import pandas_profiling\n",
    "from pandas_profiling.utils.cache import cache_file\n",
    "from collections import defaultdict\n",
    "from datetime import datetime"
   ]
  },
  {
   "cell_type": "markdown",
   "metadata": {},
   "source": [
    "# 3. Objectives of This Notebook"
   ]
  },
  {
   "cell_type": "markdown",
   "metadata": {},
   "source": [
    "- To determine if the data we have could be use to develop a pricing model\n",
    "    - Verify that there is an appropriate target feature\n",
    "    - Verify that there are potentially useful features\n",
    "- Verify that there are not fundamental issues with the data"
   ]
  },
  {
   "cell_type": "markdown",
   "metadata": {},
   "source": [
    "# 4. Loading Data"
   ]
  },
  {
   "cell_type": "code",
   "execution_count": 514,
   "metadata": {},
   "outputs": [],
   "source": [
    "immo_data= pd.read_csv('../data/raw/immo_data.csv')"
   ]
  },
  {
   "cell_type": "code",
   "execution_count": 515,
   "metadata": {},
   "outputs": [],
   "source": [
    "rentals = immo_data.copy()"
   ]
  },
  {
   "cell_type": "code",
   "execution_count": 516,
   "metadata": {
    "scrolled": false
   },
   "outputs": [
    {
     "name": "stdout",
     "output_type": "stream",
     "text": [
      "<class 'pandas.core.frame.DataFrame'>\n",
      "RangeIndex: 268850 entries, 0 to 268849\n",
      "Data columns (total 49 columns):\n",
      " #   Column                    Non-Null Count   Dtype  \n",
      "---  ------                    --------------   -----  \n",
      " 0   regio1                    268850 non-null  object \n",
      " 1   serviceCharge             261941 non-null  float64\n",
      " 2   heatingType               223994 non-null  object \n",
      " 3   telekomTvOffer            236231 non-null  object \n",
      " 4   telekomHybridUploadSpeed  45020 non-null   float64\n",
      " 5   newlyConst                268850 non-null  bool   \n",
      " 6   balcony                   268850 non-null  bool   \n",
      " 7   picturecount              268850 non-null  int64  \n",
      " 8   pricetrend                267018 non-null  float64\n",
      " 9   telekomUploadSpeed        235492 non-null  float64\n",
      " 10  totalRent                 228333 non-null  float64\n",
      " 11  yearConstructed           211805 non-null  float64\n",
      " 12  scoutId                   268850 non-null  int64  \n",
      " 13  noParkSpaces              93052 non-null   float64\n",
      " 14  firingTypes               211886 non-null  object \n",
      " 15  hasKitchen                268850 non-null  bool   \n",
      " 16  geo_bln                   268850 non-null  object \n",
      " 17  cellar                    268850 non-null  bool   \n",
      " 18  yearConstructedRange      211805 non-null  float64\n",
      " 19  baseRent                  268850 non-null  float64\n",
      " 20  houseNumber               197832 non-null  object \n",
      " 21  livingSpace               268850 non-null  float64\n",
      " 22  geo_krs                   268850 non-null  object \n",
      " 23  condition                 200361 non-null  object \n",
      " 24  interiorQual              156185 non-null  object \n",
      " 25  petsAllowed               154277 non-null  object \n",
      " 26  street                    268850 non-null  object \n",
      " 27  streetPlain               197837 non-null  object \n",
      " 28  lift                      268850 non-null  bool   \n",
      " 29  baseRentRange             268850 non-null  int64  \n",
      " 30  typeOfFlat                232236 non-null  object \n",
      " 31  geo_plz                   268850 non-null  int64  \n",
      " 32  noRooms                   268850 non-null  float64\n",
      " 33  thermalChar               162344 non-null  float64\n",
      " 34  floor                     217541 non-null  float64\n",
      " 35  numberOfFloors            171118 non-null  float64\n",
      " 36  noRoomsRange              268850 non-null  int64  \n",
      " 37  garden                    268850 non-null  bool   \n",
      " 38  livingSpaceRange          268850 non-null  int64  \n",
      " 39  regio2                    268850 non-null  object \n",
      " 40  regio3                    268850 non-null  object \n",
      " 41  description               249103 non-null  object \n",
      " 42  facilities                215926 non-null  object \n",
      " 43  heatingCosts              85518 non-null   float64\n",
      " 44  energyEfficiencyClass     77787 non-null   object \n",
      " 45  lastRefurbish             80711 non-null   float64\n",
      " 46  electricityBasePrice      46846 non-null   float64\n",
      " 47  electricityKwhPrice       46846 non-null   float64\n",
      " 48  date                      268850 non-null  object \n",
      "dtypes: bool(6), float64(18), int64(6), object(19)\n",
      "memory usage: 89.7+ MB\n"
     ]
    }
   ],
   "source": [
    "rentals.info()"
   ]
  },
  {
   "cell_type": "code",
   "execution_count": 517,
   "metadata": {
    "scrolled": false
   },
   "outputs": [
    {
     "data": {
      "text/html": [
       "<div>\n",
       "<style scoped>\n",
       "    .dataframe tbody tr th:only-of-type {\n",
       "        vertical-align: middle;\n",
       "    }\n",
       "\n",
       "    .dataframe tbody tr th {\n",
       "        vertical-align: top;\n",
       "    }\n",
       "\n",
       "    .dataframe thead th {\n",
       "        text-align: right;\n",
       "    }\n",
       "</style>\n",
       "<table border=\"1\" class=\"dataframe\">\n",
       "  <thead>\n",
       "    <tr style=\"text-align: right;\">\n",
       "      <th></th>\n",
       "      <th>regio1</th>\n",
       "      <th>serviceCharge</th>\n",
       "      <th>heatingType</th>\n",
       "      <th>telekomTvOffer</th>\n",
       "      <th>telekomHybridUploadSpeed</th>\n",
       "      <th>newlyConst</th>\n",
       "      <th>balcony</th>\n",
       "      <th>picturecount</th>\n",
       "      <th>pricetrend</th>\n",
       "      <th>telekomUploadSpeed</th>\n",
       "      <th>totalRent</th>\n",
       "      <th>yearConstructed</th>\n",
       "      <th>scoutId</th>\n",
       "      <th>noParkSpaces</th>\n",
       "      <th>firingTypes</th>\n",
       "      <th>hasKitchen</th>\n",
       "      <th>geo_bln</th>\n",
       "      <th>cellar</th>\n",
       "      <th>yearConstructedRange</th>\n",
       "      <th>baseRent</th>\n",
       "      <th>houseNumber</th>\n",
       "      <th>livingSpace</th>\n",
       "      <th>geo_krs</th>\n",
       "      <th>condition</th>\n",
       "      <th>interiorQual</th>\n",
       "      <th>petsAllowed</th>\n",
       "      <th>street</th>\n",
       "      <th>streetPlain</th>\n",
       "      <th>lift</th>\n",
       "      <th>baseRentRange</th>\n",
       "      <th>typeOfFlat</th>\n",
       "      <th>geo_plz</th>\n",
       "      <th>noRooms</th>\n",
       "      <th>thermalChar</th>\n",
       "      <th>floor</th>\n",
       "      <th>numberOfFloors</th>\n",
       "      <th>noRoomsRange</th>\n",
       "      <th>garden</th>\n",
       "      <th>livingSpaceRange</th>\n",
       "      <th>regio2</th>\n",
       "      <th>regio3</th>\n",
       "      <th>description</th>\n",
       "      <th>facilities</th>\n",
       "      <th>heatingCosts</th>\n",
       "      <th>energyEfficiencyClass</th>\n",
       "      <th>lastRefurbish</th>\n",
       "      <th>electricityBasePrice</th>\n",
       "      <th>electricityKwhPrice</th>\n",
       "      <th>date</th>\n",
       "    </tr>\n",
       "  </thead>\n",
       "  <tbody>\n",
       "    <tr>\n",
       "      <th>0</th>\n",
       "      <td>Nordrhein_Westfalen</td>\n",
       "      <td>245.00</td>\n",
       "      <td>central_heating</td>\n",
       "      <td>ONE_YEAR_FREE</td>\n",
       "      <td>NaN</td>\n",
       "      <td>False</td>\n",
       "      <td>False</td>\n",
       "      <td>6</td>\n",
       "      <td>4.62</td>\n",
       "      <td>10.0</td>\n",
       "      <td>840.0</td>\n",
       "      <td>1965.0</td>\n",
       "      <td>96107057</td>\n",
       "      <td>1.0</td>\n",
       "      <td>oil</td>\n",
       "      <td>False</td>\n",
       "      <td>Nordrhein_Westfalen</td>\n",
       "      <td>True</td>\n",
       "      <td>2.0</td>\n",
       "      <td>595.0</td>\n",
       "      <td>244</td>\n",
       "      <td>86.00</td>\n",
       "      <td>Dortmund</td>\n",
       "      <td>well_kept</td>\n",
       "      <td>normal</td>\n",
       "      <td>NaN</td>\n",
       "      <td>Sch&amp;uuml;ruferstra&amp;szlig;e</td>\n",
       "      <td>Schüruferstraße</td>\n",
       "      <td>False</td>\n",
       "      <td>4</td>\n",
       "      <td>ground_floor</td>\n",
       "      <td>44269</td>\n",
       "      <td>4.0</td>\n",
       "      <td>181.4</td>\n",
       "      <td>1.0</td>\n",
       "      <td>3.0</td>\n",
       "      <td>4</td>\n",
       "      <td>True</td>\n",
       "      <td>4</td>\n",
       "      <td>Dortmund</td>\n",
       "      <td>Schüren</td>\n",
       "      <td>Die ebenerdig zu erreichende Erdgeschosswohnun...</td>\n",
       "      <td>Die Wohnung ist mit Laminat ausgelegt. Das Bad...</td>\n",
       "      <td>NaN</td>\n",
       "      <td>NaN</td>\n",
       "      <td>NaN</td>\n",
       "      <td>NaN</td>\n",
       "      <td>NaN</td>\n",
       "      <td>May19</td>\n",
       "    </tr>\n",
       "    <tr>\n",
       "      <th>1</th>\n",
       "      <td>Rheinland_Pfalz</td>\n",
       "      <td>134.00</td>\n",
       "      <td>self_contained_central_heating</td>\n",
       "      <td>ONE_YEAR_FREE</td>\n",
       "      <td>NaN</td>\n",
       "      <td>False</td>\n",
       "      <td>True</td>\n",
       "      <td>8</td>\n",
       "      <td>3.47</td>\n",
       "      <td>10.0</td>\n",
       "      <td>NaN</td>\n",
       "      <td>1871.0</td>\n",
       "      <td>111378734</td>\n",
       "      <td>2.0</td>\n",
       "      <td>gas</td>\n",
       "      <td>False</td>\n",
       "      <td>Rheinland_Pfalz</td>\n",
       "      <td>False</td>\n",
       "      <td>1.0</td>\n",
       "      <td>800.0</td>\n",
       "      <td>NaN</td>\n",
       "      <td>89.00</td>\n",
       "      <td>Rhein_Pfalz_Kreis</td>\n",
       "      <td>refurbished</td>\n",
       "      <td>normal</td>\n",
       "      <td>no</td>\n",
       "      <td>no_information</td>\n",
       "      <td>NaN</td>\n",
       "      <td>False</td>\n",
       "      <td>5</td>\n",
       "      <td>ground_floor</td>\n",
       "      <td>67459</td>\n",
       "      <td>3.0</td>\n",
       "      <td>NaN</td>\n",
       "      <td>NaN</td>\n",
       "      <td>NaN</td>\n",
       "      <td>3</td>\n",
       "      <td>False</td>\n",
       "      <td>4</td>\n",
       "      <td>Rhein_Pfalz_Kreis</td>\n",
       "      <td>Böhl_Iggelheim</td>\n",
       "      <td>Alles neu macht der Mai – so kann es auch für ...</td>\n",
       "      <td>NaN</td>\n",
       "      <td>NaN</td>\n",
       "      <td>NaN</td>\n",
       "      <td>2019.0</td>\n",
       "      <td>NaN</td>\n",
       "      <td>NaN</td>\n",
       "      <td>May19</td>\n",
       "    </tr>\n",
       "    <tr>\n",
       "      <th>2</th>\n",
       "      <td>Sachsen</td>\n",
       "      <td>255.00</td>\n",
       "      <td>floor_heating</td>\n",
       "      <td>ONE_YEAR_FREE</td>\n",
       "      <td>10.0</td>\n",
       "      <td>True</td>\n",
       "      <td>True</td>\n",
       "      <td>8</td>\n",
       "      <td>2.72</td>\n",
       "      <td>2.4</td>\n",
       "      <td>1300.0</td>\n",
       "      <td>2019.0</td>\n",
       "      <td>113147523</td>\n",
       "      <td>1.0</td>\n",
       "      <td>NaN</td>\n",
       "      <td>False</td>\n",
       "      <td>Sachsen</td>\n",
       "      <td>True</td>\n",
       "      <td>9.0</td>\n",
       "      <td>965.0</td>\n",
       "      <td>4</td>\n",
       "      <td>83.80</td>\n",
       "      <td>Dresden</td>\n",
       "      <td>first_time_use</td>\n",
       "      <td>sophisticated</td>\n",
       "      <td>NaN</td>\n",
       "      <td>Turnerweg</td>\n",
       "      <td>Turnerweg</td>\n",
       "      <td>True</td>\n",
       "      <td>6</td>\n",
       "      <td>apartment</td>\n",
       "      <td>1097</td>\n",
       "      <td>3.0</td>\n",
       "      <td>NaN</td>\n",
       "      <td>3.0</td>\n",
       "      <td>4.0</td>\n",
       "      <td>3</td>\n",
       "      <td>False</td>\n",
       "      <td>4</td>\n",
       "      <td>Dresden</td>\n",
       "      <td>Äußere_Neustadt_Antonstadt</td>\n",
       "      <td>Der Neubau entsteht im Herzen der Dresdner Neu...</td>\n",
       "      <td>* 9 m² Balkon\\n* Bad mit bodengleicher Dusche,...</td>\n",
       "      <td>NaN</td>\n",
       "      <td>NaN</td>\n",
       "      <td>NaN</td>\n",
       "      <td>NaN</td>\n",
       "      <td>NaN</td>\n",
       "      <td>Oct19</td>\n",
       "    </tr>\n",
       "    <tr>\n",
       "      <th>3</th>\n",
       "      <td>Sachsen</td>\n",
       "      <td>58.15</td>\n",
       "      <td>district_heating</td>\n",
       "      <td>ONE_YEAR_FREE</td>\n",
       "      <td>NaN</td>\n",
       "      <td>False</td>\n",
       "      <td>True</td>\n",
       "      <td>9</td>\n",
       "      <td>1.53</td>\n",
       "      <td>40.0</td>\n",
       "      <td>NaN</td>\n",
       "      <td>1964.0</td>\n",
       "      <td>108890903</td>\n",
       "      <td>NaN</td>\n",
       "      <td>district_heating</td>\n",
       "      <td>False</td>\n",
       "      <td>Sachsen</td>\n",
       "      <td>False</td>\n",
       "      <td>2.0</td>\n",
       "      <td>343.0</td>\n",
       "      <td>35</td>\n",
       "      <td>58.15</td>\n",
       "      <td>Mittelsachsen_Kreis</td>\n",
       "      <td>NaN</td>\n",
       "      <td>NaN</td>\n",
       "      <td>NaN</td>\n",
       "      <td>Gl&amp;uuml;ck-Auf-Stra&amp;szlig;e</td>\n",
       "      <td>Glück-Auf-Straße</td>\n",
       "      <td>False</td>\n",
       "      <td>2</td>\n",
       "      <td>other</td>\n",
       "      <td>9599</td>\n",
       "      <td>3.0</td>\n",
       "      <td>86.0</td>\n",
       "      <td>3.0</td>\n",
       "      <td>NaN</td>\n",
       "      <td>3</td>\n",
       "      <td>False</td>\n",
       "      <td>2</td>\n",
       "      <td>Mittelsachsen_Kreis</td>\n",
       "      <td>Freiberg</td>\n",
       "      <td>Abseits von Lärm und Abgasen in Ihre neue Wohn...</td>\n",
       "      <td>NaN</td>\n",
       "      <td>87.23</td>\n",
       "      <td>NaN</td>\n",
       "      <td>NaN</td>\n",
       "      <td>NaN</td>\n",
       "      <td>NaN</td>\n",
       "      <td>May19</td>\n",
       "    </tr>\n",
       "    <tr>\n",
       "      <th>4</th>\n",
       "      <td>Bremen</td>\n",
       "      <td>138.00</td>\n",
       "      <td>self_contained_central_heating</td>\n",
       "      <td>NaN</td>\n",
       "      <td>NaN</td>\n",
       "      <td>False</td>\n",
       "      <td>True</td>\n",
       "      <td>19</td>\n",
       "      <td>2.46</td>\n",
       "      <td>NaN</td>\n",
       "      <td>903.0</td>\n",
       "      <td>1950.0</td>\n",
       "      <td>114751222</td>\n",
       "      <td>NaN</td>\n",
       "      <td>gas</td>\n",
       "      <td>False</td>\n",
       "      <td>Bremen</td>\n",
       "      <td>False</td>\n",
       "      <td>1.0</td>\n",
       "      <td>765.0</td>\n",
       "      <td>10</td>\n",
       "      <td>84.97</td>\n",
       "      <td>Bremen</td>\n",
       "      <td>refurbished</td>\n",
       "      <td>NaN</td>\n",
       "      <td>NaN</td>\n",
       "      <td>Hermann-Henrich-Meier-Allee</td>\n",
       "      <td>Hermann-Henrich-Meier-Allee</td>\n",
       "      <td>False</td>\n",
       "      <td>5</td>\n",
       "      <td>apartment</td>\n",
       "      <td>28213</td>\n",
       "      <td>3.0</td>\n",
       "      <td>188.9</td>\n",
       "      <td>1.0</td>\n",
       "      <td>NaN</td>\n",
       "      <td>3</td>\n",
       "      <td>False</td>\n",
       "      <td>4</td>\n",
       "      <td>Bremen</td>\n",
       "      <td>Neu_Schwachhausen</td>\n",
       "      <td>Es handelt sich hier um ein saniertes Mehrfami...</td>\n",
       "      <td>Diese Wohnung wurde neu saniert und ist wie fo...</td>\n",
       "      <td>NaN</td>\n",
       "      <td>NaN</td>\n",
       "      <td>NaN</td>\n",
       "      <td>NaN</td>\n",
       "      <td>NaN</td>\n",
       "      <td>Feb20</td>\n",
       "    </tr>\n",
       "  </tbody>\n",
       "</table>\n",
       "</div>"
      ],
      "text/plain": [
       "                regio1  serviceCharge                     heatingType  \\\n",
       "0  Nordrhein_Westfalen         245.00                 central_heating   \n",
       "1      Rheinland_Pfalz         134.00  self_contained_central_heating   \n",
       "2              Sachsen         255.00                   floor_heating   \n",
       "3              Sachsen          58.15                district_heating   \n",
       "4               Bremen         138.00  self_contained_central_heating   \n",
       "\n",
       "  telekomTvOffer  telekomHybridUploadSpeed  newlyConst  balcony  picturecount  \\\n",
       "0  ONE_YEAR_FREE                       NaN       False    False             6   \n",
       "1  ONE_YEAR_FREE                       NaN       False     True             8   \n",
       "2  ONE_YEAR_FREE                      10.0        True     True             8   \n",
       "3  ONE_YEAR_FREE                       NaN       False     True             9   \n",
       "4            NaN                       NaN       False     True            19   \n",
       "\n",
       "   pricetrend  telekomUploadSpeed  totalRent  yearConstructed    scoutId  \\\n",
       "0        4.62                10.0      840.0           1965.0   96107057   \n",
       "1        3.47                10.0        NaN           1871.0  111378734   \n",
       "2        2.72                 2.4     1300.0           2019.0  113147523   \n",
       "3        1.53                40.0        NaN           1964.0  108890903   \n",
       "4        2.46                 NaN      903.0           1950.0  114751222   \n",
       "\n",
       "   noParkSpaces       firingTypes  hasKitchen              geo_bln  cellar  \\\n",
       "0           1.0               oil       False  Nordrhein_Westfalen    True   \n",
       "1           2.0               gas       False      Rheinland_Pfalz   False   \n",
       "2           1.0               NaN       False              Sachsen    True   \n",
       "3           NaN  district_heating       False              Sachsen   False   \n",
       "4           NaN               gas       False               Bremen   False   \n",
       "\n",
       "   yearConstructedRange  baseRent houseNumber  livingSpace  \\\n",
       "0                   2.0     595.0         244        86.00   \n",
       "1                   1.0     800.0         NaN        89.00   \n",
       "2                   9.0     965.0           4        83.80   \n",
       "3                   2.0     343.0          35        58.15   \n",
       "4                   1.0     765.0          10        84.97   \n",
       "\n",
       "               geo_krs       condition   interiorQual petsAllowed  \\\n",
       "0             Dortmund       well_kept         normal         NaN   \n",
       "1    Rhein_Pfalz_Kreis     refurbished         normal          no   \n",
       "2              Dresden  first_time_use  sophisticated         NaN   \n",
       "3  Mittelsachsen_Kreis             NaN            NaN         NaN   \n",
       "4               Bremen     refurbished            NaN         NaN   \n",
       "\n",
       "                        street                  streetPlain   lift  \\\n",
       "0   Sch&uuml;ruferstra&szlig;e              Schüruferstraße  False   \n",
       "1               no_information                          NaN  False   \n",
       "2                    Turnerweg                    Turnerweg   True   \n",
       "3  Gl&uuml;ck-Auf-Stra&szlig;e             Glück-Auf-Straße  False   \n",
       "4  Hermann-Henrich-Meier-Allee  Hermann-Henrich-Meier-Allee  False   \n",
       "\n",
       "   baseRentRange    typeOfFlat  geo_plz  noRooms  thermalChar  floor  \\\n",
       "0              4  ground_floor    44269      4.0        181.4    1.0   \n",
       "1              5  ground_floor    67459      3.0          NaN    NaN   \n",
       "2              6     apartment     1097      3.0          NaN    3.0   \n",
       "3              2         other     9599      3.0         86.0    3.0   \n",
       "4              5     apartment    28213      3.0        188.9    1.0   \n",
       "\n",
       "   numberOfFloors  noRoomsRange  garden  livingSpaceRange  \\\n",
       "0             3.0             4    True                 4   \n",
       "1             NaN             3   False                 4   \n",
       "2             4.0             3   False                 4   \n",
       "3             NaN             3   False                 2   \n",
       "4             NaN             3   False                 4   \n",
       "\n",
       "                regio2                      regio3  \\\n",
       "0             Dortmund                     Schüren   \n",
       "1    Rhein_Pfalz_Kreis              Böhl_Iggelheim   \n",
       "2              Dresden  Äußere_Neustadt_Antonstadt   \n",
       "3  Mittelsachsen_Kreis                    Freiberg   \n",
       "4               Bremen           Neu_Schwachhausen   \n",
       "\n",
       "                                         description  \\\n",
       "0  Die ebenerdig zu erreichende Erdgeschosswohnun...   \n",
       "1  Alles neu macht der Mai – so kann es auch für ...   \n",
       "2  Der Neubau entsteht im Herzen der Dresdner Neu...   \n",
       "3  Abseits von Lärm und Abgasen in Ihre neue Wohn...   \n",
       "4  Es handelt sich hier um ein saniertes Mehrfami...   \n",
       "\n",
       "                                          facilities  heatingCosts  \\\n",
       "0  Die Wohnung ist mit Laminat ausgelegt. Das Bad...           NaN   \n",
       "1                                                NaN           NaN   \n",
       "2  * 9 m² Balkon\\n* Bad mit bodengleicher Dusche,...           NaN   \n",
       "3                                                NaN         87.23   \n",
       "4  Diese Wohnung wurde neu saniert und ist wie fo...           NaN   \n",
       "\n",
       "  energyEfficiencyClass  lastRefurbish  electricityBasePrice  \\\n",
       "0                   NaN            NaN                   NaN   \n",
       "1                   NaN         2019.0                   NaN   \n",
       "2                   NaN            NaN                   NaN   \n",
       "3                   NaN            NaN                   NaN   \n",
       "4                   NaN            NaN                   NaN   \n",
       "\n",
       "   electricityKwhPrice   date  \n",
       "0                  NaN  May19  \n",
       "1                  NaN  May19  \n",
       "2                  NaN  Oct19  \n",
       "3                  NaN  May19  \n",
       "4                  NaN  Feb20  "
      ]
     },
     "execution_count": 517,
     "metadata": {},
     "output_type": "execute_result"
    }
   ],
   "source": [
    "rentals.head()"
   ]
  },
  {
   "cell_type": "code",
   "execution_count": 518,
   "metadata": {},
   "outputs": [
    {
     "data": {
      "text/plain": [
       "(268850, 49)"
      ]
     },
     "execution_count": 518,
     "metadata": {},
     "output_type": "execute_result"
    }
   ],
   "source": [
    "rentals.shape"
   ]
  },
  {
   "cell_type": "markdown",
   "metadata": {},
   "source": [
    "- We observe that the dataframe has 49 features associated with 268,850 apartment records that have been put up for rent. \n",
    "- We note that there are various price-related features that will be examined to determine the appropriate target feature. For instance, we need to choose between totalRent and baseRent. Furthermore, we neet to determin the relationships between such features as heatingCosts and the possible target features of totalRent and baseRent.\n",
    "- The dataframe features comprise of 4 main datatypes, including 6 boolean, 18 float, 6 integer and 19 object datatypes. We would need to verfiy that these datatypes are accurate in the context of our goal of developing a price model for rent. We also note a varying level of quality associated with each feature in terms of how many records exist for the particular feature. We would need to deal with those features that have a lot of empty values. \n",
    "- Finally, we observe that the amount of memory used up by the dataframe is ~89, which is manageable. Higher capacity data-processing cloud computing technologies may not be necessary."
   ]
  },
  {
   "cell_type": "markdown",
   "metadata": {},
   "source": [
    "# 5. Reviewing the Data "
   ]
  },
  {
   "cell_type": "markdown",
   "metadata": {},
   "source": [
    "## 5.1 Checking For Duplicates"
   ]
  },
  {
   "cell_type": "markdown",
   "metadata": {},
   "source": [
    "- We will check for duplicated information for apartment addresses. \n",
    "- We will check duplicates across regio1, regio2, regio3, street, and houseNumber"
   ]
  },
  {
   "cell_type": "code",
   "execution_count": 519,
   "metadata": {},
   "outputs": [
    {
     "data": {
      "text/plain": [
       "115338"
      ]
     },
     "execution_count": 519,
     "metadata": {},
     "output_type": "execute_result"
    }
   ],
   "source": [
    "#Check for duplicated rows across features\n",
    "rentals.duplicated(['regio1','regio2', 'regio3', 'street', 'houseNumber']).sum()"
   ]
  },
  {
   "cell_type": "code",
   "execution_count": 520,
   "metadata": {},
   "outputs": [],
   "source": [
    "#Determine nature of duplicates\n",
    "duplicated = rentals.loc[rentals.duplicated(['regio1','regio2', 'regio3', 'street', 'houseNumber']), ['regio1','regio2', 'regio3', 'street', 'houseNumber']]"
   ]
  },
  {
   "cell_type": "code",
   "execution_count": 521,
   "metadata": {},
   "outputs": [
    {
     "data": {
      "text/html": [
       "<div>\n",
       "<style scoped>\n",
       "    .dataframe tbody tr th:only-of-type {\n",
       "        vertical-align: middle;\n",
       "    }\n",
       "\n",
       "    .dataframe tbody tr th {\n",
       "        vertical-align: top;\n",
       "    }\n",
       "\n",
       "    .dataframe thead th {\n",
       "        text-align: right;\n",
       "    }\n",
       "</style>\n",
       "<table border=\"1\" class=\"dataframe\">\n",
       "  <thead>\n",
       "    <tr style=\"text-align: right;\">\n",
       "      <th></th>\n",
       "      <th>regio1</th>\n",
       "      <th>regio2</th>\n",
       "      <th>regio3</th>\n",
       "      <th>street</th>\n",
       "      <th>houseNumber</th>\n",
       "    </tr>\n",
       "  </thead>\n",
       "  <tbody>\n",
       "    <tr>\n",
       "      <th>148</th>\n",
       "      <td>Hessen</td>\n",
       "      <td>Main_Kinzig_Kreis</td>\n",
       "      <td>Hanau</td>\n",
       "      <td>no_information</td>\n",
       "      <td>NaN</td>\n",
       "    </tr>\n",
       "    <tr>\n",
       "      <th>317</th>\n",
       "      <td>Sachsen</td>\n",
       "      <td>Vogtlandkreis</td>\n",
       "      <td>Reichenbach_im_Vogtland</td>\n",
       "      <td>no_information</td>\n",
       "      <td>NaN</td>\n",
       "    </tr>\n",
       "    <tr>\n",
       "      <th>359</th>\n",
       "      <td>Sachsen_Anhalt</td>\n",
       "      <td>Harz_Kreis</td>\n",
       "      <td>Quedlinburg</td>\n",
       "      <td>no_information</td>\n",
       "      <td>NaN</td>\n",
       "    </tr>\n",
       "    <tr>\n",
       "      <th>366</th>\n",
       "      <td>Nordrhein_Westfalen</td>\n",
       "      <td>Rheinisch_Bergischer_Kreis</td>\n",
       "      <td>Bergisch_Gladbach</td>\n",
       "      <td>no_information</td>\n",
       "      <td>NaN</td>\n",
       "    </tr>\n",
       "    <tr>\n",
       "      <th>396</th>\n",
       "      <td>Hessen</td>\n",
       "      <td>Main_Kinzig_Kreis</td>\n",
       "      <td>Hanau</td>\n",
       "      <td>no_information</td>\n",
       "      <td>NaN</td>\n",
       "    </tr>\n",
       "  </tbody>\n",
       "</table>\n",
       "</div>"
      ],
      "text/plain": [
       "                  regio1                      regio2                   regio3  \\\n",
       "148               Hessen           Main_Kinzig_Kreis                    Hanau   \n",
       "317              Sachsen               Vogtlandkreis  Reichenbach_im_Vogtland   \n",
       "359       Sachsen_Anhalt                  Harz_Kreis              Quedlinburg   \n",
       "366  Nordrhein_Westfalen  Rheinisch_Bergischer_Kreis        Bergisch_Gladbach   \n",
       "396               Hessen           Main_Kinzig_Kreis                    Hanau   \n",
       "\n",
       "             street houseNumber  \n",
       "148  no_information         NaN  \n",
       "317  no_information         NaN  \n",
       "359  no_information         NaN  \n",
       "366  no_information         NaN  \n",
       "396  no_information         NaN  "
      ]
     },
     "execution_count": 521,
     "metadata": {},
     "output_type": "execute_result"
    }
   ],
   "source": [
    "duplicated.head()"
   ]
  },
  {
   "cell_type": "markdown",
   "metadata": {},
   "source": [
    "- We notice that many rows have missing street and houseNumber information and likely contributes to the number of missing values\n",
    "- We will filter the duplicated dataframe to exclude this null entries to see if there other sources of duplicated rows"
   ]
  },
  {
   "cell_type": "code",
   "execution_count": 522,
   "metadata": {},
   "outputs": [],
   "source": [
    "#Filter-out rows where street and houseNumber have missing values\n",
    "duplicated_nomissing = duplicated[(duplicated.street != 'no_information') & (duplicated.houseNumber.isna())]"
   ]
  },
  {
   "cell_type": "code",
   "execution_count": 523,
   "metadata": {},
   "outputs": [
    {
     "data": {
      "text/plain": [
       "0"
      ]
     },
     "execution_count": 523,
     "metadata": {},
     "output_type": "execute_result"
    }
   ],
   "source": [
    "duplicated_nomissing.shape[0]"
   ]
  },
  {
   "cell_type": "markdown",
   "metadata": {},
   "source": [
    "- We have established that the only duplicated records apply to addresses that have no street or houseNumber information."
   ]
  },
  {
   "cell_type": "markdown",
   "metadata": {},
   "source": [
    "## 5.2 Reviewing Data Completeness"
   ]
  },
  {
   "cell_type": "code",
   "execution_count": 524,
   "metadata": {
    "scrolled": false
   },
   "outputs": [
    {
     "data": {
      "text/html": [
       "<div>\n",
       "<style scoped>\n",
       "    .dataframe tbody tr th:only-of-type {\n",
       "        vertical-align: middle;\n",
       "    }\n",
       "\n",
       "    .dataframe tbody tr th {\n",
       "        vertical-align: top;\n",
       "    }\n",
       "\n",
       "    .dataframe thead th {\n",
       "        text-align: right;\n",
       "    }\n",
       "</style>\n",
       "<table border=\"1\" class=\"dataframe\">\n",
       "  <thead>\n",
       "    <tr style=\"text-align: right;\">\n",
       "      <th></th>\n",
       "      <th>Count</th>\n",
       "      <th>%age total</th>\n",
       "    </tr>\n",
       "  </thead>\n",
       "  <tbody>\n",
       "    <tr>\n",
       "      <th>telekomHybridUploadSpeed</th>\n",
       "      <td>223830</td>\n",
       "      <td>83.254603</td>\n",
       "    </tr>\n",
       "    <tr>\n",
       "      <th>electricityKwhPrice</th>\n",
       "      <td>222004</td>\n",
       "      <td>82.575414</td>\n",
       "    </tr>\n",
       "    <tr>\n",
       "      <th>electricityBasePrice</th>\n",
       "      <td>222004</td>\n",
       "      <td>82.575414</td>\n",
       "    </tr>\n",
       "    <tr>\n",
       "      <th>energyEfficiencyClass</th>\n",
       "      <td>191063</td>\n",
       "      <td>71.066766</td>\n",
       "    </tr>\n",
       "    <tr>\n",
       "      <th>lastRefurbish</th>\n",
       "      <td>188139</td>\n",
       "      <td>69.979171</td>\n",
       "    </tr>\n",
       "    <tr>\n",
       "      <th>heatingCosts</th>\n",
       "      <td>183332</td>\n",
       "      <td>68.191185</td>\n",
       "    </tr>\n",
       "    <tr>\n",
       "      <th>noParkSpaces</th>\n",
       "      <td>175798</td>\n",
       "      <td>65.388879</td>\n",
       "    </tr>\n",
       "    <tr>\n",
       "      <th>petsAllowed</th>\n",
       "      <td>114573</td>\n",
       "      <td>42.615957</td>\n",
       "    </tr>\n",
       "    <tr>\n",
       "      <th>interiorQual</th>\n",
       "      <td>112665</td>\n",
       "      <td>41.906267</td>\n",
       "    </tr>\n",
       "    <tr>\n",
       "      <th>thermalChar</th>\n",
       "      <td>106506</td>\n",
       "      <td>39.615399</td>\n",
       "    </tr>\n",
       "    <tr>\n",
       "      <th>numberOfFloors</th>\n",
       "      <td>97732</td>\n",
       "      <td>36.351869</td>\n",
       "    </tr>\n",
       "    <tr>\n",
       "      <th>houseNumber</th>\n",
       "      <td>71018</td>\n",
       "      <td>26.415473</td>\n",
       "    </tr>\n",
       "    <tr>\n",
       "      <th>streetPlain</th>\n",
       "      <td>71013</td>\n",
       "      <td>26.413614</td>\n",
       "    </tr>\n",
       "    <tr>\n",
       "      <th>condition</th>\n",
       "      <td>68489</td>\n",
       "      <td>25.474800</td>\n",
       "    </tr>\n",
       "    <tr>\n",
       "      <th>yearConstructed</th>\n",
       "      <td>57045</td>\n",
       "      <td>21.218151</td>\n",
       "    </tr>\n",
       "    <tr>\n",
       "      <th>yearConstructedRange</th>\n",
       "      <td>57045</td>\n",
       "      <td>21.218151</td>\n",
       "    </tr>\n",
       "    <tr>\n",
       "      <th>firingTypes</th>\n",
       "      <td>56964</td>\n",
       "      <td>21.188023</td>\n",
       "    </tr>\n",
       "    <tr>\n",
       "      <th>facilities</th>\n",
       "      <td>52924</td>\n",
       "      <td>19.685326</td>\n",
       "    </tr>\n",
       "    <tr>\n",
       "      <th>floor</th>\n",
       "      <td>51309</td>\n",
       "      <td>19.084620</td>\n",
       "    </tr>\n",
       "    <tr>\n",
       "      <th>heatingType</th>\n",
       "      <td>44856</td>\n",
       "      <td>16.684397</td>\n",
       "    </tr>\n",
       "    <tr>\n",
       "      <th>totalRent</th>\n",
       "      <td>40517</td>\n",
       "      <td>15.070485</td>\n",
       "    </tr>\n",
       "    <tr>\n",
       "      <th>typeOfFlat</th>\n",
       "      <td>36614</td>\n",
       "      <td>13.618747</td>\n",
       "    </tr>\n",
       "    <tr>\n",
       "      <th>telekomUploadSpeed</th>\n",
       "      <td>33358</td>\n",
       "      <td>12.407662</td>\n",
       "    </tr>\n",
       "    <tr>\n",
       "      <th>telekomTvOffer</th>\n",
       "      <td>32619</td>\n",
       "      <td>12.132788</td>\n",
       "    </tr>\n",
       "    <tr>\n",
       "      <th>description</th>\n",
       "      <td>19747</td>\n",
       "      <td>7.344988</td>\n",
       "    </tr>\n",
       "    <tr>\n",
       "      <th>serviceCharge</th>\n",
       "      <td>6909</td>\n",
       "      <td>2.569834</td>\n",
       "    </tr>\n",
       "    <tr>\n",
       "      <th>pricetrend</th>\n",
       "      <td>1832</td>\n",
       "      <td>0.681421</td>\n",
       "    </tr>\n",
       "    <tr>\n",
       "      <th>regio3</th>\n",
       "      <td>0</td>\n",
       "      <td>0.000000</td>\n",
       "    </tr>\n",
       "    <tr>\n",
       "      <th>regio2</th>\n",
       "      <td>0</td>\n",
       "      <td>0.000000</td>\n",
       "    </tr>\n",
       "    <tr>\n",
       "      <th>livingSpaceRange</th>\n",
       "      <td>0</td>\n",
       "      <td>0.000000</td>\n",
       "    </tr>\n",
       "    <tr>\n",
       "      <th>garden</th>\n",
       "      <td>0</td>\n",
       "      <td>0.000000</td>\n",
       "    </tr>\n",
       "    <tr>\n",
       "      <th>noRoomsRange</th>\n",
       "      <td>0</td>\n",
       "      <td>0.000000</td>\n",
       "    </tr>\n",
       "    <tr>\n",
       "      <th>regio1</th>\n",
       "      <td>0</td>\n",
       "      <td>0.000000</td>\n",
       "    </tr>\n",
       "    <tr>\n",
       "      <th>noRooms</th>\n",
       "      <td>0</td>\n",
       "      <td>0.000000</td>\n",
       "    </tr>\n",
       "    <tr>\n",
       "      <th>geo_plz</th>\n",
       "      <td>0</td>\n",
       "      <td>0.000000</td>\n",
       "    </tr>\n",
       "    <tr>\n",
       "      <th>baseRentRange</th>\n",
       "      <td>0</td>\n",
       "      <td>0.000000</td>\n",
       "    </tr>\n",
       "    <tr>\n",
       "      <th>lift</th>\n",
       "      <td>0</td>\n",
       "      <td>0.000000</td>\n",
       "    </tr>\n",
       "    <tr>\n",
       "      <th>street</th>\n",
       "      <td>0</td>\n",
       "      <td>0.000000</td>\n",
       "    </tr>\n",
       "    <tr>\n",
       "      <th>geo_krs</th>\n",
       "      <td>0</td>\n",
       "      <td>0.000000</td>\n",
       "    </tr>\n",
       "    <tr>\n",
       "      <th>livingSpace</th>\n",
       "      <td>0</td>\n",
       "      <td>0.000000</td>\n",
       "    </tr>\n",
       "    <tr>\n",
       "      <th>baseRent</th>\n",
       "      <td>0</td>\n",
       "      <td>0.000000</td>\n",
       "    </tr>\n",
       "    <tr>\n",
       "      <th>cellar</th>\n",
       "      <td>0</td>\n",
       "      <td>0.000000</td>\n",
       "    </tr>\n",
       "    <tr>\n",
       "      <th>geo_bln</th>\n",
       "      <td>0</td>\n",
       "      <td>0.000000</td>\n",
       "    </tr>\n",
       "    <tr>\n",
       "      <th>hasKitchen</th>\n",
       "      <td>0</td>\n",
       "      <td>0.000000</td>\n",
       "    </tr>\n",
       "    <tr>\n",
       "      <th>scoutId</th>\n",
       "      <td>0</td>\n",
       "      <td>0.000000</td>\n",
       "    </tr>\n",
       "    <tr>\n",
       "      <th>picturecount</th>\n",
       "      <td>0</td>\n",
       "      <td>0.000000</td>\n",
       "    </tr>\n",
       "    <tr>\n",
       "      <th>balcony</th>\n",
       "      <td>0</td>\n",
       "      <td>0.000000</td>\n",
       "    </tr>\n",
       "    <tr>\n",
       "      <th>newlyConst</th>\n",
       "      <td>0</td>\n",
       "      <td>0.000000</td>\n",
       "    </tr>\n",
       "    <tr>\n",
       "      <th>date</th>\n",
       "      <td>0</td>\n",
       "      <td>0.000000</td>\n",
       "    </tr>\n",
       "  </tbody>\n",
       "</table>\n",
       "</div>"
      ],
      "text/plain": [
       "                           Count  %age total\n",
       "telekomHybridUploadSpeed  223830   83.254603\n",
       "electricityKwhPrice       222004   82.575414\n",
       "electricityBasePrice      222004   82.575414\n",
       "energyEfficiencyClass     191063   71.066766\n",
       "lastRefurbish             188139   69.979171\n",
       "heatingCosts              183332   68.191185\n",
       "noParkSpaces              175798   65.388879\n",
       "petsAllowed               114573   42.615957\n",
       "interiorQual              112665   41.906267\n",
       "thermalChar               106506   39.615399\n",
       "numberOfFloors             97732   36.351869\n",
       "houseNumber                71018   26.415473\n",
       "streetPlain                71013   26.413614\n",
       "condition                  68489   25.474800\n",
       "yearConstructed            57045   21.218151\n",
       "yearConstructedRange       57045   21.218151\n",
       "firingTypes                56964   21.188023\n",
       "facilities                 52924   19.685326\n",
       "floor                      51309   19.084620\n",
       "heatingType                44856   16.684397\n",
       "totalRent                  40517   15.070485\n",
       "typeOfFlat                 36614   13.618747\n",
       "telekomUploadSpeed         33358   12.407662\n",
       "telekomTvOffer             32619   12.132788\n",
       "description                19747    7.344988\n",
       "serviceCharge               6909    2.569834\n",
       "pricetrend                  1832    0.681421\n",
       "regio3                         0    0.000000\n",
       "regio2                         0    0.000000\n",
       "livingSpaceRange               0    0.000000\n",
       "garden                         0    0.000000\n",
       "noRoomsRange                   0    0.000000\n",
       "regio1                         0    0.000000\n",
       "noRooms                        0    0.000000\n",
       "geo_plz                        0    0.000000\n",
       "baseRentRange                  0    0.000000\n",
       "lift                           0    0.000000\n",
       "street                         0    0.000000\n",
       "geo_krs                        0    0.000000\n",
       "livingSpace                    0    0.000000\n",
       "baseRent                       0    0.000000\n",
       "cellar                         0    0.000000\n",
       "geo_bln                        0    0.000000\n",
       "hasKitchen                     0    0.000000\n",
       "scoutId                        0    0.000000\n",
       "picturecount                   0    0.000000\n",
       "balcony                        0    0.000000\n",
       "newlyConst                     0    0.000000\n",
       "date                           0    0.000000"
      ]
     },
     "execution_count": 524,
     "metadata": {},
     "output_type": "execute_result"
    }
   ],
   "source": [
    "#To determine counts and percentage of valid entries\n",
    "missing = pd.concat([rentals.isnull().sum(), rentals.isnull().mean() * 100], axis = 1)\n",
    "missing.columns = ['Count', '%age total']\n",
    "missing.sort_values(by = 'Count', ascending = False)"
   ]
  },
  {
   "cell_type": "code",
   "execution_count": 525,
   "metadata": {
    "scrolled": true
   },
   "outputs": [
    {
     "data": {
      "image/png": "[encoded data removed]",
      "text/plain": [
       "<Figure size 1728x720 with 3 Axes>"
      ]
     },
     "metadata": {
      "needs_background": "light"
     },
     "output_type": "display_data"
    }
   ],
   "source": [
    "#Show the prescence on non-null values as a bar chart\n",
    "_= msno.bar(rentals)\n",
    "_= plt.title('Count of Valid Entries Per Feature')"
   ]
  },
  {
   "cell_type": "markdown",
   "metadata": {},
   "source": [
    "- We notice that some features have many missing values. We will select features that have 60% valid entries into our dataframe."
   ]
  },
  {
   "cell_type": "code",
   "execution_count": 526,
   "metadata": {},
   "outputs": [],
   "source": [
    "#Filter-out features with over 40% missing values\n",
    "rentals = msno.nullity_filter(rentals,filter = 'top', p =0.6)"
   ]
  },
  {
   "cell_type": "code",
   "execution_count": 527,
   "metadata": {},
   "outputs": [
    {
     "data": {
      "text/plain": [
       "(268850, 40)"
      ]
     },
     "execution_count": 527,
     "metadata": {},
     "output_type": "execute_result"
    }
   ],
   "source": [
    "rentals.shape"
   ]
  },
  {
   "cell_type": "code",
   "execution_count": 528,
   "metadata": {
    "scrolled": false
   },
   "outputs": [
    {
     "data": {
      "text/html": [
       "<div>\n",
       "<style scoped>\n",
       "    .dataframe tbody tr th:only-of-type {\n",
       "        vertical-align: middle;\n",
       "    }\n",
       "\n",
       "    .dataframe tbody tr th {\n",
       "        vertical-align: top;\n",
       "    }\n",
       "\n",
       "    .dataframe thead th {\n",
       "        text-align: right;\n",
       "    }\n",
       "</style>\n",
       "<table border=\"1\" class=\"dataframe\">\n",
       "  <thead>\n",
       "    <tr style=\"text-align: right;\">\n",
       "      <th></th>\n",
       "      <th>regio1</th>\n",
       "      <th>serviceCharge</th>\n",
       "      <th>heatingType</th>\n",
       "      <th>telekomTvOffer</th>\n",
       "      <th>newlyConst</th>\n",
       "      <th>balcony</th>\n",
       "      <th>picturecount</th>\n",
       "      <th>pricetrend</th>\n",
       "      <th>telekomUploadSpeed</th>\n",
       "      <th>totalRent</th>\n",
       "      <th>yearConstructed</th>\n",
       "      <th>scoutId</th>\n",
       "      <th>firingTypes</th>\n",
       "      <th>hasKitchen</th>\n",
       "      <th>geo_bln</th>\n",
       "      <th>cellar</th>\n",
       "      <th>yearConstructedRange</th>\n",
       "      <th>baseRent</th>\n",
       "      <th>houseNumber</th>\n",
       "      <th>livingSpace</th>\n",
       "      <th>geo_krs</th>\n",
       "      <th>condition</th>\n",
       "      <th>street</th>\n",
       "      <th>streetPlain</th>\n",
       "      <th>lift</th>\n",
       "      <th>baseRentRange</th>\n",
       "      <th>typeOfFlat</th>\n",
       "      <th>geo_plz</th>\n",
       "      <th>noRooms</th>\n",
       "      <th>thermalChar</th>\n",
       "      <th>floor</th>\n",
       "      <th>numberOfFloors</th>\n",
       "      <th>noRoomsRange</th>\n",
       "      <th>garden</th>\n",
       "      <th>livingSpaceRange</th>\n",
       "      <th>regio2</th>\n",
       "      <th>regio3</th>\n",
       "      <th>description</th>\n",
       "      <th>facilities</th>\n",
       "      <th>date</th>\n",
       "    </tr>\n",
       "  </thead>\n",
       "  <tbody>\n",
       "    <tr>\n",
       "      <th>0</th>\n",
       "      <td>Nordrhein_Westfalen</td>\n",
       "      <td>245.0</td>\n",
       "      <td>central_heating</td>\n",
       "      <td>ONE_YEAR_FREE</td>\n",
       "      <td>False</td>\n",
       "      <td>False</td>\n",
       "      <td>6</td>\n",
       "      <td>4.62</td>\n",
       "      <td>10.0</td>\n",
       "      <td>840.0</td>\n",
       "      <td>1965.0</td>\n",
       "      <td>96107057</td>\n",
       "      <td>oil</td>\n",
       "      <td>False</td>\n",
       "      <td>Nordrhein_Westfalen</td>\n",
       "      <td>True</td>\n",
       "      <td>2.0</td>\n",
       "      <td>595.0</td>\n",
       "      <td>244</td>\n",
       "      <td>86.0</td>\n",
       "      <td>Dortmund</td>\n",
       "      <td>well_kept</td>\n",
       "      <td>Sch&amp;uuml;ruferstra&amp;szlig;e</td>\n",
       "      <td>Schüruferstraße</td>\n",
       "      <td>False</td>\n",
       "      <td>4</td>\n",
       "      <td>ground_floor</td>\n",
       "      <td>44269</td>\n",
       "      <td>4.0</td>\n",
       "      <td>181.4</td>\n",
       "      <td>1.0</td>\n",
       "      <td>3.0</td>\n",
       "      <td>4</td>\n",
       "      <td>True</td>\n",
       "      <td>4</td>\n",
       "      <td>Dortmund</td>\n",
       "      <td>Schüren</td>\n",
       "      <td>Die ebenerdig zu erreichende Erdgeschosswohnun...</td>\n",
       "      <td>Die Wohnung ist mit Laminat ausgelegt. Das Bad...</td>\n",
       "      <td>May19</td>\n",
       "    </tr>\n",
       "    <tr>\n",
       "      <th>1</th>\n",
       "      <td>Rheinland_Pfalz</td>\n",
       "      <td>134.0</td>\n",
       "      <td>self_contained_central_heating</td>\n",
       "      <td>ONE_YEAR_FREE</td>\n",
       "      <td>False</td>\n",
       "      <td>True</td>\n",
       "      <td>8</td>\n",
       "      <td>3.47</td>\n",
       "      <td>10.0</td>\n",
       "      <td>NaN</td>\n",
       "      <td>1871.0</td>\n",
       "      <td>111378734</td>\n",
       "      <td>gas</td>\n",
       "      <td>False</td>\n",
       "      <td>Rheinland_Pfalz</td>\n",
       "      <td>False</td>\n",
       "      <td>1.0</td>\n",
       "      <td>800.0</td>\n",
       "      <td>NaN</td>\n",
       "      <td>89.0</td>\n",
       "      <td>Rhein_Pfalz_Kreis</td>\n",
       "      <td>refurbished</td>\n",
       "      <td>no_information</td>\n",
       "      <td>NaN</td>\n",
       "      <td>False</td>\n",
       "      <td>5</td>\n",
       "      <td>ground_floor</td>\n",
       "      <td>67459</td>\n",
       "      <td>3.0</td>\n",
       "      <td>NaN</td>\n",
       "      <td>NaN</td>\n",
       "      <td>NaN</td>\n",
       "      <td>3</td>\n",
       "      <td>False</td>\n",
       "      <td>4</td>\n",
       "      <td>Rhein_Pfalz_Kreis</td>\n",
       "      <td>Böhl_Iggelheim</td>\n",
       "      <td>Alles neu macht der Mai – so kann es auch für ...</td>\n",
       "      <td>NaN</td>\n",
       "      <td>May19</td>\n",
       "    </tr>\n",
       "  </tbody>\n",
       "</table>\n",
       "</div>"
      ],
      "text/plain": [
       "                regio1  serviceCharge                     heatingType  \\\n",
       "0  Nordrhein_Westfalen          245.0                 central_heating   \n",
       "1      Rheinland_Pfalz          134.0  self_contained_central_heating   \n",
       "\n",
       "  telekomTvOffer  newlyConst  balcony  picturecount  pricetrend  \\\n",
       "0  ONE_YEAR_FREE       False    False             6        4.62   \n",
       "1  ONE_YEAR_FREE       False     True             8        3.47   \n",
       "\n",
       "   telekomUploadSpeed  totalRent  yearConstructed    scoutId firingTypes  \\\n",
       "0                10.0      840.0           1965.0   96107057         oil   \n",
       "1                10.0        NaN           1871.0  111378734         gas   \n",
       "\n",
       "   hasKitchen              geo_bln  cellar  yearConstructedRange  baseRent  \\\n",
       "0       False  Nordrhein_Westfalen    True                   2.0     595.0   \n",
       "1       False      Rheinland_Pfalz   False                   1.0     800.0   \n",
       "\n",
       "  houseNumber  livingSpace            geo_krs    condition  \\\n",
       "0         244         86.0           Dortmund    well_kept   \n",
       "1         NaN         89.0  Rhein_Pfalz_Kreis  refurbished   \n",
       "\n",
       "                       street      streetPlain   lift  baseRentRange  \\\n",
       "0  Sch&uuml;ruferstra&szlig;e  Schüruferstraße  False              4   \n",
       "1              no_information              NaN  False              5   \n",
       "\n",
       "     typeOfFlat  geo_plz  noRooms  thermalChar  floor  numberOfFloors  \\\n",
       "0  ground_floor    44269      4.0        181.4    1.0             3.0   \n",
       "1  ground_floor    67459      3.0          NaN    NaN             NaN   \n",
       "\n",
       "   noRoomsRange  garden  livingSpaceRange             regio2          regio3  \\\n",
       "0             4    True                 4           Dortmund         Schüren   \n",
       "1             3   False                 4  Rhein_Pfalz_Kreis  Böhl_Iggelheim   \n",
       "\n",
       "                                         description  \\\n",
       "0  Die ebenerdig zu erreichende Erdgeschosswohnun...   \n",
       "1  Alles neu macht der Mai – so kann es auch für ...   \n",
       "\n",
       "                                          facilities   date  \n",
       "0  Die Wohnung ist mit Laminat ausgelegt. Das Bad...  May19  \n",
       "1                                                NaN  May19  "
      ]
     },
     "execution_count": 528,
     "metadata": {},
     "output_type": "execute_result"
    }
   ],
   "source": [
    "rentals.head(2)"
   ]
  },
  {
   "cell_type": "markdown",
   "metadata": {},
   "source": [
    "## 5.3 Reviewing Categorical Features"
   ]
  },
  {
   "cell_type": "markdown",
   "metadata": {},
   "source": [
    "### 5.3.1 Reviewing Categorical Features with Missing Values "
   ]
  },
  {
   "cell_type": "code",
   "execution_count": 529,
   "metadata": {},
   "outputs": [],
   "source": [
    "#Features with missing values\n",
    "mssgCols = rentals.columns[rentals.isna().any()]"
   ]
  },
  {
   "cell_type": "code",
   "execution_count": 530,
   "metadata": {},
   "outputs": [],
   "source": [
    "#Categorical features with missing values\n",
    "mssgCat = rentals[mssgCols].select_dtypes('object')"
   ]
  },
  {
   "cell_type": "code",
   "execution_count": 531,
   "metadata": {
    "scrolled": true
   },
   "outputs": [
    {
     "data": {
      "text/html": [
       "<div>\n",
       "<style scoped>\n",
       "    .dataframe tbody tr th:only-of-type {\n",
       "        vertical-align: middle;\n",
       "    }\n",
       "\n",
       "    .dataframe tbody tr th {\n",
       "        vertical-align: top;\n",
       "    }\n",
       "\n",
       "    .dataframe thead th {\n",
       "        text-align: right;\n",
       "    }\n",
       "</style>\n",
       "<table border=\"1\" class=\"dataframe\">\n",
       "  <thead>\n",
       "    <tr style=\"text-align: right;\">\n",
       "      <th></th>\n",
       "      <th>heatingType</th>\n",
       "      <th>telekomTvOffer</th>\n",
       "      <th>firingTypes</th>\n",
       "      <th>houseNumber</th>\n",
       "      <th>condition</th>\n",
       "      <th>streetPlain</th>\n",
       "      <th>typeOfFlat</th>\n",
       "      <th>description</th>\n",
       "      <th>facilities</th>\n",
       "    </tr>\n",
       "  </thead>\n",
       "  <tbody>\n",
       "    <tr>\n",
       "      <th>0</th>\n",
       "      <td>central_heating</td>\n",
       "      <td>ONE_YEAR_FREE</td>\n",
       "      <td>oil</td>\n",
       "      <td>244</td>\n",
       "      <td>well_kept</td>\n",
       "      <td>Schüruferstraße</td>\n",
       "      <td>ground_floor</td>\n",
       "      <td>Die ebenerdig zu erreichende Erdgeschosswohnun...</td>\n",
       "      <td>Die Wohnung ist mit Laminat ausgelegt. Das Bad...</td>\n",
       "    </tr>\n",
       "    <tr>\n",
       "      <th>1</th>\n",
       "      <td>self_contained_central_heating</td>\n",
       "      <td>ONE_YEAR_FREE</td>\n",
       "      <td>gas</td>\n",
       "      <td>NaN</td>\n",
       "      <td>refurbished</td>\n",
       "      <td>NaN</td>\n",
       "      <td>ground_floor</td>\n",
       "      <td>Alles neu macht der Mai – so kann es auch für ...</td>\n",
       "      <td>NaN</td>\n",
       "    </tr>\n",
       "  </tbody>\n",
       "</table>\n",
       "</div>"
      ],
      "text/plain": [
       "                      heatingType telekomTvOffer firingTypes houseNumber  \\\n",
       "0                 central_heating  ONE_YEAR_FREE         oil         244   \n",
       "1  self_contained_central_heating  ONE_YEAR_FREE         gas         NaN   \n",
       "\n",
       "     condition      streetPlain    typeOfFlat  \\\n",
       "0    well_kept  Schüruferstraße  ground_floor   \n",
       "1  refurbished              NaN  ground_floor   \n",
       "\n",
       "                                         description  \\\n",
       "0  Die ebenerdig zu erreichende Erdgeschosswohnun...   \n",
       "1  Alles neu macht der Mai – so kann es auch für ...   \n",
       "\n",
       "                                          facilities  \n",
       "0  Die Wohnung ist mit Laminat ausgelegt. Das Bad...  \n",
       "1                                                NaN  "
      ]
     },
     "execution_count": 531,
     "metadata": {},
     "output_type": "execute_result"
    }
   ],
   "source": [
    "mssgCat.head(2)"
   ]
  },
  {
   "cell_type": "code",
   "execution_count": 532,
   "metadata": {},
   "outputs": [
    {
     "data": {
      "text/html": [
       "<div>\n",
       "<style scoped>\n",
       "    .dataframe tbody tr th:only-of-type {\n",
       "        vertical-align: middle;\n",
       "    }\n",
       "\n",
       "    .dataframe tbody tr th {\n",
       "        vertical-align: top;\n",
       "    }\n",
       "\n",
       "    .dataframe thead th {\n",
       "        text-align: right;\n",
       "    }\n",
       "</style>\n",
       "<table border=\"1\" class=\"dataframe\">\n",
       "  <thead>\n",
       "    <tr style=\"text-align: right;\">\n",
       "      <th></th>\n",
       "      <th>heatingType</th>\n",
       "      <th>telekomTvOffer</th>\n",
       "      <th>firingTypes</th>\n",
       "      <th>houseNumber</th>\n",
       "      <th>condition</th>\n",
       "      <th>streetPlain</th>\n",
       "      <th>typeOfFlat</th>\n",
       "      <th>description</th>\n",
       "      <th>facilities</th>\n",
       "    </tr>\n",
       "  </thead>\n",
       "  <tbody>\n",
       "    <tr>\n",
       "      <th>count</th>\n",
       "      <td>223994</td>\n",
       "      <td>236231</td>\n",
       "      <td>211886</td>\n",
       "      <td>197832</td>\n",
       "      <td>200361</td>\n",
       "      <td>197837</td>\n",
       "      <td>232236</td>\n",
       "      <td>249103</td>\n",
       "      <td>215926</td>\n",
       "    </tr>\n",
       "    <tr>\n",
       "      <th>unique</th>\n",
       "      <td>13</td>\n",
       "      <td>3</td>\n",
       "      <td>132</td>\n",
       "      <td>5510</td>\n",
       "      <td>10</td>\n",
       "      <td>54490</td>\n",
       "      <td>10</td>\n",
       "      <td>212621</td>\n",
       "      <td>189526</td>\n",
       "    </tr>\n",
       "    <tr>\n",
       "      <th>top</th>\n",
       "      <td>central_heating</td>\n",
       "      <td>ONE_YEAR_FREE</td>\n",
       "      <td>gas</td>\n",
       "      <td>1</td>\n",
       "      <td>well_kept</td>\n",
       "      <td>Hauptstraße</td>\n",
       "      <td>apartment</td>\n",
       "      <td>+ MEIN GUENTZ - Quartier der Generationen\\r\\n+...</td>\n",
       "      <td>Laminat</td>\n",
       "    </tr>\n",
       "    <tr>\n",
       "      <th>freq</th>\n",
       "      <td>128977</td>\n",
       "      <td>227632</td>\n",
       "      <td>110899</td>\n",
       "      <td>7173</td>\n",
       "      <td>66591</td>\n",
       "      <td>911</td>\n",
       "      <td>131522</td>\n",
       "      <td>216</td>\n",
       "      <td>207</td>\n",
       "    </tr>\n",
       "  </tbody>\n",
       "</table>\n",
       "</div>"
      ],
      "text/plain": [
       "            heatingType telekomTvOffer firingTypes houseNumber  condition  \\\n",
       "count            223994         236231      211886      197832     200361   \n",
       "unique               13              3         132        5510         10   \n",
       "top     central_heating  ONE_YEAR_FREE         gas           1  well_kept   \n",
       "freq             128977         227632      110899        7173      66591   \n",
       "\n",
       "        streetPlain typeOfFlat  \\\n",
       "count        197837     232236   \n",
       "unique        54490         10   \n",
       "top     Hauptstraße  apartment   \n",
       "freq            911     131522   \n",
       "\n",
       "                                              description facilities  \n",
       "count                                              249103     215926  \n",
       "unique                                             212621     189526  \n",
       "top     + MEIN GUENTZ - Quartier der Generationen\\r\\n+...    Laminat  \n",
       "freq                                                  216        207  "
      ]
     },
     "execution_count": 532,
     "metadata": {},
     "output_type": "execute_result"
    }
   ],
   "source": [
    "mssgCat.describe()"
   ]
  },
  {
   "cell_type": "markdown",
   "metadata": {},
   "source": [
    "- First, we notice that firingTypes (132), houseNumber(5510), streetPlain(54490), description (212621) and facilities (189526) have a lot of categories. We can take a closer look at these. "
   ]
  },
  {
   "cell_type": "code",
   "execution_count": 533,
   "metadata": {},
   "outputs": [
    {
     "data": {
      "text/html": [
       "<div>\n",
       "<style scoped>\n",
       "    .dataframe tbody tr th:only-of-type {\n",
       "        vertical-align: middle;\n",
       "    }\n",
       "\n",
       "    .dataframe tbody tr th {\n",
       "        vertical-align: top;\n",
       "    }\n",
       "\n",
       "    .dataframe thead th {\n",
       "        text-align: right;\n",
       "    }\n",
       "</style>\n",
       "<table border=\"1\" class=\"dataframe\">\n",
       "  <thead>\n",
       "    <tr style=\"text-align: right;\">\n",
       "      <th></th>\n",
       "      <th>firingTypes</th>\n",
       "      <th>houseNumber</th>\n",
       "      <th>streetPlain</th>\n",
       "      <th>description</th>\n",
       "      <th>facilities</th>\n",
       "    </tr>\n",
       "  </thead>\n",
       "  <tbody>\n",
       "    <tr>\n",
       "      <th>76069</th>\n",
       "      <td>NaN</td>\n",
       "      <td>NaN</td>\n",
       "      <td>NaN</td>\n",
       "      <td>Diese ansprechende Dachgeschosswohnung in der ...</td>\n",
       "      <td>NaN</td>\n",
       "    </tr>\n",
       "    <tr>\n",
       "      <th>59865</th>\n",
       "      <td>gas</td>\n",
       "      <td>NaN</td>\n",
       "      <td>NaN</td>\n",
       "      <td>Mitten in der City von Gehrden entsteht der \"G...</td>\n",
       "      <td>Hell und modern zeichnet diese Immobilien aus!...</td>\n",
       "    </tr>\n",
       "    <tr>\n",
       "      <th>170009</th>\n",
       "      <td>gas</td>\n",
       "      <td>4</td>\n",
       "      <td>Astrid-Lindgren-Platz</td>\n",
       "      <td>Das Mehrfamilienhaus wurde im skandinavischen ...</td>\n",
       "      <td>•    Wohnraum 1\\n•    Schlafraum, 1\\n•    Terr...</td>\n",
       "    </tr>\n",
       "    <tr>\n",
       "      <th>49725</th>\n",
       "      <td>gas</td>\n",
       "      <td>42</td>\n",
       "      <td>Brenderweg</td>\n",
       "      <td>Die moderne 3,5 ZKB Wohnung liegt in einem ren...</td>\n",
       "      <td>Moderne Ausstattung.\\n\\nBalkon mit herrlicher ...</td>\n",
       "    </tr>\n",
       "    <tr>\n",
       "      <th>63864</th>\n",
       "      <td>district_heating</td>\n",
       "      <td>16</td>\n",
       "      <td>Leifringhauser_Straße</td>\n",
       "      <td>Die gut geschnittene 2-Zimmer Wohnung befindet...</td>\n",
       "      <td>NaN</td>\n",
       "    </tr>\n",
       "    <tr>\n",
       "      <th>2894</th>\n",
       "      <td>gas</td>\n",
       "      <td>21</td>\n",
       "      <td>Winklerstraße_</td>\n",
       "      <td>Schöne helle Wohnung in kernsaniertem Gründerz...</td>\n",
       "      <td>- moderne Isolierglasfenster\\n- ansprechende B...</td>\n",
       "    </tr>\n",
       "    <tr>\n",
       "      <th>61497</th>\n",
       "      <td>oil</td>\n",
       "      <td>1a</td>\n",
       "      <td>Alte_Straße</td>\n",
       "      <td>Das Objekt wird von sehr angenehmen Mietern be...</td>\n",
       "      <td>Die Wohneinheit verfügt über 3 Zimmer. Die Ges...</td>\n",
       "    </tr>\n",
       "    <tr>\n",
       "      <th>129432</th>\n",
       "      <td>district_heating</td>\n",
       "      <td>103</td>\n",
       "      <td>Lübecker_Straße</td>\n",
       "      <td>Im Wohnbereich befinden sich auf 2 Etagen insg...</td>\n",
       "      <td>Ihr neues Apartment ist in einem sehr guten Zu...</td>\n",
       "    </tr>\n",
       "    <tr>\n",
       "      <th>114277</th>\n",
       "      <td>gas</td>\n",
       "      <td>157</td>\n",
       "      <td>Eichenstraße</td>\n",
       "      <td>Das Objekt auf der Eichenstraße besteht aus 8 ...</td>\n",
       "      <td>Die 2-Zimmer-Wohnung verfügt über einen großen...</td>\n",
       "    </tr>\n",
       "    <tr>\n",
       "      <th>132334</th>\n",
       "      <td>gas</td>\n",
       "      <td>NaN</td>\n",
       "      <td>NaN</td>\n",
       "      <td>Vermiete ab sofort sonnige Dachwohnung in Thum.</td>\n",
       "      <td>Die Wohnung hat nachfolgende Ausstattung:\\n\\nW...</td>\n",
       "    </tr>\n",
       "    <tr>\n",
       "      <th>59792</th>\n",
       "      <td>district_heating</td>\n",
       "      <td>92</td>\n",
       "      <td>Winterbergstraße</td>\n",
       "      <td>Diese ca. 45 m² große 2-Raum-Wohnung lädt Sie ...</td>\n",
       "      <td>•    Stadtnahes Wohnen mit Balkonblick ins Grü...</td>\n",
       "    </tr>\n",
       "    <tr>\n",
       "      <th>86655</th>\n",
       "      <td>district_heating</td>\n",
       "      <td>4</td>\n",
       "      <td>Lessingstr.</td>\n",
       "      <td>Das 5-stöckige Wohnhaus wurde 1989 erbaut - In...</td>\n",
       "      <td>Die 2-Zimmer-Wohnung verteilt sich auf gut 48,...</td>\n",
       "    </tr>\n",
       "    <tr>\n",
       "      <th>256165</th>\n",
       "      <td>NaN</td>\n",
       "      <td>11</td>\n",
       "      <td>Kleiststr.</td>\n",
       "      <td>NaN</td>\n",
       "      <td>Helles Zimmer, Fußbodenbelag, Kabel- und Inter...</td>\n",
       "    </tr>\n",
       "    <tr>\n",
       "      <th>122323</th>\n",
       "      <td>gas</td>\n",
       "      <td>1b</td>\n",
       "      <td>Tarmstedter_Straße</td>\n",
       "      <td>Die Wohnung erstreckt sich über zwei Etagen. I...</td>\n",
       "      <td>NaN</td>\n",
       "    </tr>\n",
       "    <tr>\n",
       "      <th>33651</th>\n",
       "      <td>district_heating</td>\n",
       "      <td>NaN</td>\n",
       "      <td>NaN</td>\n",
       "      <td>+++++++\\rDieses Objekt kann nur möbliert angem...</td>\n",
       "      <td>Einbauküche, Fußbodenheizung, Einzelbett, Terr...</td>\n",
       "    </tr>\n",
       "    <tr>\n",
       "      <th>47206</th>\n",
       "      <td>gas</td>\n",
       "      <td>15</td>\n",
       "      <td>Kurzestr.</td>\n",
       "      <td>Neu ausgebaute Dachstudiowohnung mit ca. 70 m²...</td>\n",
       "      <td>- weiße Innentüren\\n- Wand- und Deckenflächen ...</td>\n",
       "    </tr>\n",
       "    <tr>\n",
       "      <th>39199</th>\n",
       "      <td>natural_gas_light</td>\n",
       "      <td>3b</td>\n",
       "      <td>Reinserturmweg</td>\n",
       "      <td>Die Wohnung befindet sich im Erdgeschoss recht...</td>\n",
       "      <td>2 Zimmer, Bad/WC, Balkon, Keller</td>\n",
       "    </tr>\n",
       "    <tr>\n",
       "      <th>236946</th>\n",
       "      <td>gas</td>\n",
       "      <td>1</td>\n",
       "      <td>Petershagener_Straße</td>\n",
       "      <td>Das Wohnhaus liegt in Hohenselchow, ein Geschä...</td>\n",
       "      <td>NaN</td>\n",
       "    </tr>\n",
       "    <tr>\n",
       "      <th>219421</th>\n",
       "      <td>NaN</td>\n",
       "      <td>NaN</td>\n",
       "      <td>NaN</td>\n",
       "      <td>NaN</td>\n",
       "      <td>Bezug ab 1.12.2019\\n\\nDie Wohnung ist in Stadt...</td>\n",
       "    </tr>\n",
       "    <tr>\n",
       "      <th>261799</th>\n",
       "      <td>NaN</td>\n",
       "      <td>41</td>\n",
       "      <td>Kettenstr.</td>\n",
       "      <td>Diese freundliche, gepflegte Dachgeschosswohnu...</td>\n",
       "      <td>NaN</td>\n",
       "    </tr>\n",
       "  </tbody>\n",
       "</table>\n",
       "</div>"
      ],
      "text/plain": [
       "              firingTypes houseNumber            streetPlain  \\\n",
       "76069                 NaN         NaN                    NaN   \n",
       "59865                 gas         NaN                    NaN   \n",
       "170009                gas           4  Astrid-Lindgren-Platz   \n",
       "49725                 gas          42             Brenderweg   \n",
       "63864    district_heating          16  Leifringhauser_Straße   \n",
       "2894                  gas          21         Winklerstraße_   \n",
       "61497                 oil          1a            Alte_Straße   \n",
       "129432   district_heating         103        Lübecker_Straße   \n",
       "114277                gas         157           Eichenstraße   \n",
       "132334                gas         NaN                    NaN   \n",
       "59792    district_heating          92       Winterbergstraße   \n",
       "86655    district_heating           4            Lessingstr.   \n",
       "256165                NaN          11             Kleiststr.   \n",
       "122323                gas          1b     Tarmstedter_Straße   \n",
       "33651    district_heating         NaN                    NaN   \n",
       "47206                 gas          15              Kurzestr.   \n",
       "39199   natural_gas_light          3b         Reinserturmweg   \n",
       "236946                gas           1   Petershagener_Straße   \n",
       "219421                NaN         NaN                    NaN   \n",
       "261799                NaN          41             Kettenstr.   \n",
       "\n",
       "                                              description  \\\n",
       "76069   Diese ansprechende Dachgeschosswohnung in der ...   \n",
       "59865   Mitten in der City von Gehrden entsteht der \"G...   \n",
       "170009  Das Mehrfamilienhaus wurde im skandinavischen ...   \n",
       "49725   Die moderne 3,5 ZKB Wohnung liegt in einem ren...   \n",
       "63864   Die gut geschnittene 2-Zimmer Wohnung befindet...   \n",
       "2894    Schöne helle Wohnung in kernsaniertem Gründerz...   \n",
       "61497   Das Objekt wird von sehr angenehmen Mietern be...   \n",
       "129432  Im Wohnbereich befinden sich auf 2 Etagen insg...   \n",
       "114277  Das Objekt auf der Eichenstraße besteht aus 8 ...   \n",
       "132334    Vermiete ab sofort sonnige Dachwohnung in Thum.   \n",
       "59792   Diese ca. 45 m² große 2-Raum-Wohnung lädt Sie ...   \n",
       "86655   Das 5-stöckige Wohnhaus wurde 1989 erbaut - In...   \n",
       "256165                                                NaN   \n",
       "122323  Die Wohnung erstreckt sich über zwei Etagen. I...   \n",
       "33651   +++++++\\rDieses Objekt kann nur möbliert angem...   \n",
       "47206   Neu ausgebaute Dachstudiowohnung mit ca. 70 m²...   \n",
       "39199   Die Wohnung befindet sich im Erdgeschoss recht...   \n",
       "236946  Das Wohnhaus liegt in Hohenselchow, ein Geschä...   \n",
       "219421                                                NaN   \n",
       "261799  Diese freundliche, gepflegte Dachgeschosswohnu...   \n",
       "\n",
       "                                               facilities  \n",
       "76069                                                 NaN  \n",
       "59865   Hell und modern zeichnet diese Immobilien aus!...  \n",
       "170009  •    Wohnraum 1\\n•    Schlafraum, 1\\n•    Terr...  \n",
       "49725   Moderne Ausstattung.\\n\\nBalkon mit herrlicher ...  \n",
       "63864                                                 NaN  \n",
       "2894    - moderne Isolierglasfenster\\n- ansprechende B...  \n",
       "61497   Die Wohneinheit verfügt über 3 Zimmer. Die Ges...  \n",
       "129432  Ihr neues Apartment ist in einem sehr guten Zu...  \n",
       "114277  Die 2-Zimmer-Wohnung verfügt über einen großen...  \n",
       "132334  Die Wohnung hat nachfolgende Ausstattung:\\n\\nW...  \n",
       "59792   •    Stadtnahes Wohnen mit Balkonblick ins Grü...  \n",
       "86655   Die 2-Zimmer-Wohnung verteilt sich auf gut 48,...  \n",
       "256165  Helles Zimmer, Fußbodenbelag, Kabel- und Inter...  \n",
       "122323                                                NaN  \n",
       "33651   Einbauküche, Fußbodenheizung, Einzelbett, Terr...  \n",
       "47206   - weiße Innentüren\\n- Wand- und Deckenflächen ...  \n",
       "39199                    2 Zimmer, Bad/WC, Balkon, Keller  \n",
       "236946                                                NaN  \n",
       "219421  Bezug ab 1.12.2019\\n\\nDie Wohnung ist in Stadt...  \n",
       "261799                                                NaN  "
      ]
     },
     "execution_count": 533,
     "metadata": {},
     "output_type": "execute_result"
    }
   ],
   "source": [
    "mssgCat[['firingTypes','houseNumber', 'streetPlain','description','facilities']].sample(20)"
   ]
  },
  {
   "cell_type": "markdown",
   "metadata": {},
   "source": [
    "- houseNumber is the unit number of apartment, streetPlain is the street name, description describes the apartment, and facilities outline the features of the apartment. They are unlikely to make good categories for further analysis. Furthermore, the quantities are large. We will drop these. \n",
    "- firingTypes gives us a sense of the kind of fuel used in the apartment. heatingType gives us a similar indication of how the apartment is powered. We will drop this feature as well. "
   ]
  },
  {
   "cell_type": "code",
   "execution_count": 534,
   "metadata": {},
   "outputs": [],
   "source": [
    "#Drop houseNumber, streetPlain, description, facilities, firingTypes\n",
    "mssgCat.drop(columns = ['houseNumber','streetPlain','description','facilities','firingTypes'], axis = 1, inplace = True)"
   ]
  },
  {
   "cell_type": "code",
   "execution_count": 535,
   "metadata": {
    "scrolled": true
   },
   "outputs": [
    {
     "data": {
      "text/html": [
       "<div>\n",
       "<style scoped>\n",
       "    .dataframe tbody tr th:only-of-type {\n",
       "        vertical-align: middle;\n",
       "    }\n",
       "\n",
       "    .dataframe tbody tr th {\n",
       "        vertical-align: top;\n",
       "    }\n",
       "\n",
       "    .dataframe thead th {\n",
       "        text-align: right;\n",
       "    }\n",
       "</style>\n",
       "<table border=\"1\" class=\"dataframe\">\n",
       "  <thead>\n",
       "    <tr style=\"text-align: right;\">\n",
       "      <th></th>\n",
       "      <th>heatingType</th>\n",
       "      <th>telekomTvOffer</th>\n",
       "      <th>condition</th>\n",
       "      <th>typeOfFlat</th>\n",
       "    </tr>\n",
       "  </thead>\n",
       "  <tbody>\n",
       "    <tr>\n",
       "      <th>count</th>\n",
       "      <td>223994</td>\n",
       "      <td>236231</td>\n",
       "      <td>200361</td>\n",
       "      <td>232236</td>\n",
       "    </tr>\n",
       "    <tr>\n",
       "      <th>unique</th>\n",
       "      <td>13</td>\n",
       "      <td>3</td>\n",
       "      <td>10</td>\n",
       "      <td>10</td>\n",
       "    </tr>\n",
       "    <tr>\n",
       "      <th>top</th>\n",
       "      <td>central_heating</td>\n",
       "      <td>ONE_YEAR_FREE</td>\n",
       "      <td>well_kept</td>\n",
       "      <td>apartment</td>\n",
       "    </tr>\n",
       "    <tr>\n",
       "      <th>freq</th>\n",
       "      <td>128977</td>\n",
       "      <td>227632</td>\n",
       "      <td>66591</td>\n",
       "      <td>131522</td>\n",
       "    </tr>\n",
       "  </tbody>\n",
       "</table>\n",
       "</div>"
      ],
      "text/plain": [
       "            heatingType telekomTvOffer  condition typeOfFlat\n",
       "count            223994         236231     200361     232236\n",
       "unique               13              3         10         10\n",
       "top     central_heating  ONE_YEAR_FREE  well_kept  apartment\n",
       "freq             128977         227632      66591     131522"
      ]
     },
     "execution_count": 535,
     "metadata": {},
     "output_type": "execute_result"
    }
   ],
   "source": [
    "mssgCat.describe()"
   ]
  },
  {
   "cell_type": "markdown",
   "metadata": {},
   "source": [
    "- To determine the most common category as a percentage of the total numbers of values. If this percentage is above 80% we may consider filling the missing values of the feature with this information "
   ]
  },
  {
   "cell_type": "code",
   "execution_count": 536,
   "metadata": {},
   "outputs": [],
   "source": [
    "def top_cat_perc(df,var):\n",
    "    '''Takes a categorical dataframe and variable name to calculate the percentage of the most common category \n",
    "    for the variable'''\n",
    "    total = 0\n",
    "    col_dict = defaultdict(int)\n",
    "    for k,v in df[var].value_counts().items():\n",
    "        col_dict[k] = v\n",
    "        total += v\n",
    "    newdf = (pd.DataFrame(col_dict, index = ['%count']) * 100/total)\n",
    "    return [newdf.columns[0],newdf.iloc[0,0]]   \n"
   ]
  },
  {
   "cell_type": "code",
   "execution_count": 537,
   "metadata": {},
   "outputs": [],
   "source": [
    "def freq_table(cat_df):\n",
    "    '''Takes a categorical dataframe and returns a dataframe showing  the top category for each variable and its percentage\n",
    "    frequency'''\n",
    "    portion = defaultdict(list)\n",
    "    for element in cat_df.columns:\n",
    "        portion[element] = top_cat_perc(cat_df, element)\n",
    "    portiondf = pd.DataFrame(portion, index = ['topCat','%Freq'])\n",
    "    return portiondf.T"
   ]
  },
  {
   "cell_type": "code",
   "execution_count": 538,
   "metadata": {},
   "outputs": [
    {
     "data": {
      "text/html": [
       "<div>\n",
       "<style scoped>\n",
       "    .dataframe tbody tr th:only-of-type {\n",
       "        vertical-align: middle;\n",
       "    }\n",
       "\n",
       "    .dataframe tbody tr th {\n",
       "        vertical-align: top;\n",
       "    }\n",
       "\n",
       "    .dataframe thead th {\n",
       "        text-align: right;\n",
       "    }\n",
       "</style>\n",
       "<table border=\"1\" class=\"dataframe\">\n",
       "  <thead>\n",
       "    <tr style=\"text-align: right;\">\n",
       "      <th></th>\n",
       "      <th>topCat</th>\n",
       "      <th>%Freq</th>\n",
       "    </tr>\n",
       "  </thead>\n",
       "  <tbody>\n",
       "    <tr>\n",
       "      <th>heatingType</th>\n",
       "      <td>central_heating</td>\n",
       "      <td>57.5806</td>\n",
       "    </tr>\n",
       "    <tr>\n",
       "      <th>telekomTvOffer</th>\n",
       "      <td>ONE_YEAR_FREE</td>\n",
       "      <td>96.3599</td>\n",
       "    </tr>\n",
       "    <tr>\n",
       "      <th>condition</th>\n",
       "      <td>well_kept</td>\n",
       "      <td>33.2355</td>\n",
       "    </tr>\n",
       "    <tr>\n",
       "      <th>typeOfFlat</th>\n",
       "      <td>apartment</td>\n",
       "      <td>56.6329</td>\n",
       "    </tr>\n",
       "  </tbody>\n",
       "</table>\n",
       "</div>"
      ],
      "text/plain": [
       "                         topCat    %Freq\n",
       "heatingType     central_heating  57.5806\n",
       "telekomTvOffer    ONE_YEAR_FREE  96.3599\n",
       "condition             well_kept  33.2355\n",
       "typeOfFlat            apartment  56.6329"
      ]
     },
     "execution_count": 538,
     "metadata": {},
     "output_type": "execute_result"
    }
   ],
   "source": [
    "freq_table(mssgCat)"
   ]
  },
  {
   "cell_type": "markdown",
   "metadata": {},
   "source": [
    "- We notice that telekomTvOffer has ONE_YEAR_FREE in 96% of the cases. We can probably use this for our missing values. But we should take a closer look at the categories of these features. "
   ]
  },
  {
   "cell_type": "markdown",
   "metadata": {},
   "source": [
    "- 'telekomTvOffer': Tells us if tv is included with rent. Previously determined that top category is ONE_YEAR_FREE at 96% and that 25% of its values missing. May consider replacing nan values with ONE_YEAR_FREE."
   ]
  },
  {
   "cell_type": "code",
   "execution_count": 539,
   "metadata": {},
   "outputs": [
    {
     "data": {
      "text/plain": [
       "ONE_YEAR_FREE    227632\n",
       "NaN               32619\n",
       "NONE               4957\n",
       "ON_DEMAND          3642\n",
       "Name: telekomTvOffer, dtype: int64"
      ]
     },
     "execution_count": 539,
     "metadata": {},
     "output_type": "execute_result"
    }
   ],
   "source": [
    "#Determine counts of telekomTvOffer categories\n",
    "rentals.telekomTvOffer.value_counts(dropna = False)"
   ]
  },
  {
   "cell_type": "markdown",
   "metadata": {},
   "source": [
    "- Even though telekomTvOffer has ONE_YEAR_FREE as its prominent category at over 96%, we recognize that this is an incentive. Incentives are typically advertized, so it is very likely that if a tv offer is not provided it is not available. We cannot input this feature. We also note that this feature has low variability, so is likely to add limited value to analysis. We will leave feature for now as-is."
   ]
  },
  {
   "cell_type": "markdown",
   "metadata": {},
   "source": [
    "- 'condition': Indicates appearance of apartment. Previously determined top category as 'well_kept' at 33% and over 25% of its values are missing."
   ]
  },
  {
   "cell_type": "code",
   "execution_count": 540,
   "metadata": {
    "scrolled": true
   },
   "outputs": [
    {
     "data": {
      "text/plain": [
       "NaN                                   68489\n",
       "well_kept                             66591\n",
       "refurbished                           26964\n",
       "fully_renovated                       26368\n",
       "first_time_use                        21959\n",
       "mint_condition                        21938\n",
       "modernized                            17226\n",
       "first_time_use_after_refurbishment    15699\n",
       "negotiable                             2240\n",
       "need_of_renovation                     1372\n",
       "ripe_for_demolition                       4\n",
       "Name: condition, dtype: int64"
      ]
     },
     "execution_count": 540,
     "metadata": {},
     "output_type": "execute_result"
    }
   ],
   "source": [
    "#Review counts of condition categories\n",
    "rentals.condition.value_counts(dropna = False)"
   ]
  },
  {
   "cell_type": "markdown",
   "metadata": {},
   "source": [
    "- It is unlikely that we can fill missing values for 'condition' because it could be any of the 10 categories, however, we can delete those records with values corresponding to 'need_of_renovation' and 'ripe_for_demolition' because we are only interested in liveable apartments."
   ]
  },
  {
   "cell_type": "code",
   "execution_count": 541,
   "metadata": {},
   "outputs": [],
   "source": [
    "#Select rows with a condition of need_of_renovation and ripe_for_demolition\n",
    "bad_units = (rentals.condition == 'need_of_renovation') | (rentals.condition == 'ripe_for_demolition')"
   ]
  },
  {
   "cell_type": "code",
   "execution_count": 542,
   "metadata": {},
   "outputs": [],
   "source": [
    "#Select only rows of dataframe with livable units\n",
    "rentals = rentals[~bad_units]"
   ]
  },
  {
   "cell_type": "code",
   "execution_count": 543,
   "metadata": {
    "scrolled": true
   },
   "outputs": [
    {
     "data": {
      "text/plain": [
       "NaN                                   68489\n",
       "well_kept                             66591\n",
       "refurbished                           26964\n",
       "fully_renovated                       26368\n",
       "first_time_use                        21959\n",
       "mint_condition                        21938\n",
       "modernized                            17226\n",
       "first_time_use_after_refurbishment    15699\n",
       "negotiable                             2240\n",
       "Name: condition, dtype: int64"
      ]
     },
     "execution_count": 543,
     "metadata": {},
     "output_type": "execute_result"
    }
   ],
   "source": [
    "#Verify there are no records with unlivable units\n",
    "rentals.condition.value_counts(dropna = False)"
   ]
  },
  {
   "cell_type": "markdown",
   "metadata": {},
   "source": [
    "- 'heatingType': Indicates how the apartment is heated. Previously determined top category as 'central_heating' at 58% and 17% of its values are missing. "
   ]
  },
  {
   "cell_type": "code",
   "execution_count": 544,
   "metadata": {},
   "outputs": [
    {
     "data": {
      "text/plain": [
       "central_heating                   128333\n",
       "NaN                                44694\n",
       "district_heating                   24655\n",
       "gas_heating                        19837\n",
       "self_contained_central_heating     18906\n",
       "floor_heating                      17691\n",
       "oil_heating                         4992\n",
       "heat_pump                           2737\n",
       "combined_heat_and_power_plant       1977\n",
       "night_storage_heater                1306\n",
       "wood_pellet_heating                  961\n",
       "electric_heating                     895\n",
       "stove_heating                        324\n",
       "solar_heating                        166\n",
       "Name: heatingType, dtype: int64"
      ]
     },
     "execution_count": 544,
     "metadata": {},
     "output_type": "execute_result"
    }
   ],
   "source": [
    "#Review count of heatingType categories\n",
    "rentals.heatingType.value_counts(dropna = False)"
   ]
  },
  {
   "cell_type": "markdown",
   "metadata": {},
   "source": [
    "- Unlikely to fill missing values right now because they could fall under any of the 13 categories. Will leave as-is."
   ]
  },
  {
   "cell_type": "markdown",
   "metadata": {},
   "source": [
    "- 'typeOfFlat': Indicates the style of apartment. Previously determined top category as 'apartment' at 57% and about 13% of its values are missing."
   ]
  },
  {
   "cell_type": "code",
   "execution_count": 545,
   "metadata": {},
   "outputs": [
    {
     "data": {
      "text/plain": [
       "apartment              130695\n",
       "NaN                     36511\n",
       "roof_storey             34618\n",
       "ground_floor            31358\n",
       "other                    9486\n",
       "maisonette               9297\n",
       "raised_ground_floor      5610\n",
       "penthouse                3567\n",
       "terraced_flat            3374\n",
       "half_basement            2005\n",
       "loft                      953\n",
       "Name: typeOfFlat, dtype: int64"
      ]
     },
     "execution_count": 545,
     "metadata": {},
     "output_type": "execute_result"
    }
   ],
   "source": [
    "#Review counts of typeOfFlat categories\n",
    "rentals.typeOfFlat.value_counts(dropna = False)"
   ]
  },
  {
   "cell_type": "markdown",
   "metadata": {},
   "source": [
    "-  There is no discernable trend associated with these categories. We will leave this features as-is for now."
   ]
  },
  {
   "cell_type": "code",
   "execution_count": 546,
   "metadata": {},
   "outputs": [],
   "source": [
    "#Drop identified features from rentals\n",
    "rentals.drop(columns = ['houseNumber','streetPlain','description','facilities','firingTypes'], axis = 1, inplace = True)\n"
   ]
  },
  {
   "cell_type": "code",
   "execution_count": 547,
   "metadata": {
    "scrolled": true
   },
   "outputs": [
    {
     "data": {
      "text/html": [
       "<div>\n",
       "<style scoped>\n",
       "    .dataframe tbody tr th:only-of-type {\n",
       "        vertical-align: middle;\n",
       "    }\n",
       "\n",
       "    .dataframe tbody tr th {\n",
       "        vertical-align: top;\n",
       "    }\n",
       "\n",
       "    .dataframe thead th {\n",
       "        text-align: right;\n",
       "    }\n",
       "</style>\n",
       "<table border=\"1\" class=\"dataframe\">\n",
       "  <thead>\n",
       "    <tr style=\"text-align: right;\">\n",
       "      <th></th>\n",
       "      <th>regio1</th>\n",
       "      <th>heatingType</th>\n",
       "      <th>telekomTvOffer</th>\n",
       "      <th>geo_bln</th>\n",
       "      <th>geo_krs</th>\n",
       "      <th>condition</th>\n",
       "      <th>street</th>\n",
       "      <th>typeOfFlat</th>\n",
       "      <th>regio2</th>\n",
       "      <th>regio3</th>\n",
       "      <th>date</th>\n",
       "    </tr>\n",
       "  </thead>\n",
       "  <tbody>\n",
       "    <tr>\n",
       "      <th>0</th>\n",
       "      <td>Nordrhein_Westfalen</td>\n",
       "      <td>central_heating</td>\n",
       "      <td>ONE_YEAR_FREE</td>\n",
       "      <td>Nordrhein_Westfalen</td>\n",
       "      <td>Dortmund</td>\n",
       "      <td>well_kept</td>\n",
       "      <td>Sch&amp;uuml;ruferstra&amp;szlig;e</td>\n",
       "      <td>ground_floor</td>\n",
       "      <td>Dortmund</td>\n",
       "      <td>Schüren</td>\n",
       "      <td>May19</td>\n",
       "    </tr>\n",
       "    <tr>\n",
       "      <th>1</th>\n",
       "      <td>Rheinland_Pfalz</td>\n",
       "      <td>self_contained_central_heating</td>\n",
       "      <td>ONE_YEAR_FREE</td>\n",
       "      <td>Rheinland_Pfalz</td>\n",
       "      <td>Rhein_Pfalz_Kreis</td>\n",
       "      <td>refurbished</td>\n",
       "      <td>no_information</td>\n",
       "      <td>ground_floor</td>\n",
       "      <td>Rhein_Pfalz_Kreis</td>\n",
       "      <td>Böhl_Iggelheim</td>\n",
       "      <td>May19</td>\n",
       "    </tr>\n",
       "  </tbody>\n",
       "</table>\n",
       "</div>"
      ],
      "text/plain": [
       "                regio1                     heatingType telekomTvOffer  \\\n",
       "0  Nordrhein_Westfalen                 central_heating  ONE_YEAR_FREE   \n",
       "1      Rheinland_Pfalz  self_contained_central_heating  ONE_YEAR_FREE   \n",
       "\n",
       "               geo_bln            geo_krs    condition  \\\n",
       "0  Nordrhein_Westfalen           Dortmund    well_kept   \n",
       "1      Rheinland_Pfalz  Rhein_Pfalz_Kreis  refurbished   \n",
       "\n",
       "                       street    typeOfFlat             regio2  \\\n",
       "0  Sch&uuml;ruferstra&szlig;e  ground_floor           Dortmund   \n",
       "1              no_information  ground_floor  Rhein_Pfalz_Kreis   \n",
       "\n",
       "           regio3   date  \n",
       "0         Schüren  May19  \n",
       "1  Böhl_Iggelheim  May19  "
      ]
     },
     "execution_count": 547,
     "metadata": {},
     "output_type": "execute_result"
    }
   ],
   "source": [
    "rentals.select_dtypes('object').head(2)"
   ]
  },
  {
   "cell_type": "markdown",
   "metadata": {},
   "source": [
    "### 5.3.2 Reviewing  Categorical Features with Complete Values"
   ]
  },
  {
   "cell_type": "code",
   "execution_count": 548,
   "metadata": {},
   "outputs": [
    {
     "data": {
      "text/plain": [
       "Index(['regio1', 'heatingType', 'telekomTvOffer', 'geo_bln', 'geo_krs',\n",
       "       'condition', 'street', 'typeOfFlat', 'regio2', 'regio3', 'date'],\n",
       "      dtype='object')"
      ]
     },
     "execution_count": 548,
     "metadata": {},
     "output_type": "execute_result"
    }
   ],
   "source": [
    "#Show all categorical columns\n",
    "rentals.select_dtypes('object').columns"
   ]
  },
  {
   "cell_type": "markdown",
   "metadata": {},
   "source": [
    "- 'regio1' refers to the states in Germany"
   ]
  },
  {
   "cell_type": "code",
   "execution_count": 549,
   "metadata": {
    "scrolled": true
   },
   "outputs": [
    {
     "data": {
      "text/plain": [
       "16"
      ]
     },
     "execution_count": 549,
     "metadata": {},
     "output_type": "execute_result"
    }
   ],
   "source": [
    "#Review number of categories and count of values in each category for regio1\n",
    "rentals.regio1.nunique()"
   ]
  },
  {
   "cell_type": "code",
   "execution_count": 550,
   "metadata": {},
   "outputs": [
    {
     "data": {
      "text/plain": [
       "Nordrhein_Westfalen       62244\n",
       "Sachsen                   58013\n",
       "Bayern                    21584\n",
       "Sachsen_Anhalt            20005\n",
       "Hessen                    17802\n",
       "Niedersachsen             16489\n",
       "Baden_Württemberg         16044\n",
       "Berlin                    10334\n",
       "Rheinland_Pfalz            8351\n",
       "Thüringen                  8332\n",
       "Brandenburg                6915\n",
       "Schleswig_Holstein         6645\n",
       "Mecklenburg_Vorpommern     6593\n",
       "Hamburg                    3749\n",
       "Bremen                     2949\n",
       "Saarland                   1425\n",
       "Name: regio1, dtype: int64"
      ]
     },
     "execution_count": 550,
     "metadata": {},
     "output_type": "execute_result"
    }
   ],
   "source": [
    "rentals.regio1.value_counts() "
   ]
  },
  {
   "cell_type": "markdown",
   "metadata": {},
   "source": [
    "- We confirm that there are 16 states in Germany. However, we also notice that the regio1 and geo-bln features are similar and the data owner suggested as much. We will verify that these two features are identical."
   ]
  },
  {
   "cell_type": "code",
   "execution_count": 551,
   "metadata": {},
   "outputs": [
    {
     "data": {
      "text/plain": [
       "0"
      ]
     },
     "execution_count": 551,
     "metadata": {},
     "output_type": "execute_result"
    }
   ],
   "source": [
    "#Determine if there are rows where regio1 is not identical to geo_bln \n",
    "(rentals[\"regio1\"] != rentals['geo_bln']).sum() "
   ]
  },
  {
   "cell_type": "markdown",
   "metadata": {},
   "source": [
    "- Noting that regio1 is always identical to geo_bln, we will drop geo_bln"
   ]
  },
  {
   "cell_type": "markdown",
   "metadata": {},
   "source": [
    "- 'regio2' refers to the districts within each state"
   ]
  },
  {
   "cell_type": "code",
   "execution_count": 552,
   "metadata": {},
   "outputs": [
    {
     "data": {
      "text/plain": [
       "419"
      ]
     },
     "execution_count": 552,
     "metadata": {},
     "output_type": "execute_result"
    }
   ],
   "source": [
    "#Review number of categories and count of values in each category for regio2\n",
    "rentals.regio2.nunique()"
   ]
  },
  {
   "cell_type": "code",
   "execution_count": 553,
   "metadata": {
    "scrolled": false
   },
   "outputs": [
    {
     "data": {
      "text/plain": [
       "Leipzig              13703\n",
       "Chemnitz             12559\n",
       "Berlin               10334\n",
       "Dresden               7512\n",
       "Magdeburg             4852\n",
       "Halle_Saale           4543\n",
       "München               4380\n",
       "Essen                 4300\n",
       "Frankfurt_am_Main     4290\n",
       "Hamburg               3749\n",
       "Name: regio2, dtype: int64"
      ]
     },
     "execution_count": 553,
     "metadata": {},
     "output_type": "execute_result"
    }
   ],
   "source": [
    "rentals.regio2.value_counts().head(10)"
   ]
  },
  {
   "cell_type": "markdown",
   "metadata": {},
   "source": [
    "- We confirm that there are 401 administrative districts states in Germany.\n",
    "- This amount of categories suggest high cardinality. Analysis at the district level would be difficult except when performing analysis for the a specific destrict. We will keep this feature for this reason.\n",
    "- We also notice that the regio2 and geo_krs features are similar and the data owner suggested as much. We will verify that these two features are identical."
   ]
  },
  {
   "cell_type": "code",
   "execution_count": 554,
   "metadata": {},
   "outputs": [
    {
     "data": {
      "text/plain": [
       "0"
      ]
     },
     "execution_count": 554,
     "metadata": {},
     "output_type": "execute_result"
    }
   ],
   "source": [
    "#There are no values that are different between regio2 and geo_krs. \n",
    "#We will drop geo_krs\n",
    "(rentals.regio2 != rentals.geo_krs).sum()"
   ]
  },
  {
   "cell_type": "markdown",
   "metadata": {},
   "source": [
    "- 'regio3' refers to the city or town\n"
   ]
  },
  {
   "cell_type": "code",
   "execution_count": 555,
   "metadata": {},
   "outputs": [
    {
     "data": {
      "text/plain": [
       "8668"
      ]
     },
     "execution_count": 555,
     "metadata": {},
     "output_type": "execute_result"
    }
   ],
   "source": [
    "#Review number of categories and count of values in each category for regio3\n",
    "rentals.regio3.nunique()"
   ]
  },
  {
   "cell_type": "code",
   "execution_count": 556,
   "metadata": {},
   "outputs": [
    {
     "data": {
      "text/plain": [
       "Innenstadt    4731\n",
       "Stadtmitte    2686\n",
       "Altstadt      2325\n",
       "Sonnenberg    1909\n",
       "Kaßberg       1709\n",
       "Name: regio3, dtype: int64"
      ]
     },
     "execution_count": 556,
     "metadata": {},
     "output_type": "execute_result"
    }
   ],
   "source": [
    "rentals.regio3.value_counts().head()"
   ]
  },
  {
   "cell_type": "markdown",
   "metadata": {},
   "source": [
    "- There are over 8600 towns in the dataframe suggesting a high amount of cardinality. Analysis at the city level would be difficult except when performing analysis for the a specific city. We will keep this feature for this reason.\n"
   ]
  },
  {
   "cell_type": "markdown",
   "metadata": {},
   "source": []
  },
  {
   "cell_type": "markdown",
   "metadata": {},
   "source": [
    "- 'street' refers to street name of apartment"
   ]
  },
  {
   "cell_type": "code",
   "execution_count": 557,
   "metadata": {},
   "outputs": [
    {
     "data": {
      "text/plain": [
       "52183"
      ]
     },
     "execution_count": 557,
     "metadata": {},
     "output_type": "execute_result"
    }
   ],
   "source": [
    "#Review number of categories and count of values in each category for street\n",
    "rentals.street.nunique()"
   ]
  },
  {
   "cell_type": "code",
   "execution_count": 558,
   "metadata": {},
   "outputs": [
    {
     "data": {
      "text/plain": [
       "no_information            70773\n",
       "Hauptstra&szlig;e           930\n",
       "Bahnhofstra&szlig;e         847\n",
       "Leipziger Stra&szlig;e      436\n",
       "Goethestra&szlig;e          414\n",
       "Name: street, dtype: int64"
      ]
     },
     "execution_count": 558,
     "metadata": {},
     "output_type": "execute_result"
    }
   ],
   "source": [
    "rentals.street.value_counts().head()"
   ]
  },
  {
   "cell_type": "markdown",
   "metadata": {},
   "source": [
    "- 'street' has many categories that would be difficult to include in a model. Moreover the many street names are not provided (70,773). We will drop this feature. "
   ]
  },
  {
   "cell_type": "markdown",
   "metadata": {},
   "source": [
    "- 'date' refers to the month and year portions of data were extracted from the immoscout website, as suggested by the data owner."
   ]
  },
  {
   "cell_type": "code",
   "execution_count": 559,
   "metadata": {},
   "outputs": [
    {
     "data": {
      "text/plain": [
       "4"
      ]
     },
     "execution_count": 559,
     "metadata": {},
     "output_type": "execute_result"
    }
   ],
   "source": [
    "#Review number of categories and count of values in each category for date\n",
    "rentals.date.nunique()"
   ]
  },
  {
   "cell_type": "code",
   "execution_count": 560,
   "metadata": {},
   "outputs": [
    {
     "data": {
      "text/plain": [
       "Feb20    78913\n",
       "May19    75660\n",
       "Oct19    66344\n",
       "Sep18    46557\n",
       "Name: date, dtype: int64"
      ]
     },
     "execution_count": 560,
     "metadata": {},
     "output_type": "execute_result"
    }
   ],
   "source": [
    "rentals.date.value_counts()"
   ]
  },
  {
   "cell_type": "markdown",
   "metadata": {},
   "source": [
    "- Data was extracted on four days between 2018 and 2020.\n",
    "- We will convert these dates to a datetime format"
   ]
  },
  {
   "cell_type": "code",
   "execution_count": 561,
   "metadata": {},
   "outputs": [],
   "source": [
    "#Convert values of date feature to datetime format\n",
    "rentals.date = pd.to_datetime(rentals.date, format = '%b%y')"
   ]
  },
  {
   "cell_type": "code",
   "execution_count": 562,
   "metadata": {
    "scrolled": true
   },
   "outputs": [
    {
     "data": {
      "text/html": [
       "<div>\n",
       "<style scoped>\n",
       "    .dataframe tbody tr th:only-of-type {\n",
       "        vertical-align: middle;\n",
       "    }\n",
       "\n",
       "    .dataframe tbody tr th {\n",
       "        vertical-align: top;\n",
       "    }\n",
       "\n",
       "    .dataframe thead th {\n",
       "        text-align: right;\n",
       "    }\n",
       "</style>\n",
       "<table border=\"1\" class=\"dataframe\">\n",
       "  <thead>\n",
       "    <tr style=\"text-align: right;\">\n",
       "      <th></th>\n",
       "      <th>date</th>\n",
       "    </tr>\n",
       "  </thead>\n",
       "  <tbody>\n",
       "    <tr>\n",
       "      <th>0</th>\n",
       "      <td>2019-05-01</td>\n",
       "    </tr>\n",
       "    <tr>\n",
       "      <th>1</th>\n",
       "      <td>2019-05-01</td>\n",
       "    </tr>\n",
       "    <tr>\n",
       "      <th>2</th>\n",
       "      <td>2019-10-01</td>\n",
       "    </tr>\n",
       "  </tbody>\n",
       "</table>\n",
       "</div>"
      ],
      "text/plain": [
       "        date\n",
       "0 2019-05-01\n",
       "1 2019-05-01\n",
       "2 2019-10-01"
      ]
     },
     "execution_count": 562,
     "metadata": {},
     "output_type": "execute_result"
    }
   ],
   "source": [
    "#Verify datetime conversion\n",
    "rentals.select_dtypes(include=[np.datetime64]).head(3)"
   ]
  },
  {
   "cell_type": "code",
   "execution_count": 563,
   "metadata": {},
   "outputs": [],
   "source": [
    "#Drop identified columns\n",
    "rentals.drop(columns = ['geo_bln','geo_krs','street'], inplace = True)"
   ]
  },
  {
   "cell_type": "code",
   "execution_count": 564,
   "metadata": {},
   "outputs": [
    {
     "data": {
      "text/html": [
       "<div>\n",
       "<style scoped>\n",
       "    .dataframe tbody tr th:only-of-type {\n",
       "        vertical-align: middle;\n",
       "    }\n",
       "\n",
       "    .dataframe tbody tr th {\n",
       "        vertical-align: top;\n",
       "    }\n",
       "\n",
       "    .dataframe thead th {\n",
       "        text-align: right;\n",
       "    }\n",
       "</style>\n",
       "<table border=\"1\" class=\"dataframe\">\n",
       "  <thead>\n",
       "    <tr style=\"text-align: right;\">\n",
       "      <th></th>\n",
       "      <th>regio1</th>\n",
       "      <th>heatingType</th>\n",
       "      <th>telekomTvOffer</th>\n",
       "      <th>condition</th>\n",
       "      <th>typeOfFlat</th>\n",
       "      <th>regio2</th>\n",
       "      <th>regio3</th>\n",
       "    </tr>\n",
       "  </thead>\n",
       "  <tbody>\n",
       "    <tr>\n",
       "      <th>0</th>\n",
       "      <td>Nordrhein_Westfalen</td>\n",
       "      <td>central_heating</td>\n",
       "      <td>ONE_YEAR_FREE</td>\n",
       "      <td>well_kept</td>\n",
       "      <td>ground_floor</td>\n",
       "      <td>Dortmund</td>\n",
       "      <td>Schüren</td>\n",
       "    </tr>\n",
       "    <tr>\n",
       "      <th>1</th>\n",
       "      <td>Rheinland_Pfalz</td>\n",
       "      <td>self_contained_central_heating</td>\n",
       "      <td>ONE_YEAR_FREE</td>\n",
       "      <td>refurbished</td>\n",
       "      <td>ground_floor</td>\n",
       "      <td>Rhein_Pfalz_Kreis</td>\n",
       "      <td>Böhl_Iggelheim</td>\n",
       "    </tr>\n",
       "  </tbody>\n",
       "</table>\n",
       "</div>"
      ],
      "text/plain": [
       "                regio1                     heatingType telekomTvOffer  \\\n",
       "0  Nordrhein_Westfalen                 central_heating  ONE_YEAR_FREE   \n",
       "1      Rheinland_Pfalz  self_contained_central_heating  ONE_YEAR_FREE   \n",
       "\n",
       "     condition    typeOfFlat             regio2          regio3  \n",
       "0    well_kept  ground_floor           Dortmund         Schüren  \n",
       "1  refurbished  ground_floor  Rhein_Pfalz_Kreis  Böhl_Iggelheim  "
      ]
     },
     "execution_count": 564,
     "metadata": {},
     "output_type": "execute_result"
    }
   ],
   "source": [
    "rentals.select_dtypes('object').head(2)"
   ]
  },
  {
   "cell_type": "markdown",
   "metadata": {},
   "source": [
    "## 5.4 Reviewing Numerical Features"
   ]
  },
  {
   "cell_type": "markdown",
   "metadata": {},
   "source": [
    "### 5.4.1 Reviewing Numerical Features with Missing Values"
   ]
  },
  {
   "cell_type": "code",
   "execution_count": 565,
   "metadata": {},
   "outputs": [],
   "source": [
    "#Create dataframe of features with missing data \n",
    "mssgCols = rentals.columns[rentals.isna().any()]"
   ]
  },
  {
   "cell_type": "code",
   "execution_count": 566,
   "metadata": {},
   "outputs": [],
   "source": [
    "#Numeric features with missing values\n",
    "mssgNumeric = rentals[mssgCols].select_dtypes(['int16', 'int32', 'int64', 'float16', 'float32', 'float64'])"
   ]
  },
  {
   "cell_type": "code",
   "execution_count": 567,
   "metadata": {},
   "outputs": [
    {
     "data": {
      "text/html": [
       "<div>\n",
       "<style scoped>\n",
       "    .dataframe tbody tr th:only-of-type {\n",
       "        vertical-align: middle;\n",
       "    }\n",
       "\n",
       "    .dataframe tbody tr th {\n",
       "        vertical-align: top;\n",
       "    }\n",
       "\n",
       "    .dataframe thead th {\n",
       "        text-align: right;\n",
       "    }\n",
       "</style>\n",
       "<table border=\"1\" class=\"dataframe\">\n",
       "  <thead>\n",
       "    <tr style=\"text-align: right;\">\n",
       "      <th></th>\n",
       "      <th>serviceCharge</th>\n",
       "      <th>pricetrend</th>\n",
       "      <th>telekomUploadSpeed</th>\n",
       "      <th>totalRent</th>\n",
       "      <th>yearConstructed</th>\n",
       "      <th>yearConstructedRange</th>\n",
       "      <th>thermalChar</th>\n",
       "      <th>floor</th>\n",
       "      <th>numberOfFloors</th>\n",
       "    </tr>\n",
       "  </thead>\n",
       "  <tbody>\n",
       "    <tr>\n",
       "      <th>0</th>\n",
       "      <td>245.0</td>\n",
       "      <td>4.62</td>\n",
       "      <td>10.0</td>\n",
       "      <td>840.0</td>\n",
       "      <td>1965.0</td>\n",
       "      <td>2.0</td>\n",
       "      <td>181.4</td>\n",
       "      <td>1.0</td>\n",
       "      <td>3.0</td>\n",
       "    </tr>\n",
       "    <tr>\n",
       "      <th>1</th>\n",
       "      <td>134.0</td>\n",
       "      <td>3.47</td>\n",
       "      <td>10.0</td>\n",
       "      <td>NaN</td>\n",
       "      <td>1871.0</td>\n",
       "      <td>1.0</td>\n",
       "      <td>NaN</td>\n",
       "      <td>NaN</td>\n",
       "      <td>NaN</td>\n",
       "    </tr>\n",
       "  </tbody>\n",
       "</table>\n",
       "</div>"
      ],
      "text/plain": [
       "   serviceCharge  pricetrend  telekomUploadSpeed  totalRent  yearConstructed  \\\n",
       "0          245.0        4.62                10.0      840.0           1965.0   \n",
       "1          134.0        3.47                10.0        NaN           1871.0   \n",
       "\n",
       "   yearConstructedRange  thermalChar  floor  numberOfFloors  \n",
       "0                   2.0        181.4    1.0             3.0  \n",
       "1                   1.0          NaN    NaN             NaN  "
      ]
     },
     "execution_count": 567,
     "metadata": {},
     "output_type": "execute_result"
    }
   ],
   "source": [
    "mssgNumeric.head(2)"
   ]
  },
  {
   "cell_type": "code",
   "execution_count": 568,
   "metadata": {
    "scrolled": false
   },
   "outputs": [
    {
     "data": {
      "text/html": [
       "<div>\n",
       "<style scoped>\n",
       "    .dataframe tbody tr th:only-of-type {\n",
       "        vertical-align: middle;\n",
       "    }\n",
       "\n",
       "    .dataframe tbody tr th {\n",
       "        vertical-align: top;\n",
       "    }\n",
       "\n",
       "    .dataframe thead th {\n",
       "        text-align: right;\n",
       "    }\n",
       "</style>\n",
       "<table border=\"1\" class=\"dataframe\">\n",
       "  <thead>\n",
       "    <tr style=\"text-align: right;\">\n",
       "      <th></th>\n",
       "      <th>count</th>\n",
       "      <th>mean</th>\n",
       "      <th>std</th>\n",
       "      <th>min</th>\n",
       "      <th>25%</th>\n",
       "      <th>50%</th>\n",
       "      <th>75%</th>\n",
       "      <th>max</th>\n",
       "    </tr>\n",
       "  </thead>\n",
       "  <tbody>\n",
       "    <tr>\n",
       "      <th>serviceCharge</th>\n",
       "      <td>260585.0</td>\n",
       "      <td>151.284376</td>\n",
       "      <td>309.050976</td>\n",
       "      <td>0.00</td>\n",
       "      <td>95.0</td>\n",
       "      <td>135.00</td>\n",
       "      <td>190.00</td>\n",
       "      <td>146118.00</td>\n",
       "    </tr>\n",
       "    <tr>\n",
       "      <th>pricetrend</th>\n",
       "      <td>265647.0</td>\n",
       "      <td>3.390478</td>\n",
       "      <td>1.965370</td>\n",
       "      <td>-12.33</td>\n",
       "      <td>2.0</td>\n",
       "      <td>3.39</td>\n",
       "      <td>4.58</td>\n",
       "      <td>14.92</td>\n",
       "    </tr>\n",
       "    <tr>\n",
       "      <th>telekomUploadSpeed</th>\n",
       "      <td>234211.0</td>\n",
       "      <td>28.806278</td>\n",
       "      <td>16.337061</td>\n",
       "      <td>1.00</td>\n",
       "      <td>10.0</td>\n",
       "      <td>40.00</td>\n",
       "      <td>40.00</td>\n",
       "      <td>100.00</td>\n",
       "    </tr>\n",
       "    <tr>\n",
       "      <th>totalRent</th>\n",
       "      <td>227190.0</td>\n",
       "      <td>902.807615</td>\n",
       "      <td>33321.827380</td>\n",
       "      <td>0.00</td>\n",
       "      <td>470.0</td>\n",
       "      <td>650.00</td>\n",
       "      <td>986.00</td>\n",
       "      <td>15751535.00</td>\n",
       "    </tr>\n",
       "    <tr>\n",
       "      <th>yearConstructed</th>\n",
       "      <td>210735.0</td>\n",
       "      <td>1966.459506</td>\n",
       "      <td>47.051099</td>\n",
       "      <td>1000.00</td>\n",
       "      <td>1950.0</td>\n",
       "      <td>1973.00</td>\n",
       "      <td>1996.00</td>\n",
       "      <td>2090.00</td>\n",
       "    </tr>\n",
       "    <tr>\n",
       "      <th>yearConstructedRange</th>\n",
       "      <td>210735.0</td>\n",
       "      <td>3.721494</td>\n",
       "      <td>2.741756</td>\n",
       "      <td>1.00</td>\n",
       "      <td>1.0</td>\n",
       "      <td>3.00</td>\n",
       "      <td>5.00</td>\n",
       "      <td>9.00</td>\n",
       "    </tr>\n",
       "    <tr>\n",
       "      <th>thermalChar</th>\n",
       "      <td>161512.0</td>\n",
       "      <td>114.599325</td>\n",
       "      <td>61.566981</td>\n",
       "      <td>0.10</td>\n",
       "      <td>79.0</td>\n",
       "      <td>107.00</td>\n",
       "      <td>140.00</td>\n",
       "      <td>1996.00</td>\n",
       "    </tr>\n",
       "    <tr>\n",
       "      <th>floor</th>\n",
       "      <td>216372.0</td>\n",
       "      <td>2.122987</td>\n",
       "      <td>3.642885</td>\n",
       "      <td>-1.00</td>\n",
       "      <td>1.0</td>\n",
       "      <td>2.00</td>\n",
       "      <td>3.00</td>\n",
       "      <td>999.00</td>\n",
       "    </tr>\n",
       "    <tr>\n",
       "      <th>numberOfFloors</th>\n",
       "      <td>170095.0</td>\n",
       "      <td>3.572950</td>\n",
       "      <td>6.393066</td>\n",
       "      <td>0.00</td>\n",
       "      <td>2.0</td>\n",
       "      <td>3.00</td>\n",
       "      <td>4.00</td>\n",
       "      <td>999.00</td>\n",
       "    </tr>\n",
       "  </tbody>\n",
       "</table>\n",
       "</div>"
      ],
      "text/plain": [
       "                         count         mean           std      min     25%  \\\n",
       "serviceCharge         260585.0   151.284376    309.050976     0.00    95.0   \n",
       "pricetrend            265647.0     3.390478      1.965370   -12.33     2.0   \n",
       "telekomUploadSpeed    234211.0    28.806278     16.337061     1.00    10.0   \n",
       "totalRent             227190.0   902.807615  33321.827380     0.00   470.0   \n",
       "yearConstructed       210735.0  1966.459506     47.051099  1000.00  1950.0   \n",
       "yearConstructedRange  210735.0     3.721494      2.741756     1.00     1.0   \n",
       "thermalChar           161512.0   114.599325     61.566981     0.10    79.0   \n",
       "floor                 216372.0     2.122987      3.642885    -1.00     1.0   \n",
       "numberOfFloors        170095.0     3.572950      6.393066     0.00     2.0   \n",
       "\n",
       "                          50%      75%          max  \n",
       "serviceCharge          135.00   190.00    146118.00  \n",
       "pricetrend               3.39     4.58        14.92  \n",
       "telekomUploadSpeed      40.00    40.00       100.00  \n",
       "totalRent              650.00   986.00  15751535.00  \n",
       "yearConstructed       1973.00  1996.00      2090.00  \n",
       "yearConstructedRange     3.00     5.00         9.00  \n",
       "thermalChar            107.00   140.00      1996.00  \n",
       "floor                    2.00     3.00       999.00  \n",
       "numberOfFloors           3.00     4.00       999.00  "
      ]
     },
     "execution_count": 568,
     "metadata": {},
     "output_type": "execute_result"
    }
   ],
   "source": [
    "mssgNumeric.describe().T"
   ]
  },
  {
   "cell_type": "code",
   "execution_count": 569,
   "metadata": {
    "scrolled": true
   },
   "outputs": [
    {
     "data": {
      "text/plain": [
       "serviceCharge           12238\n",
       "pricetrend               1232\n",
       "telekomUploadSpeed          7\n",
       "totalRent               28404\n",
       "yearConstructed           465\n",
       "yearConstructedRange        9\n",
       "thermalChar              7824\n",
       "floor                      53\n",
       "numberOfFloors             57\n",
       "dtype: int64"
      ]
     },
     "execution_count": 569,
     "metadata": {},
     "output_type": "execute_result"
    }
   ],
   "source": [
    "mssgNumeric.nunique()"
   ]
  },
  {
   "cell_type": "markdown",
   "metadata": {},
   "source": [
    "- 'serviceCharge': Indicates ancillary costs such as electricity or internet. Previously determined that 2.6% of its values are missing. Has a min value of 0 euros and max value of 146,118.0 euros. These may be wrong data.\n",
    "- 'pricetrend': Parameter calculated by immoscout. Calculation or metric was not provided, however, it likely indicates the percentage change in price for that apartment or similar apartments in the area. Observed that ~ 0.7% of its values are missing. Has a min value of -12 and max value of 14.9. Range seems reasonable at first glance.\n",
    "- 'telekomUploadSpeed': Indicates internet upload speed. Determined that 12.4% of its values are missing. Unit not provided, but is typically measured in Mbps. Has seven values, with min speed of 1 and max speed of 100. Range seems reasonable at first glance. \n",
    "- 'totalRent': Data owner suggested it typically includes baseRent, serviceCharge and heatingCosts. Determined ~ 15% of its values to be missing. Has min value of 0 euros and max value of 15,751,540 euros. Min and max values are extreme for rents.\n",
    "- 'yearConstructed': Indicates year building was erected. Determined that 21% of its values are missing. Currently specified as a number instead of a datetime. Min value of 1000 and max value of 2090. Values seem extreme. \n",
    "- 'noParkSpaces': Indicates number of parking spaces available for apartment. Has 71 unique values. Has min value of 1 and max value of 2241. Min value is OK, but max value is extreme.\n",
    "- 'yearConstructedRange': Indicates binned construction years from 1 to 9. Determined that 21% of its values are missing, corresponding to the number of missing values for 'yearConstructed'. These are correlated features. Will likely drop this feature.\n",
    "- 'thermalChar': Indicates energy demand of apartment. Data owner noted that it is used to determine energyEfficiencyClass. Has unit - kWh/(m^2a) [Kilowatt per square meter per annum] Determined that ~ 40% of its values are missing. Has a min value of 0.1 and max value of 1996. Values seem extreme. Determined 65% of values to be missing. \n",
    "- 'floor': Indicates floor number of apartment. Determined that 19% of its values are missing. Has 53 unique values, with min of -1 and max of 999. Min of -1 likely indicates a basement apartment, but a max of 999 is an extreme value. Floor number is an identifier for the apartment specific to the building and has not influence on price. We will drop this feature. \n",
    "- 'numberOfFloors': Indicates the number of floors in the building. Has 57 unique values, with min of -1 and max of 999, similar to 'floor'. Both -1 and 999 are extreme values."
   ]
  },
  {
   "cell_type": "code",
   "execution_count": 570,
   "metadata": {
    "scrolled": false
   },
   "outputs": [
    {
     "data": {
      "image/png": "[encoded data removed]",
      "text/plain": [
       "<Figure size 1080x720 with 9 Axes>"
      ]
     },
     "metadata": {
      "needs_background": "light"
     },
     "output_type": "display_data"
    }
   ],
   "source": [
    "#Plot charts of these features\n",
    "mssgNumeric.hist(figsize = (15, 10))\n",
    "plt.subplots_adjust(hspace= 0.5);\n",
    "    "
   ]
  },
  {
   "cell_type": "markdown",
   "metadata": {},
   "source": [
    "- numberOfFloors, serviceCharge, telekomUploadSpeed, thermalChar, totalRent and yearConstructed are skewed. Lets review for outliers. Once we deal with the outliers we can review the histogram shapes and if normally distributed may consider imputing missing values with averages.\n",
    "- As mentioned we will drop the feature - floor"
   ]
  },
  {
   "cell_type": "code",
   "execution_count": 571,
   "metadata": {
    "scrolled": true
   },
   "outputs": [
    {
     "data": {
      "image/png": "[encoded data removed]",
      "text/plain": [
       "<Figure size 432x288 with 1 Axes>"
      ]
     },
     "metadata": {
      "needs_background": "light"
     },
     "output_type": "display_data"
    }
   ],
   "source": [
    "#Review numberOfFloors\n",
    "_= sns.boxplot(x = 'numberOfFloors', data = rentals)"
   ]
  },
  {
   "cell_type": "markdown",
   "metadata": {},
   "source": [
    "- The tallest building in Germany is the Commerzbank Tower in Frankfurt with 56 floors. We will review records that have number of floors greater than 56"
   ]
  },
  {
   "cell_type": "code",
   "execution_count": 572,
   "metadata": {},
   "outputs": [],
   "source": [
    "many_floors = rentals[rentals.numberOfFloors > 56]"
   ]
  },
  {
   "cell_type": "code",
   "execution_count": 573,
   "metadata": {},
   "outputs": [
    {
     "data": {
      "text/plain": [
       "(19, 32)"
      ]
     },
     "execution_count": 573,
     "metadata": {},
     "output_type": "execute_result"
    }
   ],
   "source": [
    "many_floors.shape"
   ]
  },
  {
   "cell_type": "code",
   "execution_count": 581,
   "metadata": {},
   "outputs": [
    {
     "data": {
      "text/html": [
       "<div>\n",
       "<style scoped>\n",
       "    .dataframe tbody tr th:only-of-type {\n",
       "        vertical-align: middle;\n",
       "    }\n",
       "\n",
       "    .dataframe tbody tr th {\n",
       "        vertical-align: top;\n",
       "    }\n",
       "\n",
       "    .dataframe thead th {\n",
       "        text-align: right;\n",
       "    }\n",
       "</style>\n",
       "<table border=\"1\" class=\"dataframe\">\n",
       "  <thead>\n",
       "    <tr style=\"text-align: right;\">\n",
       "      <th></th>\n",
       "      <th>regio1</th>\n",
       "      <th>serviceCharge</th>\n",
       "      <th>heatingType</th>\n",
       "      <th>telekomTvOffer</th>\n",
       "      <th>newlyConst</th>\n",
       "      <th>balcony</th>\n",
       "      <th>picturecount</th>\n",
       "      <th>pricetrend</th>\n",
       "      <th>telekomUploadSpeed</th>\n",
       "      <th>totalRent</th>\n",
       "      <th>yearConstructed</th>\n",
       "      <th>scoutId</th>\n",
       "      <th>hasKitchen</th>\n",
       "      <th>cellar</th>\n",
       "      <th>yearConstructedRange</th>\n",
       "      <th>baseRent</th>\n",
       "      <th>livingSpace</th>\n",
       "      <th>condition</th>\n",
       "      <th>lift</th>\n",
       "      <th>baseRentRange</th>\n",
       "      <th>typeOfFlat</th>\n",
       "      <th>geo_plz</th>\n",
       "      <th>noRooms</th>\n",
       "      <th>thermalChar</th>\n",
       "      <th>floor</th>\n",
       "      <th>numberOfFloors</th>\n",
       "      <th>noRoomsRange</th>\n",
       "      <th>garden</th>\n",
       "      <th>livingSpaceRange</th>\n",
       "      <th>regio2</th>\n",
       "      <th>regio3</th>\n",
       "      <th>date</th>\n",
       "    </tr>\n",
       "  </thead>\n",
       "  <tbody>\n",
       "    <tr>\n",
       "      <th>48498</th>\n",
       "      <td>Bayern</td>\n",
       "      <td>120.0</td>\n",
       "      <td>central_heating</td>\n",
       "      <td>ONE_YEAR_FREE</td>\n",
       "      <td>False</td>\n",
       "      <td>True</td>\n",
       "      <td>11</td>\n",
       "      <td>4.31</td>\n",
       "      <td>40.0</td>\n",
       "      <td>720.0</td>\n",
       "      <td>1976.0</td>\n",
       "      <td>113684019</td>\n",
       "      <td>True</td>\n",
       "      <td>True</td>\n",
       "      <td>3.0</td>\n",
       "      <td>600.0</td>\n",
       "      <td>50.00</td>\n",
       "      <td>mint_condition</td>\n",
       "      <td>False</td>\n",
       "      <td>4</td>\n",
       "      <td>apartment</td>\n",
       "      <td>83346</td>\n",
       "      <td>2.0</td>\n",
       "      <td>NaN</td>\n",
       "      <td>1.0</td>\n",
       "      <td>999.0</td>\n",
       "      <td>2</td>\n",
       "      <td>False</td>\n",
       "      <td>2</td>\n",
       "      <td>Traunstein_Kreis</td>\n",
       "      <td>Bergen</td>\n",
       "      <td>2019-10-01</td>\n",
       "    </tr>\n",
       "    <tr>\n",
       "      <th>72253</th>\n",
       "      <td>Bayern</td>\n",
       "      <td>170.0</td>\n",
       "      <td>central_heating</td>\n",
       "      <td>ONE_YEAR_FREE</td>\n",
       "      <td>False</td>\n",
       "      <td>True</td>\n",
       "      <td>6</td>\n",
       "      <td>3.74</td>\n",
       "      <td>40.0</td>\n",
       "      <td>850.0</td>\n",
       "      <td>1985.0</td>\n",
       "      <td>111358313</td>\n",
       "      <td>False</td>\n",
       "      <td>True</td>\n",
       "      <td>4.0</td>\n",
       "      <td>680.0</td>\n",
       "      <td>69.00</td>\n",
       "      <td>mint_condition</td>\n",
       "      <td>False</td>\n",
       "      <td>5</td>\n",
       "      <td>ground_floor</td>\n",
       "      <td>83278</td>\n",
       "      <td>2.0</td>\n",
       "      <td>102.0</td>\n",
       "      <td>0.0</td>\n",
       "      <td>999.0</td>\n",
       "      <td>2</td>\n",
       "      <td>False</td>\n",
       "      <td>3</td>\n",
       "      <td>Traunstein_Kreis</td>\n",
       "      <td>Traunstein</td>\n",
       "      <td>2019-05-01</td>\n",
       "    </tr>\n",
       "    <tr>\n",
       "      <th>100789</th>\n",
       "      <td>Hessen</td>\n",
       "      <td>110.0</td>\n",
       "      <td>central_heating</td>\n",
       "      <td>ONE_YEAR_FREE</td>\n",
       "      <td>False</td>\n",
       "      <td>True</td>\n",
       "      <td>7</td>\n",
       "      <td>4.55</td>\n",
       "      <td>40.0</td>\n",
       "      <td>NaN</td>\n",
       "      <td>1973.0</td>\n",
       "      <td>115121989</td>\n",
       "      <td>True</td>\n",
       "      <td>False</td>\n",
       "      <td>3.0</td>\n",
       "      <td>300.0</td>\n",
       "      <td>27.00</td>\n",
       "      <td>well_kept</td>\n",
       "      <td>False</td>\n",
       "      <td>1</td>\n",
       "      <td>other</td>\n",
       "      <td>65549</td>\n",
       "      <td>1.0</td>\n",
       "      <td>118.2</td>\n",
       "      <td>1.0</td>\n",
       "      <td>999.0</td>\n",
       "      <td>1</td>\n",
       "      <td>False</td>\n",
       "      <td>1</td>\n",
       "      <td>Limburg_Weilburg_Kreis</td>\n",
       "      <td>Limburg_an_der_Lahn</td>\n",
       "      <td>2020-02-01</td>\n",
       "    </tr>\n",
       "    <tr>\n",
       "      <th>107377</th>\n",
       "      <td>Nordrhein_Westfalen</td>\n",
       "      <td>120.0</td>\n",
       "      <td>oil_heating</td>\n",
       "      <td>ONE_YEAR_FREE</td>\n",
       "      <td>False</td>\n",
       "      <td>True</td>\n",
       "      <td>1</td>\n",
       "      <td>3.60</td>\n",
       "      <td>2.4</td>\n",
       "      <td>680.0</td>\n",
       "      <td>NaN</td>\n",
       "      <td>115429800</td>\n",
       "      <td>True</td>\n",
       "      <td>True</td>\n",
       "      <td>NaN</td>\n",
       "      <td>560.0</td>\n",
       "      <td>75.00</td>\n",
       "      <td>NaN</td>\n",
       "      <td>False</td>\n",
       "      <td>4</td>\n",
       "      <td>roof_storey</td>\n",
       "      <td>42555</td>\n",
       "      <td>2.0</td>\n",
       "      <td>NaN</td>\n",
       "      <td>2.0</td>\n",
       "      <td>800.0</td>\n",
       "      <td>2</td>\n",
       "      <td>False</td>\n",
       "      <td>3</td>\n",
       "      <td>Mettmann_Kreis</td>\n",
       "      <td>Velbert</td>\n",
       "      <td>2020-02-01</td>\n",
       "    </tr>\n",
       "    <tr>\n",
       "      <th>181497</th>\n",
       "      <td>Nordrhein_Westfalen</td>\n",
       "      <td>140.0</td>\n",
       "      <td>gas_heating</td>\n",
       "      <td>ONE_YEAR_FREE</td>\n",
       "      <td>False</td>\n",
       "      <td>False</td>\n",
       "      <td>12</td>\n",
       "      <td>3.82</td>\n",
       "      <td>2.4</td>\n",
       "      <td>590.0</td>\n",
       "      <td>2000.0</td>\n",
       "      <td>113852687</td>\n",
       "      <td>True</td>\n",
       "      <td>True</td>\n",
       "      <td>5.0</td>\n",
       "      <td>450.0</td>\n",
       "      <td>73.00</td>\n",
       "      <td>well_kept</td>\n",
       "      <td>False</td>\n",
       "      <td>3</td>\n",
       "      <td>roof_storey</td>\n",
       "      <td>50189</td>\n",
       "      <td>3.0</td>\n",
       "      <td>NaN</td>\n",
       "      <td>2.0</td>\n",
       "      <td>800.0</td>\n",
       "      <td>3</td>\n",
       "      <td>False</td>\n",
       "      <td>3</td>\n",
       "      <td>Rhein_Erft_Kreis</td>\n",
       "      <td>Elsdorf</td>\n",
       "      <td>2019-10-01</td>\n",
       "    </tr>\n",
       "    <tr>\n",
       "      <th>262400</th>\n",
       "      <td>Nordrhein_Westfalen</td>\n",
       "      <td>178.0</td>\n",
       "      <td>central_heating</td>\n",
       "      <td>ONE_YEAR_FREE</td>\n",
       "      <td>False</td>\n",
       "      <td>True</td>\n",
       "      <td>14</td>\n",
       "      <td>4.35</td>\n",
       "      <td>10.0</td>\n",
       "      <td>908.0</td>\n",
       "      <td>1955.0</td>\n",
       "      <td>62930037</td>\n",
       "      <td>True</td>\n",
       "      <td>True</td>\n",
       "      <td>2.0</td>\n",
       "      <td>660.0</td>\n",
       "      <td>66.00</td>\n",
       "      <td>refurbished</td>\n",
       "      <td>True</td>\n",
       "      <td>5</td>\n",
       "      <td>apartment</td>\n",
       "      <td>47051</td>\n",
       "      <td>2.0</td>\n",
       "      <td>65.0</td>\n",
       "      <td>2.0</td>\n",
       "      <td>730.0</td>\n",
       "      <td>2</td>\n",
       "      <td>True</td>\n",
       "      <td>3</td>\n",
       "      <td>Duisburg</td>\n",
       "      <td>Altstadt</td>\n",
       "      <td>2018-09-01</td>\n",
       "    </tr>\n",
       "    <tr>\n",
       "      <th>150943</th>\n",
       "      <td>Nordrhein_Westfalen</td>\n",
       "      <td>210.0</td>\n",
       "      <td>central_heating</td>\n",
       "      <td>ONE_YEAR_FREE</td>\n",
       "      <td>False</td>\n",
       "      <td>True</td>\n",
       "      <td>9</td>\n",
       "      <td>3.80</td>\n",
       "      <td>40.0</td>\n",
       "      <td>NaN</td>\n",
       "      <td>1970.0</td>\n",
       "      <td>107373802</td>\n",
       "      <td>True</td>\n",
       "      <td>True</td>\n",
       "      <td>2.0</td>\n",
       "      <td>600.0</td>\n",
       "      <td>70.00</td>\n",
       "      <td>well_kept</td>\n",
       "      <td>True</td>\n",
       "      <td>4</td>\n",
       "      <td>apartment</td>\n",
       "      <td>41564</td>\n",
       "      <td>3.0</td>\n",
       "      <td>156.1</td>\n",
       "      <td>6.0</td>\n",
       "      <td>600.0</td>\n",
       "      <td>3</td>\n",
       "      <td>False</td>\n",
       "      <td>3</td>\n",
       "      <td>Neuss_Rhein_Kreis</td>\n",
       "      <td>Kaarst</td>\n",
       "      <td>2018-09-01</td>\n",
       "    </tr>\n",
       "    <tr>\n",
       "      <th>123333</th>\n",
       "      <td>Niedersachsen</td>\n",
       "      <td>110.0</td>\n",
       "      <td>central_heating</td>\n",
       "      <td>ONE_YEAR_FREE</td>\n",
       "      <td>False</td>\n",
       "      <td>True</td>\n",
       "      <td>17</td>\n",
       "      <td>5.08</td>\n",
       "      <td>40.0</td>\n",
       "      <td>NaN</td>\n",
       "      <td>1954.0</td>\n",
       "      <td>104361657</td>\n",
       "      <td>True</td>\n",
       "      <td>False</td>\n",
       "      <td>2.0</td>\n",
       "      <td>399.0</td>\n",
       "      <td>73.00</td>\n",
       "      <td>well_kept</td>\n",
       "      <td>True</td>\n",
       "      <td>2</td>\n",
       "      <td>apartment</td>\n",
       "      <td>26384</td>\n",
       "      <td>2.0</td>\n",
       "      <td>119.0</td>\n",
       "      <td>1.0</td>\n",
       "      <td>594.0</td>\n",
       "      <td>2</td>\n",
       "      <td>False</td>\n",
       "      <td>3</td>\n",
       "      <td>Wilhelmshaven</td>\n",
       "      <td>Heppens</td>\n",
       "      <td>2018-09-01</td>\n",
       "    </tr>\n",
       "    <tr>\n",
       "      <th>202923</th>\n",
       "      <td>Nordrhein_Westfalen</td>\n",
       "      <td>130.0</td>\n",
       "      <td>gas_heating</td>\n",
       "      <td>ONE_YEAR_FREE</td>\n",
       "      <td>False</td>\n",
       "      <td>False</td>\n",
       "      <td>9</td>\n",
       "      <td>2.54</td>\n",
       "      <td>40.0</td>\n",
       "      <td>540.0</td>\n",
       "      <td>NaN</td>\n",
       "      <td>113585371</td>\n",
       "      <td>False</td>\n",
       "      <td>False</td>\n",
       "      <td>NaN</td>\n",
       "      <td>410.0</td>\n",
       "      <td>74.00</td>\n",
       "      <td>NaN</td>\n",
       "      <td>False</td>\n",
       "      <td>3</td>\n",
       "      <td>roof_storey</td>\n",
       "      <td>42369</td>\n",
       "      <td>2.0</td>\n",
       "      <td>NaN</td>\n",
       "      <td>3.0</td>\n",
       "      <td>410.0</td>\n",
       "      <td>2</td>\n",
       "      <td>False</td>\n",
       "      <td>3</td>\n",
       "      <td>Wuppertal</td>\n",
       "      <td>Ronsdorf</td>\n",
       "      <td>2019-10-01</td>\n",
       "    </tr>\n",
       "    <tr>\n",
       "      <th>82112</th>\n",
       "      <td>Sachsen</td>\n",
       "      <td>120.0</td>\n",
       "      <td>central_heating</td>\n",
       "      <td>ONE_YEAR_FREE</td>\n",
       "      <td>False</td>\n",
       "      <td>True</td>\n",
       "      <td>11</td>\n",
       "      <td>1.37</td>\n",
       "      <td>40.0</td>\n",
       "      <td>4.0</td>\n",
       "      <td>1995.0</td>\n",
       "      <td>65507848</td>\n",
       "      <td>True</td>\n",
       "      <td>True</td>\n",
       "      <td>5.0</td>\n",
       "      <td>280.0</td>\n",
       "      <td>52.50</td>\n",
       "      <td>well_kept</td>\n",
       "      <td>True</td>\n",
       "      <td>1</td>\n",
       "      <td>apartment</td>\n",
       "      <td>1662</td>\n",
       "      <td>1.0</td>\n",
       "      <td>79.6</td>\n",
       "      <td>2.0</td>\n",
       "      <td>400.0</td>\n",
       "      <td>1</td>\n",
       "      <td>False</td>\n",
       "      <td>2</td>\n",
       "      <td>Meißen_Kreis</td>\n",
       "      <td>Meißen</td>\n",
       "      <td>2019-10-01</td>\n",
       "    </tr>\n",
       "    <tr>\n",
       "      <th>43275</th>\n",
       "      <td>Sachsen_Anhalt</td>\n",
       "      <td>132.0</td>\n",
       "      <td>district_heating</td>\n",
       "      <td>ONE_YEAR_FREE</td>\n",
       "      <td>False</td>\n",
       "      <td>True</td>\n",
       "      <td>7</td>\n",
       "      <td>1.85</td>\n",
       "      <td>40.0</td>\n",
       "      <td>512.0</td>\n",
       "      <td>1935.0</td>\n",
       "      <td>104185905</td>\n",
       "      <td>True</td>\n",
       "      <td>True</td>\n",
       "      <td>1.0</td>\n",
       "      <td>378.0</td>\n",
       "      <td>61.00</td>\n",
       "      <td>fully_renovated</td>\n",
       "      <td>False</td>\n",
       "      <td>2</td>\n",
       "      <td>apartment</td>\n",
       "      <td>39576</td>\n",
       "      <td>2.0</td>\n",
       "      <td>83.9</td>\n",
       "      <td>0.0</td>\n",
       "      <td>378.0</td>\n",
       "      <td>2</td>\n",
       "      <td>True</td>\n",
       "      <td>3</td>\n",
       "      <td>Stendal_Kreis</td>\n",
       "      <td>Stendal</td>\n",
       "      <td>2018-09-01</td>\n",
       "    </tr>\n",
       "    <tr>\n",
       "      <th>152273</th>\n",
       "      <td>Hessen</td>\n",
       "      <td>460.0</td>\n",
       "      <td>floor_heating</td>\n",
       "      <td>ONE_YEAR_FREE</td>\n",
       "      <td>False</td>\n",
       "      <td>True</td>\n",
       "      <td>1</td>\n",
       "      <td>4.55</td>\n",
       "      <td>40.0</td>\n",
       "      <td>1740.0</td>\n",
       "      <td>1986.0</td>\n",
       "      <td>110713049</td>\n",
       "      <td>True</td>\n",
       "      <td>True</td>\n",
       "      <td>4.0</td>\n",
       "      <td>1280.0</td>\n",
       "      <td>150.00</td>\n",
       "      <td>fully_renovated</td>\n",
       "      <td>False</td>\n",
       "      <td>7</td>\n",
       "      <td>raised_ground_floor</td>\n",
       "      <td>61231</td>\n",
       "      <td>5.0</td>\n",
       "      <td>NaN</td>\n",
       "      <td>1.0</td>\n",
       "      <td>370.0</td>\n",
       "      <td>5</td>\n",
       "      <td>False</td>\n",
       "      <td>6</td>\n",
       "      <td>Wetteraukreis</td>\n",
       "      <td>Bad_Nauheim</td>\n",
       "      <td>2019-05-01</td>\n",
       "    </tr>\n",
       "    <tr>\n",
       "      <th>35220</th>\n",
       "      <td>Nordrhein_Westfalen</td>\n",
       "      <td>56.0</td>\n",
       "      <td>night_storage_heater</td>\n",
       "      <td>ONE_YEAR_FREE</td>\n",
       "      <td>False</td>\n",
       "      <td>False</td>\n",
       "      <td>5</td>\n",
       "      <td>2.07</td>\n",
       "      <td>40.0</td>\n",
       "      <td>2.0</td>\n",
       "      <td>NaN</td>\n",
       "      <td>83599326</td>\n",
       "      <td>False</td>\n",
       "      <td>False</td>\n",
       "      <td>NaN</td>\n",
       "      <td>245.0</td>\n",
       "      <td>44.20</td>\n",
       "      <td>well_kept</td>\n",
       "      <td>False</td>\n",
       "      <td>1</td>\n",
       "      <td>other</td>\n",
       "      <td>45888</td>\n",
       "      <td>1.5</td>\n",
       "      <td>NaN</td>\n",
       "      <td>2.0</td>\n",
       "      <td>301.0</td>\n",
       "      <td>1</td>\n",
       "      <td>False</td>\n",
       "      <td>2</td>\n",
       "      <td>Gelsenkirchen</td>\n",
       "      <td>Bulmke_Hüllen</td>\n",
       "      <td>2020-02-01</td>\n",
       "    </tr>\n",
       "    <tr>\n",
       "      <th>264425</th>\n",
       "      <td>Schleswig_Holstein</td>\n",
       "      <td>50.0</td>\n",
       "      <td>central_heating</td>\n",
       "      <td>ON_DEMAND</td>\n",
       "      <td>False</td>\n",
       "      <td>True</td>\n",
       "      <td>1</td>\n",
       "      <td>4.05</td>\n",
       "      <td>2.4</td>\n",
       "      <td>529.0</td>\n",
       "      <td>NaN</td>\n",
       "      <td>107375790</td>\n",
       "      <td>True</td>\n",
       "      <td>True</td>\n",
       "      <td>NaN</td>\n",
       "      <td>424.0</td>\n",
       "      <td>46.39</td>\n",
       "      <td>well_kept</td>\n",
       "      <td>False</td>\n",
       "      <td>3</td>\n",
       "      <td>apartment</td>\n",
       "      <td>24229</td>\n",
       "      <td>2.0</td>\n",
       "      <td>114.0</td>\n",
       "      <td>1.0</td>\n",
       "      <td>252.0</td>\n",
       "      <td>2</td>\n",
       "      <td>False</td>\n",
       "      <td>2</td>\n",
       "      <td>Rendsburg_Eckernförde_Kreis</td>\n",
       "      <td>Schwedeneck</td>\n",
       "      <td>2018-09-01</td>\n",
       "    </tr>\n",
       "    <tr>\n",
       "      <th>251964</th>\n",
       "      <td>Baden_Württemberg</td>\n",
       "      <td>130.0</td>\n",
       "      <td>district_heating</td>\n",
       "      <td>NaN</td>\n",
       "      <td>False</td>\n",
       "      <td>True</td>\n",
       "      <td>0</td>\n",
       "      <td>6.46</td>\n",
       "      <td>NaN</td>\n",
       "      <td>810.0</td>\n",
       "      <td>1990.0</td>\n",
       "      <td>115704714</td>\n",
       "      <td>True</td>\n",
       "      <td>True</td>\n",
       "      <td>4.0</td>\n",
       "      <td>680.0</td>\n",
       "      <td>62.40</td>\n",
       "      <td>NaN</td>\n",
       "      <td>False</td>\n",
       "      <td>5</td>\n",
       "      <td>apartment</td>\n",
       "      <td>71032</td>\n",
       "      <td>2.5</td>\n",
       "      <td>NaN</td>\n",
       "      <td>3.0</td>\n",
       "      <td>200.0</td>\n",
       "      <td>2</td>\n",
       "      <td>False</td>\n",
       "      <td>3</td>\n",
       "      <td>Böblingen_Kreis</td>\n",
       "      <td>Böblingen</td>\n",
       "      <td>2020-02-01</td>\n",
       "    </tr>\n",
       "    <tr>\n",
       "      <th>244899</th>\n",
       "      <td>Nordrhein_Westfalen</td>\n",
       "      <td>90.0</td>\n",
       "      <td>central_heating</td>\n",
       "      <td>ONE_YEAR_FREE</td>\n",
       "      <td>False</td>\n",
       "      <td>True</td>\n",
       "      <td>3</td>\n",
       "      <td>2.70</td>\n",
       "      <td>40.0</td>\n",
       "      <td>478.0</td>\n",
       "      <td>1961.0</td>\n",
       "      <td>110484522</td>\n",
       "      <td>False</td>\n",
       "      <td>False</td>\n",
       "      <td>2.0</td>\n",
       "      <td>338.0</td>\n",
       "      <td>75.00</td>\n",
       "      <td>well_kept</td>\n",
       "      <td>False</td>\n",
       "      <td>2</td>\n",
       "      <td>apartment</td>\n",
       "      <td>37688</td>\n",
       "      <td>3.0</td>\n",
       "      <td>97.0</td>\n",
       "      <td>2.0</td>\n",
       "      <td>99.0</td>\n",
       "      <td>3</td>\n",
       "      <td>True</td>\n",
       "      <td>3</td>\n",
       "      <td>Höxter_Kreis</td>\n",
       "      <td>Beverungen</td>\n",
       "      <td>2019-05-01</td>\n",
       "    </tr>\n",
       "    <tr>\n",
       "      <th>247865</th>\n",
       "      <td>Bayern</td>\n",
       "      <td>138.0</td>\n",
       "      <td>central_heating</td>\n",
       "      <td>ONE_YEAR_FREE</td>\n",
       "      <td>False</td>\n",
       "      <td>True</td>\n",
       "      <td>16</td>\n",
       "      <td>6.06</td>\n",
       "      <td>40.0</td>\n",
       "      <td>632.0</td>\n",
       "      <td>1996.0</td>\n",
       "      <td>106797205</td>\n",
       "      <td>True</td>\n",
       "      <td>False</td>\n",
       "      <td>5.0</td>\n",
       "      <td>494.0</td>\n",
       "      <td>52.00</td>\n",
       "      <td>negotiable</td>\n",
       "      <td>False</td>\n",
       "      <td>3</td>\n",
       "      <td>apartment</td>\n",
       "      <td>97297</td>\n",
       "      <td>2.0</td>\n",
       "      <td>88.0</td>\n",
       "      <td>1.0</td>\n",
       "      <td>99.0</td>\n",
       "      <td>2</td>\n",
       "      <td>False</td>\n",
       "      <td>2</td>\n",
       "      <td>Würzburg_Kreis</td>\n",
       "      <td>Waldbüttelbrunn</td>\n",
       "      <td>2018-09-01</td>\n",
       "    </tr>\n",
       "    <tr>\n",
       "      <th>64453</th>\n",
       "      <td>Rheinland_Pfalz</td>\n",
       "      <td>120.0</td>\n",
       "      <td>floor_heating</td>\n",
       "      <td>ONE_YEAR_FREE</td>\n",
       "      <td>False</td>\n",
       "      <td>True</td>\n",
       "      <td>5</td>\n",
       "      <td>4.36</td>\n",
       "      <td>2.4</td>\n",
       "      <td>620.0</td>\n",
       "      <td>1982.0</td>\n",
       "      <td>113850887</td>\n",
       "      <td>True</td>\n",
       "      <td>True</td>\n",
       "      <td>4.0</td>\n",
       "      <td>500.0</td>\n",
       "      <td>92.00</td>\n",
       "      <td>well_kept</td>\n",
       "      <td>False</td>\n",
       "      <td>3</td>\n",
       "      <td>raised_ground_floor</td>\n",
       "      <td>56736</td>\n",
       "      <td>2.5</td>\n",
       "      <td>NaN</td>\n",
       "      <td>1.0</td>\n",
       "      <td>92.0</td>\n",
       "      <td>2</td>\n",
       "      <td>True</td>\n",
       "      <td>4</td>\n",
       "      <td>Mayen_Koblenz_Kreis</td>\n",
       "      <td>Kottenheim</td>\n",
       "      <td>2019-10-01</td>\n",
       "    </tr>\n",
       "    <tr>\n",
       "      <th>26590</th>\n",
       "      <td>Baden_Württemberg</td>\n",
       "      <td>NaN</td>\n",
       "      <td>district_heating</td>\n",
       "      <td>ONE_YEAR_FREE</td>\n",
       "      <td>False</td>\n",
       "      <td>False</td>\n",
       "      <td>7</td>\n",
       "      <td>4.17</td>\n",
       "      <td>40.0</td>\n",
       "      <td>NaN</td>\n",
       "      <td>NaN</td>\n",
       "      <td>94763921</td>\n",
       "      <td>True</td>\n",
       "      <td>False</td>\n",
       "      <td>NaN</td>\n",
       "      <td>570.0</td>\n",
       "      <td>40.00</td>\n",
       "      <td>well_kept</td>\n",
       "      <td>False</td>\n",
       "      <td>4</td>\n",
       "      <td>roof_storey</td>\n",
       "      <td>68165</td>\n",
       "      <td>1.5</td>\n",
       "      <td>143.0</td>\n",
       "      <td>4.0</td>\n",
       "      <td>90.0</td>\n",
       "      <td>1</td>\n",
       "      <td>False</td>\n",
       "      <td>1</td>\n",
       "      <td>Mannheim</td>\n",
       "      <td>Schwetzingerstadt_/_Oststadt</td>\n",
       "      <td>2018-09-01</td>\n",
       "    </tr>\n",
       "  </tbody>\n",
       "</table>\n",
       "</div>"
      ],
      "text/plain": [
       "                     regio1  serviceCharge           heatingType  \\\n",
       "48498                Bayern          120.0       central_heating   \n",
       "72253                Bayern          170.0       central_heating   \n",
       "100789               Hessen          110.0       central_heating   \n",
       "107377  Nordrhein_Westfalen          120.0           oil_heating   \n",
       "181497  Nordrhein_Westfalen          140.0           gas_heating   \n",
       "262400  Nordrhein_Westfalen          178.0       central_heating   \n",
       "150943  Nordrhein_Westfalen          210.0       central_heating   \n",
       "123333        Niedersachsen          110.0       central_heating   \n",
       "202923  Nordrhein_Westfalen          130.0           gas_heating   \n",
       "82112               Sachsen          120.0       central_heating   \n",
       "43275        Sachsen_Anhalt          132.0      district_heating   \n",
       "152273               Hessen          460.0         floor_heating   \n",
       "35220   Nordrhein_Westfalen           56.0  night_storage_heater   \n",
       "264425   Schleswig_Holstein           50.0       central_heating   \n",
       "251964    Baden_Württemberg          130.0      district_heating   \n",
       "244899  Nordrhein_Westfalen           90.0       central_heating   \n",
       "247865               Bayern          138.0       central_heating   \n",
       "64453       Rheinland_Pfalz          120.0         floor_heating   \n",
       "26590     Baden_Württemberg            NaN      district_heating   \n",
       "\n",
       "       telekomTvOffer  newlyConst  balcony  picturecount  pricetrend  \\\n",
       "48498   ONE_YEAR_FREE       False     True            11        4.31   \n",
       "72253   ONE_YEAR_FREE       False     True             6        3.74   \n",
       "100789  ONE_YEAR_FREE       False     True             7        4.55   \n",
       "107377  ONE_YEAR_FREE       False     True             1        3.60   \n",
       "181497  ONE_YEAR_FREE       False    False            12        3.82   \n",
       "262400  ONE_YEAR_FREE       False     True            14        4.35   \n",
       "150943  ONE_YEAR_FREE       False     True             9        3.80   \n",
       "123333  ONE_YEAR_FREE       False     True            17        5.08   \n",
       "202923  ONE_YEAR_FREE       False    False             9        2.54   \n",
       "82112   ONE_YEAR_FREE       False     True            11        1.37   \n",
       "43275   ONE_YEAR_FREE       False     True             7        1.85   \n",
       "152273  ONE_YEAR_FREE       False     True             1        4.55   \n",
       "35220   ONE_YEAR_FREE       False    False             5        2.07   \n",
       "264425      ON_DEMAND       False     True             1        4.05   \n",
       "251964            NaN       False     True             0        6.46   \n",
       "244899  ONE_YEAR_FREE       False     True             3        2.70   \n",
       "247865  ONE_YEAR_FREE       False     True            16        6.06   \n",
       "64453   ONE_YEAR_FREE       False     True             5        4.36   \n",
       "26590   ONE_YEAR_FREE       False    False             7        4.17   \n",
       "\n",
       "        telekomUploadSpeed  totalRent  yearConstructed    scoutId  hasKitchen  \\\n",
       "48498                 40.0      720.0           1976.0  113684019        True   \n",
       "72253                 40.0      850.0           1985.0  111358313       False   \n",
       "100789                40.0        NaN           1973.0  115121989        True   \n",
       "107377                 2.4      680.0              NaN  115429800        True   \n",
       "181497                 2.4      590.0           2000.0  113852687        True   \n",
       "262400                10.0      908.0           1955.0   62930037        True   \n",
       "150943                40.0        NaN           1970.0  107373802        True   \n",
       "123333                40.0        NaN           1954.0  104361657        True   \n",
       "202923                40.0      540.0              NaN  113585371       False   \n",
       "82112                 40.0        4.0           1995.0   65507848        True   \n",
       "43275                 40.0      512.0           1935.0  104185905        True   \n",
       "152273                40.0     1740.0           1986.0  110713049        True   \n",
       "35220                 40.0        2.0              NaN   83599326       False   \n",
       "264425                 2.4      529.0              NaN  107375790        True   \n",
       "251964                 NaN      810.0           1990.0  115704714        True   \n",
       "244899                40.0      478.0           1961.0  110484522       False   \n",
       "247865                40.0      632.0           1996.0  106797205        True   \n",
       "64453                  2.4      620.0           1982.0  113850887        True   \n",
       "26590                 40.0        NaN              NaN   94763921        True   \n",
       "\n",
       "        cellar  yearConstructedRange  baseRent  livingSpace        condition  \\\n",
       "48498     True                   3.0     600.0        50.00   mint_condition   \n",
       "72253     True                   4.0     680.0        69.00   mint_condition   \n",
       "100789   False                   3.0     300.0        27.00        well_kept   \n",
       "107377    True                   NaN     560.0        75.00              NaN   \n",
       "181497    True                   5.0     450.0        73.00        well_kept   \n",
       "262400    True                   2.0     660.0        66.00      refurbished   \n",
       "150943    True                   2.0     600.0        70.00        well_kept   \n",
       "123333   False                   2.0     399.0        73.00        well_kept   \n",
       "202923   False                   NaN     410.0        74.00              NaN   \n",
       "82112     True                   5.0     280.0        52.50        well_kept   \n",
       "43275     True                   1.0     378.0        61.00  fully_renovated   \n",
       "152273    True                   4.0    1280.0       150.00  fully_renovated   \n",
       "35220    False                   NaN     245.0        44.20        well_kept   \n",
       "264425    True                   NaN     424.0        46.39        well_kept   \n",
       "251964    True                   4.0     680.0        62.40              NaN   \n",
       "244899   False                   2.0     338.0        75.00        well_kept   \n",
       "247865   False                   5.0     494.0        52.00       negotiable   \n",
       "64453     True                   4.0     500.0        92.00        well_kept   \n",
       "26590    False                   NaN     570.0        40.00        well_kept   \n",
       "\n",
       "         lift  baseRentRange           typeOfFlat  geo_plz  noRooms  \\\n",
       "48498   False              4            apartment    83346      2.0   \n",
       "72253   False              5         ground_floor    83278      2.0   \n",
       "100789  False              1                other    65549      1.0   \n",
       "107377  False              4          roof_storey    42555      2.0   \n",
       "181497  False              3          roof_storey    50189      3.0   \n",
       "262400   True              5            apartment    47051      2.0   \n",
       "150943   True              4            apartment    41564      3.0   \n",
       "123333   True              2            apartment    26384      2.0   \n",
       "202923  False              3          roof_storey    42369      2.0   \n",
       "82112    True              1            apartment     1662      1.0   \n",
       "43275   False              2            apartment    39576      2.0   \n",
       "152273  False              7  raised_ground_floor    61231      5.0   \n",
       "35220   False              1                other    45888      1.5   \n",
       "264425  False              3            apartment    24229      2.0   \n",
       "251964  False              5            apartment    71032      2.5   \n",
       "244899  False              2            apartment    37688      3.0   \n",
       "247865  False              3            apartment    97297      2.0   \n",
       "64453   False              3  raised_ground_floor    56736      2.5   \n",
       "26590   False              4          roof_storey    68165      1.5   \n",
       "\n",
       "        thermalChar  floor  numberOfFloors  noRoomsRange  garden  \\\n",
       "48498           NaN    1.0           999.0             2   False   \n",
       "72253         102.0    0.0           999.0             2   False   \n",
       "100789        118.2    1.0           999.0             1   False   \n",
       "107377          NaN    2.0           800.0             2   False   \n",
       "181497          NaN    2.0           800.0             3   False   \n",
       "262400         65.0    2.0           730.0             2    True   \n",
       "150943        156.1    6.0           600.0             3   False   \n",
       "123333        119.0    1.0           594.0             2   False   \n",
       "202923          NaN    3.0           410.0             2   False   \n",
       "82112          79.6    2.0           400.0             1   False   \n",
       "43275          83.9    0.0           378.0             2    True   \n",
       "152273          NaN    1.0           370.0             5   False   \n",
       "35220           NaN    2.0           301.0             1   False   \n",
       "264425        114.0    1.0           252.0             2   False   \n",
       "251964          NaN    3.0           200.0             2   False   \n",
       "244899         97.0    2.0            99.0             3    True   \n",
       "247865         88.0    1.0            99.0             2   False   \n",
       "64453           NaN    1.0            92.0             2    True   \n",
       "26590         143.0    4.0            90.0             1   False   \n",
       "\n",
       "        livingSpaceRange                       regio2  \\\n",
       "48498                  2             Traunstein_Kreis   \n",
       "72253                  3             Traunstein_Kreis   \n",
       "100789                 1       Limburg_Weilburg_Kreis   \n",
       "107377                 3               Mettmann_Kreis   \n",
       "181497                 3             Rhein_Erft_Kreis   \n",
       "262400                 3                     Duisburg   \n",
       "150943                 3            Neuss_Rhein_Kreis   \n",
       "123333                 3                Wilhelmshaven   \n",
       "202923                 3                    Wuppertal   \n",
       "82112                  2                 Meißen_Kreis   \n",
       "43275                  3                Stendal_Kreis   \n",
       "152273                 6                Wetteraukreis   \n",
       "35220                  2                Gelsenkirchen   \n",
       "264425                 2  Rendsburg_Eckernförde_Kreis   \n",
       "251964                 3              Böblingen_Kreis   \n",
       "244899                 3                 Höxter_Kreis   \n",
       "247865                 2               Würzburg_Kreis   \n",
       "64453                  4          Mayen_Koblenz_Kreis   \n",
       "26590                  1                     Mannheim   \n",
       "\n",
       "                              regio3       date  \n",
       "48498                         Bergen 2019-10-01  \n",
       "72253                     Traunstein 2019-05-01  \n",
       "100789           Limburg_an_der_Lahn 2020-02-01  \n",
       "107377                       Velbert 2020-02-01  \n",
       "181497                       Elsdorf 2019-10-01  \n",
       "262400                      Altstadt 2018-09-01  \n",
       "150943                        Kaarst 2018-09-01  \n",
       "123333                       Heppens 2018-09-01  \n",
       "202923                      Ronsdorf 2019-10-01  \n",
       "82112                         Meißen 2019-10-01  \n",
       "43275                        Stendal 2018-09-01  \n",
       "152273                   Bad_Nauheim 2019-05-01  \n",
       "35220                  Bulmke_Hüllen 2020-02-01  \n",
       "264425                   Schwedeneck 2018-09-01  \n",
       "251964                     Böblingen 2020-02-01  \n",
       "244899                    Beverungen 2019-05-01  \n",
       "247865               Waldbüttelbrunn 2018-09-01  \n",
       "64453                     Kottenheim 2019-10-01  \n",
       "26590   Schwetzingerstadt_/_Oststadt 2018-09-01  "
      ]
     },
     "execution_count": 581,
     "metadata": {},
     "output_type": "execute_result"
    }
   ],
   "source": [
    "many_floors.sort_values(by = 'numberOfFloors', ascending = False)"
   ]
  },
  {
   "cell_type": "markdown",
   "metadata": {},
   "source": [
    "- There is no discernable pattern associated with why these records have high values for their numbers of floors. We will delete these records"
   ]
  },
  {
   "cell_type": "code",
   "execution_count": 575,
   "metadata": {},
   "outputs": [],
   "source": [
    "#Remove records with high numberOfFloors\n",
    "rentals = rentals[~(rentals.numberOfFloors > 56)]"
   ]
  },
  {
   "cell_type": "code",
   "execution_count": 577,
   "metadata": {
    "scrolled": false
   },
   "outputs": [
    {
     "data": {
      "image/png": "[encoded data removed]",
      "text/plain": [
       "<Figure size 432x288 with 1 Axes>"
      ]
     },
     "metadata": {
      "needs_background": "light"
     },
     "output_type": "display_data"
    }
   ],
   "source": [
    "#Review numberOfFloors\n",
    "_= rentals.numberOfFloors.hist()"
   ]
  },
  {
   "cell_type": "code",
   "execution_count": null,
   "metadata": {},
   "outputs": [],
   "source": []
  },
  {
   "cell_type": "code",
   "execution_count": null,
   "metadata": {},
   "outputs": [],
   "source": []
  },
  {
   "cell_type": "code",
   "execution_count": null,
   "metadata": {},
   "outputs": [],
   "source": []
  },
  {
   "cell_type": "code",
   "execution_count": 468,
   "metadata": {
    "scrolled": false
   },
   "outputs": [
    {
     "data": {
      "image/png": "[encoded data removed]",
      "text/plain": [
       "<Figure size 432x288 with 1 Axes>"
      ]
     },
     "metadata": {
      "needs_background": "light"
     },
     "output_type": "display_data"
    }
   ],
   "source": [
    "#Review serviceCharge\n",
    "_= rentals.serviceCharge.plot()\n",
    "_= plt.xlabel('Row number')\n",
    "_= plt.ylabel('serviceCharge')\n",
    "_= plt.title('serviceCharge per row')"
   ]
  },
  {
   "cell_type": "markdown",
   "metadata": {},
   "source": [
    "- We notice an outlier for a value above 140,000 euros. This corresponds to the max value fo serviceCharge of 146,118. We should review the record before deletion. "
   ]
  },
  {
   "cell_type": "code",
   "execution_count": 470,
   "metadata": {
    "scrolled": true
   },
   "outputs": [
    {
     "data": {
      "text/html": [
       "<div>\n",
       "<style scoped>\n",
       "    .dataframe tbody tr th:only-of-type {\n",
       "        vertical-align: middle;\n",
       "    }\n",
       "\n",
       "    .dataframe tbody tr th {\n",
       "        vertical-align: top;\n",
       "    }\n",
       "\n",
       "    .dataframe thead th {\n",
       "        text-align: right;\n",
       "    }\n",
       "</style>\n",
       "<table border=\"1\" class=\"dataframe\">\n",
       "  <thead>\n",
       "    <tr style=\"text-align: right;\">\n",
       "      <th></th>\n",
       "      <th>regio1</th>\n",
       "      <th>serviceCharge</th>\n",
       "      <th>heatingType</th>\n",
       "      <th>telekomTvOffer</th>\n",
       "      <th>newlyConst</th>\n",
       "      <th>balcony</th>\n",
       "      <th>picturecount</th>\n",
       "      <th>pricetrend</th>\n",
       "      <th>telekomUploadSpeed</th>\n",
       "      <th>totalRent</th>\n",
       "      <th>yearConstructed</th>\n",
       "      <th>scoutId</th>\n",
       "      <th>hasKitchen</th>\n",
       "      <th>cellar</th>\n",
       "      <th>yearConstructedRange</th>\n",
       "      <th>baseRent</th>\n",
       "      <th>livingSpace</th>\n",
       "      <th>condition</th>\n",
       "      <th>lift</th>\n",
       "      <th>baseRentRange</th>\n",
       "      <th>typeOfFlat</th>\n",
       "      <th>geo_plz</th>\n",
       "      <th>noRooms</th>\n",
       "      <th>thermalChar</th>\n",
       "      <th>floor</th>\n",
       "      <th>numberOfFloors</th>\n",
       "      <th>noRoomsRange</th>\n",
       "      <th>garden</th>\n",
       "      <th>livingSpaceRange</th>\n",
       "      <th>regio2</th>\n",
       "      <th>regio3</th>\n",
       "      <th>date</th>\n",
       "    </tr>\n",
       "  </thead>\n",
       "  <tbody>\n",
       "    <tr>\n",
       "      <th>25687</th>\n",
       "      <td>Nordrhein_Westfalen</td>\n",
       "      <td>146118.0</td>\n",
       "      <td>self_contained_central_heating</td>\n",
       "      <td>NaN</td>\n",
       "      <td>False</td>\n",
       "      <td>False</td>\n",
       "      <td>6</td>\n",
       "      <td>4.74</td>\n",
       "      <td>NaN</td>\n",
       "      <td>794.29</td>\n",
       "      <td>1928.0</td>\n",
       "      <td>110967960</td>\n",
       "      <td>False</td>\n",
       "      <td>True</td>\n",
       "      <td>1.0</td>\n",
       "      <td>648.29</td>\n",
       "      <td>117.87</td>\n",
       "      <td>modernized</td>\n",
       "      <td>False</td>\n",
       "      <td>5</td>\n",
       "      <td>apartment</td>\n",
       "      <td>44809</td>\n",
       "      <td>3.0</td>\n",
       "      <td>147.0</td>\n",
       "      <td>1.0</td>\n",
       "      <td>NaN</td>\n",
       "      <td>3</td>\n",
       "      <td>False</td>\n",
       "      <td>5</td>\n",
       "      <td>Bochum</td>\n",
       "      <td>Hamme</td>\n",
       "      <td>2019-05-01</td>\n",
       "    </tr>\n",
       "  </tbody>\n",
       "</table>\n",
       "</div>"
      ],
      "text/plain": [
       "                    regio1  serviceCharge                     heatingType  \\\n",
       "25687  Nordrhein_Westfalen       146118.0  self_contained_central_heating   \n",
       "\n",
       "      telekomTvOffer  newlyConst  balcony  picturecount  pricetrend  \\\n",
       "25687            NaN       False    False             6        4.74   \n",
       "\n",
       "       telekomUploadSpeed  totalRent  yearConstructed    scoutId  hasKitchen  \\\n",
       "25687                 NaN     794.29           1928.0  110967960       False   \n",
       "\n",
       "       cellar  yearConstructedRange  baseRent  livingSpace   condition   lift  \\\n",
       "25687    True                   1.0    648.29       117.87  modernized  False   \n",
       "\n",
       "       baseRentRange typeOfFlat  geo_plz  noRooms  thermalChar  floor  \\\n",
       "25687              5  apartment    44809      3.0        147.0    1.0   \n",
       "\n",
       "       numberOfFloors  noRoomsRange  garden  livingSpaceRange  regio2 regio3  \\\n",
       "25687             NaN             3   False                 5  Bochum  Hamme   \n",
       "\n",
       "            date  \n",
       "25687 2019-05-01  "
      ]
     },
     "execution_count": 470,
     "metadata": {},
     "output_type": "execute_result"
    }
   ],
   "source": [
    "#Review row with containing a serviceCharge of 146,118 euros\n",
    "rentals[rentals.serviceCharge == 146_118]"
   ]
  },
  {
   "cell_type": "markdown",
   "metadata": {},
   "source": [
    "- We note that the totalRent is 794.29 euros and baseRent is 648.29 euros. It doesn't make sense for the serviceCharge to be 146,188 euros. We will remove this row and review the distibution of serviceCharge"
   ]
  },
  {
   "cell_type": "code",
   "execution_count": 474,
   "metadata": {
    "scrolled": true
   },
   "outputs": [
    {
     "data": {
      "text/html": [
       "<div>\n",
       "<style scoped>\n",
       "    .dataframe tbody tr th:only-of-type {\n",
       "        vertical-align: middle;\n",
       "    }\n",
       "\n",
       "    .dataframe tbody tr th {\n",
       "        vertical-align: top;\n",
       "    }\n",
       "\n",
       "    .dataframe thead th {\n",
       "        text-align: right;\n",
       "    }\n",
       "</style>\n",
       "<table border=\"1\" class=\"dataframe\">\n",
       "  <thead>\n",
       "    <tr style=\"text-align: right;\">\n",
       "      <th></th>\n",
       "      <th>serviceCharge</th>\n",
       "      <th>totalRent</th>\n",
       "      <th>baseRent</th>\n",
       "    </tr>\n",
       "  </thead>\n",
       "  <tbody>\n",
       "    <tr>\n",
       "      <th>1311</th>\n",
       "      <td>1150.0</td>\n",
       "      <td>200.00</td>\n",
       "      <td>950.00</td>\n",
       "    </tr>\n",
       "    <tr>\n",
       "      <th>5885</th>\n",
       "      <td>730.0</td>\n",
       "      <td>130.00</td>\n",
       "      <td>600.00</td>\n",
       "    </tr>\n",
       "    <tr>\n",
       "      <th>24858</th>\n",
       "      <td>590.0</td>\n",
       "      <td>200.00</td>\n",
       "      <td>390.00</td>\n",
       "    </tr>\n",
       "    <tr>\n",
       "      <th>25687</th>\n",
       "      <td>146118.0</td>\n",
       "      <td>794.29</td>\n",
       "      <td>648.29</td>\n",
       "    </tr>\n",
       "    <tr>\n",
       "      <th>27086</th>\n",
       "      <td>1337.0</td>\n",
       "      <td>799.00</td>\n",
       "      <td>516.00</td>\n",
       "    </tr>\n",
       "    <tr>\n",
       "      <th>...</th>\n",
       "      <td>...</td>\n",
       "      <td>...</td>\n",
       "      <td>...</td>\n",
       "    </tr>\n",
       "    <tr>\n",
       "      <th>243082</th>\n",
       "      <td>152.0</td>\n",
       "      <td>1.00</td>\n",
       "      <td>459.00</td>\n",
       "    </tr>\n",
       "    <tr>\n",
       "      <th>243699</th>\n",
       "      <td>420.0</td>\n",
       "      <td>320.00</td>\n",
       "      <td>320.00</td>\n",
       "    </tr>\n",
       "    <tr>\n",
       "      <th>249171</th>\n",
       "      <td>1000.0</td>\n",
       "      <td>430.00</td>\n",
       "      <td>330.00</td>\n",
       "    </tr>\n",
       "    <tr>\n",
       "      <th>249754</th>\n",
       "      <td>150.0</td>\n",
       "      <td>1.30</td>\n",
       "      <td>960.00</td>\n",
       "    </tr>\n",
       "    <tr>\n",
       "      <th>263216</th>\n",
       "      <td>120.0</td>\n",
       "      <td>3.00</td>\n",
       "      <td>250.00</td>\n",
       "    </tr>\n",
       "  </tbody>\n",
       "</table>\n",
       "<p>69 rows × 3 columns</p>\n",
       "</div>"
      ],
      "text/plain": [
       "        serviceCharge  totalRent  baseRent\n",
       "1311           1150.0     200.00    950.00\n",
       "5885            730.0     130.00    600.00\n",
       "24858           590.0     200.00    390.00\n",
       "25687        146118.0     794.29    648.29\n",
       "27086          1337.0     799.00    516.00\n",
       "...               ...        ...       ...\n",
       "243082          152.0       1.00    459.00\n",
       "243699          420.0     320.00    320.00\n",
       "249171         1000.0     430.00    330.00\n",
       "249754          150.0       1.30    960.00\n",
       "263216          120.0       3.00    250.00\n",
       "\n",
       "[69 rows x 3 columns]"
      ]
     },
     "execution_count": 474,
     "metadata": {},
     "output_type": "execute_result"
    }
   ],
   "source": [
    "#Select rows where serviceCharge is greater than totalRent\n",
    "rentals.loc[(rentals.serviceCharge > rentals.totalRent) & (rentals.totalRent > 0),['serviceCharge','totalRent','baseRent']]\n",
    "\n"
   ]
  },
  {
   "cell_type": "markdown",
   "metadata": {},
   "source": [
    "- We observe that in some instances, the totalRent is 0. This maybe a typo because we also see positive values for baseRent. We will therefore not drop any more rows. "
   ]
  },
  {
   "cell_type": "code",
   "execution_count": 407,
   "metadata": {
    "scrolled": false
   },
   "outputs": [
    {
     "data": {
      "image/png": "[encoded data removed]",
      "text/plain": [
       "<Figure size 432x288 with 1 Axes>"
      ]
     },
     "metadata": {
      "needs_background": "light"
     },
     "output_type": "display_data"
    }
   ],
   "source": [
    "#Review serviceCharge\n",
    "_= sns.boxplot(x = 'serviceCharge', data = rentals)"
   ]
  },
  {
   "cell_type": "code",
   "execution_count": 480,
   "metadata": {},
   "outputs": [
    {
     "data": {
      "image/png": "[encoded data removed]",
      "text/plain": [
       "<Figure size 432x288 with 1 Axes>"
      ]
     },
     "metadata": {
      "needs_background": "light"
     },
     "output_type": "display_data"
    }
   ],
   "source": [
    "#Histogram of pricetrend\n",
    "_= rentals.pricetrend.hist()\n",
    "_= plt.xlabel('pricetred')\n",
    "_= plt.ylabel('count')\n",
    "_= plt.title('Distribution of pricetrend')\n"
   ]
  },
  {
   "cell_type": "code",
   "execution_count": 481,
   "metadata": {},
   "outputs": [
    {
     "data": {
      "image/png": "[encoded data removed]",
      "text/plain": [
       "<Figure size 432x288 with 1 Axes>"
      ]
     },
     "metadata": {
      "needs_background": "light"
     },
     "output_type": "display_data"
    }
   ],
   "source": [
    "#Histogram of telekomUploadSpeed\n",
    "_= rentals.telekomUploadSpeed.hist()\n",
    "_= plt.xlabel('telekomUploadSpeed')\n",
    "_= plt.ylabel('count')\n",
    "_= plt.title('Distribution of telekomUploadSpeed')"
   ]
  },
  {
   "cell_type": "code",
   "execution_count": null,
   "metadata": {},
   "outputs": [],
   "source": []
  },
  {
   "cell_type": "code",
   "execution_count": null,
   "metadata": {
    "scrolled": false
   },
   "outputs": [],
   "source": [
    "rentalsNum.hist(figsize = (15, 10))\n",
    "plt.subplots_adjust(hspace= 0.5)\n"
   ]
  },
  {
   "cell_type": "markdown",
   "metadata": {},
   "source": [
    "We note the following information from the data owner:\n",
    "- scoutId is an identifier for each rental listing. It has no relevance for analysis. This will be dropped.\n",
    "- pricetrend is metric determined by the data owner. There is no visibility to what this means. This will be dropped.\n",
    "- geo_plz should be an object because it is the zip code of each property\n",
    "- noRoomsRange is the histogram bin number corresponding to the noRooms. This is additional information we do not need. This will be dropped.\n",
    "- livngSpaceRange is the historgram bin number corresponding to livingSpace. This is additional information we do not need. This will be dropped.\n",
    "- baseRentRange is the historgram bin number corresponding to baseRent. This is additional information we do not need. This will be dropped."
   ]
  },
  {
   "cell_type": "code",
   "execution_count": null,
   "metadata": {
    "scrolled": true
   },
   "outputs": [],
   "source": [
    "rentalsNum.drop(columns = ['pricetrend','geo_plz','scoutId','noRoomsRange', 'livingSpaceRange', 'baseRentRange'], inplace = True)"
   ]
  },
  {
   "cell_type": "code",
   "execution_count": null,
   "metadata": {
    "scrolled": true
   },
   "outputs": [],
   "source": [
    "_= sns.boxplot(x = 'baseRent', data = rentalsNum)\n",
    "#We observe high monthly rent rates, going to 10bln euros. For now, we will restrict max rent to 50,000 euros\n",
    "# and min rent to 50 euros"
   ]
  },
  {
   "cell_type": "code",
   "execution_count": null,
   "metadata": {},
   "outputs": [],
   "source": [
    "_= sns.boxplot(x = 'livingSpace', data = rentalsNum)  \n",
    "#We observe units with large sizes. We will restrict the max unit area to 1000 sqm and min area to 10 sqm (parking lot). "
   ]
  },
  {
   "cell_type": "code",
   "execution_count": null,
   "metadata": {},
   "outputs": [],
   "source": [
    "_= sns.boxplot(x = 'noRooms', data = rentalsNum)\n",
    "#We observe units with many rooms. For now, we will restrict max number of rooms to 100 and min number of rooms to 1. "
   ]
  },
  {
   "cell_type": "code",
   "execution_count": null,
   "metadata": {},
   "outputs": [],
   "source": [
    "_= sns.boxplot(x = 'picturecount', data = rentalsNum)\n",
    "#We will restrict number of pictures to 50"
   ]
  },
  {
   "cell_type": "code",
   "execution_count": null,
   "metadata": {},
   "outputs": [],
   "source": [
    "_= sns.boxplot(x = 'serviceCharge', data = rentalsNum)\n",
    "#For now,we will restrict max serviceCharge to 10,000 euros"
   ]
  },
  {
   "cell_type": "code",
   "execution_count": null,
   "metadata": {
    "scrolled": true
   },
   "outputs": [],
   "source": [
    "_= sns.boxplot(x = 'telekomUploadSpeed', data = rentalsNum)"
   ]
  },
  {
   "cell_type": "code",
   "execution_count": null,
   "metadata": {},
   "outputs": [],
   "source": [
    "#Adding the restrictions \n",
    "rent = (rentalsNum.baseRent > 50) & (rentalsNum.baseRent < 4000)\n",
    "space = (rentalsNum.livingSpace > 10) & (rentalsNum.livingSpace < 300)\n",
    "rooms = (rentalsNum.noRooms > 1) & (rentalsNum.noRooms < 10)\n",
    "pictures = (rentalsNum.picturecount < 50)\n",
    "charge = (rentalsNum.serviceCharge < 1000)\n",
    "selectRows = rent & space & rooms & pictures & charge"
   ]
  },
  {
   "cell_type": "code",
   "execution_count": null,
   "metadata": {},
   "outputs": [],
   "source": [
    "#Including only select rows in our numeric dataframe\n",
    "rentalsNum = rentalsNum[selectRows]"
   ]
  },
  {
   "cell_type": "code",
   "execution_count": null,
   "metadata": {
    "scrolled": true
   },
   "outputs": [],
   "source": [
    "rentalsNum.hist(figsize = (15, 10))\n",
    "plt.subplots_adjust(hspace= 0.5)"
   ]
  },
  {
   "cell_type": "code",
   "execution_count": null,
   "metadata": {},
   "outputs": [],
   "source": [
    "#Including only select rows in our main dataframe\n",
    "rentals = rentals[selectRows]"
   ]
  },
  {
   "cell_type": "code",
   "execution_count": null,
   "metadata": {},
   "outputs": [],
   "source": [
    "#Dropping aforementioned columns\n",
    "rentals.drop(columns = ['pricetrend','scoutId','noRoomsRange','livingSpaceRange', 'baseRentRange'], inplace = True)"
   ]
  },
  {
   "cell_type": "code",
   "execution_count": null,
   "metadata": {},
   "outputs": [],
   "source": [
    "#Converting geo_plz to string\n",
    "rentals['geo_plz'] = rentals['geo_plz'].astype(str)"
   ]
  },
  {
   "cell_type": "code",
   "execution_count": null,
   "metadata": {
    "scrolled": true
   },
   "outputs": [],
   "source": [
    "rentals.info()\n",
    "\n"
   ]
  },
  {
   "cell_type": "code",
   "execution_count": null,
   "metadata": {},
   "outputs": [],
   "source": [
    "rentals.head()"
   ]
  },
  {
   "cell_type": "code",
   "execution_count": null,
   "metadata": {},
   "outputs": [],
   "source": [
    "datapath = 'C:\\\\Users\\\\zebin\\\\OneDrive\\\\Documents\\\\Education\\\\Data Science\\\\Springboard - Data Science\\\\Capstones\\\\Capstone_2\\\\german_apartment_rentals\\\\data\\\\processed'\n",
    "# renaming the output data directory and re-running this notebook, for example,\n",
    "# will recreate this (empty) directory and resave the data files.\n",
    "# NB this is not a substitute for a modern data pipeline, for which there are\n",
    "# various tools. However, for our purposes here, and often in a \"one off\" analysis,\n",
    "# this is useful because we have to deliberately move/delete our data in order\n",
    "# to overwrite it.\n",
    "if not os.path.exists(datapath):\n",
    "    os.mkdir(datapath)"
   ]
  },
  {
   "cell_type": "code",
   "execution_count": null,
   "metadata": {},
   "outputs": [],
   "source": [
    "datapath_rentals = os.path.join(datapath, 'rentals_cleaned.csv')\n",
    "if not os.path.exists(datapath_rentals):\n",
    "    rentals.to_csv(datapath_rentals, index=False)"
   ]
  }
 ],
 "metadata": {
  "kernelspec": {
   "display_name": "Python 3",
   "language": "python",
   "name": "python3"
  },
  "language_info": {
   "codemirror_mode": {
    "name": "ipython",
    "version": 3
   },
   "file_extension": ".py",
   "mimetype": "text/x-python",
   "name": "python",
   "nbconvert_exporter": "python",
   "pygments_lexer": "ipython3",
   "version": "3.8.3"
  }
 },
 "nbformat": 4,
 "nbformat_minor": 4
}
