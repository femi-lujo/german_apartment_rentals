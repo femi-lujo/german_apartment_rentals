{
 "cells": [
  {
   "cell_type": "markdown",
   "metadata": {},
   "source": [
    "# A. Data Wrangling"
   ]
  },
  {
   "cell_type": "markdown",
   "metadata": {},
   "source": [
    "# 1. Purpose of This Data Science Project"
   ]
  },
  {
   "cell_type": "markdown",
   "metadata": {},
   "source": [
    "The purpose of this data science project is to develop a pricing model for rents listed on rental postings. Property owners would benefit from listing their property at an appropriate price and in line with their position in the market. Owners would also benefit from insights to high-value versus low-value features."
   ]
  },
  {
   "cell_type": "markdown",
   "metadata": {},
   "source": [
    "# 2. Import Packages"
   ]
  },
  {
   "cell_type": "code",
   "execution_count": 124,
   "metadata": {},
   "outputs": [],
   "source": [
    "import numpy as np\n",
    "import pandas as pd\n",
    "import matplotlib.pyplot as plt\n",
    "import seaborn as sns\n",
    "import os\n",
    "pd.options.display.max_columns = None\n",
    "import missingno as msno\n",
    "import pandas_profiling\n",
    "from pandas_profiling.utils.cache import cache_file\n",
    "from collections import defaultdict"
   ]
  },
  {
   "cell_type": "markdown",
   "metadata": {},
   "source": [
    "# 3. Objectives of This Notebook"
   ]
  },
  {
   "cell_type": "markdown",
   "metadata": {},
   "source": [
    "- To determine if the data we have could be use to develop a pricing model\n",
    "    - Verify that there is an appropriate target feature\n",
    "    - Verify that there are potentially useful features\n",
    "- Verify that there are not fundamental issues with the data"
   ]
  },
  {
   "cell_type": "markdown",
   "metadata": {},
   "source": [
    "# 4. Loading Data"
   ]
  },
  {
   "cell_type": "code",
   "execution_count": 125,
   "metadata": {},
   "outputs": [],
   "source": [
    "immo_data= pd.read_csv('../data/raw/immo_data.csv')"
   ]
  },
  {
   "cell_type": "code",
   "execution_count": 126,
   "metadata": {},
   "outputs": [],
   "source": [
    "rentals = immo_data.copy()"
   ]
  },
  {
   "cell_type": "code",
   "execution_count": 127,
   "metadata": {
    "scrolled": false
   },
   "outputs": [
    {
     "name": "stdout",
     "output_type": "stream",
     "text": [
      "<class 'pandas.core.frame.DataFrame'>\n",
      "RangeIndex: 268850 entries, 0 to 268849\n",
      "Data columns (total 49 columns):\n",
      " #   Column                    Non-Null Count   Dtype  \n",
      "---  ------                    --------------   -----  \n",
      " 0   regio1                    268850 non-null  object \n",
      " 1   serviceCharge             261941 non-null  float64\n",
      " 2   heatingType               223994 non-null  object \n",
      " 3   telekomTvOffer            236231 non-null  object \n",
      " 4   telekomHybridUploadSpeed  45020 non-null   float64\n",
      " 5   newlyConst                268850 non-null  bool   \n",
      " 6   balcony                   268850 non-null  bool   \n",
      " 7   picturecount              268850 non-null  int64  \n",
      " 8   pricetrend                267018 non-null  float64\n",
      " 9   telekomUploadSpeed        235492 non-null  float64\n",
      " 10  totalRent                 228333 non-null  float64\n",
      " 11  yearConstructed           211805 non-null  float64\n",
      " 12  scoutId                   268850 non-null  int64  \n",
      " 13  noParkSpaces              93052 non-null   float64\n",
      " 14  firingTypes               211886 non-null  object \n",
      " 15  hasKitchen                268850 non-null  bool   \n",
      " 16  geo_bln                   268850 non-null  object \n",
      " 17  cellar                    268850 non-null  bool   \n",
      " 18  yearConstructedRange      211805 non-null  float64\n",
      " 19  baseRent                  268850 non-null  float64\n",
      " 20  houseNumber               197832 non-null  object \n",
      " 21  livingSpace               268850 non-null  float64\n",
      " 22  geo_krs                   268850 non-null  object \n",
      " 23  condition                 200361 non-null  object \n",
      " 24  interiorQual              156185 non-null  object \n",
      " 25  petsAllowed               154277 non-null  object \n",
      " 26  street                    268850 non-null  object \n",
      " 27  streetPlain               197837 non-null  object \n",
      " 28  lift                      268850 non-null  bool   \n",
      " 29  baseRentRange             268850 non-null  int64  \n",
      " 30  typeOfFlat                232236 non-null  object \n",
      " 31  geo_plz                   268850 non-null  int64  \n",
      " 32  noRooms                   268850 non-null  float64\n",
      " 33  thermalChar               162344 non-null  float64\n",
      " 34  floor                     217541 non-null  float64\n",
      " 35  numberOfFloors            171118 non-null  float64\n",
      " 36  noRoomsRange              268850 non-null  int64  \n",
      " 37  garden                    268850 non-null  bool   \n",
      " 38  livingSpaceRange          268850 non-null  int64  \n",
      " 39  regio2                    268850 non-null  object \n",
      " 40  regio3                    268850 non-null  object \n",
      " 41  description               249103 non-null  object \n",
      " 42  facilities                215926 non-null  object \n",
      " 43  heatingCosts              85518 non-null   float64\n",
      " 44  energyEfficiencyClass     77787 non-null   object \n",
      " 45  lastRefurbish             80711 non-null   float64\n",
      " 46  electricityBasePrice      46846 non-null   float64\n",
      " 47  electricityKwhPrice       46846 non-null   float64\n",
      " 48  date                      268850 non-null  object \n",
      "dtypes: bool(6), float64(18), int64(6), object(19)\n",
      "memory usage: 89.7+ MB\n"
     ]
    }
   ],
   "source": [
    "rentals.info()"
   ]
  },
  {
   "cell_type": "code",
   "execution_count": 128,
   "metadata": {
    "scrolled": false
   },
   "outputs": [
    {
     "data": {
      "text/html": [
       "<div>\n",
       "<style scoped>\n",
       "    .dataframe tbody tr th:only-of-type {\n",
       "        vertical-align: middle;\n",
       "    }\n",
       "\n",
       "    .dataframe tbody tr th {\n",
       "        vertical-align: top;\n",
       "    }\n",
       "\n",
       "    .dataframe thead th {\n",
       "        text-align: right;\n",
       "    }\n",
       "</style>\n",
       "<table border=\"1\" class=\"dataframe\">\n",
       "  <thead>\n",
       "    <tr style=\"text-align: right;\">\n",
       "      <th></th>\n",
       "      <th>regio1</th>\n",
       "      <th>serviceCharge</th>\n",
       "      <th>heatingType</th>\n",
       "      <th>telekomTvOffer</th>\n",
       "      <th>telekomHybridUploadSpeed</th>\n",
       "      <th>newlyConst</th>\n",
       "      <th>balcony</th>\n",
       "      <th>picturecount</th>\n",
       "      <th>pricetrend</th>\n",
       "      <th>telekomUploadSpeed</th>\n",
       "      <th>totalRent</th>\n",
       "      <th>yearConstructed</th>\n",
       "      <th>scoutId</th>\n",
       "      <th>noParkSpaces</th>\n",
       "      <th>firingTypes</th>\n",
       "      <th>hasKitchen</th>\n",
       "      <th>geo_bln</th>\n",
       "      <th>cellar</th>\n",
       "      <th>yearConstructedRange</th>\n",
       "      <th>baseRent</th>\n",
       "      <th>houseNumber</th>\n",
       "      <th>livingSpace</th>\n",
       "      <th>geo_krs</th>\n",
       "      <th>condition</th>\n",
       "      <th>interiorQual</th>\n",
       "      <th>petsAllowed</th>\n",
       "      <th>street</th>\n",
       "      <th>streetPlain</th>\n",
       "      <th>lift</th>\n",
       "      <th>baseRentRange</th>\n",
       "      <th>typeOfFlat</th>\n",
       "      <th>geo_plz</th>\n",
       "      <th>noRooms</th>\n",
       "      <th>thermalChar</th>\n",
       "      <th>floor</th>\n",
       "      <th>numberOfFloors</th>\n",
       "      <th>noRoomsRange</th>\n",
       "      <th>garden</th>\n",
       "      <th>livingSpaceRange</th>\n",
       "      <th>regio2</th>\n",
       "      <th>regio3</th>\n",
       "      <th>description</th>\n",
       "      <th>facilities</th>\n",
       "      <th>heatingCosts</th>\n",
       "      <th>energyEfficiencyClass</th>\n",
       "      <th>lastRefurbish</th>\n",
       "      <th>electricityBasePrice</th>\n",
       "      <th>electricityKwhPrice</th>\n",
       "      <th>date</th>\n",
       "    </tr>\n",
       "  </thead>\n",
       "  <tbody>\n",
       "    <tr>\n",
       "      <th>0</th>\n",
       "      <td>Nordrhein_Westfalen</td>\n",
       "      <td>245.00</td>\n",
       "      <td>central_heating</td>\n",
       "      <td>ONE_YEAR_FREE</td>\n",
       "      <td>NaN</td>\n",
       "      <td>False</td>\n",
       "      <td>False</td>\n",
       "      <td>6</td>\n",
       "      <td>4.62</td>\n",
       "      <td>10.0</td>\n",
       "      <td>840.0</td>\n",
       "      <td>1965.0</td>\n",
       "      <td>96107057</td>\n",
       "      <td>1.0</td>\n",
       "      <td>oil</td>\n",
       "      <td>False</td>\n",
       "      <td>Nordrhein_Westfalen</td>\n",
       "      <td>True</td>\n",
       "      <td>2.0</td>\n",
       "      <td>595.0</td>\n",
       "      <td>244</td>\n",
       "      <td>86.00</td>\n",
       "      <td>Dortmund</td>\n",
       "      <td>well_kept</td>\n",
       "      <td>normal</td>\n",
       "      <td>NaN</td>\n",
       "      <td>Sch&amp;uuml;ruferstra&amp;szlig;e</td>\n",
       "      <td>Schüruferstraße</td>\n",
       "      <td>False</td>\n",
       "      <td>4</td>\n",
       "      <td>ground_floor</td>\n",
       "      <td>44269</td>\n",
       "      <td>4.0</td>\n",
       "      <td>181.4</td>\n",
       "      <td>1.0</td>\n",
       "      <td>3.0</td>\n",
       "      <td>4</td>\n",
       "      <td>True</td>\n",
       "      <td>4</td>\n",
       "      <td>Dortmund</td>\n",
       "      <td>Schüren</td>\n",
       "      <td>Die ebenerdig zu erreichende Erdgeschosswohnun...</td>\n",
       "      <td>Die Wohnung ist mit Laminat ausgelegt. Das Bad...</td>\n",
       "      <td>NaN</td>\n",
       "      <td>NaN</td>\n",
       "      <td>NaN</td>\n",
       "      <td>NaN</td>\n",
       "      <td>NaN</td>\n",
       "      <td>May19</td>\n",
       "    </tr>\n",
       "    <tr>\n",
       "      <th>1</th>\n",
       "      <td>Rheinland_Pfalz</td>\n",
       "      <td>134.00</td>\n",
       "      <td>self_contained_central_heating</td>\n",
       "      <td>ONE_YEAR_FREE</td>\n",
       "      <td>NaN</td>\n",
       "      <td>False</td>\n",
       "      <td>True</td>\n",
       "      <td>8</td>\n",
       "      <td>3.47</td>\n",
       "      <td>10.0</td>\n",
       "      <td>NaN</td>\n",
       "      <td>1871.0</td>\n",
       "      <td>111378734</td>\n",
       "      <td>2.0</td>\n",
       "      <td>gas</td>\n",
       "      <td>False</td>\n",
       "      <td>Rheinland_Pfalz</td>\n",
       "      <td>False</td>\n",
       "      <td>1.0</td>\n",
       "      <td>800.0</td>\n",
       "      <td>NaN</td>\n",
       "      <td>89.00</td>\n",
       "      <td>Rhein_Pfalz_Kreis</td>\n",
       "      <td>refurbished</td>\n",
       "      <td>normal</td>\n",
       "      <td>no</td>\n",
       "      <td>no_information</td>\n",
       "      <td>NaN</td>\n",
       "      <td>False</td>\n",
       "      <td>5</td>\n",
       "      <td>ground_floor</td>\n",
       "      <td>67459</td>\n",
       "      <td>3.0</td>\n",
       "      <td>NaN</td>\n",
       "      <td>NaN</td>\n",
       "      <td>NaN</td>\n",
       "      <td>3</td>\n",
       "      <td>False</td>\n",
       "      <td>4</td>\n",
       "      <td>Rhein_Pfalz_Kreis</td>\n",
       "      <td>Böhl_Iggelheim</td>\n",
       "      <td>Alles neu macht der Mai – so kann es auch für ...</td>\n",
       "      <td>NaN</td>\n",
       "      <td>NaN</td>\n",
       "      <td>NaN</td>\n",
       "      <td>2019.0</td>\n",
       "      <td>NaN</td>\n",
       "      <td>NaN</td>\n",
       "      <td>May19</td>\n",
       "    </tr>\n",
       "    <tr>\n",
       "      <th>2</th>\n",
       "      <td>Sachsen</td>\n",
       "      <td>255.00</td>\n",
       "      <td>floor_heating</td>\n",
       "      <td>ONE_YEAR_FREE</td>\n",
       "      <td>10.0</td>\n",
       "      <td>True</td>\n",
       "      <td>True</td>\n",
       "      <td>8</td>\n",
       "      <td>2.72</td>\n",
       "      <td>2.4</td>\n",
       "      <td>1300.0</td>\n",
       "      <td>2019.0</td>\n",
       "      <td>113147523</td>\n",
       "      <td>1.0</td>\n",
       "      <td>NaN</td>\n",
       "      <td>False</td>\n",
       "      <td>Sachsen</td>\n",
       "      <td>True</td>\n",
       "      <td>9.0</td>\n",
       "      <td>965.0</td>\n",
       "      <td>4</td>\n",
       "      <td>83.80</td>\n",
       "      <td>Dresden</td>\n",
       "      <td>first_time_use</td>\n",
       "      <td>sophisticated</td>\n",
       "      <td>NaN</td>\n",
       "      <td>Turnerweg</td>\n",
       "      <td>Turnerweg</td>\n",
       "      <td>True</td>\n",
       "      <td>6</td>\n",
       "      <td>apartment</td>\n",
       "      <td>1097</td>\n",
       "      <td>3.0</td>\n",
       "      <td>NaN</td>\n",
       "      <td>3.0</td>\n",
       "      <td>4.0</td>\n",
       "      <td>3</td>\n",
       "      <td>False</td>\n",
       "      <td>4</td>\n",
       "      <td>Dresden</td>\n",
       "      <td>Äußere_Neustadt_Antonstadt</td>\n",
       "      <td>Der Neubau entsteht im Herzen der Dresdner Neu...</td>\n",
       "      <td>* 9 m² Balkon\\n* Bad mit bodengleicher Dusche,...</td>\n",
       "      <td>NaN</td>\n",
       "      <td>NaN</td>\n",
       "      <td>NaN</td>\n",
       "      <td>NaN</td>\n",
       "      <td>NaN</td>\n",
       "      <td>Oct19</td>\n",
       "    </tr>\n",
       "    <tr>\n",
       "      <th>3</th>\n",
       "      <td>Sachsen</td>\n",
       "      <td>58.15</td>\n",
       "      <td>district_heating</td>\n",
       "      <td>ONE_YEAR_FREE</td>\n",
       "      <td>NaN</td>\n",
       "      <td>False</td>\n",
       "      <td>True</td>\n",
       "      <td>9</td>\n",
       "      <td>1.53</td>\n",
       "      <td>40.0</td>\n",
       "      <td>NaN</td>\n",
       "      <td>1964.0</td>\n",
       "      <td>108890903</td>\n",
       "      <td>NaN</td>\n",
       "      <td>district_heating</td>\n",
       "      <td>False</td>\n",
       "      <td>Sachsen</td>\n",
       "      <td>False</td>\n",
       "      <td>2.0</td>\n",
       "      <td>343.0</td>\n",
       "      <td>35</td>\n",
       "      <td>58.15</td>\n",
       "      <td>Mittelsachsen_Kreis</td>\n",
       "      <td>NaN</td>\n",
       "      <td>NaN</td>\n",
       "      <td>NaN</td>\n",
       "      <td>Gl&amp;uuml;ck-Auf-Stra&amp;szlig;e</td>\n",
       "      <td>Glück-Auf-Straße</td>\n",
       "      <td>False</td>\n",
       "      <td>2</td>\n",
       "      <td>other</td>\n",
       "      <td>9599</td>\n",
       "      <td>3.0</td>\n",
       "      <td>86.0</td>\n",
       "      <td>3.0</td>\n",
       "      <td>NaN</td>\n",
       "      <td>3</td>\n",
       "      <td>False</td>\n",
       "      <td>2</td>\n",
       "      <td>Mittelsachsen_Kreis</td>\n",
       "      <td>Freiberg</td>\n",
       "      <td>Abseits von Lärm und Abgasen in Ihre neue Wohn...</td>\n",
       "      <td>NaN</td>\n",
       "      <td>87.23</td>\n",
       "      <td>NaN</td>\n",
       "      <td>NaN</td>\n",
       "      <td>NaN</td>\n",
       "      <td>NaN</td>\n",
       "      <td>May19</td>\n",
       "    </tr>\n",
       "    <tr>\n",
       "      <th>4</th>\n",
       "      <td>Bremen</td>\n",
       "      <td>138.00</td>\n",
       "      <td>self_contained_central_heating</td>\n",
       "      <td>NaN</td>\n",
       "      <td>NaN</td>\n",
       "      <td>False</td>\n",
       "      <td>True</td>\n",
       "      <td>19</td>\n",
       "      <td>2.46</td>\n",
       "      <td>NaN</td>\n",
       "      <td>903.0</td>\n",
       "      <td>1950.0</td>\n",
       "      <td>114751222</td>\n",
       "      <td>NaN</td>\n",
       "      <td>gas</td>\n",
       "      <td>False</td>\n",
       "      <td>Bremen</td>\n",
       "      <td>False</td>\n",
       "      <td>1.0</td>\n",
       "      <td>765.0</td>\n",
       "      <td>10</td>\n",
       "      <td>84.97</td>\n",
       "      <td>Bremen</td>\n",
       "      <td>refurbished</td>\n",
       "      <td>NaN</td>\n",
       "      <td>NaN</td>\n",
       "      <td>Hermann-Henrich-Meier-Allee</td>\n",
       "      <td>Hermann-Henrich-Meier-Allee</td>\n",
       "      <td>False</td>\n",
       "      <td>5</td>\n",
       "      <td>apartment</td>\n",
       "      <td>28213</td>\n",
       "      <td>3.0</td>\n",
       "      <td>188.9</td>\n",
       "      <td>1.0</td>\n",
       "      <td>NaN</td>\n",
       "      <td>3</td>\n",
       "      <td>False</td>\n",
       "      <td>4</td>\n",
       "      <td>Bremen</td>\n",
       "      <td>Neu_Schwachhausen</td>\n",
       "      <td>Es handelt sich hier um ein saniertes Mehrfami...</td>\n",
       "      <td>Diese Wohnung wurde neu saniert und ist wie fo...</td>\n",
       "      <td>NaN</td>\n",
       "      <td>NaN</td>\n",
       "      <td>NaN</td>\n",
       "      <td>NaN</td>\n",
       "      <td>NaN</td>\n",
       "      <td>Feb20</td>\n",
       "    </tr>\n",
       "  </tbody>\n",
       "</table>\n",
       "</div>"
      ],
      "text/plain": [
       "                regio1  serviceCharge                     heatingType  \\\n",
       "0  Nordrhein_Westfalen         245.00                 central_heating   \n",
       "1      Rheinland_Pfalz         134.00  self_contained_central_heating   \n",
       "2              Sachsen         255.00                   floor_heating   \n",
       "3              Sachsen          58.15                district_heating   \n",
       "4               Bremen         138.00  self_contained_central_heating   \n",
       "\n",
       "  telekomTvOffer  telekomHybridUploadSpeed  newlyConst  balcony  picturecount  \\\n",
       "0  ONE_YEAR_FREE                       NaN       False    False             6   \n",
       "1  ONE_YEAR_FREE                       NaN       False     True             8   \n",
       "2  ONE_YEAR_FREE                      10.0        True     True             8   \n",
       "3  ONE_YEAR_FREE                       NaN       False     True             9   \n",
       "4            NaN                       NaN       False     True            19   \n",
       "\n",
       "   pricetrend  telekomUploadSpeed  totalRent  yearConstructed    scoutId  \\\n",
       "0        4.62                10.0      840.0           1965.0   96107057   \n",
       "1        3.47                10.0        NaN           1871.0  111378734   \n",
       "2        2.72                 2.4     1300.0           2019.0  113147523   \n",
       "3        1.53                40.0        NaN           1964.0  108890903   \n",
       "4        2.46                 NaN      903.0           1950.0  114751222   \n",
       "\n",
       "   noParkSpaces       firingTypes  hasKitchen              geo_bln  cellar  \\\n",
       "0           1.0               oil       False  Nordrhein_Westfalen    True   \n",
       "1           2.0               gas       False      Rheinland_Pfalz   False   \n",
       "2           1.0               NaN       False              Sachsen    True   \n",
       "3           NaN  district_heating       False              Sachsen   False   \n",
       "4           NaN               gas       False               Bremen   False   \n",
       "\n",
       "   yearConstructedRange  baseRent houseNumber  livingSpace  \\\n",
       "0                   2.0     595.0         244        86.00   \n",
       "1                   1.0     800.0         NaN        89.00   \n",
       "2                   9.0     965.0           4        83.80   \n",
       "3                   2.0     343.0          35        58.15   \n",
       "4                   1.0     765.0          10        84.97   \n",
       "\n",
       "               geo_krs       condition   interiorQual petsAllowed  \\\n",
       "0             Dortmund       well_kept         normal         NaN   \n",
       "1    Rhein_Pfalz_Kreis     refurbished         normal          no   \n",
       "2              Dresden  first_time_use  sophisticated         NaN   \n",
       "3  Mittelsachsen_Kreis             NaN            NaN         NaN   \n",
       "4               Bremen     refurbished            NaN         NaN   \n",
       "\n",
       "                        street                  streetPlain   lift  \\\n",
       "0   Sch&uuml;ruferstra&szlig;e              Schüruferstraße  False   \n",
       "1               no_information                          NaN  False   \n",
       "2                    Turnerweg                    Turnerweg   True   \n",
       "3  Gl&uuml;ck-Auf-Stra&szlig;e             Glück-Auf-Straße  False   \n",
       "4  Hermann-Henrich-Meier-Allee  Hermann-Henrich-Meier-Allee  False   \n",
       "\n",
       "   baseRentRange    typeOfFlat  geo_plz  noRooms  thermalChar  floor  \\\n",
       "0              4  ground_floor    44269      4.0        181.4    1.0   \n",
       "1              5  ground_floor    67459      3.0          NaN    NaN   \n",
       "2              6     apartment     1097      3.0          NaN    3.0   \n",
       "3              2         other     9599      3.0         86.0    3.0   \n",
       "4              5     apartment    28213      3.0        188.9    1.0   \n",
       "\n",
       "   numberOfFloors  noRoomsRange  garden  livingSpaceRange  \\\n",
       "0             3.0             4    True                 4   \n",
       "1             NaN             3   False                 4   \n",
       "2             4.0             3   False                 4   \n",
       "3             NaN             3   False                 2   \n",
       "4             NaN             3   False                 4   \n",
       "\n",
       "                regio2                      regio3  \\\n",
       "0             Dortmund                     Schüren   \n",
       "1    Rhein_Pfalz_Kreis              Böhl_Iggelheim   \n",
       "2              Dresden  Äußere_Neustadt_Antonstadt   \n",
       "3  Mittelsachsen_Kreis                    Freiberg   \n",
       "4               Bremen           Neu_Schwachhausen   \n",
       "\n",
       "                                         description  \\\n",
       "0  Die ebenerdig zu erreichende Erdgeschosswohnun...   \n",
       "1  Alles neu macht der Mai – so kann es auch für ...   \n",
       "2  Der Neubau entsteht im Herzen der Dresdner Neu...   \n",
       "3  Abseits von Lärm und Abgasen in Ihre neue Wohn...   \n",
       "4  Es handelt sich hier um ein saniertes Mehrfami...   \n",
       "\n",
       "                                          facilities  heatingCosts  \\\n",
       "0  Die Wohnung ist mit Laminat ausgelegt. Das Bad...           NaN   \n",
       "1                                                NaN           NaN   \n",
       "2  * 9 m² Balkon\\n* Bad mit bodengleicher Dusche,...           NaN   \n",
       "3                                                NaN         87.23   \n",
       "4  Diese Wohnung wurde neu saniert und ist wie fo...           NaN   \n",
       "\n",
       "  energyEfficiencyClass  lastRefurbish  electricityBasePrice  \\\n",
       "0                   NaN            NaN                   NaN   \n",
       "1                   NaN         2019.0                   NaN   \n",
       "2                   NaN            NaN                   NaN   \n",
       "3                   NaN            NaN                   NaN   \n",
       "4                   NaN            NaN                   NaN   \n",
       "\n",
       "   electricityKwhPrice   date  \n",
       "0                  NaN  May19  \n",
       "1                  NaN  May19  \n",
       "2                  NaN  Oct19  \n",
       "3                  NaN  May19  \n",
       "4                  NaN  Feb20  "
      ]
     },
     "execution_count": 128,
     "metadata": {},
     "output_type": "execute_result"
    }
   ],
   "source": [
    "rentals.head()"
   ]
  },
  {
   "cell_type": "code",
   "execution_count": 129,
   "metadata": {},
   "outputs": [
    {
     "data": {
      "text/plain": [
       "(268850, 49)"
      ]
     },
     "execution_count": 129,
     "metadata": {},
     "output_type": "execute_result"
    }
   ],
   "source": [
    "rentals.shape"
   ]
  },
  {
   "cell_type": "markdown",
   "metadata": {},
   "source": [
    "- We observe that the dataframe has 49 features associated with 268,850 apartment records that have been put up for rent. \n",
    "- We note that there are various price-related features that will be examined to determine the appropriate target feature. For instance, we need to choose between totalRent and baseRent. Furthermore, we neet to determin the relationships between such features as heatingCosts and the possible target features of totalRent and baseRent.\n",
    "- The dataframe features comprise of 4 main datatypes, including 6 boolean, 18 float, 6 integer and 19 object datatypes. We would need to verfiy that these datatypes are accurate in the context of our goal of developing a price model for rent. We also note a varying level of quality associated with each feature in terms of how many records exist for the particular feature. We would need to deal with those features that have a lot of empty values. \n",
    "- Finally, we observe that the amount of memory used up by the dataframe is ~89, which is manageable. Higher capacity data-processing cloud computing technologies may not be necessary."
   ]
  },
  {
   "cell_type": "markdown",
   "metadata": {},
   "source": [
    "## 5. Reviewing the Data "
   ]
  },
  {
   "cell_type": "markdown",
   "metadata": {},
   "source": [
    "## Reviewing Missing Values"
   ]
  },
  {
   "cell_type": "code",
   "execution_count": 130,
   "metadata": {
    "scrolled": false
   },
   "outputs": [
    {
     "data": {
      "text/html": [
       "<div>\n",
       "<style scoped>\n",
       "    .dataframe tbody tr th:only-of-type {\n",
       "        vertical-align: middle;\n",
       "    }\n",
       "\n",
       "    .dataframe tbody tr th {\n",
       "        vertical-align: top;\n",
       "    }\n",
       "\n",
       "    .dataframe thead th {\n",
       "        text-align: right;\n",
       "    }\n",
       "</style>\n",
       "<table border=\"1\" class=\"dataframe\">\n",
       "  <thead>\n",
       "    <tr style=\"text-align: right;\">\n",
       "      <th></th>\n",
       "      <th>Count</th>\n",
       "      <th>%age total</th>\n",
       "    </tr>\n",
       "  </thead>\n",
       "  <tbody>\n",
       "    <tr>\n",
       "      <th>telekomHybridUploadSpeed</th>\n",
       "      <td>223830</td>\n",
       "      <td>83.254603</td>\n",
       "    </tr>\n",
       "    <tr>\n",
       "      <th>electricityKwhPrice</th>\n",
       "      <td>222004</td>\n",
       "      <td>82.575414</td>\n",
       "    </tr>\n",
       "    <tr>\n",
       "      <th>electricityBasePrice</th>\n",
       "      <td>222004</td>\n",
       "      <td>82.575414</td>\n",
       "    </tr>\n",
       "    <tr>\n",
       "      <th>energyEfficiencyClass</th>\n",
       "      <td>191063</td>\n",
       "      <td>71.066766</td>\n",
       "    </tr>\n",
       "    <tr>\n",
       "      <th>lastRefurbish</th>\n",
       "      <td>188139</td>\n",
       "      <td>69.979171</td>\n",
       "    </tr>\n",
       "    <tr>\n",
       "      <th>heatingCosts</th>\n",
       "      <td>183332</td>\n",
       "      <td>68.191185</td>\n",
       "    </tr>\n",
       "    <tr>\n",
       "      <th>noParkSpaces</th>\n",
       "      <td>175798</td>\n",
       "      <td>65.388879</td>\n",
       "    </tr>\n",
       "    <tr>\n",
       "      <th>petsAllowed</th>\n",
       "      <td>114573</td>\n",
       "      <td>42.615957</td>\n",
       "    </tr>\n",
       "    <tr>\n",
       "      <th>interiorQual</th>\n",
       "      <td>112665</td>\n",
       "      <td>41.906267</td>\n",
       "    </tr>\n",
       "    <tr>\n",
       "      <th>thermalChar</th>\n",
       "      <td>106506</td>\n",
       "      <td>39.615399</td>\n",
       "    </tr>\n",
       "    <tr>\n",
       "      <th>numberOfFloors</th>\n",
       "      <td>97732</td>\n",
       "      <td>36.351869</td>\n",
       "    </tr>\n",
       "    <tr>\n",
       "      <th>houseNumber</th>\n",
       "      <td>71018</td>\n",
       "      <td>26.415473</td>\n",
       "    </tr>\n",
       "    <tr>\n",
       "      <th>streetPlain</th>\n",
       "      <td>71013</td>\n",
       "      <td>26.413614</td>\n",
       "    </tr>\n",
       "    <tr>\n",
       "      <th>condition</th>\n",
       "      <td>68489</td>\n",
       "      <td>25.474800</td>\n",
       "    </tr>\n",
       "    <tr>\n",
       "      <th>yearConstructed</th>\n",
       "      <td>57045</td>\n",
       "      <td>21.218151</td>\n",
       "    </tr>\n",
       "    <tr>\n",
       "      <th>yearConstructedRange</th>\n",
       "      <td>57045</td>\n",
       "      <td>21.218151</td>\n",
       "    </tr>\n",
       "    <tr>\n",
       "      <th>firingTypes</th>\n",
       "      <td>56964</td>\n",
       "      <td>21.188023</td>\n",
       "    </tr>\n",
       "    <tr>\n",
       "      <th>facilities</th>\n",
       "      <td>52924</td>\n",
       "      <td>19.685326</td>\n",
       "    </tr>\n",
       "    <tr>\n",
       "      <th>floor</th>\n",
       "      <td>51309</td>\n",
       "      <td>19.084620</td>\n",
       "    </tr>\n",
       "    <tr>\n",
       "      <th>heatingType</th>\n",
       "      <td>44856</td>\n",
       "      <td>16.684397</td>\n",
       "    </tr>\n",
       "    <tr>\n",
       "      <th>totalRent</th>\n",
       "      <td>40517</td>\n",
       "      <td>15.070485</td>\n",
       "    </tr>\n",
       "    <tr>\n",
       "      <th>typeOfFlat</th>\n",
       "      <td>36614</td>\n",
       "      <td>13.618747</td>\n",
       "    </tr>\n",
       "    <tr>\n",
       "      <th>telekomUploadSpeed</th>\n",
       "      <td>33358</td>\n",
       "      <td>12.407662</td>\n",
       "    </tr>\n",
       "    <tr>\n",
       "      <th>telekomTvOffer</th>\n",
       "      <td>32619</td>\n",
       "      <td>12.132788</td>\n",
       "    </tr>\n",
       "    <tr>\n",
       "      <th>description</th>\n",
       "      <td>19747</td>\n",
       "      <td>7.344988</td>\n",
       "    </tr>\n",
       "    <tr>\n",
       "      <th>serviceCharge</th>\n",
       "      <td>6909</td>\n",
       "      <td>2.569834</td>\n",
       "    </tr>\n",
       "    <tr>\n",
       "      <th>pricetrend</th>\n",
       "      <td>1832</td>\n",
       "      <td>0.681421</td>\n",
       "    </tr>\n",
       "    <tr>\n",
       "      <th>regio3</th>\n",
       "      <td>0</td>\n",
       "      <td>0.000000</td>\n",
       "    </tr>\n",
       "    <tr>\n",
       "      <th>regio2</th>\n",
       "      <td>0</td>\n",
       "      <td>0.000000</td>\n",
       "    </tr>\n",
       "    <tr>\n",
       "      <th>livingSpaceRange</th>\n",
       "      <td>0</td>\n",
       "      <td>0.000000</td>\n",
       "    </tr>\n",
       "    <tr>\n",
       "      <th>garden</th>\n",
       "      <td>0</td>\n",
       "      <td>0.000000</td>\n",
       "    </tr>\n",
       "    <tr>\n",
       "      <th>noRoomsRange</th>\n",
       "      <td>0</td>\n",
       "      <td>0.000000</td>\n",
       "    </tr>\n",
       "    <tr>\n",
       "      <th>regio1</th>\n",
       "      <td>0</td>\n",
       "      <td>0.000000</td>\n",
       "    </tr>\n",
       "    <tr>\n",
       "      <th>noRooms</th>\n",
       "      <td>0</td>\n",
       "      <td>0.000000</td>\n",
       "    </tr>\n",
       "    <tr>\n",
       "      <th>geo_plz</th>\n",
       "      <td>0</td>\n",
       "      <td>0.000000</td>\n",
       "    </tr>\n",
       "    <tr>\n",
       "      <th>baseRentRange</th>\n",
       "      <td>0</td>\n",
       "      <td>0.000000</td>\n",
       "    </tr>\n",
       "    <tr>\n",
       "      <th>lift</th>\n",
       "      <td>0</td>\n",
       "      <td>0.000000</td>\n",
       "    </tr>\n",
       "    <tr>\n",
       "      <th>street</th>\n",
       "      <td>0</td>\n",
       "      <td>0.000000</td>\n",
       "    </tr>\n",
       "    <tr>\n",
       "      <th>geo_krs</th>\n",
       "      <td>0</td>\n",
       "      <td>0.000000</td>\n",
       "    </tr>\n",
       "    <tr>\n",
       "      <th>livingSpace</th>\n",
       "      <td>0</td>\n",
       "      <td>0.000000</td>\n",
       "    </tr>\n",
       "    <tr>\n",
       "      <th>baseRent</th>\n",
       "      <td>0</td>\n",
       "      <td>0.000000</td>\n",
       "    </tr>\n",
       "    <tr>\n",
       "      <th>cellar</th>\n",
       "      <td>0</td>\n",
       "      <td>0.000000</td>\n",
       "    </tr>\n",
       "    <tr>\n",
       "      <th>geo_bln</th>\n",
       "      <td>0</td>\n",
       "      <td>0.000000</td>\n",
       "    </tr>\n",
       "    <tr>\n",
       "      <th>hasKitchen</th>\n",
       "      <td>0</td>\n",
       "      <td>0.000000</td>\n",
       "    </tr>\n",
       "    <tr>\n",
       "      <th>scoutId</th>\n",
       "      <td>0</td>\n",
       "      <td>0.000000</td>\n",
       "    </tr>\n",
       "    <tr>\n",
       "      <th>picturecount</th>\n",
       "      <td>0</td>\n",
       "      <td>0.000000</td>\n",
       "    </tr>\n",
       "    <tr>\n",
       "      <th>balcony</th>\n",
       "      <td>0</td>\n",
       "      <td>0.000000</td>\n",
       "    </tr>\n",
       "    <tr>\n",
       "      <th>newlyConst</th>\n",
       "      <td>0</td>\n",
       "      <td>0.000000</td>\n",
       "    </tr>\n",
       "    <tr>\n",
       "      <th>date</th>\n",
       "      <td>0</td>\n",
       "      <td>0.000000</td>\n",
       "    </tr>\n",
       "  </tbody>\n",
       "</table>\n",
       "</div>"
      ],
      "text/plain": [
       "                           Count  %age total\n",
       "telekomHybridUploadSpeed  223830   83.254603\n",
       "electricityKwhPrice       222004   82.575414\n",
       "electricityBasePrice      222004   82.575414\n",
       "energyEfficiencyClass     191063   71.066766\n",
       "lastRefurbish             188139   69.979171\n",
       "heatingCosts              183332   68.191185\n",
       "noParkSpaces              175798   65.388879\n",
       "petsAllowed               114573   42.615957\n",
       "interiorQual              112665   41.906267\n",
       "thermalChar               106506   39.615399\n",
       "numberOfFloors             97732   36.351869\n",
       "houseNumber                71018   26.415473\n",
       "streetPlain                71013   26.413614\n",
       "condition                  68489   25.474800\n",
       "yearConstructed            57045   21.218151\n",
       "yearConstructedRange       57045   21.218151\n",
       "firingTypes                56964   21.188023\n",
       "facilities                 52924   19.685326\n",
       "floor                      51309   19.084620\n",
       "heatingType                44856   16.684397\n",
       "totalRent                  40517   15.070485\n",
       "typeOfFlat                 36614   13.618747\n",
       "telekomUploadSpeed         33358   12.407662\n",
       "telekomTvOffer             32619   12.132788\n",
       "description                19747    7.344988\n",
       "serviceCharge               6909    2.569834\n",
       "pricetrend                  1832    0.681421\n",
       "regio3                         0    0.000000\n",
       "regio2                         0    0.000000\n",
       "livingSpaceRange               0    0.000000\n",
       "garden                         0    0.000000\n",
       "noRoomsRange                   0    0.000000\n",
       "regio1                         0    0.000000\n",
       "noRooms                        0    0.000000\n",
       "geo_plz                        0    0.000000\n",
       "baseRentRange                  0    0.000000\n",
       "lift                           0    0.000000\n",
       "street                         0    0.000000\n",
       "geo_krs                        0    0.000000\n",
       "livingSpace                    0    0.000000\n",
       "baseRent                       0    0.000000\n",
       "cellar                         0    0.000000\n",
       "geo_bln                        0    0.000000\n",
       "hasKitchen                     0    0.000000\n",
       "scoutId                        0    0.000000\n",
       "picturecount                   0    0.000000\n",
       "balcony                        0    0.000000\n",
       "newlyConst                     0    0.000000\n",
       "date                           0    0.000000"
      ]
     },
     "execution_count": 130,
     "metadata": {},
     "output_type": "execute_result"
    }
   ],
   "source": [
    "#To determine counts and percentage of valid entries\n",
    "missing = pd.concat([rentals.isnull().sum(), rentals.isnull().mean() * 100], axis = 1)\n",
    "missing.columns = ['Count', '%age total']\n",
    "missing.sort_values(by = 'Count', ascending = False)"
   ]
  },
  {
   "cell_type": "code",
   "execution_count": 131,
   "metadata": {},
   "outputs": [
    {
     "data": {
      "text/plain": [
       "<matplotlib.axes._subplots.AxesSubplot at 0x1c61ce35790>"
      ]
     },
     "execution_count": 131,
     "metadata": {},
     "output_type": "execute_result"
    },
    {
     "data": {
      "image/png": "[encoded data removed]",
      "text/plain": [
       "<Figure size 1800x720 with 2 Axes>"
      ]
     },
     "metadata": {
      "needs_background": "light"
     },
     "output_type": "display_data"
    }
   ],
   "source": [
    "msno.matrix(rentals)"
   ]
  },
  {
   "cell_type": "code",
   "execution_count": 132,
   "metadata": {},
   "outputs": [],
   "source": [
    "#Features with missing values\n",
    "mssgCols = rentals.columns[rentals.isna().any()]"
   ]
  },
  {
   "cell_type": "code",
   "execution_count": 133,
   "metadata": {},
   "outputs": [],
   "source": [
    "mssgNumeric = rentals[mssgCols].select_dtypes(['int16', 'int32', 'int64', 'float16', 'float32', 'float64'])"
   ]
  },
  {
   "cell_type": "code",
   "execution_count": 134,
   "metadata": {},
   "outputs": [
    {
     "data": {
      "text/html": [
       "<div>\n",
       "<style scoped>\n",
       "    .dataframe tbody tr th:only-of-type {\n",
       "        vertical-align: middle;\n",
       "    }\n",
       "\n",
       "    .dataframe tbody tr th {\n",
       "        vertical-align: top;\n",
       "    }\n",
       "\n",
       "    .dataframe thead th {\n",
       "        text-align: right;\n",
       "    }\n",
       "</style>\n",
       "<table border=\"1\" class=\"dataframe\">\n",
       "  <thead>\n",
       "    <tr style=\"text-align: right;\">\n",
       "      <th></th>\n",
       "      <th>serviceCharge</th>\n",
       "      <th>telekomHybridUploadSpeed</th>\n",
       "      <th>pricetrend</th>\n",
       "      <th>telekomUploadSpeed</th>\n",
       "      <th>totalRent</th>\n",
       "      <th>yearConstructed</th>\n",
       "      <th>noParkSpaces</th>\n",
       "      <th>yearConstructedRange</th>\n",
       "      <th>thermalChar</th>\n",
       "      <th>floor</th>\n",
       "      <th>numberOfFloors</th>\n",
       "      <th>heatingCosts</th>\n",
       "      <th>lastRefurbish</th>\n",
       "      <th>electricityBasePrice</th>\n",
       "      <th>electricityKwhPrice</th>\n",
       "    </tr>\n",
       "  </thead>\n",
       "  <tbody>\n",
       "    <tr>\n",
       "      <th>0</th>\n",
       "      <td>245.0</td>\n",
       "      <td>NaN</td>\n",
       "      <td>4.62</td>\n",
       "      <td>10.0</td>\n",
       "      <td>840.0</td>\n",
       "      <td>1965.0</td>\n",
       "      <td>1.0</td>\n",
       "      <td>2.0</td>\n",
       "      <td>181.4</td>\n",
       "      <td>1.0</td>\n",
       "      <td>3.0</td>\n",
       "      <td>NaN</td>\n",
       "      <td>NaN</td>\n",
       "      <td>NaN</td>\n",
       "      <td>NaN</td>\n",
       "    </tr>\n",
       "    <tr>\n",
       "      <th>1</th>\n",
       "      <td>134.0</td>\n",
       "      <td>NaN</td>\n",
       "      <td>3.47</td>\n",
       "      <td>10.0</td>\n",
       "      <td>NaN</td>\n",
       "      <td>1871.0</td>\n",
       "      <td>2.0</td>\n",
       "      <td>1.0</td>\n",
       "      <td>NaN</td>\n",
       "      <td>NaN</td>\n",
       "      <td>NaN</td>\n",
       "      <td>NaN</td>\n",
       "      <td>2019.0</td>\n",
       "      <td>NaN</td>\n",
       "      <td>NaN</td>\n",
       "    </tr>\n",
       "  </tbody>\n",
       "</table>\n",
       "</div>"
      ],
      "text/plain": [
       "   serviceCharge  telekomHybridUploadSpeed  pricetrend  telekomUploadSpeed  \\\n",
       "0          245.0                       NaN        4.62                10.0   \n",
       "1          134.0                       NaN        3.47                10.0   \n",
       "\n",
       "   totalRent  yearConstructed  noParkSpaces  yearConstructedRange  \\\n",
       "0      840.0           1965.0           1.0                   2.0   \n",
       "1        NaN           1871.0           2.0                   1.0   \n",
       "\n",
       "   thermalChar  floor  numberOfFloors  heatingCosts  lastRefurbish  \\\n",
       "0        181.4    1.0             3.0           NaN            NaN   \n",
       "1          NaN    NaN             NaN           NaN         2019.0   \n",
       "\n",
       "   electricityBasePrice  electricityKwhPrice  \n",
       "0                   NaN                  NaN  \n",
       "1                   NaN                  NaN  "
      ]
     },
     "execution_count": 134,
     "metadata": {},
     "output_type": "execute_result"
    }
   ],
   "source": [
    "mssgNumeric.head(2)"
   ]
  },
  {
   "cell_type": "code",
   "execution_count": 135,
   "metadata": {},
   "outputs": [],
   "source": [
    "mssgCat = rentals[mssgCols].select_dtypes('object')"
   ]
  },
  {
   "cell_type": "code",
   "execution_count": 136,
   "metadata": {
    "scrolled": true
   },
   "outputs": [
    {
     "data": {
      "text/html": [
       "<div>\n",
       "<style scoped>\n",
       "    .dataframe tbody tr th:only-of-type {\n",
       "        vertical-align: middle;\n",
       "    }\n",
       "\n",
       "    .dataframe tbody tr th {\n",
       "        vertical-align: top;\n",
       "    }\n",
       "\n",
       "    .dataframe thead th {\n",
       "        text-align: right;\n",
       "    }\n",
       "</style>\n",
       "<table border=\"1\" class=\"dataframe\">\n",
       "  <thead>\n",
       "    <tr style=\"text-align: right;\">\n",
       "      <th></th>\n",
       "      <th>heatingType</th>\n",
       "      <th>telekomTvOffer</th>\n",
       "      <th>firingTypes</th>\n",
       "      <th>houseNumber</th>\n",
       "      <th>condition</th>\n",
       "      <th>interiorQual</th>\n",
       "      <th>petsAllowed</th>\n",
       "      <th>streetPlain</th>\n",
       "      <th>typeOfFlat</th>\n",
       "      <th>description</th>\n",
       "      <th>facilities</th>\n",
       "      <th>energyEfficiencyClass</th>\n",
       "    </tr>\n",
       "  </thead>\n",
       "  <tbody>\n",
       "    <tr>\n",
       "      <th>0</th>\n",
       "      <td>central_heating</td>\n",
       "      <td>ONE_YEAR_FREE</td>\n",
       "      <td>oil</td>\n",
       "      <td>244</td>\n",
       "      <td>well_kept</td>\n",
       "      <td>normal</td>\n",
       "      <td>NaN</td>\n",
       "      <td>Schüruferstraße</td>\n",
       "      <td>ground_floor</td>\n",
       "      <td>Die ebenerdig zu erreichende Erdgeschosswohnun...</td>\n",
       "      <td>Die Wohnung ist mit Laminat ausgelegt. Das Bad...</td>\n",
       "      <td>NaN</td>\n",
       "    </tr>\n",
       "    <tr>\n",
       "      <th>1</th>\n",
       "      <td>self_contained_central_heating</td>\n",
       "      <td>ONE_YEAR_FREE</td>\n",
       "      <td>gas</td>\n",
       "      <td>NaN</td>\n",
       "      <td>refurbished</td>\n",
       "      <td>normal</td>\n",
       "      <td>no</td>\n",
       "      <td>NaN</td>\n",
       "      <td>ground_floor</td>\n",
       "      <td>Alles neu macht der Mai – so kann es auch für ...</td>\n",
       "      <td>NaN</td>\n",
       "      <td>NaN</td>\n",
       "    </tr>\n",
       "  </tbody>\n",
       "</table>\n",
       "</div>"
      ],
      "text/plain": [
       "                      heatingType telekomTvOffer firingTypes houseNumber  \\\n",
       "0                 central_heating  ONE_YEAR_FREE         oil         244   \n",
       "1  self_contained_central_heating  ONE_YEAR_FREE         gas         NaN   \n",
       "\n",
       "     condition interiorQual petsAllowed      streetPlain    typeOfFlat  \\\n",
       "0    well_kept       normal         NaN  Schüruferstraße  ground_floor   \n",
       "1  refurbished       normal          no              NaN  ground_floor   \n",
       "\n",
       "                                         description  \\\n",
       "0  Die ebenerdig zu erreichende Erdgeschosswohnun...   \n",
       "1  Alles neu macht der Mai – so kann es auch für ...   \n",
       "\n",
       "                                          facilities energyEfficiencyClass  \n",
       "0  Die Wohnung ist mit Laminat ausgelegt. Das Bad...                   NaN  \n",
       "1                                                NaN                   NaN  "
      ]
     },
     "execution_count": 136,
     "metadata": {},
     "output_type": "execute_result"
    }
   ],
   "source": [
    "mssgCat.head(2)"
   ]
  },
  {
   "cell_type": "markdown",
   "metadata": {},
   "source": [
    "## Reviewing Categorical Features with Missing Values "
   ]
  },
  {
   "cell_type": "code",
   "execution_count": 137,
   "metadata": {},
   "outputs": [
    {
     "data": {
      "text/html": [
       "<div>\n",
       "<style scoped>\n",
       "    .dataframe tbody tr th:only-of-type {\n",
       "        vertical-align: middle;\n",
       "    }\n",
       "\n",
       "    .dataframe tbody tr th {\n",
       "        vertical-align: top;\n",
       "    }\n",
       "\n",
       "    .dataframe thead th {\n",
       "        text-align: right;\n",
       "    }\n",
       "</style>\n",
       "<table border=\"1\" class=\"dataframe\">\n",
       "  <thead>\n",
       "    <tr style=\"text-align: right;\">\n",
       "      <th></th>\n",
       "      <th>heatingType</th>\n",
       "      <th>telekomTvOffer</th>\n",
       "      <th>firingTypes</th>\n",
       "      <th>houseNumber</th>\n",
       "      <th>condition</th>\n",
       "      <th>interiorQual</th>\n",
       "      <th>petsAllowed</th>\n",
       "      <th>streetPlain</th>\n",
       "      <th>typeOfFlat</th>\n",
       "      <th>description</th>\n",
       "      <th>facilities</th>\n",
       "      <th>energyEfficiencyClass</th>\n",
       "    </tr>\n",
       "  </thead>\n",
       "  <tbody>\n",
       "    <tr>\n",
       "      <th>count</th>\n",
       "      <td>223994</td>\n",
       "      <td>236231</td>\n",
       "      <td>211886</td>\n",
       "      <td>197832</td>\n",
       "      <td>200361</td>\n",
       "      <td>156185</td>\n",
       "      <td>154277</td>\n",
       "      <td>197837</td>\n",
       "      <td>232236</td>\n",
       "      <td>249103</td>\n",
       "      <td>215926</td>\n",
       "      <td>77787</td>\n",
       "    </tr>\n",
       "    <tr>\n",
       "      <th>unique</th>\n",
       "      <td>13</td>\n",
       "      <td>3</td>\n",
       "      <td>132</td>\n",
       "      <td>5510</td>\n",
       "      <td>10</td>\n",
       "      <td>4</td>\n",
       "      <td>3</td>\n",
       "      <td>54490</td>\n",
       "      <td>10</td>\n",
       "      <td>212621</td>\n",
       "      <td>189526</td>\n",
       "      <td>10</td>\n",
       "    </tr>\n",
       "    <tr>\n",
       "      <th>top</th>\n",
       "      <td>central_heating</td>\n",
       "      <td>ONE_YEAR_FREE</td>\n",
       "      <td>gas</td>\n",
       "      <td>1</td>\n",
       "      <td>well_kept</td>\n",
       "      <td>normal</td>\n",
       "      <td>negotiable</td>\n",
       "      <td>Hauptstraße</td>\n",
       "      <td>apartment</td>\n",
       "      <td>+ MEIN GUENTZ - Quartier der Generationen\\r\\n+...</td>\n",
       "      <td>Laminat</td>\n",
       "      <td>C</td>\n",
       "    </tr>\n",
       "    <tr>\n",
       "      <th>freq</th>\n",
       "      <td>128977</td>\n",
       "      <td>227632</td>\n",
       "      <td>110899</td>\n",
       "      <td>7173</td>\n",
       "      <td>66591</td>\n",
       "      <td>81826</td>\n",
       "      <td>91970</td>\n",
       "      <td>911</td>\n",
       "      <td>131522</td>\n",
       "      <td>216</td>\n",
       "      <td>207</td>\n",
       "      <td>14613</td>\n",
       "    </tr>\n",
       "  </tbody>\n",
       "</table>\n",
       "</div>"
      ],
      "text/plain": [
       "            heatingType telekomTvOffer firingTypes houseNumber  condition  \\\n",
       "count            223994         236231      211886      197832     200361   \n",
       "unique               13              3         132        5510         10   \n",
       "top     central_heating  ONE_YEAR_FREE         gas           1  well_kept   \n",
       "freq             128977         227632      110899        7173      66591   \n",
       "\n",
       "       interiorQual petsAllowed  streetPlain typeOfFlat  \\\n",
       "count        156185      154277       197837     232236   \n",
       "unique            4           3        54490         10   \n",
       "top          normal  negotiable  Hauptstraße  apartment   \n",
       "freq          81826       91970          911     131522   \n",
       "\n",
       "                                              description facilities  \\\n",
       "count                                              249103     215926   \n",
       "unique                                             212621     189526   \n",
       "top     + MEIN GUENTZ - Quartier der Generationen\\r\\n+...    Laminat   \n",
       "freq                                                  216        207   \n",
       "\n",
       "       energyEfficiencyClass  \n",
       "count                  77787  \n",
       "unique                    10  \n",
       "top                        C  \n",
       "freq                   14613  "
      ]
     },
     "execution_count": 137,
     "metadata": {},
     "output_type": "execute_result"
    }
   ],
   "source": [
    "mssgCat.describe()"
   ]
  },
  {
   "cell_type": "markdown",
   "metadata": {},
   "source": [
    "- First, we notice that firingTypes (132), houseNumber(5510), streetPlain(54490), description (212621) and facilities (189526) have a lot of categories. We can take a closer look at these. "
   ]
  },
  {
   "cell_type": "code",
   "execution_count": 138,
   "metadata": {},
   "outputs": [
    {
     "data": {
      "text/html": [
       "<div>\n",
       "<style scoped>\n",
       "    .dataframe tbody tr th:only-of-type {\n",
       "        vertical-align: middle;\n",
       "    }\n",
       "\n",
       "    .dataframe tbody tr th {\n",
       "        vertical-align: top;\n",
       "    }\n",
       "\n",
       "    .dataframe thead th {\n",
       "        text-align: right;\n",
       "    }\n",
       "</style>\n",
       "<table border=\"1\" class=\"dataframe\">\n",
       "  <thead>\n",
       "    <tr style=\"text-align: right;\">\n",
       "      <th></th>\n",
       "      <th>firingTypes</th>\n",
       "      <th>houseNumber</th>\n",
       "      <th>streetPlain</th>\n",
       "      <th>description</th>\n",
       "      <th>facilities</th>\n",
       "    </tr>\n",
       "  </thead>\n",
       "  <tbody>\n",
       "    <tr>\n",
       "      <th>246005</th>\n",
       "      <td>natural_gas_light</td>\n",
       "      <td>24</td>\n",
       "      <td>Auf_der_Egge</td>\n",
       "      <td>In einem im Jahr 2001 errichteten 5-Parteien H...</td>\n",
       "      <td>-\\tEinbauküche\\n-\\tEchtholzfußböden\\n-\\tLoggia...</td>\n",
       "    </tr>\n",
       "    <tr>\n",
       "      <th>193460</th>\n",
       "      <td>NaN</td>\n",
       "      <td>27</td>\n",
       "      <td>Greizer_Straße</td>\n",
       "      <td>Es handelt sich um einen sanierten Plattenbau ...</td>\n",
       "      <td>- sofort bezugsfertig \\r\\n- geschmackvoll eing...</td>\n",
       "    </tr>\n",
       "    <tr>\n",
       "      <th>98416</th>\n",
       "      <td>gas</td>\n",
       "      <td>NaN</td>\n",
       "      <td>NaN</td>\n",
       "      <td>Das Mehrfamilienhaus liegt in Wittenborn. Der ...</td>\n",
       "      <td>- Einbauküche\\n- Duschbad\\n- Terrasse mit West...</td>\n",
       "    </tr>\n",
       "    <tr>\n",
       "      <th>169432</th>\n",
       "      <td>district_heating</td>\n",
       "      <td>19</td>\n",
       "      <td>Zur_Vegesacker_Fähre</td>\n",
       "      <td>Wir sind für Sie vor Ort: Mittwochs 14:00 - 17...</td>\n",
       "      <td>Türsprechanlage; Isolierverglasung; Warmwasser...</td>\n",
       "    </tr>\n",
       "    <tr>\n",
       "      <th>166674</th>\n",
       "      <td>gas</td>\n",
       "      <td>NaN</td>\n",
       "      <td>NaN</td>\n",
       "      <td>Die 70 m² große 3 Zimmer Wohnung über 2 Etagen...</td>\n",
       "      <td>NaN</td>\n",
       "    </tr>\n",
       "    <tr>\n",
       "      <th>86358</th>\n",
       "      <td>gas</td>\n",
       "      <td>101</td>\n",
       "      <td>August-Bebel-Straße</td>\n",
       "      <td>Bei der angebotenen Wohnung handelt es sich um...</td>\n",
       "      <td>- Laminatboden  - Bad mit Badewanne  - separat...</td>\n",
       "    </tr>\n",
       "    <tr>\n",
       "      <th>227428</th>\n",
       "      <td>oil</td>\n",
       "      <td>26</td>\n",
       "      <td>Weserstraße</td>\n",
       "      <td>Diese Wohnung befindet sich im Erdgeschoss (Ho...</td>\n",
       "      <td>- Dielenboden in den Wohn-/ und Schlafzimmern ...</td>\n",
       "    </tr>\n",
       "    <tr>\n",
       "      <th>75783</th>\n",
       "      <td>gas</td>\n",
       "      <td>29</td>\n",
       "      <td>Gelsenkirchener_Str.</td>\n",
       "      <td>Um Ihnen Ihr Zuhause angenehm und komfortabel ...</td>\n",
       "      <td>Kabelanschluss; Türsprechanlage; Isoliervergla...</td>\n",
       "    </tr>\n",
       "    <tr>\n",
       "      <th>218389</th>\n",
       "      <td>NaN</td>\n",
       "      <td>15</td>\n",
       "      <td>Bernhard-Lichtenberg-Weg</td>\n",
       "      <td>Das Mehrfamilienhaus befindet sich im Stadttei...</td>\n",
       "      <td>Diese 2 - Raum-Wohnung in der 3. Etage verfueg...</td>\n",
       "    </tr>\n",
       "    <tr>\n",
       "      <th>256210</th>\n",
       "      <td>gas</td>\n",
       "      <td>75</td>\n",
       "      <td>Frankfurter_Str._</td>\n",
       "      <td>NaN</td>\n",
       "      <td>NaN</td>\n",
       "    </tr>\n",
       "    <tr>\n",
       "      <th>202772</th>\n",
       "      <td>NaN</td>\n",
       "      <td>NaN</td>\n",
       "      <td>NaN</td>\n",
       "      <td>Das Haus in der Greifswalder Str. 26/Ecke Käth...</td>\n",
       "      <td>Helle 4 Raum Familienwohnung\\n\\n4 Räume:\\n3 gr...</td>\n",
       "    </tr>\n",
       "    <tr>\n",
       "      <th>221495</th>\n",
       "      <td>gas</td>\n",
       "      <td>NaN</td>\n",
       "      <td>NaN</td>\n",
       "      <td>Sie möchten gerne in einer ruhigen Seitenstraß...</td>\n",
       "      <td>- 80 m²\\n- 3 Zimmer\\n- 1. OG\\n- heller Wohn- u...</td>\n",
       "    </tr>\n",
       "    <tr>\n",
       "      <th>195467</th>\n",
       "      <td>natural_gas_heavy</td>\n",
       "      <td>66</td>\n",
       "      <td>Honkenbergstraße</td>\n",
       "      <td>Unsere Wohnungen befinden sich in zentraler La...</td>\n",
       "      <td>• Balkon\\n • Wanne (Fenster)\\n • Laminatboden\\...</td>\n",
       "    </tr>\n",
       "    <tr>\n",
       "      <th>128626</th>\n",
       "      <td>electricity</td>\n",
       "      <td>7a</td>\n",
       "      <td>Hülsbergstr.</td>\n",
       "      <td>Die schöne 2-Zimmer Wohnung liegt im 1. Oberge...</td>\n",
       "      <td>- Balkon\\n- Abstellkammer\\n- Keller\\n- Einbauk...</td>\n",
       "    </tr>\n",
       "    <tr>\n",
       "      <th>137370</th>\n",
       "      <td>solar_heating</td>\n",
       "      <td>17</td>\n",
       "      <td>Untere_Vorstadt</td>\n",
       "      <td>Im Herzen von Tuttlingen entstehen 32 moderne ...</td>\n",
       "      <td>Die komplett ausgestattete Küche wird von dem ...</td>\n",
       "    </tr>\n",
       "    <tr>\n",
       "      <th>240691</th>\n",
       "      <td>gas</td>\n",
       "      <td>32</td>\n",
       "      <td>Schaufußstr.</td>\n",
       "      <td>Das um 1914 in offener Bebauung  errichtete Wo...</td>\n",
       "      <td>Die Wohnung befindet sich im ersten Obergescho...</td>\n",
       "    </tr>\n",
       "    <tr>\n",
       "      <th>170902</th>\n",
       "      <td>district_heating</td>\n",
       "      <td>46</td>\n",
       "      <td>In_den_Werthen</td>\n",
       "      <td>Die angebotene Wohnung befindet sich im Erdges...</td>\n",
       "      <td>- Balkon \\n- Badewanne \\n- Laminat</td>\n",
       "    </tr>\n",
       "    <tr>\n",
       "      <th>114819</th>\n",
       "      <td>gas</td>\n",
       "      <td>2 A</td>\n",
       "      <td>Leveringstr.</td>\n",
       "      <td>Modernes Mehrfamilienwohnhaus mit einem Gwerbe...</td>\n",
       "      <td>2019 neu weiß gestrichen\\nFliesenböden\\nneue V...</td>\n",
       "    </tr>\n",
       "    <tr>\n",
       "      <th>267082</th>\n",
       "      <td>district_heating</td>\n",
       "      <td>33</td>\n",
       "      <td>Robert-Koch-Str.</td>\n",
       "      <td>Die attraktive Wohnung befindet sich in einem ...</td>\n",
       "      <td>Die Wohnung ist hell und gut geschnitten. Sie ...</td>\n",
       "    </tr>\n",
       "    <tr>\n",
       "      <th>156124</th>\n",
       "      <td>NaN</td>\n",
       "      <td>2</td>\n",
       "      <td>Turnerweg</td>\n",
       "      <td>Der Neubau entsteht im Herzen der Dresdner Neu...</td>\n",
       "      <td>* Terrasse und ca. 140m² Garten\\n* Bad mit bod...</td>\n",
       "    </tr>\n",
       "  </tbody>\n",
       "</table>\n",
       "</div>"
      ],
      "text/plain": [
       "              firingTypes houseNumber               streetPlain  \\\n",
       "246005  natural_gas_light          24              Auf_der_Egge   \n",
       "193460                NaN          27            Greizer_Straße   \n",
       "98416                 gas         NaN                       NaN   \n",
       "169432   district_heating          19      Zur_Vegesacker_Fähre   \n",
       "166674                gas         NaN                       NaN   \n",
       "86358                 gas         101       August-Bebel-Straße   \n",
       "227428                oil          26               Weserstraße   \n",
       "75783                 gas          29      Gelsenkirchener_Str.   \n",
       "218389                NaN          15  Bernhard-Lichtenberg-Weg   \n",
       "256210                gas          75         Frankfurter_Str._   \n",
       "202772                NaN         NaN                       NaN   \n",
       "221495                gas         NaN                       NaN   \n",
       "195467  natural_gas_heavy          66          Honkenbergstraße   \n",
       "128626        electricity          7a              Hülsbergstr.   \n",
       "137370      solar_heating          17           Untere_Vorstadt   \n",
       "240691                gas          32              Schaufußstr.   \n",
       "170902   district_heating          46            In_den_Werthen   \n",
       "114819                gas         2 A              Leveringstr.   \n",
       "267082   district_heating          33          Robert-Koch-Str.   \n",
       "156124                NaN           2                 Turnerweg   \n",
       "\n",
       "                                              description  \\\n",
       "246005  In einem im Jahr 2001 errichteten 5-Parteien H...   \n",
       "193460  Es handelt sich um einen sanierten Plattenbau ...   \n",
       "98416   Das Mehrfamilienhaus liegt in Wittenborn. Der ...   \n",
       "169432  Wir sind für Sie vor Ort: Mittwochs 14:00 - 17...   \n",
       "166674  Die 70 m² große 3 Zimmer Wohnung über 2 Etagen...   \n",
       "86358   Bei der angebotenen Wohnung handelt es sich um...   \n",
       "227428  Diese Wohnung befindet sich im Erdgeschoss (Ho...   \n",
       "75783   Um Ihnen Ihr Zuhause angenehm und komfortabel ...   \n",
       "218389  Das Mehrfamilienhaus befindet sich im Stadttei...   \n",
       "256210                                                NaN   \n",
       "202772  Das Haus in der Greifswalder Str. 26/Ecke Käth...   \n",
       "221495  Sie möchten gerne in einer ruhigen Seitenstraß...   \n",
       "195467  Unsere Wohnungen befinden sich in zentraler La...   \n",
       "128626  Die schöne 2-Zimmer Wohnung liegt im 1. Oberge...   \n",
       "137370  Im Herzen von Tuttlingen entstehen 32 moderne ...   \n",
       "240691  Das um 1914 in offener Bebauung  errichtete Wo...   \n",
       "170902  Die angebotene Wohnung befindet sich im Erdges...   \n",
       "114819  Modernes Mehrfamilienwohnhaus mit einem Gwerbe...   \n",
       "267082  Die attraktive Wohnung befindet sich in einem ...   \n",
       "156124  Der Neubau entsteht im Herzen der Dresdner Neu...   \n",
       "\n",
       "                                               facilities  \n",
       "246005  -\\tEinbauküche\\n-\\tEchtholzfußböden\\n-\\tLoggia...  \n",
       "193460  - sofort bezugsfertig \\r\\n- geschmackvoll eing...  \n",
       "98416   - Einbauküche\\n- Duschbad\\n- Terrasse mit West...  \n",
       "169432  Türsprechanlage; Isolierverglasung; Warmwasser...  \n",
       "166674                                                NaN  \n",
       "86358   - Laminatboden  - Bad mit Badewanne  - separat...  \n",
       "227428  - Dielenboden in den Wohn-/ und Schlafzimmern ...  \n",
       "75783   Kabelanschluss; Türsprechanlage; Isoliervergla...  \n",
       "218389  Diese 2 - Raum-Wohnung in der 3. Etage verfueg...  \n",
       "256210                                                NaN  \n",
       "202772  Helle 4 Raum Familienwohnung\\n\\n4 Räume:\\n3 gr...  \n",
       "221495  - 80 m²\\n- 3 Zimmer\\n- 1. OG\\n- heller Wohn- u...  \n",
       "195467  • Balkon\\n • Wanne (Fenster)\\n • Laminatboden\\...  \n",
       "128626  - Balkon\\n- Abstellkammer\\n- Keller\\n- Einbauk...  \n",
       "137370  Die komplett ausgestattete Küche wird von dem ...  \n",
       "240691  Die Wohnung befindet sich im ersten Obergescho...  \n",
       "170902                 - Balkon \\n- Badewanne \\n- Laminat  \n",
       "114819  2019 neu weiß gestrichen\\nFliesenböden\\nneue V...  \n",
       "267082  Die Wohnung ist hell und gut geschnitten. Sie ...  \n",
       "156124  * Terrasse und ca. 140m² Garten\\n* Bad mit bod...  "
      ]
     },
     "execution_count": 138,
     "metadata": {},
     "output_type": "execute_result"
    }
   ],
   "source": [
    "mssgCat[['firingTypes','houseNumber', 'streetPlain','description','facilities']].sample(20)"
   ]
  },
  {
   "cell_type": "markdown",
   "metadata": {},
   "source": [
    "- houseNumber is the unit number of apartment, streetPlain is the street name, description describes the apartment, and facilities outline the features of the apartment. They are unlikely to make good categories for further analysis. Furthermore, the quantities are large. We will drop these. \n",
    "- firingTypes gives us a sense of the kind of fuel used in the apartment. heatingType gives us a similar indication of how the apartment is powered. We will drop this feature as well. "
   ]
  },
  {
   "cell_type": "code",
   "execution_count": 139,
   "metadata": {},
   "outputs": [],
   "source": [
    "#Drop houseNumber, streetPlain, description, facilities, firingTypes\n",
    "mssgCat.drop(columns = ['houseNumber','streetPlain','description','facilities','firingTypes'], axis = 1, inplace = True)"
   ]
  },
  {
   "cell_type": "code",
   "execution_count": 140,
   "metadata": {
    "scrolled": true
   },
   "outputs": [
    {
     "data": {
      "text/html": [
       "<div>\n",
       "<style scoped>\n",
       "    .dataframe tbody tr th:only-of-type {\n",
       "        vertical-align: middle;\n",
       "    }\n",
       "\n",
       "    .dataframe tbody tr th {\n",
       "        vertical-align: top;\n",
       "    }\n",
       "\n",
       "    .dataframe thead th {\n",
       "        text-align: right;\n",
       "    }\n",
       "</style>\n",
       "<table border=\"1\" class=\"dataframe\">\n",
       "  <thead>\n",
       "    <tr style=\"text-align: right;\">\n",
       "      <th></th>\n",
       "      <th>heatingType</th>\n",
       "      <th>telekomTvOffer</th>\n",
       "      <th>condition</th>\n",
       "      <th>interiorQual</th>\n",
       "      <th>petsAllowed</th>\n",
       "      <th>typeOfFlat</th>\n",
       "      <th>energyEfficiencyClass</th>\n",
       "    </tr>\n",
       "  </thead>\n",
       "  <tbody>\n",
       "    <tr>\n",
       "      <th>count</th>\n",
       "      <td>223994</td>\n",
       "      <td>236231</td>\n",
       "      <td>200361</td>\n",
       "      <td>156185</td>\n",
       "      <td>154277</td>\n",
       "      <td>232236</td>\n",
       "      <td>77787</td>\n",
       "    </tr>\n",
       "    <tr>\n",
       "      <th>unique</th>\n",
       "      <td>13</td>\n",
       "      <td>3</td>\n",
       "      <td>10</td>\n",
       "      <td>4</td>\n",
       "      <td>3</td>\n",
       "      <td>10</td>\n",
       "      <td>10</td>\n",
       "    </tr>\n",
       "    <tr>\n",
       "      <th>top</th>\n",
       "      <td>central_heating</td>\n",
       "      <td>ONE_YEAR_FREE</td>\n",
       "      <td>well_kept</td>\n",
       "      <td>normal</td>\n",
       "      <td>negotiable</td>\n",
       "      <td>apartment</td>\n",
       "      <td>C</td>\n",
       "    </tr>\n",
       "    <tr>\n",
       "      <th>freq</th>\n",
       "      <td>128977</td>\n",
       "      <td>227632</td>\n",
       "      <td>66591</td>\n",
       "      <td>81826</td>\n",
       "      <td>91970</td>\n",
       "      <td>131522</td>\n",
       "      <td>14613</td>\n",
       "    </tr>\n",
       "  </tbody>\n",
       "</table>\n",
       "</div>"
      ],
      "text/plain": [
       "            heatingType telekomTvOffer  condition interiorQual petsAllowed  \\\n",
       "count            223994         236231     200361       156185      154277   \n",
       "unique               13              3         10            4           3   \n",
       "top     central_heating  ONE_YEAR_FREE  well_kept       normal  negotiable   \n",
       "freq             128977         227632      66591        81826       91970   \n",
       "\n",
       "       typeOfFlat energyEfficiencyClass  \n",
       "count      232236                 77787  \n",
       "unique         10                    10  \n",
       "top     apartment                     C  \n",
       "freq       131522                 14613  "
      ]
     },
     "execution_count": 140,
     "metadata": {},
     "output_type": "execute_result"
    }
   ],
   "source": [
    "mssgCat.describe()"
   ]
  },
  {
   "cell_type": "markdown",
   "metadata": {},
   "source": [
    "- To determine the most common category as a percentage of the total numbers of values. If this percentage is above 80% we may consider filling the missing values of the feature with this information "
   ]
  },
  {
   "cell_type": "code",
   "execution_count": 141,
   "metadata": {},
   "outputs": [],
   "source": [
    "def top_cat_perc(df,var):\n",
    "    '''Takes a categorical dataframe and variable name to calculate the percentage of the most common category \n",
    "    for the variable'''\n",
    "    total = 0\n",
    "    col_dict = defaultdict(int)\n",
    "    for k,v in df[var].value_counts().items():\n",
    "        col_dict[k] = v\n",
    "        total += v\n",
    "    newdf = (pd.DataFrame(col_dict, index = ['%count']) * 100/total)\n",
    "    return [newdf.columns[0],newdf.iloc[0,0]]   \n"
   ]
  },
  {
   "cell_type": "code",
   "execution_count": 142,
   "metadata": {},
   "outputs": [],
   "source": [
    "def freq_table(cat_df):\n",
    "    '''Takes a categorical dataframe and returns a dataframe showing  the top category for each variable and its percentage\n",
    "    frequency'''\n",
    "    portion = defaultdict(list)\n",
    "    for element in cat_df.columns:\n",
    "        portion[element] = top_cat_perc(cat_df, element)\n",
    "    portiondf = pd.DataFrame(portion, index = ['topCat','%Freq'])\n",
    "    return portiondf.T"
   ]
  },
  {
   "cell_type": "code",
   "execution_count": 143,
   "metadata": {},
   "outputs": [
    {
     "data": {
      "text/html": [
       "<div>\n",
       "<style scoped>\n",
       "    .dataframe tbody tr th:only-of-type {\n",
       "        vertical-align: middle;\n",
       "    }\n",
       "\n",
       "    .dataframe tbody tr th {\n",
       "        vertical-align: top;\n",
       "    }\n",
       "\n",
       "    .dataframe thead th {\n",
       "        text-align: right;\n",
       "    }\n",
       "</style>\n",
       "<table border=\"1\" class=\"dataframe\">\n",
       "  <thead>\n",
       "    <tr style=\"text-align: right;\">\n",
       "      <th></th>\n",
       "      <th>topCat</th>\n",
       "      <th>%Freq</th>\n",
       "    </tr>\n",
       "  </thead>\n",
       "  <tbody>\n",
       "    <tr>\n",
       "      <th>heatingType</th>\n",
       "      <td>central_heating</td>\n",
       "      <td>57.5806</td>\n",
       "    </tr>\n",
       "    <tr>\n",
       "      <th>telekomTvOffer</th>\n",
       "      <td>ONE_YEAR_FREE</td>\n",
       "      <td>96.3599</td>\n",
       "    </tr>\n",
       "    <tr>\n",
       "      <th>condition</th>\n",
       "      <td>well_kept</td>\n",
       "      <td>33.2355</td>\n",
       "    </tr>\n",
       "    <tr>\n",
       "      <th>interiorQual</th>\n",
       "      <td>normal</td>\n",
       "      <td>52.3904</td>\n",
       "    </tr>\n",
       "    <tr>\n",
       "      <th>petsAllowed</th>\n",
       "      <td>negotiable</td>\n",
       "      <td>59.6136</td>\n",
       "    </tr>\n",
       "    <tr>\n",
       "      <th>typeOfFlat</th>\n",
       "      <td>apartment</td>\n",
       "      <td>56.6329</td>\n",
       "    </tr>\n",
       "    <tr>\n",
       "      <th>energyEfficiencyClass</th>\n",
       "      <td>C</td>\n",
       "      <td>18.7859</td>\n",
       "    </tr>\n",
       "  </tbody>\n",
       "</table>\n",
       "</div>"
      ],
      "text/plain": [
       "                                topCat    %Freq\n",
       "heatingType            central_heating  57.5806\n",
       "telekomTvOffer           ONE_YEAR_FREE  96.3599\n",
       "condition                    well_kept  33.2355\n",
       "interiorQual                    normal  52.3904\n",
       "petsAllowed                 negotiable  59.6136\n",
       "typeOfFlat                   apartment  56.6329\n",
       "energyEfficiencyClass                C  18.7859"
      ]
     },
     "execution_count": 143,
     "metadata": {},
     "output_type": "execute_result"
    }
   ],
   "source": [
    "freq_table(mssgCat)"
   ]
  },
  {
   "cell_type": "markdown",
   "metadata": {},
   "source": [
    "- We notice that telekomTvOffer has ONE_YEAR_FREE in 96% of the cases. We can probably use this for our missing values. But we should take a closer look at the categories of these features. "
   ]
  },
  {
   "cell_type": "code",
   "execution_count": 144,
   "metadata": {},
   "outputs": [
    {
     "data": {
      "text/plain": [
       "{'heatingType': array(['central_heating', 'self_contained_central_heating',\n",
       "        'floor_heating', 'district_heating', 'gas_heating', 'oil_heating',\n",
       "        nan, 'wood_pellet_heating', 'electric_heating',\n",
       "        'combined_heat_and_power_plant', 'heat_pump',\n",
       "        'night_storage_heater', 'stove_heating', 'solar_heating'],\n",
       "       dtype=object),\n",
       " 'telekomTvOffer': array(['ONE_YEAR_FREE', nan, 'NONE', 'ON_DEMAND'], dtype=object),\n",
       " 'condition': array(['well_kept', 'refurbished', 'first_time_use', nan,\n",
       "        'fully_renovated', 'mint_condition',\n",
       "        'first_time_use_after_refurbishment', 'modernized', 'negotiable',\n",
       "        'need_of_renovation', 'ripe_for_demolition'], dtype=object),\n",
       " 'interiorQual': array(['normal', 'sophisticated', nan, 'simple', 'luxury'], dtype=object),\n",
       " 'petsAllowed': array([nan, 'no', 'negotiable', 'yes'], dtype=object),\n",
       " 'typeOfFlat': array(['ground_floor', 'apartment', 'other', nan, 'roof_storey',\n",
       "        'raised_ground_floor', 'terraced_flat', 'half_basement',\n",
       "        'maisonette', 'penthouse', 'loft'], dtype=object),\n",
       " 'energyEfficiencyClass': array([nan, 'B', 'E', 'NO_INFORMATION', 'C', 'F', 'D', 'G', 'A', 'A_PLUS',\n",
       "        'H'], dtype=object)}"
      ]
     },
     "execution_count": 144,
     "metadata": {},
     "output_type": "execute_result"
    }
   ],
   "source": [
    "#Create dictionary consisting of mssgCat vars and their unique values\n",
    "dict([[i, mssgCat[i].unique()] for i in mssgCat])"
   ]
  },
  {
   "cell_type": "markdown",
   "metadata": {},
   "source": [
    "### Reviewing Remaining Categorical Features with Missing Values "
   ]
  },
  {
   "cell_type": "markdown",
   "metadata": {},
   "source": [
    "- 'telekomTvOffer': Tells us if tv is included with rent. Previously determined that top category is ONE_YEAR_FREE at 96% and that 25% of its values missing. May consider replacing nan values with ONE_YEAR_FREE."
   ]
  },
  {
   "cell_type": "code",
   "execution_count": 145,
   "metadata": {},
   "outputs": [
    {
     "data": {
      "text/plain": [
       "ONE_YEAR_FREE    227632\n",
       "NONE               4957\n",
       "ON_DEMAND          3642\n",
       "Name: telekomTvOffer, dtype: int64"
      ]
     },
     "execution_count": 145,
     "metadata": {},
     "output_type": "execute_result"
    }
   ],
   "source": [
    "#Determine counts of telekomTvOffer categories\n",
    "mssgCat.telekomTvOffer.value_counts()"
   ]
  },
  {
   "cell_type": "markdown",
   "metadata": {},
   "source": [
    "- Even though telekomTvOffer has ONE_YEAR_FREE as its prominent category at over 96%, we recognize that this is an incentive. Incentives are typically advertized, so it is very likely that if a tv offer is not provided it is not available. Furthermore, 'ON_DEMAND' is not a definite tv offer and probably has to be negotiated as part of the rent. Also, its count is relatively low compared to ONE_YEAR_FREE. We will therefore replace all values of this feature that are not ONE_YEAR_FREE with 'NONE', including 'ON_DEMAND'."
   ]
  },
  {
   "cell_type": "code",
   "execution_count": 146,
   "metadata": {},
   "outputs": [],
   "source": [
    "#Select telekomTvOffer entries with value as ONE_YEAR_FREE \n",
    "rentals_telekom_ONE_YEAR_FREE = rentals.telekomTvOffer == 'ONE_YEAR_FREE'"
   ]
  },
  {
   "cell_type": "code",
   "execution_count": 147,
   "metadata": {},
   "outputs": [
    {
     "name": "stderr",
     "output_type": "stream",
     "text": [
      "<ipython-input-147-eff79fb09a13>:2: SettingWithCopyWarning: \n",
      "A value is trying to be set on a copy of a slice from a DataFrame\n",
      "\n",
      "See the caveats in the documentation: https://pandas.pydata.org/pandas-docs/stable/user_guide/indexing.html#returning-a-view-versus-a-copy\n",
      "  rentals.telekomTvOffer[~rentals_telekom_ONE_YEAR_FREE] = 'NONE'\n"
     ]
    }
   ],
   "source": [
    "#Replace values of telekomTvOffer that are not 'ONE_YEAR_FREE' with 'NONE'\n",
    "rentals.telekomTvOffer[~rentals_telekom_ONE_YEAR_FREE] = 'NONE'"
   ]
  },
  {
   "cell_type": "code",
   "execution_count": 148,
   "metadata": {},
   "outputs": [
    {
     "data": {
      "text/plain": [
       "0"
      ]
     },
     "execution_count": 148,
     "metadata": {},
     "output_type": "execute_result"
    }
   ],
   "source": [
    "#Verify that telekomTvOffer only has no nan\n",
    "rentals.telekomTvOffer.isna().sum()"
   ]
  },
  {
   "cell_type": "markdown",
   "metadata": {},
   "source": [
    "- 'petsAllowed': Indicates if pets are allowed in apartment. Previously determined that top category is 'negotiable' at 60% and over 42% of its values  are missing. "
   ]
  },
  {
   "cell_type": "code",
   "execution_count": 149,
   "metadata": {},
   "outputs": [
    {
     "data": {
      "text/plain": [
       "negotiable    91970\n",
       "no            51991\n",
       "yes           10316\n",
       "Name: petsAllowed, dtype: int64"
      ]
     },
     "execution_count": 149,
     "metadata": {},
     "output_type": "execute_result"
    }
   ],
   "source": [
    "#Review counts of petsAllowed categories\n",
    "mssgCat.petsAllowed.value_counts()"
   ]
  },
  {
   "cell_type": "markdown",
   "metadata": {},
   "source": [
    "- Similar to telekomTvOffer, this feature is an incentive that is typically advertized. It is likely that if the feature is not specified then we can assume pets are not encouraged. We will fill missing values with no."
   ]
  },
  {
   "cell_type": "code",
   "execution_count": 150,
   "metadata": {},
   "outputs": [
    {
     "name": "stderr",
     "output_type": "stream",
     "text": [
      "<ipython-input-150-a353414ae8a3>:2: SettingWithCopyWarning: \n",
      "A value is trying to be set on a copy of a slice from a DataFrame\n",
      "\n",
      "See the caveats in the documentation: https://pandas.pydata.org/pandas-docs/stable/user_guide/indexing.html#returning-a-view-versus-a-copy\n",
      "  rentals.petsAllowed[rentals.petsAllowed.isna()] = 'no'\n"
     ]
    }
   ],
   "source": [
    "#Select petsAllowed entries that are nan and replace them with no\n",
    "rentals.petsAllowed[rentals.petsAllowed.isna()] = 'no'"
   ]
  },
  {
   "cell_type": "code",
   "execution_count": 151,
   "metadata": {},
   "outputs": [
    {
     "data": {
      "text/plain": [
       "0"
      ]
     },
     "execution_count": 151,
     "metadata": {},
     "output_type": "execute_result"
    }
   ],
   "source": [
    "#Verify that petsAllowed has no nan entries\n",
    "rentals.petsAllowed.isna().sum()"
   ]
  },
  {
   "cell_type": "markdown",
   "metadata": {},
   "source": [
    "- 'condition': Indicates appearance of apartment. Previously determined top category as 'well_kept' at 33% and over 25% of its values are missing."
   ]
  },
  {
   "cell_type": "code",
   "execution_count": 152,
   "metadata": {
    "scrolled": true
   },
   "outputs": [
    {
     "data": {
      "text/plain": [
       "well_kept                             66591\n",
       "refurbished                           26964\n",
       "fully_renovated                       26368\n",
       "first_time_use                        21959\n",
       "mint_condition                        21938\n",
       "modernized                            17226\n",
       "first_time_use_after_refurbishment    15699\n",
       "negotiable                             2240\n",
       "need_of_renovation                     1372\n",
       "ripe_for_demolition                       4\n",
       "Name: condition, dtype: int64"
      ]
     },
     "execution_count": 152,
     "metadata": {},
     "output_type": "execute_result"
    }
   ],
   "source": [
    "#Review counts of condition categories\n",
    "mssgCat.condition.value_counts()"
   ]
  },
  {
   "cell_type": "markdown",
   "metadata": {},
   "source": [
    "- It is unlikely that we can fill missing values for 'condition' because it could be any of the 10 categories, however, we can delete those records with values corresponding to 'need_of_renovation' and 'ripe_for_demolition' because we are only interested in liveable apartments."
   ]
  },
  {
   "cell_type": "code",
   "execution_count": 153,
   "metadata": {},
   "outputs": [],
   "source": [
    "#Select rows with a condition of need_of_renovation and ripe_for_demolition\n",
    "bad_units = (rentals.condition == 'need_of_renovation') | (rentals.condition == 'ripe_for_demolition')"
   ]
  },
  {
   "cell_type": "code",
   "execution_count": 154,
   "metadata": {},
   "outputs": [],
   "source": [
    "#Select only rows of dataframe with livable units\n",
    "rentals = rentals[~bad_units]"
   ]
  },
  {
   "cell_type": "code",
   "execution_count": 155,
   "metadata": {
    "scrolled": true
   },
   "outputs": [
    {
     "data": {
      "text/plain": [
       "well_kept                             66591\n",
       "refurbished                           26964\n",
       "fully_renovated                       26368\n",
       "first_time_use                        21959\n",
       "mint_condition                        21938\n",
       "modernized                            17226\n",
       "first_time_use_after_refurbishment    15699\n",
       "negotiable                             2240\n",
       "Name: condition, dtype: int64"
      ]
     },
     "execution_count": 155,
     "metadata": {},
     "output_type": "execute_result"
    }
   ],
   "source": [
    "#Verify there are no records with unlivable units\n",
    "rentals.condition.value_counts()"
   ]
  },
  {
   "cell_type": "markdown",
   "metadata": {},
   "source": [
    "- 'heatingType': Indicates how the apartment is heated. Previously determined top category as 'central_heating' at 58% and 17% of its values are missing. "
   ]
  },
  {
   "cell_type": "code",
   "execution_count": 156,
   "metadata": {},
   "outputs": [
    {
     "data": {
      "text/plain": [
       "central_heating                   128977\n",
       "district_heating                   24808\n",
       "gas_heating                        19955\n",
       "self_contained_central_heating     19087\n",
       "floor_heating                      17697\n",
       "oil_heating                         5042\n",
       "heat_pump                           2737\n",
       "combined_heat_and_power_plant       1978\n",
       "night_storage_heater                1341\n",
       "wood_pellet_heating                  961\n",
       "electric_heating                     901\n",
       "stove_heating                        344\n",
       "solar_heating                        166\n",
       "Name: heatingType, dtype: int64"
      ]
     },
     "execution_count": 156,
     "metadata": {},
     "output_type": "execute_result"
    }
   ],
   "source": [
    "#Review count of heatingType categories\n",
    "mssgCat.heatingType.value_counts()"
   ]
  },
  {
   "cell_type": "markdown",
   "metadata": {},
   "source": [
    "- Unlikely to fill missing values right now because they could fall under any of the 13 categories. Will leave as-is."
   ]
  },
  {
   "cell_type": "markdown",
   "metadata": {},
   "source": [
    "- 'interiorQual': Indicates level of sophistication of apartment. Previously determined top category as 'normal' at 52% and over 40% of its values are  missing. "
   ]
  },
  {
   "cell_type": "code",
   "execution_count": 157,
   "metadata": {
    "scrolled": true
   },
   "outputs": [
    {
     "data": {
      "text/plain": [
       "normal           81826\n",
       "sophisticated    64762\n",
       "luxury            7648\n",
       "simple            1949\n",
       "Name: interiorQual, dtype: int64"
      ]
     },
     "execution_count": 157,
     "metadata": {},
     "output_type": "execute_result"
    }
   ],
   "source": [
    "#Review count of interiorQual categories\n",
    "mssgCat.interiorQual.value_counts()"
   ]
  },
  {
   "cell_type": "markdown",
   "metadata": {},
   "source": [
    "- 'sophisticated' and 'luxury' values are typically advertized features, so these values are unlikely to be missed if the apartments are truly sophisticated or luxurious. To verify this hypothesis, we will first of all scope the price range for 'sophisticated' and 'luxury' apartments with a plot. If the price range is narrow we will then verify that there are few apartments within this price range that have missing values for interiorQual. If we can verify that most higher-quality (and higher-priced) apartments are classified as 'sophisticated' or 'luxury', we can fill missing values with 'normal'. "
   ]
  },
  {
   "cell_type": "code",
   "execution_count": 158,
   "metadata": {},
   "outputs": [
    {
     "data": {
      "text/plain": [
       "72389"
      ]
     },
     "execution_count": 158,
     "metadata": {},
     "output_type": "execute_result"
    }
   ],
   "source": [
    "#Create boolean of interiorQual values that are 'sophisticated' and 'luxury' and create new dataframe of premium apartments\n",
    "premium = (rentals.interiorQual == 'sophisticated') | (rentals.interiorQual == 'luxury')\n",
    "premium_rentals = rentals[premium]\n",
    "premium_rentals.shape[0] #Number of premium units"
   ]
  },
  {
   "cell_type": "code",
   "execution_count": 159,
   "metadata": {},
   "outputs": [
    {
     "data": {
      "image/png": "[encoded data removed]",
      "text/plain": [
       "<Figure size 432x288 with 1 Axes>"
      ]
     },
     "metadata": {
      "needs_background": "light"
     },
     "output_type": "display_data"
    }
   ],
   "source": [
    "#Review distribution of prices for premium_rentals\n",
    "_= sns.boxplot(x = 'baseRent', data = premium_rentals)"
   ]
  },
  {
   "cell_type": "markdown",
   "metadata": {},
   "source": [
    "- We observe that premium units have a wide price range, suggesting the presence of errors. This means that there would be many missing records falling within this determined price range, thus disproving our hypothesis. We probably need to treat the price features first before inputting missing values for the interiorQual feature. We will leave features as-is for now. "
   ]
  },
  {
   "cell_type": "markdown",
   "metadata": {},
   "source": [
    "- 'typeOfFlat': Indicates the style of apartment. Previously determined top category as 'apartment' at 57% and about 13% of its values are missing."
   ]
  },
  {
   "cell_type": "code",
   "execution_count": 160,
   "metadata": {},
   "outputs": [
    {
     "data": {
      "text/plain": [
       "apartment              130695\n",
       "roof_storey             34618\n",
       "ground_floor            31358\n",
       "other                    9486\n",
       "maisonette               9297\n",
       "raised_ground_floor      5610\n",
       "penthouse                3567\n",
       "terraced_flat            3374\n",
       "half_basement            2005\n",
       "loft                      953\n",
       "Name: typeOfFlat, dtype: int64"
      ]
     },
     "execution_count": 160,
     "metadata": {},
     "output_type": "execute_result"
    }
   ],
   "source": [
    "#Review counts of typeOfFlat categories\n",
    "rentals.typeOfFlat.value_counts()"
   ]
  },
  {
   "cell_type": "markdown",
   "metadata": {},
   "source": [
    "-  There is no discernable trend associated with these categories. We will leave this features as-is for now."
   ]
  },
  {
   "cell_type": "markdown",
   "metadata": {},
   "source": [
    "- 'energyEfficiencyClass': Indicates energy efficiency rating of building. Previously determined top category as C at 19% and 71% of it values are missing. Data owner indicated that information on this feature was not provided from February 2019. "
   ]
  },
  {
   "cell_type": "code",
   "execution_count": 161,
   "metadata": {},
   "outputs": [
    {
     "data": {
      "text/plain": [
       "C                 14544\n",
       "NO_INFORMATION    14041\n",
       "D                 13845\n",
       "B                 11322\n",
       "E                  7914\n",
       "A                  4986\n",
       "F                  4421\n",
       "A_PLUS             3617\n",
       "G                  1787\n",
       "H                   884\n",
       "Name: energyEfficiencyClass, dtype: int64"
      ]
     },
     "execution_count": 161,
     "metadata": {},
     "output_type": "execute_result"
    }
   ],
   "source": [
    "#Review count of energyEfficiencyClass categories\n",
    "rentals.energyEfficiencyClass.value_counts()"
   ]
  },
  {
   "cell_type": "markdown",
   "metadata": {},
   "source": [
    "- Listed categories confirm research that ratings go from from A+ to H. There are two types of energy certificates that measure different things and there is no consensus on the preferred method. This may be the reason why information was not provided as from February 2019 and the reason there are many units without this information. We are unlikely to fill missing values and will drop this feature given the large number of missing values. "
   ]
  },
  {
   "cell_type": "code",
   "execution_count": 162,
   "metadata": {},
   "outputs": [],
   "source": [
    "#Drop identified features from rentals\n",
    "rentals.drop(columns = ['houseNumber','streetPlain','description','facilities','firingTypes', 'energyEfficiencyClass'], axis = 1, inplace = True)\n"
   ]
  },
  {
   "cell_type": "code",
   "execution_count": 163,
   "metadata": {},
   "outputs": [
    {
     "data": {
      "text/html": [
       "<div>\n",
       "<style scoped>\n",
       "    .dataframe tbody tr th:only-of-type {\n",
       "        vertical-align: middle;\n",
       "    }\n",
       "\n",
       "    .dataframe tbody tr th {\n",
       "        vertical-align: top;\n",
       "    }\n",
       "\n",
       "    .dataframe thead th {\n",
       "        text-align: right;\n",
       "    }\n",
       "</style>\n",
       "<table border=\"1\" class=\"dataframe\">\n",
       "  <thead>\n",
       "    <tr style=\"text-align: right;\">\n",
       "      <th></th>\n",
       "      <th>regio1</th>\n",
       "      <th>serviceCharge</th>\n",
       "      <th>heatingType</th>\n",
       "      <th>telekomTvOffer</th>\n",
       "      <th>telekomHybridUploadSpeed</th>\n",
       "      <th>newlyConst</th>\n",
       "      <th>balcony</th>\n",
       "      <th>picturecount</th>\n",
       "      <th>pricetrend</th>\n",
       "      <th>telekomUploadSpeed</th>\n",
       "      <th>totalRent</th>\n",
       "      <th>yearConstructed</th>\n",
       "      <th>scoutId</th>\n",
       "      <th>noParkSpaces</th>\n",
       "      <th>hasKitchen</th>\n",
       "      <th>geo_bln</th>\n",
       "      <th>cellar</th>\n",
       "      <th>yearConstructedRange</th>\n",
       "      <th>baseRent</th>\n",
       "      <th>livingSpace</th>\n",
       "      <th>geo_krs</th>\n",
       "      <th>condition</th>\n",
       "      <th>interiorQual</th>\n",
       "      <th>petsAllowed</th>\n",
       "      <th>street</th>\n",
       "      <th>lift</th>\n",
       "      <th>baseRentRange</th>\n",
       "      <th>typeOfFlat</th>\n",
       "      <th>geo_plz</th>\n",
       "      <th>noRooms</th>\n",
       "      <th>thermalChar</th>\n",
       "      <th>floor</th>\n",
       "      <th>numberOfFloors</th>\n",
       "      <th>noRoomsRange</th>\n",
       "      <th>garden</th>\n",
       "      <th>livingSpaceRange</th>\n",
       "      <th>regio2</th>\n",
       "      <th>regio3</th>\n",
       "      <th>heatingCosts</th>\n",
       "      <th>lastRefurbish</th>\n",
       "      <th>electricityBasePrice</th>\n",
       "      <th>electricityKwhPrice</th>\n",
       "      <th>date</th>\n",
       "    </tr>\n",
       "  </thead>\n",
       "  <tbody>\n",
       "    <tr>\n",
       "      <th>0</th>\n",
       "      <td>Nordrhein_Westfalen</td>\n",
       "      <td>245.0</td>\n",
       "      <td>central_heating</td>\n",
       "      <td>ONE_YEAR_FREE</td>\n",
       "      <td>NaN</td>\n",
       "      <td>False</td>\n",
       "      <td>False</td>\n",
       "      <td>6</td>\n",
       "      <td>4.62</td>\n",
       "      <td>10.0</td>\n",
       "      <td>840.0</td>\n",
       "      <td>1965.0</td>\n",
       "      <td>96107057</td>\n",
       "      <td>1.0</td>\n",
       "      <td>False</td>\n",
       "      <td>Nordrhein_Westfalen</td>\n",
       "      <td>True</td>\n",
       "      <td>2.0</td>\n",
       "      <td>595.0</td>\n",
       "      <td>86.0</td>\n",
       "      <td>Dortmund</td>\n",
       "      <td>well_kept</td>\n",
       "      <td>normal</td>\n",
       "      <td>no</td>\n",
       "      <td>Sch&amp;uuml;ruferstra&amp;szlig;e</td>\n",
       "      <td>False</td>\n",
       "      <td>4</td>\n",
       "      <td>ground_floor</td>\n",
       "      <td>44269</td>\n",
       "      <td>4.0</td>\n",
       "      <td>181.4</td>\n",
       "      <td>1.0</td>\n",
       "      <td>3.0</td>\n",
       "      <td>4</td>\n",
       "      <td>True</td>\n",
       "      <td>4</td>\n",
       "      <td>Dortmund</td>\n",
       "      <td>Schüren</td>\n",
       "      <td>NaN</td>\n",
       "      <td>NaN</td>\n",
       "      <td>NaN</td>\n",
       "      <td>NaN</td>\n",
       "      <td>May19</td>\n",
       "    </tr>\n",
       "    <tr>\n",
       "      <th>1</th>\n",
       "      <td>Rheinland_Pfalz</td>\n",
       "      <td>134.0</td>\n",
       "      <td>self_contained_central_heating</td>\n",
       "      <td>ONE_YEAR_FREE</td>\n",
       "      <td>NaN</td>\n",
       "      <td>False</td>\n",
       "      <td>True</td>\n",
       "      <td>8</td>\n",
       "      <td>3.47</td>\n",
       "      <td>10.0</td>\n",
       "      <td>NaN</td>\n",
       "      <td>1871.0</td>\n",
       "      <td>111378734</td>\n",
       "      <td>2.0</td>\n",
       "      <td>False</td>\n",
       "      <td>Rheinland_Pfalz</td>\n",
       "      <td>False</td>\n",
       "      <td>1.0</td>\n",
       "      <td>800.0</td>\n",
       "      <td>89.0</td>\n",
       "      <td>Rhein_Pfalz_Kreis</td>\n",
       "      <td>refurbished</td>\n",
       "      <td>normal</td>\n",
       "      <td>no</td>\n",
       "      <td>no_information</td>\n",
       "      <td>False</td>\n",
       "      <td>5</td>\n",
       "      <td>ground_floor</td>\n",
       "      <td>67459</td>\n",
       "      <td>3.0</td>\n",
       "      <td>NaN</td>\n",
       "      <td>NaN</td>\n",
       "      <td>NaN</td>\n",
       "      <td>3</td>\n",
       "      <td>False</td>\n",
       "      <td>4</td>\n",
       "      <td>Rhein_Pfalz_Kreis</td>\n",
       "      <td>Böhl_Iggelheim</td>\n",
       "      <td>NaN</td>\n",
       "      <td>2019.0</td>\n",
       "      <td>NaN</td>\n",
       "      <td>NaN</td>\n",
       "      <td>May19</td>\n",
       "    </tr>\n",
       "  </tbody>\n",
       "</table>\n",
       "</div>"
      ],
      "text/plain": [
       "                regio1  serviceCharge                     heatingType  \\\n",
       "0  Nordrhein_Westfalen          245.0                 central_heating   \n",
       "1      Rheinland_Pfalz          134.0  self_contained_central_heating   \n",
       "\n",
       "  telekomTvOffer  telekomHybridUploadSpeed  newlyConst  balcony  picturecount  \\\n",
       "0  ONE_YEAR_FREE                       NaN       False    False             6   \n",
       "1  ONE_YEAR_FREE                       NaN       False     True             8   \n",
       "\n",
       "   pricetrend  telekomUploadSpeed  totalRent  yearConstructed    scoutId  \\\n",
       "0        4.62                10.0      840.0           1965.0   96107057   \n",
       "1        3.47                10.0        NaN           1871.0  111378734   \n",
       "\n",
       "   noParkSpaces  hasKitchen              geo_bln  cellar  \\\n",
       "0           1.0       False  Nordrhein_Westfalen    True   \n",
       "1           2.0       False      Rheinland_Pfalz   False   \n",
       "\n",
       "   yearConstructedRange  baseRent  livingSpace            geo_krs  \\\n",
       "0                   2.0     595.0         86.0           Dortmund   \n",
       "1                   1.0     800.0         89.0  Rhein_Pfalz_Kreis   \n",
       "\n",
       "     condition interiorQual petsAllowed                      street   lift  \\\n",
       "0    well_kept       normal          no  Sch&uuml;ruferstra&szlig;e  False   \n",
       "1  refurbished       normal          no              no_information  False   \n",
       "\n",
       "   baseRentRange    typeOfFlat  geo_plz  noRooms  thermalChar  floor  \\\n",
       "0              4  ground_floor    44269      4.0        181.4    1.0   \n",
       "1              5  ground_floor    67459      3.0          NaN    NaN   \n",
       "\n",
       "   numberOfFloors  noRoomsRange  garden  livingSpaceRange             regio2  \\\n",
       "0             3.0             4    True                 4           Dortmund   \n",
       "1             NaN             3   False                 4  Rhein_Pfalz_Kreis   \n",
       "\n",
       "           regio3  heatingCosts  lastRefurbish  electricityBasePrice  \\\n",
       "0         Schüren           NaN            NaN                   NaN   \n",
       "1  Böhl_Iggelheim           NaN         2019.0                   NaN   \n",
       "\n",
       "   electricityKwhPrice   date  \n",
       "0                  NaN  May19  \n",
       "1                  NaN  May19  "
      ]
     },
     "execution_count": 163,
     "metadata": {},
     "output_type": "execute_result"
    }
   ],
   "source": [
    "rentals.head(2)"
   ]
  },
  {
   "cell_type": "markdown",
   "metadata": {},
   "source": [
    "## Reviewing Numerical Features with Missing Values"
   ]
  },
  {
   "cell_type": "code",
   "execution_count": 164,
   "metadata": {},
   "outputs": [
    {
     "data": {
      "text/html": [
       "<div>\n",
       "<style scoped>\n",
       "    .dataframe tbody tr th:only-of-type {\n",
       "        vertical-align: middle;\n",
       "    }\n",
       "\n",
       "    .dataframe tbody tr th {\n",
       "        vertical-align: top;\n",
       "    }\n",
       "\n",
       "    .dataframe thead th {\n",
       "        text-align: right;\n",
       "    }\n",
       "</style>\n",
       "<table border=\"1\" class=\"dataframe\">\n",
       "  <thead>\n",
       "    <tr style=\"text-align: right;\">\n",
       "      <th></th>\n",
       "      <th>serviceCharge</th>\n",
       "      <th>telekomHybridUploadSpeed</th>\n",
       "      <th>pricetrend</th>\n",
       "      <th>telekomUploadSpeed</th>\n",
       "      <th>totalRent</th>\n",
       "      <th>yearConstructed</th>\n",
       "      <th>noParkSpaces</th>\n",
       "      <th>yearConstructedRange</th>\n",
       "      <th>thermalChar</th>\n",
       "      <th>floor</th>\n",
       "      <th>numberOfFloors</th>\n",
       "      <th>heatingCosts</th>\n",
       "      <th>lastRefurbish</th>\n",
       "      <th>electricityBasePrice</th>\n",
       "      <th>electricityKwhPrice</th>\n",
       "    </tr>\n",
       "  </thead>\n",
       "  <tbody>\n",
       "    <tr>\n",
       "      <th>count</th>\n",
       "      <td>261941.000000</td>\n",
       "      <td>45020.0</td>\n",
       "      <td>267018.000000</td>\n",
       "      <td>235492.000000</td>\n",
       "      <td>2.283330e+05</td>\n",
       "      <td>211805.000000</td>\n",
       "      <td>93052.000000</td>\n",
       "      <td>211805.000000</td>\n",
       "      <td>162344.000000</td>\n",
       "      <td>217541.000000</td>\n",
       "      <td>171118.000000</td>\n",
       "      <td>85518.000000</td>\n",
       "      <td>80711.000000</td>\n",
       "      <td>46846.000000</td>\n",
       "      <td>46846.000000</td>\n",
       "    </tr>\n",
       "    <tr>\n",
       "      <th>mean</th>\n",
       "      <td>151.206113</td>\n",
       "      <td>10.0</td>\n",
       "      <td>3.389001</td>\n",
       "      <td>28.804928</td>\n",
       "      <td>9.013315e+02</td>\n",
       "      <td>1966.400590</td>\n",
       "      <td>1.327634</td>\n",
       "      <td>3.714544</td>\n",
       "      <td>114.749533</td>\n",
       "      <td>2.122405</td>\n",
       "      <td>3.572319</td>\n",
       "      <td>76.990866</td>\n",
       "      <td>2013.904536</td>\n",
       "      <td>89.113612</td>\n",
       "      <td>0.199769</td>\n",
       "    </tr>\n",
       "    <tr>\n",
       "      <th>std</th>\n",
       "      <td>308.295790</td>\n",
       "      <td>0.0</td>\n",
       "      <td>1.964874</td>\n",
       "      <td>16.337151</td>\n",
       "      <td>3.323833e+04</td>\n",
       "      <td>46.992207</td>\n",
       "      <td>8.361403</td>\n",
       "      <td>2.738134</td>\n",
       "      <td>61.653663</td>\n",
       "      <td>3.634934</td>\n",
       "      <td>6.375496</td>\n",
       "      <td>147.716278</td>\n",
       "      <td>10.963125</td>\n",
       "      <td>5.395805</td>\n",
       "      <td>0.009667</td>\n",
       "    </tr>\n",
       "    <tr>\n",
       "      <th>min</th>\n",
       "      <td>0.000000</td>\n",
       "      <td>10.0</td>\n",
       "      <td>-12.330000</td>\n",
       "      <td>1.000000</td>\n",
       "      <td>0.000000e+00</td>\n",
       "      <td>1000.000000</td>\n",
       "      <td>0.000000</td>\n",
       "      <td>1.000000</td>\n",
       "      <td>0.100000</td>\n",
       "      <td>-1.000000</td>\n",
       "      <td>0.000000</td>\n",
       "      <td>0.000000</td>\n",
       "      <td>1015.000000</td>\n",
       "      <td>71.430000</td>\n",
       "      <td>0.170500</td>\n",
       "    </tr>\n",
       "    <tr>\n",
       "      <th>25%</th>\n",
       "      <td>95.000000</td>\n",
       "      <td>10.0</td>\n",
       "      <td>2.000000</td>\n",
       "      <td>10.000000</td>\n",
       "      <td>4.698000e+02</td>\n",
       "      <td>1950.000000</td>\n",
       "      <td>1.000000</td>\n",
       "      <td>1.000000</td>\n",
       "      <td>79.000000</td>\n",
       "      <td>1.000000</td>\n",
       "      <td>2.000000</td>\n",
       "      <td>54.000000</td>\n",
       "      <td>2012.000000</td>\n",
       "      <td>90.760000</td>\n",
       "      <td>0.191500</td>\n",
       "    </tr>\n",
       "    <tr>\n",
       "      <th>50%</th>\n",
       "      <td>135.000000</td>\n",
       "      <td>10.0</td>\n",
       "      <td>3.390000</td>\n",
       "      <td>40.000000</td>\n",
       "      <td>6.500000e+02</td>\n",
       "      <td>1973.000000</td>\n",
       "      <td>1.000000</td>\n",
       "      <td>3.000000</td>\n",
       "      <td>107.000000</td>\n",
       "      <td>2.000000</td>\n",
       "      <td>3.000000</td>\n",
       "      <td>70.000000</td>\n",
       "      <td>2017.000000</td>\n",
       "      <td>90.760000</td>\n",
       "      <td>0.198500</td>\n",
       "    </tr>\n",
       "    <tr>\n",
       "      <th>75%</th>\n",
       "      <td>190.000000</td>\n",
       "      <td>10.0</td>\n",
       "      <td>4.570000</td>\n",
       "      <td>40.000000</td>\n",
       "      <td>9.850000e+02</td>\n",
       "      <td>1996.000000</td>\n",
       "      <td>1.000000</td>\n",
       "      <td>5.000000</td>\n",
       "      <td>140.300000</td>\n",
       "      <td>3.000000</td>\n",
       "      <td>4.000000</td>\n",
       "      <td>90.000000</td>\n",
       "      <td>2019.000000</td>\n",
       "      <td>90.760000</td>\n",
       "      <td>0.205500</td>\n",
       "    </tr>\n",
       "    <tr>\n",
       "      <th>max</th>\n",
       "      <td>146118.000000</td>\n",
       "      <td>10.0</td>\n",
       "      <td>14.920000</td>\n",
       "      <td>100.000000</td>\n",
       "      <td>1.575154e+07</td>\n",
       "      <td>2090.000000</td>\n",
       "      <td>2241.000000</td>\n",
       "      <td>9.000000</td>\n",
       "      <td>1996.000000</td>\n",
       "      <td>999.000000</td>\n",
       "      <td>999.000000</td>\n",
       "      <td>12613.000000</td>\n",
       "      <td>2919.000000</td>\n",
       "      <td>90.760000</td>\n",
       "      <td>0.227600</td>\n",
       "    </tr>\n",
       "  </tbody>\n",
       "</table>\n",
       "</div>"
      ],
      "text/plain": [
       "       serviceCharge  telekomHybridUploadSpeed     pricetrend  \\\n",
       "count  261941.000000                   45020.0  267018.000000   \n",
       "mean      151.206113                      10.0       3.389001   \n",
       "std       308.295790                       0.0       1.964874   \n",
       "min         0.000000                      10.0     -12.330000   \n",
       "25%        95.000000                      10.0       2.000000   \n",
       "50%       135.000000                      10.0       3.390000   \n",
       "75%       190.000000                      10.0       4.570000   \n",
       "max    146118.000000                      10.0      14.920000   \n",
       "\n",
       "       telekomUploadSpeed     totalRent  yearConstructed  noParkSpaces  \\\n",
       "count       235492.000000  2.283330e+05    211805.000000  93052.000000   \n",
       "mean            28.804928  9.013315e+02      1966.400590      1.327634   \n",
       "std             16.337151  3.323833e+04        46.992207      8.361403   \n",
       "min              1.000000  0.000000e+00      1000.000000      0.000000   \n",
       "25%             10.000000  4.698000e+02      1950.000000      1.000000   \n",
       "50%             40.000000  6.500000e+02      1973.000000      1.000000   \n",
       "75%             40.000000  9.850000e+02      1996.000000      1.000000   \n",
       "max            100.000000  1.575154e+07      2090.000000   2241.000000   \n",
       "\n",
       "       yearConstructedRange    thermalChar          floor  numberOfFloors  \\\n",
       "count         211805.000000  162344.000000  217541.000000   171118.000000   \n",
       "mean               3.714544     114.749533       2.122405        3.572319   \n",
       "std                2.738134      61.653663       3.634934        6.375496   \n",
       "min                1.000000       0.100000      -1.000000        0.000000   \n",
       "25%                1.000000      79.000000       1.000000        2.000000   \n",
       "50%                3.000000     107.000000       2.000000        3.000000   \n",
       "75%                5.000000     140.300000       3.000000        4.000000   \n",
       "max                9.000000    1996.000000     999.000000      999.000000   \n",
       "\n",
       "       heatingCosts  lastRefurbish  electricityBasePrice  electricityKwhPrice  \n",
       "count  85518.000000   80711.000000          46846.000000         46846.000000  \n",
       "mean      76.990866    2013.904536             89.113612             0.199769  \n",
       "std      147.716278      10.963125              5.395805             0.009667  \n",
       "min        0.000000    1015.000000             71.430000             0.170500  \n",
       "25%       54.000000    2012.000000             90.760000             0.191500  \n",
       "50%       70.000000    2017.000000             90.760000             0.198500  \n",
       "75%       90.000000    2019.000000             90.760000             0.205500  \n",
       "max    12613.000000    2919.000000             90.760000             0.227600  "
      ]
     },
     "execution_count": 164,
     "metadata": {},
     "output_type": "execute_result"
    }
   ],
   "source": [
    "mssgNumeric.describe()"
   ]
  },
  {
   "cell_type": "code",
   "execution_count": null,
   "metadata": {},
   "outputs": [],
   "source": []
  },
  {
   "cell_type": "code",
   "execution_count": null,
   "metadata": {},
   "outputs": [],
   "source": []
  },
  {
   "cell_type": "code",
   "execution_count": null,
   "metadata": {},
   "outputs": [],
   "source": []
  },
  {
   "cell_type": "code",
   "execution_count": 185,
   "metadata": {},
   "outputs": [],
   "source": [
    "rentals = rentals.loc[:,~(missing['%age total'] > 25)]"
   ]
  },
  {
   "cell_type": "code",
   "execution_count": null,
   "metadata": {},
   "outputs": [],
   "source": []
  },
  {
   "cell_type": "code",
   "execution_count": null,
   "metadata": {},
   "outputs": [],
   "source": []
  },
  {
   "cell_type": "code",
   "execution_count": null,
   "metadata": {},
   "outputs": [],
   "source": [
    "rentals.shape"
   ]
  },
  {
   "cell_type": "markdown",
   "metadata": {},
   "source": [
    "## Reviewing objects"
   ]
  },
  {
   "cell_type": "code",
   "execution_count": 61,
   "metadata": {},
   "outputs": [],
   "source": [
    "rentalsObj =rentals.select_dtypes('object')"
   ]
  },
  {
   "cell_type": "code",
   "execution_count": 62,
   "metadata": {
    "scrolled": false
   },
   "outputs": [
    {
     "data": {
      "text/html": [
       "<div>\n",
       "<style scoped>\n",
       "    .dataframe tbody tr th:only-of-type {\n",
       "        vertical-align: middle;\n",
       "    }\n",
       "\n",
       "    .dataframe tbody tr th {\n",
       "        vertical-align: top;\n",
       "    }\n",
       "\n",
       "    .dataframe thead th {\n",
       "        text-align: right;\n",
       "    }\n",
       "</style>\n",
       "<table border=\"1\" class=\"dataframe\">\n",
       "  <thead>\n",
       "    <tr style=\"text-align: right;\">\n",
       "      <th></th>\n",
       "      <th>regio1</th>\n",
       "      <th>telekomTvOffer</th>\n",
       "      <th>geo_bln</th>\n",
       "      <th>geo_krs</th>\n",
       "      <th>street</th>\n",
       "      <th>typeOfFlat</th>\n",
       "      <th>regio2</th>\n",
       "      <th>regio3</th>\n",
       "      <th>description</th>\n",
       "      <th>date</th>\n",
       "    </tr>\n",
       "  </thead>\n",
       "  <tbody>\n",
       "    <tr>\n",
       "      <th>0</th>\n",
       "      <td>Nordrhein_Westfalen</td>\n",
       "      <td>ONE_YEAR_FREE</td>\n",
       "      <td>Nordrhein_Westfalen</td>\n",
       "      <td>Dortmund</td>\n",
       "      <td>Sch&amp;uuml;ruferstra&amp;szlig;e</td>\n",
       "      <td>ground_floor</td>\n",
       "      <td>Dortmund</td>\n",
       "      <td>Schüren</td>\n",
       "      <td>Die ebenerdig zu erreichende Erdgeschosswohnun...</td>\n",
       "      <td>May19</td>\n",
       "    </tr>\n",
       "    <tr>\n",
       "      <th>1</th>\n",
       "      <td>Rheinland_Pfalz</td>\n",
       "      <td>ONE_YEAR_FREE</td>\n",
       "      <td>Rheinland_Pfalz</td>\n",
       "      <td>Rhein_Pfalz_Kreis</td>\n",
       "      <td>no_information</td>\n",
       "      <td>ground_floor</td>\n",
       "      <td>Rhein_Pfalz_Kreis</td>\n",
       "      <td>Böhl_Iggelheim</td>\n",
       "      <td>Alles neu macht der Mai – so kann es auch für ...</td>\n",
       "      <td>May19</td>\n",
       "    </tr>\n",
       "    <tr>\n",
       "      <th>2</th>\n",
       "      <td>Sachsen</td>\n",
       "      <td>ONE_YEAR_FREE</td>\n",
       "      <td>Sachsen</td>\n",
       "      <td>Dresden</td>\n",
       "      <td>Turnerweg</td>\n",
       "      <td>apartment</td>\n",
       "      <td>Dresden</td>\n",
       "      <td>Äußere_Neustadt_Antonstadt</td>\n",
       "      <td>Der Neubau entsteht im Herzen der Dresdner Neu...</td>\n",
       "      <td>Oct19</td>\n",
       "    </tr>\n",
       "    <tr>\n",
       "      <th>3</th>\n",
       "      <td>Sachsen</td>\n",
       "      <td>ONE_YEAR_FREE</td>\n",
       "      <td>Sachsen</td>\n",
       "      <td>Mittelsachsen_Kreis</td>\n",
       "      <td>Gl&amp;uuml;ck-Auf-Stra&amp;szlig;e</td>\n",
       "      <td>other</td>\n",
       "      <td>Mittelsachsen_Kreis</td>\n",
       "      <td>Freiberg</td>\n",
       "      <td>Abseits von Lärm und Abgasen in Ihre neue Wohn...</td>\n",
       "      <td>May19</td>\n",
       "    </tr>\n",
       "    <tr>\n",
       "      <th>4</th>\n",
       "      <td>Bremen</td>\n",
       "      <td>NaN</td>\n",
       "      <td>Bremen</td>\n",
       "      <td>Bremen</td>\n",
       "      <td>Hermann-Henrich-Meier-Allee</td>\n",
       "      <td>apartment</td>\n",
       "      <td>Bremen</td>\n",
       "      <td>Neu_Schwachhausen</td>\n",
       "      <td>Es handelt sich hier um ein saniertes Mehrfami...</td>\n",
       "      <td>Feb20</td>\n",
       "    </tr>\n",
       "  </tbody>\n",
       "</table>\n",
       "</div>"
      ],
      "text/plain": [
       "                regio1 telekomTvOffer              geo_bln  \\\n",
       "0  Nordrhein_Westfalen  ONE_YEAR_FREE  Nordrhein_Westfalen   \n",
       "1      Rheinland_Pfalz  ONE_YEAR_FREE      Rheinland_Pfalz   \n",
       "2              Sachsen  ONE_YEAR_FREE              Sachsen   \n",
       "3              Sachsen  ONE_YEAR_FREE              Sachsen   \n",
       "4               Bremen            NaN               Bremen   \n",
       "\n",
       "               geo_krs                       street    typeOfFlat  \\\n",
       "0             Dortmund   Sch&uuml;ruferstra&szlig;e  ground_floor   \n",
       "1    Rhein_Pfalz_Kreis               no_information  ground_floor   \n",
       "2              Dresden                    Turnerweg     apartment   \n",
       "3  Mittelsachsen_Kreis  Gl&uuml;ck-Auf-Stra&szlig;e         other   \n",
       "4               Bremen  Hermann-Henrich-Meier-Allee     apartment   \n",
       "\n",
       "                regio2                      regio3  \\\n",
       "0             Dortmund                     Schüren   \n",
       "1    Rhein_Pfalz_Kreis              Böhl_Iggelheim   \n",
       "2              Dresden  Äußere_Neustadt_Antonstadt   \n",
       "3  Mittelsachsen_Kreis                    Freiberg   \n",
       "4               Bremen           Neu_Schwachhausen   \n",
       "\n",
       "                                         description   date  \n",
       "0  Die ebenerdig zu erreichende Erdgeschosswohnun...  May19  \n",
       "1  Alles neu macht der Mai – so kann es auch für ...  May19  \n",
       "2  Der Neubau entsteht im Herzen der Dresdner Neu...  Oct19  \n",
       "3  Abseits von Lärm und Abgasen in Ihre neue Wohn...  May19  \n",
       "4  Es handelt sich hier um ein saniertes Mehrfami...  Feb20  "
      ]
     },
     "execution_count": 62,
     "metadata": {},
     "output_type": "execute_result"
    }
   ],
   "source": [
    "rentalsObj.head()"
   ]
  },
  {
   "cell_type": "code",
   "execution_count": 63,
   "metadata": {},
   "outputs": [
    {
     "data": {
      "text/plain": [
       "regio1                16\n",
       "telekomTvOffer         3\n",
       "geo_bln               16\n",
       "geo_krs              419\n",
       "street             52373\n",
       "typeOfFlat            10\n",
       "regio2               419\n",
       "regio3              8684\n",
       "description       212621\n",
       "date                   4\n",
       "dtype: int64"
      ]
     },
     "execution_count": 63,
     "metadata": {},
     "output_type": "execute_result"
    }
   ],
   "source": [
    "rentalsObj.nunique()"
   ]
  },
  {
   "cell_type": "code",
   "execution_count": 64,
   "metadata": {},
   "outputs": [
    {
     "data": {
      "text/plain": [
       "Nordrhein_Westfalen       62863\n",
       "Sachsen                   58154\n",
       "Bayern                    21609\n",
       "Sachsen_Anhalt            20124\n",
       "Hessen                    17845\n",
       "Niedersachsen             16593\n",
       "Baden_Württemberg         16091\n",
       "Berlin                    10406\n",
       "Thüringen                  8388\n",
       "Rheinland_Pfalz            8368\n",
       "Brandenburg                6954\n",
       "Schleswig_Holstein         6668\n",
       "Mecklenburg_Vorpommern     6634\n",
       "Hamburg                    3759\n",
       "Bremen                     2965\n",
       "Saarland                   1429\n",
       "Name: regio1, dtype: int64"
      ]
     },
     "execution_count": 64,
     "metadata": {},
     "output_type": "execute_result"
    }
   ],
   "source": [
    "#regio1 refers to the state in Germany. There are 16.\n",
    "\n",
    "rentalsObj['regio1'].value_counts() "
   ]
  },
  {
   "cell_type": "code",
   "execution_count": 65,
   "metadata": {
    "scrolled": false
   },
   "outputs": [
    {
     "data": {
      "text/plain": [
       "ONE_YEAR_FREE    227632\n",
       "NONE               4957\n",
       "ON_DEMAND          3642\n",
       "Name: telekomTvOffer, dtype: int64"
      ]
     },
     "execution_count": 65,
     "metadata": {},
     "output_type": "execute_result"
    }
   ],
   "source": [
    "#telekomTvOffer refers to the option of cable service being included with the rent.There are 3 categories. \n",
    "rentalsObj['telekomTvOffer'].value_counts() "
   ]
  },
  {
   "cell_type": "markdown",
   "metadata": {},
   "source": [
    "The data owner noted that geo_bln and regio1 have the same values,as well as geo_krs and regio2.\n",
    "We also observe this from their value counts that are identical. We will confirm this and eliminate redundant features.\n"
   ]
  },
  {
   "cell_type": "code",
   "execution_count": 66,
   "metadata": {},
   "outputs": [
    {
     "data": {
      "text/plain": [
       "0"
      ]
     },
     "execution_count": 66,
     "metadata": {},
     "output_type": "execute_result"
    }
   ],
   "source": [
    "#There are no values that are different between regio1 and geo_bln. \n",
    "#We will drop geo_bln\n",
    "(rentalsObj[\"regio1\"] != rentalsObj['geo_bln']).sum() "
   ]
  },
  {
   "cell_type": "code",
   "execution_count": 67,
   "metadata": {},
   "outputs": [
    {
     "data": {
      "text/plain": [
       "0"
      ]
     },
     "execution_count": 67,
     "metadata": {},
     "output_type": "execute_result"
    }
   ],
   "source": [
    "#There are no values that are different between regio2 and geo_krs. \n",
    "#We will drop geo_krs\n",
    "(rentalsObj[\"regio2\"] != rentalsObj[\"geo_krs\"]).sum()"
   ]
  },
  {
   "cell_type": "code",
   "execution_count": 68,
   "metadata": {},
   "outputs": [
    {
     "data": {
      "text/plain": [
       "apartment              131522\n",
       "roof_storey             34787\n",
       "ground_floor            31538\n",
       "other                    9519\n",
       "maisonette               9319\n",
       "raised_ground_floor      5628\n",
       "penthouse                3568\n",
       "terraced_flat            3385\n",
       "half_basement            2013\n",
       "loft                      957\n",
       "Name: typeOfFlat, dtype: int64"
      ]
     },
     "execution_count": 68,
     "metadata": {},
     "output_type": "execute_result"
    }
   ],
   "source": [
    "#typeOfFlat gives information on the kind of apartment it is. It has 10 categories.\n",
    "rentalsObj['typeOfFlat'].value_counts()"
   ]
  },
  {
   "cell_type": "code",
   "execution_count": 69,
   "metadata": {},
   "outputs": [
    {
     "data": {
      "text/plain": [
       "Innenstadt    4751\n",
       "Stadtmitte    2697\n",
       "Altstadt      2334\n",
       "Sonnenberg    1913\n",
       "Kaßberg       1712\n",
       "Name: regio3, dtype: int64"
      ]
     },
     "execution_count": 69,
     "metadata": {},
     "output_type": "execute_result"
    }
   ],
   "source": [
    "#regio3 refers to the city or town of the apartment\n",
    "#There are over 8600 towns in the dataframe suggesting a high amount of cardinality.\n",
    "\n",
    "rentalsObj['regio3'].value_counts().head()"
   ]
  },
  {
   "cell_type": "code",
   "execution_count": 70,
   "metadata": {
    "scrolled": true
   },
   "outputs": [
    {
     "data": {
      "text/plain": [
       "0    Die ebenerdig zu erreichende Erdgeschosswohnun...\n",
       "1    Alles neu macht der Mai – so kann es auch für ...\n",
       "2    Der Neubau entsteht im Herzen der Dresdner Neu...\n",
       "3    Abseits von Lärm und Abgasen in Ihre neue Wohn...\n",
       "4    Es handelt sich hier um ein saniertes Mehrfami...\n",
       "Name: description, dtype: object"
      ]
     },
     "execution_count": 70,
     "metadata": {},
     "output_type": "execute_result"
    }
   ],
   "source": [
    "#description provides a summary of property details in german. Text analytics is out of scope for this project. \n",
    "#We will drop this column\n",
    "rentalsObj['description'].head()"
   ]
  },
  {
   "cell_type": "code",
   "execution_count": 71,
   "metadata": {
    "scrolled": true
   },
   "outputs": [
    {
     "data": {
      "text/plain": [
       "Feb20    79276\n",
       "May19    76047\n",
       "Oct19    66685\n",
       "Sep18    46842\n",
       "Name: date, dtype: int64"
      ]
     },
     "execution_count": 71,
     "metadata": {},
     "output_type": "execute_result"
    }
   ],
   "source": [
    "#date provides information on when (four dates) the posting was scraped from the web. \n",
    "#The date does not add value to the analysis. We will drop the column\n",
    "rentalsObj['date'].value_counts()"
   ]
  },
  {
   "cell_type": "code",
   "execution_count": 72,
   "metadata": {},
   "outputs": [],
   "source": [
    "#Droping columns\n",
    "rentals.drop(columns = ['geo_bln','geo_krs','street','description', 'date'], inplace = True)"
   ]
  },
  {
   "cell_type": "code",
   "execution_count": 73,
   "metadata": {
    "scrolled": true
   },
   "outputs": [
    {
     "data": {
      "text/plain": [
       "23"
      ]
     },
     "execution_count": 73,
     "metadata": {},
     "output_type": "execute_result"
    }
   ],
   "source": [
    "rentals.shape[1]"
   ]
  },
  {
   "cell_type": "markdown",
   "metadata": {},
   "source": [
    "## Reviewing Numeric Features "
   ]
  },
  {
   "cell_type": "code",
   "execution_count": 74,
   "metadata": {},
   "outputs": [],
   "source": [
    "numerics = ['int16', 'int32', 'int64', 'float16', 'float32', 'float64']\n",
    "\n",
    "rentalsNum= rentals.select_dtypes(include=numerics)"
   ]
  },
  {
   "cell_type": "code",
   "execution_count": 75,
   "metadata": {
    "scrolled": true
   },
   "outputs": [
    {
     "data": {
      "text/html": [
       "<div>\n",
       "<style scoped>\n",
       "    .dataframe tbody tr th:only-of-type {\n",
       "        vertical-align: middle;\n",
       "    }\n",
       "\n",
       "    .dataframe tbody tr th {\n",
       "        vertical-align: top;\n",
       "    }\n",
       "\n",
       "    .dataframe thead th {\n",
       "        text-align: right;\n",
       "    }\n",
       "</style>\n",
       "<table border=\"1\" class=\"dataframe\">\n",
       "  <thead>\n",
       "    <tr style=\"text-align: right;\">\n",
       "      <th></th>\n",
       "      <th>serviceCharge</th>\n",
       "      <th>picturecount</th>\n",
       "      <th>pricetrend</th>\n",
       "      <th>telekomUploadSpeed</th>\n",
       "      <th>scoutId</th>\n",
       "      <th>baseRent</th>\n",
       "      <th>livingSpace</th>\n",
       "      <th>baseRentRange</th>\n",
       "      <th>geo_plz</th>\n",
       "      <th>noRooms</th>\n",
       "      <th>noRoomsRange</th>\n",
       "      <th>livingSpaceRange</th>\n",
       "    </tr>\n",
       "  </thead>\n",
       "  <tbody>\n",
       "    <tr>\n",
       "      <th>0</th>\n",
       "      <td>245.00</td>\n",
       "      <td>6</td>\n",
       "      <td>4.62</td>\n",
       "      <td>10.0</td>\n",
       "      <td>96107057</td>\n",
       "      <td>595.0</td>\n",
       "      <td>86.00</td>\n",
       "      <td>4</td>\n",
       "      <td>44269</td>\n",
       "      <td>4.0</td>\n",
       "      <td>4</td>\n",
       "      <td>4</td>\n",
       "    </tr>\n",
       "    <tr>\n",
       "      <th>1</th>\n",
       "      <td>134.00</td>\n",
       "      <td>8</td>\n",
       "      <td>3.47</td>\n",
       "      <td>10.0</td>\n",
       "      <td>111378734</td>\n",
       "      <td>800.0</td>\n",
       "      <td>89.00</td>\n",
       "      <td>5</td>\n",
       "      <td>67459</td>\n",
       "      <td>3.0</td>\n",
       "      <td>3</td>\n",
       "      <td>4</td>\n",
       "    </tr>\n",
       "    <tr>\n",
       "      <th>2</th>\n",
       "      <td>255.00</td>\n",
       "      <td>8</td>\n",
       "      <td>2.72</td>\n",
       "      <td>2.4</td>\n",
       "      <td>113147523</td>\n",
       "      <td>965.0</td>\n",
       "      <td>83.80</td>\n",
       "      <td>6</td>\n",
       "      <td>1097</td>\n",
       "      <td>3.0</td>\n",
       "      <td>3</td>\n",
       "      <td>4</td>\n",
       "    </tr>\n",
       "    <tr>\n",
       "      <th>3</th>\n",
       "      <td>58.15</td>\n",
       "      <td>9</td>\n",
       "      <td>1.53</td>\n",
       "      <td>40.0</td>\n",
       "      <td>108890903</td>\n",
       "      <td>343.0</td>\n",
       "      <td>58.15</td>\n",
       "      <td>2</td>\n",
       "      <td>9599</td>\n",
       "      <td>3.0</td>\n",
       "      <td>3</td>\n",
       "      <td>2</td>\n",
       "    </tr>\n",
       "    <tr>\n",
       "      <th>4</th>\n",
       "      <td>138.00</td>\n",
       "      <td>19</td>\n",
       "      <td>2.46</td>\n",
       "      <td>NaN</td>\n",
       "      <td>114751222</td>\n",
       "      <td>765.0</td>\n",
       "      <td>84.97</td>\n",
       "      <td>5</td>\n",
       "      <td>28213</td>\n",
       "      <td>3.0</td>\n",
       "      <td>3</td>\n",
       "      <td>4</td>\n",
       "    </tr>\n",
       "  </tbody>\n",
       "</table>\n",
       "</div>"
      ],
      "text/plain": [
       "   serviceCharge  picturecount  pricetrend  telekomUploadSpeed    scoutId  \\\n",
       "0         245.00             6        4.62                10.0   96107057   \n",
       "1         134.00             8        3.47                10.0  111378734   \n",
       "2         255.00             8        2.72                 2.4  113147523   \n",
       "3          58.15             9        1.53                40.0  108890903   \n",
       "4         138.00            19        2.46                 NaN  114751222   \n",
       "\n",
       "   baseRent  livingSpace  baseRentRange  geo_plz  noRooms  noRoomsRange  \\\n",
       "0     595.0        86.00              4    44269      4.0             4   \n",
       "1     800.0        89.00              5    67459      3.0             3   \n",
       "2     965.0        83.80              6     1097      3.0             3   \n",
       "3     343.0        58.15              2     9599      3.0             3   \n",
       "4     765.0        84.97              5    28213      3.0             3   \n",
       "\n",
       "   livingSpaceRange  \n",
       "0                 4  \n",
       "1                 4  \n",
       "2                 4  \n",
       "3                 2  \n",
       "4                 4  "
      ]
     },
     "execution_count": 75,
     "metadata": {},
     "output_type": "execute_result"
    }
   ],
   "source": [
    "rentalsNum.head()"
   ]
  },
  {
   "cell_type": "code",
   "execution_count": 76,
   "metadata": {
    "scrolled": true
   },
   "outputs": [
    {
     "data": {
      "text/html": [
       "<div>\n",
       "<style scoped>\n",
       "    .dataframe tbody tr th:only-of-type {\n",
       "        vertical-align: middle;\n",
       "    }\n",
       "\n",
       "    .dataframe tbody tr th {\n",
       "        vertical-align: top;\n",
       "    }\n",
       "\n",
       "    .dataframe thead th {\n",
       "        text-align: right;\n",
       "    }\n",
       "</style>\n",
       "<table border=\"1\" class=\"dataframe\">\n",
       "  <thead>\n",
       "    <tr style=\"text-align: right;\">\n",
       "      <th></th>\n",
       "      <th>count</th>\n",
       "      <th>mean</th>\n",
       "      <th>std</th>\n",
       "      <th>min</th>\n",
       "      <th>25%</th>\n",
       "      <th>50%</th>\n",
       "      <th>75%</th>\n",
       "      <th>max</th>\n",
       "    </tr>\n",
       "  </thead>\n",
       "  <tbody>\n",
       "    <tr>\n",
       "      <th>serviceCharge</th>\n",
       "      <td>261941.0</td>\n",
       "      <td>1.512061e+02</td>\n",
       "      <td>3.082958e+02</td>\n",
       "      <td>0.00</td>\n",
       "      <td>95.0</td>\n",
       "      <td>1.350000e+02</td>\n",
       "      <td>1.900000e+02</td>\n",
       "      <td>1.461180e+05</td>\n",
       "    </tr>\n",
       "    <tr>\n",
       "      <th>picturecount</th>\n",
       "      <td>268850.0</td>\n",
       "      <td>9.791958e+00</td>\n",
       "      <td>6.408399e+00</td>\n",
       "      <td>0.00</td>\n",
       "      <td>6.0</td>\n",
       "      <td>9.000000e+00</td>\n",
       "      <td>1.300000e+01</td>\n",
       "      <td>1.210000e+02</td>\n",
       "    </tr>\n",
       "    <tr>\n",
       "      <th>pricetrend</th>\n",
       "      <td>267018.0</td>\n",
       "      <td>3.389001e+00</td>\n",
       "      <td>1.964874e+00</td>\n",
       "      <td>-12.33</td>\n",
       "      <td>2.0</td>\n",
       "      <td>3.390000e+00</td>\n",
       "      <td>4.570000e+00</td>\n",
       "      <td>1.492000e+01</td>\n",
       "    </tr>\n",
       "    <tr>\n",
       "      <th>telekomUploadSpeed</th>\n",
       "      <td>235492.0</td>\n",
       "      <td>2.880493e+01</td>\n",
       "      <td>1.633715e+01</td>\n",
       "      <td>1.00</td>\n",
       "      <td>10.0</td>\n",
       "      <td>4.000000e+01</td>\n",
       "      <td>4.000000e+01</td>\n",
       "      <td>1.000000e+02</td>\n",
       "    </tr>\n",
       "    <tr>\n",
       "      <th>scoutId</th>\n",
       "      <td>268850.0</td>\n",
       "      <td>1.069697e+08</td>\n",
       "      <td>1.250093e+07</td>\n",
       "      <td>28871743.00</td>\n",
       "      <td>106691034.0</td>\n",
       "      <td>1.111584e+08</td>\n",
       "      <td>1.137688e+08</td>\n",
       "      <td>1.157117e+08</td>\n",
       "    </tr>\n",
       "    <tr>\n",
       "      <th>baseRent</th>\n",
       "      <td>268850.0</td>\n",
       "      <td>6.941294e+02</td>\n",
       "      <td>1.953602e+04</td>\n",
       "      <td>0.00</td>\n",
       "      <td>338.0</td>\n",
       "      <td>4.900000e+02</td>\n",
       "      <td>7.990000e+02</td>\n",
       "      <td>9.999999e+06</td>\n",
       "    </tr>\n",
       "    <tr>\n",
       "      <th>livingSpace</th>\n",
       "      <td>268850.0</td>\n",
       "      <td>7.435555e+01</td>\n",
       "      <td>2.547592e+02</td>\n",
       "      <td>0.00</td>\n",
       "      <td>54.0</td>\n",
       "      <td>6.732000e+01</td>\n",
       "      <td>8.700000e+01</td>\n",
       "      <td>1.111110e+05</td>\n",
       "    </tr>\n",
       "    <tr>\n",
       "      <th>baseRentRange</th>\n",
       "      <td>268850.0</td>\n",
       "      <td>3.765256e+00</td>\n",
       "      <td>2.214357e+00</td>\n",
       "      <td>1.00</td>\n",
       "      <td>2.0</td>\n",
       "      <td>3.000000e+00</td>\n",
       "      <td>5.000000e+00</td>\n",
       "      <td>9.000000e+00</td>\n",
       "    </tr>\n",
       "    <tr>\n",
       "      <th>geo_plz</th>\n",
       "      <td>268850.0</td>\n",
       "      <td>3.728302e+04</td>\n",
       "      <td>2.779804e+04</td>\n",
       "      <td>852.00</td>\n",
       "      <td>9128.0</td>\n",
       "      <td>3.866700e+04</td>\n",
       "      <td>5.707200e+04</td>\n",
       "      <td>9.999800e+04</td>\n",
       "    </tr>\n",
       "    <tr>\n",
       "      <th>noRooms</th>\n",
       "      <td>268850.0</td>\n",
       "      <td>2.641261e+00</td>\n",
       "      <td>2.633440e+00</td>\n",
       "      <td>1.00</td>\n",
       "      <td>2.0</td>\n",
       "      <td>3.000000e+00</td>\n",
       "      <td>3.000000e+00</td>\n",
       "      <td>9.999900e+02</td>\n",
       "    </tr>\n",
       "    <tr>\n",
       "      <th>noRoomsRange</th>\n",
       "      <td>268850.0</td>\n",
       "      <td>2.571542e+00</td>\n",
       "      <td>9.375940e-01</td>\n",
       "      <td>1.00</td>\n",
       "      <td>2.0</td>\n",
       "      <td>3.000000e+00</td>\n",
       "      <td>3.000000e+00</td>\n",
       "      <td>5.000000e+00</td>\n",
       "    </tr>\n",
       "    <tr>\n",
       "      <th>livingSpaceRange</th>\n",
       "      <td>268850.0</td>\n",
       "      <td>3.070790e+00</td>\n",
       "      <td>1.407127e+00</td>\n",
       "      <td>1.00</td>\n",
       "      <td>2.0</td>\n",
       "      <td>3.000000e+00</td>\n",
       "      <td>4.000000e+00</td>\n",
       "      <td>7.000000e+00</td>\n",
       "    </tr>\n",
       "  </tbody>\n",
       "</table>\n",
       "</div>"
      ],
      "text/plain": [
       "                       count          mean           std          min  \\\n",
       "serviceCharge       261941.0  1.512061e+02  3.082958e+02         0.00   \n",
       "picturecount        268850.0  9.791958e+00  6.408399e+00         0.00   \n",
       "pricetrend          267018.0  3.389001e+00  1.964874e+00       -12.33   \n",
       "telekomUploadSpeed  235492.0  2.880493e+01  1.633715e+01         1.00   \n",
       "scoutId             268850.0  1.069697e+08  1.250093e+07  28871743.00   \n",
       "baseRent            268850.0  6.941294e+02  1.953602e+04         0.00   \n",
       "livingSpace         268850.0  7.435555e+01  2.547592e+02         0.00   \n",
       "baseRentRange       268850.0  3.765256e+00  2.214357e+00         1.00   \n",
       "geo_plz             268850.0  3.728302e+04  2.779804e+04       852.00   \n",
       "noRooms             268850.0  2.641261e+00  2.633440e+00         1.00   \n",
       "noRoomsRange        268850.0  2.571542e+00  9.375940e-01         1.00   \n",
       "livingSpaceRange    268850.0  3.070790e+00  1.407127e+00         1.00   \n",
       "\n",
       "                            25%           50%           75%           max  \n",
       "serviceCharge              95.0  1.350000e+02  1.900000e+02  1.461180e+05  \n",
       "picturecount                6.0  9.000000e+00  1.300000e+01  1.210000e+02  \n",
       "pricetrend                  2.0  3.390000e+00  4.570000e+00  1.492000e+01  \n",
       "telekomUploadSpeed         10.0  4.000000e+01  4.000000e+01  1.000000e+02  \n",
       "scoutId             106691034.0  1.111584e+08  1.137688e+08  1.157117e+08  \n",
       "baseRent                  338.0  4.900000e+02  7.990000e+02  9.999999e+06  \n",
       "livingSpace                54.0  6.732000e+01  8.700000e+01  1.111110e+05  \n",
       "baseRentRange               2.0  3.000000e+00  5.000000e+00  9.000000e+00  \n",
       "geo_plz                  9128.0  3.866700e+04  5.707200e+04  9.999800e+04  \n",
       "noRooms                     2.0  3.000000e+00  3.000000e+00  9.999900e+02  \n",
       "noRoomsRange                2.0  3.000000e+00  3.000000e+00  5.000000e+00  \n",
       "livingSpaceRange            2.0  3.000000e+00  4.000000e+00  7.000000e+00  "
      ]
     },
     "execution_count": 76,
     "metadata": {},
     "output_type": "execute_result"
    }
   ],
   "source": [
    "rentalsNum.describe().T"
   ]
  },
  {
   "cell_type": "code",
   "execution_count": 77,
   "metadata": {
    "scrolled": false
   },
   "outputs": [
    {
     "data": {
      "image/png": "[encoded data removed]",
      "text/plain": [
       "<Figure size 1080x720 with 12 Axes>"
      ]
     },
     "metadata": {
      "needs_background": "light"
     },
     "output_type": "display_data"
    }
   ],
   "source": [
    "rentalsNum.hist(figsize = (15, 10))\n",
    "plt.subplots_adjust(hspace= 0.5)\n"
   ]
  },
  {
   "cell_type": "markdown",
   "metadata": {},
   "source": [
    "We note the following information from the data owner:\n",
    "- scoutId is an identifier for each rental listing. It has no relevance for analysis. This will be dropped.\n",
    "- pricetrend is metric determined by the data owner. There is no visibility to what this means. This will be dropped.\n",
    "- geo_plz should be an object because it is the zip code of each property\n",
    "- noRoomsRange is the histogram bin number corresponding to the noRooms. This is additional information we do not need. This will be dropped.\n",
    "- livngSpaceRange is the historgram bin number corresponding to livingSpace. This is additional information we do not need. This will be dropped.\n",
    "- baseRentRange is the historgram bin number corresponding to baseRent. This is additional information we do not need. This will be dropped."
   ]
  },
  {
   "cell_type": "code",
   "execution_count": 78,
   "metadata": {
    "scrolled": true
   },
   "outputs": [
    {
     "name": "stderr",
     "output_type": "stream",
     "text": [
      "C:\\Users\\zebin\\anaconda3\\lib\\site-packages\\pandas\\core\\frame.py:3990: SettingWithCopyWarning: \n",
      "A value is trying to be set on a copy of a slice from a DataFrame\n",
      "\n",
      "See the caveats in the documentation: https://pandas.pydata.org/pandas-docs/stable/user_guide/indexing.html#returning-a-view-versus-a-copy\n",
      "  return super().drop(\n"
     ]
    }
   ],
   "source": [
    "rentalsNum.drop(columns = ['pricetrend','geo_plz','scoutId','noRoomsRange', 'livingSpaceRange', 'baseRentRange'], inplace = True)"
   ]
  },
  {
   "cell_type": "code",
   "execution_count": 79,
   "metadata": {
    "scrolled": true
   },
   "outputs": [
    {
     "data": {
      "image/png": "[encoded data removed]",
      "text/plain": [
       "<Figure size 432x288 with 1 Axes>"
      ]
     },
     "metadata": {
      "needs_background": "light"
     },
     "output_type": "display_data"
    }
   ],
   "source": [
    "_= sns.boxplot(x = 'baseRent', data = rentalsNum)\n",
    "#We observe high monthly rent rates, going to 10bln euros. For now, we will restrict max rent to 50,000 euros\n",
    "# and min rent to 50 euros"
   ]
  },
  {
   "cell_type": "code",
   "execution_count": 80,
   "metadata": {},
   "outputs": [
    {
     "data": {
      "image/png": "[encoded data removed]",
      "text/plain": [
       "<Figure size 432x288 with 1 Axes>"
      ]
     },
     "metadata": {
      "needs_background": "light"
     },
     "output_type": "display_data"
    }
   ],
   "source": [
    "_= sns.boxplot(x = 'livingSpace', data = rentalsNum)  \n",
    "#We observe units with large sizes. We will restrict the max unit area to 1000 sqm and min area to 10 sqm (parking lot). "
   ]
  },
  {
   "cell_type": "code",
   "execution_count": 81,
   "metadata": {},
   "outputs": [
    {
     "data": {
      "image/png": "[encoded data removed]",
      "text/plain": [
       "<Figure size 432x288 with 1 Axes>"
      ]
     },
     "metadata": {
      "needs_background": "light"
     },
     "output_type": "display_data"
    }
   ],
   "source": [
    "_= sns.boxplot(x = 'noRooms', data = rentalsNum)\n",
    "#We observe units with many rooms. For now, we will restrict max number of rooms to 100 and min number of rooms to 1. "
   ]
  },
  {
   "cell_type": "code",
   "execution_count": 82,
   "metadata": {},
   "outputs": [
    {
     "data": {
      "image/png": "[encoded data removed]",
      "text/plain": [
       "<Figure size 432x288 with 1 Axes>"
      ]
     },
     "metadata": {
      "needs_background": "light"
     },
     "output_type": "display_data"
    }
   ],
   "source": [
    "_= sns.boxplot(x = 'picturecount', data = rentalsNum)\n",
    "#We will restrict number of pictures to 50"
   ]
  },
  {
   "cell_type": "code",
   "execution_count": 83,
   "metadata": {},
   "outputs": [
    {
     "data": {
      "image/png": "[encoded data removed]",
      "text/plain": [
       "<Figure size 432x288 with 1 Axes>"
      ]
     },
     "metadata": {
      "needs_background": "light"
     },
     "output_type": "display_data"
    }
   ],
   "source": [
    "_= sns.boxplot(x = 'serviceCharge', data = rentalsNum)\n",
    "#For now,we will restrict max serviceCharge to 10,000 euros"
   ]
  },
  {
   "cell_type": "code",
   "execution_count": 84,
   "metadata": {
    "scrolled": true
   },
   "outputs": [
    {
     "data": {
      "image/png": "[encoded data removed]",
      "text/plain": [
       "<Figure size 432x288 with 1 Axes>"
      ]
     },
     "metadata": {
      "needs_background": "light"
     },
     "output_type": "display_data"
    }
   ],
   "source": [
    "_= sns.boxplot(x = 'telekomUploadSpeed', data = rentalsNum)"
   ]
  },
  {
   "cell_type": "code",
   "execution_count": 85,
   "metadata": {},
   "outputs": [],
   "source": [
    "#Adding the restrictions \n",
    "rent = (rentalsNum.baseRent > 50) & (rentalsNum.baseRent < 4000)\n",
    "space = (rentalsNum.livingSpace > 10) & (rentalsNum.livingSpace < 300)\n",
    "rooms = (rentalsNum.noRooms > 1) & (rentalsNum.noRooms < 10)\n",
    "pictures = (rentalsNum.picturecount < 50)\n",
    "charge = (rentalsNum.serviceCharge < 1000)\n",
    "selectRows = rent & space & rooms & pictures & charge"
   ]
  },
  {
   "cell_type": "code",
   "execution_count": 86,
   "metadata": {},
   "outputs": [],
   "source": [
    "#Including only select rows in our numeric dataframe\n",
    "rentalsNum = rentalsNum[selectRows]"
   ]
  },
  {
   "cell_type": "code",
   "execution_count": 87,
   "metadata": {
    "scrolled": true
   },
   "outputs": [
    {
     "data": {
      "image/png": "[encoded data removed]",
      "text/plain": [
       "<Figure size 1080x720 with 6 Axes>"
      ]
     },
     "metadata": {
      "needs_background": "light"
     },
     "output_type": "display_data"
    }
   ],
   "source": [
    "rentalsNum.hist(figsize = (15, 10))\n",
    "plt.subplots_adjust(hspace= 0.5)"
   ]
  },
  {
   "cell_type": "code",
   "execution_count": 88,
   "metadata": {},
   "outputs": [],
   "source": [
    "#Including only select rows in our main dataframe\n",
    "rentals = rentals[selectRows]"
   ]
  },
  {
   "cell_type": "code",
   "execution_count": 89,
   "metadata": {},
   "outputs": [],
   "source": [
    "#Dropping aforementioned columns\n",
    "rentals.drop(columns = ['pricetrend','scoutId','noRoomsRange','livingSpaceRange', 'baseRentRange'], inplace = True)"
   ]
  },
  {
   "cell_type": "code",
   "execution_count": 90,
   "metadata": {},
   "outputs": [],
   "source": [
    "#Converting geo_plz to string\n",
    "rentals['geo_plz'] = rentals['geo_plz'].astype(str)"
   ]
  },
  {
   "cell_type": "code",
   "execution_count": 91,
   "metadata": {
    "scrolled": true
   },
   "outputs": [
    {
     "name": "stdout",
     "output_type": "stream",
     "text": [
      "<class 'pandas.core.frame.DataFrame'>\n",
      "Int64Index: 234171 entries, 0 to 268849\n",
      "Data columns (total 18 columns):\n",
      " #   Column              Non-Null Count   Dtype  \n",
      "---  ------              --------------   -----  \n",
      " 0   regio1              234171 non-null  object \n",
      " 1   serviceCharge       234171 non-null  float64\n",
      " 2   telekomTvOffer      206247 non-null  object \n",
      " 3   newlyConst          234171 non-null  bool   \n",
      " 4   balcony             234171 non-null  bool   \n",
      " 5   picturecount        234171 non-null  int64  \n",
      " 6   telekomUploadSpeed  205591 non-null  float64\n",
      " 7   hasKitchen          234171 non-null  bool   \n",
      " 8   cellar              234171 non-null  bool   \n",
      " 9   baseRent            234171 non-null  float64\n",
      " 10  livingSpace         234171 non-null  float64\n",
      " 11  lift                234171 non-null  bool   \n",
      " 12  typeOfFlat          203935 non-null  object \n",
      " 13  geo_plz             234171 non-null  object \n",
      " 14  noRooms             234171 non-null  float64\n",
      " 15  garden              234171 non-null  bool   \n",
      " 16  regio2              234171 non-null  object \n",
      " 17  regio3              234171 non-null  object \n",
      "dtypes: bool(6), float64(5), int64(1), object(6)\n",
      "memory usage: 24.6+ MB\n"
     ]
    }
   ],
   "source": [
    "rentals.info()\n",
    "\n"
   ]
  },
  {
   "cell_type": "code",
   "execution_count": 92,
   "metadata": {},
   "outputs": [
    {
     "data": {
      "text/html": [
       "<div>\n",
       "<style scoped>\n",
       "    .dataframe tbody tr th:only-of-type {\n",
       "        vertical-align: middle;\n",
       "    }\n",
       "\n",
       "    .dataframe tbody tr th {\n",
       "        vertical-align: top;\n",
       "    }\n",
       "\n",
       "    .dataframe thead th {\n",
       "        text-align: right;\n",
       "    }\n",
       "</style>\n",
       "<table border=\"1\" class=\"dataframe\">\n",
       "  <thead>\n",
       "    <tr style=\"text-align: right;\">\n",
       "      <th></th>\n",
       "      <th>regio1</th>\n",
       "      <th>serviceCharge</th>\n",
       "      <th>telekomTvOffer</th>\n",
       "      <th>newlyConst</th>\n",
       "      <th>balcony</th>\n",
       "      <th>picturecount</th>\n",
       "      <th>telekomUploadSpeed</th>\n",
       "      <th>hasKitchen</th>\n",
       "      <th>cellar</th>\n",
       "      <th>baseRent</th>\n",
       "      <th>livingSpace</th>\n",
       "      <th>lift</th>\n",
       "      <th>typeOfFlat</th>\n",
       "      <th>geo_plz</th>\n",
       "      <th>noRooms</th>\n",
       "      <th>garden</th>\n",
       "      <th>regio2</th>\n",
       "      <th>regio3</th>\n",
       "    </tr>\n",
       "  </thead>\n",
       "  <tbody>\n",
       "    <tr>\n",
       "      <th>0</th>\n",
       "      <td>Nordrhein_Westfalen</td>\n",
       "      <td>245.00</td>\n",
       "      <td>ONE_YEAR_FREE</td>\n",
       "      <td>False</td>\n",
       "      <td>False</td>\n",
       "      <td>6</td>\n",
       "      <td>10.0</td>\n",
       "      <td>False</td>\n",
       "      <td>True</td>\n",
       "      <td>595.0</td>\n",
       "      <td>86.00</td>\n",
       "      <td>False</td>\n",
       "      <td>ground_floor</td>\n",
       "      <td>44269</td>\n",
       "      <td>4.0</td>\n",
       "      <td>True</td>\n",
       "      <td>Dortmund</td>\n",
       "      <td>Schüren</td>\n",
       "    </tr>\n",
       "    <tr>\n",
       "      <th>1</th>\n",
       "      <td>Rheinland_Pfalz</td>\n",
       "      <td>134.00</td>\n",
       "      <td>ONE_YEAR_FREE</td>\n",
       "      <td>False</td>\n",
       "      <td>True</td>\n",
       "      <td>8</td>\n",
       "      <td>10.0</td>\n",
       "      <td>False</td>\n",
       "      <td>False</td>\n",
       "      <td>800.0</td>\n",
       "      <td>89.00</td>\n",
       "      <td>False</td>\n",
       "      <td>ground_floor</td>\n",
       "      <td>67459</td>\n",
       "      <td>3.0</td>\n",
       "      <td>False</td>\n",
       "      <td>Rhein_Pfalz_Kreis</td>\n",
       "      <td>Böhl_Iggelheim</td>\n",
       "    </tr>\n",
       "    <tr>\n",
       "      <th>2</th>\n",
       "      <td>Sachsen</td>\n",
       "      <td>255.00</td>\n",
       "      <td>ONE_YEAR_FREE</td>\n",
       "      <td>True</td>\n",
       "      <td>True</td>\n",
       "      <td>8</td>\n",
       "      <td>2.4</td>\n",
       "      <td>False</td>\n",
       "      <td>True</td>\n",
       "      <td>965.0</td>\n",
       "      <td>83.80</td>\n",
       "      <td>True</td>\n",
       "      <td>apartment</td>\n",
       "      <td>1097</td>\n",
       "      <td>3.0</td>\n",
       "      <td>False</td>\n",
       "      <td>Dresden</td>\n",
       "      <td>Äußere_Neustadt_Antonstadt</td>\n",
       "    </tr>\n",
       "    <tr>\n",
       "      <th>3</th>\n",
       "      <td>Sachsen</td>\n",
       "      <td>58.15</td>\n",
       "      <td>ONE_YEAR_FREE</td>\n",
       "      <td>False</td>\n",
       "      <td>True</td>\n",
       "      <td>9</td>\n",
       "      <td>40.0</td>\n",
       "      <td>False</td>\n",
       "      <td>False</td>\n",
       "      <td>343.0</td>\n",
       "      <td>58.15</td>\n",
       "      <td>False</td>\n",
       "      <td>other</td>\n",
       "      <td>9599</td>\n",
       "      <td>3.0</td>\n",
       "      <td>False</td>\n",
       "      <td>Mittelsachsen_Kreis</td>\n",
       "      <td>Freiberg</td>\n",
       "    </tr>\n",
       "    <tr>\n",
       "      <th>4</th>\n",
       "      <td>Bremen</td>\n",
       "      <td>138.00</td>\n",
       "      <td>NaN</td>\n",
       "      <td>False</td>\n",
       "      <td>True</td>\n",
       "      <td>19</td>\n",
       "      <td>NaN</td>\n",
       "      <td>False</td>\n",
       "      <td>False</td>\n",
       "      <td>765.0</td>\n",
       "      <td>84.97</td>\n",
       "      <td>False</td>\n",
       "      <td>apartment</td>\n",
       "      <td>28213</td>\n",
       "      <td>3.0</td>\n",
       "      <td>False</td>\n",
       "      <td>Bremen</td>\n",
       "      <td>Neu_Schwachhausen</td>\n",
       "    </tr>\n",
       "  </tbody>\n",
       "</table>\n",
       "</div>"
      ],
      "text/plain": [
       "                regio1  serviceCharge telekomTvOffer  newlyConst  balcony  \\\n",
       "0  Nordrhein_Westfalen         245.00  ONE_YEAR_FREE       False    False   \n",
       "1      Rheinland_Pfalz         134.00  ONE_YEAR_FREE       False     True   \n",
       "2              Sachsen         255.00  ONE_YEAR_FREE        True     True   \n",
       "3              Sachsen          58.15  ONE_YEAR_FREE       False     True   \n",
       "4               Bremen         138.00            NaN       False     True   \n",
       "\n",
       "   picturecount  telekomUploadSpeed  hasKitchen  cellar  baseRent  \\\n",
       "0             6                10.0       False    True     595.0   \n",
       "1             8                10.0       False   False     800.0   \n",
       "2             8                 2.4       False    True     965.0   \n",
       "3             9                40.0       False   False     343.0   \n",
       "4            19                 NaN       False   False     765.0   \n",
       "\n",
       "   livingSpace   lift    typeOfFlat geo_plz  noRooms  garden  \\\n",
       "0        86.00  False  ground_floor   44269      4.0    True   \n",
       "1        89.00  False  ground_floor   67459      3.0   False   \n",
       "2        83.80   True     apartment    1097      3.0   False   \n",
       "3        58.15  False         other    9599      3.0   False   \n",
       "4        84.97  False     apartment   28213      3.0   False   \n",
       "\n",
       "                regio2                      regio3  \n",
       "0             Dortmund                     Schüren  \n",
       "1    Rhein_Pfalz_Kreis              Böhl_Iggelheim  \n",
       "2              Dresden  Äußere_Neustadt_Antonstadt  \n",
       "3  Mittelsachsen_Kreis                    Freiberg  \n",
       "4               Bremen           Neu_Schwachhausen  "
      ]
     },
     "execution_count": 92,
     "metadata": {},
     "output_type": "execute_result"
    }
   ],
   "source": [
    "rentals.head()"
   ]
  },
  {
   "cell_type": "code",
   "execution_count": 93,
   "metadata": {},
   "outputs": [],
   "source": [
    "datapath = 'C:\\\\Users\\\\zebin\\\\OneDrive\\\\Documents\\\\Education\\\\Data Science\\\\Springboard - Data Science\\\\Capstones\\\\Capstone_2\\\\german_apartment_rentals\\\\data\\\\processed'\n",
    "# renaming the output data directory and re-running this notebook, for example,\n",
    "# will recreate this (empty) directory and resave the data files.\n",
    "# NB this is not a substitute for a modern data pipeline, for which there are\n",
    "# various tools. However, for our purposes here, and often in a \"one off\" analysis,\n",
    "# this is useful because we have to deliberately move/delete our data in order\n",
    "# to overwrite it.\n",
    "if not os.path.exists(datapath):\n",
    "    os.mkdir(datapath)"
   ]
  },
  {
   "cell_type": "code",
   "execution_count": 94,
   "metadata": {},
   "outputs": [],
   "source": [
    "datapath_rentals = os.path.join(datapath, 'rentals_cleaned.csv')\n",
    "if not os.path.exists(datapath_rentals):\n",
    "    rentals.to_csv(datapath_rentals, index=False)"
   ]
  }
 ],
 "metadata": {
  "kernelspec": {
   "display_name": "Python 3",
   "language": "python",
   "name": "python3"
  },
  "language_info": {
   "codemirror_mode": {
    "name": "ipython",
    "version": 3
   },
   "file_extension": ".py",
   "mimetype": "text/x-python",
   "name": "python",
   "nbconvert_exporter": "python",
   "pygments_lexer": "ipython3",
   "version": "3.8.3"
  }
 },
 "nbformat": 4,
 "nbformat_minor": 4
}
